{
 "cells": [
  {
   "cell_type": "code",
   "execution_count": 18,
   "id": "86a7aa2d-0aa9-4dad-9fd2-755b4d90f296",
   "metadata": {},
   "outputs": [],
   "source": [
    "from sklearn.pipeline import make_pipeline\n",
    "from sklearn.pipeline import make_union \n",
    "from sklearn.compose import make_column_transformer\n",
    "from sklearn.compose import make_column_selector\n",
    "from sklearn.preprocessing import FunctionTransformer\n",
    "from sklearn.preprocessing import StandardScaler\n",
    "from scipy.signal import stft \n",
    "from scipy.signal import butter\n",
    "from librosa.feature import mfcc"
   ]
  },
  {
   "cell_type": "code",
   "execution_count": 6,
   "id": "62c7eadf-fa2c-45e3-a89d-ebe4de252423",
   "metadata": {},
   "outputs": [],
   "source": [
    "#Spectograms, short-time Fourier Transform\n",
    "stft_transform = FunctionTransformer(stft)"
   ]
  },
  {
   "cell_type": "code",
   "execution_count": 16,
   "id": "4244e256-a426-4681-84d7-9e569acae8b0",
   "metadata": {},
   "outputs": [],
   "source": [
    "#bandpass filtering\n",
    "band_filter = FunctionTransformer(butter)"
   ]
  },
  {
   "cell_type": "code",
   "execution_count": 9,
   "id": "e96c1ca7-8e47-430c-91b6-efe6a8ebabe6",
   "metadata": {},
   "outputs": [],
   "source": [
    "#Scaling, sklearn, StandardScaler\n",
    "scaler = make_pipeline(StandardScaler())"
   ]
  },
  {
   "cell_type": "code",
   "execution_count": 19,
   "id": "171d37f0-f784-4e54-8843-5cc06e8014a8",
   "metadata": {},
   "outputs": [],
   "source": [
    "#MFCC (librosa), params: n_coeff\n",
    "mfcc_feat = FunctionTransformer(mfcc)"
   ]
  },
  {
   "cell_type": "code",
   "execution_count": null,
   "id": "bb9e95ad-4fde-4508-b617-75c80b9b6f36",
   "metadata": {},
   "outputs": [],
   "source": [
    "#Mean along the x-axis(time) (by hand) "
   ]
  },
  {
   "cell_type": "code",
   "execution_count": 12,
   "id": "769447a2-05a7-4697-9f6e-6f758a9af7d6",
   "metadata": {},
   "outputs": [],
   "source": [
    "preproc = make_column_transformer(\n",
    "            (scaler, make_column_selector(dtype_include=['float64'])),\n",
    "            remainder='passthrough')"
   ]
  },
  {
   "cell_type": "code",
   "execution_count": 20,
   "id": "7868e3cd-2eac-415d-81b6-2bebb4e6fc31",
   "metadata": {},
   "outputs": [],
   "source": [
    "preproc_full = make_union(stft_transform, band_filter, \n",
    "                          preproc, mfcc_feat)"
   ]
  },
  {
   "cell_type": "code",
   "execution_count": 21,
   "id": "3e81abbd-1e9b-4632-8998-ebb23b850fe1",
   "metadata": {},
   "outputs": [],
   "source": [
    "pipe = make_pipeline(preproc_full)"
   ]
  },
  {
   "cell_type": "code",
   "execution_count": 24,
   "id": "d289eb72-bea9-4468-8b4c-3aa068ac9fb3",
   "metadata": {},
   "outputs": [
    {
     "data": {
      "text/plain": [
       "{'memory': None,\n",
       " 'steps': [('featureunion',\n",
       "   FeatureUnion(transformer_list=[('functiontransformer-1',\n",
       "                                   FunctionTransformer(func=<function stft at 0x145ab8b80>)),\n",
       "                                  ('functiontransformer-2',\n",
       "                                   FunctionTransformer(func=<function butter at 0x145a6d820>)),\n",
       "                                  ('columntransformer',\n",
       "                                   ColumnTransformer(remainder='passthrough',\n",
       "                                                     transformers=[('pipeline',\n",
       "                                                                    Pipeline(steps=[('standardscaler',\n",
       "                                                                                     StandardScaler())]),\n",
       "                                                                    <sklearn.compose._column_transformer.make_column_selector object at 0x1539bb970>)])),\n",
       "                                  ('functiontransformer-3',\n",
       "                                   FunctionTransformer(func=<function mfcc at 0x14709ab80>))]))],\n",
       " 'verbose': False,\n",
       " 'featureunion': FeatureUnion(transformer_list=[('functiontransformer-1',\n",
       "                                 FunctionTransformer(func=<function stft at 0x145ab8b80>)),\n",
       "                                ('functiontransformer-2',\n",
       "                                 FunctionTransformer(func=<function butter at 0x145a6d820>)),\n",
       "                                ('columntransformer',\n",
       "                                 ColumnTransformer(remainder='passthrough',\n",
       "                                                   transformers=[('pipeline',\n",
       "                                                                  Pipeline(steps=[('standardscaler',\n",
       "                                                                                   StandardScaler())]),\n",
       "                                                                  <sklearn.compose._column_transformer.make_column_selector object at 0x1539bb970>)])),\n",
       "                                ('functiontransformer-3',\n",
       "                                 FunctionTransformer(func=<function mfcc at 0x14709ab80>))]),\n",
       " 'featureunion__n_jobs': None,\n",
       " 'featureunion__transformer_list': [('functiontransformer-1',\n",
       "   FunctionTransformer(func=<function stft at 0x145ab8b80>)),\n",
       "  ('functiontransformer-2',\n",
       "   FunctionTransformer(func=<function butter at 0x145a6d820>)),\n",
       "  ('columntransformer',\n",
       "   ColumnTransformer(remainder='passthrough',\n",
       "                     transformers=[('pipeline',\n",
       "                                    Pipeline(steps=[('standardscaler',\n",
       "                                                     StandardScaler())]),\n",
       "                                    <sklearn.compose._column_transformer.make_column_selector object at 0x1539bb970>)])),\n",
       "  ('functiontransformer-3',\n",
       "   FunctionTransformer(func=<function mfcc at 0x14709ab80>))],\n",
       " 'featureunion__transformer_weights': None,\n",
       " 'featureunion__verbose': False,\n",
       " 'featureunion__functiontransformer-1': FunctionTransformer(func=<function stft at 0x145ab8b80>),\n",
       " 'featureunion__functiontransformer-2': FunctionTransformer(func=<function butter at 0x145a6d820>),\n",
       " 'featureunion__columntransformer': ColumnTransformer(remainder='passthrough',\n",
       "                   transformers=[('pipeline',\n",
       "                                  Pipeline(steps=[('standardscaler',\n",
       "                                                   StandardScaler())]),\n",
       "                                  <sklearn.compose._column_transformer.make_column_selector object at 0x1539bb970>)]),\n",
       " 'featureunion__functiontransformer-3': FunctionTransformer(func=<function mfcc at 0x14709ab80>),\n",
       " 'featureunion__functiontransformer-1__accept_sparse': False,\n",
       " 'featureunion__functiontransformer-1__check_inverse': True,\n",
       " 'featureunion__functiontransformer-1__feature_names_out': None,\n",
       " 'featureunion__functiontransformer-1__func': <function scipy.signal._spectral_py.stft(x, fs=1.0, window='hann', nperseg=256, noverlap=None, nfft=None, detrend=False, return_onesided=True, boundary='zeros', padded=True, axis=-1, scaling='spectrum')>,\n",
       " 'featureunion__functiontransformer-1__inv_kw_args': None,\n",
       " 'featureunion__functiontransformer-1__inverse_func': None,\n",
       " 'featureunion__functiontransformer-1__kw_args': None,\n",
       " 'featureunion__functiontransformer-1__validate': False,\n",
       " 'featureunion__functiontransformer-2__accept_sparse': False,\n",
       " 'featureunion__functiontransformer-2__check_inverse': True,\n",
       " 'featureunion__functiontransformer-2__feature_names_out': None,\n",
       " 'featureunion__functiontransformer-2__func': <function scipy.signal._filter_design.butter(N, Wn, btype='low', analog=False, output='ba', fs=None)>,\n",
       " 'featureunion__functiontransformer-2__inv_kw_args': None,\n",
       " 'featureunion__functiontransformer-2__inverse_func': None,\n",
       " 'featureunion__functiontransformer-2__kw_args': None,\n",
       " 'featureunion__functiontransformer-2__validate': False,\n",
       " 'featureunion__columntransformer__n_jobs': None,\n",
       " 'featureunion__columntransformer__remainder': 'passthrough',\n",
       " 'featureunion__columntransformer__sparse_threshold': 0.3,\n",
       " 'featureunion__columntransformer__transformer_weights': None,\n",
       " 'featureunion__columntransformer__transformers': [('pipeline',\n",
       "   Pipeline(steps=[('standardscaler', StandardScaler())]),\n",
       "   <sklearn.compose._column_transformer.make_column_selector at 0x1539bb970>)],\n",
       " 'featureunion__columntransformer__verbose': False,\n",
       " 'featureunion__columntransformer__verbose_feature_names_out': True,\n",
       " 'featureunion__columntransformer__pipeline': Pipeline(steps=[('standardscaler', StandardScaler())]),\n",
       " 'featureunion__columntransformer__pipeline__memory': None,\n",
       " 'featureunion__columntransformer__pipeline__steps': [('standardscaler',\n",
       "   StandardScaler())],\n",
       " 'featureunion__columntransformer__pipeline__verbose': False,\n",
       " 'featureunion__columntransformer__pipeline__standardscaler': StandardScaler(),\n",
       " 'featureunion__columntransformer__pipeline__standardscaler__copy': True,\n",
       " 'featureunion__columntransformer__pipeline__standardscaler__with_mean': True,\n",
       " 'featureunion__columntransformer__pipeline__standardscaler__with_std': True,\n",
       " 'featureunion__functiontransformer-3__accept_sparse': False,\n",
       " 'featureunion__functiontransformer-3__check_inverse': True,\n",
       " 'featureunion__functiontransformer-3__feature_names_out': None,\n",
       " 'featureunion__functiontransformer-3__func': <function librosa.feature.spectral.mfcc(*, y=None, sr=22050, S=None, n_mfcc=20, dct_type=2, norm='ortho', lifter=0, **kwargs)>,\n",
       " 'featureunion__functiontransformer-3__inv_kw_args': None,\n",
       " 'featureunion__functiontransformer-3__inverse_func': None,\n",
       " 'featureunion__functiontransformer-3__kw_args': None,\n",
       " 'featureunion__functiontransformer-3__validate': False}"
      ]
     },
     "execution_count": 24,
     "metadata": {},
     "output_type": "execute_result"
    }
   ],
   "source": [
    "pipe.get_params()"
   ]
  },
  {
   "cell_type": "code",
   "execution_count": null,
   "id": "cd5312ab-0a24-4601-bfdb-535cbce1fc08",
   "metadata": {},
   "outputs": [],
   "source": [
    "params = {}"
   ]
  }
 ],
 "metadata": {
  "kernelspec": {
   "display_name": "Python 3 (ipykernel)",
   "language": "python",
   "name": "python3"
  },
  "language_info": {
   "codemirror_mode": {
    "name": "ipython",
    "version": 3
   },
   "file_extension": ".py",
   "mimetype": "text/x-python",
   "name": "python",
   "nbconvert_exporter": "python",
   "pygments_lexer": "ipython3",
   "version": "3.8.13"
  }
 },
 "nbformat": 4,
 "nbformat_minor": 5
}
