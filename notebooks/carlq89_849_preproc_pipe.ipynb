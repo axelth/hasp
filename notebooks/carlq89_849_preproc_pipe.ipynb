{
 "cells": [
  {
   "cell_type": "code",
   "execution_count": 1,
   "id": "86a7aa2d-0aa9-4dad-9fd2-755b4d90f296",
   "metadata": {},
   "outputs": [
    {
     "name": "stderr",
     "output_type": "stream",
     "text": [
      "OMP: Info #276: omp_set_nested routine deprecated, please use omp_set_max_active_levels instead.\n"
     ]
    }
   ],
   "source": [
    "from sklearn.pipeline import make_pipeline\n",
    "from sklearn.pipeline import make_union \n",
    "from sklearn.compose import make_column_transformer\n",
    "from sklearn.compose import make_column_selector\n",
    "from sklearn.preprocessing import FunctionTransformer\n",
    "from sklearn.preprocessing import StandardScaler\n",
    "from scipy.signal import stft \n",
    "from scipy.signal import butter\n",
    "from librosa.feature import mfcc"
   ]
  },
  {
   "cell_type": "code",
   "execution_count": 6,
   "id": "62c7eadf-fa2c-45e3-a89d-ebe4de252423",
   "metadata": {},
   "outputs": [],
   "source": [
    "#Spectograms, short-time Fourier Transform\n",
    "stft_transform = FunctionTransformer(stft, kw_args={'window':'hann', 'nfft':None})"
   ]
  },
  {
   "cell_type": "code",
   "execution_count": 8,
   "id": "4244e256-a426-4681-84d7-9e569acae8b0",
   "metadata": {},
   "outputs": [],
   "source": [
    "#bandpass filtering\n",
    "band_filter = FunctionTransformer(butter, kw_args={'N':1, 'btype':['low', 'high']})"
   ]
  },
  {
   "cell_type": "code",
   "execution_count": 13,
   "id": "e96c1ca7-8e47-430c-91b6-efe6a8ebabe6",
   "metadata": {},
   "outputs": [],
   "source": [
    "#Scaling, sklearn, StandardScaler\n",
    "scaler = make_pipeline(StandardScaler())"
   ]
  },
  {
   "cell_type": "code",
   "execution_count": 10,
   "id": "171d37f0-f784-4e54-8843-5cc06e8014a8",
   "metadata": {},
   "outputs": [],
   "source": [
    "#MFCC (librosa), params: n_coeff\n",
    "mfcc_feat = FunctionTransformer(mfcc, kw_args={'n_mfcc':20})"
   ]
  },
  {
   "cell_type": "code",
   "execution_count": 11,
   "id": "a95a47de",
   "metadata": {},
   "outputs": [
    {
     "data": {
      "text/plain": [
       "{'accept_sparse': False,\n",
       " 'check_inverse': True,\n",
       " 'feature_names_out': None,\n",
       " 'func': <function librosa.feature.spectral.mfcc(*, y=None, sr=22050, S=None, n_mfcc=20, dct_type=2, norm='ortho', lifter=0, **kwargs)>,\n",
       " 'inv_kw_args': None,\n",
       " 'inverse_func': None,\n",
       " 'kw_args': {'n_mfcc': 20},\n",
       " 'validate': False}"
      ]
     },
     "execution_count": 11,
     "metadata": {},
     "output_type": "execute_result"
    }
   ],
   "source": [
    "mfcc_feat.get_params()"
   ]
  },
  {
   "cell_type": "code",
   "execution_count": null,
   "id": "bb9e95ad-4fde-4508-b617-75c80b9b6f36",
   "metadata": {},
   "outputs": [],
   "source": [
    "#Mean along the x-axis(time) (by hand) \n"
   ]
  },
  {
   "cell_type": "code",
   "execution_count": 14,
   "id": "769447a2-05a7-4697-9f6e-6f758a9af7d6",
   "metadata": {},
   "outputs": [],
   "source": [
    "preproc = make_column_transformer(\n",
    "            (scaler, make_column_selector(dtype_include=['float64'])),\n",
    "            remainder='passthrough')"
   ]
  },
  {
   "cell_type": "code",
   "execution_count": 15,
   "id": "3e81abbd-1e9b-4632-8998-ebb23b850fe1",
   "metadata": {},
   "outputs": [],
   "source": [
    "pipe = make_pipeline(stft_transform, \n",
    "                     band_filter, \n",
    "                     preproc, \n",
    "                     mfcc_feat)"
   ]
  },
  {
   "cell_type": "code",
   "execution_count": 18,
   "id": "d289eb72-bea9-4468-8b4c-3aa068ac9fb3",
   "metadata": {
    "collapsed": true
   },
   "outputs": [
    {
     "data": {
      "text/plain": [
       "{'memory': None,\n",
       " 'steps': [('functiontransformer-1',\n",
       "   FunctionTransformer(func=<function stft at 0x13f99a1f0>,\n",
       "                       kw_args={'nfft': None, 'window': 'hann'})),\n",
       "  ('functiontransformer-2',\n",
       "   FunctionTransformer(func=<function butter at 0x13f8f6e50>,\n",
       "                       kw_args={'N': 1, 'btype': ['low', 'high']})),\n",
       "  ('columntransformer',\n",
       "   ColumnTransformer(remainder='passthrough',\n",
       "                     transformers=[('pipeline',\n",
       "                                    Pipeline(steps=[('standardscaler',\n",
       "                                                     StandardScaler())]),\n",
       "                                    <sklearn.compose._column_transformer.make_column_selector object at 0x14dfc41f0>)])),\n",
       "  ('functiontransformer-3',\n",
       "   FunctionTransformer(func=<function mfcc at 0x141ee6160>, kw_args={'n_mfcc': 20}))],\n",
       " 'verbose': False,\n",
       " 'functiontransformer-1': FunctionTransformer(func=<function stft at 0x13f99a1f0>,\n",
       "                     kw_args={'nfft': None, 'window': 'hann'}),\n",
       " 'functiontransformer-2': FunctionTransformer(func=<function butter at 0x13f8f6e50>,\n",
       "                     kw_args={'N': 1, 'btype': ['low', 'high']}),\n",
       " 'columntransformer': ColumnTransformer(remainder='passthrough',\n",
       "                   transformers=[('pipeline',\n",
       "                                  Pipeline(steps=[('standardscaler',\n",
       "                                                   StandardScaler())]),\n",
       "                                  <sklearn.compose._column_transformer.make_column_selector object at 0x14dfc41f0>)]),\n",
       " 'functiontransformer-3': FunctionTransformer(func=<function mfcc at 0x141ee6160>, kw_args={'n_mfcc': 20}),\n",
       " 'functiontransformer-1__accept_sparse': False,\n",
       " 'functiontransformer-1__check_inverse': True,\n",
       " 'functiontransformer-1__feature_names_out': None,\n",
       " 'functiontransformer-1__func': <function scipy.signal._spectral_py.stft(x, fs=1.0, window='hann', nperseg=256, noverlap=None, nfft=None, detrend=False, return_onesided=True, boundary='zeros', padded=True, axis=-1, scaling='spectrum')>,\n",
       " 'functiontransformer-1__inv_kw_args': None,\n",
       " 'functiontransformer-1__inverse_func': None,\n",
       " 'functiontransformer-1__kw_args': {'window': 'hann', 'nfft': None},\n",
       " 'functiontransformer-1__validate': False,\n",
       " 'functiontransformer-2__accept_sparse': False,\n",
       " 'functiontransformer-2__check_inverse': True,\n",
       " 'functiontransformer-2__feature_names_out': None,\n",
       " 'functiontransformer-2__func': <function scipy.signal._filter_design.butter(N, Wn, btype='low', analog=False, output='ba', fs=None)>,\n",
       " 'functiontransformer-2__inv_kw_args': None,\n",
       " 'functiontransformer-2__inverse_func': None,\n",
       " 'functiontransformer-2__kw_args': {'N': 1, 'btype': ['low', 'high']},\n",
       " 'functiontransformer-2__validate': False,\n",
       " 'columntransformer__n_jobs': None,\n",
       " 'columntransformer__remainder': 'passthrough',\n",
       " 'columntransformer__sparse_threshold': 0.3,\n",
       " 'columntransformer__transformer_weights': None,\n",
       " 'columntransformer__transformers': [('pipeline',\n",
       "   Pipeline(steps=[('standardscaler', StandardScaler())]),\n",
       "   <sklearn.compose._column_transformer.make_column_selector at 0x14dfc41f0>)],\n",
       " 'columntransformer__verbose': False,\n",
       " 'columntransformer__verbose_feature_names_out': True,\n",
       " 'columntransformer__pipeline': Pipeline(steps=[('standardscaler', StandardScaler())]),\n",
       " 'columntransformer__pipeline__memory': None,\n",
       " 'columntransformer__pipeline__steps': [('standardscaler', StandardScaler())],\n",
       " 'columntransformer__pipeline__verbose': False,\n",
       " 'columntransformer__pipeline__standardscaler': StandardScaler(),\n",
       " 'columntransformer__pipeline__standardscaler__copy': True,\n",
       " 'columntransformer__pipeline__standardscaler__with_mean': True,\n",
       " 'columntransformer__pipeline__standardscaler__with_std': True,\n",
       " 'functiontransformer-3__accept_sparse': False,\n",
       " 'functiontransformer-3__check_inverse': True,\n",
       " 'functiontransformer-3__feature_names_out': None,\n",
       " 'functiontransformer-3__func': <function librosa.feature.spectral.mfcc(*, y=None, sr=22050, S=None, n_mfcc=20, dct_type=2, norm='ortho', lifter=0, **kwargs)>,\n",
       " 'functiontransformer-3__inv_kw_args': None,\n",
       " 'functiontransformer-3__inverse_func': None,\n",
       " 'functiontransformer-3__kw_args': {'n_mfcc': 20},\n",
       " 'functiontransformer-3__validate': False}"
      ]
     },
     "execution_count": 18,
     "metadata": {},
     "output_type": "execute_result"
    }
   ],
   "source": [
    "pipe.get_params()"
   ]
  },
  {
   "cell_type": "code",
   "execution_count": null,
   "id": "cd5312ab-0a24-4601-bfdb-535cbce1fc08",
   "metadata": {},
   "outputs": [],
   "source": [
    "#params dictionary, keyword = name of the steps in pipeline, values = params\n",
    "params = {'stft_transform': 'functiontransformer-1__kw_args', \n",
    "         'band_filter': 'functiontransformer-2__kw_args', \n",
    "         'mfcc_feat': 'functiontransformer-3__kw_args', \n",
    "         }"
   ]
  }
 ],
 "metadata": {
  "kernelspec": {
   "display_name": "Python 3 (ipykernel)",
   "language": "python",
   "name": "python3"
  },
  "language_info": {
   "codemirror_mode": {
    "name": "ipython",
    "version": 3
   },
   "file_extension": ".py",
   "mimetype": "text/x-python",
   "name": "python",
   "nbconvert_exporter": "python",
   "pygments_lexer": "ipython3",
   "version": "3.8.13"
  },
  "toc": {
   "base_numbering": 1,
   "nav_menu": {},
   "number_sections": true,
   "sideBar": true,
   "skip_h1_title": false,
   "title_cell": "Table of Contents",
   "title_sidebar": "Contents",
   "toc_cell": false,
   "toc_position": {},
   "toc_section_display": true,
   "toc_window_display": false
  }
 },
 "nbformat": 4,
 "nbformat_minor": 5
}
