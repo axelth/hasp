{
 "cells": [
  {
   "cell_type": "code",
   "execution_count": 1,
   "metadata": {},
   "outputs": [
    {
     "name": "stderr",
     "output_type": "stream",
     "text": [
      "OMP: Info #276: omp_set_nested routine deprecated, please use omp_set_max_active_levels instead.\n"
     ]
    }
   ],
   "source": [
    "from hasp.make_feature_pipeline import make_feature_pipeline\n",
    "from sklearn.pipeline import Pipeline"
   ]
  },
  {
   "cell_type": "markdown",
   "metadata": {},
   "source": [
    "## Data"
   ]
  },
  {
   "cell_type": "code",
   "execution_count": 2,
   "metadata": {},
   "outputs": [],
   "source": [
    "from us8kdata.loader import UrbanSound8K\n",
    "data = UrbanSound8K('../hasp/data')\n"
   ]
  },
  {
   "cell_type": "code",
   "execution_count": 3,
   "metadata": {},
   "outputs": [],
   "source": [
    "train_fold = [samples for samples in data.fold_audio_generator(fold=[1, 2])]#, 3, 6, 7, 8, 9, 10])]\n",
    "val_fold = [samples for samples in data.fold_audio_generator(fold=[4])]\n",
    "test_fold = [samples for samples in data.fold_audio_generator(fold=[5])]\n"
   ]
  },
  {
   "cell_type": "code",
   "execution_count": 4,
   "metadata": {},
   "outputs": [],
   "source": [
    "train_y = data.filter_metadata(fold=[1, 2]).classID\n",
    "val_y = data.filter_metadata(fold=[4]).classID\n",
    "test_y = data.filter_metadata(fold=[5]).classID"
   ]
  },
  {
   "cell_type": "markdown",
   "metadata": {},
   "source": [
    "## Training Pipeline"
   ]
  },
  {
   "cell_type": "code",
   "execution_count": 5,
   "metadata": {},
   "outputs": [],
   "source": [
    "pipe = make_feature_pipeline()\n"
   ]
  },
  {
   "cell_type": "code",
   "execution_count": 6,
   "metadata": {},
   "outputs": [],
   "source": [
    "from sklearn.ensemble import RandomForestClassifier"
   ]
  },
  {
   "cell_type": "markdown",
   "metadata": {},
   "source": [
    "RandomForestClassifier by deafult criterion='gini'"
   ]
  },
  {
   "cell_type": "code",
   "execution_count": 7,
   "metadata": {},
   "outputs": [],
   "source": [
    "full_pipe = Pipeline([\n",
    "    ('preproc', pipe),\n",
    "    ('rand_forest', RandomForestClassifier())\n",
    "])"
   ]
  },
  {
   "cell_type": "code",
   "execution_count": 8,
   "metadata": {},
   "outputs": [
    {
     "data": {
      "text/html": [
       "<style>#sk-container-id-1 {color: black;background-color: white;}#sk-container-id-1 pre{padding: 0;}#sk-container-id-1 div.sk-toggleable {background-color: white;}#sk-container-id-1 label.sk-toggleable__label {cursor: pointer;display: block;width: 100%;margin-bottom: 0;padding: 0.3em;box-sizing: border-box;text-align: center;}#sk-container-id-1 label.sk-toggleable__label-arrow:before {content: \"▸\";float: left;margin-right: 0.25em;color: #696969;}#sk-container-id-1 label.sk-toggleable__label-arrow:hover:before {color: black;}#sk-container-id-1 div.sk-estimator:hover label.sk-toggleable__label-arrow:before {color: black;}#sk-container-id-1 div.sk-toggleable__content {max-height: 0;max-width: 0;overflow: hidden;text-align: left;background-color: #f0f8ff;}#sk-container-id-1 div.sk-toggleable__content pre {margin: 0.2em;color: black;border-radius: 0.25em;background-color: #f0f8ff;}#sk-container-id-1 input.sk-toggleable__control:checked~div.sk-toggleable__content {max-height: 200px;max-width: 100%;overflow: auto;}#sk-container-id-1 input.sk-toggleable__control:checked~label.sk-toggleable__label-arrow:before {content: \"▾\";}#sk-container-id-1 div.sk-estimator input.sk-toggleable__control:checked~label.sk-toggleable__label {background-color: #d4ebff;}#sk-container-id-1 div.sk-label input.sk-toggleable__control:checked~label.sk-toggleable__label {background-color: #d4ebff;}#sk-container-id-1 input.sk-hidden--visually {border: 0;clip: rect(1px 1px 1px 1px);clip: rect(1px, 1px, 1px, 1px);height: 1px;margin: -1px;overflow: hidden;padding: 0;position: absolute;width: 1px;}#sk-container-id-1 div.sk-estimator {font-family: monospace;background-color: #f0f8ff;border: 1px dotted black;border-radius: 0.25em;box-sizing: border-box;margin-bottom: 0.5em;}#sk-container-id-1 div.sk-estimator:hover {background-color: #d4ebff;}#sk-container-id-1 div.sk-parallel-item::after {content: \"\";width: 100%;border-bottom: 1px solid gray;flex-grow: 1;}#sk-container-id-1 div.sk-label:hover label.sk-toggleable__label {background-color: #d4ebff;}#sk-container-id-1 div.sk-serial::before {content: \"\";position: absolute;border-left: 1px solid gray;box-sizing: border-box;top: 0;bottom: 0;left: 50%;z-index: 0;}#sk-container-id-1 div.sk-serial {display: flex;flex-direction: column;align-items: center;background-color: white;padding-right: 0.2em;padding-left: 0.2em;position: relative;}#sk-container-id-1 div.sk-item {position: relative;z-index: 1;}#sk-container-id-1 div.sk-parallel {display: flex;align-items: stretch;justify-content: center;background-color: white;position: relative;}#sk-container-id-1 div.sk-item::before, #sk-container-id-1 div.sk-parallel-item::before {content: \"\";position: absolute;border-left: 1px solid gray;box-sizing: border-box;top: 0;bottom: 0;left: 50%;z-index: -1;}#sk-container-id-1 div.sk-parallel-item {display: flex;flex-direction: column;z-index: 1;position: relative;background-color: white;}#sk-container-id-1 div.sk-parallel-item:first-child::after {align-self: flex-end;width: 50%;}#sk-container-id-1 div.sk-parallel-item:last-child::after {align-self: flex-start;width: 50%;}#sk-container-id-1 div.sk-parallel-item:only-child::after {width: 0;}#sk-container-id-1 div.sk-dashed-wrapped {border: 1px dashed gray;margin: 0 0.4em 0.5em 0.4em;box-sizing: border-box;padding-bottom: 0.4em;background-color: white;}#sk-container-id-1 div.sk-label label {font-family: monospace;font-weight: bold;display: inline-block;line-height: 1.2em;}#sk-container-id-1 div.sk-label-container {text-align: center;}#sk-container-id-1 div.sk-container {/* jupyter's `normalize.less` sets `[hidden] { display: none; }` but bootstrap.min.css set `[hidden] { display: none !important; }` so we also need the `!important` here to be able to override the default hidden behavior on the sphinx rendered scikit-learn.org. See: https://github.com/scikit-learn/scikit-learn/issues/21755 */display: inline-block !important;position: relative;}#sk-container-id-1 div.sk-text-repr-fallback {display: none;}</style><div id=\"sk-container-id-1\" class=\"sk-top-container\"><div class=\"sk-text-repr-fallback\"><pre>Pipeline(steps=[(&#x27;preproc&#x27;,\n",
       "                 Pipeline(steps=[(&#x27;mean_mfcc&#x27;,\n",
       "                                  FunctionTransformer(func=&lt;function samples_to_mean_mfcc at 0x110dab790&gt;,\n",
       "                                                      kw_args={&#x27;fmax&#x27;: None,\n",
       "                                                               &#x27;fmin&#x27;: 0.0,\n",
       "                                                               &#x27;hop_length&#x27;: 128,\n",
       "                                                               &#x27;n_fft&#x27;: 512,\n",
       "                                                               &#x27;n_mfcc&#x27;: 20,\n",
       "                                                               &#x27;sr&#x27;: 16000})),\n",
       "                                 (&#x27;scaler&#x27;, StandardScaler())])),\n",
       "                (&#x27;rand_forest&#x27;, RandomForestClassifier())])</pre><b>In a Jupyter environment, please rerun this cell to show the HTML representation or trust the notebook. <br />On GitHub, the HTML representation is unable to render, please try loading this page with nbviewer.org.</b></div><div class=\"sk-container\" hidden><div class=\"sk-item sk-dashed-wrapped\"><div class=\"sk-label-container\"><div class=\"sk-label sk-toggleable\"><input class=\"sk-toggleable__control sk-hidden--visually\" id=\"sk-estimator-id-1\" type=\"checkbox\" ><label for=\"sk-estimator-id-1\" class=\"sk-toggleable__label sk-toggleable__label-arrow\">Pipeline</label><div class=\"sk-toggleable__content\"><pre>Pipeline(steps=[(&#x27;preproc&#x27;,\n",
       "                 Pipeline(steps=[(&#x27;mean_mfcc&#x27;,\n",
       "                                  FunctionTransformer(func=&lt;function samples_to_mean_mfcc at 0x110dab790&gt;,\n",
       "                                                      kw_args={&#x27;fmax&#x27;: None,\n",
       "                                                               &#x27;fmin&#x27;: 0.0,\n",
       "                                                               &#x27;hop_length&#x27;: 128,\n",
       "                                                               &#x27;n_fft&#x27;: 512,\n",
       "                                                               &#x27;n_mfcc&#x27;: 20,\n",
       "                                                               &#x27;sr&#x27;: 16000})),\n",
       "                                 (&#x27;scaler&#x27;, StandardScaler())])),\n",
       "                (&#x27;rand_forest&#x27;, RandomForestClassifier())])</pre></div></div></div><div class=\"sk-serial\"><div class=\"sk-item\"><div class=\"sk-label-container\"><div class=\"sk-label sk-toggleable\"><input class=\"sk-toggleable__control sk-hidden--visually\" id=\"sk-estimator-id-2\" type=\"checkbox\" ><label for=\"sk-estimator-id-2\" class=\"sk-toggleable__label sk-toggleable__label-arrow\">preproc: Pipeline</label><div class=\"sk-toggleable__content\"><pre>Pipeline(steps=[(&#x27;mean_mfcc&#x27;,\n",
       "                 FunctionTransformer(func=&lt;function samples_to_mean_mfcc at 0x110dab790&gt;,\n",
       "                                     kw_args={&#x27;fmax&#x27;: None, &#x27;fmin&#x27;: 0.0,\n",
       "                                              &#x27;hop_length&#x27;: 128, &#x27;n_fft&#x27;: 512,\n",
       "                                              &#x27;n_mfcc&#x27;: 20, &#x27;sr&#x27;: 16000})),\n",
       "                (&#x27;scaler&#x27;, StandardScaler())])</pre></div></div></div><div class=\"sk-serial\"><div class=\"sk-item\"><div class=\"sk-estimator sk-toggleable\"><input class=\"sk-toggleable__control sk-hidden--visually\" id=\"sk-estimator-id-3\" type=\"checkbox\" ><label for=\"sk-estimator-id-3\" class=\"sk-toggleable__label sk-toggleable__label-arrow\">FunctionTransformer</label><div class=\"sk-toggleable__content\"><pre>FunctionTransformer(func=&lt;function samples_to_mean_mfcc at 0x110dab790&gt;,\n",
       "                    kw_args={&#x27;fmax&#x27;: None, &#x27;fmin&#x27;: 0.0, &#x27;hop_length&#x27;: 128,\n",
       "                             &#x27;n_fft&#x27;: 512, &#x27;n_mfcc&#x27;: 20, &#x27;sr&#x27;: 16000})</pre></div></div></div><div class=\"sk-item\"><div class=\"sk-estimator sk-toggleable\"><input class=\"sk-toggleable__control sk-hidden--visually\" id=\"sk-estimator-id-4\" type=\"checkbox\" ><label for=\"sk-estimator-id-4\" class=\"sk-toggleable__label sk-toggleable__label-arrow\">StandardScaler</label><div class=\"sk-toggleable__content\"><pre>StandardScaler()</pre></div></div></div></div></div><div class=\"sk-item\"><div class=\"sk-estimator sk-toggleable\"><input class=\"sk-toggleable__control sk-hidden--visually\" id=\"sk-estimator-id-5\" type=\"checkbox\" ><label for=\"sk-estimator-id-5\" class=\"sk-toggleable__label sk-toggleable__label-arrow\">RandomForestClassifier</label><div class=\"sk-toggleable__content\"><pre>RandomForestClassifier()</pre></div></div></div></div></div></div></div>"
      ],
      "text/plain": [
       "Pipeline(steps=[('preproc',\n",
       "                 Pipeline(steps=[('mean_mfcc',\n",
       "                                  FunctionTransformer(func=<function samples_to_mean_mfcc at 0x110dab790>,\n",
       "                                                      kw_args={'fmax': None,\n",
       "                                                               'fmin': 0.0,\n",
       "                                                               'hop_length': 128,\n",
       "                                                               'n_fft': 512,\n",
       "                                                               'n_mfcc': 20,\n",
       "                                                               'sr': 16000})),\n",
       "                                 ('scaler', StandardScaler())])),\n",
       "                ('rand_forest', RandomForestClassifier())])"
      ]
     },
     "execution_count": 8,
     "metadata": {},
     "output_type": "execute_result"
    }
   ],
   "source": [
    "full_pipe.fit(train_fold, train_y)"
   ]
  },
  {
   "cell_type": "code",
   "execution_count": 9,
   "metadata": {},
   "outputs": [],
   "source": [
    "pred_y = full_pipe.predict(val_fold)"
   ]
  },
  {
   "cell_type": "markdown",
   "metadata": {},
   "source": [
    "## Performance"
   ]
  },
  {
   "cell_type": "code",
   "execution_count": 10,
   "metadata": {},
   "outputs": [],
   "source": [
    "from sklearn.metrics import classification_report, confusion_matrix"
   ]
  },
  {
   "cell_type": "code",
   "execution_count": 11,
   "metadata": {},
   "outputs": [
    {
     "name": "stdout",
     "output_type": "stream",
     "text": [
      "              precision    recall  f1-score   support\n",
      "\n",
      "           0       0.71      0.12      0.21       100\n",
      "           1       0.83      0.17      0.28        59\n",
      "           2       0.22      0.35      0.27       100\n",
      "           3       0.33      0.74      0.46       100\n",
      "           4       0.49      0.55      0.52       100\n",
      "           5       0.55      0.24      0.34       107\n",
      "           6       0.86      0.32      0.46        38\n",
      "           7       0.39      0.30      0.34       120\n",
      "           8       0.66      0.35      0.46       166\n",
      "           9       0.24      0.55      0.34       100\n",
      "\n",
      "    accuracy                           0.38       990\n",
      "   macro avg       0.53      0.37      0.37       990\n",
      "weighted avg       0.50      0.38      0.37       990\n",
      "\n"
     ]
    }
   ],
   "source": [
    "print(classification_report(val_y, pred_y))"
   ]
  },
  {
   "cell_type": "code",
   "execution_count": 12,
   "metadata": {},
   "outputs": [
    {
     "name": "stdout",
     "output_type": "stream",
     "text": [
      "[[12  0 38  0 26  3  0  0  3 18]\n",
      " [ 0 10  4  5  4  2  0  6  1 27]\n",
      " [ 0  0 35 30  7  0  1  5  1 21]\n",
      " [ 0  0  8 74  8  0  1  1  3  5]\n",
      " [ 0  0  6  6 55  1  0 27  0  5]\n",
      " [ 3  0 23 12  0 26  0 14 18 11]\n",
      " [ 0  0  6  9  0  0 12  3  0  8]\n",
      " [ 1  0 13  0  3 10  0 36  2 55]\n",
      " [ 0  0  8 69  7  2  0  0 58 22]\n",
      " [ 1  2 15 20  2  3  0  0  2 55]]\n"
     ]
    }
   ],
   "source": [
    "print(confusion_matrix(val_y, pred_y))"
   ]
  },
  {
   "cell_type": "markdown",
   "metadata": {},
   "source": [
    "## Comparing with model of different criterion (When criterion='entropy')"
   ]
  },
  {
   "cell_type": "code",
   "execution_count": 68,
   "metadata": {},
   "outputs": [],
   "source": [
    "full_pipe1 = Pipeline([\n",
    "    ('preproc', pipe),\n",
    "    ('model', RandomForestClassifier(criterion='entropy'))\n",
    "])"
   ]
  },
  {
   "cell_type": "code",
   "execution_count": 69,
   "metadata": {},
   "outputs": [
    {
     "data": {
      "text/html": [
       "<style>#sk-container-id-9 {color: black;background-color: white;}#sk-container-id-9 pre{padding: 0;}#sk-container-id-9 div.sk-toggleable {background-color: white;}#sk-container-id-9 label.sk-toggleable__label {cursor: pointer;display: block;width: 100%;margin-bottom: 0;padding: 0.3em;box-sizing: border-box;text-align: center;}#sk-container-id-9 label.sk-toggleable__label-arrow:before {content: \"▸\";float: left;margin-right: 0.25em;color: #696969;}#sk-container-id-9 label.sk-toggleable__label-arrow:hover:before {color: black;}#sk-container-id-9 div.sk-estimator:hover label.sk-toggleable__label-arrow:before {color: black;}#sk-container-id-9 div.sk-toggleable__content {max-height: 0;max-width: 0;overflow: hidden;text-align: left;background-color: #f0f8ff;}#sk-container-id-9 div.sk-toggleable__content pre {margin: 0.2em;color: black;border-radius: 0.25em;background-color: #f0f8ff;}#sk-container-id-9 input.sk-toggleable__control:checked~div.sk-toggleable__content {max-height: 200px;max-width: 100%;overflow: auto;}#sk-container-id-9 input.sk-toggleable__control:checked~label.sk-toggleable__label-arrow:before {content: \"▾\";}#sk-container-id-9 div.sk-estimator input.sk-toggleable__control:checked~label.sk-toggleable__label {background-color: #d4ebff;}#sk-container-id-9 div.sk-label input.sk-toggleable__control:checked~label.sk-toggleable__label {background-color: #d4ebff;}#sk-container-id-9 input.sk-hidden--visually {border: 0;clip: rect(1px 1px 1px 1px);clip: rect(1px, 1px, 1px, 1px);height: 1px;margin: -1px;overflow: hidden;padding: 0;position: absolute;width: 1px;}#sk-container-id-9 div.sk-estimator {font-family: monospace;background-color: #f0f8ff;border: 1px dotted black;border-radius: 0.25em;box-sizing: border-box;margin-bottom: 0.5em;}#sk-container-id-9 div.sk-estimator:hover {background-color: #d4ebff;}#sk-container-id-9 div.sk-parallel-item::after {content: \"\";width: 100%;border-bottom: 1px solid gray;flex-grow: 1;}#sk-container-id-9 div.sk-label:hover label.sk-toggleable__label {background-color: #d4ebff;}#sk-container-id-9 div.sk-serial::before {content: \"\";position: absolute;border-left: 1px solid gray;box-sizing: border-box;top: 0;bottom: 0;left: 50%;z-index: 0;}#sk-container-id-9 div.sk-serial {display: flex;flex-direction: column;align-items: center;background-color: white;padding-right: 0.2em;padding-left: 0.2em;position: relative;}#sk-container-id-9 div.sk-item {position: relative;z-index: 1;}#sk-container-id-9 div.sk-parallel {display: flex;align-items: stretch;justify-content: center;background-color: white;position: relative;}#sk-container-id-9 div.sk-item::before, #sk-container-id-9 div.sk-parallel-item::before {content: \"\";position: absolute;border-left: 1px solid gray;box-sizing: border-box;top: 0;bottom: 0;left: 50%;z-index: -1;}#sk-container-id-9 div.sk-parallel-item {display: flex;flex-direction: column;z-index: 1;position: relative;background-color: white;}#sk-container-id-9 div.sk-parallel-item:first-child::after {align-self: flex-end;width: 50%;}#sk-container-id-9 div.sk-parallel-item:last-child::after {align-self: flex-start;width: 50%;}#sk-container-id-9 div.sk-parallel-item:only-child::after {width: 0;}#sk-container-id-9 div.sk-dashed-wrapped {border: 1px dashed gray;margin: 0 0.4em 0.5em 0.4em;box-sizing: border-box;padding-bottom: 0.4em;background-color: white;}#sk-container-id-9 div.sk-label label {font-family: monospace;font-weight: bold;display: inline-block;line-height: 1.2em;}#sk-container-id-9 div.sk-label-container {text-align: center;}#sk-container-id-9 div.sk-container {/* jupyter's `normalize.less` sets `[hidden] { display: none; }` but bootstrap.min.css set `[hidden] { display: none !important; }` so we also need the `!important` here to be able to override the default hidden behavior on the sphinx rendered scikit-learn.org. See: https://github.com/scikit-learn/scikit-learn/issues/21755 */display: inline-block !important;position: relative;}#sk-container-id-9 div.sk-text-repr-fallback {display: none;}</style><div id=\"sk-container-id-9\" class=\"sk-top-container\"><div class=\"sk-text-repr-fallback\"><pre>Pipeline(steps=[(&#x27;preproc&#x27;,\n",
       "                 Pipeline(steps=[(&#x27;mean_mfcc&#x27;,\n",
       "                                  FunctionTransformer(func=&lt;function samples_to_mean_mfcc at 0x110dab790&gt;,\n",
       "                                                      kw_args={&#x27;fmax&#x27;: None,\n",
       "                                                               &#x27;fmin&#x27;: 0.0,\n",
       "                                                               &#x27;hop_length&#x27;: 128,\n",
       "                                                               &#x27;n_fft&#x27;: 512,\n",
       "                                                               &#x27;n_mfcc&#x27;: 20,\n",
       "                                                               &#x27;sr&#x27;: 16000})),\n",
       "                                 (&#x27;scaler&#x27;, StandardScaler())])),\n",
       "                (&#x27;model&#x27;, RandomForestClassifier(criterion=&#x27;entropy&#x27;))])</pre><b>In a Jupyter environment, please rerun this cell to show the HTML representation or trust the notebook. <br />On GitHub, the HTML representation is unable to render, please try loading this page with nbviewer.org.</b></div><div class=\"sk-container\" hidden><div class=\"sk-item sk-dashed-wrapped\"><div class=\"sk-label-container\"><div class=\"sk-label sk-toggleable\"><input class=\"sk-toggleable__control sk-hidden--visually\" id=\"sk-estimator-id-33\" type=\"checkbox\" ><label for=\"sk-estimator-id-33\" class=\"sk-toggleable__label sk-toggleable__label-arrow\">Pipeline</label><div class=\"sk-toggleable__content\"><pre>Pipeline(steps=[(&#x27;preproc&#x27;,\n",
       "                 Pipeline(steps=[(&#x27;mean_mfcc&#x27;,\n",
       "                                  FunctionTransformer(func=&lt;function samples_to_mean_mfcc at 0x110dab790&gt;,\n",
       "                                                      kw_args={&#x27;fmax&#x27;: None,\n",
       "                                                               &#x27;fmin&#x27;: 0.0,\n",
       "                                                               &#x27;hop_length&#x27;: 128,\n",
       "                                                               &#x27;n_fft&#x27;: 512,\n",
       "                                                               &#x27;n_mfcc&#x27;: 20,\n",
       "                                                               &#x27;sr&#x27;: 16000})),\n",
       "                                 (&#x27;scaler&#x27;, StandardScaler())])),\n",
       "                (&#x27;model&#x27;, RandomForestClassifier(criterion=&#x27;entropy&#x27;))])</pre></div></div></div><div class=\"sk-serial\"><div class=\"sk-item\"><div class=\"sk-label-container\"><div class=\"sk-label sk-toggleable\"><input class=\"sk-toggleable__control sk-hidden--visually\" id=\"sk-estimator-id-34\" type=\"checkbox\" ><label for=\"sk-estimator-id-34\" class=\"sk-toggleable__label sk-toggleable__label-arrow\">preproc: Pipeline</label><div class=\"sk-toggleable__content\"><pre>Pipeline(steps=[(&#x27;mean_mfcc&#x27;,\n",
       "                 FunctionTransformer(func=&lt;function samples_to_mean_mfcc at 0x110dab790&gt;,\n",
       "                                     kw_args={&#x27;fmax&#x27;: None, &#x27;fmin&#x27;: 0.0,\n",
       "                                              &#x27;hop_length&#x27;: 128, &#x27;n_fft&#x27;: 512,\n",
       "                                              &#x27;n_mfcc&#x27;: 20, &#x27;sr&#x27;: 16000})),\n",
       "                (&#x27;scaler&#x27;, StandardScaler())])</pre></div></div></div><div class=\"sk-serial\"><div class=\"sk-item\"><div class=\"sk-estimator sk-toggleable\"><input class=\"sk-toggleable__control sk-hidden--visually\" id=\"sk-estimator-id-35\" type=\"checkbox\" ><label for=\"sk-estimator-id-35\" class=\"sk-toggleable__label sk-toggleable__label-arrow\">FunctionTransformer</label><div class=\"sk-toggleable__content\"><pre>FunctionTransformer(func=&lt;function samples_to_mean_mfcc at 0x110dab790&gt;,\n",
       "                    kw_args={&#x27;fmax&#x27;: None, &#x27;fmin&#x27;: 0.0, &#x27;hop_length&#x27;: 128,\n",
       "                             &#x27;n_fft&#x27;: 512, &#x27;n_mfcc&#x27;: 20, &#x27;sr&#x27;: 16000})</pre></div></div></div><div class=\"sk-item\"><div class=\"sk-estimator sk-toggleable\"><input class=\"sk-toggleable__control sk-hidden--visually\" id=\"sk-estimator-id-36\" type=\"checkbox\" ><label for=\"sk-estimator-id-36\" class=\"sk-toggleable__label sk-toggleable__label-arrow\">StandardScaler</label><div class=\"sk-toggleable__content\"><pre>StandardScaler()</pre></div></div></div></div></div><div class=\"sk-item\"><div class=\"sk-estimator sk-toggleable\"><input class=\"sk-toggleable__control sk-hidden--visually\" id=\"sk-estimator-id-37\" type=\"checkbox\" ><label for=\"sk-estimator-id-37\" class=\"sk-toggleable__label sk-toggleable__label-arrow\">RandomForestClassifier</label><div class=\"sk-toggleable__content\"><pre>RandomForestClassifier(criterion=&#x27;entropy&#x27;)</pre></div></div></div></div></div></div></div>"
      ],
      "text/plain": [
       "Pipeline(steps=[('preproc',\n",
       "                 Pipeline(steps=[('mean_mfcc',\n",
       "                                  FunctionTransformer(func=<function samples_to_mean_mfcc at 0x110dab790>,\n",
       "                                                      kw_args={'fmax': None,\n",
       "                                                               'fmin': 0.0,\n",
       "                                                               'hop_length': 128,\n",
       "                                                               'n_fft': 512,\n",
       "                                                               'n_mfcc': 20,\n",
       "                                                               'sr': 16000})),\n",
       "                                 ('scaler', StandardScaler())])),\n",
       "                ('model', RandomForestClassifier(criterion='entropy'))])"
      ]
     },
     "execution_count": 69,
     "metadata": {},
     "output_type": "execute_result"
    }
   ],
   "source": [
    "full_pipe1.fit(train_fold, train_y)"
   ]
  },
  {
   "cell_type": "code",
   "execution_count": 70,
   "metadata": {},
   "outputs": [],
   "source": [
    "pred_y1 = full_pipe1.predict(val_fold)"
   ]
  },
  {
   "cell_type": "code",
   "execution_count": 72,
   "metadata": {},
   "outputs": [
    {
     "name": "stdout",
     "output_type": "stream",
     "text": [
      "              precision    recall  f1-score   support\n",
      "\n",
      "           0       0.53      0.09      0.15       100\n",
      "           1       0.53      0.15      0.24        59\n",
      "           2       0.21      0.32      0.25       100\n",
      "           3       0.35      0.77      0.48       100\n",
      "           4       0.53      0.58      0.55       100\n",
      "           5       0.53      0.29      0.37       107\n",
      "           6       0.79      0.39      0.53        38\n",
      "           7       0.46      0.31      0.37       120\n",
      "           8       0.72      0.39      0.51       166\n",
      "           9       0.24      0.54      0.33       100\n",
      "\n",
      "    accuracy                           0.39       990\n",
      "   macro avg       0.49      0.38      0.38       990\n",
      "weighted avg       0.48      0.39      0.38       990\n",
      "\n"
     ]
    }
   ],
   "source": [
    "print(classification_report(val_y, pred_y1))"
   ]
  },
  {
   "cell_type": "code",
   "execution_count": 73,
   "metadata": {},
   "outputs": [
    {
     "name": "stdout",
     "output_type": "stream",
     "text": [
      "[[ 9  0 39  2 24  1  0  0  2 23]\n",
      " [ 1  9  7  5  6  1  0  4  1 25]\n",
      " [ 1  1 32 31 12  1  2  3  1 16]\n",
      " [ 0  0  8 77  6  0  2  0  4  3]\n",
      " [ 0  5  6  0 58  1  0 22  0  8]\n",
      " [ 1  0 25 10  0 31  0 11 16 13]\n",
      " [ 0  0  5  8  1  0 15  4  0  5]\n",
      " [ 4  0  5  0  1 15  0 37  0 58]\n",
      " [ 0  0 14 64  0  5  0  0 65 18]\n",
      " [ 1  2 15 21  2  4  0  0  1 54]]\n"
     ]
    }
   ],
   "source": [
    "print(confusion_matrix(val_y, pred_y1))"
   ]
  },
  {
   "cell_type": "markdown",
   "metadata": {},
   "source": [
    "## Other comparison \n",
    "\n",
    "When fmin=500, fmax=4000, criterion='gini'"
   ]
  },
  {
   "cell_type": "code",
   "execution_count": 28,
   "metadata": {},
   "outputs": [],
   "source": [
    "pipe2 = make_feature_pipeline()"
   ]
  },
  {
   "cell_type": "code",
   "execution_count": 29,
   "metadata": {},
   "outputs": [
    {
     "data": {
      "text/plain": [
       "dict_keys(['memory', 'steps', 'verbose', 'mean_mfcc', 'scaler', 'mean_mfcc__accept_sparse', 'mean_mfcc__check_inverse', 'mean_mfcc__feature_names_out', 'mean_mfcc__func', 'mean_mfcc__inv_kw_args', 'mean_mfcc__inverse_func', 'mean_mfcc__kw_args', 'mean_mfcc__validate', 'scaler__copy', 'scaler__with_mean', 'scaler__with_std'])"
      ]
     },
     "execution_count": 29,
     "metadata": {},
     "output_type": "execute_result"
    }
   ],
   "source": [
    "pipe2.get_params().keys()"
   ]
  },
  {
   "cell_type": "code",
   "execution_count": 30,
   "metadata": {},
   "outputs": [
    {
     "data": {
      "text/html": [
       "<style>#sk-container-id-5 {color: black;background-color: white;}#sk-container-id-5 pre{padding: 0;}#sk-container-id-5 div.sk-toggleable {background-color: white;}#sk-container-id-5 label.sk-toggleable__label {cursor: pointer;display: block;width: 100%;margin-bottom: 0;padding: 0.3em;box-sizing: border-box;text-align: center;}#sk-container-id-5 label.sk-toggleable__label-arrow:before {content: \"▸\";float: left;margin-right: 0.25em;color: #696969;}#sk-container-id-5 label.sk-toggleable__label-arrow:hover:before {color: black;}#sk-container-id-5 div.sk-estimator:hover label.sk-toggleable__label-arrow:before {color: black;}#sk-container-id-5 div.sk-toggleable__content {max-height: 0;max-width: 0;overflow: hidden;text-align: left;background-color: #f0f8ff;}#sk-container-id-5 div.sk-toggleable__content pre {margin: 0.2em;color: black;border-radius: 0.25em;background-color: #f0f8ff;}#sk-container-id-5 input.sk-toggleable__control:checked~div.sk-toggleable__content {max-height: 200px;max-width: 100%;overflow: auto;}#sk-container-id-5 input.sk-toggleable__control:checked~label.sk-toggleable__label-arrow:before {content: \"▾\";}#sk-container-id-5 div.sk-estimator input.sk-toggleable__control:checked~label.sk-toggleable__label {background-color: #d4ebff;}#sk-container-id-5 div.sk-label input.sk-toggleable__control:checked~label.sk-toggleable__label {background-color: #d4ebff;}#sk-container-id-5 input.sk-hidden--visually {border: 0;clip: rect(1px 1px 1px 1px);clip: rect(1px, 1px, 1px, 1px);height: 1px;margin: -1px;overflow: hidden;padding: 0;position: absolute;width: 1px;}#sk-container-id-5 div.sk-estimator {font-family: monospace;background-color: #f0f8ff;border: 1px dotted black;border-radius: 0.25em;box-sizing: border-box;margin-bottom: 0.5em;}#sk-container-id-5 div.sk-estimator:hover {background-color: #d4ebff;}#sk-container-id-5 div.sk-parallel-item::after {content: \"\";width: 100%;border-bottom: 1px solid gray;flex-grow: 1;}#sk-container-id-5 div.sk-label:hover label.sk-toggleable__label {background-color: #d4ebff;}#sk-container-id-5 div.sk-serial::before {content: \"\";position: absolute;border-left: 1px solid gray;box-sizing: border-box;top: 0;bottom: 0;left: 50%;z-index: 0;}#sk-container-id-5 div.sk-serial {display: flex;flex-direction: column;align-items: center;background-color: white;padding-right: 0.2em;padding-left: 0.2em;position: relative;}#sk-container-id-5 div.sk-item {position: relative;z-index: 1;}#sk-container-id-5 div.sk-parallel {display: flex;align-items: stretch;justify-content: center;background-color: white;position: relative;}#sk-container-id-5 div.sk-item::before, #sk-container-id-5 div.sk-parallel-item::before {content: \"\";position: absolute;border-left: 1px solid gray;box-sizing: border-box;top: 0;bottom: 0;left: 50%;z-index: -1;}#sk-container-id-5 div.sk-parallel-item {display: flex;flex-direction: column;z-index: 1;position: relative;background-color: white;}#sk-container-id-5 div.sk-parallel-item:first-child::after {align-self: flex-end;width: 50%;}#sk-container-id-5 div.sk-parallel-item:last-child::after {align-self: flex-start;width: 50%;}#sk-container-id-5 div.sk-parallel-item:only-child::after {width: 0;}#sk-container-id-5 div.sk-dashed-wrapped {border: 1px dashed gray;margin: 0 0.4em 0.5em 0.4em;box-sizing: border-box;padding-bottom: 0.4em;background-color: white;}#sk-container-id-5 div.sk-label label {font-family: monospace;font-weight: bold;display: inline-block;line-height: 1.2em;}#sk-container-id-5 div.sk-label-container {text-align: center;}#sk-container-id-5 div.sk-container {/* jupyter's `normalize.less` sets `[hidden] { display: none; }` but bootstrap.min.css set `[hidden] { display: none !important; }` so we also need the `!important` here to be able to override the default hidden behavior on the sphinx rendered scikit-learn.org. See: https://github.com/scikit-learn/scikit-learn/issues/21755 */display: inline-block !important;position: relative;}#sk-container-id-5 div.sk-text-repr-fallback {display: none;}</style><div id=\"sk-container-id-5\" class=\"sk-top-container\"><div class=\"sk-text-repr-fallback\"><pre>Pipeline(steps=[(&#x27;mean_mfcc&#x27;,\n",
       "                 FunctionTransformer(func=&lt;function samples_to_mean_mfcc at 0x110dab790&gt;,\n",
       "                                     kw_args={&#x27;fmax&#x27;: 4000, &#x27;fmin&#x27;: 500})),\n",
       "                (&#x27;scaler&#x27;, StandardScaler())])</pre><b>In a Jupyter environment, please rerun this cell to show the HTML representation or trust the notebook. <br />On GitHub, the HTML representation is unable to render, please try loading this page with nbviewer.org.</b></div><div class=\"sk-container\" hidden><div class=\"sk-item sk-dashed-wrapped\"><div class=\"sk-label-container\"><div class=\"sk-label sk-toggleable\"><input class=\"sk-toggleable__control sk-hidden--visually\" id=\"sk-estimator-id-17\" type=\"checkbox\" ><label for=\"sk-estimator-id-17\" class=\"sk-toggleable__label sk-toggleable__label-arrow\">Pipeline</label><div class=\"sk-toggleable__content\"><pre>Pipeline(steps=[(&#x27;mean_mfcc&#x27;,\n",
       "                 FunctionTransformer(func=&lt;function samples_to_mean_mfcc at 0x110dab790&gt;,\n",
       "                                     kw_args={&#x27;fmax&#x27;: 4000, &#x27;fmin&#x27;: 500})),\n",
       "                (&#x27;scaler&#x27;, StandardScaler())])</pre></div></div></div><div class=\"sk-serial\"><div class=\"sk-item\"><div class=\"sk-estimator sk-toggleable\"><input class=\"sk-toggleable__control sk-hidden--visually\" id=\"sk-estimator-id-18\" type=\"checkbox\" ><label for=\"sk-estimator-id-18\" class=\"sk-toggleable__label sk-toggleable__label-arrow\">FunctionTransformer</label><div class=\"sk-toggleable__content\"><pre>FunctionTransformer(func=&lt;function samples_to_mean_mfcc at 0x110dab790&gt;,\n",
       "                    kw_args={&#x27;fmax&#x27;: 4000, &#x27;fmin&#x27;: 500})</pre></div></div></div><div class=\"sk-item\"><div class=\"sk-estimator sk-toggleable\"><input class=\"sk-toggleable__control sk-hidden--visually\" id=\"sk-estimator-id-19\" type=\"checkbox\" ><label for=\"sk-estimator-id-19\" class=\"sk-toggleable__label sk-toggleable__label-arrow\">StandardScaler</label><div class=\"sk-toggleable__content\"><pre>StandardScaler()</pre></div></div></div></div></div></div></div>"
      ],
      "text/plain": [
       "Pipeline(steps=[('mean_mfcc',\n",
       "                 FunctionTransformer(func=<function samples_to_mean_mfcc at 0x110dab790>,\n",
       "                                     kw_args={'fmax': 4000, 'fmin': 500})),\n",
       "                ('scaler', StandardScaler())])"
      ]
     },
     "execution_count": 30,
     "metadata": {},
     "output_type": "execute_result"
    }
   ],
   "source": [
    "pipe2.set_params(mean_mfcc__kw_args={'fmin':500, 'fmax':4000})"
   ]
  },
  {
   "cell_type": "code",
   "execution_count": 31,
   "metadata": {},
   "outputs": [],
   "source": [
    "full_pipe2 = Pipeline([\n",
    "            ('preproc', pipe),\n",
    "            ('model', RandomForestClassifier())\n",
    "            ])"
   ]
  },
  {
   "cell_type": "code",
   "execution_count": 32,
   "metadata": {},
   "outputs": [
    {
     "data": {
      "text/html": [
       "<style>#sk-container-id-6 {color: black;background-color: white;}#sk-container-id-6 pre{padding: 0;}#sk-container-id-6 div.sk-toggleable {background-color: white;}#sk-container-id-6 label.sk-toggleable__label {cursor: pointer;display: block;width: 100%;margin-bottom: 0;padding: 0.3em;box-sizing: border-box;text-align: center;}#sk-container-id-6 label.sk-toggleable__label-arrow:before {content: \"▸\";float: left;margin-right: 0.25em;color: #696969;}#sk-container-id-6 label.sk-toggleable__label-arrow:hover:before {color: black;}#sk-container-id-6 div.sk-estimator:hover label.sk-toggleable__label-arrow:before {color: black;}#sk-container-id-6 div.sk-toggleable__content {max-height: 0;max-width: 0;overflow: hidden;text-align: left;background-color: #f0f8ff;}#sk-container-id-6 div.sk-toggleable__content pre {margin: 0.2em;color: black;border-radius: 0.25em;background-color: #f0f8ff;}#sk-container-id-6 input.sk-toggleable__control:checked~div.sk-toggleable__content {max-height: 200px;max-width: 100%;overflow: auto;}#sk-container-id-6 input.sk-toggleable__control:checked~label.sk-toggleable__label-arrow:before {content: \"▾\";}#sk-container-id-6 div.sk-estimator input.sk-toggleable__control:checked~label.sk-toggleable__label {background-color: #d4ebff;}#sk-container-id-6 div.sk-label input.sk-toggleable__control:checked~label.sk-toggleable__label {background-color: #d4ebff;}#sk-container-id-6 input.sk-hidden--visually {border: 0;clip: rect(1px 1px 1px 1px);clip: rect(1px, 1px, 1px, 1px);height: 1px;margin: -1px;overflow: hidden;padding: 0;position: absolute;width: 1px;}#sk-container-id-6 div.sk-estimator {font-family: monospace;background-color: #f0f8ff;border: 1px dotted black;border-radius: 0.25em;box-sizing: border-box;margin-bottom: 0.5em;}#sk-container-id-6 div.sk-estimator:hover {background-color: #d4ebff;}#sk-container-id-6 div.sk-parallel-item::after {content: \"\";width: 100%;border-bottom: 1px solid gray;flex-grow: 1;}#sk-container-id-6 div.sk-label:hover label.sk-toggleable__label {background-color: #d4ebff;}#sk-container-id-6 div.sk-serial::before {content: \"\";position: absolute;border-left: 1px solid gray;box-sizing: border-box;top: 0;bottom: 0;left: 50%;z-index: 0;}#sk-container-id-6 div.sk-serial {display: flex;flex-direction: column;align-items: center;background-color: white;padding-right: 0.2em;padding-left: 0.2em;position: relative;}#sk-container-id-6 div.sk-item {position: relative;z-index: 1;}#sk-container-id-6 div.sk-parallel {display: flex;align-items: stretch;justify-content: center;background-color: white;position: relative;}#sk-container-id-6 div.sk-item::before, #sk-container-id-6 div.sk-parallel-item::before {content: \"\";position: absolute;border-left: 1px solid gray;box-sizing: border-box;top: 0;bottom: 0;left: 50%;z-index: -1;}#sk-container-id-6 div.sk-parallel-item {display: flex;flex-direction: column;z-index: 1;position: relative;background-color: white;}#sk-container-id-6 div.sk-parallel-item:first-child::after {align-self: flex-end;width: 50%;}#sk-container-id-6 div.sk-parallel-item:last-child::after {align-self: flex-start;width: 50%;}#sk-container-id-6 div.sk-parallel-item:only-child::after {width: 0;}#sk-container-id-6 div.sk-dashed-wrapped {border: 1px dashed gray;margin: 0 0.4em 0.5em 0.4em;box-sizing: border-box;padding-bottom: 0.4em;background-color: white;}#sk-container-id-6 div.sk-label label {font-family: monospace;font-weight: bold;display: inline-block;line-height: 1.2em;}#sk-container-id-6 div.sk-label-container {text-align: center;}#sk-container-id-6 div.sk-container {/* jupyter's `normalize.less` sets `[hidden] { display: none; }` but bootstrap.min.css set `[hidden] { display: none !important; }` so we also need the `!important` here to be able to override the default hidden behavior on the sphinx rendered scikit-learn.org. See: https://github.com/scikit-learn/scikit-learn/issues/21755 */display: inline-block !important;position: relative;}#sk-container-id-6 div.sk-text-repr-fallback {display: none;}</style><div id=\"sk-container-id-6\" class=\"sk-top-container\"><div class=\"sk-text-repr-fallback\"><pre>Pipeline(steps=[(&#x27;preproc&#x27;,\n",
       "                 Pipeline(steps=[(&#x27;mean_mfcc&#x27;,\n",
       "                                  FunctionTransformer(func=&lt;function samples_to_mean_mfcc at 0x110dab790&gt;,\n",
       "                                                      kw_args={&#x27;fmax&#x27;: None,\n",
       "                                                               &#x27;fmin&#x27;: 0.0,\n",
       "                                                               &#x27;hop_length&#x27;: 128,\n",
       "                                                               &#x27;n_fft&#x27;: 512,\n",
       "                                                               &#x27;n_mfcc&#x27;: 20,\n",
       "                                                               &#x27;sr&#x27;: 16000})),\n",
       "                                 (&#x27;scaler&#x27;, StandardScaler())])),\n",
       "                (&#x27;model&#x27;, RandomForestClassifier())])</pre><b>In a Jupyter environment, please rerun this cell to show the HTML representation or trust the notebook. <br />On GitHub, the HTML representation is unable to render, please try loading this page with nbviewer.org.</b></div><div class=\"sk-container\" hidden><div class=\"sk-item sk-dashed-wrapped\"><div class=\"sk-label-container\"><div class=\"sk-label sk-toggleable\"><input class=\"sk-toggleable__control sk-hidden--visually\" id=\"sk-estimator-id-20\" type=\"checkbox\" ><label for=\"sk-estimator-id-20\" class=\"sk-toggleable__label sk-toggleable__label-arrow\">Pipeline</label><div class=\"sk-toggleable__content\"><pre>Pipeline(steps=[(&#x27;preproc&#x27;,\n",
       "                 Pipeline(steps=[(&#x27;mean_mfcc&#x27;,\n",
       "                                  FunctionTransformer(func=&lt;function samples_to_mean_mfcc at 0x110dab790&gt;,\n",
       "                                                      kw_args={&#x27;fmax&#x27;: None,\n",
       "                                                               &#x27;fmin&#x27;: 0.0,\n",
       "                                                               &#x27;hop_length&#x27;: 128,\n",
       "                                                               &#x27;n_fft&#x27;: 512,\n",
       "                                                               &#x27;n_mfcc&#x27;: 20,\n",
       "                                                               &#x27;sr&#x27;: 16000})),\n",
       "                                 (&#x27;scaler&#x27;, StandardScaler())])),\n",
       "                (&#x27;model&#x27;, RandomForestClassifier())])</pre></div></div></div><div class=\"sk-serial\"><div class=\"sk-item\"><div class=\"sk-label-container\"><div class=\"sk-label sk-toggleable\"><input class=\"sk-toggleable__control sk-hidden--visually\" id=\"sk-estimator-id-21\" type=\"checkbox\" ><label for=\"sk-estimator-id-21\" class=\"sk-toggleable__label sk-toggleable__label-arrow\">preproc: Pipeline</label><div class=\"sk-toggleable__content\"><pre>Pipeline(steps=[(&#x27;mean_mfcc&#x27;,\n",
       "                 FunctionTransformer(func=&lt;function samples_to_mean_mfcc at 0x110dab790&gt;,\n",
       "                                     kw_args={&#x27;fmax&#x27;: None, &#x27;fmin&#x27;: 0.0,\n",
       "                                              &#x27;hop_length&#x27;: 128, &#x27;n_fft&#x27;: 512,\n",
       "                                              &#x27;n_mfcc&#x27;: 20, &#x27;sr&#x27;: 16000})),\n",
       "                (&#x27;scaler&#x27;, StandardScaler())])</pre></div></div></div><div class=\"sk-serial\"><div class=\"sk-item\"><div class=\"sk-estimator sk-toggleable\"><input class=\"sk-toggleable__control sk-hidden--visually\" id=\"sk-estimator-id-22\" type=\"checkbox\" ><label for=\"sk-estimator-id-22\" class=\"sk-toggleable__label sk-toggleable__label-arrow\">FunctionTransformer</label><div class=\"sk-toggleable__content\"><pre>FunctionTransformer(func=&lt;function samples_to_mean_mfcc at 0x110dab790&gt;,\n",
       "                    kw_args={&#x27;fmax&#x27;: None, &#x27;fmin&#x27;: 0.0, &#x27;hop_length&#x27;: 128,\n",
       "                             &#x27;n_fft&#x27;: 512, &#x27;n_mfcc&#x27;: 20, &#x27;sr&#x27;: 16000})</pre></div></div></div><div class=\"sk-item\"><div class=\"sk-estimator sk-toggleable\"><input class=\"sk-toggleable__control sk-hidden--visually\" id=\"sk-estimator-id-23\" type=\"checkbox\" ><label for=\"sk-estimator-id-23\" class=\"sk-toggleable__label sk-toggleable__label-arrow\">StandardScaler</label><div class=\"sk-toggleable__content\"><pre>StandardScaler()</pre></div></div></div></div></div><div class=\"sk-item\"><div class=\"sk-estimator sk-toggleable\"><input class=\"sk-toggleable__control sk-hidden--visually\" id=\"sk-estimator-id-24\" type=\"checkbox\" ><label for=\"sk-estimator-id-24\" class=\"sk-toggleable__label sk-toggleable__label-arrow\">RandomForestClassifier</label><div class=\"sk-toggleable__content\"><pre>RandomForestClassifier()</pre></div></div></div></div></div></div></div>"
      ],
      "text/plain": [
       "Pipeline(steps=[('preproc',\n",
       "                 Pipeline(steps=[('mean_mfcc',\n",
       "                                  FunctionTransformer(func=<function samples_to_mean_mfcc at 0x110dab790>,\n",
       "                                                      kw_args={'fmax': None,\n",
       "                                                               'fmin': 0.0,\n",
       "                                                               'hop_length': 128,\n",
       "                                                               'n_fft': 512,\n",
       "                                                               'n_mfcc': 20,\n",
       "                                                               'sr': 16000})),\n",
       "                                 ('scaler', StandardScaler())])),\n",
       "                ('model', RandomForestClassifier())])"
      ]
     },
     "execution_count": 32,
     "metadata": {},
     "output_type": "execute_result"
    }
   ],
   "source": [
    "full_pipe2.fit(train_fold, train_y)"
   ]
  },
  {
   "cell_type": "code",
   "execution_count": 33,
   "metadata": {},
   "outputs": [],
   "source": [
    "pred_y2 = full_pipe2.predict(val_fold)"
   ]
  },
  {
   "cell_type": "code",
   "execution_count": 34,
   "metadata": {},
   "outputs": [
    {
     "name": "stdout",
     "output_type": "stream",
     "text": [
      "              precision    recall  f1-score   support\n",
      "\n",
      "           0       0.62      0.10      0.17       100\n",
      "           1       0.82      0.15      0.26        59\n",
      "           2       0.24      0.36      0.29       100\n",
      "           3       0.34      0.74      0.47       100\n",
      "           4       0.54      0.56      0.55       100\n",
      "           5       0.58      0.29      0.39       107\n",
      "           6       0.77      0.26      0.39        38\n",
      "           7       0.38      0.33      0.35       120\n",
      "           8       0.67      0.35      0.46       166\n",
      "           9       0.22      0.53      0.31       100\n",
      "\n",
      "    accuracy                           0.38       990\n",
      "   macro avg       0.52      0.37      0.36       990\n",
      "weighted avg       0.50      0.38      0.37       990\n",
      "\n"
     ]
    }
   ],
   "source": [
    "print(classification_report(val_y, pred_y2))"
   ]
  },
  {
   "cell_type": "code",
   "execution_count": 35,
   "metadata": {},
   "outputs": [
    {
     "name": "stdout",
     "output_type": "stream",
     "text": [
      "[[10  0 35  1 27  2  0  1  3 21]\n",
      " [ 0  9  4  5  4  0  0  5  2 30]\n",
      " [ 0  0 36 29  6  2  2  4  1 20]\n",
      " [ 0  0  8 74  5  0  1  1  4  7]\n",
      " [ 0  0  6  4 56  1  0 30  0  3]\n",
      " [ 0  0 17 18  0 31  0 19 16  6]\n",
      " [ 0  0  7  9  0  0 10  3  0  9]\n",
      " [ 2  0  4  1  1  9  0 39  0 64]\n",
      " [ 0  0 13 60  4  4  0  0 58 27]\n",
      " [ 4  2 19 14  1  4  0  0  3 53]]\n"
     ]
    }
   ],
   "source": [
    "print(confusion_matrix(val_y, pred_y2))"
   ]
  },
  {
   "cell_type": "markdown",
   "metadata": {},
   "source": [
    "## Camparison 3\n",
    "\n",
    "When fmin=500, fmax=4000, criterion='entropy'"
   ]
  },
  {
   "cell_type": "code",
   "execution_count": 36,
   "metadata": {},
   "outputs": [],
   "source": [
    "pipe3 = make_feature_pipeline()"
   ]
  },
  {
   "cell_type": "code",
   "execution_count": 38,
   "metadata": {},
   "outputs": [
    {
     "data": {
      "text/html": [
       "<style>#sk-container-id-7 {color: black;background-color: white;}#sk-container-id-7 pre{padding: 0;}#sk-container-id-7 div.sk-toggleable {background-color: white;}#sk-container-id-7 label.sk-toggleable__label {cursor: pointer;display: block;width: 100%;margin-bottom: 0;padding: 0.3em;box-sizing: border-box;text-align: center;}#sk-container-id-7 label.sk-toggleable__label-arrow:before {content: \"▸\";float: left;margin-right: 0.25em;color: #696969;}#sk-container-id-7 label.sk-toggleable__label-arrow:hover:before {color: black;}#sk-container-id-7 div.sk-estimator:hover label.sk-toggleable__label-arrow:before {color: black;}#sk-container-id-7 div.sk-toggleable__content {max-height: 0;max-width: 0;overflow: hidden;text-align: left;background-color: #f0f8ff;}#sk-container-id-7 div.sk-toggleable__content pre {margin: 0.2em;color: black;border-radius: 0.25em;background-color: #f0f8ff;}#sk-container-id-7 input.sk-toggleable__control:checked~div.sk-toggleable__content {max-height: 200px;max-width: 100%;overflow: auto;}#sk-container-id-7 input.sk-toggleable__control:checked~label.sk-toggleable__label-arrow:before {content: \"▾\";}#sk-container-id-7 div.sk-estimator input.sk-toggleable__control:checked~label.sk-toggleable__label {background-color: #d4ebff;}#sk-container-id-7 div.sk-label input.sk-toggleable__control:checked~label.sk-toggleable__label {background-color: #d4ebff;}#sk-container-id-7 input.sk-hidden--visually {border: 0;clip: rect(1px 1px 1px 1px);clip: rect(1px, 1px, 1px, 1px);height: 1px;margin: -1px;overflow: hidden;padding: 0;position: absolute;width: 1px;}#sk-container-id-7 div.sk-estimator {font-family: monospace;background-color: #f0f8ff;border: 1px dotted black;border-radius: 0.25em;box-sizing: border-box;margin-bottom: 0.5em;}#sk-container-id-7 div.sk-estimator:hover {background-color: #d4ebff;}#sk-container-id-7 div.sk-parallel-item::after {content: \"\";width: 100%;border-bottom: 1px solid gray;flex-grow: 1;}#sk-container-id-7 div.sk-label:hover label.sk-toggleable__label {background-color: #d4ebff;}#sk-container-id-7 div.sk-serial::before {content: \"\";position: absolute;border-left: 1px solid gray;box-sizing: border-box;top: 0;bottom: 0;left: 50%;z-index: 0;}#sk-container-id-7 div.sk-serial {display: flex;flex-direction: column;align-items: center;background-color: white;padding-right: 0.2em;padding-left: 0.2em;position: relative;}#sk-container-id-7 div.sk-item {position: relative;z-index: 1;}#sk-container-id-7 div.sk-parallel {display: flex;align-items: stretch;justify-content: center;background-color: white;position: relative;}#sk-container-id-7 div.sk-item::before, #sk-container-id-7 div.sk-parallel-item::before {content: \"\";position: absolute;border-left: 1px solid gray;box-sizing: border-box;top: 0;bottom: 0;left: 50%;z-index: -1;}#sk-container-id-7 div.sk-parallel-item {display: flex;flex-direction: column;z-index: 1;position: relative;background-color: white;}#sk-container-id-7 div.sk-parallel-item:first-child::after {align-self: flex-end;width: 50%;}#sk-container-id-7 div.sk-parallel-item:last-child::after {align-self: flex-start;width: 50%;}#sk-container-id-7 div.sk-parallel-item:only-child::after {width: 0;}#sk-container-id-7 div.sk-dashed-wrapped {border: 1px dashed gray;margin: 0 0.4em 0.5em 0.4em;box-sizing: border-box;padding-bottom: 0.4em;background-color: white;}#sk-container-id-7 div.sk-label label {font-family: monospace;font-weight: bold;display: inline-block;line-height: 1.2em;}#sk-container-id-7 div.sk-label-container {text-align: center;}#sk-container-id-7 div.sk-container {/* jupyter's `normalize.less` sets `[hidden] { display: none; }` but bootstrap.min.css set `[hidden] { display: none !important; }` so we also need the `!important` here to be able to override the default hidden behavior on the sphinx rendered scikit-learn.org. See: https://github.com/scikit-learn/scikit-learn/issues/21755 */display: inline-block !important;position: relative;}#sk-container-id-7 div.sk-text-repr-fallback {display: none;}</style><div id=\"sk-container-id-7\" class=\"sk-top-container\"><div class=\"sk-text-repr-fallback\"><pre>Pipeline(steps=[(&#x27;mean_mfcc&#x27;,\n",
       "                 FunctionTransformer(func=&lt;function samples_to_mean_mfcc at 0x110dab790&gt;,\n",
       "                                     kw_args={&#x27;fmax&#x27;: 4000, &#x27;fmin&#x27;: 500})),\n",
       "                (&#x27;scaler&#x27;, StandardScaler())])</pre><b>In a Jupyter environment, please rerun this cell to show the HTML representation or trust the notebook. <br />On GitHub, the HTML representation is unable to render, please try loading this page with nbviewer.org.</b></div><div class=\"sk-container\" hidden><div class=\"sk-item sk-dashed-wrapped\"><div class=\"sk-label-container\"><div class=\"sk-label sk-toggleable\"><input class=\"sk-toggleable__control sk-hidden--visually\" id=\"sk-estimator-id-25\" type=\"checkbox\" ><label for=\"sk-estimator-id-25\" class=\"sk-toggleable__label sk-toggleable__label-arrow\">Pipeline</label><div class=\"sk-toggleable__content\"><pre>Pipeline(steps=[(&#x27;mean_mfcc&#x27;,\n",
       "                 FunctionTransformer(func=&lt;function samples_to_mean_mfcc at 0x110dab790&gt;,\n",
       "                                     kw_args={&#x27;fmax&#x27;: 4000, &#x27;fmin&#x27;: 500})),\n",
       "                (&#x27;scaler&#x27;, StandardScaler())])</pre></div></div></div><div class=\"sk-serial\"><div class=\"sk-item\"><div class=\"sk-estimator sk-toggleable\"><input class=\"sk-toggleable__control sk-hidden--visually\" id=\"sk-estimator-id-26\" type=\"checkbox\" ><label for=\"sk-estimator-id-26\" class=\"sk-toggleable__label sk-toggleable__label-arrow\">FunctionTransformer</label><div class=\"sk-toggleable__content\"><pre>FunctionTransformer(func=&lt;function samples_to_mean_mfcc at 0x110dab790&gt;,\n",
       "                    kw_args={&#x27;fmax&#x27;: 4000, &#x27;fmin&#x27;: 500})</pre></div></div></div><div class=\"sk-item\"><div class=\"sk-estimator sk-toggleable\"><input class=\"sk-toggleable__control sk-hidden--visually\" id=\"sk-estimator-id-27\" type=\"checkbox\" ><label for=\"sk-estimator-id-27\" class=\"sk-toggleable__label sk-toggleable__label-arrow\">StandardScaler</label><div class=\"sk-toggleable__content\"><pre>StandardScaler()</pre></div></div></div></div></div></div></div>"
      ],
      "text/plain": [
       "Pipeline(steps=[('mean_mfcc',\n",
       "                 FunctionTransformer(func=<function samples_to_mean_mfcc at 0x110dab790>,\n",
       "                                     kw_args={'fmax': 4000, 'fmin': 500})),\n",
       "                ('scaler', StandardScaler())])"
      ]
     },
     "execution_count": 38,
     "metadata": {},
     "output_type": "execute_result"
    }
   ],
   "source": [
    "pipe3.set_params(mean_mfcc__kw_args={'fmin':500, 'fmax':4000})"
   ]
  },
  {
   "cell_type": "code",
   "execution_count": 40,
   "metadata": {},
   "outputs": [],
   "source": [
    "full_pipe3 = Pipeline([\n",
    "            ('preproc', pipe),\n",
    "            ('model', RandomForestClassifier(criterion='entropy'))\n",
    "            ])"
   ]
  },
  {
   "cell_type": "code",
   "execution_count": 41,
   "metadata": {},
   "outputs": [
    {
     "data": {
      "text/html": [
       "<style>#sk-container-id-8 {color: black;background-color: white;}#sk-container-id-8 pre{padding: 0;}#sk-container-id-8 div.sk-toggleable {background-color: white;}#sk-container-id-8 label.sk-toggleable__label {cursor: pointer;display: block;width: 100%;margin-bottom: 0;padding: 0.3em;box-sizing: border-box;text-align: center;}#sk-container-id-8 label.sk-toggleable__label-arrow:before {content: \"▸\";float: left;margin-right: 0.25em;color: #696969;}#sk-container-id-8 label.sk-toggleable__label-arrow:hover:before {color: black;}#sk-container-id-8 div.sk-estimator:hover label.sk-toggleable__label-arrow:before {color: black;}#sk-container-id-8 div.sk-toggleable__content {max-height: 0;max-width: 0;overflow: hidden;text-align: left;background-color: #f0f8ff;}#sk-container-id-8 div.sk-toggleable__content pre {margin: 0.2em;color: black;border-radius: 0.25em;background-color: #f0f8ff;}#sk-container-id-8 input.sk-toggleable__control:checked~div.sk-toggleable__content {max-height: 200px;max-width: 100%;overflow: auto;}#sk-container-id-8 input.sk-toggleable__control:checked~label.sk-toggleable__label-arrow:before {content: \"▾\";}#sk-container-id-8 div.sk-estimator input.sk-toggleable__control:checked~label.sk-toggleable__label {background-color: #d4ebff;}#sk-container-id-8 div.sk-label input.sk-toggleable__control:checked~label.sk-toggleable__label {background-color: #d4ebff;}#sk-container-id-8 input.sk-hidden--visually {border: 0;clip: rect(1px 1px 1px 1px);clip: rect(1px, 1px, 1px, 1px);height: 1px;margin: -1px;overflow: hidden;padding: 0;position: absolute;width: 1px;}#sk-container-id-8 div.sk-estimator {font-family: monospace;background-color: #f0f8ff;border: 1px dotted black;border-radius: 0.25em;box-sizing: border-box;margin-bottom: 0.5em;}#sk-container-id-8 div.sk-estimator:hover {background-color: #d4ebff;}#sk-container-id-8 div.sk-parallel-item::after {content: \"\";width: 100%;border-bottom: 1px solid gray;flex-grow: 1;}#sk-container-id-8 div.sk-label:hover label.sk-toggleable__label {background-color: #d4ebff;}#sk-container-id-8 div.sk-serial::before {content: \"\";position: absolute;border-left: 1px solid gray;box-sizing: border-box;top: 0;bottom: 0;left: 50%;z-index: 0;}#sk-container-id-8 div.sk-serial {display: flex;flex-direction: column;align-items: center;background-color: white;padding-right: 0.2em;padding-left: 0.2em;position: relative;}#sk-container-id-8 div.sk-item {position: relative;z-index: 1;}#sk-container-id-8 div.sk-parallel {display: flex;align-items: stretch;justify-content: center;background-color: white;position: relative;}#sk-container-id-8 div.sk-item::before, #sk-container-id-8 div.sk-parallel-item::before {content: \"\";position: absolute;border-left: 1px solid gray;box-sizing: border-box;top: 0;bottom: 0;left: 50%;z-index: -1;}#sk-container-id-8 div.sk-parallel-item {display: flex;flex-direction: column;z-index: 1;position: relative;background-color: white;}#sk-container-id-8 div.sk-parallel-item:first-child::after {align-self: flex-end;width: 50%;}#sk-container-id-8 div.sk-parallel-item:last-child::after {align-self: flex-start;width: 50%;}#sk-container-id-8 div.sk-parallel-item:only-child::after {width: 0;}#sk-container-id-8 div.sk-dashed-wrapped {border: 1px dashed gray;margin: 0 0.4em 0.5em 0.4em;box-sizing: border-box;padding-bottom: 0.4em;background-color: white;}#sk-container-id-8 div.sk-label label {font-family: monospace;font-weight: bold;display: inline-block;line-height: 1.2em;}#sk-container-id-8 div.sk-label-container {text-align: center;}#sk-container-id-8 div.sk-container {/* jupyter's `normalize.less` sets `[hidden] { display: none; }` but bootstrap.min.css set `[hidden] { display: none !important; }` so we also need the `!important` here to be able to override the default hidden behavior on the sphinx rendered scikit-learn.org. See: https://github.com/scikit-learn/scikit-learn/issues/21755 */display: inline-block !important;position: relative;}#sk-container-id-8 div.sk-text-repr-fallback {display: none;}</style><div id=\"sk-container-id-8\" class=\"sk-top-container\"><div class=\"sk-text-repr-fallback\"><pre>Pipeline(steps=[(&#x27;preproc&#x27;,\n",
       "                 Pipeline(steps=[(&#x27;mean_mfcc&#x27;,\n",
       "                                  FunctionTransformer(func=&lt;function samples_to_mean_mfcc at 0x110dab790&gt;,\n",
       "                                                      kw_args={&#x27;fmax&#x27;: None,\n",
       "                                                               &#x27;fmin&#x27;: 0.0,\n",
       "                                                               &#x27;hop_length&#x27;: 128,\n",
       "                                                               &#x27;n_fft&#x27;: 512,\n",
       "                                                               &#x27;n_mfcc&#x27;: 20,\n",
       "                                                               &#x27;sr&#x27;: 16000})),\n",
       "                                 (&#x27;scaler&#x27;, StandardScaler())])),\n",
       "                (&#x27;model&#x27;, RandomForestClassifier(criterion=&#x27;entropy&#x27;))])</pre><b>In a Jupyter environment, please rerun this cell to show the HTML representation or trust the notebook. <br />On GitHub, the HTML representation is unable to render, please try loading this page with nbviewer.org.</b></div><div class=\"sk-container\" hidden><div class=\"sk-item sk-dashed-wrapped\"><div class=\"sk-label-container\"><div class=\"sk-label sk-toggleable\"><input class=\"sk-toggleable__control sk-hidden--visually\" id=\"sk-estimator-id-28\" type=\"checkbox\" ><label for=\"sk-estimator-id-28\" class=\"sk-toggleable__label sk-toggleable__label-arrow\">Pipeline</label><div class=\"sk-toggleable__content\"><pre>Pipeline(steps=[(&#x27;preproc&#x27;,\n",
       "                 Pipeline(steps=[(&#x27;mean_mfcc&#x27;,\n",
       "                                  FunctionTransformer(func=&lt;function samples_to_mean_mfcc at 0x110dab790&gt;,\n",
       "                                                      kw_args={&#x27;fmax&#x27;: None,\n",
       "                                                               &#x27;fmin&#x27;: 0.0,\n",
       "                                                               &#x27;hop_length&#x27;: 128,\n",
       "                                                               &#x27;n_fft&#x27;: 512,\n",
       "                                                               &#x27;n_mfcc&#x27;: 20,\n",
       "                                                               &#x27;sr&#x27;: 16000})),\n",
       "                                 (&#x27;scaler&#x27;, StandardScaler())])),\n",
       "                (&#x27;model&#x27;, RandomForestClassifier(criterion=&#x27;entropy&#x27;))])</pre></div></div></div><div class=\"sk-serial\"><div class=\"sk-item\"><div class=\"sk-label-container\"><div class=\"sk-label sk-toggleable\"><input class=\"sk-toggleable__control sk-hidden--visually\" id=\"sk-estimator-id-29\" type=\"checkbox\" ><label for=\"sk-estimator-id-29\" class=\"sk-toggleable__label sk-toggleable__label-arrow\">preproc: Pipeline</label><div class=\"sk-toggleable__content\"><pre>Pipeline(steps=[(&#x27;mean_mfcc&#x27;,\n",
       "                 FunctionTransformer(func=&lt;function samples_to_mean_mfcc at 0x110dab790&gt;,\n",
       "                                     kw_args={&#x27;fmax&#x27;: None, &#x27;fmin&#x27;: 0.0,\n",
       "                                              &#x27;hop_length&#x27;: 128, &#x27;n_fft&#x27;: 512,\n",
       "                                              &#x27;n_mfcc&#x27;: 20, &#x27;sr&#x27;: 16000})),\n",
       "                (&#x27;scaler&#x27;, StandardScaler())])</pre></div></div></div><div class=\"sk-serial\"><div class=\"sk-item\"><div class=\"sk-estimator sk-toggleable\"><input class=\"sk-toggleable__control sk-hidden--visually\" id=\"sk-estimator-id-30\" type=\"checkbox\" ><label for=\"sk-estimator-id-30\" class=\"sk-toggleable__label sk-toggleable__label-arrow\">FunctionTransformer</label><div class=\"sk-toggleable__content\"><pre>FunctionTransformer(func=&lt;function samples_to_mean_mfcc at 0x110dab790&gt;,\n",
       "                    kw_args={&#x27;fmax&#x27;: None, &#x27;fmin&#x27;: 0.0, &#x27;hop_length&#x27;: 128,\n",
       "                             &#x27;n_fft&#x27;: 512, &#x27;n_mfcc&#x27;: 20, &#x27;sr&#x27;: 16000})</pre></div></div></div><div class=\"sk-item\"><div class=\"sk-estimator sk-toggleable\"><input class=\"sk-toggleable__control sk-hidden--visually\" id=\"sk-estimator-id-31\" type=\"checkbox\" ><label for=\"sk-estimator-id-31\" class=\"sk-toggleable__label sk-toggleable__label-arrow\">StandardScaler</label><div class=\"sk-toggleable__content\"><pre>StandardScaler()</pre></div></div></div></div></div><div class=\"sk-item\"><div class=\"sk-estimator sk-toggleable\"><input class=\"sk-toggleable__control sk-hidden--visually\" id=\"sk-estimator-id-32\" type=\"checkbox\" ><label for=\"sk-estimator-id-32\" class=\"sk-toggleable__label sk-toggleable__label-arrow\">RandomForestClassifier</label><div class=\"sk-toggleable__content\"><pre>RandomForestClassifier(criterion=&#x27;entropy&#x27;)</pre></div></div></div></div></div></div></div>"
      ],
      "text/plain": [
       "Pipeline(steps=[('preproc',\n",
       "                 Pipeline(steps=[('mean_mfcc',\n",
       "                                  FunctionTransformer(func=<function samples_to_mean_mfcc at 0x110dab790>,\n",
       "                                                      kw_args={'fmax': None,\n",
       "                                                               'fmin': 0.0,\n",
       "                                                               'hop_length': 128,\n",
       "                                                               'n_fft': 512,\n",
       "                                                               'n_mfcc': 20,\n",
       "                                                               'sr': 16000})),\n",
       "                                 ('scaler', StandardScaler())])),\n",
       "                ('model', RandomForestClassifier(criterion='entropy'))])"
      ]
     },
     "execution_count": 41,
     "metadata": {},
     "output_type": "execute_result"
    }
   ],
   "source": [
    "full_pipe3.fit(train_fold, train_y)"
   ]
  },
  {
   "cell_type": "code",
   "execution_count": 42,
   "metadata": {},
   "outputs": [],
   "source": [
    "pred_y3 = full_pipe3.predict(val_fold)"
   ]
  },
  {
   "cell_type": "code",
   "execution_count": 43,
   "metadata": {},
   "outputs": [
    {
     "name": "stdout",
     "output_type": "stream",
     "text": [
      "              precision    recall  f1-score   support\n",
      "\n",
      "           0       0.69      0.11      0.19       100\n",
      "           1       0.71      0.20      0.32        59\n",
      "           2       0.24      0.38      0.30       100\n",
      "           3       0.33      0.77      0.46       100\n",
      "           4       0.56      0.58      0.57       100\n",
      "           5       0.60      0.30      0.40       107\n",
      "           6       0.88      0.37      0.52        38\n",
      "           7       0.32      0.23      0.27       120\n",
      "           8       0.72      0.34      0.47       166\n",
      "           9       0.25      0.57      0.35       100\n",
      "\n",
      "    accuracy                           0.39       990\n",
      "   macro avg       0.53      0.39      0.38       990\n",
      "weighted avg       0.51      0.39      0.38       990\n",
      "\n"
     ]
    }
   ],
   "source": [
    "print(classification_report(val_y, pred_y3))"
   ]
  },
  {
   "cell_type": "markdown",
   "metadata": {},
   "source": [
    "## Conclusion"
   ]
  },
  {
   "cell_type": "code",
   "execution_count": 48,
   "metadata": {},
   "outputs": [],
   "source": [
    "import pandas as pd"
   ]
  },
  {
   "cell_type": "code",
   "execution_count": 90,
   "metadata": {},
   "outputs": [],
   "source": [
    "table = pd.DataFrame(classification_report(val_y, pred_y, output_dict=True)).transpose()\n",
    "table1 = pd.DataFrame(classification_report(val_y, pred_y1, output_dict=True)).transpose()\n",
    "table2 = pd.DataFrame(classification_report(val_y, pred_y2, output_dict=True)).transpose()\n",
    "table3 = pd.DataFrame(classification_report(val_y, pred_y3, output_dict=True)).transpose()"
   ]
  },
  {
   "cell_type": "code",
   "execution_count": 84,
   "metadata": {},
   "outputs": [],
   "source": [
    "results = {\n",
    "    'mean_precision': [table[['precision']].mean(), table1[[\"precision\"]].mean(), table2[['precision']].mean(), table3[['precision']].mean()], \n",
    "    'mean_recall': [table[['recall']].mean(), table1[['recall']].mean(), table2[['recall']].mean(), table3[['recall']].mean()], \n",
    "    'mean_f1score': [table[['f1-score']].mean(), table1[['f1-score']].mean(), table2[['f1-score']].mean(), table3[['f1-score']].mean()]           \n",
    "}"
   ]
  },
  {
   "cell_type": "code",
   "execution_count": 85,
   "metadata": {},
   "outputs": [
    {
     "data": {
      "text/html": [
       "<div>\n",
       "<style scoped>\n",
       "    .dataframe tbody tr th:only-of-type {\n",
       "        vertical-align: middle;\n",
       "    }\n",
       "\n",
       "    .dataframe tbody tr th {\n",
       "        vertical-align: top;\n",
       "    }\n",
       "\n",
       "    .dataframe thead th {\n",
       "        text-align: right;\n",
       "    }\n",
       "</style>\n",
       "<table border=\"1\" class=\"dataframe\">\n",
       "  <thead>\n",
       "    <tr style=\"text-align: right;\">\n",
       "      <th></th>\n",
       "      <th>mean_precision</th>\n",
       "      <th>mean_recall</th>\n",
       "      <th>mean_f1score</th>\n",
       "    </tr>\n",
       "  </thead>\n",
       "  <tbody>\n",
       "    <tr>\n",
       "      <th>0</th>\n",
       "      <td>precision    0.514888\n",
       "dtype: float64</td>\n",
       "      <td>recall    0.369998\n",
       "dtype: float64</td>\n",
       "      <td>f1-score    0.367638\n",
       "dtype: float64</td>\n",
       "    </tr>\n",
       "    <tr>\n",
       "      <th>1</th>\n",
       "      <td>precision    0.480166\n",
       "dtype: float64</td>\n",
       "      <td>recall    0.3848\n",
       "dtype: float64</td>\n",
       "      <td>f1-score    0.380068\n",
       "dtype: float64</td>\n",
       "    </tr>\n",
       "    <tr>\n",
       "      <th>2</th>\n",
       "      <td>precision    0.506846\n",
       "dtype: float64</td>\n",
       "      <td>recall    0.368953\n",
       "dtype: float64</td>\n",
       "      <td>f1-score    0.365791\n",
       "dtype: float64</td>\n",
       "    </tr>\n",
       "    <tr>\n",
       "      <th>3</th>\n",
       "      <td>precision    0.517506\n",
       "dtype: float64</td>\n",
       "      <td>recall    0.386085\n",
       "dtype: float64</td>\n",
       "      <td>f1-score    0.383661\n",
       "dtype: float64</td>\n",
       "    </tr>\n",
       "  </tbody>\n",
       "</table>\n",
       "</div>"
      ],
      "text/plain": [
       "                         mean_precision                        mean_recall  \\\n",
       "0  precision    0.514888\n",
       "dtype: float64  recall    0.369998\n",
       "dtype: float64   \n",
       "1  precision    0.480166\n",
       "dtype: float64    recall    0.3848\n",
       "dtype: float64   \n",
       "2  precision    0.506846\n",
       "dtype: float64  recall    0.368953\n",
       "dtype: float64   \n",
       "3  precision    0.517506\n",
       "dtype: float64  recall    0.386085\n",
       "dtype: float64   \n",
       "\n",
       "                          mean_f1score  \n",
       "0  f1-score    0.367638\n",
       "dtype: float64  \n",
       "1  f1-score    0.380068\n",
       "dtype: float64  \n",
       "2  f1-score    0.365791\n",
       "dtype: float64  \n",
       "3  f1-score    0.383661\n",
       "dtype: float64  "
      ]
     },
     "execution_count": 85,
     "metadata": {},
     "output_type": "execute_result"
    }
   ],
   "source": [
    "df = pd.DataFrame(results)\n",
    "df"
   ]
  },
  {
   "cell_type": "markdown",
   "metadata": {},
   "source": [
    "## Results\n",
    "\n",
    "RFC model with criterion='entropy', pipeline params of mean_mfcc__kw_args={'fmin'=500, 'fmax'=4000} has the best overall performance. However, if looking directly onto the precisions, recall, f1-score of each fold, base model has better performance."
   ]
  },
  {
   "cell_type": "code",
   "execution_count": null,
   "metadata": {},
   "outputs": [],
   "source": []
  }
 ],
 "metadata": {
  "kernelspec": {
   "display_name": "Python 3.8.13 64-bit ('shims')",
   "language": "python",
   "name": "python3"
  },
  "language_info": {
   "codemirror_mode": {
    "name": "ipython",
    "version": 3
   },
   "file_extension": ".py",
   "mimetype": "text/x-python",
   "name": "python",
   "nbconvert_exporter": "python",
   "pygments_lexer": "ipython3",
   "version": "3.8.13"
  },
  "orig_nbformat": 4,
  "vscode": {
   "interpreter": {
    "hash": "34f032ffbf4e7ff0cd50405e3de477e565ca852729e0b020651a5c5aa64ef86e"
   }
  }
 },
 "nbformat": 4,
 "nbformat_minor": 2
}
