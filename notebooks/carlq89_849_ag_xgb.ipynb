{
 "cells": [
  {
   "cell_type": "code",
   "execution_count": 2,
   "metadata": {},
   "outputs": [],
   "source": [
    "from hasp.feature_pipeline import make_oversampled_feature_pipeline\n",
    "from sklearn.pipeline import Pipeline\n",
    "from sklearn.metrics import classification_report, confusion_matrix\n",
    "from xgboost import XGBClassifier\n",
    "from hasp.util import combine_classes\n",
    "from hasp.augmenting_oversampler import AugmentingRandomOversampler\n",
    "import pandas as pd\n",
    "import numpy as np"
   ]
  },
  {
   "cell_type": "markdown",
   "metadata": {},
   "source": [
    "## Data"
   ]
  },
  {
   "cell_type": "code",
   "execution_count": 6,
   "metadata": {},
   "outputs": [],
   "source": [
    "from us8kdata.loader import UrbanSound8K\n",
    "data = UrbanSound8K('../hasp/data')"
   ]
  },
  {
   "cell_type": "code",
   "execution_count": 7,
   "metadata": {},
   "outputs": [],
   "source": [
    "train_fold = [samples for samples in data.fold_audio_generator(fold=[1, 2, 3, 6, 7, 8, 9, 10])]\n",
    "val_fold = [samples for samples in data.fold_audio_generator(fold=[4])]\n",
    "test_fold = [samples for samples in data.fold_audio_generator(fold=[5])]"
   ]
  },
  {
   "cell_type": "code",
   "execution_count": 8,
   "metadata": {},
   "outputs": [],
   "source": [
    "train_y = data.filter_metadata(fold=[1, 2, 3, 6, 7, 8, 9, 10]).classID\n",
    "val_y = data.filter_metadata(fold=[4]).classID\n",
    "test_y = data.filter_metadata(fold=[5]).classID"
   ]
  },
  {
   "cell_type": "code",
   "execution_count": 56,
   "metadata": {},
   "outputs": [],
   "source": [
    "combined_val_y = combine_classes([0, 2, 4, 5, 6, 7, 9], val_y)"
   ]
  },
  {
   "cell_type": "markdown",
   "metadata": {},
   "source": [
    "## 1. Model - AddGaussianNoise"
   ]
  },
  {
   "cell_type": "code",
   "execution_count": 3,
   "metadata": {},
   "outputs": [
    {
     "name": "stdout",
     "output_type": "stream",
     "text": [
      "Use pipe.set_params(over_sampler=.., estimator=..) to finish the pipeline\n"
     ]
    }
   ],
   "source": [
    "pipe = make_oversampled_feature_pipeline()"
   ]
  },
  {
   "cell_type": "code",
   "execution_count": 5,
   "metadata": {},
   "outputs": [
    {
     "data": {
      "text/html": [
       "<style>#sk-container-id-1 {color: black;background-color: white;}#sk-container-id-1 pre{padding: 0;}#sk-container-id-1 div.sk-toggleable {background-color: white;}#sk-container-id-1 label.sk-toggleable__label {cursor: pointer;display: block;width: 100%;margin-bottom: 0;padding: 0.3em;box-sizing: border-box;text-align: center;}#sk-container-id-1 label.sk-toggleable__label-arrow:before {content: \"▸\";float: left;margin-right: 0.25em;color: #696969;}#sk-container-id-1 label.sk-toggleable__label-arrow:hover:before {color: black;}#sk-container-id-1 div.sk-estimator:hover label.sk-toggleable__label-arrow:before {color: black;}#sk-container-id-1 div.sk-toggleable__content {max-height: 0;max-width: 0;overflow: hidden;text-align: left;background-color: #f0f8ff;}#sk-container-id-1 div.sk-toggleable__content pre {margin: 0.2em;color: black;border-radius: 0.25em;background-color: #f0f8ff;}#sk-container-id-1 input.sk-toggleable__control:checked~div.sk-toggleable__content {max-height: 200px;max-width: 100%;overflow: auto;}#sk-container-id-1 input.sk-toggleable__control:checked~label.sk-toggleable__label-arrow:before {content: \"▾\";}#sk-container-id-1 div.sk-estimator input.sk-toggleable__control:checked~label.sk-toggleable__label {background-color: #d4ebff;}#sk-container-id-1 div.sk-label input.sk-toggleable__control:checked~label.sk-toggleable__label {background-color: #d4ebff;}#sk-container-id-1 input.sk-hidden--visually {border: 0;clip: rect(1px 1px 1px 1px);clip: rect(1px, 1px, 1px, 1px);height: 1px;margin: -1px;overflow: hidden;padding: 0;position: absolute;width: 1px;}#sk-container-id-1 div.sk-estimator {font-family: monospace;background-color: #f0f8ff;border: 1px dotted black;border-radius: 0.25em;box-sizing: border-box;margin-bottom: 0.5em;}#sk-container-id-1 div.sk-estimator:hover {background-color: #d4ebff;}#sk-container-id-1 div.sk-parallel-item::after {content: \"\";width: 100%;border-bottom: 1px solid gray;flex-grow: 1;}#sk-container-id-1 div.sk-label:hover label.sk-toggleable__label {background-color: #d4ebff;}#sk-container-id-1 div.sk-serial::before {content: \"\";position: absolute;border-left: 1px solid gray;box-sizing: border-box;top: 0;bottom: 0;left: 50%;z-index: 0;}#sk-container-id-1 div.sk-serial {display: flex;flex-direction: column;align-items: center;background-color: white;padding-right: 0.2em;padding-left: 0.2em;position: relative;}#sk-container-id-1 div.sk-item {position: relative;z-index: 1;}#sk-container-id-1 div.sk-parallel {display: flex;align-items: stretch;justify-content: center;background-color: white;position: relative;}#sk-container-id-1 div.sk-item::before, #sk-container-id-1 div.sk-parallel-item::before {content: \"\";position: absolute;border-left: 1px solid gray;box-sizing: border-box;top: 0;bottom: 0;left: 50%;z-index: -1;}#sk-container-id-1 div.sk-parallel-item {display: flex;flex-direction: column;z-index: 1;position: relative;background-color: white;}#sk-container-id-1 div.sk-parallel-item:first-child::after {align-self: flex-end;width: 50%;}#sk-container-id-1 div.sk-parallel-item:last-child::after {align-self: flex-start;width: 50%;}#sk-container-id-1 div.sk-parallel-item:only-child::after {width: 0;}#sk-container-id-1 div.sk-dashed-wrapped {border: 1px dashed gray;margin: 0 0.4em 0.5em 0.4em;box-sizing: border-box;padding-bottom: 0.4em;background-color: white;}#sk-container-id-1 div.sk-label label {font-family: monospace;font-weight: bold;display: inline-block;line-height: 1.2em;}#sk-container-id-1 div.sk-label-container {text-align: center;}#sk-container-id-1 div.sk-container {/* jupyter's `normalize.less` sets `[hidden] { display: none; }` but bootstrap.min.css set `[hidden] { display: none !important; }` so we also need the `!important` here to be able to override the default hidden behavior on the sphinx rendered scikit-learn.org. See: https://github.com/scikit-learn/scikit-learn/issues/21755 */display: inline-block !important;position: relative;}#sk-container-id-1 div.sk-text-repr-fallback {display: none;}</style><div id=\"sk-container-id-1\" class=\"sk-top-container\"><div class=\"sk-text-repr-fallback\"><pre>Pipeline(steps=[(&#x27;pad&#x27;,\n",
       "                 FunctionTransformer(func=&lt;function np_pad_wrapper at 0x15335f0d0&gt;,\n",
       "                                     kw_args={&#x27;max_len&#x27;: 64000})),\n",
       "                (&#x27;over_sampler&#x27;,\n",
       "                 AugmentingRandomOversampler(sampling_strategy=&#x27;minority&#x27;)),\n",
       "                (&#x27;mean_mfcc&#x27;,\n",
       "                 FunctionTransformer(func=&lt;function samples_to_mean_mfcc at 0x10cf3f790&gt;,\n",
       "                                     kw_args={&#x27;fmax&#x27;: 3000.0, &#x27;fmin&#x27;: 0.0,\n",
       "                                              &#x27;hop_length&#x27;: 128, &#x27;n_fft&#x27;: 256,\n",
       "                                              &#x27;n_mfcc&#x27;: 16, &#x27;sr&#x27;...\n",
       "                               gamma=None, gpu_id=None, grow_policy=None,\n",
       "                               importance_type=None,\n",
       "                               interaction_constraints=None,\n",
       "                               learning_rate=0.025, max_bin=None,\n",
       "                               max_cat_to_onehot=None, max_delta_step=None,\n",
       "                               max_depth=8, max_leaves=None,\n",
       "                               min_child_weight=None, missing=nan,\n",
       "                               monotone_constraints=None, n_estimators=400,\n",
       "                               n_jobs=None, nthread=4, num_parallel_tree=None,\n",
       "                               objective=&#x27;multi:softmax&#x27;, predictor=None,\n",
       "                               random_state=None, ...))])</pre><b>In a Jupyter environment, please rerun this cell to show the HTML representation or trust the notebook. <br />On GitHub, the HTML representation is unable to render, please try loading this page with nbviewer.org.</b></div><div class=\"sk-container\" hidden><div class=\"sk-item sk-dashed-wrapped\"><div class=\"sk-label-container\"><div class=\"sk-label sk-toggleable\"><input class=\"sk-toggleable__control sk-hidden--visually\" id=\"sk-estimator-id-1\" type=\"checkbox\" ><label for=\"sk-estimator-id-1\" class=\"sk-toggleable__label sk-toggleable__label-arrow\">Pipeline</label><div class=\"sk-toggleable__content\"><pre>Pipeline(steps=[(&#x27;pad&#x27;,\n",
       "                 FunctionTransformer(func=&lt;function np_pad_wrapper at 0x15335f0d0&gt;,\n",
       "                                     kw_args={&#x27;max_len&#x27;: 64000})),\n",
       "                (&#x27;over_sampler&#x27;,\n",
       "                 AugmentingRandomOversampler(sampling_strategy=&#x27;minority&#x27;)),\n",
       "                (&#x27;mean_mfcc&#x27;,\n",
       "                 FunctionTransformer(func=&lt;function samples_to_mean_mfcc at 0x10cf3f790&gt;,\n",
       "                                     kw_args={&#x27;fmax&#x27;: 3000.0, &#x27;fmin&#x27;: 0.0,\n",
       "                                              &#x27;hop_length&#x27;: 128, &#x27;n_fft&#x27;: 256,\n",
       "                                              &#x27;n_mfcc&#x27;: 16, &#x27;sr&#x27;...\n",
       "                               gamma=None, gpu_id=None, grow_policy=None,\n",
       "                               importance_type=None,\n",
       "                               interaction_constraints=None,\n",
       "                               learning_rate=0.025, max_bin=None,\n",
       "                               max_cat_to_onehot=None, max_delta_step=None,\n",
       "                               max_depth=8, max_leaves=None,\n",
       "                               min_child_weight=None, missing=nan,\n",
       "                               monotone_constraints=None, n_estimators=400,\n",
       "                               n_jobs=None, nthread=4, num_parallel_tree=None,\n",
       "                               objective=&#x27;multi:softmax&#x27;, predictor=None,\n",
       "                               random_state=None, ...))])</pre></div></div></div><div class=\"sk-serial\"><div class=\"sk-item\"><div class=\"sk-estimator sk-toggleable\"><input class=\"sk-toggleable__control sk-hidden--visually\" id=\"sk-estimator-id-2\" type=\"checkbox\" ><label for=\"sk-estimator-id-2\" class=\"sk-toggleable__label sk-toggleable__label-arrow\">FunctionTransformer</label><div class=\"sk-toggleable__content\"><pre>FunctionTransformer(func=&lt;function np_pad_wrapper at 0x15335f0d0&gt;,\n",
       "                    kw_args={&#x27;max_len&#x27;: 64000})</pre></div></div></div><div class=\"sk-item\"><div class=\"sk-estimator sk-toggleable\"><input class=\"sk-toggleable__control sk-hidden--visually\" id=\"sk-estimator-id-3\" type=\"checkbox\" ><label for=\"sk-estimator-id-3\" class=\"sk-toggleable__label sk-toggleable__label-arrow\">AugmentingRandomOversampler</label><div class=\"sk-toggleable__content\"><pre>AugmentingRandomOversampler(sampling_strategy=&#x27;minority&#x27;)</pre></div></div></div><div class=\"sk-item\"><div class=\"sk-estimator sk-toggleable\"><input class=\"sk-toggleable__control sk-hidden--visually\" id=\"sk-estimator-id-4\" type=\"checkbox\" ><label for=\"sk-estimator-id-4\" class=\"sk-toggleable__label sk-toggleable__label-arrow\">FunctionTransformer</label><div class=\"sk-toggleable__content\"><pre>FunctionTransformer(func=&lt;function samples_to_mean_mfcc at 0x10cf3f790&gt;,\n",
       "                    kw_args={&#x27;fmax&#x27;: 3000.0, &#x27;fmin&#x27;: 0.0, &#x27;hop_length&#x27;: 128,\n",
       "                             &#x27;n_fft&#x27;: 256, &#x27;n_mfcc&#x27;: 16, &#x27;sr&#x27;: 16000})</pre></div></div></div><div class=\"sk-item\"><div class=\"sk-estimator sk-toggleable\"><input class=\"sk-toggleable__control sk-hidden--visually\" id=\"sk-estimator-id-5\" type=\"checkbox\" ><label for=\"sk-estimator-id-5\" class=\"sk-toggleable__label sk-toggleable__label-arrow\">StandardScaler</label><div class=\"sk-toggleable__content\"><pre>StandardScaler()</pre></div></div></div><div class=\"sk-item\"><div class=\"sk-estimator sk-toggleable\"><input class=\"sk-toggleable__control sk-hidden--visually\" id=\"sk-estimator-id-6\" type=\"checkbox\" ><label for=\"sk-estimator-id-6\" class=\"sk-toggleable__label sk-toggleable__label-arrow\">XGBClassifier</label><div class=\"sk-toggleable__content\"><pre>XGBClassifier(base_score=None, booster=None, callbacks=None,\n",
       "              colsample_bylevel=None, colsample_bynode=None,\n",
       "              colsample_bytree=None, early_stopping_rounds=None,\n",
       "              enable_categorical=False, eval_metric=None, gamma=None,\n",
       "              gpu_id=None, grow_policy=None, importance_type=None,\n",
       "              interaction_constraints=None, learning_rate=0.025, max_bin=None,\n",
       "              max_cat_to_onehot=None, max_delta_step=None, max_depth=8,\n",
       "              max_leaves=None, min_child_weight=None, missing=nan,\n",
       "              monotone_constraints=None, n_estimators=400, n_jobs=None,\n",
       "              nthread=4, num_parallel_tree=None, objective=&#x27;multi:softmax&#x27;,\n",
       "              predictor=None, random_state=None, ...)</pre></div></div></div></div></div></div></div>"
      ],
      "text/plain": [
       "Pipeline(steps=[('pad',\n",
       "                 FunctionTransformer(func=<function np_pad_wrapper at 0x15335f0d0>,\n",
       "                                     kw_args={'max_len': 64000})),\n",
       "                ('over_sampler',\n",
       "                 AugmentingRandomOversampler(sampling_strategy='minority')),\n",
       "                ('mean_mfcc',\n",
       "                 FunctionTransformer(func=<function samples_to_mean_mfcc at 0x10cf3f790>,\n",
       "                                     kw_args={'fmax': 3000.0, 'fmin': 0.0,\n",
       "                                              'hop_length': 128, 'n_fft': 256,\n",
       "                                              'n_mfcc': 16, 'sr'...\n",
       "                               gamma=None, gpu_id=None, grow_policy=None,\n",
       "                               importance_type=None,\n",
       "                               interaction_constraints=None,\n",
       "                               learning_rate=0.025, max_bin=None,\n",
       "                               max_cat_to_onehot=None, max_delta_step=None,\n",
       "                               max_depth=8, max_leaves=None,\n",
       "                               min_child_weight=None, missing=nan,\n",
       "                               monotone_constraints=None, n_estimators=400,\n",
       "                               n_jobs=None, nthread=4, num_parallel_tree=None,\n",
       "                               objective='multi:softmax', predictor=None,\n",
       "                               random_state=None, ...))])"
      ]
     },
     "execution_count": 5,
     "metadata": {},
     "output_type": "execute_result"
    }
   ],
   "source": [
    "pipe.set_params(over_sampler=AugmentingRandomOversampler(),\n",
    "                estimator=XGBClassifier(n_estimators=400, \n",
    "                              learning_rate=0.025, \n",
    "                              max_depth=8, \n",
    "                              objective='multi:softmax',\n",
    "                              nthread=4),\n",
    "                mean_mfcc__kw_args= {'sr': 16000,\n",
    "                'n_mfcc': 16,\n",
    "                'n_fft': 256,\n",
    "                'hop_length': 128,\n",
    "                'fmin': 0.0,\n",
    "                'fmax': 3000.0,\n",
    "                'n_mels': 98})"
   ]
  },
  {
   "cell_type": "code",
   "execution_count": 10,
   "metadata": {},
   "outputs": [
    {
     "name": "stderr",
     "output_type": "stream",
     "text": [
      "/Users/carlquin/.pyenv/versions/usk8data/lib/python3.8/site-packages/librosa/util/decorators.py:88: UserWarning: Empty filters detected in mel frequency basis. Some channels will produce empty responses. Try increasing your sampling rate (and fmax) or reducing n_mels.\n",
      "  return f(*args, **kwargs)\n"
     ]
    },
    {
     "data": {
      "text/html": [
       "<style>#sk-container-id-2 {color: black;background-color: white;}#sk-container-id-2 pre{padding: 0;}#sk-container-id-2 div.sk-toggleable {background-color: white;}#sk-container-id-2 label.sk-toggleable__label {cursor: pointer;display: block;width: 100%;margin-bottom: 0;padding: 0.3em;box-sizing: border-box;text-align: center;}#sk-container-id-2 label.sk-toggleable__label-arrow:before {content: \"▸\";float: left;margin-right: 0.25em;color: #696969;}#sk-container-id-2 label.sk-toggleable__label-arrow:hover:before {color: black;}#sk-container-id-2 div.sk-estimator:hover label.sk-toggleable__label-arrow:before {color: black;}#sk-container-id-2 div.sk-toggleable__content {max-height: 0;max-width: 0;overflow: hidden;text-align: left;background-color: #f0f8ff;}#sk-container-id-2 div.sk-toggleable__content pre {margin: 0.2em;color: black;border-radius: 0.25em;background-color: #f0f8ff;}#sk-container-id-2 input.sk-toggleable__control:checked~div.sk-toggleable__content {max-height: 200px;max-width: 100%;overflow: auto;}#sk-container-id-2 input.sk-toggleable__control:checked~label.sk-toggleable__label-arrow:before {content: \"▾\";}#sk-container-id-2 div.sk-estimator input.sk-toggleable__control:checked~label.sk-toggleable__label {background-color: #d4ebff;}#sk-container-id-2 div.sk-label input.sk-toggleable__control:checked~label.sk-toggleable__label {background-color: #d4ebff;}#sk-container-id-2 input.sk-hidden--visually {border: 0;clip: rect(1px 1px 1px 1px);clip: rect(1px, 1px, 1px, 1px);height: 1px;margin: -1px;overflow: hidden;padding: 0;position: absolute;width: 1px;}#sk-container-id-2 div.sk-estimator {font-family: monospace;background-color: #f0f8ff;border: 1px dotted black;border-radius: 0.25em;box-sizing: border-box;margin-bottom: 0.5em;}#sk-container-id-2 div.sk-estimator:hover {background-color: #d4ebff;}#sk-container-id-2 div.sk-parallel-item::after {content: \"\";width: 100%;border-bottom: 1px solid gray;flex-grow: 1;}#sk-container-id-2 div.sk-label:hover label.sk-toggleable__label {background-color: #d4ebff;}#sk-container-id-2 div.sk-serial::before {content: \"\";position: absolute;border-left: 1px solid gray;box-sizing: border-box;top: 0;bottom: 0;left: 50%;z-index: 0;}#sk-container-id-2 div.sk-serial {display: flex;flex-direction: column;align-items: center;background-color: white;padding-right: 0.2em;padding-left: 0.2em;position: relative;}#sk-container-id-2 div.sk-item {position: relative;z-index: 1;}#sk-container-id-2 div.sk-parallel {display: flex;align-items: stretch;justify-content: center;background-color: white;position: relative;}#sk-container-id-2 div.sk-item::before, #sk-container-id-2 div.sk-parallel-item::before {content: \"\";position: absolute;border-left: 1px solid gray;box-sizing: border-box;top: 0;bottom: 0;left: 50%;z-index: -1;}#sk-container-id-2 div.sk-parallel-item {display: flex;flex-direction: column;z-index: 1;position: relative;background-color: white;}#sk-container-id-2 div.sk-parallel-item:first-child::after {align-self: flex-end;width: 50%;}#sk-container-id-2 div.sk-parallel-item:last-child::after {align-self: flex-start;width: 50%;}#sk-container-id-2 div.sk-parallel-item:only-child::after {width: 0;}#sk-container-id-2 div.sk-dashed-wrapped {border: 1px dashed gray;margin: 0 0.4em 0.5em 0.4em;box-sizing: border-box;padding-bottom: 0.4em;background-color: white;}#sk-container-id-2 div.sk-label label {font-family: monospace;font-weight: bold;display: inline-block;line-height: 1.2em;}#sk-container-id-2 div.sk-label-container {text-align: center;}#sk-container-id-2 div.sk-container {/* jupyter's `normalize.less` sets `[hidden] { display: none; }` but bootstrap.min.css set `[hidden] { display: none !important; }` so we also need the `!important` here to be able to override the default hidden behavior on the sphinx rendered scikit-learn.org. See: https://github.com/scikit-learn/scikit-learn/issues/21755 */display: inline-block !important;position: relative;}#sk-container-id-2 div.sk-text-repr-fallback {display: none;}</style><div id=\"sk-container-id-2\" class=\"sk-top-container\"><div class=\"sk-text-repr-fallback\"><pre>Pipeline(steps=[(&#x27;pad&#x27;,\n",
       "                 FunctionTransformer(func=&lt;function np_pad_wrapper at 0x15335f0d0&gt;,\n",
       "                                     kw_args={&#x27;max_len&#x27;: 64000})),\n",
       "                (&#x27;over_sampler&#x27;,\n",
       "                 AugmentingRandomOversampler(sampling_strategy=&#x27;minority&#x27;)),\n",
       "                (&#x27;mean_mfcc&#x27;,\n",
       "                 FunctionTransformer(func=&lt;function samples_to_mean_mfcc at 0x10cf3f790&gt;,\n",
       "                                     kw_args={&#x27;fmax&#x27;: 3000.0, &#x27;fmin&#x27;: 0.0,\n",
       "                                              &#x27;hop_length&#x27;: 128, &#x27;n_fft&#x27;: 256,\n",
       "                                              &#x27;n_mfcc&#x27;: 16, &#x27;sr&#x27;...\n",
       "                               gamma=0, gpu_id=-1, grow_policy=&#x27;depthwise&#x27;,\n",
       "                               importance_type=None, interaction_constraints=&#x27;&#x27;,\n",
       "                               learning_rate=0.025, max_bin=256,\n",
       "                               max_cat_to_onehot=4, max_delta_step=0,\n",
       "                               max_depth=8, max_leaves=0, min_child_weight=1,\n",
       "                               missing=nan, monotone_constraints=&#x27;()&#x27;,\n",
       "                               n_estimators=400, n_jobs=4, nthread=4,\n",
       "                               num_parallel_tree=1, objective=&#x27;multi:softmax&#x27;,\n",
       "                               predictor=&#x27;auto&#x27;, random_state=0, ...))])</pre><b>In a Jupyter environment, please rerun this cell to show the HTML representation or trust the notebook. <br />On GitHub, the HTML representation is unable to render, please try loading this page with nbviewer.org.</b></div><div class=\"sk-container\" hidden><div class=\"sk-item sk-dashed-wrapped\"><div class=\"sk-label-container\"><div class=\"sk-label sk-toggleable\"><input class=\"sk-toggleable__control sk-hidden--visually\" id=\"sk-estimator-id-7\" type=\"checkbox\" ><label for=\"sk-estimator-id-7\" class=\"sk-toggleable__label sk-toggleable__label-arrow\">Pipeline</label><div class=\"sk-toggleable__content\"><pre>Pipeline(steps=[(&#x27;pad&#x27;,\n",
       "                 FunctionTransformer(func=&lt;function np_pad_wrapper at 0x15335f0d0&gt;,\n",
       "                                     kw_args={&#x27;max_len&#x27;: 64000})),\n",
       "                (&#x27;over_sampler&#x27;,\n",
       "                 AugmentingRandomOversampler(sampling_strategy=&#x27;minority&#x27;)),\n",
       "                (&#x27;mean_mfcc&#x27;,\n",
       "                 FunctionTransformer(func=&lt;function samples_to_mean_mfcc at 0x10cf3f790&gt;,\n",
       "                                     kw_args={&#x27;fmax&#x27;: 3000.0, &#x27;fmin&#x27;: 0.0,\n",
       "                                              &#x27;hop_length&#x27;: 128, &#x27;n_fft&#x27;: 256,\n",
       "                                              &#x27;n_mfcc&#x27;: 16, &#x27;sr&#x27;...\n",
       "                               gamma=0, gpu_id=-1, grow_policy=&#x27;depthwise&#x27;,\n",
       "                               importance_type=None, interaction_constraints=&#x27;&#x27;,\n",
       "                               learning_rate=0.025, max_bin=256,\n",
       "                               max_cat_to_onehot=4, max_delta_step=0,\n",
       "                               max_depth=8, max_leaves=0, min_child_weight=1,\n",
       "                               missing=nan, monotone_constraints=&#x27;()&#x27;,\n",
       "                               n_estimators=400, n_jobs=4, nthread=4,\n",
       "                               num_parallel_tree=1, objective=&#x27;multi:softmax&#x27;,\n",
       "                               predictor=&#x27;auto&#x27;, random_state=0, ...))])</pre></div></div></div><div class=\"sk-serial\"><div class=\"sk-item\"><div class=\"sk-estimator sk-toggleable\"><input class=\"sk-toggleable__control sk-hidden--visually\" id=\"sk-estimator-id-8\" type=\"checkbox\" ><label for=\"sk-estimator-id-8\" class=\"sk-toggleable__label sk-toggleable__label-arrow\">FunctionTransformer</label><div class=\"sk-toggleable__content\"><pre>FunctionTransformer(func=&lt;function np_pad_wrapper at 0x15335f0d0&gt;,\n",
       "                    kw_args={&#x27;max_len&#x27;: 64000})</pre></div></div></div><div class=\"sk-item\"><div class=\"sk-estimator sk-toggleable\"><input class=\"sk-toggleable__control sk-hidden--visually\" id=\"sk-estimator-id-9\" type=\"checkbox\" ><label for=\"sk-estimator-id-9\" class=\"sk-toggleable__label sk-toggleable__label-arrow\">AugmentingRandomOversampler</label><div class=\"sk-toggleable__content\"><pre>AugmentingRandomOversampler(sampling_strategy=&#x27;minority&#x27;)</pre></div></div></div><div class=\"sk-item\"><div class=\"sk-estimator sk-toggleable\"><input class=\"sk-toggleable__control sk-hidden--visually\" id=\"sk-estimator-id-10\" type=\"checkbox\" ><label for=\"sk-estimator-id-10\" class=\"sk-toggleable__label sk-toggleable__label-arrow\">FunctionTransformer</label><div class=\"sk-toggleable__content\"><pre>FunctionTransformer(func=&lt;function samples_to_mean_mfcc at 0x10cf3f790&gt;,\n",
       "                    kw_args={&#x27;fmax&#x27;: 3000.0, &#x27;fmin&#x27;: 0.0, &#x27;hop_length&#x27;: 128,\n",
       "                             &#x27;n_fft&#x27;: 256, &#x27;n_mfcc&#x27;: 16, &#x27;sr&#x27;: 16000})</pre></div></div></div><div class=\"sk-item\"><div class=\"sk-estimator sk-toggleable\"><input class=\"sk-toggleable__control sk-hidden--visually\" id=\"sk-estimator-id-11\" type=\"checkbox\" ><label for=\"sk-estimator-id-11\" class=\"sk-toggleable__label sk-toggleable__label-arrow\">StandardScaler</label><div class=\"sk-toggleable__content\"><pre>StandardScaler()</pre></div></div></div><div class=\"sk-item\"><div class=\"sk-estimator sk-toggleable\"><input class=\"sk-toggleable__control sk-hidden--visually\" id=\"sk-estimator-id-12\" type=\"checkbox\" ><label for=\"sk-estimator-id-12\" class=\"sk-toggleable__label sk-toggleable__label-arrow\">XGBClassifier</label><div class=\"sk-toggleable__content\"><pre>XGBClassifier(base_score=0.5, booster=&#x27;gbtree&#x27;, callbacks=None,\n",
       "              colsample_bylevel=1, colsample_bynode=1, colsample_bytree=1,\n",
       "              early_stopping_rounds=None, enable_categorical=False,\n",
       "              eval_metric=None, gamma=0, gpu_id=-1, grow_policy=&#x27;depthwise&#x27;,\n",
       "              importance_type=None, interaction_constraints=&#x27;&#x27;,\n",
       "              learning_rate=0.025, max_bin=256, max_cat_to_onehot=4,\n",
       "              max_delta_step=0, max_depth=8, max_leaves=0, min_child_weight=1,\n",
       "              missing=nan, monotone_constraints=&#x27;()&#x27;, n_estimators=400,\n",
       "              n_jobs=4, nthread=4, num_parallel_tree=1,\n",
       "              objective=&#x27;multi:softmax&#x27;, predictor=&#x27;auto&#x27;, random_state=0, ...)</pre></div></div></div></div></div></div></div>"
      ],
      "text/plain": [
       "Pipeline(steps=[('pad',\n",
       "                 FunctionTransformer(func=<function np_pad_wrapper at 0x15335f0d0>,\n",
       "                                     kw_args={'max_len': 64000})),\n",
       "                ('over_sampler',\n",
       "                 AugmentingRandomOversampler(sampling_strategy='minority')),\n",
       "                ('mean_mfcc',\n",
       "                 FunctionTransformer(func=<function samples_to_mean_mfcc at 0x10cf3f790>,\n",
       "                                     kw_args={'fmax': 3000.0, 'fmin': 0.0,\n",
       "                                              'hop_length': 128, 'n_fft': 256,\n",
       "                                              'n_mfcc': 16, 'sr'...\n",
       "                               gamma=0, gpu_id=-1, grow_policy='depthwise',\n",
       "                               importance_type=None, interaction_constraints='',\n",
       "                               learning_rate=0.025, max_bin=256,\n",
       "                               max_cat_to_onehot=4, max_delta_step=0,\n",
       "                               max_depth=8, max_leaves=0, min_child_weight=1,\n",
       "                               missing=nan, monotone_constraints='()',\n",
       "                               n_estimators=400, n_jobs=4, nthread=4,\n",
       "                               num_parallel_tree=1, objective='multi:softmax',\n",
       "                               predictor='auto', random_state=0, ...))])"
      ]
     },
     "execution_count": 10,
     "metadata": {},
     "output_type": "execute_result"
    }
   ],
   "source": [
    "pipe.fit(train_fold, train_y)"
   ]
  },
  {
   "cell_type": "code",
   "execution_count": 12,
   "metadata": {},
   "outputs": [
    {
     "name": "stderr",
     "output_type": "stream",
     "text": [
      "/Users/carlquin/.pyenv/versions/usk8data/lib/python3.8/site-packages/librosa/util/decorators.py:88: UserWarning: Empty filters detected in mel frequency basis. Some channels will produce empty responses. Try increasing your sampling rate (and fmax) or reducing n_mels.\n",
      "  return f(*args, **kwargs)\n"
     ]
    }
   ],
   "source": [
    "pred_y = pipe.predict(val_fold)"
   ]
  },
  {
   "cell_type": "code",
   "execution_count": 13,
   "metadata": {},
   "outputs": [
    {
     "name": "stdout",
     "output_type": "stream",
     "text": [
      "              precision    recall  f1-score   support\n",
      "\n",
      "           0       0.47      0.23      0.31       100\n",
      "           1       0.39      0.51      0.44        59\n",
      "           2       0.37      0.41      0.39       100\n",
      "           3       0.44      0.74      0.55       100\n",
      "           4       0.55      0.55      0.55       100\n",
      "           5       0.41      0.24      0.30       107\n",
      "           6       0.70      0.55      0.62        38\n",
      "           7       0.37      0.12      0.19       120\n",
      "           8       0.87      0.78      0.82       166\n",
      "           9       0.25      0.50      0.33       100\n",
      "\n",
      "    accuracy                           0.47       990\n",
      "   macro avg       0.48      0.46      0.45       990\n",
      "weighted avg       0.49      0.47      0.46       990\n",
      "\n"
     ]
    }
   ],
   "source": [
    "print(classification_report(val_y, pred_y))"
   ]
  },
  {
   "cell_type": "code",
   "execution_count": 45,
   "metadata": {},
   "outputs": [
    {
     "data": {
      "text/html": [
       "<div>\n",
       "<style scoped>\n",
       "    .dataframe tbody tr th:only-of-type {\n",
       "        vertical-align: middle;\n",
       "    }\n",
       "\n",
       "    .dataframe tbody tr th {\n",
       "        vertical-align: top;\n",
       "    }\n",
       "\n",
       "    .dataframe thead th {\n",
       "        text-align: right;\n",
       "    }\n",
       "</style>\n",
       "<table border=\"1\" class=\"dataframe\">\n",
       "  <thead>\n",
       "    <tr style=\"text-align: right;\">\n",
       "      <th></th>\n",
       "      <th>mean_precision</th>\n",
       "      <th>mean_recall</th>\n",
       "      <th>mean_f1-score</th>\n",
       "    </tr>\n",
       "  </thead>\n",
       "  <tbody>\n",
       "    <tr>\n",
       "      <th>1</th>\n",
       "      <td>0.480564</td>\n",
       "      <td>0.4644</td>\n",
       "      <td>0.452094</td>\n",
       "    </tr>\n",
       "  </tbody>\n",
       "</table>\n",
       "</div>"
      ],
      "text/plain": [
       "   mean_precision  mean_recall  mean_f1-score\n",
       "1        0.480564       0.4644       0.452094"
      ]
     },
     "execution_count": 45,
     "metadata": {},
     "output_type": "execute_result"
    }
   ],
   "source": [
    "report1 = pd.DataFrame(classification_report(val_y, pred_y, output_dict=True)).transpose()\n",
    "mean_report1 = {'mean_precision': np.mean(report1['precision']),\n",
    "                'mean_recall':np.mean(report1['recall']),\n",
    "                'mean_f1-score': np.mean(report1['f1-score'])\n",
    "                }\n",
    "pd.DataFrame(mean_report1, index=[1])"
   ]
  },
  {
   "cell_type": "markdown",
   "metadata": {},
   "source": [
    "### Combined Class Classification Report\n",
    "\n",
    "Target class: car horns (1), sirens(8), dog barks(3)\n",
    "\n",
    "Dangerous classes in report has 0.71 precision, 0.86 recall, 0.78 f1-score. \n",
    "\n",
    "This model has 0.52 accuracy. "
   ]
  },
  {
   "cell_type": "code",
   "execution_count": 57,
   "metadata": {},
   "outputs": [
    {
     "name": "stdout",
     "output_type": "stream",
     "text": [
      "              precision    recall  f1-score   support\n",
      "\n",
      "           0       0.47      0.23      0.31       100\n",
      "           2       0.37      0.41      0.39       100\n",
      "           4       0.55      0.55      0.55       100\n",
      "           5       0.41      0.24      0.30       107\n",
      "           6       0.70      0.55      0.62        38\n",
      "           7       0.37      0.12      0.19       120\n",
      "           8       0.71      0.86      0.78       325\n",
      "           9       0.25      0.50      0.33       100\n",
      "\n",
      "    accuracy                           0.52       990\n",
      "   macro avg       0.48      0.43      0.43       990\n",
      "weighted avg       0.51      0.52      0.49       990\n",
      "\n"
     ]
    }
   ],
   "source": [
    "com_pred_y1 = combine_classes([0, 2, 4, 5, 6, 7, 9], pred_y)\n",
    "\n",
    "report1_1 = classification_report(combined_val_y, com_pred_y1)\n",
    "print(report1_1)"
   ]
  },
  {
   "cell_type": "markdown",
   "metadata": {},
   "source": [
    "## 2. Model -AirAbsorption"
   ]
  },
  {
   "cell_type": "code",
   "execution_count": 14,
   "metadata": {},
   "outputs": [
    {
     "name": "stdout",
     "output_type": "stream",
     "text": [
      "Use pipe.set_params(over_sampler=.., estimator=..) to finish the pipeline\n"
     ]
    }
   ],
   "source": [
    "pipe2 = make_oversampled_feature_pipeline()"
   ]
  },
  {
   "cell_type": "code",
   "execution_count": 19,
   "metadata": {},
   "outputs": [
    {
     "data": {
      "text/html": [
       "<style>#sk-container-id-5 {color: black;background-color: white;}#sk-container-id-5 pre{padding: 0;}#sk-container-id-5 div.sk-toggleable {background-color: white;}#sk-container-id-5 label.sk-toggleable__label {cursor: pointer;display: block;width: 100%;margin-bottom: 0;padding: 0.3em;box-sizing: border-box;text-align: center;}#sk-container-id-5 label.sk-toggleable__label-arrow:before {content: \"▸\";float: left;margin-right: 0.25em;color: #696969;}#sk-container-id-5 label.sk-toggleable__label-arrow:hover:before {color: black;}#sk-container-id-5 div.sk-estimator:hover label.sk-toggleable__label-arrow:before {color: black;}#sk-container-id-5 div.sk-toggleable__content {max-height: 0;max-width: 0;overflow: hidden;text-align: left;background-color: #f0f8ff;}#sk-container-id-5 div.sk-toggleable__content pre {margin: 0.2em;color: black;border-radius: 0.25em;background-color: #f0f8ff;}#sk-container-id-5 input.sk-toggleable__control:checked~div.sk-toggleable__content {max-height: 200px;max-width: 100%;overflow: auto;}#sk-container-id-5 input.sk-toggleable__control:checked~label.sk-toggleable__label-arrow:before {content: \"▾\";}#sk-container-id-5 div.sk-estimator input.sk-toggleable__control:checked~label.sk-toggleable__label {background-color: #d4ebff;}#sk-container-id-5 div.sk-label input.sk-toggleable__control:checked~label.sk-toggleable__label {background-color: #d4ebff;}#sk-container-id-5 input.sk-hidden--visually {border: 0;clip: rect(1px 1px 1px 1px);clip: rect(1px, 1px, 1px, 1px);height: 1px;margin: -1px;overflow: hidden;padding: 0;position: absolute;width: 1px;}#sk-container-id-5 div.sk-estimator {font-family: monospace;background-color: #f0f8ff;border: 1px dotted black;border-radius: 0.25em;box-sizing: border-box;margin-bottom: 0.5em;}#sk-container-id-5 div.sk-estimator:hover {background-color: #d4ebff;}#sk-container-id-5 div.sk-parallel-item::after {content: \"\";width: 100%;border-bottom: 1px solid gray;flex-grow: 1;}#sk-container-id-5 div.sk-label:hover label.sk-toggleable__label {background-color: #d4ebff;}#sk-container-id-5 div.sk-serial::before {content: \"\";position: absolute;border-left: 1px solid gray;box-sizing: border-box;top: 0;bottom: 0;left: 50%;z-index: 0;}#sk-container-id-5 div.sk-serial {display: flex;flex-direction: column;align-items: center;background-color: white;padding-right: 0.2em;padding-left: 0.2em;position: relative;}#sk-container-id-5 div.sk-item {position: relative;z-index: 1;}#sk-container-id-5 div.sk-parallel {display: flex;align-items: stretch;justify-content: center;background-color: white;position: relative;}#sk-container-id-5 div.sk-item::before, #sk-container-id-5 div.sk-parallel-item::before {content: \"\";position: absolute;border-left: 1px solid gray;box-sizing: border-box;top: 0;bottom: 0;left: 50%;z-index: -1;}#sk-container-id-5 div.sk-parallel-item {display: flex;flex-direction: column;z-index: 1;position: relative;background-color: white;}#sk-container-id-5 div.sk-parallel-item:first-child::after {align-self: flex-end;width: 50%;}#sk-container-id-5 div.sk-parallel-item:last-child::after {align-self: flex-start;width: 50%;}#sk-container-id-5 div.sk-parallel-item:only-child::after {width: 0;}#sk-container-id-5 div.sk-dashed-wrapped {border: 1px dashed gray;margin: 0 0.4em 0.5em 0.4em;box-sizing: border-box;padding-bottom: 0.4em;background-color: white;}#sk-container-id-5 div.sk-label label {font-family: monospace;font-weight: bold;display: inline-block;line-height: 1.2em;}#sk-container-id-5 div.sk-label-container {text-align: center;}#sk-container-id-5 div.sk-container {/* jupyter's `normalize.less` sets `[hidden] { display: none; }` but bootstrap.min.css set `[hidden] { display: none !important; }` so we also need the `!important` here to be able to override the default hidden behavior on the sphinx rendered scikit-learn.org. See: https://github.com/scikit-learn/scikit-learn/issues/21755 */display: inline-block !important;position: relative;}#sk-container-id-5 div.sk-text-repr-fallback {display: none;}</style><div id=\"sk-container-id-5\" class=\"sk-top-container\"><div class=\"sk-text-repr-fallback\"><pre>Pipeline(steps=[(&#x27;pad&#x27;,\n",
       "                 FunctionTransformer(func=&lt;function np_pad_wrapper at 0x15335f0d0&gt;,\n",
       "                                     kw_args={&#x27;max_len&#x27;: 64000})),\n",
       "                (&#x27;over_sampler&#x27;,\n",
       "                 AugmentingRandomOversampler(augment_method=&#x27;AirAbsorption&#x27;,\n",
       "                                             sampling_strategy=&#x27;minority&#x27;)),\n",
       "                (&#x27;mean_mfcc&#x27;,\n",
       "                 FunctionTransformer(func=&lt;function samples_to_mean_mfcc at 0x10cf3f790&gt;,\n",
       "                                     kw_args={&#x27;fmax&#x27;: 3000.0, &#x27;fmin&#x27;: 0.0,\n",
       "                                              &#x27;hop_length&#x27;: 1...\n",
       "                               gamma=None, gpu_id=None, grow_policy=None,\n",
       "                               importance_type=None,\n",
       "                               interaction_constraints=None,\n",
       "                               learning_rate=0.025, max_bin=None,\n",
       "                               max_cat_to_onehot=None, max_delta_step=None,\n",
       "                               max_depth=8, max_leaves=None,\n",
       "                               min_child_weight=None, missing=nan,\n",
       "                               monotone_constraints=None, n_estimators=400,\n",
       "                               n_jobs=None, nthread=4, num_parallel_tree=None,\n",
       "                               objective=&#x27;multi:softmax&#x27;, predictor=None,\n",
       "                               random_state=None, ...))])</pre><b>In a Jupyter environment, please rerun this cell to show the HTML representation or trust the notebook. <br />On GitHub, the HTML representation is unable to render, please try loading this page with nbviewer.org.</b></div><div class=\"sk-container\" hidden><div class=\"sk-item sk-dashed-wrapped\"><div class=\"sk-label-container\"><div class=\"sk-label sk-toggleable\"><input class=\"sk-toggleable__control sk-hidden--visually\" id=\"sk-estimator-id-25\" type=\"checkbox\" ><label for=\"sk-estimator-id-25\" class=\"sk-toggleable__label sk-toggleable__label-arrow\">Pipeline</label><div class=\"sk-toggleable__content\"><pre>Pipeline(steps=[(&#x27;pad&#x27;,\n",
       "                 FunctionTransformer(func=&lt;function np_pad_wrapper at 0x15335f0d0&gt;,\n",
       "                                     kw_args={&#x27;max_len&#x27;: 64000})),\n",
       "                (&#x27;over_sampler&#x27;,\n",
       "                 AugmentingRandomOversampler(augment_method=&#x27;AirAbsorption&#x27;,\n",
       "                                             sampling_strategy=&#x27;minority&#x27;)),\n",
       "                (&#x27;mean_mfcc&#x27;,\n",
       "                 FunctionTransformer(func=&lt;function samples_to_mean_mfcc at 0x10cf3f790&gt;,\n",
       "                                     kw_args={&#x27;fmax&#x27;: 3000.0, &#x27;fmin&#x27;: 0.0,\n",
       "                                              &#x27;hop_length&#x27;: 1...\n",
       "                               gamma=None, gpu_id=None, grow_policy=None,\n",
       "                               importance_type=None,\n",
       "                               interaction_constraints=None,\n",
       "                               learning_rate=0.025, max_bin=None,\n",
       "                               max_cat_to_onehot=None, max_delta_step=None,\n",
       "                               max_depth=8, max_leaves=None,\n",
       "                               min_child_weight=None, missing=nan,\n",
       "                               monotone_constraints=None, n_estimators=400,\n",
       "                               n_jobs=None, nthread=4, num_parallel_tree=None,\n",
       "                               objective=&#x27;multi:softmax&#x27;, predictor=None,\n",
       "                               random_state=None, ...))])</pre></div></div></div><div class=\"sk-serial\"><div class=\"sk-item\"><div class=\"sk-estimator sk-toggleable\"><input class=\"sk-toggleable__control sk-hidden--visually\" id=\"sk-estimator-id-26\" type=\"checkbox\" ><label for=\"sk-estimator-id-26\" class=\"sk-toggleable__label sk-toggleable__label-arrow\">FunctionTransformer</label><div class=\"sk-toggleable__content\"><pre>FunctionTransformer(func=&lt;function np_pad_wrapper at 0x15335f0d0&gt;,\n",
       "                    kw_args={&#x27;max_len&#x27;: 64000})</pre></div></div></div><div class=\"sk-item\"><div class=\"sk-estimator sk-toggleable\"><input class=\"sk-toggleable__control sk-hidden--visually\" id=\"sk-estimator-id-27\" type=\"checkbox\" ><label for=\"sk-estimator-id-27\" class=\"sk-toggleable__label sk-toggleable__label-arrow\">AugmentingRandomOversampler</label><div class=\"sk-toggleable__content\"><pre>AugmentingRandomOversampler(augment_method=&#x27;AirAbsorption&#x27;,\n",
       "                            sampling_strategy=&#x27;minority&#x27;)</pre></div></div></div><div class=\"sk-item\"><div class=\"sk-estimator sk-toggleable\"><input class=\"sk-toggleable__control sk-hidden--visually\" id=\"sk-estimator-id-28\" type=\"checkbox\" ><label for=\"sk-estimator-id-28\" class=\"sk-toggleable__label sk-toggleable__label-arrow\">FunctionTransformer</label><div class=\"sk-toggleable__content\"><pre>FunctionTransformer(func=&lt;function samples_to_mean_mfcc at 0x10cf3f790&gt;,\n",
       "                    kw_args={&#x27;fmax&#x27;: 3000.0, &#x27;fmin&#x27;: 0.0, &#x27;hop_length&#x27;: 128,\n",
       "                             &#x27;n_fft&#x27;: 256, &#x27;n_mels&#x27;: 98, &#x27;n_mfcc&#x27;: 16,\n",
       "                             &#x27;sr&#x27;: 16000})</pre></div></div></div><div class=\"sk-item\"><div class=\"sk-estimator sk-toggleable\"><input class=\"sk-toggleable__control sk-hidden--visually\" id=\"sk-estimator-id-29\" type=\"checkbox\" ><label for=\"sk-estimator-id-29\" class=\"sk-toggleable__label sk-toggleable__label-arrow\">StandardScaler</label><div class=\"sk-toggleable__content\"><pre>StandardScaler()</pre></div></div></div><div class=\"sk-item\"><div class=\"sk-estimator sk-toggleable\"><input class=\"sk-toggleable__control sk-hidden--visually\" id=\"sk-estimator-id-30\" type=\"checkbox\" ><label for=\"sk-estimator-id-30\" class=\"sk-toggleable__label sk-toggleable__label-arrow\">XGBClassifier</label><div class=\"sk-toggleable__content\"><pre>XGBClassifier(base_score=None, booster=None, callbacks=None,\n",
       "              colsample_bylevel=None, colsample_bynode=None,\n",
       "              colsample_bytree=None, early_stopping_rounds=None,\n",
       "              enable_categorical=False, eval_metric=None, gamma=None,\n",
       "              gpu_id=None, grow_policy=None, importance_type=None,\n",
       "              interaction_constraints=None, learning_rate=0.025, max_bin=None,\n",
       "              max_cat_to_onehot=None, max_delta_step=None, max_depth=8,\n",
       "              max_leaves=None, min_child_weight=None, missing=nan,\n",
       "              monotone_constraints=None, n_estimators=400, n_jobs=None,\n",
       "              nthread=4, num_parallel_tree=None, objective=&#x27;multi:softmax&#x27;,\n",
       "              predictor=None, random_state=None, ...)</pre></div></div></div></div></div></div></div>"
      ],
      "text/plain": [
       "Pipeline(steps=[('pad',\n",
       "                 FunctionTransformer(func=<function np_pad_wrapper at 0x15335f0d0>,\n",
       "                                     kw_args={'max_len': 64000})),\n",
       "                ('over_sampler',\n",
       "                 AugmentingRandomOversampler(augment_method='AirAbsorption',\n",
       "                                             sampling_strategy='minority')),\n",
       "                ('mean_mfcc',\n",
       "                 FunctionTransformer(func=<function samples_to_mean_mfcc at 0x10cf3f790>,\n",
       "                                     kw_args={'fmax': 3000.0, 'fmin': 0.0,\n",
       "                                              'hop_length': 1...\n",
       "                               gamma=None, gpu_id=None, grow_policy=None,\n",
       "                               importance_type=None,\n",
       "                               interaction_constraints=None,\n",
       "                               learning_rate=0.025, max_bin=None,\n",
       "                               max_cat_to_onehot=None, max_delta_step=None,\n",
       "                               max_depth=8, max_leaves=None,\n",
       "                               min_child_weight=None, missing=nan,\n",
       "                               monotone_constraints=None, n_estimators=400,\n",
       "                               n_jobs=None, nthread=4, num_parallel_tree=None,\n",
       "                               objective='multi:softmax', predictor=None,\n",
       "                               random_state=None, ...))])"
      ]
     },
     "execution_count": 19,
     "metadata": {},
     "output_type": "execute_result"
    }
   ],
   "source": [
    "pipe2.set_params(over_sampler=AugmentingRandomOversampler(augment_method='AirAbsorption'),\n",
    "                estimator=XGBClassifier(n_estimators=400, \n",
    "                              learning_rate=0.025, \n",
    "                              max_depth=8, \n",
    "                              objective='multi:softmax',\n",
    "                              nthread=4),\n",
    "                mean_mfcc__kw_args= {'sr': 16000,\n",
    "                'n_mfcc': 16,\n",
    "                'n_fft': 256,\n",
    "                'hop_length': 128,\n",
    "                'fmin': 0.0,\n",
    "                'fmax': 3000.0,\n",
    "                'n_mels': 98})"
   ]
  },
  {
   "cell_type": "code",
   "execution_count": 20,
   "metadata": {},
   "outputs": [
    {
     "data": {
      "text/html": [
       "<style>#sk-container-id-6 {color: black;background-color: white;}#sk-container-id-6 pre{padding: 0;}#sk-container-id-6 div.sk-toggleable {background-color: white;}#sk-container-id-6 label.sk-toggleable__label {cursor: pointer;display: block;width: 100%;margin-bottom: 0;padding: 0.3em;box-sizing: border-box;text-align: center;}#sk-container-id-6 label.sk-toggleable__label-arrow:before {content: \"▸\";float: left;margin-right: 0.25em;color: #696969;}#sk-container-id-6 label.sk-toggleable__label-arrow:hover:before {color: black;}#sk-container-id-6 div.sk-estimator:hover label.sk-toggleable__label-arrow:before {color: black;}#sk-container-id-6 div.sk-toggleable__content {max-height: 0;max-width: 0;overflow: hidden;text-align: left;background-color: #f0f8ff;}#sk-container-id-6 div.sk-toggleable__content pre {margin: 0.2em;color: black;border-radius: 0.25em;background-color: #f0f8ff;}#sk-container-id-6 input.sk-toggleable__control:checked~div.sk-toggleable__content {max-height: 200px;max-width: 100%;overflow: auto;}#sk-container-id-6 input.sk-toggleable__control:checked~label.sk-toggleable__label-arrow:before {content: \"▾\";}#sk-container-id-6 div.sk-estimator input.sk-toggleable__control:checked~label.sk-toggleable__label {background-color: #d4ebff;}#sk-container-id-6 div.sk-label input.sk-toggleable__control:checked~label.sk-toggleable__label {background-color: #d4ebff;}#sk-container-id-6 input.sk-hidden--visually {border: 0;clip: rect(1px 1px 1px 1px);clip: rect(1px, 1px, 1px, 1px);height: 1px;margin: -1px;overflow: hidden;padding: 0;position: absolute;width: 1px;}#sk-container-id-6 div.sk-estimator {font-family: monospace;background-color: #f0f8ff;border: 1px dotted black;border-radius: 0.25em;box-sizing: border-box;margin-bottom: 0.5em;}#sk-container-id-6 div.sk-estimator:hover {background-color: #d4ebff;}#sk-container-id-6 div.sk-parallel-item::after {content: \"\";width: 100%;border-bottom: 1px solid gray;flex-grow: 1;}#sk-container-id-6 div.sk-label:hover label.sk-toggleable__label {background-color: #d4ebff;}#sk-container-id-6 div.sk-serial::before {content: \"\";position: absolute;border-left: 1px solid gray;box-sizing: border-box;top: 0;bottom: 0;left: 50%;z-index: 0;}#sk-container-id-6 div.sk-serial {display: flex;flex-direction: column;align-items: center;background-color: white;padding-right: 0.2em;padding-left: 0.2em;position: relative;}#sk-container-id-6 div.sk-item {position: relative;z-index: 1;}#sk-container-id-6 div.sk-parallel {display: flex;align-items: stretch;justify-content: center;background-color: white;position: relative;}#sk-container-id-6 div.sk-item::before, #sk-container-id-6 div.sk-parallel-item::before {content: \"\";position: absolute;border-left: 1px solid gray;box-sizing: border-box;top: 0;bottom: 0;left: 50%;z-index: -1;}#sk-container-id-6 div.sk-parallel-item {display: flex;flex-direction: column;z-index: 1;position: relative;background-color: white;}#sk-container-id-6 div.sk-parallel-item:first-child::after {align-self: flex-end;width: 50%;}#sk-container-id-6 div.sk-parallel-item:last-child::after {align-self: flex-start;width: 50%;}#sk-container-id-6 div.sk-parallel-item:only-child::after {width: 0;}#sk-container-id-6 div.sk-dashed-wrapped {border: 1px dashed gray;margin: 0 0.4em 0.5em 0.4em;box-sizing: border-box;padding-bottom: 0.4em;background-color: white;}#sk-container-id-6 div.sk-label label {font-family: monospace;font-weight: bold;display: inline-block;line-height: 1.2em;}#sk-container-id-6 div.sk-label-container {text-align: center;}#sk-container-id-6 div.sk-container {/* jupyter's `normalize.less` sets `[hidden] { display: none; }` but bootstrap.min.css set `[hidden] { display: none !important; }` so we also need the `!important` here to be able to override the default hidden behavior on the sphinx rendered scikit-learn.org. See: https://github.com/scikit-learn/scikit-learn/issues/21755 */display: inline-block !important;position: relative;}#sk-container-id-6 div.sk-text-repr-fallback {display: none;}</style><div id=\"sk-container-id-6\" class=\"sk-top-container\"><div class=\"sk-text-repr-fallback\"><pre>Pipeline(steps=[(&#x27;pad&#x27;,\n",
       "                 FunctionTransformer(func=&lt;function np_pad_wrapper at 0x15335f0d0&gt;,\n",
       "                                     kw_args={&#x27;max_len&#x27;: 64000})),\n",
       "                (&#x27;over_sampler&#x27;,\n",
       "                 AugmentingRandomOversampler(augment_method=&#x27;AirAbsorption&#x27;,\n",
       "                                             sampling_strategy=&#x27;minority&#x27;)),\n",
       "                (&#x27;mean_mfcc&#x27;,\n",
       "                 FunctionTransformer(func=&lt;function samples_to_mean_mfcc at 0x10cf3f790&gt;,\n",
       "                                     kw_args={&#x27;fmax&#x27;: 3000.0, &#x27;fmin&#x27;: 0.0,\n",
       "                                              &#x27;hop_length&#x27;: 1...\n",
       "                               gamma=0, gpu_id=-1, grow_policy=&#x27;depthwise&#x27;,\n",
       "                               importance_type=None, interaction_constraints=&#x27;&#x27;,\n",
       "                               learning_rate=0.025, max_bin=256,\n",
       "                               max_cat_to_onehot=4, max_delta_step=0,\n",
       "                               max_depth=8, max_leaves=0, min_child_weight=1,\n",
       "                               missing=nan, monotone_constraints=&#x27;()&#x27;,\n",
       "                               n_estimators=400, n_jobs=4, nthread=4,\n",
       "                               num_parallel_tree=1, objective=&#x27;multi:softmax&#x27;,\n",
       "                               predictor=&#x27;auto&#x27;, random_state=0, ...))])</pre><b>In a Jupyter environment, please rerun this cell to show the HTML representation or trust the notebook. <br />On GitHub, the HTML representation is unable to render, please try loading this page with nbviewer.org.</b></div><div class=\"sk-container\" hidden><div class=\"sk-item sk-dashed-wrapped\"><div class=\"sk-label-container\"><div class=\"sk-label sk-toggleable\"><input class=\"sk-toggleable__control sk-hidden--visually\" id=\"sk-estimator-id-31\" type=\"checkbox\" ><label for=\"sk-estimator-id-31\" class=\"sk-toggleable__label sk-toggleable__label-arrow\">Pipeline</label><div class=\"sk-toggleable__content\"><pre>Pipeline(steps=[(&#x27;pad&#x27;,\n",
       "                 FunctionTransformer(func=&lt;function np_pad_wrapper at 0x15335f0d0&gt;,\n",
       "                                     kw_args={&#x27;max_len&#x27;: 64000})),\n",
       "                (&#x27;over_sampler&#x27;,\n",
       "                 AugmentingRandomOversampler(augment_method=&#x27;AirAbsorption&#x27;,\n",
       "                                             sampling_strategy=&#x27;minority&#x27;)),\n",
       "                (&#x27;mean_mfcc&#x27;,\n",
       "                 FunctionTransformer(func=&lt;function samples_to_mean_mfcc at 0x10cf3f790&gt;,\n",
       "                                     kw_args={&#x27;fmax&#x27;: 3000.0, &#x27;fmin&#x27;: 0.0,\n",
       "                                              &#x27;hop_length&#x27;: 1...\n",
       "                               gamma=0, gpu_id=-1, grow_policy=&#x27;depthwise&#x27;,\n",
       "                               importance_type=None, interaction_constraints=&#x27;&#x27;,\n",
       "                               learning_rate=0.025, max_bin=256,\n",
       "                               max_cat_to_onehot=4, max_delta_step=0,\n",
       "                               max_depth=8, max_leaves=0, min_child_weight=1,\n",
       "                               missing=nan, monotone_constraints=&#x27;()&#x27;,\n",
       "                               n_estimators=400, n_jobs=4, nthread=4,\n",
       "                               num_parallel_tree=1, objective=&#x27;multi:softmax&#x27;,\n",
       "                               predictor=&#x27;auto&#x27;, random_state=0, ...))])</pre></div></div></div><div class=\"sk-serial\"><div class=\"sk-item\"><div class=\"sk-estimator sk-toggleable\"><input class=\"sk-toggleable__control sk-hidden--visually\" id=\"sk-estimator-id-32\" type=\"checkbox\" ><label for=\"sk-estimator-id-32\" class=\"sk-toggleable__label sk-toggleable__label-arrow\">FunctionTransformer</label><div class=\"sk-toggleable__content\"><pre>FunctionTransformer(func=&lt;function np_pad_wrapper at 0x15335f0d0&gt;,\n",
       "                    kw_args={&#x27;max_len&#x27;: 64000})</pre></div></div></div><div class=\"sk-item\"><div class=\"sk-estimator sk-toggleable\"><input class=\"sk-toggleable__control sk-hidden--visually\" id=\"sk-estimator-id-33\" type=\"checkbox\" ><label for=\"sk-estimator-id-33\" class=\"sk-toggleable__label sk-toggleable__label-arrow\">AugmentingRandomOversampler</label><div class=\"sk-toggleable__content\"><pre>AugmentingRandomOversampler(augment_method=&#x27;AirAbsorption&#x27;,\n",
       "                            sampling_strategy=&#x27;minority&#x27;)</pre></div></div></div><div class=\"sk-item\"><div class=\"sk-estimator sk-toggleable\"><input class=\"sk-toggleable__control sk-hidden--visually\" id=\"sk-estimator-id-34\" type=\"checkbox\" ><label for=\"sk-estimator-id-34\" class=\"sk-toggleable__label sk-toggleable__label-arrow\">FunctionTransformer</label><div class=\"sk-toggleable__content\"><pre>FunctionTransformer(func=&lt;function samples_to_mean_mfcc at 0x10cf3f790&gt;,\n",
       "                    kw_args={&#x27;fmax&#x27;: 3000.0, &#x27;fmin&#x27;: 0.0, &#x27;hop_length&#x27;: 128,\n",
       "                             &#x27;n_fft&#x27;: 256, &#x27;n_mels&#x27;: 98, &#x27;n_mfcc&#x27;: 16,\n",
       "                             &#x27;sr&#x27;: 16000})</pre></div></div></div><div class=\"sk-item\"><div class=\"sk-estimator sk-toggleable\"><input class=\"sk-toggleable__control sk-hidden--visually\" id=\"sk-estimator-id-35\" type=\"checkbox\" ><label for=\"sk-estimator-id-35\" class=\"sk-toggleable__label sk-toggleable__label-arrow\">StandardScaler</label><div class=\"sk-toggleable__content\"><pre>StandardScaler()</pre></div></div></div><div class=\"sk-item\"><div class=\"sk-estimator sk-toggleable\"><input class=\"sk-toggleable__control sk-hidden--visually\" id=\"sk-estimator-id-36\" type=\"checkbox\" ><label for=\"sk-estimator-id-36\" class=\"sk-toggleable__label sk-toggleable__label-arrow\">XGBClassifier</label><div class=\"sk-toggleable__content\"><pre>XGBClassifier(base_score=0.5, booster=&#x27;gbtree&#x27;, callbacks=None,\n",
       "              colsample_bylevel=1, colsample_bynode=1, colsample_bytree=1,\n",
       "              early_stopping_rounds=None, enable_categorical=False,\n",
       "              eval_metric=None, gamma=0, gpu_id=-1, grow_policy=&#x27;depthwise&#x27;,\n",
       "              importance_type=None, interaction_constraints=&#x27;&#x27;,\n",
       "              learning_rate=0.025, max_bin=256, max_cat_to_onehot=4,\n",
       "              max_delta_step=0, max_depth=8, max_leaves=0, min_child_weight=1,\n",
       "              missing=nan, monotone_constraints=&#x27;()&#x27;, n_estimators=400,\n",
       "              n_jobs=4, nthread=4, num_parallel_tree=1,\n",
       "              objective=&#x27;multi:softmax&#x27;, predictor=&#x27;auto&#x27;, random_state=0, ...)</pre></div></div></div></div></div></div></div>"
      ],
      "text/plain": [
       "Pipeline(steps=[('pad',\n",
       "                 FunctionTransformer(func=<function np_pad_wrapper at 0x15335f0d0>,\n",
       "                                     kw_args={'max_len': 64000})),\n",
       "                ('over_sampler',\n",
       "                 AugmentingRandomOversampler(augment_method='AirAbsorption',\n",
       "                                             sampling_strategy='minority')),\n",
       "                ('mean_mfcc',\n",
       "                 FunctionTransformer(func=<function samples_to_mean_mfcc at 0x10cf3f790>,\n",
       "                                     kw_args={'fmax': 3000.0, 'fmin': 0.0,\n",
       "                                              'hop_length': 1...\n",
       "                               gamma=0, gpu_id=-1, grow_policy='depthwise',\n",
       "                               importance_type=None, interaction_constraints='',\n",
       "                               learning_rate=0.025, max_bin=256,\n",
       "                               max_cat_to_onehot=4, max_delta_step=0,\n",
       "                               max_depth=8, max_leaves=0, min_child_weight=1,\n",
       "                               missing=nan, monotone_constraints='()',\n",
       "                               n_estimators=400, n_jobs=4, nthread=4,\n",
       "                               num_parallel_tree=1, objective='multi:softmax',\n",
       "                               predictor='auto', random_state=0, ...))])"
      ]
     },
     "execution_count": 20,
     "metadata": {},
     "output_type": "execute_result"
    }
   ],
   "source": [
    "pipe2.fit(train_fold, train_y)"
   ]
  },
  {
   "cell_type": "code",
   "execution_count": 21,
   "metadata": {},
   "outputs": [],
   "source": [
    "pred_y2 = pipe2.predict(val_fold)"
   ]
  },
  {
   "cell_type": "code",
   "execution_count": 22,
   "metadata": {},
   "outputs": [
    {
     "name": "stdout",
     "output_type": "stream",
     "text": [
      "              precision    recall  f1-score   support\n",
      "\n",
      "           0       0.36      0.16      0.22       100\n",
      "           1       0.72      0.36      0.48        59\n",
      "           2       0.42      0.43      0.43       100\n",
      "           3       0.45      0.80      0.58       100\n",
      "           4       0.42      0.56      0.48       100\n",
      "           5       0.33      0.20      0.25       107\n",
      "           6       0.76      0.58      0.66        38\n",
      "           7       0.25      0.12      0.16       120\n",
      "           8       0.92      0.80      0.85       166\n",
      "           9       0.24      0.51      0.33       100\n",
      "\n",
      "    accuracy                           0.46       990\n",
      "   macro avg       0.49      0.45      0.44       990\n",
      "weighted avg       0.48      0.46      0.45       990\n",
      "\n"
     ]
    }
   ],
   "source": [
    "print(classification_report(val_y, pred_y2))"
   ]
  },
  {
   "cell_type": "code",
   "execution_count": 46,
   "metadata": {},
   "outputs": [
    {
     "data": {
      "text/html": [
       "<div>\n",
       "<style scoped>\n",
       "    .dataframe tbody tr th:only-of-type {\n",
       "        vertical-align: middle;\n",
       "    }\n",
       "\n",
       "    .dataframe tbody tr th {\n",
       "        vertical-align: top;\n",
       "    }\n",
       "\n",
       "    .dataframe thead th {\n",
       "        text-align: right;\n",
       "    }\n",
       "</style>\n",
       "<table border=\"1\" class=\"dataframe\">\n",
       "  <thead>\n",
       "    <tr style=\"text-align: right;\">\n",
       "      <th></th>\n",
       "      <th>mean_precision</th>\n",
       "      <th>mean_recall</th>\n",
       "      <th>mean_f1-score</th>\n",
       "    </tr>\n",
       "  </thead>\n",
       "  <tbody>\n",
       "    <tr>\n",
       "      <th>2</th>\n",
       "      <td>0.485627</td>\n",
       "      <td>0.451885</td>\n",
       "      <td>0.444</td>\n",
       "    </tr>\n",
       "  </tbody>\n",
       "</table>\n",
       "</div>"
      ],
      "text/plain": [
       "   mean_precision  mean_recall  mean_f1-score\n",
       "2        0.485627     0.451885          0.444"
      ]
     },
     "execution_count": 46,
     "metadata": {},
     "output_type": "execute_result"
    }
   ],
   "source": [
    "report2= pd.DataFrame(classification_report(val_y, pred_y2, output_dict=True)).transpose()\n",
    "mean_report2 = {'mean_precision': np.mean(report2['precision']),\n",
    "                'mean_recall':np.mean(report2['recall']),\n",
    "                'mean_f1-score': np.mean(report2['f1-score'])\n",
    "                }\n",
    "pd.DataFrame(mean_report2, index=[2])"
   ]
  },
  {
   "cell_type": "markdown",
   "metadata": {},
   "source": [
    "### Combined Class Classification Report\n",
    "\n",
    "Target class: car horns (1), sirens(8), dog barks(3)\n",
    "\n",
    "Dangerous classes in report has 0.78 precision, 0.84 recall, 0.81 f1-score. \n",
    "\n",
    "This model has 0.50 accuracy."
   ]
  },
  {
   "cell_type": "code",
   "execution_count": 58,
   "metadata": {},
   "outputs": [
    {
     "name": "stdout",
     "output_type": "stream",
     "text": [
      "              precision    recall  f1-score   support\n",
      "\n",
      "           0       0.36      0.16      0.22       100\n",
      "           2       0.42      0.43      0.43       100\n",
      "           4       0.42      0.56      0.48       100\n",
      "           5       0.33      0.20      0.25       107\n",
      "           6       0.76      0.58      0.66        38\n",
      "           7       0.25      0.12      0.16       120\n",
      "           8       0.78      0.84      0.81       325\n",
      "           9       0.24      0.51      0.33       100\n",
      "\n",
      "    accuracy                           0.50       990\n",
      "   macro avg       0.45      0.42      0.42       990\n",
      "weighted avg       0.50      0.50      0.48       990\n",
      "\n"
     ]
    }
   ],
   "source": [
    "com_pred_y2 = combine_classes([0, 2, 4, 5, 6, 7, 9], pred_y2)\n",
    "\n",
    "report2_1 = classification_report(combined_val_y, com_pred_y2)\n",
    "print(report2_1)"
   ]
  },
  {
   "cell_type": "markdown",
   "metadata": {},
   "source": [
    "## 3. Model -Time Stretch "
   ]
  },
  {
   "cell_type": "code",
   "execution_count": 27,
   "metadata": {},
   "outputs": [
    {
     "name": "stdout",
     "output_type": "stream",
     "text": [
      "Use pipe.set_params(over_sampler=.., estimator=..) to finish the pipeline\n"
     ]
    }
   ],
   "source": [
    "pipe3 = make_oversampled_feature_pipeline()"
   ]
  },
  {
   "cell_type": "code",
   "execution_count": 28,
   "metadata": {},
   "outputs": [
    {
     "data": {
      "text/html": [
       "<style>#sk-container-id-9 {color: black;background-color: white;}#sk-container-id-9 pre{padding: 0;}#sk-container-id-9 div.sk-toggleable {background-color: white;}#sk-container-id-9 label.sk-toggleable__label {cursor: pointer;display: block;width: 100%;margin-bottom: 0;padding: 0.3em;box-sizing: border-box;text-align: center;}#sk-container-id-9 label.sk-toggleable__label-arrow:before {content: \"▸\";float: left;margin-right: 0.25em;color: #696969;}#sk-container-id-9 label.sk-toggleable__label-arrow:hover:before {color: black;}#sk-container-id-9 div.sk-estimator:hover label.sk-toggleable__label-arrow:before {color: black;}#sk-container-id-9 div.sk-toggleable__content {max-height: 0;max-width: 0;overflow: hidden;text-align: left;background-color: #f0f8ff;}#sk-container-id-9 div.sk-toggleable__content pre {margin: 0.2em;color: black;border-radius: 0.25em;background-color: #f0f8ff;}#sk-container-id-9 input.sk-toggleable__control:checked~div.sk-toggleable__content {max-height: 200px;max-width: 100%;overflow: auto;}#sk-container-id-9 input.sk-toggleable__control:checked~label.sk-toggleable__label-arrow:before {content: \"▾\";}#sk-container-id-9 div.sk-estimator input.sk-toggleable__control:checked~label.sk-toggleable__label {background-color: #d4ebff;}#sk-container-id-9 div.sk-label input.sk-toggleable__control:checked~label.sk-toggleable__label {background-color: #d4ebff;}#sk-container-id-9 input.sk-hidden--visually {border: 0;clip: rect(1px 1px 1px 1px);clip: rect(1px, 1px, 1px, 1px);height: 1px;margin: -1px;overflow: hidden;padding: 0;position: absolute;width: 1px;}#sk-container-id-9 div.sk-estimator {font-family: monospace;background-color: #f0f8ff;border: 1px dotted black;border-radius: 0.25em;box-sizing: border-box;margin-bottom: 0.5em;}#sk-container-id-9 div.sk-estimator:hover {background-color: #d4ebff;}#sk-container-id-9 div.sk-parallel-item::after {content: \"\";width: 100%;border-bottom: 1px solid gray;flex-grow: 1;}#sk-container-id-9 div.sk-label:hover label.sk-toggleable__label {background-color: #d4ebff;}#sk-container-id-9 div.sk-serial::before {content: \"\";position: absolute;border-left: 1px solid gray;box-sizing: border-box;top: 0;bottom: 0;left: 50%;z-index: 0;}#sk-container-id-9 div.sk-serial {display: flex;flex-direction: column;align-items: center;background-color: white;padding-right: 0.2em;padding-left: 0.2em;position: relative;}#sk-container-id-9 div.sk-item {position: relative;z-index: 1;}#sk-container-id-9 div.sk-parallel {display: flex;align-items: stretch;justify-content: center;background-color: white;position: relative;}#sk-container-id-9 div.sk-item::before, #sk-container-id-9 div.sk-parallel-item::before {content: \"\";position: absolute;border-left: 1px solid gray;box-sizing: border-box;top: 0;bottom: 0;left: 50%;z-index: -1;}#sk-container-id-9 div.sk-parallel-item {display: flex;flex-direction: column;z-index: 1;position: relative;background-color: white;}#sk-container-id-9 div.sk-parallel-item:first-child::after {align-self: flex-end;width: 50%;}#sk-container-id-9 div.sk-parallel-item:last-child::after {align-self: flex-start;width: 50%;}#sk-container-id-9 div.sk-parallel-item:only-child::after {width: 0;}#sk-container-id-9 div.sk-dashed-wrapped {border: 1px dashed gray;margin: 0 0.4em 0.5em 0.4em;box-sizing: border-box;padding-bottom: 0.4em;background-color: white;}#sk-container-id-9 div.sk-label label {font-family: monospace;font-weight: bold;display: inline-block;line-height: 1.2em;}#sk-container-id-9 div.sk-label-container {text-align: center;}#sk-container-id-9 div.sk-container {/* jupyter's `normalize.less` sets `[hidden] { display: none; }` but bootstrap.min.css set `[hidden] { display: none !important; }` so we also need the `!important` here to be able to override the default hidden behavior on the sphinx rendered scikit-learn.org. See: https://github.com/scikit-learn/scikit-learn/issues/21755 */display: inline-block !important;position: relative;}#sk-container-id-9 div.sk-text-repr-fallback {display: none;}</style><div id=\"sk-container-id-9\" class=\"sk-top-container\"><div class=\"sk-text-repr-fallback\"><pre>Pipeline(steps=[(&#x27;pad&#x27;,\n",
       "                 FunctionTransformer(func=&lt;function np_pad_wrapper at 0x15335f0d0&gt;,\n",
       "                                     kw_args={&#x27;max_len&#x27;: 64000})),\n",
       "                (&#x27;over_sampler&#x27;,\n",
       "                 AugmentingRandomOversampler(augment_method=&#x27;TimeStretch&#x27;,\n",
       "                                             sampling_strategy=&#x27;minority&#x27;)),\n",
       "                (&#x27;mean_mfcc&#x27;,\n",
       "                 FunctionTransformer(func=&lt;function samples_to_mean_mfcc at 0x10cf3f790&gt;,\n",
       "                                     kw_args={&#x27;fmax&#x27;: 3000.0, &#x27;fmin&#x27;: 0.0,\n",
       "                                              &#x27;hop_length&#x27;: 128...\n",
       "                               gamma=None, gpu_id=None, grow_policy=None,\n",
       "                               importance_type=None,\n",
       "                               interaction_constraints=None,\n",
       "                               learning_rate=0.025, max_bin=None,\n",
       "                               max_cat_to_onehot=None, max_delta_step=None,\n",
       "                               max_depth=8, max_leaves=None,\n",
       "                               min_child_weight=None, missing=nan,\n",
       "                               monotone_constraints=None, n_estimators=400,\n",
       "                               n_jobs=None, nthread=4, num_parallel_tree=None,\n",
       "                               objective=&#x27;multi:softmax&#x27;, predictor=None,\n",
       "                               random_state=None, ...))])</pre><b>In a Jupyter environment, please rerun this cell to show the HTML representation or trust the notebook. <br />On GitHub, the HTML representation is unable to render, please try loading this page with nbviewer.org.</b></div><div class=\"sk-container\" hidden><div class=\"sk-item sk-dashed-wrapped\"><div class=\"sk-label-container\"><div class=\"sk-label sk-toggleable\"><input class=\"sk-toggleable__control sk-hidden--visually\" id=\"sk-estimator-id-49\" type=\"checkbox\" ><label for=\"sk-estimator-id-49\" class=\"sk-toggleable__label sk-toggleable__label-arrow\">Pipeline</label><div class=\"sk-toggleable__content\"><pre>Pipeline(steps=[(&#x27;pad&#x27;,\n",
       "                 FunctionTransformer(func=&lt;function np_pad_wrapper at 0x15335f0d0&gt;,\n",
       "                                     kw_args={&#x27;max_len&#x27;: 64000})),\n",
       "                (&#x27;over_sampler&#x27;,\n",
       "                 AugmentingRandomOversampler(augment_method=&#x27;TimeStretch&#x27;,\n",
       "                                             sampling_strategy=&#x27;minority&#x27;)),\n",
       "                (&#x27;mean_mfcc&#x27;,\n",
       "                 FunctionTransformer(func=&lt;function samples_to_mean_mfcc at 0x10cf3f790&gt;,\n",
       "                                     kw_args={&#x27;fmax&#x27;: 3000.0, &#x27;fmin&#x27;: 0.0,\n",
       "                                              &#x27;hop_length&#x27;: 128...\n",
       "                               gamma=None, gpu_id=None, grow_policy=None,\n",
       "                               importance_type=None,\n",
       "                               interaction_constraints=None,\n",
       "                               learning_rate=0.025, max_bin=None,\n",
       "                               max_cat_to_onehot=None, max_delta_step=None,\n",
       "                               max_depth=8, max_leaves=None,\n",
       "                               min_child_weight=None, missing=nan,\n",
       "                               monotone_constraints=None, n_estimators=400,\n",
       "                               n_jobs=None, nthread=4, num_parallel_tree=None,\n",
       "                               objective=&#x27;multi:softmax&#x27;, predictor=None,\n",
       "                               random_state=None, ...))])</pre></div></div></div><div class=\"sk-serial\"><div class=\"sk-item\"><div class=\"sk-estimator sk-toggleable\"><input class=\"sk-toggleable__control sk-hidden--visually\" id=\"sk-estimator-id-50\" type=\"checkbox\" ><label for=\"sk-estimator-id-50\" class=\"sk-toggleable__label sk-toggleable__label-arrow\">FunctionTransformer</label><div class=\"sk-toggleable__content\"><pre>FunctionTransformer(func=&lt;function np_pad_wrapper at 0x15335f0d0&gt;,\n",
       "                    kw_args={&#x27;max_len&#x27;: 64000})</pre></div></div></div><div class=\"sk-item\"><div class=\"sk-estimator sk-toggleable\"><input class=\"sk-toggleable__control sk-hidden--visually\" id=\"sk-estimator-id-51\" type=\"checkbox\" ><label for=\"sk-estimator-id-51\" class=\"sk-toggleable__label sk-toggleable__label-arrow\">AugmentingRandomOversampler</label><div class=\"sk-toggleable__content\"><pre>AugmentingRandomOversampler(augment_method=&#x27;TimeStretch&#x27;,\n",
       "                            sampling_strategy=&#x27;minority&#x27;)</pre></div></div></div><div class=\"sk-item\"><div class=\"sk-estimator sk-toggleable\"><input class=\"sk-toggleable__control sk-hidden--visually\" id=\"sk-estimator-id-52\" type=\"checkbox\" ><label for=\"sk-estimator-id-52\" class=\"sk-toggleable__label sk-toggleable__label-arrow\">FunctionTransformer</label><div class=\"sk-toggleable__content\"><pre>FunctionTransformer(func=&lt;function samples_to_mean_mfcc at 0x10cf3f790&gt;,\n",
       "                    kw_args={&#x27;fmax&#x27;: 3000.0, &#x27;fmin&#x27;: 0.0, &#x27;hop_length&#x27;: 128,\n",
       "                             &#x27;n_fft&#x27;: 256, &#x27;n_mels&#x27;: 98, &#x27;n_mfcc&#x27;: 16,\n",
       "                             &#x27;sr&#x27;: 16000})</pre></div></div></div><div class=\"sk-item\"><div class=\"sk-estimator sk-toggleable\"><input class=\"sk-toggleable__control sk-hidden--visually\" id=\"sk-estimator-id-53\" type=\"checkbox\" ><label for=\"sk-estimator-id-53\" class=\"sk-toggleable__label sk-toggleable__label-arrow\">StandardScaler</label><div class=\"sk-toggleable__content\"><pre>StandardScaler()</pre></div></div></div><div class=\"sk-item\"><div class=\"sk-estimator sk-toggleable\"><input class=\"sk-toggleable__control sk-hidden--visually\" id=\"sk-estimator-id-54\" type=\"checkbox\" ><label for=\"sk-estimator-id-54\" class=\"sk-toggleable__label sk-toggleable__label-arrow\">XGBClassifier</label><div class=\"sk-toggleable__content\"><pre>XGBClassifier(base_score=None, booster=None, callbacks=None,\n",
       "              colsample_bylevel=None, colsample_bynode=None,\n",
       "              colsample_bytree=None, early_stopping_rounds=None,\n",
       "              enable_categorical=False, eval_metric=None, gamma=None,\n",
       "              gpu_id=None, grow_policy=None, importance_type=None,\n",
       "              interaction_constraints=None, learning_rate=0.025, max_bin=None,\n",
       "              max_cat_to_onehot=None, max_delta_step=None, max_depth=8,\n",
       "              max_leaves=None, min_child_weight=None, missing=nan,\n",
       "              monotone_constraints=None, n_estimators=400, n_jobs=None,\n",
       "              nthread=4, num_parallel_tree=None, objective=&#x27;multi:softmax&#x27;,\n",
       "              predictor=None, random_state=None, ...)</pre></div></div></div></div></div></div></div>"
      ],
      "text/plain": [
       "Pipeline(steps=[('pad',\n",
       "                 FunctionTransformer(func=<function np_pad_wrapper at 0x15335f0d0>,\n",
       "                                     kw_args={'max_len': 64000})),\n",
       "                ('over_sampler',\n",
       "                 AugmentingRandomOversampler(augment_method='TimeStretch',\n",
       "                                             sampling_strategy='minority')),\n",
       "                ('mean_mfcc',\n",
       "                 FunctionTransformer(func=<function samples_to_mean_mfcc at 0x10cf3f790>,\n",
       "                                     kw_args={'fmax': 3000.0, 'fmin': 0.0,\n",
       "                                              'hop_length': 128...\n",
       "                               gamma=None, gpu_id=None, grow_policy=None,\n",
       "                               importance_type=None,\n",
       "                               interaction_constraints=None,\n",
       "                               learning_rate=0.025, max_bin=None,\n",
       "                               max_cat_to_onehot=None, max_delta_step=None,\n",
       "                               max_depth=8, max_leaves=None,\n",
       "                               min_child_weight=None, missing=nan,\n",
       "                               monotone_constraints=None, n_estimators=400,\n",
       "                               n_jobs=None, nthread=4, num_parallel_tree=None,\n",
       "                               objective='multi:softmax', predictor=None,\n",
       "                               random_state=None, ...))])"
      ]
     },
     "execution_count": 28,
     "metadata": {},
     "output_type": "execute_result"
    }
   ],
   "source": [
    "pipe3.set_params(over_sampler=AugmentingRandomOversampler(augment_method='TimeStretch'),\n",
    "                estimator=XGBClassifier(n_estimators=400, \n",
    "                              learning_rate=0.025, \n",
    "                              max_depth=8, \n",
    "                              objective='multi:softmax',\n",
    "                              nthread=4),\n",
    "                mean_mfcc__kw_args= {'sr': 16000,\n",
    "                'n_mfcc': 16,\n",
    "                'n_fft': 256,\n",
    "                'hop_length': 128,\n",
    "                'fmin': 0.0,\n",
    "                'fmax': 3000.0,\n",
    "                'n_mels': 98})"
   ]
  },
  {
   "cell_type": "code",
   "execution_count": 29,
   "metadata": {},
   "outputs": [
    {
     "name": "stderr",
     "output_type": "stream",
     "text": [
      "/Users/carlquin/.pyenv/versions/usk8data/lib/python3.8/site-packages/librosa/util/decorators.py:88: UserWarning: n_fft=2048 is too small for input signal of length=1105\n",
      "  return f(*args, **kwargs)\n",
      "/Users/carlquin/.pyenv/versions/usk8data/lib/python3.8/site-packages/librosa/util/decorators.py:88: UserWarning: n_fft=2048 is too small for input signal of length=1696\n",
      "  return f(*args, **kwargs)\n",
      "/Users/carlquin/.pyenv/versions/usk8data/lib/python3.8/site-packages/librosa/util/decorators.py:88: UserWarning: n_fft=2048 is too small for input signal of length=1550\n",
      "  return f(*args, **kwargs)\n",
      "/Users/carlquin/.pyenv/versions/usk8data/lib/python3.8/site-packages/librosa/util/decorators.py:88: UserWarning: n_fft=2048 is too small for input signal of length=1600\n",
      "  return f(*args, **kwargs)\n",
      "/Users/carlquin/.pyenv/versions/usk8data/lib/python3.8/site-packages/librosa/util/decorators.py:88: UserWarning: n_fft=2048 is too small for input signal of length=960\n",
      "  return f(*args, **kwargs)\n",
      "/Users/carlquin/.pyenv/versions/usk8data/lib/python3.8/site-packages/librosa/util/decorators.py:88: UserWarning: n_fft=2048 is too small for input signal of length=1745\n",
      "  return f(*args, **kwargs)\n"
     ]
    },
    {
     "data": {
      "text/html": [
       "<style>#sk-container-id-10 {color: black;background-color: white;}#sk-container-id-10 pre{padding: 0;}#sk-container-id-10 div.sk-toggleable {background-color: white;}#sk-container-id-10 label.sk-toggleable__label {cursor: pointer;display: block;width: 100%;margin-bottom: 0;padding: 0.3em;box-sizing: border-box;text-align: center;}#sk-container-id-10 label.sk-toggleable__label-arrow:before {content: \"▸\";float: left;margin-right: 0.25em;color: #696969;}#sk-container-id-10 label.sk-toggleable__label-arrow:hover:before {color: black;}#sk-container-id-10 div.sk-estimator:hover label.sk-toggleable__label-arrow:before {color: black;}#sk-container-id-10 div.sk-toggleable__content {max-height: 0;max-width: 0;overflow: hidden;text-align: left;background-color: #f0f8ff;}#sk-container-id-10 div.sk-toggleable__content pre {margin: 0.2em;color: black;border-radius: 0.25em;background-color: #f0f8ff;}#sk-container-id-10 input.sk-toggleable__control:checked~div.sk-toggleable__content {max-height: 200px;max-width: 100%;overflow: auto;}#sk-container-id-10 input.sk-toggleable__control:checked~label.sk-toggleable__label-arrow:before {content: \"▾\";}#sk-container-id-10 div.sk-estimator input.sk-toggleable__control:checked~label.sk-toggleable__label {background-color: #d4ebff;}#sk-container-id-10 div.sk-label input.sk-toggleable__control:checked~label.sk-toggleable__label {background-color: #d4ebff;}#sk-container-id-10 input.sk-hidden--visually {border: 0;clip: rect(1px 1px 1px 1px);clip: rect(1px, 1px, 1px, 1px);height: 1px;margin: -1px;overflow: hidden;padding: 0;position: absolute;width: 1px;}#sk-container-id-10 div.sk-estimator {font-family: monospace;background-color: #f0f8ff;border: 1px dotted black;border-radius: 0.25em;box-sizing: border-box;margin-bottom: 0.5em;}#sk-container-id-10 div.sk-estimator:hover {background-color: #d4ebff;}#sk-container-id-10 div.sk-parallel-item::after {content: \"\";width: 100%;border-bottom: 1px solid gray;flex-grow: 1;}#sk-container-id-10 div.sk-label:hover label.sk-toggleable__label {background-color: #d4ebff;}#sk-container-id-10 div.sk-serial::before {content: \"\";position: absolute;border-left: 1px solid gray;box-sizing: border-box;top: 0;bottom: 0;left: 50%;z-index: 0;}#sk-container-id-10 div.sk-serial {display: flex;flex-direction: column;align-items: center;background-color: white;padding-right: 0.2em;padding-left: 0.2em;position: relative;}#sk-container-id-10 div.sk-item {position: relative;z-index: 1;}#sk-container-id-10 div.sk-parallel {display: flex;align-items: stretch;justify-content: center;background-color: white;position: relative;}#sk-container-id-10 div.sk-item::before, #sk-container-id-10 div.sk-parallel-item::before {content: \"\";position: absolute;border-left: 1px solid gray;box-sizing: border-box;top: 0;bottom: 0;left: 50%;z-index: -1;}#sk-container-id-10 div.sk-parallel-item {display: flex;flex-direction: column;z-index: 1;position: relative;background-color: white;}#sk-container-id-10 div.sk-parallel-item:first-child::after {align-self: flex-end;width: 50%;}#sk-container-id-10 div.sk-parallel-item:last-child::after {align-self: flex-start;width: 50%;}#sk-container-id-10 div.sk-parallel-item:only-child::after {width: 0;}#sk-container-id-10 div.sk-dashed-wrapped {border: 1px dashed gray;margin: 0 0.4em 0.5em 0.4em;box-sizing: border-box;padding-bottom: 0.4em;background-color: white;}#sk-container-id-10 div.sk-label label {font-family: monospace;font-weight: bold;display: inline-block;line-height: 1.2em;}#sk-container-id-10 div.sk-label-container {text-align: center;}#sk-container-id-10 div.sk-container {/* jupyter's `normalize.less` sets `[hidden] { display: none; }` but bootstrap.min.css set `[hidden] { display: none !important; }` so we also need the `!important` here to be able to override the default hidden behavior on the sphinx rendered scikit-learn.org. See: https://github.com/scikit-learn/scikit-learn/issues/21755 */display: inline-block !important;position: relative;}#sk-container-id-10 div.sk-text-repr-fallback {display: none;}</style><div id=\"sk-container-id-10\" class=\"sk-top-container\"><div class=\"sk-text-repr-fallback\"><pre>Pipeline(steps=[(&#x27;pad&#x27;,\n",
       "                 FunctionTransformer(func=&lt;function np_pad_wrapper at 0x15335f0d0&gt;,\n",
       "                                     kw_args={&#x27;max_len&#x27;: 64000})),\n",
       "                (&#x27;over_sampler&#x27;,\n",
       "                 AugmentingRandomOversampler(augment_method=&#x27;TimeStretch&#x27;,\n",
       "                                             sampling_strategy=&#x27;minority&#x27;)),\n",
       "                (&#x27;mean_mfcc&#x27;,\n",
       "                 FunctionTransformer(func=&lt;function samples_to_mean_mfcc at 0x10cf3f790&gt;,\n",
       "                                     kw_args={&#x27;fmax&#x27;: 3000.0, &#x27;fmin&#x27;: 0.0,\n",
       "                                              &#x27;hop_length&#x27;: 128...\n",
       "                               gamma=0, gpu_id=-1, grow_policy=&#x27;depthwise&#x27;,\n",
       "                               importance_type=None, interaction_constraints=&#x27;&#x27;,\n",
       "                               learning_rate=0.025, max_bin=256,\n",
       "                               max_cat_to_onehot=4, max_delta_step=0,\n",
       "                               max_depth=8, max_leaves=0, min_child_weight=1,\n",
       "                               missing=nan, monotone_constraints=&#x27;()&#x27;,\n",
       "                               n_estimators=400, n_jobs=4, nthread=4,\n",
       "                               num_parallel_tree=1, objective=&#x27;multi:softmax&#x27;,\n",
       "                               predictor=&#x27;auto&#x27;, random_state=0, ...))])</pre><b>In a Jupyter environment, please rerun this cell to show the HTML representation or trust the notebook. <br />On GitHub, the HTML representation is unable to render, please try loading this page with nbviewer.org.</b></div><div class=\"sk-container\" hidden><div class=\"sk-item sk-dashed-wrapped\"><div class=\"sk-label-container\"><div class=\"sk-label sk-toggleable\"><input class=\"sk-toggleable__control sk-hidden--visually\" id=\"sk-estimator-id-55\" type=\"checkbox\" ><label for=\"sk-estimator-id-55\" class=\"sk-toggleable__label sk-toggleable__label-arrow\">Pipeline</label><div class=\"sk-toggleable__content\"><pre>Pipeline(steps=[(&#x27;pad&#x27;,\n",
       "                 FunctionTransformer(func=&lt;function np_pad_wrapper at 0x15335f0d0&gt;,\n",
       "                                     kw_args={&#x27;max_len&#x27;: 64000})),\n",
       "                (&#x27;over_sampler&#x27;,\n",
       "                 AugmentingRandomOversampler(augment_method=&#x27;TimeStretch&#x27;,\n",
       "                                             sampling_strategy=&#x27;minority&#x27;)),\n",
       "                (&#x27;mean_mfcc&#x27;,\n",
       "                 FunctionTransformer(func=&lt;function samples_to_mean_mfcc at 0x10cf3f790&gt;,\n",
       "                                     kw_args={&#x27;fmax&#x27;: 3000.0, &#x27;fmin&#x27;: 0.0,\n",
       "                                              &#x27;hop_length&#x27;: 128...\n",
       "                               gamma=0, gpu_id=-1, grow_policy=&#x27;depthwise&#x27;,\n",
       "                               importance_type=None, interaction_constraints=&#x27;&#x27;,\n",
       "                               learning_rate=0.025, max_bin=256,\n",
       "                               max_cat_to_onehot=4, max_delta_step=0,\n",
       "                               max_depth=8, max_leaves=0, min_child_weight=1,\n",
       "                               missing=nan, monotone_constraints=&#x27;()&#x27;,\n",
       "                               n_estimators=400, n_jobs=4, nthread=4,\n",
       "                               num_parallel_tree=1, objective=&#x27;multi:softmax&#x27;,\n",
       "                               predictor=&#x27;auto&#x27;, random_state=0, ...))])</pre></div></div></div><div class=\"sk-serial\"><div class=\"sk-item\"><div class=\"sk-estimator sk-toggleable\"><input class=\"sk-toggleable__control sk-hidden--visually\" id=\"sk-estimator-id-56\" type=\"checkbox\" ><label for=\"sk-estimator-id-56\" class=\"sk-toggleable__label sk-toggleable__label-arrow\">FunctionTransformer</label><div class=\"sk-toggleable__content\"><pre>FunctionTransformer(func=&lt;function np_pad_wrapper at 0x15335f0d0&gt;,\n",
       "                    kw_args={&#x27;max_len&#x27;: 64000})</pre></div></div></div><div class=\"sk-item\"><div class=\"sk-estimator sk-toggleable\"><input class=\"sk-toggleable__control sk-hidden--visually\" id=\"sk-estimator-id-57\" type=\"checkbox\" ><label for=\"sk-estimator-id-57\" class=\"sk-toggleable__label sk-toggleable__label-arrow\">AugmentingRandomOversampler</label><div class=\"sk-toggleable__content\"><pre>AugmentingRandomOversampler(augment_method=&#x27;TimeStretch&#x27;,\n",
       "                            sampling_strategy=&#x27;minority&#x27;)</pre></div></div></div><div class=\"sk-item\"><div class=\"sk-estimator sk-toggleable\"><input class=\"sk-toggleable__control sk-hidden--visually\" id=\"sk-estimator-id-58\" type=\"checkbox\" ><label for=\"sk-estimator-id-58\" class=\"sk-toggleable__label sk-toggleable__label-arrow\">FunctionTransformer</label><div class=\"sk-toggleable__content\"><pre>FunctionTransformer(func=&lt;function samples_to_mean_mfcc at 0x10cf3f790&gt;,\n",
       "                    kw_args={&#x27;fmax&#x27;: 3000.0, &#x27;fmin&#x27;: 0.0, &#x27;hop_length&#x27;: 128,\n",
       "                             &#x27;n_fft&#x27;: 256, &#x27;n_mels&#x27;: 98, &#x27;n_mfcc&#x27;: 16,\n",
       "                             &#x27;sr&#x27;: 16000})</pre></div></div></div><div class=\"sk-item\"><div class=\"sk-estimator sk-toggleable\"><input class=\"sk-toggleable__control sk-hidden--visually\" id=\"sk-estimator-id-59\" type=\"checkbox\" ><label for=\"sk-estimator-id-59\" class=\"sk-toggleable__label sk-toggleable__label-arrow\">StandardScaler</label><div class=\"sk-toggleable__content\"><pre>StandardScaler()</pre></div></div></div><div class=\"sk-item\"><div class=\"sk-estimator sk-toggleable\"><input class=\"sk-toggleable__control sk-hidden--visually\" id=\"sk-estimator-id-60\" type=\"checkbox\" ><label for=\"sk-estimator-id-60\" class=\"sk-toggleable__label sk-toggleable__label-arrow\">XGBClassifier</label><div class=\"sk-toggleable__content\"><pre>XGBClassifier(base_score=0.5, booster=&#x27;gbtree&#x27;, callbacks=None,\n",
       "              colsample_bylevel=1, colsample_bynode=1, colsample_bytree=1,\n",
       "              early_stopping_rounds=None, enable_categorical=False,\n",
       "              eval_metric=None, gamma=0, gpu_id=-1, grow_policy=&#x27;depthwise&#x27;,\n",
       "              importance_type=None, interaction_constraints=&#x27;&#x27;,\n",
       "              learning_rate=0.025, max_bin=256, max_cat_to_onehot=4,\n",
       "              max_delta_step=0, max_depth=8, max_leaves=0, min_child_weight=1,\n",
       "              missing=nan, monotone_constraints=&#x27;()&#x27;, n_estimators=400,\n",
       "              n_jobs=4, nthread=4, num_parallel_tree=1,\n",
       "              objective=&#x27;multi:softmax&#x27;, predictor=&#x27;auto&#x27;, random_state=0, ...)</pre></div></div></div></div></div></div></div>"
      ],
      "text/plain": [
       "Pipeline(steps=[('pad',\n",
       "                 FunctionTransformer(func=<function np_pad_wrapper at 0x15335f0d0>,\n",
       "                                     kw_args={'max_len': 64000})),\n",
       "                ('over_sampler',\n",
       "                 AugmentingRandomOversampler(augment_method='TimeStretch',\n",
       "                                             sampling_strategy='minority')),\n",
       "                ('mean_mfcc',\n",
       "                 FunctionTransformer(func=<function samples_to_mean_mfcc at 0x10cf3f790>,\n",
       "                                     kw_args={'fmax': 3000.0, 'fmin': 0.0,\n",
       "                                              'hop_length': 128...\n",
       "                               gamma=0, gpu_id=-1, grow_policy='depthwise',\n",
       "                               importance_type=None, interaction_constraints='',\n",
       "                               learning_rate=0.025, max_bin=256,\n",
       "                               max_cat_to_onehot=4, max_delta_step=0,\n",
       "                               max_depth=8, max_leaves=0, min_child_weight=1,\n",
       "                               missing=nan, monotone_constraints='()',\n",
       "                               n_estimators=400, n_jobs=4, nthread=4,\n",
       "                               num_parallel_tree=1, objective='multi:softmax',\n",
       "                               predictor='auto', random_state=0, ...))])"
      ]
     },
     "execution_count": 29,
     "metadata": {},
     "output_type": "execute_result"
    }
   ],
   "source": [
    "pipe3.fit(train_fold, train_y)"
   ]
  },
  {
   "cell_type": "code",
   "execution_count": 30,
   "metadata": {},
   "outputs": [],
   "source": [
    "pred_y3 = pipe3.predict(val_fold)"
   ]
  },
  {
   "cell_type": "code",
   "execution_count": 31,
   "metadata": {},
   "outputs": [
    {
     "name": "stdout",
     "output_type": "stream",
     "text": [
      "              precision    recall  f1-score   support\n",
      "\n",
      "           0       0.35      0.17      0.23       100\n",
      "           1       0.66      0.36      0.46        59\n",
      "           2       0.41      0.45      0.43       100\n",
      "           3       0.50      0.78      0.61       100\n",
      "           4       0.43      0.57      0.49       100\n",
      "           5       0.27      0.18      0.21       107\n",
      "           6       0.78      0.55      0.65        38\n",
      "           7       0.30      0.13      0.18       120\n",
      "           8       0.93      0.80      0.86       166\n",
      "           9       0.24      0.53      0.33       100\n",
      "\n",
      "    accuracy                           0.46       990\n",
      "   macro avg       0.49      0.45      0.45       990\n",
      "weighted avg       0.49      0.46      0.45       990\n",
      "\n"
     ]
    }
   ],
   "source": [
    "print(classification_report(val_y, pred_y3))"
   ]
  },
  {
   "cell_type": "code",
   "execution_count": 47,
   "metadata": {},
   "outputs": [
    {
     "data": {
      "text/html": [
       "<div>\n",
       "<style scoped>\n",
       "    .dataframe tbody tr th:only-of-type {\n",
       "        vertical-align: middle;\n",
       "    }\n",
       "\n",
       "    .dataframe tbody tr th {\n",
       "        vertical-align: top;\n",
       "    }\n",
       "\n",
       "    .dataframe thead th {\n",
       "        text-align: right;\n",
       "    }\n",
       "</style>\n",
       "<table border=\"1\" class=\"dataframe\">\n",
       "  <thead>\n",
       "    <tr style=\"text-align: right;\">\n",
       "      <th></th>\n",
       "      <th>mean_precision</th>\n",
       "      <th>mean_recall</th>\n",
       "      <th>mean_f1-score</th>\n",
       "    </tr>\n",
       "  </thead>\n",
       "  <tbody>\n",
       "    <tr>\n",
       "      <th>3</th>\n",
       "      <td>0.485169</td>\n",
       "      <td>0.453337</td>\n",
       "      <td>0.44756</td>\n",
       "    </tr>\n",
       "  </tbody>\n",
       "</table>\n",
       "</div>"
      ],
      "text/plain": [
       "   mean_precision  mean_recall  mean_f1-score\n",
       "3        0.485169     0.453337        0.44756"
      ]
     },
     "execution_count": 47,
     "metadata": {},
     "output_type": "execute_result"
    }
   ],
   "source": [
    "report3= pd.DataFrame(classification_report(val_y, pred_y3, output_dict=True)).transpose()\n",
    "mean_report3 = {'mean_precision': np.mean(report3['precision']),\n",
    "                'mean_recall':np.mean(report3['recall']),\n",
    "                'mean_f1-score': np.mean(report3['f1-score'])\n",
    "                }\n",
    "pd.DataFrame(mean_report3, index=[3])"
   ]
  },
  {
   "cell_type": "markdown",
   "metadata": {},
   "source": [
    "### Combined Class Classification Report\n",
    "\n",
    "Target class: car horns (1), sirens(8), dog barks(3)\n",
    "\n",
    "Dangerous classes in report has 0.81 precision, 0.82 recall, 0.82 f1-score. \n",
    "\n",
    "This model has 0.50 accuracy."
   ]
  },
  {
   "cell_type": "code",
   "execution_count": 59,
   "metadata": {},
   "outputs": [
    {
     "name": "stdout",
     "output_type": "stream",
     "text": [
      "              precision    recall  f1-score   support\n",
      "\n",
      "           0       0.35      0.17      0.23       100\n",
      "           2       0.41      0.45      0.43       100\n",
      "           4       0.43      0.57      0.49       100\n",
      "           5       0.27      0.18      0.21       107\n",
      "           6       0.78      0.55      0.65        38\n",
      "           7       0.30      0.13      0.18       120\n",
      "           8       0.81      0.82      0.82       325\n",
      "           9       0.24      0.53      0.33       100\n",
      "\n",
      "    accuracy                           0.50       990\n",
      "   macro avg       0.45      0.43      0.42       990\n",
      "weighted avg       0.51      0.50      0.49       990\n",
      "\n"
     ]
    }
   ],
   "source": [
    "com_pred_y3 = combine_classes([0, 2, 4, 5, 6, 7, 9], pred_y3)\n",
    "\n",
    "report3_1 = classification_report(combined_val_y, com_pred_y3)\n",
    "print(report3_1)"
   ]
  },
  {
   "cell_type": "markdown",
   "metadata": {},
   "source": [
    "## 4. Model -PitchShift"
   ]
  },
  {
   "cell_type": "code",
   "execution_count": 32,
   "metadata": {},
   "outputs": [
    {
     "name": "stdout",
     "output_type": "stream",
     "text": [
      "Use pipe.set_params(over_sampler=.., estimator=..) to finish the pipeline\n"
     ]
    }
   ],
   "source": [
    "pipe4 = make_oversampled_feature_pipeline()"
   ]
  },
  {
   "cell_type": "code",
   "execution_count": 33,
   "metadata": {},
   "outputs": [
    {
     "data": {
      "text/html": [
       "<style>#sk-container-id-11 {color: black;background-color: white;}#sk-container-id-11 pre{padding: 0;}#sk-container-id-11 div.sk-toggleable {background-color: white;}#sk-container-id-11 label.sk-toggleable__label {cursor: pointer;display: block;width: 100%;margin-bottom: 0;padding: 0.3em;box-sizing: border-box;text-align: center;}#sk-container-id-11 label.sk-toggleable__label-arrow:before {content: \"▸\";float: left;margin-right: 0.25em;color: #696969;}#sk-container-id-11 label.sk-toggleable__label-arrow:hover:before {color: black;}#sk-container-id-11 div.sk-estimator:hover label.sk-toggleable__label-arrow:before {color: black;}#sk-container-id-11 div.sk-toggleable__content {max-height: 0;max-width: 0;overflow: hidden;text-align: left;background-color: #f0f8ff;}#sk-container-id-11 div.sk-toggleable__content pre {margin: 0.2em;color: black;border-radius: 0.25em;background-color: #f0f8ff;}#sk-container-id-11 input.sk-toggleable__control:checked~div.sk-toggleable__content {max-height: 200px;max-width: 100%;overflow: auto;}#sk-container-id-11 input.sk-toggleable__control:checked~label.sk-toggleable__label-arrow:before {content: \"▾\";}#sk-container-id-11 div.sk-estimator input.sk-toggleable__control:checked~label.sk-toggleable__label {background-color: #d4ebff;}#sk-container-id-11 div.sk-label input.sk-toggleable__control:checked~label.sk-toggleable__label {background-color: #d4ebff;}#sk-container-id-11 input.sk-hidden--visually {border: 0;clip: rect(1px 1px 1px 1px);clip: rect(1px, 1px, 1px, 1px);height: 1px;margin: -1px;overflow: hidden;padding: 0;position: absolute;width: 1px;}#sk-container-id-11 div.sk-estimator {font-family: monospace;background-color: #f0f8ff;border: 1px dotted black;border-radius: 0.25em;box-sizing: border-box;margin-bottom: 0.5em;}#sk-container-id-11 div.sk-estimator:hover {background-color: #d4ebff;}#sk-container-id-11 div.sk-parallel-item::after {content: \"\";width: 100%;border-bottom: 1px solid gray;flex-grow: 1;}#sk-container-id-11 div.sk-label:hover label.sk-toggleable__label {background-color: #d4ebff;}#sk-container-id-11 div.sk-serial::before {content: \"\";position: absolute;border-left: 1px solid gray;box-sizing: border-box;top: 0;bottom: 0;left: 50%;z-index: 0;}#sk-container-id-11 div.sk-serial {display: flex;flex-direction: column;align-items: center;background-color: white;padding-right: 0.2em;padding-left: 0.2em;position: relative;}#sk-container-id-11 div.sk-item {position: relative;z-index: 1;}#sk-container-id-11 div.sk-parallel {display: flex;align-items: stretch;justify-content: center;background-color: white;position: relative;}#sk-container-id-11 div.sk-item::before, #sk-container-id-11 div.sk-parallel-item::before {content: \"\";position: absolute;border-left: 1px solid gray;box-sizing: border-box;top: 0;bottom: 0;left: 50%;z-index: -1;}#sk-container-id-11 div.sk-parallel-item {display: flex;flex-direction: column;z-index: 1;position: relative;background-color: white;}#sk-container-id-11 div.sk-parallel-item:first-child::after {align-self: flex-end;width: 50%;}#sk-container-id-11 div.sk-parallel-item:last-child::after {align-self: flex-start;width: 50%;}#sk-container-id-11 div.sk-parallel-item:only-child::after {width: 0;}#sk-container-id-11 div.sk-dashed-wrapped {border: 1px dashed gray;margin: 0 0.4em 0.5em 0.4em;box-sizing: border-box;padding-bottom: 0.4em;background-color: white;}#sk-container-id-11 div.sk-label label {font-family: monospace;font-weight: bold;display: inline-block;line-height: 1.2em;}#sk-container-id-11 div.sk-label-container {text-align: center;}#sk-container-id-11 div.sk-container {/* jupyter's `normalize.less` sets `[hidden] { display: none; }` but bootstrap.min.css set `[hidden] { display: none !important; }` so we also need the `!important` here to be able to override the default hidden behavior on the sphinx rendered scikit-learn.org. See: https://github.com/scikit-learn/scikit-learn/issues/21755 */display: inline-block !important;position: relative;}#sk-container-id-11 div.sk-text-repr-fallback {display: none;}</style><div id=\"sk-container-id-11\" class=\"sk-top-container\"><div class=\"sk-text-repr-fallback\"><pre>Pipeline(steps=[(&#x27;pad&#x27;,\n",
       "                 FunctionTransformer(func=&lt;function np_pad_wrapper at 0x15335f0d0&gt;,\n",
       "                                     kw_args={&#x27;max_len&#x27;: 64000})),\n",
       "                (&#x27;over_sampler&#x27;,\n",
       "                 AugmentingRandomOversampler(augment_method=&#x27;PitchShift&#x27;,\n",
       "                                             sampling_strategy=&#x27;minority&#x27;)),\n",
       "                (&#x27;mean_mfcc&#x27;,\n",
       "                 FunctionTransformer(func=&lt;function samples_to_mean_mfcc at 0x10cf3f790&gt;,\n",
       "                                     kw_args={&#x27;fmax&#x27;: 3000.0, &#x27;fmin&#x27;: 0.0,\n",
       "                                              &#x27;hop_length&#x27;: 128,...\n",
       "                               gamma=None, gpu_id=None, grow_policy=None,\n",
       "                               importance_type=None,\n",
       "                               interaction_constraints=None,\n",
       "                               learning_rate=0.025, max_bin=None,\n",
       "                               max_cat_to_onehot=None, max_delta_step=None,\n",
       "                               max_depth=8, max_leaves=None,\n",
       "                               min_child_weight=None, missing=nan,\n",
       "                               monotone_constraints=None, n_estimators=400,\n",
       "                               n_jobs=None, nthread=4, num_parallel_tree=None,\n",
       "                               objective=&#x27;multi:softmax&#x27;, predictor=None,\n",
       "                               random_state=None, ...))])</pre><b>In a Jupyter environment, please rerun this cell to show the HTML representation or trust the notebook. <br />On GitHub, the HTML representation is unable to render, please try loading this page with nbviewer.org.</b></div><div class=\"sk-container\" hidden><div class=\"sk-item sk-dashed-wrapped\"><div class=\"sk-label-container\"><div class=\"sk-label sk-toggleable\"><input class=\"sk-toggleable__control sk-hidden--visually\" id=\"sk-estimator-id-61\" type=\"checkbox\" ><label for=\"sk-estimator-id-61\" class=\"sk-toggleable__label sk-toggleable__label-arrow\">Pipeline</label><div class=\"sk-toggleable__content\"><pre>Pipeline(steps=[(&#x27;pad&#x27;,\n",
       "                 FunctionTransformer(func=&lt;function np_pad_wrapper at 0x15335f0d0&gt;,\n",
       "                                     kw_args={&#x27;max_len&#x27;: 64000})),\n",
       "                (&#x27;over_sampler&#x27;,\n",
       "                 AugmentingRandomOversampler(augment_method=&#x27;PitchShift&#x27;,\n",
       "                                             sampling_strategy=&#x27;minority&#x27;)),\n",
       "                (&#x27;mean_mfcc&#x27;,\n",
       "                 FunctionTransformer(func=&lt;function samples_to_mean_mfcc at 0x10cf3f790&gt;,\n",
       "                                     kw_args={&#x27;fmax&#x27;: 3000.0, &#x27;fmin&#x27;: 0.0,\n",
       "                                              &#x27;hop_length&#x27;: 128,...\n",
       "                               gamma=None, gpu_id=None, grow_policy=None,\n",
       "                               importance_type=None,\n",
       "                               interaction_constraints=None,\n",
       "                               learning_rate=0.025, max_bin=None,\n",
       "                               max_cat_to_onehot=None, max_delta_step=None,\n",
       "                               max_depth=8, max_leaves=None,\n",
       "                               min_child_weight=None, missing=nan,\n",
       "                               monotone_constraints=None, n_estimators=400,\n",
       "                               n_jobs=None, nthread=4, num_parallel_tree=None,\n",
       "                               objective=&#x27;multi:softmax&#x27;, predictor=None,\n",
       "                               random_state=None, ...))])</pre></div></div></div><div class=\"sk-serial\"><div class=\"sk-item\"><div class=\"sk-estimator sk-toggleable\"><input class=\"sk-toggleable__control sk-hidden--visually\" id=\"sk-estimator-id-62\" type=\"checkbox\" ><label for=\"sk-estimator-id-62\" class=\"sk-toggleable__label sk-toggleable__label-arrow\">FunctionTransformer</label><div class=\"sk-toggleable__content\"><pre>FunctionTransformer(func=&lt;function np_pad_wrapper at 0x15335f0d0&gt;,\n",
       "                    kw_args={&#x27;max_len&#x27;: 64000})</pre></div></div></div><div class=\"sk-item\"><div class=\"sk-estimator sk-toggleable\"><input class=\"sk-toggleable__control sk-hidden--visually\" id=\"sk-estimator-id-63\" type=\"checkbox\" ><label for=\"sk-estimator-id-63\" class=\"sk-toggleable__label sk-toggleable__label-arrow\">AugmentingRandomOversampler</label><div class=\"sk-toggleable__content\"><pre>AugmentingRandomOversampler(augment_method=&#x27;PitchShift&#x27;,\n",
       "                            sampling_strategy=&#x27;minority&#x27;)</pre></div></div></div><div class=\"sk-item\"><div class=\"sk-estimator sk-toggleable\"><input class=\"sk-toggleable__control sk-hidden--visually\" id=\"sk-estimator-id-64\" type=\"checkbox\" ><label for=\"sk-estimator-id-64\" class=\"sk-toggleable__label sk-toggleable__label-arrow\">FunctionTransformer</label><div class=\"sk-toggleable__content\"><pre>FunctionTransformer(func=&lt;function samples_to_mean_mfcc at 0x10cf3f790&gt;,\n",
       "                    kw_args={&#x27;fmax&#x27;: 3000.0, &#x27;fmin&#x27;: 0.0, &#x27;hop_length&#x27;: 128,\n",
       "                             &#x27;n_fft&#x27;: 256, &#x27;n_mels&#x27;: 98, &#x27;n_mfcc&#x27;: 16,\n",
       "                             &#x27;sr&#x27;: 16000})</pre></div></div></div><div class=\"sk-item\"><div class=\"sk-estimator sk-toggleable\"><input class=\"sk-toggleable__control sk-hidden--visually\" id=\"sk-estimator-id-65\" type=\"checkbox\" ><label for=\"sk-estimator-id-65\" class=\"sk-toggleable__label sk-toggleable__label-arrow\">StandardScaler</label><div class=\"sk-toggleable__content\"><pre>StandardScaler()</pre></div></div></div><div class=\"sk-item\"><div class=\"sk-estimator sk-toggleable\"><input class=\"sk-toggleable__control sk-hidden--visually\" id=\"sk-estimator-id-66\" type=\"checkbox\" ><label for=\"sk-estimator-id-66\" class=\"sk-toggleable__label sk-toggleable__label-arrow\">XGBClassifier</label><div class=\"sk-toggleable__content\"><pre>XGBClassifier(base_score=None, booster=None, callbacks=None,\n",
       "              colsample_bylevel=None, colsample_bynode=None,\n",
       "              colsample_bytree=None, early_stopping_rounds=None,\n",
       "              enable_categorical=False, eval_metric=None, gamma=None,\n",
       "              gpu_id=None, grow_policy=None, importance_type=None,\n",
       "              interaction_constraints=None, learning_rate=0.025, max_bin=None,\n",
       "              max_cat_to_onehot=None, max_delta_step=None, max_depth=8,\n",
       "              max_leaves=None, min_child_weight=None, missing=nan,\n",
       "              monotone_constraints=None, n_estimators=400, n_jobs=None,\n",
       "              nthread=4, num_parallel_tree=None, objective=&#x27;multi:softmax&#x27;,\n",
       "              predictor=None, random_state=None, ...)</pre></div></div></div></div></div></div></div>"
      ],
      "text/plain": [
       "Pipeline(steps=[('pad',\n",
       "                 FunctionTransformer(func=<function np_pad_wrapper at 0x15335f0d0>,\n",
       "                                     kw_args={'max_len': 64000})),\n",
       "                ('over_sampler',\n",
       "                 AugmentingRandomOversampler(augment_method='PitchShift',\n",
       "                                             sampling_strategy='minority')),\n",
       "                ('mean_mfcc',\n",
       "                 FunctionTransformer(func=<function samples_to_mean_mfcc at 0x10cf3f790>,\n",
       "                                     kw_args={'fmax': 3000.0, 'fmin': 0.0,\n",
       "                                              'hop_length': 128,...\n",
       "                               gamma=None, gpu_id=None, grow_policy=None,\n",
       "                               importance_type=None,\n",
       "                               interaction_constraints=None,\n",
       "                               learning_rate=0.025, max_bin=None,\n",
       "                               max_cat_to_onehot=None, max_delta_step=None,\n",
       "                               max_depth=8, max_leaves=None,\n",
       "                               min_child_weight=None, missing=nan,\n",
       "                               monotone_constraints=None, n_estimators=400,\n",
       "                               n_jobs=None, nthread=4, num_parallel_tree=None,\n",
       "                               objective='multi:softmax', predictor=None,\n",
       "                               random_state=None, ...))])"
      ]
     },
     "execution_count": 33,
     "metadata": {},
     "output_type": "execute_result"
    }
   ],
   "source": [
    "pipe4.set_params(over_sampler=AugmentingRandomOversampler(augment_method='PitchShift'),\n",
    "                estimator=XGBClassifier(n_estimators=400, \n",
    "                              learning_rate=0.025, \n",
    "                              max_depth=8, \n",
    "                              objective='multi:softmax',\n",
    "                              nthread=4),\n",
    "                mean_mfcc__kw_args= {'sr': 16000,\n",
    "                'n_mfcc': 16,\n",
    "                'n_fft': 256,\n",
    "                'hop_length': 128,\n",
    "                'fmin': 0.0,\n",
    "                'fmax': 3000.0,\n",
    "                'n_mels': 98})"
   ]
  },
  {
   "cell_type": "code",
   "execution_count": 34,
   "metadata": {},
   "outputs": [
    {
     "name": "stderr",
     "output_type": "stream",
     "text": [
      "/Users/carlquin/.pyenv/versions/usk8data/lib/python3.8/site-packages/librosa/util/decorators.py:88: UserWarning: n_fft=2048 is too small for input signal of length=1550\n",
      "  return f(*args, **kwargs)\n",
      "/Users/carlquin/.pyenv/versions/usk8data/lib/python3.8/site-packages/librosa/util/decorators.py:88: UserWarning: n_fft=2048 is too small for input signal of length=1600\n",
      "  return f(*args, **kwargs)\n",
      "/Users/carlquin/.pyenv/versions/usk8data/lib/python3.8/site-packages/librosa/util/decorators.py:88: UserWarning: n_fft=2048 is too small for input signal of length=1696\n",
      "  return f(*args, **kwargs)\n",
      "/Users/carlquin/.pyenv/versions/usk8data/lib/python3.8/site-packages/librosa/util/decorators.py:88: UserWarning: n_fft=2048 is too small for input signal of length=960\n",
      "  return f(*args, **kwargs)\n",
      "/Users/carlquin/.pyenv/versions/usk8data/lib/python3.8/site-packages/librosa/util/decorators.py:88: UserWarning: n_fft=2048 is too small for input signal of length=800\n",
      "  return f(*args, **kwargs)\n",
      "/Users/carlquin/.pyenv/versions/usk8data/lib/python3.8/site-packages/librosa/util/decorators.py:88: UserWarning: n_fft=2048 is too small for input signal of length=1745\n",
      "  return f(*args, **kwargs)\n",
      "/Users/carlquin/.pyenv/versions/usk8data/lib/python3.8/site-packages/librosa/util/decorators.py:88: UserWarning: n_fft=2048 is too small for input signal of length=1757\n",
      "  return f(*args, **kwargs)\n",
      "/Users/carlquin/.pyenv/versions/usk8data/lib/python3.8/site-packages/librosa/util/decorators.py:88: UserWarning: n_fft=2048 is too small for input signal of length=1105\n",
      "  return f(*args, **kwargs)\n"
     ]
    },
    {
     "data": {
      "text/html": [
       "<style>#sk-container-id-12 {color: black;background-color: white;}#sk-container-id-12 pre{padding: 0;}#sk-container-id-12 div.sk-toggleable {background-color: white;}#sk-container-id-12 label.sk-toggleable__label {cursor: pointer;display: block;width: 100%;margin-bottom: 0;padding: 0.3em;box-sizing: border-box;text-align: center;}#sk-container-id-12 label.sk-toggleable__label-arrow:before {content: \"▸\";float: left;margin-right: 0.25em;color: #696969;}#sk-container-id-12 label.sk-toggleable__label-arrow:hover:before {color: black;}#sk-container-id-12 div.sk-estimator:hover label.sk-toggleable__label-arrow:before {color: black;}#sk-container-id-12 div.sk-toggleable__content {max-height: 0;max-width: 0;overflow: hidden;text-align: left;background-color: #f0f8ff;}#sk-container-id-12 div.sk-toggleable__content pre {margin: 0.2em;color: black;border-radius: 0.25em;background-color: #f0f8ff;}#sk-container-id-12 input.sk-toggleable__control:checked~div.sk-toggleable__content {max-height: 200px;max-width: 100%;overflow: auto;}#sk-container-id-12 input.sk-toggleable__control:checked~label.sk-toggleable__label-arrow:before {content: \"▾\";}#sk-container-id-12 div.sk-estimator input.sk-toggleable__control:checked~label.sk-toggleable__label {background-color: #d4ebff;}#sk-container-id-12 div.sk-label input.sk-toggleable__control:checked~label.sk-toggleable__label {background-color: #d4ebff;}#sk-container-id-12 input.sk-hidden--visually {border: 0;clip: rect(1px 1px 1px 1px);clip: rect(1px, 1px, 1px, 1px);height: 1px;margin: -1px;overflow: hidden;padding: 0;position: absolute;width: 1px;}#sk-container-id-12 div.sk-estimator {font-family: monospace;background-color: #f0f8ff;border: 1px dotted black;border-radius: 0.25em;box-sizing: border-box;margin-bottom: 0.5em;}#sk-container-id-12 div.sk-estimator:hover {background-color: #d4ebff;}#sk-container-id-12 div.sk-parallel-item::after {content: \"\";width: 100%;border-bottom: 1px solid gray;flex-grow: 1;}#sk-container-id-12 div.sk-label:hover label.sk-toggleable__label {background-color: #d4ebff;}#sk-container-id-12 div.sk-serial::before {content: \"\";position: absolute;border-left: 1px solid gray;box-sizing: border-box;top: 0;bottom: 0;left: 50%;z-index: 0;}#sk-container-id-12 div.sk-serial {display: flex;flex-direction: column;align-items: center;background-color: white;padding-right: 0.2em;padding-left: 0.2em;position: relative;}#sk-container-id-12 div.sk-item {position: relative;z-index: 1;}#sk-container-id-12 div.sk-parallel {display: flex;align-items: stretch;justify-content: center;background-color: white;position: relative;}#sk-container-id-12 div.sk-item::before, #sk-container-id-12 div.sk-parallel-item::before {content: \"\";position: absolute;border-left: 1px solid gray;box-sizing: border-box;top: 0;bottom: 0;left: 50%;z-index: -1;}#sk-container-id-12 div.sk-parallel-item {display: flex;flex-direction: column;z-index: 1;position: relative;background-color: white;}#sk-container-id-12 div.sk-parallel-item:first-child::after {align-self: flex-end;width: 50%;}#sk-container-id-12 div.sk-parallel-item:last-child::after {align-self: flex-start;width: 50%;}#sk-container-id-12 div.sk-parallel-item:only-child::after {width: 0;}#sk-container-id-12 div.sk-dashed-wrapped {border: 1px dashed gray;margin: 0 0.4em 0.5em 0.4em;box-sizing: border-box;padding-bottom: 0.4em;background-color: white;}#sk-container-id-12 div.sk-label label {font-family: monospace;font-weight: bold;display: inline-block;line-height: 1.2em;}#sk-container-id-12 div.sk-label-container {text-align: center;}#sk-container-id-12 div.sk-container {/* jupyter's `normalize.less` sets `[hidden] { display: none; }` but bootstrap.min.css set `[hidden] { display: none !important; }` so we also need the `!important` here to be able to override the default hidden behavior on the sphinx rendered scikit-learn.org. See: https://github.com/scikit-learn/scikit-learn/issues/21755 */display: inline-block !important;position: relative;}#sk-container-id-12 div.sk-text-repr-fallback {display: none;}</style><div id=\"sk-container-id-12\" class=\"sk-top-container\"><div class=\"sk-text-repr-fallback\"><pre>Pipeline(steps=[(&#x27;pad&#x27;,\n",
       "                 FunctionTransformer(func=&lt;function np_pad_wrapper at 0x15335f0d0&gt;,\n",
       "                                     kw_args={&#x27;max_len&#x27;: 64000})),\n",
       "                (&#x27;over_sampler&#x27;,\n",
       "                 AugmentingRandomOversampler(augment_method=&#x27;PitchShift&#x27;,\n",
       "                                             sampling_strategy=&#x27;minority&#x27;)),\n",
       "                (&#x27;mean_mfcc&#x27;,\n",
       "                 FunctionTransformer(func=&lt;function samples_to_mean_mfcc at 0x10cf3f790&gt;,\n",
       "                                     kw_args={&#x27;fmax&#x27;: 3000.0, &#x27;fmin&#x27;: 0.0,\n",
       "                                              &#x27;hop_length&#x27;: 128,...\n",
       "                               gamma=0, gpu_id=-1, grow_policy=&#x27;depthwise&#x27;,\n",
       "                               importance_type=None, interaction_constraints=&#x27;&#x27;,\n",
       "                               learning_rate=0.025, max_bin=256,\n",
       "                               max_cat_to_onehot=4, max_delta_step=0,\n",
       "                               max_depth=8, max_leaves=0, min_child_weight=1,\n",
       "                               missing=nan, monotone_constraints=&#x27;()&#x27;,\n",
       "                               n_estimators=400, n_jobs=4, nthread=4,\n",
       "                               num_parallel_tree=1, objective=&#x27;multi:softmax&#x27;,\n",
       "                               predictor=&#x27;auto&#x27;, random_state=0, ...))])</pre><b>In a Jupyter environment, please rerun this cell to show the HTML representation or trust the notebook. <br />On GitHub, the HTML representation is unable to render, please try loading this page with nbviewer.org.</b></div><div class=\"sk-container\" hidden><div class=\"sk-item sk-dashed-wrapped\"><div class=\"sk-label-container\"><div class=\"sk-label sk-toggleable\"><input class=\"sk-toggleable__control sk-hidden--visually\" id=\"sk-estimator-id-67\" type=\"checkbox\" ><label for=\"sk-estimator-id-67\" class=\"sk-toggleable__label sk-toggleable__label-arrow\">Pipeline</label><div class=\"sk-toggleable__content\"><pre>Pipeline(steps=[(&#x27;pad&#x27;,\n",
       "                 FunctionTransformer(func=&lt;function np_pad_wrapper at 0x15335f0d0&gt;,\n",
       "                                     kw_args={&#x27;max_len&#x27;: 64000})),\n",
       "                (&#x27;over_sampler&#x27;,\n",
       "                 AugmentingRandomOversampler(augment_method=&#x27;PitchShift&#x27;,\n",
       "                                             sampling_strategy=&#x27;minority&#x27;)),\n",
       "                (&#x27;mean_mfcc&#x27;,\n",
       "                 FunctionTransformer(func=&lt;function samples_to_mean_mfcc at 0x10cf3f790&gt;,\n",
       "                                     kw_args={&#x27;fmax&#x27;: 3000.0, &#x27;fmin&#x27;: 0.0,\n",
       "                                              &#x27;hop_length&#x27;: 128,...\n",
       "                               gamma=0, gpu_id=-1, grow_policy=&#x27;depthwise&#x27;,\n",
       "                               importance_type=None, interaction_constraints=&#x27;&#x27;,\n",
       "                               learning_rate=0.025, max_bin=256,\n",
       "                               max_cat_to_onehot=4, max_delta_step=0,\n",
       "                               max_depth=8, max_leaves=0, min_child_weight=1,\n",
       "                               missing=nan, monotone_constraints=&#x27;()&#x27;,\n",
       "                               n_estimators=400, n_jobs=4, nthread=4,\n",
       "                               num_parallel_tree=1, objective=&#x27;multi:softmax&#x27;,\n",
       "                               predictor=&#x27;auto&#x27;, random_state=0, ...))])</pre></div></div></div><div class=\"sk-serial\"><div class=\"sk-item\"><div class=\"sk-estimator sk-toggleable\"><input class=\"sk-toggleable__control sk-hidden--visually\" id=\"sk-estimator-id-68\" type=\"checkbox\" ><label for=\"sk-estimator-id-68\" class=\"sk-toggleable__label sk-toggleable__label-arrow\">FunctionTransformer</label><div class=\"sk-toggleable__content\"><pre>FunctionTransformer(func=&lt;function np_pad_wrapper at 0x15335f0d0&gt;,\n",
       "                    kw_args={&#x27;max_len&#x27;: 64000})</pre></div></div></div><div class=\"sk-item\"><div class=\"sk-estimator sk-toggleable\"><input class=\"sk-toggleable__control sk-hidden--visually\" id=\"sk-estimator-id-69\" type=\"checkbox\" ><label for=\"sk-estimator-id-69\" class=\"sk-toggleable__label sk-toggleable__label-arrow\">AugmentingRandomOversampler</label><div class=\"sk-toggleable__content\"><pre>AugmentingRandomOversampler(augment_method=&#x27;PitchShift&#x27;,\n",
       "                            sampling_strategy=&#x27;minority&#x27;)</pre></div></div></div><div class=\"sk-item\"><div class=\"sk-estimator sk-toggleable\"><input class=\"sk-toggleable__control sk-hidden--visually\" id=\"sk-estimator-id-70\" type=\"checkbox\" ><label for=\"sk-estimator-id-70\" class=\"sk-toggleable__label sk-toggleable__label-arrow\">FunctionTransformer</label><div class=\"sk-toggleable__content\"><pre>FunctionTransformer(func=&lt;function samples_to_mean_mfcc at 0x10cf3f790&gt;,\n",
       "                    kw_args={&#x27;fmax&#x27;: 3000.0, &#x27;fmin&#x27;: 0.0, &#x27;hop_length&#x27;: 128,\n",
       "                             &#x27;n_fft&#x27;: 256, &#x27;n_mels&#x27;: 98, &#x27;n_mfcc&#x27;: 16,\n",
       "                             &#x27;sr&#x27;: 16000})</pre></div></div></div><div class=\"sk-item\"><div class=\"sk-estimator sk-toggleable\"><input class=\"sk-toggleable__control sk-hidden--visually\" id=\"sk-estimator-id-71\" type=\"checkbox\" ><label for=\"sk-estimator-id-71\" class=\"sk-toggleable__label sk-toggleable__label-arrow\">StandardScaler</label><div class=\"sk-toggleable__content\"><pre>StandardScaler()</pre></div></div></div><div class=\"sk-item\"><div class=\"sk-estimator sk-toggleable\"><input class=\"sk-toggleable__control sk-hidden--visually\" id=\"sk-estimator-id-72\" type=\"checkbox\" ><label for=\"sk-estimator-id-72\" class=\"sk-toggleable__label sk-toggleable__label-arrow\">XGBClassifier</label><div class=\"sk-toggleable__content\"><pre>XGBClassifier(base_score=0.5, booster=&#x27;gbtree&#x27;, callbacks=None,\n",
       "              colsample_bylevel=1, colsample_bynode=1, colsample_bytree=1,\n",
       "              early_stopping_rounds=None, enable_categorical=False,\n",
       "              eval_metric=None, gamma=0, gpu_id=-1, grow_policy=&#x27;depthwise&#x27;,\n",
       "              importance_type=None, interaction_constraints=&#x27;&#x27;,\n",
       "              learning_rate=0.025, max_bin=256, max_cat_to_onehot=4,\n",
       "              max_delta_step=0, max_depth=8, max_leaves=0, min_child_weight=1,\n",
       "              missing=nan, monotone_constraints=&#x27;()&#x27;, n_estimators=400,\n",
       "              n_jobs=4, nthread=4, num_parallel_tree=1,\n",
       "              objective=&#x27;multi:softmax&#x27;, predictor=&#x27;auto&#x27;, random_state=0, ...)</pre></div></div></div></div></div></div></div>"
      ],
      "text/plain": [
       "Pipeline(steps=[('pad',\n",
       "                 FunctionTransformer(func=<function np_pad_wrapper at 0x15335f0d0>,\n",
       "                                     kw_args={'max_len': 64000})),\n",
       "                ('over_sampler',\n",
       "                 AugmentingRandomOversampler(augment_method='PitchShift',\n",
       "                                             sampling_strategy='minority')),\n",
       "                ('mean_mfcc',\n",
       "                 FunctionTransformer(func=<function samples_to_mean_mfcc at 0x10cf3f790>,\n",
       "                                     kw_args={'fmax': 3000.0, 'fmin': 0.0,\n",
       "                                              'hop_length': 128,...\n",
       "                               gamma=0, gpu_id=-1, grow_policy='depthwise',\n",
       "                               importance_type=None, interaction_constraints='',\n",
       "                               learning_rate=0.025, max_bin=256,\n",
       "                               max_cat_to_onehot=4, max_delta_step=0,\n",
       "                               max_depth=8, max_leaves=0, min_child_weight=1,\n",
       "                               missing=nan, monotone_constraints='()',\n",
       "                               n_estimators=400, n_jobs=4, nthread=4,\n",
       "                               num_parallel_tree=1, objective='multi:softmax',\n",
       "                               predictor='auto', random_state=0, ...))])"
      ]
     },
     "execution_count": 34,
     "metadata": {},
     "output_type": "execute_result"
    }
   ],
   "source": [
    "pipe4.fit(train_fold, train_y)"
   ]
  },
  {
   "cell_type": "code",
   "execution_count": 35,
   "metadata": {},
   "outputs": [],
   "source": [
    "pred_y4 = pipe4.predict(val_fold)"
   ]
  },
  {
   "cell_type": "code",
   "execution_count": 36,
   "metadata": {},
   "outputs": [
    {
     "name": "stdout",
     "output_type": "stream",
     "text": [
      "              precision    recall  f1-score   support\n",
      "\n",
      "           0       0.38      0.18      0.24       100\n",
      "           1       0.41      0.44      0.43        59\n",
      "           2       0.46      0.41      0.43       100\n",
      "           3       0.48      0.78      0.60       100\n",
      "           4       0.48      0.57      0.52       100\n",
      "           5       0.33      0.19      0.24       107\n",
      "           6       0.70      0.55      0.62        38\n",
      "           7       0.28      0.12      0.17       120\n",
      "           8       0.94      0.78      0.85       166\n",
      "           9       0.24      0.54      0.33       100\n",
      "\n",
      "    accuracy                           0.46       990\n",
      "   macro avg       0.47      0.46      0.44       990\n",
      "weighted avg       0.48      0.46      0.45       990\n",
      "\n"
     ]
    }
   ],
   "source": [
    "print(classification_report(val_y, pred_y4))"
   ]
  },
  {
   "cell_type": "code",
   "execution_count": 48,
   "metadata": {},
   "outputs": [
    {
     "data": {
      "text/html": [
       "<div>\n",
       "<style scoped>\n",
       "    .dataframe tbody tr th:only-of-type {\n",
       "        vertical-align: middle;\n",
       "    }\n",
       "\n",
       "    .dataframe tbody tr th {\n",
       "        vertical-align: top;\n",
       "    }\n",
       "\n",
       "    .dataframe thead th {\n",
       "        text-align: right;\n",
       "    }\n",
       "</style>\n",
       "<table border=\"1\" class=\"dataframe\">\n",
       "  <thead>\n",
       "    <tr style=\"text-align: right;\">\n",
       "      <th></th>\n",
       "      <th>mean_precision</th>\n",
       "      <th>mean_recall</th>\n",
       "      <th>mean_f1-score</th>\n",
       "    </tr>\n",
       "  </thead>\n",
       "  <tbody>\n",
       "    <tr>\n",
       "      <th>4</th>\n",
       "      <td>0.470563</td>\n",
       "      <td>0.458037</td>\n",
       "      <td>0.445709</td>\n",
       "    </tr>\n",
       "  </tbody>\n",
       "</table>\n",
       "</div>"
      ],
      "text/plain": [
       "   mean_precision  mean_recall  mean_f1-score\n",
       "4        0.470563     0.458037       0.445709"
      ]
     },
     "execution_count": 48,
     "metadata": {},
     "output_type": "execute_result"
    }
   ],
   "source": [
    "report4= pd.DataFrame(classification_report(val_y, pred_y4, output_dict=True)).transpose()\n",
    "mean_report4 = {'mean_precision': np.mean(report4['precision']),\n",
    "                'mean_recall':np.mean(report4['recall']),\n",
    "                'mean_f1-score': np.mean(report4['f1-score'])\n",
    "                }\n",
    "pd.DataFrame(mean_report4, index=[4])"
   ]
  },
  {
   "cell_type": "markdown",
   "metadata": {},
   "source": [
    "### Combined Class Classification Report\n",
    "\n",
    "Target class: car horns (1), sirens(8), dog barks(3)\n",
    "\n",
    "Dangerous classes in report has 0.76 precision, 0.85 recall, 0.80 f1-score. \n",
    "\n",
    "This model has 0.51 accuracy."
   ]
  },
  {
   "cell_type": "code",
   "execution_count": 60,
   "metadata": {},
   "outputs": [
    {
     "name": "stdout",
     "output_type": "stream",
     "text": [
      "              precision    recall  f1-score   support\n",
      "\n",
      "           0       0.38      0.18      0.24       100\n",
      "           2       0.46      0.41      0.43       100\n",
      "           4       0.48      0.57      0.52       100\n",
      "           5       0.33      0.19      0.24       107\n",
      "           6       0.70      0.55      0.62        38\n",
      "           7       0.28      0.12      0.17       120\n",
      "           8       0.76      0.85      0.80       325\n",
      "           9       0.24      0.54      0.33       100\n",
      "\n",
      "    accuracy                           0.51       990\n",
      "   macro avg       0.45      0.43      0.42       990\n",
      "weighted avg       0.50      0.51      0.49       990\n",
      "\n"
     ]
    }
   ],
   "source": [
    "com_pred_y4 = combine_classes([0, 2, 4, 5, 6, 7, 9], pred_y4)\n",
    "\n",
    "report4_1 = classification_report(combined_val_y, com_pred_y4)\n",
    "print(report4_1)"
   ]
  },
  {
   "cell_type": "markdown",
   "metadata": {},
   "source": [
    "## 5. Model -Shift"
   ]
  },
  {
   "cell_type": "code",
   "execution_count": 37,
   "metadata": {},
   "outputs": [
    {
     "name": "stdout",
     "output_type": "stream",
     "text": [
      "Use pipe.set_params(over_sampler=.., estimator=..) to finish the pipeline\n"
     ]
    }
   ],
   "source": [
    "pipe5 = make_oversampled_feature_pipeline()"
   ]
  },
  {
   "cell_type": "code",
   "execution_count": 39,
   "metadata": {},
   "outputs": [
    {
     "data": {
      "text/html": [
       "<style>#sk-container-id-13 {color: black;background-color: white;}#sk-container-id-13 pre{padding: 0;}#sk-container-id-13 div.sk-toggleable {background-color: white;}#sk-container-id-13 label.sk-toggleable__label {cursor: pointer;display: block;width: 100%;margin-bottom: 0;padding: 0.3em;box-sizing: border-box;text-align: center;}#sk-container-id-13 label.sk-toggleable__label-arrow:before {content: \"▸\";float: left;margin-right: 0.25em;color: #696969;}#sk-container-id-13 label.sk-toggleable__label-arrow:hover:before {color: black;}#sk-container-id-13 div.sk-estimator:hover label.sk-toggleable__label-arrow:before {color: black;}#sk-container-id-13 div.sk-toggleable__content {max-height: 0;max-width: 0;overflow: hidden;text-align: left;background-color: #f0f8ff;}#sk-container-id-13 div.sk-toggleable__content pre {margin: 0.2em;color: black;border-radius: 0.25em;background-color: #f0f8ff;}#sk-container-id-13 input.sk-toggleable__control:checked~div.sk-toggleable__content {max-height: 200px;max-width: 100%;overflow: auto;}#sk-container-id-13 input.sk-toggleable__control:checked~label.sk-toggleable__label-arrow:before {content: \"▾\";}#sk-container-id-13 div.sk-estimator input.sk-toggleable__control:checked~label.sk-toggleable__label {background-color: #d4ebff;}#sk-container-id-13 div.sk-label input.sk-toggleable__control:checked~label.sk-toggleable__label {background-color: #d4ebff;}#sk-container-id-13 input.sk-hidden--visually {border: 0;clip: rect(1px 1px 1px 1px);clip: rect(1px, 1px, 1px, 1px);height: 1px;margin: -1px;overflow: hidden;padding: 0;position: absolute;width: 1px;}#sk-container-id-13 div.sk-estimator {font-family: monospace;background-color: #f0f8ff;border: 1px dotted black;border-radius: 0.25em;box-sizing: border-box;margin-bottom: 0.5em;}#sk-container-id-13 div.sk-estimator:hover {background-color: #d4ebff;}#sk-container-id-13 div.sk-parallel-item::after {content: \"\";width: 100%;border-bottom: 1px solid gray;flex-grow: 1;}#sk-container-id-13 div.sk-label:hover label.sk-toggleable__label {background-color: #d4ebff;}#sk-container-id-13 div.sk-serial::before {content: \"\";position: absolute;border-left: 1px solid gray;box-sizing: border-box;top: 0;bottom: 0;left: 50%;z-index: 0;}#sk-container-id-13 div.sk-serial {display: flex;flex-direction: column;align-items: center;background-color: white;padding-right: 0.2em;padding-left: 0.2em;position: relative;}#sk-container-id-13 div.sk-item {position: relative;z-index: 1;}#sk-container-id-13 div.sk-parallel {display: flex;align-items: stretch;justify-content: center;background-color: white;position: relative;}#sk-container-id-13 div.sk-item::before, #sk-container-id-13 div.sk-parallel-item::before {content: \"\";position: absolute;border-left: 1px solid gray;box-sizing: border-box;top: 0;bottom: 0;left: 50%;z-index: -1;}#sk-container-id-13 div.sk-parallel-item {display: flex;flex-direction: column;z-index: 1;position: relative;background-color: white;}#sk-container-id-13 div.sk-parallel-item:first-child::after {align-self: flex-end;width: 50%;}#sk-container-id-13 div.sk-parallel-item:last-child::after {align-self: flex-start;width: 50%;}#sk-container-id-13 div.sk-parallel-item:only-child::after {width: 0;}#sk-container-id-13 div.sk-dashed-wrapped {border: 1px dashed gray;margin: 0 0.4em 0.5em 0.4em;box-sizing: border-box;padding-bottom: 0.4em;background-color: white;}#sk-container-id-13 div.sk-label label {font-family: monospace;font-weight: bold;display: inline-block;line-height: 1.2em;}#sk-container-id-13 div.sk-label-container {text-align: center;}#sk-container-id-13 div.sk-container {/* jupyter's `normalize.less` sets `[hidden] { display: none; }` but bootstrap.min.css set `[hidden] { display: none !important; }` so we also need the `!important` here to be able to override the default hidden behavior on the sphinx rendered scikit-learn.org. See: https://github.com/scikit-learn/scikit-learn/issues/21755 */display: inline-block !important;position: relative;}#sk-container-id-13 div.sk-text-repr-fallback {display: none;}</style><div id=\"sk-container-id-13\" class=\"sk-top-container\"><div class=\"sk-text-repr-fallback\"><pre>Pipeline(steps=[(&#x27;pad&#x27;,\n",
       "                 FunctionTransformer(func=&lt;function np_pad_wrapper at 0x15335f0d0&gt;,\n",
       "                                     kw_args={&#x27;max_len&#x27;: 64000})),\n",
       "                (&#x27;over_sampler&#x27;,\n",
       "                 AugmentingRandomOversampler(augment_method=&#x27;Shift&#x27;,\n",
       "                                             sampling_strategy=&#x27;minority&#x27;)),\n",
       "                (&#x27;mean_mfcc&#x27;,\n",
       "                 FunctionTransformer(func=&lt;function samples_to_mean_mfcc at 0x10cf3f790&gt;,\n",
       "                                     kw_args={&#x27;fmax&#x27;: 3000.0, &#x27;fmin&#x27;: 0.0,\n",
       "                                              &#x27;hop_length&#x27;: 128, &#x27;n_ff...\n",
       "                               gamma=None, gpu_id=None, grow_policy=None,\n",
       "                               importance_type=None,\n",
       "                               interaction_constraints=None,\n",
       "                               learning_rate=0.025, max_bin=None,\n",
       "                               max_cat_to_onehot=None, max_delta_step=None,\n",
       "                               max_depth=8, max_leaves=None,\n",
       "                               min_child_weight=None, missing=nan,\n",
       "                               monotone_constraints=None, n_estimators=400,\n",
       "                               n_jobs=None, nthread=4, num_parallel_tree=None,\n",
       "                               objective=&#x27;multi:softmax&#x27;, predictor=None,\n",
       "                               random_state=None, ...))])</pre><b>In a Jupyter environment, please rerun this cell to show the HTML representation or trust the notebook. <br />On GitHub, the HTML representation is unable to render, please try loading this page with nbviewer.org.</b></div><div class=\"sk-container\" hidden><div class=\"sk-item sk-dashed-wrapped\"><div class=\"sk-label-container\"><div class=\"sk-label sk-toggleable\"><input class=\"sk-toggleable__control sk-hidden--visually\" id=\"sk-estimator-id-73\" type=\"checkbox\" ><label for=\"sk-estimator-id-73\" class=\"sk-toggleable__label sk-toggleable__label-arrow\">Pipeline</label><div class=\"sk-toggleable__content\"><pre>Pipeline(steps=[(&#x27;pad&#x27;,\n",
       "                 FunctionTransformer(func=&lt;function np_pad_wrapper at 0x15335f0d0&gt;,\n",
       "                                     kw_args={&#x27;max_len&#x27;: 64000})),\n",
       "                (&#x27;over_sampler&#x27;,\n",
       "                 AugmentingRandomOversampler(augment_method=&#x27;Shift&#x27;,\n",
       "                                             sampling_strategy=&#x27;minority&#x27;)),\n",
       "                (&#x27;mean_mfcc&#x27;,\n",
       "                 FunctionTransformer(func=&lt;function samples_to_mean_mfcc at 0x10cf3f790&gt;,\n",
       "                                     kw_args={&#x27;fmax&#x27;: 3000.0, &#x27;fmin&#x27;: 0.0,\n",
       "                                              &#x27;hop_length&#x27;: 128, &#x27;n_ff...\n",
       "                               gamma=None, gpu_id=None, grow_policy=None,\n",
       "                               importance_type=None,\n",
       "                               interaction_constraints=None,\n",
       "                               learning_rate=0.025, max_bin=None,\n",
       "                               max_cat_to_onehot=None, max_delta_step=None,\n",
       "                               max_depth=8, max_leaves=None,\n",
       "                               min_child_weight=None, missing=nan,\n",
       "                               monotone_constraints=None, n_estimators=400,\n",
       "                               n_jobs=None, nthread=4, num_parallel_tree=None,\n",
       "                               objective=&#x27;multi:softmax&#x27;, predictor=None,\n",
       "                               random_state=None, ...))])</pre></div></div></div><div class=\"sk-serial\"><div class=\"sk-item\"><div class=\"sk-estimator sk-toggleable\"><input class=\"sk-toggleable__control sk-hidden--visually\" id=\"sk-estimator-id-74\" type=\"checkbox\" ><label for=\"sk-estimator-id-74\" class=\"sk-toggleable__label sk-toggleable__label-arrow\">FunctionTransformer</label><div class=\"sk-toggleable__content\"><pre>FunctionTransformer(func=&lt;function np_pad_wrapper at 0x15335f0d0&gt;,\n",
       "                    kw_args={&#x27;max_len&#x27;: 64000})</pre></div></div></div><div class=\"sk-item\"><div class=\"sk-estimator sk-toggleable\"><input class=\"sk-toggleable__control sk-hidden--visually\" id=\"sk-estimator-id-75\" type=\"checkbox\" ><label for=\"sk-estimator-id-75\" class=\"sk-toggleable__label sk-toggleable__label-arrow\">AugmentingRandomOversampler</label><div class=\"sk-toggleable__content\"><pre>AugmentingRandomOversampler(augment_method=&#x27;Shift&#x27;,\n",
       "                            sampling_strategy=&#x27;minority&#x27;)</pre></div></div></div><div class=\"sk-item\"><div class=\"sk-estimator sk-toggleable\"><input class=\"sk-toggleable__control sk-hidden--visually\" id=\"sk-estimator-id-76\" type=\"checkbox\" ><label for=\"sk-estimator-id-76\" class=\"sk-toggleable__label sk-toggleable__label-arrow\">FunctionTransformer</label><div class=\"sk-toggleable__content\"><pre>FunctionTransformer(func=&lt;function samples_to_mean_mfcc at 0x10cf3f790&gt;,\n",
       "                    kw_args={&#x27;fmax&#x27;: 3000.0, &#x27;fmin&#x27;: 0.0, &#x27;hop_length&#x27;: 128,\n",
       "                             &#x27;n_fft&#x27;: 256, &#x27;n_mels&#x27;: 98, &#x27;n_mfcc&#x27;: 16,\n",
       "                             &#x27;sr&#x27;: 16000})</pre></div></div></div><div class=\"sk-item\"><div class=\"sk-estimator sk-toggleable\"><input class=\"sk-toggleable__control sk-hidden--visually\" id=\"sk-estimator-id-77\" type=\"checkbox\" ><label for=\"sk-estimator-id-77\" class=\"sk-toggleable__label sk-toggleable__label-arrow\">StandardScaler</label><div class=\"sk-toggleable__content\"><pre>StandardScaler()</pre></div></div></div><div class=\"sk-item\"><div class=\"sk-estimator sk-toggleable\"><input class=\"sk-toggleable__control sk-hidden--visually\" id=\"sk-estimator-id-78\" type=\"checkbox\" ><label for=\"sk-estimator-id-78\" class=\"sk-toggleable__label sk-toggleable__label-arrow\">XGBClassifier</label><div class=\"sk-toggleable__content\"><pre>XGBClassifier(base_score=None, booster=None, callbacks=None,\n",
       "              colsample_bylevel=None, colsample_bynode=None,\n",
       "              colsample_bytree=None, early_stopping_rounds=None,\n",
       "              enable_categorical=False, eval_metric=None, gamma=None,\n",
       "              gpu_id=None, grow_policy=None, importance_type=None,\n",
       "              interaction_constraints=None, learning_rate=0.025, max_bin=None,\n",
       "              max_cat_to_onehot=None, max_delta_step=None, max_depth=8,\n",
       "              max_leaves=None, min_child_weight=None, missing=nan,\n",
       "              monotone_constraints=None, n_estimators=400, n_jobs=None,\n",
       "              nthread=4, num_parallel_tree=None, objective=&#x27;multi:softmax&#x27;,\n",
       "              predictor=None, random_state=None, ...)</pre></div></div></div></div></div></div></div>"
      ],
      "text/plain": [
       "Pipeline(steps=[('pad',\n",
       "                 FunctionTransformer(func=<function np_pad_wrapper at 0x15335f0d0>,\n",
       "                                     kw_args={'max_len': 64000})),\n",
       "                ('over_sampler',\n",
       "                 AugmentingRandomOversampler(augment_method='Shift',\n",
       "                                             sampling_strategy='minority')),\n",
       "                ('mean_mfcc',\n",
       "                 FunctionTransformer(func=<function samples_to_mean_mfcc at 0x10cf3f790>,\n",
       "                                     kw_args={'fmax': 3000.0, 'fmin': 0.0,\n",
       "                                              'hop_length': 128, 'n_ff...\n",
       "                               gamma=None, gpu_id=None, grow_policy=None,\n",
       "                               importance_type=None,\n",
       "                               interaction_constraints=None,\n",
       "                               learning_rate=0.025, max_bin=None,\n",
       "                               max_cat_to_onehot=None, max_delta_step=None,\n",
       "                               max_depth=8, max_leaves=None,\n",
       "                               min_child_weight=None, missing=nan,\n",
       "                               monotone_constraints=None, n_estimators=400,\n",
       "                               n_jobs=None, nthread=4, num_parallel_tree=None,\n",
       "                               objective='multi:softmax', predictor=None,\n",
       "                               random_state=None, ...))])"
      ]
     },
     "execution_count": 39,
     "metadata": {},
     "output_type": "execute_result"
    }
   ],
   "source": [
    "pipe5.set_params(over_sampler=AugmentingRandomOversampler(augment_method='Shift'),\n",
    "                estimator=XGBClassifier(n_estimators=400, \n",
    "                              learning_rate=0.025, \n",
    "                              max_depth=8, \n",
    "                              objective='multi:softmax',\n",
    "                              nthread=4),\n",
    "                mean_mfcc__kw_args= {'sr': 16000,\n",
    "                'n_mfcc': 16,\n",
    "                'n_fft': 256,\n",
    "                'hop_length': 128,\n",
    "                'fmin': 0.0,\n",
    "                'fmax': 3000.0,\n",
    "                'n_mels': 98})"
   ]
  },
  {
   "cell_type": "code",
   "execution_count": 40,
   "metadata": {},
   "outputs": [
    {
     "data": {
      "text/html": [
       "<style>#sk-container-id-14 {color: black;background-color: white;}#sk-container-id-14 pre{padding: 0;}#sk-container-id-14 div.sk-toggleable {background-color: white;}#sk-container-id-14 label.sk-toggleable__label {cursor: pointer;display: block;width: 100%;margin-bottom: 0;padding: 0.3em;box-sizing: border-box;text-align: center;}#sk-container-id-14 label.sk-toggleable__label-arrow:before {content: \"▸\";float: left;margin-right: 0.25em;color: #696969;}#sk-container-id-14 label.sk-toggleable__label-arrow:hover:before {color: black;}#sk-container-id-14 div.sk-estimator:hover label.sk-toggleable__label-arrow:before {color: black;}#sk-container-id-14 div.sk-toggleable__content {max-height: 0;max-width: 0;overflow: hidden;text-align: left;background-color: #f0f8ff;}#sk-container-id-14 div.sk-toggleable__content pre {margin: 0.2em;color: black;border-radius: 0.25em;background-color: #f0f8ff;}#sk-container-id-14 input.sk-toggleable__control:checked~div.sk-toggleable__content {max-height: 200px;max-width: 100%;overflow: auto;}#sk-container-id-14 input.sk-toggleable__control:checked~label.sk-toggleable__label-arrow:before {content: \"▾\";}#sk-container-id-14 div.sk-estimator input.sk-toggleable__control:checked~label.sk-toggleable__label {background-color: #d4ebff;}#sk-container-id-14 div.sk-label input.sk-toggleable__control:checked~label.sk-toggleable__label {background-color: #d4ebff;}#sk-container-id-14 input.sk-hidden--visually {border: 0;clip: rect(1px 1px 1px 1px);clip: rect(1px, 1px, 1px, 1px);height: 1px;margin: -1px;overflow: hidden;padding: 0;position: absolute;width: 1px;}#sk-container-id-14 div.sk-estimator {font-family: monospace;background-color: #f0f8ff;border: 1px dotted black;border-radius: 0.25em;box-sizing: border-box;margin-bottom: 0.5em;}#sk-container-id-14 div.sk-estimator:hover {background-color: #d4ebff;}#sk-container-id-14 div.sk-parallel-item::after {content: \"\";width: 100%;border-bottom: 1px solid gray;flex-grow: 1;}#sk-container-id-14 div.sk-label:hover label.sk-toggleable__label {background-color: #d4ebff;}#sk-container-id-14 div.sk-serial::before {content: \"\";position: absolute;border-left: 1px solid gray;box-sizing: border-box;top: 0;bottom: 0;left: 50%;z-index: 0;}#sk-container-id-14 div.sk-serial {display: flex;flex-direction: column;align-items: center;background-color: white;padding-right: 0.2em;padding-left: 0.2em;position: relative;}#sk-container-id-14 div.sk-item {position: relative;z-index: 1;}#sk-container-id-14 div.sk-parallel {display: flex;align-items: stretch;justify-content: center;background-color: white;position: relative;}#sk-container-id-14 div.sk-item::before, #sk-container-id-14 div.sk-parallel-item::before {content: \"\";position: absolute;border-left: 1px solid gray;box-sizing: border-box;top: 0;bottom: 0;left: 50%;z-index: -1;}#sk-container-id-14 div.sk-parallel-item {display: flex;flex-direction: column;z-index: 1;position: relative;background-color: white;}#sk-container-id-14 div.sk-parallel-item:first-child::after {align-self: flex-end;width: 50%;}#sk-container-id-14 div.sk-parallel-item:last-child::after {align-self: flex-start;width: 50%;}#sk-container-id-14 div.sk-parallel-item:only-child::after {width: 0;}#sk-container-id-14 div.sk-dashed-wrapped {border: 1px dashed gray;margin: 0 0.4em 0.5em 0.4em;box-sizing: border-box;padding-bottom: 0.4em;background-color: white;}#sk-container-id-14 div.sk-label label {font-family: monospace;font-weight: bold;display: inline-block;line-height: 1.2em;}#sk-container-id-14 div.sk-label-container {text-align: center;}#sk-container-id-14 div.sk-container {/* jupyter's `normalize.less` sets `[hidden] { display: none; }` but bootstrap.min.css set `[hidden] { display: none !important; }` so we also need the `!important` here to be able to override the default hidden behavior on the sphinx rendered scikit-learn.org. See: https://github.com/scikit-learn/scikit-learn/issues/21755 */display: inline-block !important;position: relative;}#sk-container-id-14 div.sk-text-repr-fallback {display: none;}</style><div id=\"sk-container-id-14\" class=\"sk-top-container\"><div class=\"sk-text-repr-fallback\"><pre>Pipeline(steps=[(&#x27;pad&#x27;,\n",
       "                 FunctionTransformer(func=&lt;function np_pad_wrapper at 0x15335f0d0&gt;,\n",
       "                                     kw_args={&#x27;max_len&#x27;: 64000})),\n",
       "                (&#x27;over_sampler&#x27;,\n",
       "                 AugmentingRandomOversampler(augment_method=&#x27;Shift&#x27;,\n",
       "                                             sampling_strategy=&#x27;minority&#x27;)),\n",
       "                (&#x27;mean_mfcc&#x27;,\n",
       "                 FunctionTransformer(func=&lt;function samples_to_mean_mfcc at 0x10cf3f790&gt;,\n",
       "                                     kw_args={&#x27;fmax&#x27;: 3000.0, &#x27;fmin&#x27;: 0.0,\n",
       "                                              &#x27;hop_length&#x27;: 128, &#x27;n_ff...\n",
       "                               gamma=0, gpu_id=-1, grow_policy=&#x27;depthwise&#x27;,\n",
       "                               importance_type=None, interaction_constraints=&#x27;&#x27;,\n",
       "                               learning_rate=0.025, max_bin=256,\n",
       "                               max_cat_to_onehot=4, max_delta_step=0,\n",
       "                               max_depth=8, max_leaves=0, min_child_weight=1,\n",
       "                               missing=nan, monotone_constraints=&#x27;()&#x27;,\n",
       "                               n_estimators=400, n_jobs=4, nthread=4,\n",
       "                               num_parallel_tree=1, objective=&#x27;multi:softmax&#x27;,\n",
       "                               predictor=&#x27;auto&#x27;, random_state=0, ...))])</pre><b>In a Jupyter environment, please rerun this cell to show the HTML representation or trust the notebook. <br />On GitHub, the HTML representation is unable to render, please try loading this page with nbviewer.org.</b></div><div class=\"sk-container\" hidden><div class=\"sk-item sk-dashed-wrapped\"><div class=\"sk-label-container\"><div class=\"sk-label sk-toggleable\"><input class=\"sk-toggleable__control sk-hidden--visually\" id=\"sk-estimator-id-79\" type=\"checkbox\" ><label for=\"sk-estimator-id-79\" class=\"sk-toggleable__label sk-toggleable__label-arrow\">Pipeline</label><div class=\"sk-toggleable__content\"><pre>Pipeline(steps=[(&#x27;pad&#x27;,\n",
       "                 FunctionTransformer(func=&lt;function np_pad_wrapper at 0x15335f0d0&gt;,\n",
       "                                     kw_args={&#x27;max_len&#x27;: 64000})),\n",
       "                (&#x27;over_sampler&#x27;,\n",
       "                 AugmentingRandomOversampler(augment_method=&#x27;Shift&#x27;,\n",
       "                                             sampling_strategy=&#x27;minority&#x27;)),\n",
       "                (&#x27;mean_mfcc&#x27;,\n",
       "                 FunctionTransformer(func=&lt;function samples_to_mean_mfcc at 0x10cf3f790&gt;,\n",
       "                                     kw_args={&#x27;fmax&#x27;: 3000.0, &#x27;fmin&#x27;: 0.0,\n",
       "                                              &#x27;hop_length&#x27;: 128, &#x27;n_ff...\n",
       "                               gamma=0, gpu_id=-1, grow_policy=&#x27;depthwise&#x27;,\n",
       "                               importance_type=None, interaction_constraints=&#x27;&#x27;,\n",
       "                               learning_rate=0.025, max_bin=256,\n",
       "                               max_cat_to_onehot=4, max_delta_step=0,\n",
       "                               max_depth=8, max_leaves=0, min_child_weight=1,\n",
       "                               missing=nan, monotone_constraints=&#x27;()&#x27;,\n",
       "                               n_estimators=400, n_jobs=4, nthread=4,\n",
       "                               num_parallel_tree=1, objective=&#x27;multi:softmax&#x27;,\n",
       "                               predictor=&#x27;auto&#x27;, random_state=0, ...))])</pre></div></div></div><div class=\"sk-serial\"><div class=\"sk-item\"><div class=\"sk-estimator sk-toggleable\"><input class=\"sk-toggleable__control sk-hidden--visually\" id=\"sk-estimator-id-80\" type=\"checkbox\" ><label for=\"sk-estimator-id-80\" class=\"sk-toggleable__label sk-toggleable__label-arrow\">FunctionTransformer</label><div class=\"sk-toggleable__content\"><pre>FunctionTransformer(func=&lt;function np_pad_wrapper at 0x15335f0d0&gt;,\n",
       "                    kw_args={&#x27;max_len&#x27;: 64000})</pre></div></div></div><div class=\"sk-item\"><div class=\"sk-estimator sk-toggleable\"><input class=\"sk-toggleable__control sk-hidden--visually\" id=\"sk-estimator-id-81\" type=\"checkbox\" ><label for=\"sk-estimator-id-81\" class=\"sk-toggleable__label sk-toggleable__label-arrow\">AugmentingRandomOversampler</label><div class=\"sk-toggleable__content\"><pre>AugmentingRandomOversampler(augment_method=&#x27;Shift&#x27;,\n",
       "                            sampling_strategy=&#x27;minority&#x27;)</pre></div></div></div><div class=\"sk-item\"><div class=\"sk-estimator sk-toggleable\"><input class=\"sk-toggleable__control sk-hidden--visually\" id=\"sk-estimator-id-82\" type=\"checkbox\" ><label for=\"sk-estimator-id-82\" class=\"sk-toggleable__label sk-toggleable__label-arrow\">FunctionTransformer</label><div class=\"sk-toggleable__content\"><pre>FunctionTransformer(func=&lt;function samples_to_mean_mfcc at 0x10cf3f790&gt;,\n",
       "                    kw_args={&#x27;fmax&#x27;: 3000.0, &#x27;fmin&#x27;: 0.0, &#x27;hop_length&#x27;: 128,\n",
       "                             &#x27;n_fft&#x27;: 256, &#x27;n_mels&#x27;: 98, &#x27;n_mfcc&#x27;: 16,\n",
       "                             &#x27;sr&#x27;: 16000})</pre></div></div></div><div class=\"sk-item\"><div class=\"sk-estimator sk-toggleable\"><input class=\"sk-toggleable__control sk-hidden--visually\" id=\"sk-estimator-id-83\" type=\"checkbox\" ><label for=\"sk-estimator-id-83\" class=\"sk-toggleable__label sk-toggleable__label-arrow\">StandardScaler</label><div class=\"sk-toggleable__content\"><pre>StandardScaler()</pre></div></div></div><div class=\"sk-item\"><div class=\"sk-estimator sk-toggleable\"><input class=\"sk-toggleable__control sk-hidden--visually\" id=\"sk-estimator-id-84\" type=\"checkbox\" ><label for=\"sk-estimator-id-84\" class=\"sk-toggleable__label sk-toggleable__label-arrow\">XGBClassifier</label><div class=\"sk-toggleable__content\"><pre>XGBClassifier(base_score=0.5, booster=&#x27;gbtree&#x27;, callbacks=None,\n",
       "              colsample_bylevel=1, colsample_bynode=1, colsample_bytree=1,\n",
       "              early_stopping_rounds=None, enable_categorical=False,\n",
       "              eval_metric=None, gamma=0, gpu_id=-1, grow_policy=&#x27;depthwise&#x27;,\n",
       "              importance_type=None, interaction_constraints=&#x27;&#x27;,\n",
       "              learning_rate=0.025, max_bin=256, max_cat_to_onehot=4,\n",
       "              max_delta_step=0, max_depth=8, max_leaves=0, min_child_weight=1,\n",
       "              missing=nan, monotone_constraints=&#x27;()&#x27;, n_estimators=400,\n",
       "              n_jobs=4, nthread=4, num_parallel_tree=1,\n",
       "              objective=&#x27;multi:softmax&#x27;, predictor=&#x27;auto&#x27;, random_state=0, ...)</pre></div></div></div></div></div></div></div>"
      ],
      "text/plain": [
       "Pipeline(steps=[('pad',\n",
       "                 FunctionTransformer(func=<function np_pad_wrapper at 0x15335f0d0>,\n",
       "                                     kw_args={'max_len': 64000})),\n",
       "                ('over_sampler',\n",
       "                 AugmentingRandomOversampler(augment_method='Shift',\n",
       "                                             sampling_strategy='minority')),\n",
       "                ('mean_mfcc',\n",
       "                 FunctionTransformer(func=<function samples_to_mean_mfcc at 0x10cf3f790>,\n",
       "                                     kw_args={'fmax': 3000.0, 'fmin': 0.0,\n",
       "                                              'hop_length': 128, 'n_ff...\n",
       "                               gamma=0, gpu_id=-1, grow_policy='depthwise',\n",
       "                               importance_type=None, interaction_constraints='',\n",
       "                               learning_rate=0.025, max_bin=256,\n",
       "                               max_cat_to_onehot=4, max_delta_step=0,\n",
       "                               max_depth=8, max_leaves=0, min_child_weight=1,\n",
       "                               missing=nan, monotone_constraints='()',\n",
       "                               n_estimators=400, n_jobs=4, nthread=4,\n",
       "                               num_parallel_tree=1, objective='multi:softmax',\n",
       "                               predictor='auto', random_state=0, ...))])"
      ]
     },
     "execution_count": 40,
     "metadata": {},
     "output_type": "execute_result"
    }
   ],
   "source": [
    "pipe5.fit(train_fold, train_y)"
   ]
  },
  {
   "cell_type": "code",
   "execution_count": 41,
   "metadata": {},
   "outputs": [],
   "source": [
    "pred_y5 = pipe5.predict(val_fold)"
   ]
  },
  {
   "cell_type": "code",
   "execution_count": 42,
   "metadata": {},
   "outputs": [
    {
     "name": "stdout",
     "output_type": "stream",
     "text": [
      "              precision    recall  f1-score   support\n",
      "\n",
      "           0       0.35      0.16      0.22       100\n",
      "           1       0.66      0.32      0.43        59\n",
      "           2       0.41      0.45      0.43       100\n",
      "           3       0.46      0.77      0.57       100\n",
      "           4       0.45      0.56      0.50       100\n",
      "           5       0.30      0.19      0.23       107\n",
      "           6       0.75      0.55      0.64        38\n",
      "           7       0.27      0.12      0.17       120\n",
      "           8       0.92      0.82      0.87       166\n",
      "           9       0.23      0.49      0.31       100\n",
      "\n",
      "    accuracy                           0.46       990\n",
      "   macro avg       0.48      0.44      0.44       990\n",
      "weighted avg       0.48      0.46      0.45       990\n",
      "\n"
     ]
    }
   ],
   "source": [
    "print(classification_report(val_y, pred_y5))"
   ]
  },
  {
   "cell_type": "code",
   "execution_count": 49,
   "metadata": {},
   "outputs": [
    {
     "data": {
      "text/html": [
       "<div>\n",
       "<style scoped>\n",
       "    .dataframe tbody tr th:only-of-type {\n",
       "        vertical-align: middle;\n",
       "    }\n",
       "\n",
       "    .dataframe tbody tr th {\n",
       "        vertical-align: top;\n",
       "    }\n",
       "\n",
       "    .dataframe thead th {\n",
       "        text-align: right;\n",
       "    }\n",
       "</style>\n",
       "<table border=\"1\" class=\"dataframe\">\n",
       "  <thead>\n",
       "    <tr style=\"text-align: right;\">\n",
       "      <th></th>\n",
       "      <th>mean_precision</th>\n",
       "      <th>mean_recall</th>\n",
       "      <th>mean_f1-score</th>\n",
       "    </tr>\n",
       "  </thead>\n",
       "  <tbody>\n",
       "    <tr>\n",
       "      <th>5</th>\n",
       "      <td>0.476665</td>\n",
       "      <td>0.445894</td>\n",
       "      <td>0.439103</td>\n",
       "    </tr>\n",
       "  </tbody>\n",
       "</table>\n",
       "</div>"
      ],
      "text/plain": [
       "   mean_precision  mean_recall  mean_f1-score\n",
       "5        0.476665     0.445894       0.439103"
      ]
     },
     "execution_count": 49,
     "metadata": {},
     "output_type": "execute_result"
    }
   ],
   "source": [
    "report5= pd.DataFrame(classification_report(val_y, pred_y5, output_dict=True)).transpose()\n",
    "mean_report5 = {'mean_precision': np.mean(report5['precision']),\n",
    "                'mean_recall':np.mean(report5['recall']),\n",
    "                'mean_f1-score': np.mean(report5['f1-score'])\n",
    "                }\n",
    "pd.DataFrame(mean_report5, index=[5])"
   ]
  },
  {
   "cell_type": "markdown",
   "metadata": {},
   "source": [
    "### Combined Class Classification Report\n",
    "\n",
    "Target class: car horns (1), sirens(8), dog barks(3)\n",
    "\n",
    "Dangerous classes in report has 0.78 precision, 0.83 recall, 0.81 f1-score. \n",
    "\n",
    "This model has 0.50 accuracy."
   ]
  },
  {
   "cell_type": "code",
   "execution_count": 61,
   "metadata": {},
   "outputs": [
    {
     "name": "stdout",
     "output_type": "stream",
     "text": [
      "              precision    recall  f1-score   support\n",
      "\n",
      "           0       0.35      0.16      0.22       100\n",
      "           2       0.41      0.45      0.43       100\n",
      "           4       0.45      0.56      0.50       100\n",
      "           5       0.30      0.19      0.23       107\n",
      "           6       0.75      0.55      0.64        38\n",
      "           7       0.27      0.12      0.17       120\n",
      "           8       0.78      0.83      0.81       325\n",
      "           9       0.23      0.49      0.31       100\n",
      "\n",
      "    accuracy                           0.50       990\n",
      "   macro avg       0.44      0.42      0.41       990\n",
      "weighted avg       0.50      0.50      0.48       990\n",
      "\n"
     ]
    }
   ],
   "source": [
    "com_pred_y5 = combine_classes([0, 2, 4, 5, 6, 7, 9], pred_y5)\n",
    "\n",
    "report5_1 = classification_report(combined_val_y, com_pred_y5)\n",
    "print(report5_1)"
   ]
  },
  {
   "cell_type": "markdown",
   "metadata": {},
   "source": [
    "## Conclusion\n",
    "\n",
    "AirAbsorption has best mean precision and AddGaussionNoise has best mean recall and mean f1-score.\n",
    "\n",
    "When looking at combined classes (target class: car horns, sirens, dog barks), TimeStretch has best precision(0.81) and f1-score(0.82), AddGaussianNoise has best recall(0.86) on the combined target class."
   ]
  }
 ],
 "metadata": {
  "kernelspec": {
   "display_name": "Python 3.8.13 64-bit ('shims')",
   "language": "python",
   "name": "python3"
  },
  "language_info": {
   "codemirror_mode": {
    "name": "ipython",
    "version": 3
   },
   "file_extension": ".py",
   "mimetype": "text/x-python",
   "name": "python",
   "nbconvert_exporter": "python",
   "pygments_lexer": "ipython3",
   "version": "3.8.13"
  },
  "orig_nbformat": 4,
  "vscode": {
   "interpreter": {
    "hash": "34f032ffbf4e7ff0cd50405e3de477e565ca852729e0b020651a5c5aa64ef86e"
   }
  }
 },
 "nbformat": 4,
 "nbformat_minor": 2
}
