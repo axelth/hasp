{
 "cells": [
  {
   "cell_type": "markdown",
   "id": "855433d7",
   "metadata": {},
   "source": [
    "This notebook is to contain notes on different models, leading up to a decision on which model to use in production.\n",
    "\n",
    "This notebook incorporates the dataloader defined in https://github.com/axelth/us8kdata , and will also incorporate the feature extraction pipeline prototyped in notebooks/.... and implemented in hasp/{features.py, pipeline.py} etc.\n",
    "\n",
    "imports for individual models are performed in their respective section to make it easier to see which code to transfer to the library after model selection"
   ]
  },
  {
   "cell_type": "code",
   "execution_count": 1,
   "id": "55e1f0a5",
   "metadata": {},
   "outputs": [],
   "source": [
    "import numpy as np\n",
    "import pandas as pd\n",
    "import matplotlib.pyplot as plt\n",
    "from us8kdata.loader import UrbanSound8K\n"
   ]
  },
  {
   "cell_type": "code",
   "execution_count": 2,
   "id": "f538dd99",
   "metadata": {},
   "outputs": [],
   "source": []
  },
  {
   "cell_type": "code",
   "execution_count": 32,
   "id": "065562c4",
   "metadata": {},
   "outputs": [],
   "source": [
    "## temporary imports\n",
    "## remove when feature pipeline library is done\n",
    "# from sklearn.pipeline import make_pipeline\n",
    "# Instead of make_pipeline, we can use the Pipeline class directly.\n",
    "# It involves a bit more typing, but we can name each step, and understand the params dictionary more easily\n",
    "from sklearn.pipeline import Pipeline\n",
    "\n",
    "from sklearn.preprocessing import FunctionTransformer\n",
    "# for wrapping the stft, mel filterbank and bandpass filter, mfcc\n",
    "\n",
    "from sklearn.preprocessing import StandardScaler\n",
    "# for scaling the features, not sure in which stage to apply this\n",
    "\n",
    "from librosa.feature import mfcc\n",
    "\n",
    "from sklearn.metrics import classification_report, confusion_matrix"
   ]
  },
  {
   "cell_type": "code",
   "execution_count": 5,
   "id": "c78a551d",
   "metadata": {},
   "outputs": [],
   "source": [
    "def samples_to_mean_mfcc(examples, sr=16000, n_fft=512, hop_length=128, fmin=0.0, fmax=8000, **kwargs):\n",
    "    \n",
    "    # to prevent trying to take the lo\n",
    "    return np.array([mfcc(y=sample, sr=sr, n_fft=n_fft, n_mels=100, hop_length=128, fmin=0.0, fmax=8000, **kwargs).mean(axis=1) for sample in examples], \n",
    "                    dtype=np.float32)\n",
    "\n",
    "mean_mfcc_feat = FunctionTransformer(samples_to_mean_mfcc, \n",
    "                                     kw_args={'sr':16000, 'n_mfcc':20, \n",
    "                                              'n_fft': 512, 'hop_length': 128, \n",
    "                                              'fmin': 0.0, 'fmax': None})\n",
    "feature_pipe = Pipeline(\n",
    "    [\n",
    "        ('mean_mfcc', mean_mfcc_feat),\n",
    "        ('scaler', StandardScaler())\n",
    "    ]\n",
    ")"
   ]
  },
  {
   "cell_type": "code",
   "execution_count": 18,
   "id": "8f9aee08",
   "metadata": {},
   "outputs": [],
   "source": [
    "data = UrbanSound8K('../hasp/data')\n",
    "train_fold = [samples for samples in data.fold_audio_generator(fold=[1, 2, 3, 6, 7, 8, 9, 10])]\n",
    "val_fold = [samples for samples in data.fold_audio_generator(fold=[4])]\n",
    "test_fold = [samples for samples in data.fold_audio_generator(fold=[5])]\n",
    "train_y = data.filter_metadata(fold=[1, 2, 3, 6, 7, 8, 9, 10]).classID\n",
    "val_y = data.filter_metadata(fold=[4]).classID\n",
    "test_y = data.filter_metadata(fold=[5]).classID"
   ]
  },
  {
   "cell_type": "code",
   "execution_count": 33,
   "id": "1d3eb3f3",
   "metadata": {},
   "outputs": [
    {
     "data": {
      "text/html": [
       "<div>\n",
       "<style scoped>\n",
       "    .dataframe tbody tr th:only-of-type {\n",
       "        vertical-align: middle;\n",
       "    }\n",
       "\n",
       "    .dataframe tbody tr th {\n",
       "        vertical-align: top;\n",
       "    }\n",
       "\n",
       "    .dataframe thead th {\n",
       "        text-align: right;\n",
       "    }\n",
       "</style>\n",
       "<table border=\"1\" class=\"dataframe\">\n",
       "  <thead>\n",
       "    <tr style=\"text-align: right;\">\n",
       "      <th></th>\n",
       "      <th>classID</th>\n",
       "      <th>class</th>\n",
       "    </tr>\n",
       "  </thead>\n",
       "  <tbody>\n",
       "    <tr>\n",
       "      <th>0</th>\n",
       "      <td>3</td>\n",
       "      <td>dog_bark</td>\n",
       "    </tr>\n",
       "    <tr>\n",
       "      <th>1</th>\n",
       "      <td>2</td>\n",
       "      <td>children_playing</td>\n",
       "    </tr>\n",
       "    <tr>\n",
       "      <th>2</th>\n",
       "      <td>2</td>\n",
       "      <td>children_playing</td>\n",
       "    </tr>\n",
       "    <tr>\n",
       "      <th>3</th>\n",
       "      <td>2</td>\n",
       "      <td>children_playing</td>\n",
       "    </tr>\n",
       "    <tr>\n",
       "      <th>4</th>\n",
       "      <td>2</td>\n",
       "      <td>children_playing</td>\n",
       "    </tr>\n",
       "    <tr>\n",
       "      <th>...</th>\n",
       "      <td>...</td>\n",
       "      <td>...</td>\n",
       "    </tr>\n",
       "    <tr>\n",
       "      <th>8727</th>\n",
       "      <td>1</td>\n",
       "      <td>car_horn</td>\n",
       "    </tr>\n",
       "    <tr>\n",
       "      <th>8728</th>\n",
       "      <td>1</td>\n",
       "      <td>car_horn</td>\n",
       "    </tr>\n",
       "    <tr>\n",
       "      <th>8729</th>\n",
       "      <td>1</td>\n",
       "      <td>car_horn</td>\n",
       "    </tr>\n",
       "    <tr>\n",
       "      <th>8730</th>\n",
       "      <td>1</td>\n",
       "      <td>car_horn</td>\n",
       "    </tr>\n",
       "    <tr>\n",
       "      <th>8731</th>\n",
       "      <td>1</td>\n",
       "      <td>car_horn</td>\n",
       "    </tr>\n",
       "  </tbody>\n",
       "</table>\n",
       "<p>8732 rows × 2 columns</p>\n",
       "</div>"
      ],
      "text/plain": [
       "      classID             class\n",
       "0           3          dog_bark\n",
       "1           2  children_playing\n",
       "2           2  children_playing\n",
       "3           2  children_playing\n",
       "4           2  children_playing\n",
       "...       ...               ...\n",
       "8727        1          car_horn\n",
       "8728        1          car_horn\n",
       "8729        1          car_horn\n",
       "8730        1          car_horn\n",
       "8731        1          car_horn\n",
       "\n",
       "[8732 rows x 2 columns]"
      ]
     },
     "execution_count": 33,
     "metadata": {},
     "output_type": "execute_result"
    }
   ],
   "source": [
    "data.metadata[['classID', 'class']]"
   ]
  },
  {
   "cell_type": "code",
   "execution_count": 19,
   "id": "0b62442d",
   "metadata": {},
   "outputs": [],
   "source": [
    "train_pre = feature_pipe.fit_transform(train_fold)\n",
    "val_pre = feature_pipe.transform(val_fold)\n",
    "test_pre = feature_pipe.transform(test_fold)"
   ]
  },
  {
   "cell_type": "markdown",
   "id": "d4e16f02",
   "metadata": {},
   "source": [
    "# Single sample classification\n",
    "Model architectures for treating each audio file as a single example and classifying it in one go."
   ]
  },
  {
   "cell_type": "markdown",
   "id": "c77756d0",
   "metadata": {},
   "source": [
    "## Logistic Regression (baseline)"
   ]
  },
  {
   "cell_type": "markdown",
   "id": "a3b778f2",
   "metadata": {},
   "source": [
    "### LASSO"
   ]
  },
  {
   "cell_type": "markdown",
   "id": "18a1bb69",
   "metadata": {},
   "source": [
    "## KNN"
   ]
  },
  {
   "cell_type": "markdown",
   "id": "f383a303",
   "metadata": {},
   "source": [
    "## SVC"
   ]
  },
  {
   "cell_type": "code",
   "execution_count": 30,
   "id": "ffb1c6b5",
   "metadata": {},
   "outputs": [
    {
     "data": {
      "text/html": [
       "<style>#sk-container-id-3 {color: black;background-color: white;}#sk-container-id-3 pre{padding: 0;}#sk-container-id-3 div.sk-toggleable {background-color: white;}#sk-container-id-3 label.sk-toggleable__label {cursor: pointer;display: block;width: 100%;margin-bottom: 0;padding: 0.3em;box-sizing: border-box;text-align: center;}#sk-container-id-3 label.sk-toggleable__label-arrow:before {content: \"▸\";float: left;margin-right: 0.25em;color: #696969;}#sk-container-id-3 label.sk-toggleable__label-arrow:hover:before {color: black;}#sk-container-id-3 div.sk-estimator:hover label.sk-toggleable__label-arrow:before {color: black;}#sk-container-id-3 div.sk-toggleable__content {max-height: 0;max-width: 0;overflow: hidden;text-align: left;background-color: #f0f8ff;}#sk-container-id-3 div.sk-toggleable__content pre {margin: 0.2em;color: black;border-radius: 0.25em;background-color: #f0f8ff;}#sk-container-id-3 input.sk-toggleable__control:checked~div.sk-toggleable__content {max-height: 200px;max-width: 100%;overflow: auto;}#sk-container-id-3 input.sk-toggleable__control:checked~label.sk-toggleable__label-arrow:before {content: \"▾\";}#sk-container-id-3 div.sk-estimator input.sk-toggleable__control:checked~label.sk-toggleable__label {background-color: #d4ebff;}#sk-container-id-3 div.sk-label input.sk-toggleable__control:checked~label.sk-toggleable__label {background-color: #d4ebff;}#sk-container-id-3 input.sk-hidden--visually {border: 0;clip: rect(1px 1px 1px 1px);clip: rect(1px, 1px, 1px, 1px);height: 1px;margin: -1px;overflow: hidden;padding: 0;position: absolute;width: 1px;}#sk-container-id-3 div.sk-estimator {font-family: monospace;background-color: #f0f8ff;border: 1px dotted black;border-radius: 0.25em;box-sizing: border-box;margin-bottom: 0.5em;}#sk-container-id-3 div.sk-estimator:hover {background-color: #d4ebff;}#sk-container-id-3 div.sk-parallel-item::after {content: \"\";width: 100%;border-bottom: 1px solid gray;flex-grow: 1;}#sk-container-id-3 div.sk-label:hover label.sk-toggleable__label {background-color: #d4ebff;}#sk-container-id-3 div.sk-serial::before {content: \"\";position: absolute;border-left: 1px solid gray;box-sizing: border-box;top: 0;bottom: 0;left: 50%;z-index: 0;}#sk-container-id-3 div.sk-serial {display: flex;flex-direction: column;align-items: center;background-color: white;padding-right: 0.2em;padding-left: 0.2em;position: relative;}#sk-container-id-3 div.sk-item {position: relative;z-index: 1;}#sk-container-id-3 div.sk-parallel {display: flex;align-items: stretch;justify-content: center;background-color: white;position: relative;}#sk-container-id-3 div.sk-item::before, #sk-container-id-3 div.sk-parallel-item::before {content: \"\";position: absolute;border-left: 1px solid gray;box-sizing: border-box;top: 0;bottom: 0;left: 50%;z-index: -1;}#sk-container-id-3 div.sk-parallel-item {display: flex;flex-direction: column;z-index: 1;position: relative;background-color: white;}#sk-container-id-3 div.sk-parallel-item:first-child::after {align-self: flex-end;width: 50%;}#sk-container-id-3 div.sk-parallel-item:last-child::after {align-self: flex-start;width: 50%;}#sk-container-id-3 div.sk-parallel-item:only-child::after {width: 0;}#sk-container-id-3 div.sk-dashed-wrapped {border: 1px dashed gray;margin: 0 0.4em 0.5em 0.4em;box-sizing: border-box;padding-bottom: 0.4em;background-color: white;}#sk-container-id-3 div.sk-label label {font-family: monospace;font-weight: bold;display: inline-block;line-height: 1.2em;}#sk-container-id-3 div.sk-label-container {text-align: center;}#sk-container-id-3 div.sk-container {/* jupyter's `normalize.less` sets `[hidden] { display: none; }` but bootstrap.min.css set `[hidden] { display: none !important; }` so we also need the `!important` here to be able to override the default hidden behavior on the sphinx rendered scikit-learn.org. See: https://github.com/scikit-learn/scikit-learn/issues/21755 */display: inline-block !important;position: relative;}#sk-container-id-3 div.sk-text-repr-fallback {display: none;}</style><div id=\"sk-container-id-3\" class=\"sk-top-container\"><div class=\"sk-text-repr-fallback\"><pre>SVC(C=4)</pre><b>In a Jupyter environment, please rerun this cell to show the HTML representation or trust the notebook. <br />On GitHub, the HTML representation is unable to render, please try loading this page with nbviewer.org.</b></div><div class=\"sk-container\" hidden><div class=\"sk-item\"><div class=\"sk-estimator sk-toggleable\"><input class=\"sk-toggleable__control sk-hidden--visually\" id=\"sk-estimator-id-3\" type=\"checkbox\" checked><label for=\"sk-estimator-id-3\" class=\"sk-toggleable__label sk-toggleable__label-arrow\">SVC</label><div class=\"sk-toggleable__content\"><pre>SVC(C=4)</pre></div></div></div></div></div>"
      ],
      "text/plain": [
       "SVC(C=4)"
      ]
     },
     "execution_count": 30,
     "metadata": {},
     "output_type": "execute_result"
    }
   ],
   "source": [
    "from sklearn.svm import SVC\n",
    "model_svc = SVC(C=4)\n",
    "model_svc.fit(train_pre, train_y)"
   ]
  },
  {
   "cell_type": "code",
   "execution_count": 31,
   "id": "e30a2984",
   "metadata": {},
   "outputs": [
    {
     "name": "stdout",
     "output_type": "stream",
     "text": [
      "              precision    recall  f1-score   support\n",
      "\n",
      "           1       0.57      0.42      0.49        59\n",
      "           8       0.91      0.82      0.86       166\n",
      "          11       0.92      0.96      0.94       765\n",
      "\n",
      "    accuracy                           0.90       990\n",
      "   macro avg       0.80      0.73      0.76       990\n",
      "weighted avg       0.90      0.90      0.90       990\n",
      "\n",
      "              precision    recall  f1-score   support\n",
      "\n",
      "           0       0.52      0.43      0.47       100\n",
      "           1       0.57      0.42      0.49        59\n",
      "           2       0.47      0.42      0.44       100\n",
      "           3       0.41      0.75      0.53       100\n",
      "           4       0.51      0.63      0.56       100\n",
      "           5       0.31      0.22      0.26       107\n",
      "           6       0.50      0.61      0.55        38\n",
      "           7       0.19      0.04      0.07       120\n",
      "           8       0.91      0.82      0.86       166\n",
      "           9       0.28      0.47      0.35       100\n",
      "\n",
      "    accuracy                           0.49       990\n",
      "   macro avg       0.47      0.48      0.46       990\n",
      "weighted avg       0.48      0.49      0.47       990\n",
      "\n"
     ]
    }
   ],
   "source": [
    "#val_pre.shape\n",
    "svc_val_prediction = model_svc.predict(val_pre)\n",
    "print(classification_report(\n",
    "    np.where((val_y == 1)| (val_y == 8), val_y, 11),\n",
    "    np.where((svc_val_prediction == 1) | (svc_val_prediction == 8),svc_val_prediction, 11)))\n",
    "print(classification_report(\n",
    "     val_y, \n",
    "    svc_val_prediction))\n",
    "print(confusion_matrix(val_y, svc_val_prediction, labels=)"
   ]
  },
  {
   "cell_type": "markdown",
   "id": "67eb32c4",
   "metadata": {},
   "source": [
    "## RandomForest"
   ]
  },
  {
   "cell_type": "markdown",
   "id": "004f4ee6",
   "metadata": {},
   "source": [
    "## XGBoost"
   ]
  },
  {
   "cell_type": "code",
   "execution_count": null,
   "id": "0eea4bb5",
   "metadata": {},
   "outputs": [],
   "source": [
    "!pip install xgboos"
   ]
  },
  {
   "cell_type": "markdown",
   "id": "2b73154f",
   "metadata": {},
   "source": [
    "## VGGish"
   ]
  },
  {
   "cell_type": "markdown",
   "id": "f30ad74c",
   "metadata": {},
   "source": [
    "# Sequence of samples classification\n",
    "Model architectures for treating each file as a sequence of sample frames, making the classification either based on a subset or on the frame as a whole."
   ]
  },
  {
   "cell_type": "markdown",
   "id": "eb6af707",
   "metadata": {},
   "source": [
    "## HMM"
   ]
  },
  {
   "cell_type": "markdown",
   "id": "0322aea7",
   "metadata": {},
   "source": [
    "## RNN"
   ]
  },
  {
   "cell_type": "code",
   "execution_count": null,
   "id": "bd28cc30",
   "metadata": {},
   "outputs": [],
   "source": []
  }
 ],
 "metadata": {
  "kernelspec": {
   "display_name": "Python 3 (ipykernel)",
   "language": "python",
   "name": "python3"
  },
  "language_info": {
   "codemirror_mode": {
    "name": "ipython",
    "version": 3
   },
   "file_extension": ".py",
   "mimetype": "text/x-python",
   "name": "python",
   "nbconvert_exporter": "python",
   "pygments_lexer": "ipython3",
   "version": "3.8.12"
  },
  "toc": {
   "base_numbering": 1,
   "nav_menu": {},
   "number_sections": true,
   "sideBar": true,
   "skip_h1_title": false,
   "title_cell": "Table of Contents",
   "title_sidebar": "Contents",
   "toc_cell": false,
   "toc_position": {},
   "toc_section_display": true,
   "toc_window_display": false
  }
 },
 "nbformat": 4,
 "nbformat_minor": 5
}
