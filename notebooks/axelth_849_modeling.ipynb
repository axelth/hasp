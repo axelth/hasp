{
 "cells": [
  {
   "cell_type": "markdown",
   "id": "d6f07037",
   "metadata": {},
   "source": [
    "This notebook is to contain notes on different models, leading up to a decision on which model to use in production.\n",
    "\n",
    "This notebook incorporates the dataloader defined in https://github.com/axelth/us8kdata , and will also incorporate the feature extraction pipeline prototyped in notebooks/.... and implemented in hasp/{features.py, pipeline.py} etc.\n",
    "\n",
    "imports for individual models are performed in their respective section to make it easier to see which code to transfer to the library after model selection"
   ]
  },
  {
   "cell_type": "code",
   "execution_count": 1,
   "id": "0f2ab610",
   "metadata": {},
   "outputs": [],
   "source": [
    "import numpy as np\n",
    "import pandas as pd\n",
    "import matplotlib.pyplot as plt\n",
    "from us8kdata.loader import UrbanSound8K"
   ]
  },
  {
   "cell_type": "markdown",
   "id": "a0142826",
   "metadata": {},
   "source": [
    "# Single sample classification\n",
    "Model architectures for treating each audio file as a single example and classifying it in one go."
   ]
  },
  {
   "cell_type": "markdown",
   "id": "33fa6d09",
   "metadata": {},
   "source": [
    "## Logistic Regression (baseline)"
   ]
  },
  {
   "cell_type": "markdown",
   "id": "cad722de",
   "metadata": {},
   "source": [
    "## KNN"
   ]
  },
  {
   "cell_type": "markdown",
   "id": "6969bb44",
   "metadata": {},
   "source": [
    "## SVC"
   ]
  },
  {
   "cell_type": "markdown",
   "id": "040c7756",
   "metadata": {},
   "source": [
    "## RandomForest"
   ]
  },
  {
   "cell_type": "markdown",
   "id": "039c39ed",
   "metadata": {},
   "source": [
    "## XGBoost"
   ]
  },
  {
   "cell_type": "markdown",
   "id": "67444239",
   "metadata": {},
   "source": [
    "## VGGish"
   ]
  },
  {
   "cell_type": "markdown",
   "id": "441db196",
   "metadata": {},
   "source": [
    "# Sequence of samples classification\n",
    "Model architectures for treating each file as a sequence of sample frames, making the classification either based on a subset or on the frame as a whole."
   ]
  },
  {
   "cell_type": "markdown",
   "id": "454bae3f",
   "metadata": {},
   "source": [
    "## HMM"
   ]
  },
  {
   "cell_type": "markdown",
   "id": "822612b6",
   "metadata": {},
   "source": [
    "## RNN"
   ]
  },
  {
   "cell_type": "code",
   "execution_count": null,
   "id": "4a37fc5e",
   "metadata": {},
   "outputs": [],
   "source": []
  }
 ],
 "metadata": {
  "kernelspec": {
   "display_name": "Python 3 (ipykernel)",
   "language": "python",
   "name": "python3"
  },
  "language_info": {
   "codemirror_mode": {
    "name": "ipython",
    "version": 3
   },
   "file_extension": ".py",
   "mimetype": "text/x-python",
   "name": "python",
   "nbconvert_exporter": "python",
   "pygments_lexer": "ipython3",
   "version": "3.8.12"
  },
  "toc": {
   "base_numbering": 1,
   "nav_menu": {},
   "number_sections": true,
   "sideBar": true,
   "skip_h1_title": false,
   "title_cell": "Table of Contents",
   "title_sidebar": "Contents",
   "toc_cell": false,
   "toc_position": {},
   "toc_section_display": true,
   "toc_window_display": false
  }
 },
 "nbformat": 4,
 "nbformat_minor": 5
}
