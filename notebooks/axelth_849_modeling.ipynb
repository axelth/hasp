{
 "cells": [
  {
   "cell_type": "markdown",
   "id": "855433d7",
   "metadata": {},
   "source": [
    "This notebook is to contain notes on different models, leading up to a decision on which model to use in production.\n",
    "\n",
    "This notebook incorporates the dataloader defined in https://github.com/axelth/us8kdata , and will also incorporate the feature extraction pipeline prototyped in notebooks/.... and implemented in hasp/{features.py, pipeline.py} etc.\n",
    "\n",
    "imports for individual models are performed in their respective section to make it easier to see which code to transfer to the library after model selection"
   ]
  },
  {
   "cell_type": "code",
   "execution_count": 3,
   "id": "9f4ec26b",
   "metadata": {},
   "outputs": [],
   "source": [
    "%load_ext autoreload\n",
    "%autoreload 2"
   ]
  },
  {
   "cell_type": "code",
   "execution_count": 37,
   "id": "55e1f0a5",
   "metadata": {},
   "outputs": [],
   "source": [
    "import numpy as np\n",
    "import pandas as pd\n",
    "import matplotlib.pyplot as plt\n",
    "\n",
    "from sklearn.pipeline import Pipeline\n",
    "from imblearn.pipeline import Pipeline as ImPipeline\n",
    "from sklearn.metrics import classification_report, confusion_matrix\n",
    "\n",
    "from us8kdata.loader import UrbanSound8K\n",
    "from hasp.feature_pipeline import make_feature_pipeline\n",
    "from hasp.feature_pipeline import make_oversampled_feature_pipeline\n",
    "from hasp.util import combine_classes"
   ]
  },
  {
   "cell_type": "code",
   "execution_count": 73,
   "id": "8f9aee08",
   "metadata": {},
   "outputs": [],
   "source": [
    "data = UrbanSound8K('../hasp/data')\n",
    "train_fold = [samples for samples in data.fold_audio_generator(fold=[1, 2, 3, 6, 7, 8, 9, 10])]\n",
    "val_fold = [samples for samples in data.fold_audio_generator(fold=[4])]\n",
    "test_fold = [samples for samples in data.fold_audio_generator(fold=[5])]\n",
    "train_y = data.filter_metadata(fold=[1, 2, 3, 6, 7, 8, 9, 10]).classID\n",
    "val_y = data.filter_metadata(fold=[4]).classID\n",
    "test_y = data.filter_metadata(fold=[5]).classID"
   ]
  },
  {
   "cell_type": "code",
   "execution_count": 33,
   "id": "1d3eb3f3",
   "metadata": {},
   "outputs": [
    {
     "data": {
      "text/html": [
       "<div>\n",
       "<style scoped>\n",
       "    .dataframe tbody tr th:only-of-type {\n",
       "        vertical-align: middle;\n",
       "    }\n",
       "\n",
       "    .dataframe tbody tr th {\n",
       "        vertical-align: top;\n",
       "    }\n",
       "\n",
       "    .dataframe thead th {\n",
       "        text-align: right;\n",
       "    }\n",
       "</style>\n",
       "<table border=\"1\" class=\"dataframe\">\n",
       "  <thead>\n",
       "    <tr style=\"text-align: right;\">\n",
       "      <th></th>\n",
       "      <th>classID</th>\n",
       "      <th>class</th>\n",
       "    </tr>\n",
       "  </thead>\n",
       "  <tbody>\n",
       "    <tr>\n",
       "      <th>0</th>\n",
       "      <td>3</td>\n",
       "      <td>dog_bark</td>\n",
       "    </tr>\n",
       "    <tr>\n",
       "      <th>1</th>\n",
       "      <td>2</td>\n",
       "      <td>children_playing</td>\n",
       "    </tr>\n",
       "    <tr>\n",
       "      <th>2</th>\n",
       "      <td>2</td>\n",
       "      <td>children_playing</td>\n",
       "    </tr>\n",
       "    <tr>\n",
       "      <th>3</th>\n",
       "      <td>2</td>\n",
       "      <td>children_playing</td>\n",
       "    </tr>\n",
       "    <tr>\n",
       "      <th>4</th>\n",
       "      <td>2</td>\n",
       "      <td>children_playing</td>\n",
       "    </tr>\n",
       "    <tr>\n",
       "      <th>...</th>\n",
       "      <td>...</td>\n",
       "      <td>...</td>\n",
       "    </tr>\n",
       "    <tr>\n",
       "      <th>8727</th>\n",
       "      <td>1</td>\n",
       "      <td>car_horn</td>\n",
       "    </tr>\n",
       "    <tr>\n",
       "      <th>8728</th>\n",
       "      <td>1</td>\n",
       "      <td>car_horn</td>\n",
       "    </tr>\n",
       "    <tr>\n",
       "      <th>8729</th>\n",
       "      <td>1</td>\n",
       "      <td>car_horn</td>\n",
       "    </tr>\n",
       "    <tr>\n",
       "      <th>8730</th>\n",
       "      <td>1</td>\n",
       "      <td>car_horn</td>\n",
       "    </tr>\n",
       "    <tr>\n",
       "      <th>8731</th>\n",
       "      <td>1</td>\n",
       "      <td>car_horn</td>\n",
       "    </tr>\n",
       "  </tbody>\n",
       "</table>\n",
       "<p>8732 rows × 2 columns</p>\n",
       "</div>"
      ],
      "text/plain": [
       "      classID             class\n",
       "0           3          dog_bark\n",
       "1           2  children_playing\n",
       "2           2  children_playing\n",
       "3           2  children_playing\n",
       "4           2  children_playing\n",
       "...       ...               ...\n",
       "8727        1          car_horn\n",
       "8728        1          car_horn\n",
       "8729        1          car_horn\n",
       "8730        1          car_horn\n",
       "8731        1          car_horn\n",
       "\n",
       "[8732 rows x 2 columns]"
      ]
     },
     "execution_count": 33,
     "metadata": {},
     "output_type": "execute_result"
    }
   ],
   "source": [
    "data.metadata[['classID', 'class']]"
   ]
  },
  {
   "cell_type": "code",
   "execution_count": 6,
   "id": "a6bd6de2",
   "metadata": {},
   "outputs": [
    {
     "data": {
      "text/html": [
       "<style>#sk-container-id-1 {color: black;background-color: white;}#sk-container-id-1 pre{padding: 0;}#sk-container-id-1 div.sk-toggleable {background-color: white;}#sk-container-id-1 label.sk-toggleable__label {cursor: pointer;display: block;width: 100%;margin-bottom: 0;padding: 0.3em;box-sizing: border-box;text-align: center;}#sk-container-id-1 label.sk-toggleable__label-arrow:before {content: \"▸\";float: left;margin-right: 0.25em;color: #696969;}#sk-container-id-1 label.sk-toggleable__label-arrow:hover:before {color: black;}#sk-container-id-1 div.sk-estimator:hover label.sk-toggleable__label-arrow:before {color: black;}#sk-container-id-1 div.sk-toggleable__content {max-height: 0;max-width: 0;overflow: hidden;text-align: left;background-color: #f0f8ff;}#sk-container-id-1 div.sk-toggleable__content pre {margin: 0.2em;color: black;border-radius: 0.25em;background-color: #f0f8ff;}#sk-container-id-1 input.sk-toggleable__control:checked~div.sk-toggleable__content {max-height: 200px;max-width: 100%;overflow: auto;}#sk-container-id-1 input.sk-toggleable__control:checked~label.sk-toggleable__label-arrow:before {content: \"▾\";}#sk-container-id-1 div.sk-estimator input.sk-toggleable__control:checked~label.sk-toggleable__label {background-color: #d4ebff;}#sk-container-id-1 div.sk-label input.sk-toggleable__control:checked~label.sk-toggleable__label {background-color: #d4ebff;}#sk-container-id-1 input.sk-hidden--visually {border: 0;clip: rect(1px 1px 1px 1px);clip: rect(1px, 1px, 1px, 1px);height: 1px;margin: -1px;overflow: hidden;padding: 0;position: absolute;width: 1px;}#sk-container-id-1 div.sk-estimator {font-family: monospace;background-color: #f0f8ff;border: 1px dotted black;border-radius: 0.25em;box-sizing: border-box;margin-bottom: 0.5em;}#sk-container-id-1 div.sk-estimator:hover {background-color: #d4ebff;}#sk-container-id-1 div.sk-parallel-item::after {content: \"\";width: 100%;border-bottom: 1px solid gray;flex-grow: 1;}#sk-container-id-1 div.sk-label:hover label.sk-toggleable__label {background-color: #d4ebff;}#sk-container-id-1 div.sk-serial::before {content: \"\";position: absolute;border-left: 1px solid gray;box-sizing: border-box;top: 0;bottom: 0;left: 50%;z-index: 0;}#sk-container-id-1 div.sk-serial {display: flex;flex-direction: column;align-items: center;background-color: white;padding-right: 0.2em;padding-left: 0.2em;position: relative;}#sk-container-id-1 div.sk-item {position: relative;z-index: 1;}#sk-container-id-1 div.sk-parallel {display: flex;align-items: stretch;justify-content: center;background-color: white;position: relative;}#sk-container-id-1 div.sk-item::before, #sk-container-id-1 div.sk-parallel-item::before {content: \"\";position: absolute;border-left: 1px solid gray;box-sizing: border-box;top: 0;bottom: 0;left: 50%;z-index: -1;}#sk-container-id-1 div.sk-parallel-item {display: flex;flex-direction: column;z-index: 1;position: relative;background-color: white;}#sk-container-id-1 div.sk-parallel-item:first-child::after {align-self: flex-end;width: 50%;}#sk-container-id-1 div.sk-parallel-item:last-child::after {align-self: flex-start;width: 50%;}#sk-container-id-1 div.sk-parallel-item:only-child::after {width: 0;}#sk-container-id-1 div.sk-dashed-wrapped {border: 1px dashed gray;margin: 0 0.4em 0.5em 0.4em;box-sizing: border-box;padding-bottom: 0.4em;background-color: white;}#sk-container-id-1 div.sk-label label {font-family: monospace;font-weight: bold;display: inline-block;line-height: 1.2em;}#sk-container-id-1 div.sk-label-container {text-align: center;}#sk-container-id-1 div.sk-container {/* jupyter's `normalize.less` sets `[hidden] { display: none; }` but bootstrap.min.css set `[hidden] { display: none !important; }` so we also need the `!important` here to be able to override the default hidden behavior on the sphinx rendered scikit-learn.org. See: https://github.com/scikit-learn/scikit-learn/issues/21755 */display: inline-block !important;position: relative;}#sk-container-id-1 div.sk-text-repr-fallback {display: none;}</style><div id=\"sk-container-id-1\" class=\"sk-top-container\"><div class=\"sk-text-repr-fallback\"><pre>Pipeline(steps=[(&#x27;mean_mfcc&#x27;,\n",
       "                 FunctionTransformer(func=&lt;function samples_to_mean_mfcc at 0x1034ed670&gt;,\n",
       "                                     kw_args={&#x27;fmax&#x27;: None, &#x27;fmin&#x27;: 0.0,\n",
       "                                              &#x27;hop_length&#x27;: 128, &#x27;n_fft&#x27;: 512,\n",
       "                                              &#x27;n_mfcc&#x27;: 20, &#x27;sr&#x27;: 16000})),\n",
       "                (&#x27;scaler&#x27;, StandardScaler())])</pre><b>In a Jupyter environment, please rerun this cell to show the HTML representation or trust the notebook. <br />On GitHub, the HTML representation is unable to render, please try loading this page with nbviewer.org.</b></div><div class=\"sk-container\" hidden><div class=\"sk-item sk-dashed-wrapped\"><div class=\"sk-label-container\"><div class=\"sk-label sk-toggleable\"><input class=\"sk-toggleable__control sk-hidden--visually\" id=\"sk-estimator-id-1\" type=\"checkbox\" ><label for=\"sk-estimator-id-1\" class=\"sk-toggleable__label sk-toggleable__label-arrow\">Pipeline</label><div class=\"sk-toggleable__content\"><pre>Pipeline(steps=[(&#x27;mean_mfcc&#x27;,\n",
       "                 FunctionTransformer(func=&lt;function samples_to_mean_mfcc at 0x1034ed670&gt;,\n",
       "                                     kw_args={&#x27;fmax&#x27;: None, &#x27;fmin&#x27;: 0.0,\n",
       "                                              &#x27;hop_length&#x27;: 128, &#x27;n_fft&#x27;: 512,\n",
       "                                              &#x27;n_mfcc&#x27;: 20, &#x27;sr&#x27;: 16000})),\n",
       "                (&#x27;scaler&#x27;, StandardScaler())])</pre></div></div></div><div class=\"sk-serial\"><div class=\"sk-item\"><div class=\"sk-estimator sk-toggleable\"><input class=\"sk-toggleable__control sk-hidden--visually\" id=\"sk-estimator-id-2\" type=\"checkbox\" ><label for=\"sk-estimator-id-2\" class=\"sk-toggleable__label sk-toggleable__label-arrow\">FunctionTransformer</label><div class=\"sk-toggleable__content\"><pre>FunctionTransformer(func=&lt;function samples_to_mean_mfcc at 0x1034ed670&gt;,\n",
       "                    kw_args={&#x27;fmax&#x27;: None, &#x27;fmin&#x27;: 0.0, &#x27;hop_length&#x27;: 128,\n",
       "                             &#x27;n_fft&#x27;: 512, &#x27;n_mfcc&#x27;: 20, &#x27;sr&#x27;: 16000})</pre></div></div></div><div class=\"sk-item\"><div class=\"sk-estimator sk-toggleable\"><input class=\"sk-toggleable__control sk-hidden--visually\" id=\"sk-estimator-id-3\" type=\"checkbox\" ><label for=\"sk-estimator-id-3\" class=\"sk-toggleable__label sk-toggleable__label-arrow\">StandardScaler</label><div class=\"sk-toggleable__content\"><pre>StandardScaler()</pre></div></div></div></div></div></div></div>"
      ],
      "text/plain": [
       "Pipeline(steps=[('mean_mfcc',\n",
       "                 FunctionTransformer(func=<function samples_to_mean_mfcc at 0x1034ed670>,\n",
       "                                     kw_args={'fmax': None, 'fmin': 0.0,\n",
       "                                              'hop_length': 128, 'n_fft': 512,\n",
       "                                              'n_mfcc': 20, 'sr': 16000})),\n",
       "                ('scaler', StandardScaler())])"
      ]
     },
     "execution_count": 6,
     "metadata": {},
     "output_type": "execute_result"
    }
   ],
   "source": [
    "feature_pipe = make_feature_pipeline()\n",
    "feature_pipe"
   ]
  },
  {
   "cell_type": "code",
   "execution_count": 7,
   "id": "0b62442d",
   "metadata": {},
   "outputs": [],
   "source": [
    "train_pre = feature_pipe.fit_transform(train_fold)\n",
    "val_pre = feature_pipe.transform(val_fold)\n",
    "#test_pre = feature_pipe.transform(test_fold)"
   ]
  },
  {
   "cell_type": "markdown",
   "id": "d4e16f02",
   "metadata": {},
   "source": [
    "# Single sample classification\n",
    "Model architectures for treating each audio file as a single example and classifying it in one go."
   ]
  },
  {
   "cell_type": "markdown",
   "id": "c77756d0",
   "metadata": {},
   "source": [
    "## Logistic Regression (baseline)"
   ]
  },
  {
   "cell_type": "markdown",
   "id": "a3b778f2",
   "metadata": {},
   "source": [
    "### LASSO"
   ]
  },
  {
   "cell_type": "markdown",
   "id": "18a1bb69",
   "metadata": {},
   "source": [
    "## KNN"
   ]
  },
  {
   "cell_type": "markdown",
   "id": "f383a303",
   "metadata": {},
   "source": [
    "## SVC"
   ]
  },
  {
   "cell_type": "code",
   "execution_count": 10,
   "id": "ffb1c6b5",
   "metadata": {},
   "outputs": [
    {
     "data": {
      "text/html": [
       "<style>#sk-container-id-2 {color: black;background-color: white;}#sk-container-id-2 pre{padding: 0;}#sk-container-id-2 div.sk-toggleable {background-color: white;}#sk-container-id-2 label.sk-toggleable__label {cursor: pointer;display: block;width: 100%;margin-bottom: 0;padding: 0.3em;box-sizing: border-box;text-align: center;}#sk-container-id-2 label.sk-toggleable__label-arrow:before {content: \"▸\";float: left;margin-right: 0.25em;color: #696969;}#sk-container-id-2 label.sk-toggleable__label-arrow:hover:before {color: black;}#sk-container-id-2 div.sk-estimator:hover label.sk-toggleable__label-arrow:before {color: black;}#sk-container-id-2 div.sk-toggleable__content {max-height: 0;max-width: 0;overflow: hidden;text-align: left;background-color: #f0f8ff;}#sk-container-id-2 div.sk-toggleable__content pre {margin: 0.2em;color: black;border-radius: 0.25em;background-color: #f0f8ff;}#sk-container-id-2 input.sk-toggleable__control:checked~div.sk-toggleable__content {max-height: 200px;max-width: 100%;overflow: auto;}#sk-container-id-2 input.sk-toggleable__control:checked~label.sk-toggleable__label-arrow:before {content: \"▾\";}#sk-container-id-2 div.sk-estimator input.sk-toggleable__control:checked~label.sk-toggleable__label {background-color: #d4ebff;}#sk-container-id-2 div.sk-label input.sk-toggleable__control:checked~label.sk-toggleable__label {background-color: #d4ebff;}#sk-container-id-2 input.sk-hidden--visually {border: 0;clip: rect(1px 1px 1px 1px);clip: rect(1px, 1px, 1px, 1px);height: 1px;margin: -1px;overflow: hidden;padding: 0;position: absolute;width: 1px;}#sk-container-id-2 div.sk-estimator {font-family: monospace;background-color: #f0f8ff;border: 1px dotted black;border-radius: 0.25em;box-sizing: border-box;margin-bottom: 0.5em;}#sk-container-id-2 div.sk-estimator:hover {background-color: #d4ebff;}#sk-container-id-2 div.sk-parallel-item::after {content: \"\";width: 100%;border-bottom: 1px solid gray;flex-grow: 1;}#sk-container-id-2 div.sk-label:hover label.sk-toggleable__label {background-color: #d4ebff;}#sk-container-id-2 div.sk-serial::before {content: \"\";position: absolute;border-left: 1px solid gray;box-sizing: border-box;top: 0;bottom: 0;left: 50%;z-index: 0;}#sk-container-id-2 div.sk-serial {display: flex;flex-direction: column;align-items: center;background-color: white;padding-right: 0.2em;padding-left: 0.2em;position: relative;}#sk-container-id-2 div.sk-item {position: relative;z-index: 1;}#sk-container-id-2 div.sk-parallel {display: flex;align-items: stretch;justify-content: center;background-color: white;position: relative;}#sk-container-id-2 div.sk-item::before, #sk-container-id-2 div.sk-parallel-item::before {content: \"\";position: absolute;border-left: 1px solid gray;box-sizing: border-box;top: 0;bottom: 0;left: 50%;z-index: -1;}#sk-container-id-2 div.sk-parallel-item {display: flex;flex-direction: column;z-index: 1;position: relative;background-color: white;}#sk-container-id-2 div.sk-parallel-item:first-child::after {align-self: flex-end;width: 50%;}#sk-container-id-2 div.sk-parallel-item:last-child::after {align-self: flex-start;width: 50%;}#sk-container-id-2 div.sk-parallel-item:only-child::after {width: 0;}#sk-container-id-2 div.sk-dashed-wrapped {border: 1px dashed gray;margin: 0 0.4em 0.5em 0.4em;box-sizing: border-box;padding-bottom: 0.4em;background-color: white;}#sk-container-id-2 div.sk-label label {font-family: monospace;font-weight: bold;display: inline-block;line-height: 1.2em;}#sk-container-id-2 div.sk-label-container {text-align: center;}#sk-container-id-2 div.sk-container {/* jupyter's `normalize.less` sets `[hidden] { display: none; }` but bootstrap.min.css set `[hidden] { display: none !important; }` so we also need the `!important` here to be able to override the default hidden behavior on the sphinx rendered scikit-learn.org. See: https://github.com/scikit-learn/scikit-learn/issues/21755 */display: inline-block !important;position: relative;}#sk-container-id-2 div.sk-text-repr-fallback {display: none;}</style><div id=\"sk-container-id-2\" class=\"sk-top-container\"><div class=\"sk-text-repr-fallback\"><pre>SVC(C=4)</pre><b>In a Jupyter environment, please rerun this cell to show the HTML representation or trust the notebook. <br />On GitHub, the HTML representation is unable to render, please try loading this page with nbviewer.org.</b></div><div class=\"sk-container\" hidden><div class=\"sk-item\"><div class=\"sk-estimator sk-toggleable\"><input class=\"sk-toggleable__control sk-hidden--visually\" id=\"sk-estimator-id-4\" type=\"checkbox\" checked><label for=\"sk-estimator-id-4\" class=\"sk-toggleable__label sk-toggleable__label-arrow\">SVC</label><div class=\"sk-toggleable__content\"><pre>SVC(C=4)</pre></div></div></div></div></div>"
      ],
      "text/plain": [
       "SVC(C=4)"
      ]
     },
     "execution_count": 10,
     "metadata": {},
     "output_type": "execute_result"
    }
   ],
   "source": [
    "from sklearn.svm import SVC\n",
    "model_svc = SVC(C=4)\n",
    "model_svc.fit(train_pre, train_y)"
   ]
  },
  {
   "cell_type": "code",
   "execution_count": 18,
   "id": "e30a2984",
   "metadata": {
    "scrolled": false
   },
   "outputs": [
    {
     "name": "stdout",
     "output_type": "stream",
     "text": [
      "              precision    recall  f1-score   support\n",
      "\n",
      "           1       0.57      0.42      0.49        59\n",
      "           7       0.92      0.96      0.94       765\n",
      "           8       0.91      0.82      0.86       166\n",
      "\n",
      "    accuracy                           0.90       990\n",
      "   macro avg       0.80      0.73      0.76       990\n",
      "weighted avg       0.90      0.90      0.90       990\n",
      "\n",
      "              precision    recall  f1-score   support\n",
      "\n",
      "           0       0.52      0.43      0.47       100\n",
      "           1       0.57      0.42      0.49        59\n",
      "           2       0.47      0.42      0.44       100\n",
      "           3       0.41      0.75      0.53       100\n",
      "           4       0.51      0.63      0.56       100\n",
      "           5       0.31      0.22      0.26       107\n",
      "           6       0.50      0.61      0.55        38\n",
      "           7       0.19      0.04      0.07       120\n",
      "           8       0.91      0.82      0.86       166\n",
      "           9       0.28      0.47      0.35       100\n",
      "\n",
      "    accuracy                           0.49       990\n",
      "   macro avg       0.47      0.48      0.46       990\n",
      "weighted avg       0.48      0.49      0.47       990\n",
      "\n"
     ]
    },
    {
     "data": {
      "text/html": [
       "<div>\n",
       "<style scoped>\n",
       "    .dataframe tbody tr th:only-of-type {\n",
       "        vertical-align: middle;\n",
       "    }\n",
       "\n",
       "    .dataframe tbody tr th {\n",
       "        vertical-align: top;\n",
       "    }\n",
       "\n",
       "    .dataframe thead th {\n",
       "        text-align: right;\n",
       "    }\n",
       "</style>\n",
       "<table border=\"1\" class=\"dataframe\">\n",
       "  <thead>\n",
       "    <tr style=\"text-align: right;\">\n",
       "      <th></th>\n",
       "      <th>0</th>\n",
       "      <th>1</th>\n",
       "      <th>2</th>\n",
       "      <th>3</th>\n",
       "      <th>4</th>\n",
       "      <th>5</th>\n",
       "      <th>6</th>\n",
       "      <th>7</th>\n",
       "      <th>8</th>\n",
       "      <th>9</th>\n",
       "    </tr>\n",
       "  </thead>\n",
       "  <tbody>\n",
       "    <tr>\n",
       "      <th>0</th>\n",
       "      <td>43</td>\n",
       "      <td>0</td>\n",
       "      <td>7</td>\n",
       "      <td>12</td>\n",
       "      <td>24</td>\n",
       "      <td>0</td>\n",
       "      <td>0</td>\n",
       "      <td>3</td>\n",
       "      <td>0</td>\n",
       "      <td>11</td>\n",
       "    </tr>\n",
       "    <tr>\n",
       "      <th>1</th>\n",
       "      <td>0</td>\n",
       "      <td>25</td>\n",
       "      <td>1</td>\n",
       "      <td>6</td>\n",
       "      <td>8</td>\n",
       "      <td>3</td>\n",
       "      <td>1</td>\n",
       "      <td>6</td>\n",
       "      <td>1</td>\n",
       "      <td>8</td>\n",
       "    </tr>\n",
       "    <tr>\n",
       "      <th>2</th>\n",
       "      <td>10</td>\n",
       "      <td>4</td>\n",
       "      <td>42</td>\n",
       "      <td>17</td>\n",
       "      <td>2</td>\n",
       "      <td>0</td>\n",
       "      <td>5</td>\n",
       "      <td>2</td>\n",
       "      <td>0</td>\n",
       "      <td>18</td>\n",
       "    </tr>\n",
       "    <tr>\n",
       "      <th>3</th>\n",
       "      <td>0</td>\n",
       "      <td>0</td>\n",
       "      <td>11</td>\n",
       "      <td>75</td>\n",
       "      <td>0</td>\n",
       "      <td>0</td>\n",
       "      <td>4</td>\n",
       "      <td>0</td>\n",
       "      <td>6</td>\n",
       "      <td>4</td>\n",
       "    </tr>\n",
       "    <tr>\n",
       "      <th>4</th>\n",
       "      <td>6</td>\n",
       "      <td>3</td>\n",
       "      <td>1</td>\n",
       "      <td>3</td>\n",
       "      <td>63</td>\n",
       "      <td>9</td>\n",
       "      <td>1</td>\n",
       "      <td>6</td>\n",
       "      <td>0</td>\n",
       "      <td>8</td>\n",
       "    </tr>\n",
       "    <tr>\n",
       "      <th>5</th>\n",
       "      <td>4</td>\n",
       "      <td>1</td>\n",
       "      <td>1</td>\n",
       "      <td>20</td>\n",
       "      <td>0</td>\n",
       "      <td>24</td>\n",
       "      <td>12</td>\n",
       "      <td>0</td>\n",
       "      <td>5</td>\n",
       "      <td>40</td>\n",
       "    </tr>\n",
       "    <tr>\n",
       "      <th>6</th>\n",
       "      <td>0</td>\n",
       "      <td>0</td>\n",
       "      <td>2</td>\n",
       "      <td>4</td>\n",
       "      <td>2</td>\n",
       "      <td>0</td>\n",
       "      <td>23</td>\n",
       "      <td>4</td>\n",
       "      <td>0</td>\n",
       "      <td>3</td>\n",
       "    </tr>\n",
       "    <tr>\n",
       "      <th>7</th>\n",
       "      <td>13</td>\n",
       "      <td>9</td>\n",
       "      <td>7</td>\n",
       "      <td>0</td>\n",
       "      <td>22</td>\n",
       "      <td>38</td>\n",
       "      <td>0</td>\n",
       "      <td>5</td>\n",
       "      <td>0</td>\n",
       "      <td>26</td>\n",
       "    </tr>\n",
       "    <tr>\n",
       "      <th>8</th>\n",
       "      <td>0</td>\n",
       "      <td>0</td>\n",
       "      <td>5</td>\n",
       "      <td>25</td>\n",
       "      <td>0</td>\n",
       "      <td>0</td>\n",
       "      <td>0</td>\n",
       "      <td>0</td>\n",
       "      <td>136</td>\n",
       "      <td>0</td>\n",
       "    </tr>\n",
       "    <tr>\n",
       "      <th>9</th>\n",
       "      <td>7</td>\n",
       "      <td>2</td>\n",
       "      <td>13</td>\n",
       "      <td>23</td>\n",
       "      <td>3</td>\n",
       "      <td>3</td>\n",
       "      <td>0</td>\n",
       "      <td>1</td>\n",
       "      <td>1</td>\n",
       "      <td>47</td>\n",
       "    </tr>\n",
       "  </tbody>\n",
       "</table>\n",
       "</div>"
      ],
      "text/plain": [
       "    0   1   2   3   4   5   6  7    8   9\n",
       "0  43   0   7  12  24   0   0  3    0  11\n",
       "1   0  25   1   6   8   3   1  6    1   8\n",
       "2  10   4  42  17   2   0   5  2    0  18\n",
       "3   0   0  11  75   0   0   4  0    6   4\n",
       "4   6   3   1   3  63   9   1  6    0   8\n",
       "5   4   1   1  20   0  24  12  0    5  40\n",
       "6   0   0   2   4   2   0  23  4    0   3\n",
       "7  13   9   7   0  22  38   0  5    0  26\n",
       "8   0   0   5  25   0   0   0  0  136   0\n",
       "9   7   2  13  23   3   3   0  1    1  47"
      ]
     },
     "execution_count": 18,
     "metadata": {},
     "output_type": "execute_result"
    }
   ],
   "source": [
    "#val_pre.shape\n",
    "svc_val_prediction = model_svc.predict(val_pre)\n",
    "print(classification_report(\n",
    "    combine_classes([1, 8], val_y),\n",
    "    combine_classes([1, 8], svc_val_prediction)\n",
    "))\n",
    "print(classification_report(\n",
    "     val_y, \n",
    "    svc_val_prediction))\n",
    "pd.DataFrame(confusion_matrix(val_y, svc_val_prediction), \n",
    "             index=[0,1,2,3,4,5,6,7,8,9], \n",
    "             columns=[0,1,2,3,4,5,6,7,8,9])"
   ]
  },
  {
   "cell_type": "markdown",
   "id": "67eb32c4",
   "metadata": {},
   "source": [
    "## RandomForest"
   ]
  },
  {
   "cell_type": "markdown",
   "id": "004f4ee6",
   "metadata": {},
   "source": [
    "## XGBoost"
   ]
  },
  {
   "cell_type": "code",
   "execution_count": 14,
   "id": "0eea4bb5",
   "metadata": {},
   "outputs": [
    {
     "data": {
      "text/html": [
       "<style>#sk-container-id-3 {color: black;background-color: white;}#sk-container-id-3 pre{padding: 0;}#sk-container-id-3 div.sk-toggleable {background-color: white;}#sk-container-id-3 label.sk-toggleable__label {cursor: pointer;display: block;width: 100%;margin-bottom: 0;padding: 0.3em;box-sizing: border-box;text-align: center;}#sk-container-id-3 label.sk-toggleable__label-arrow:before {content: \"▸\";float: left;margin-right: 0.25em;color: #696969;}#sk-container-id-3 label.sk-toggleable__label-arrow:hover:before {color: black;}#sk-container-id-3 div.sk-estimator:hover label.sk-toggleable__label-arrow:before {color: black;}#sk-container-id-3 div.sk-toggleable__content {max-height: 0;max-width: 0;overflow: hidden;text-align: left;background-color: #f0f8ff;}#sk-container-id-3 div.sk-toggleable__content pre {margin: 0.2em;color: black;border-radius: 0.25em;background-color: #f0f8ff;}#sk-container-id-3 input.sk-toggleable__control:checked~div.sk-toggleable__content {max-height: 200px;max-width: 100%;overflow: auto;}#sk-container-id-3 input.sk-toggleable__control:checked~label.sk-toggleable__label-arrow:before {content: \"▾\";}#sk-container-id-3 div.sk-estimator input.sk-toggleable__control:checked~label.sk-toggleable__label {background-color: #d4ebff;}#sk-container-id-3 div.sk-label input.sk-toggleable__control:checked~label.sk-toggleable__label {background-color: #d4ebff;}#sk-container-id-3 input.sk-hidden--visually {border: 0;clip: rect(1px 1px 1px 1px);clip: rect(1px, 1px, 1px, 1px);height: 1px;margin: -1px;overflow: hidden;padding: 0;position: absolute;width: 1px;}#sk-container-id-3 div.sk-estimator {font-family: monospace;background-color: #f0f8ff;border: 1px dotted black;border-radius: 0.25em;box-sizing: border-box;margin-bottom: 0.5em;}#sk-container-id-3 div.sk-estimator:hover {background-color: #d4ebff;}#sk-container-id-3 div.sk-parallel-item::after {content: \"\";width: 100%;border-bottom: 1px solid gray;flex-grow: 1;}#sk-container-id-3 div.sk-label:hover label.sk-toggleable__label {background-color: #d4ebff;}#sk-container-id-3 div.sk-serial::before {content: \"\";position: absolute;border-left: 1px solid gray;box-sizing: border-box;top: 0;bottom: 0;left: 50%;z-index: 0;}#sk-container-id-3 div.sk-serial {display: flex;flex-direction: column;align-items: center;background-color: white;padding-right: 0.2em;padding-left: 0.2em;position: relative;}#sk-container-id-3 div.sk-item {position: relative;z-index: 1;}#sk-container-id-3 div.sk-parallel {display: flex;align-items: stretch;justify-content: center;background-color: white;position: relative;}#sk-container-id-3 div.sk-item::before, #sk-container-id-3 div.sk-parallel-item::before {content: \"\";position: absolute;border-left: 1px solid gray;box-sizing: border-box;top: 0;bottom: 0;left: 50%;z-index: -1;}#sk-container-id-3 div.sk-parallel-item {display: flex;flex-direction: column;z-index: 1;position: relative;background-color: white;}#sk-container-id-3 div.sk-parallel-item:first-child::after {align-self: flex-end;width: 50%;}#sk-container-id-3 div.sk-parallel-item:last-child::after {align-self: flex-start;width: 50%;}#sk-container-id-3 div.sk-parallel-item:only-child::after {width: 0;}#sk-container-id-3 div.sk-dashed-wrapped {border: 1px dashed gray;margin: 0 0.4em 0.5em 0.4em;box-sizing: border-box;padding-bottom: 0.4em;background-color: white;}#sk-container-id-3 div.sk-label label {font-family: monospace;font-weight: bold;display: inline-block;line-height: 1.2em;}#sk-container-id-3 div.sk-label-container {text-align: center;}#sk-container-id-3 div.sk-container {/* jupyter's `normalize.less` sets `[hidden] { display: none; }` but bootstrap.min.css set `[hidden] { display: none !important; }` so we also need the `!important` here to be able to override the default hidden behavior on the sphinx rendered scikit-learn.org. See: https://github.com/scikit-learn/scikit-learn/issues/21755 */display: inline-block !important;position: relative;}#sk-container-id-3 div.sk-text-repr-fallback {display: none;}</style><div id=\"sk-container-id-3\" class=\"sk-top-container\"><div class=\"sk-text-repr-fallback\"><pre>XGBClassifier(base_score=0.5, booster=&#x27;gbtree&#x27;, callbacks=None,\n",
       "              colsample_bylevel=1, colsample_bynode=1, colsample_bytree=1,\n",
       "              early_stopping_rounds=None, enable_categorical=False,\n",
       "              eval_metric=None, gamma=0, gpu_id=-1, grow_policy=&#x27;depthwise&#x27;,\n",
       "              importance_type=None, interaction_constraints=&#x27;&#x27;,\n",
       "              learning_rate=0.300000012, max_bin=256, max_cat_to_onehot=4,\n",
       "              max_delta_step=0, max_depth=6, max_leaves=0, min_child_weight=1,\n",
       "              missing=nan, monotone_constraints=&#x27;()&#x27;, n_estimators=100,\n",
       "              n_jobs=0, num_parallel_tree=1, objective=&#x27;multi:softprob&#x27;,\n",
       "              predictor=&#x27;auto&#x27;, random_state=0, reg_alpha=0, ...)</pre><b>In a Jupyter environment, please rerun this cell to show the HTML representation or trust the notebook. <br />On GitHub, the HTML representation is unable to render, please try loading this page with nbviewer.org.</b></div><div class=\"sk-container\" hidden><div class=\"sk-item\"><div class=\"sk-estimator sk-toggleable\"><input class=\"sk-toggleable__control sk-hidden--visually\" id=\"sk-estimator-id-5\" type=\"checkbox\" checked><label for=\"sk-estimator-id-5\" class=\"sk-toggleable__label sk-toggleable__label-arrow\">XGBClassifier</label><div class=\"sk-toggleable__content\"><pre>XGBClassifier(base_score=0.5, booster=&#x27;gbtree&#x27;, callbacks=None,\n",
       "              colsample_bylevel=1, colsample_bynode=1, colsample_bytree=1,\n",
       "              early_stopping_rounds=None, enable_categorical=False,\n",
       "              eval_metric=None, gamma=0, gpu_id=-1, grow_policy=&#x27;depthwise&#x27;,\n",
       "              importance_type=None, interaction_constraints=&#x27;&#x27;,\n",
       "              learning_rate=0.300000012, max_bin=256, max_cat_to_onehot=4,\n",
       "              max_delta_step=0, max_depth=6, max_leaves=0, min_child_weight=1,\n",
       "              missing=nan, monotone_constraints=&#x27;()&#x27;, n_estimators=100,\n",
       "              n_jobs=0, num_parallel_tree=1, objective=&#x27;multi:softprob&#x27;,\n",
       "              predictor=&#x27;auto&#x27;, random_state=0, reg_alpha=0, ...)</pre></div></div></div></div></div>"
      ],
      "text/plain": [
       "XGBClassifier(base_score=0.5, booster='gbtree', callbacks=None,\n",
       "              colsample_bylevel=1, colsample_bynode=1, colsample_bytree=1,\n",
       "              early_stopping_rounds=None, enable_categorical=False,\n",
       "              eval_metric=None, gamma=0, gpu_id=-1, grow_policy='depthwise',\n",
       "              importance_type=None, interaction_constraints='',\n",
       "              learning_rate=0.300000012, max_bin=256, max_cat_to_onehot=4,\n",
       "              max_delta_step=0, max_depth=6, max_leaves=0, min_child_weight=1,\n",
       "              missing=nan, monotone_constraints='()', n_estimators=100,\n",
       "              n_jobs=0, num_parallel_tree=1, objective='multi:softprob',\n",
       "              predictor='auto', random_state=0, reg_alpha=0, ...)"
      ]
     },
     "execution_count": 14,
     "metadata": {},
     "output_type": "execute_result"
    }
   ],
   "source": [
    "from xgboost import XGBClassifier\n",
    "model_xgb = XGBClassifier()\n",
    "model_xgb.fit(train_pre, train_y)"
   ]
  },
  {
   "cell_type": "code",
   "execution_count": 19,
   "id": "76ee5260",
   "metadata": {},
   "outputs": [
    {
     "name": "stdout",
     "output_type": "stream",
     "text": [
      "              precision    recall  f1-score   support\n",
      "\n",
      "           1       0.67      0.37      0.48        59\n",
      "           7       0.92      0.94      0.93       765\n",
      "           8       0.80      0.83      0.81       166\n",
      "\n",
      "    accuracy                           0.89       990\n",
      "   macro avg       0.80      0.71      0.74       990\n",
      "weighted avg       0.88      0.89      0.88       990\n",
      "\n",
      "              precision    recall  f1-score   support\n",
      "\n",
      "           0       0.20      0.08      0.11       100\n",
      "           1       0.67      0.37      0.48        59\n",
      "           2       0.42      0.41      0.41       100\n",
      "           3       0.46      0.75      0.57       100\n",
      "           4       0.47      0.55      0.50       100\n",
      "           5       0.35      0.26      0.30       107\n",
      "           6       0.47      0.66      0.55        38\n",
      "           7       0.28      0.10      0.15       120\n",
      "           8       0.80      0.83      0.81       166\n",
      "           9       0.26      0.49      0.34       100\n",
      "\n",
      "    accuracy                           0.46       990\n",
      "   macro avg       0.44      0.45      0.42       990\n",
      "weighted avg       0.45      0.46      0.43       990\n",
      "\n"
     ]
    },
    {
     "data": {
      "text/html": [
       "<div>\n",
       "<style scoped>\n",
       "    .dataframe tbody tr th:only-of-type {\n",
       "        vertical-align: middle;\n",
       "    }\n",
       "\n",
       "    .dataframe tbody tr th {\n",
       "        vertical-align: top;\n",
       "    }\n",
       "\n",
       "    .dataframe thead th {\n",
       "        text-align: right;\n",
       "    }\n",
       "</style>\n",
       "<table border=\"1\" class=\"dataframe\">\n",
       "  <thead>\n",
       "    <tr style=\"text-align: right;\">\n",
       "      <th></th>\n",
       "      <th>0</th>\n",
       "      <th>1</th>\n",
       "      <th>2</th>\n",
       "      <th>3</th>\n",
       "      <th>4</th>\n",
       "      <th>5</th>\n",
       "      <th>6</th>\n",
       "      <th>7</th>\n",
       "      <th>8</th>\n",
       "      <th>9</th>\n",
       "    </tr>\n",
       "  </thead>\n",
       "  <tbody>\n",
       "    <tr>\n",
       "      <th>0</th>\n",
       "      <td>8</td>\n",
       "      <td>3</td>\n",
       "      <td>22</td>\n",
       "      <td>7</td>\n",
       "      <td>15</td>\n",
       "      <td>9</td>\n",
       "      <td>0</td>\n",
       "      <td>2</td>\n",
       "      <td>8</td>\n",
       "      <td>26</td>\n",
       "    </tr>\n",
       "    <tr>\n",
       "      <th>1</th>\n",
       "      <td>2</td>\n",
       "      <td>22</td>\n",
       "      <td>2</td>\n",
       "      <td>7</td>\n",
       "      <td>5</td>\n",
       "      <td>1</td>\n",
       "      <td>0</td>\n",
       "      <td>8</td>\n",
       "      <td>1</td>\n",
       "      <td>11</td>\n",
       "    </tr>\n",
       "    <tr>\n",
       "      <th>2</th>\n",
       "      <td>9</td>\n",
       "      <td>1</td>\n",
       "      <td>41</td>\n",
       "      <td>14</td>\n",
       "      <td>10</td>\n",
       "      <td>0</td>\n",
       "      <td>5</td>\n",
       "      <td>1</td>\n",
       "      <td>2</td>\n",
       "      <td>17</td>\n",
       "    </tr>\n",
       "    <tr>\n",
       "      <th>3</th>\n",
       "      <td>1</td>\n",
       "      <td>0</td>\n",
       "      <td>5</td>\n",
       "      <td>75</td>\n",
       "      <td>6</td>\n",
       "      <td>0</td>\n",
       "      <td>6</td>\n",
       "      <td>0</td>\n",
       "      <td>4</td>\n",
       "      <td>3</td>\n",
       "    </tr>\n",
       "    <tr>\n",
       "      <th>4</th>\n",
       "      <td>1</td>\n",
       "      <td>5</td>\n",
       "      <td>2</td>\n",
       "      <td>4</td>\n",
       "      <td>55</td>\n",
       "      <td>4</td>\n",
       "      <td>0</td>\n",
       "      <td>15</td>\n",
       "      <td>1</td>\n",
       "      <td>13</td>\n",
       "    </tr>\n",
       "    <tr>\n",
       "      <th>5</th>\n",
       "      <td>4</td>\n",
       "      <td>1</td>\n",
       "      <td>2</td>\n",
       "      <td>6</td>\n",
       "      <td>0</td>\n",
       "      <td>28</td>\n",
       "      <td>17</td>\n",
       "      <td>0</td>\n",
       "      <td>14</td>\n",
       "      <td>35</td>\n",
       "    </tr>\n",
       "    <tr>\n",
       "      <th>6</th>\n",
       "      <td>0</td>\n",
       "      <td>0</td>\n",
       "      <td>4</td>\n",
       "      <td>5</td>\n",
       "      <td>0</td>\n",
       "      <td>0</td>\n",
       "      <td>25</td>\n",
       "      <td>4</td>\n",
       "      <td>0</td>\n",
       "      <td>0</td>\n",
       "    </tr>\n",
       "    <tr>\n",
       "      <th>7</th>\n",
       "      <td>9</td>\n",
       "      <td>0</td>\n",
       "      <td>2</td>\n",
       "      <td>0</td>\n",
       "      <td>27</td>\n",
       "      <td>33</td>\n",
       "      <td>0</td>\n",
       "      <td>12</td>\n",
       "      <td>0</td>\n",
       "      <td>37</td>\n",
       "    </tr>\n",
       "    <tr>\n",
       "      <th>8</th>\n",
       "      <td>0</td>\n",
       "      <td>0</td>\n",
       "      <td>4</td>\n",
       "      <td>24</td>\n",
       "      <td>0</td>\n",
       "      <td>0</td>\n",
       "      <td>0</td>\n",
       "      <td>0</td>\n",
       "      <td>137</td>\n",
       "      <td>1</td>\n",
       "    </tr>\n",
       "    <tr>\n",
       "      <th>9</th>\n",
       "      <td>6</td>\n",
       "      <td>1</td>\n",
       "      <td>14</td>\n",
       "      <td>21</td>\n",
       "      <td>0</td>\n",
       "      <td>4</td>\n",
       "      <td>0</td>\n",
       "      <td>1</td>\n",
       "      <td>4</td>\n",
       "      <td>49</td>\n",
       "    </tr>\n",
       "  </tbody>\n",
       "</table>\n",
       "</div>"
      ],
      "text/plain": [
       "   0   1   2   3   4   5   6   7    8   9\n",
       "0  8   3  22   7  15   9   0   2    8  26\n",
       "1  2  22   2   7   5   1   0   8    1  11\n",
       "2  9   1  41  14  10   0   5   1    2  17\n",
       "3  1   0   5  75   6   0   6   0    4   3\n",
       "4  1   5   2   4  55   4   0  15    1  13\n",
       "5  4   1   2   6   0  28  17   0   14  35\n",
       "6  0   0   4   5   0   0  25   4    0   0\n",
       "7  9   0   2   0  27  33   0  12    0  37\n",
       "8  0   0   4  24   0   0   0   0  137   1\n",
       "9  6   1  14  21   0   4   0   1    4  49"
      ]
     },
     "execution_count": 19,
     "metadata": {},
     "output_type": "execute_result"
    }
   ],
   "source": [
    "xgb_val_prediction = model_xgb.predict(val_pre)\n",
    "print(classification_report(\n",
    "    combine_classes([1, 8], val_y),\n",
    "    combine_classes([1, 8], xgb_val_prediction)\n",
    "))\n",
    "print(classification_report(\n",
    "     val_y, \n",
    "    xgb_val_prediction))\n",
    "pd.DataFrame(confusion_matrix(val_y, xgb_val_prediction),\n",
    "             index=[0,1,2,3,4,5,6,7,8,9], \n",
    "             columns=[0,1,2,3,4,5,6,7,8,9])"
   ]
  },
  {
   "cell_type": "markdown",
   "id": "5932b77e",
   "metadata": {},
   "source": [
    "### XGBoost with oversampled features\n"
   ]
  },
  {
   "cell_type": "code",
   "execution_count": 78,
   "id": "9f12b48a",
   "metadata": {},
   "outputs": [
    {
     "data": {
      "text/html": [
       "<style>#sk-container-id-9 {color: black;background-color: white;}#sk-container-id-9 pre{padding: 0;}#sk-container-id-9 div.sk-toggleable {background-color: white;}#sk-container-id-9 label.sk-toggleable__label {cursor: pointer;display: block;width: 100%;margin-bottom: 0;padding: 0.3em;box-sizing: border-box;text-align: center;}#sk-container-id-9 label.sk-toggleable__label-arrow:before {content: \"▸\";float: left;margin-right: 0.25em;color: #696969;}#sk-container-id-9 label.sk-toggleable__label-arrow:hover:before {color: black;}#sk-container-id-9 div.sk-estimator:hover label.sk-toggleable__label-arrow:before {color: black;}#sk-container-id-9 div.sk-toggleable__content {max-height: 0;max-width: 0;overflow: hidden;text-align: left;background-color: #f0f8ff;}#sk-container-id-9 div.sk-toggleable__content pre {margin: 0.2em;color: black;border-radius: 0.25em;background-color: #f0f8ff;}#sk-container-id-9 input.sk-toggleable__control:checked~div.sk-toggleable__content {max-height: 200px;max-width: 100%;overflow: auto;}#sk-container-id-9 input.sk-toggleable__control:checked~label.sk-toggleable__label-arrow:before {content: \"▾\";}#sk-container-id-9 div.sk-estimator input.sk-toggleable__control:checked~label.sk-toggleable__label {background-color: #d4ebff;}#sk-container-id-9 div.sk-label input.sk-toggleable__control:checked~label.sk-toggleable__label {background-color: #d4ebff;}#sk-container-id-9 input.sk-hidden--visually {border: 0;clip: rect(1px 1px 1px 1px);clip: rect(1px, 1px, 1px, 1px);height: 1px;margin: -1px;overflow: hidden;padding: 0;position: absolute;width: 1px;}#sk-container-id-9 div.sk-estimator {font-family: monospace;background-color: #f0f8ff;border: 1px dotted black;border-radius: 0.25em;box-sizing: border-box;margin-bottom: 0.5em;}#sk-container-id-9 div.sk-estimator:hover {background-color: #d4ebff;}#sk-container-id-9 div.sk-parallel-item::after {content: \"\";width: 100%;border-bottom: 1px solid gray;flex-grow: 1;}#sk-container-id-9 div.sk-label:hover label.sk-toggleable__label {background-color: #d4ebff;}#sk-container-id-9 div.sk-serial::before {content: \"\";position: absolute;border-left: 1px solid gray;box-sizing: border-box;top: 0;bottom: 0;left: 50%;z-index: 0;}#sk-container-id-9 div.sk-serial {display: flex;flex-direction: column;align-items: center;background-color: white;padding-right: 0.2em;padding-left: 0.2em;position: relative;}#sk-container-id-9 div.sk-item {position: relative;z-index: 1;}#sk-container-id-9 div.sk-parallel {display: flex;align-items: stretch;justify-content: center;background-color: white;position: relative;}#sk-container-id-9 div.sk-item::before, #sk-container-id-9 div.sk-parallel-item::before {content: \"\";position: absolute;border-left: 1px solid gray;box-sizing: border-box;top: 0;bottom: 0;left: 50%;z-index: -1;}#sk-container-id-9 div.sk-parallel-item {display: flex;flex-direction: column;z-index: 1;position: relative;background-color: white;}#sk-container-id-9 div.sk-parallel-item:first-child::after {align-self: flex-end;width: 50%;}#sk-container-id-9 div.sk-parallel-item:last-child::after {align-self: flex-start;width: 50%;}#sk-container-id-9 div.sk-parallel-item:only-child::after {width: 0;}#sk-container-id-9 div.sk-dashed-wrapped {border: 1px dashed gray;margin: 0 0.4em 0.5em 0.4em;box-sizing: border-box;padding-bottom: 0.4em;background-color: white;}#sk-container-id-9 div.sk-label label {font-family: monospace;font-weight: bold;display: inline-block;line-height: 1.2em;}#sk-container-id-9 div.sk-label-container {text-align: center;}#sk-container-id-9 div.sk-container {/* jupyter's `normalize.less` sets `[hidden] { display: none; }` but bootstrap.min.css set `[hidden] { display: none !important; }` so we also need the `!important` here to be able to override the default hidden behavior on the sphinx rendered scikit-learn.org. See: https://github.com/scikit-learn/scikit-learn/issues/21755 */display: inline-block !important;position: relative;}#sk-container-id-9 div.sk-text-repr-fallback {display: none;}</style><div id=\"sk-container-id-9\" class=\"sk-top-container\"><div class=\"sk-text-repr-fallback\"><pre>Pipeline(steps=[(&#x27;pad&#x27;,\n",
       "                 FunctionTransformer(func=&lt;function np_pad_wrapper at 0x1634f1310&gt;,\n",
       "                                     kw_args={&#x27;max_len&#x27;: 64000})),\n",
       "                (&#x27;over_sampler&#x27;,\n",
       "                 AugmentingRandomOversampler(sampling_strategy=&#x27;minority&#x27;)),\n",
       "                (&#x27;mean_mfcc&#x27;,\n",
       "                 FunctionTransformer(func=&lt;function samples_to_mean_mfcc at 0x1635e2d30&gt;,\n",
       "                                     kw_args={&#x27;fmax&#x27;: None, &#x27;fmin&#x27;: 0.0,\n",
       "                                              &#x27;hop_length&#x27;: 128, &#x27;n_fft&#x27;: 512,\n",
       "                                              &#x27;n_mfcc&#x27;: 20, &#x27;sr&#x27;: 16000})),\n",
       "                (&#x27;scaler&#x27;, StandardScaler()), (&#x27;estimator&#x27;, None)])</pre><b>In a Jupyter environment, please rerun this cell to show the HTML representation or trust the notebook. <br />On GitHub, the HTML representation is unable to render, please try loading this page with nbviewer.org.</b></div><div class=\"sk-container\" hidden><div class=\"sk-item sk-dashed-wrapped\"><div class=\"sk-label-container\"><div class=\"sk-label sk-toggleable\"><input class=\"sk-toggleable__control sk-hidden--visually\" id=\"sk-estimator-id-34\" type=\"checkbox\" ><label for=\"sk-estimator-id-34\" class=\"sk-toggleable__label sk-toggleable__label-arrow\">Pipeline</label><div class=\"sk-toggleable__content\"><pre>Pipeline(steps=[(&#x27;pad&#x27;,\n",
       "                 FunctionTransformer(func=&lt;function np_pad_wrapper at 0x1634f1310&gt;,\n",
       "                                     kw_args={&#x27;max_len&#x27;: 64000})),\n",
       "                (&#x27;over_sampler&#x27;,\n",
       "                 AugmentingRandomOversampler(sampling_strategy=&#x27;minority&#x27;)),\n",
       "                (&#x27;mean_mfcc&#x27;,\n",
       "                 FunctionTransformer(func=&lt;function samples_to_mean_mfcc at 0x1635e2d30&gt;,\n",
       "                                     kw_args={&#x27;fmax&#x27;: None, &#x27;fmin&#x27;: 0.0,\n",
       "                                              &#x27;hop_length&#x27;: 128, &#x27;n_fft&#x27;: 512,\n",
       "                                              &#x27;n_mfcc&#x27;: 20, &#x27;sr&#x27;: 16000})),\n",
       "                (&#x27;scaler&#x27;, StandardScaler()), (&#x27;estimator&#x27;, None)])</pre></div></div></div><div class=\"sk-serial\"><div class=\"sk-item\"><div class=\"sk-estimator sk-toggleable\"><input class=\"sk-toggleable__control sk-hidden--visually\" id=\"sk-estimator-id-35\" type=\"checkbox\" ><label for=\"sk-estimator-id-35\" class=\"sk-toggleable__label sk-toggleable__label-arrow\">FunctionTransformer</label><div class=\"sk-toggleable__content\"><pre>FunctionTransformer(func=&lt;function np_pad_wrapper at 0x1634f1310&gt;,\n",
       "                    kw_args={&#x27;max_len&#x27;: 64000})</pre></div></div></div><div class=\"sk-item\"><div class=\"sk-estimator sk-toggleable\"><input class=\"sk-toggleable__control sk-hidden--visually\" id=\"sk-estimator-id-36\" type=\"checkbox\" ><label for=\"sk-estimator-id-36\" class=\"sk-toggleable__label sk-toggleable__label-arrow\">AugmentingRandomOversampler</label><div class=\"sk-toggleable__content\"><pre>AugmentingRandomOversampler(sampling_strategy=&#x27;minority&#x27;)</pre></div></div></div><div class=\"sk-item\"><div class=\"sk-estimator sk-toggleable\"><input class=\"sk-toggleable__control sk-hidden--visually\" id=\"sk-estimator-id-37\" type=\"checkbox\" ><label for=\"sk-estimator-id-37\" class=\"sk-toggleable__label sk-toggleable__label-arrow\">FunctionTransformer</label><div class=\"sk-toggleable__content\"><pre>FunctionTransformer(func=&lt;function samples_to_mean_mfcc at 0x1635e2d30&gt;,\n",
       "                    kw_args={&#x27;fmax&#x27;: None, &#x27;fmin&#x27;: 0.0, &#x27;hop_length&#x27;: 128,\n",
       "                             &#x27;n_fft&#x27;: 512, &#x27;n_mfcc&#x27;: 20, &#x27;sr&#x27;: 16000})</pre></div></div></div><div class=\"sk-item\"><div class=\"sk-estimator sk-toggleable\"><input class=\"sk-toggleable__control sk-hidden--visually\" id=\"sk-estimator-id-38\" type=\"checkbox\" ><label for=\"sk-estimator-id-38\" class=\"sk-toggleable__label sk-toggleable__label-arrow\">StandardScaler</label><div class=\"sk-toggleable__content\"><pre>StandardScaler()</pre></div></div></div><div class=\"sk-item\"><div class=\"sk-estimator sk-toggleable\"><input class=\"sk-toggleable__control sk-hidden--visually\" id=\"sk-estimator-id-39\" type=\"checkbox\" ><label for=\"sk-estimator-id-39\" class=\"sk-toggleable__label sk-toggleable__label-arrow\">None</label><div class=\"sk-toggleable__content\"><pre>None</pre></div></div></div></div></div></div></div>"
      ],
      "text/plain": [
       "Pipeline(steps=[('pad',\n",
       "                 FunctionTransformer(func=<function np_pad_wrapper at 0x1634f1310>,\n",
       "                                     kw_args={'max_len': 64000})),\n",
       "                ('over_sampler',\n",
       "                 AugmentingRandomOversampler(sampling_strategy='minority')),\n",
       "                ('mean_mfcc',\n",
       "                 FunctionTransformer(func=<function samples_to_mean_mfcc at 0x1635e2d30>,\n",
       "                                     kw_args={'fmax': None, 'fmin': 0.0,\n",
       "                                              'hop_length': 128, 'n_fft': 512,\n",
       "                                              'n_mfcc': 20, 'sr': 16000})),\n",
       "                ('scaler', StandardScaler()), ('estimator', None)])"
      ]
     },
     "execution_count": 78,
     "metadata": {},
     "output_type": "execute_result"
    }
   ],
   "source": [
    "oversampled_pipe = make_oversampled_feature_pipeline()\n",
    "oversampled_pipe"
   ]
  },
  {
   "cell_type": "code",
   "execution_count": 65,
   "id": "48e3d1a3",
   "metadata": {},
   "outputs": [
    {
     "data": {
      "text/plain": [
       "{'memory': None,\n",
       " 'steps': [('pad',\n",
       "   FunctionTransformer(func=<function np_pad_wrapper at 0x1634f1310>,\n",
       "                       kw_args={'max_len': 64000})),\n",
       "  ('over_sampler', AugmentingRandomOversampler(sampling_strategy='minority')),\n",
       "  ('mean_mfcc',\n",
       "   FunctionTransformer(func=<function samples_to_mean_mfcc at 0x1635e2d30>,\n",
       "                       kw_args={'fmax': None, 'fmin': 0.0, 'hop_length': 128,\n",
       "                                'n_fft': 512, 'n_mfcc': 20, 'sr': 16000})),\n",
       "  ('scaler', StandardScaler()),\n",
       "  ('estimator', None)],\n",
       " 'verbose': False,\n",
       " 'pad': FunctionTransformer(func=<function np_pad_wrapper at 0x1634f1310>,\n",
       "                     kw_args={'max_len': 64000}),\n",
       " 'over_sampler': AugmentingRandomOversampler(sampling_strategy='minority'),\n",
       " 'mean_mfcc': FunctionTransformer(func=<function samples_to_mean_mfcc at 0x1635e2d30>,\n",
       "                     kw_args={'fmax': None, 'fmin': 0.0, 'hop_length': 128,\n",
       "                              'n_fft': 512, 'n_mfcc': 20, 'sr': 16000}),\n",
       " 'scaler': StandardScaler(),\n",
       " 'estimator': None,\n",
       " 'pad__accept_sparse': False,\n",
       " 'pad__check_inverse': True,\n",
       " 'pad__feature_names_out': None,\n",
       " 'pad__func': <function hasp.util.np_pad_wrapper(arrays, max_len=64000)>,\n",
       " 'pad__inv_kw_args': None,\n",
       " 'pad__inverse_func': None,\n",
       " 'pad__kw_args': {'max_len': 64000},\n",
       " 'pad__validate': False,\n",
       " 'over_sampler__augment_method': 'AddGaussianNoise',\n",
       " 'over_sampler__random_state': None,\n",
       " 'over_sampler__sampling_strategy': 'minority',\n",
       " 'mean_mfcc__accept_sparse': False,\n",
       " 'mean_mfcc__check_inverse': True,\n",
       " 'mean_mfcc__feature_names_out': None,\n",
       " 'mean_mfcc__func': <function hasp.feature_pipeline.samples_to_mean_mfcc(examples, sr=16000, n_fft=512, hop_length=128, fmin=0.0, fmax=8000, **kwargs)>,\n",
       " 'mean_mfcc__inv_kw_args': None,\n",
       " 'mean_mfcc__inverse_func': None,\n",
       " 'mean_mfcc__kw_args': {'sr': 16000,\n",
       "  'n_mfcc': 20,\n",
       "  'n_fft': 512,\n",
       "  'hop_length': 128,\n",
       "  'fmin': 0.0,\n",
       "  'fmax': None},\n",
       " 'mean_mfcc__validate': False,\n",
       " 'scaler__copy': True,\n",
       " 'scaler__with_mean': True,\n",
       " 'scaler__with_std': True}"
      ]
     },
     "execution_count": 65,
     "metadata": {},
     "output_type": "execute_result"
    }
   ],
   "source": [
    "oversampled_pipe.get_params()"
   ]
  },
  {
   "cell_type": "code",
   "execution_count": 82,
   "id": "8cec57f1",
   "metadata": {},
   "outputs": [
    {
     "data": {
      "text/html": [
       "<style>#sk-container-id-11 {color: black;background-color: white;}#sk-container-id-11 pre{padding: 0;}#sk-container-id-11 div.sk-toggleable {background-color: white;}#sk-container-id-11 label.sk-toggleable__label {cursor: pointer;display: block;width: 100%;margin-bottom: 0;padding: 0.3em;box-sizing: border-box;text-align: center;}#sk-container-id-11 label.sk-toggleable__label-arrow:before {content: \"▸\";float: left;margin-right: 0.25em;color: #696969;}#sk-container-id-11 label.sk-toggleable__label-arrow:hover:before {color: black;}#sk-container-id-11 div.sk-estimator:hover label.sk-toggleable__label-arrow:before {color: black;}#sk-container-id-11 div.sk-toggleable__content {max-height: 0;max-width: 0;overflow: hidden;text-align: left;background-color: #f0f8ff;}#sk-container-id-11 div.sk-toggleable__content pre {margin: 0.2em;color: black;border-radius: 0.25em;background-color: #f0f8ff;}#sk-container-id-11 input.sk-toggleable__control:checked~div.sk-toggleable__content {max-height: 200px;max-width: 100%;overflow: auto;}#sk-container-id-11 input.sk-toggleable__control:checked~label.sk-toggleable__label-arrow:before {content: \"▾\";}#sk-container-id-11 div.sk-estimator input.sk-toggleable__control:checked~label.sk-toggleable__label {background-color: #d4ebff;}#sk-container-id-11 div.sk-label input.sk-toggleable__control:checked~label.sk-toggleable__label {background-color: #d4ebff;}#sk-container-id-11 input.sk-hidden--visually {border: 0;clip: rect(1px 1px 1px 1px);clip: rect(1px, 1px, 1px, 1px);height: 1px;margin: -1px;overflow: hidden;padding: 0;position: absolute;width: 1px;}#sk-container-id-11 div.sk-estimator {font-family: monospace;background-color: #f0f8ff;border: 1px dotted black;border-radius: 0.25em;box-sizing: border-box;margin-bottom: 0.5em;}#sk-container-id-11 div.sk-estimator:hover {background-color: #d4ebff;}#sk-container-id-11 div.sk-parallel-item::after {content: \"\";width: 100%;border-bottom: 1px solid gray;flex-grow: 1;}#sk-container-id-11 div.sk-label:hover label.sk-toggleable__label {background-color: #d4ebff;}#sk-container-id-11 div.sk-serial::before {content: \"\";position: absolute;border-left: 1px solid gray;box-sizing: border-box;top: 0;bottom: 0;left: 50%;z-index: 0;}#sk-container-id-11 div.sk-serial {display: flex;flex-direction: column;align-items: center;background-color: white;padding-right: 0.2em;padding-left: 0.2em;position: relative;}#sk-container-id-11 div.sk-item {position: relative;z-index: 1;}#sk-container-id-11 div.sk-parallel {display: flex;align-items: stretch;justify-content: center;background-color: white;position: relative;}#sk-container-id-11 div.sk-item::before, #sk-container-id-11 div.sk-parallel-item::before {content: \"\";position: absolute;border-left: 1px solid gray;box-sizing: border-box;top: 0;bottom: 0;left: 50%;z-index: -1;}#sk-container-id-11 div.sk-parallel-item {display: flex;flex-direction: column;z-index: 1;position: relative;background-color: white;}#sk-container-id-11 div.sk-parallel-item:first-child::after {align-self: flex-end;width: 50%;}#sk-container-id-11 div.sk-parallel-item:last-child::after {align-self: flex-start;width: 50%;}#sk-container-id-11 div.sk-parallel-item:only-child::after {width: 0;}#sk-container-id-11 div.sk-dashed-wrapped {border: 1px dashed gray;margin: 0 0.4em 0.5em 0.4em;box-sizing: border-box;padding-bottom: 0.4em;background-color: white;}#sk-container-id-11 div.sk-label label {font-family: monospace;font-weight: bold;display: inline-block;line-height: 1.2em;}#sk-container-id-11 div.sk-label-container {text-align: center;}#sk-container-id-11 div.sk-container {/* jupyter's `normalize.less` sets `[hidden] { display: none; }` but bootstrap.min.css set `[hidden] { display: none !important; }` so we also need the `!important` here to be able to override the default hidden behavior on the sphinx rendered scikit-learn.org. See: https://github.com/scikit-learn/scikit-learn/issues/21755 */display: inline-block !important;position: relative;}#sk-container-id-11 div.sk-text-repr-fallback {display: none;}</style><div id=\"sk-container-id-11\" class=\"sk-top-container\"><div class=\"sk-text-repr-fallback\"><pre>Pipeline(steps=[(&#x27;pad&#x27;,\n",
       "                 FunctionTransformer(func=&lt;function np_pad_wrapper at 0x1634f1310&gt;,\n",
       "                                     kw_args={&#x27;max_len&#x27;: 64000})),\n",
       "                (&#x27;over_sampler&#x27;,\n",
       "                 AugmentingRandomOversampler(sampling_strategy=&#x27;minority&#x27;)),\n",
       "                (&#x27;mean_mfcc&#x27;,\n",
       "                 FunctionTransformer(func=&lt;function samples_to_mean_mfcc at 0x1635e2d30&gt;,\n",
       "                                     kw_args={&#x27;fmax&#x27;: 4000, &#x27;fmin&#x27;: 300})),\n",
       "                (&#x27;scaler&#x27;, StandardScaler()),\n",
       "                (&#x27;estimator&#x27;,\n",
       "                 XGB...\n",
       "                               gamma=None, gpu_id=None, grow_policy=None,\n",
       "                               importance_type=None,\n",
       "                               interaction_constraints=None,\n",
       "                               learning_rate=0.025, max_bin=None,\n",
       "                               max_cat_to_onehot=None, max_delta_step=None,\n",
       "                               max_depth=8, max_leaves=None,\n",
       "                               min_child_weight=None, missing=nan,\n",
       "                               monotone_constraints=None, n_estimators=400,\n",
       "                               n_jobs=None, nthread=4, num_parallel_tree=None,\n",
       "                               objective=&#x27;multi:softmax&#x27;, predictor=None,\n",
       "                               random_state=None, ...))])</pre><b>In a Jupyter environment, please rerun this cell to show the HTML representation or trust the notebook. <br />On GitHub, the HTML representation is unable to render, please try loading this page with nbviewer.org.</b></div><div class=\"sk-container\" hidden><div class=\"sk-item sk-dashed-wrapped\"><div class=\"sk-label-container\"><div class=\"sk-label sk-toggleable\"><input class=\"sk-toggleable__control sk-hidden--visually\" id=\"sk-estimator-id-46\" type=\"checkbox\" ><label for=\"sk-estimator-id-46\" class=\"sk-toggleable__label sk-toggleable__label-arrow\">Pipeline</label><div class=\"sk-toggleable__content\"><pre>Pipeline(steps=[(&#x27;pad&#x27;,\n",
       "                 FunctionTransformer(func=&lt;function np_pad_wrapper at 0x1634f1310&gt;,\n",
       "                                     kw_args={&#x27;max_len&#x27;: 64000})),\n",
       "                (&#x27;over_sampler&#x27;,\n",
       "                 AugmentingRandomOversampler(sampling_strategy=&#x27;minority&#x27;)),\n",
       "                (&#x27;mean_mfcc&#x27;,\n",
       "                 FunctionTransformer(func=&lt;function samples_to_mean_mfcc at 0x1635e2d30&gt;,\n",
       "                                     kw_args={&#x27;fmax&#x27;: 4000, &#x27;fmin&#x27;: 300})),\n",
       "                (&#x27;scaler&#x27;, StandardScaler()),\n",
       "                (&#x27;estimator&#x27;,\n",
       "                 XGB...\n",
       "                               gamma=None, gpu_id=None, grow_policy=None,\n",
       "                               importance_type=None,\n",
       "                               interaction_constraints=None,\n",
       "                               learning_rate=0.025, max_bin=None,\n",
       "                               max_cat_to_onehot=None, max_delta_step=None,\n",
       "                               max_depth=8, max_leaves=None,\n",
       "                               min_child_weight=None, missing=nan,\n",
       "                               monotone_constraints=None, n_estimators=400,\n",
       "                               n_jobs=None, nthread=4, num_parallel_tree=None,\n",
       "                               objective=&#x27;multi:softmax&#x27;, predictor=None,\n",
       "                               random_state=None, ...))])</pre></div></div></div><div class=\"sk-serial\"><div class=\"sk-item\"><div class=\"sk-estimator sk-toggleable\"><input class=\"sk-toggleable__control sk-hidden--visually\" id=\"sk-estimator-id-47\" type=\"checkbox\" ><label for=\"sk-estimator-id-47\" class=\"sk-toggleable__label sk-toggleable__label-arrow\">FunctionTransformer</label><div class=\"sk-toggleable__content\"><pre>FunctionTransformer(func=&lt;function np_pad_wrapper at 0x1634f1310&gt;,\n",
       "                    kw_args={&#x27;max_len&#x27;: 64000})</pre></div></div></div><div class=\"sk-item\"><div class=\"sk-estimator sk-toggleable\"><input class=\"sk-toggleable__control sk-hidden--visually\" id=\"sk-estimator-id-48\" type=\"checkbox\" ><label for=\"sk-estimator-id-48\" class=\"sk-toggleable__label sk-toggleable__label-arrow\">AugmentingRandomOversampler</label><div class=\"sk-toggleable__content\"><pre>AugmentingRandomOversampler(sampling_strategy=&#x27;minority&#x27;)</pre></div></div></div><div class=\"sk-item\"><div class=\"sk-estimator sk-toggleable\"><input class=\"sk-toggleable__control sk-hidden--visually\" id=\"sk-estimator-id-49\" type=\"checkbox\" ><label for=\"sk-estimator-id-49\" class=\"sk-toggleable__label sk-toggleable__label-arrow\">FunctionTransformer</label><div class=\"sk-toggleable__content\"><pre>FunctionTransformer(func=&lt;function samples_to_mean_mfcc at 0x1635e2d30&gt;,\n",
       "                    kw_args={&#x27;fmax&#x27;: 4000, &#x27;fmin&#x27;: 300})</pre></div></div></div><div class=\"sk-item\"><div class=\"sk-estimator sk-toggleable\"><input class=\"sk-toggleable__control sk-hidden--visually\" id=\"sk-estimator-id-50\" type=\"checkbox\" ><label for=\"sk-estimator-id-50\" class=\"sk-toggleable__label sk-toggleable__label-arrow\">StandardScaler</label><div class=\"sk-toggleable__content\"><pre>StandardScaler()</pre></div></div></div><div class=\"sk-item\"><div class=\"sk-estimator sk-toggleable\"><input class=\"sk-toggleable__control sk-hidden--visually\" id=\"sk-estimator-id-51\" type=\"checkbox\" ><label for=\"sk-estimator-id-51\" class=\"sk-toggleable__label sk-toggleable__label-arrow\">XGBClassifier</label><div class=\"sk-toggleable__content\"><pre>XGBClassifier(base_score=None, booster=None, callbacks=None,\n",
       "              colsample_bylevel=None, colsample_bynode=None,\n",
       "              colsample_bytree=None, early_stopping_rounds=None,\n",
       "              enable_categorical=False, eval_metric=None, gamma=None,\n",
       "              gpu_id=None, grow_policy=None, importance_type=None,\n",
       "              interaction_constraints=None, learning_rate=0.025, max_bin=None,\n",
       "              max_cat_to_onehot=None, max_delta_step=None, max_depth=8,\n",
       "              max_leaves=None, min_child_weight=None, missing=nan,\n",
       "              monotone_constraints=None, n_estimators=400, n_jobs=None,\n",
       "              nthread=4, num_parallel_tree=None, objective=&#x27;multi:softmax&#x27;,\n",
       "              predictor=None, random_state=None, ...)</pre></div></div></div></div></div></div></div>"
      ],
      "text/plain": [
       "Pipeline(steps=[('pad',\n",
       "                 FunctionTransformer(func=<function np_pad_wrapper at 0x1634f1310>,\n",
       "                                     kw_args={'max_len': 64000})),\n",
       "                ('over_sampler',\n",
       "                 AugmentingRandomOversampler(sampling_strategy='minority')),\n",
       "                ('mean_mfcc',\n",
       "                 FunctionTransformer(func=<function samples_to_mean_mfcc at 0x1635e2d30>,\n",
       "                                     kw_args={'fmax': 4000, 'fmin': 300})),\n",
       "                ('scaler', StandardScaler()),\n",
       "                ('estimator',\n",
       "                 XGB...\n",
       "                               gamma=None, gpu_id=None, grow_policy=None,\n",
       "                               importance_type=None,\n",
       "                               interaction_constraints=None,\n",
       "                               learning_rate=0.025, max_bin=None,\n",
       "                               max_cat_to_onehot=None, max_delta_step=None,\n",
       "                               max_depth=8, max_leaves=None,\n",
       "                               min_child_weight=None, missing=nan,\n",
       "                               monotone_constraints=None, n_estimators=400,\n",
       "                               n_jobs=None, nthread=4, num_parallel_tree=None,\n",
       "                               objective='multi:softmax', predictor=None,\n",
       "                               random_state=None, ...))])"
      ]
     },
     "execution_count": 82,
     "metadata": {},
     "output_type": "execute_result"
    }
   ],
   "source": [
    "oversampled_pipe.set_params(estimator=XGBClassifier(n_estimators=400, \n",
    "                              learning_rate=0.025, \n",
    "                              max_depth=8, \n",
    "                              objective='multi:softmax',\n",
    "                              nthread=4),                          \n",
    "                           mean_mfcc__kw_args={'fmin':300, 'fmax':4000})"
   ]
  },
  {
   "cell_type": "code",
   "execution_count": 83,
   "id": "1ea58efb",
   "metadata": {},
   "outputs": [
    {
     "name": "stdout",
     "output_type": "stream",
     "text": [
      "CPU times: user 4min 55s, sys: 35.4 s, total: 5min 30s\n",
      "Wall time: 1min 4s\n"
     ]
    },
    {
     "data": {
      "text/html": [
       "<style>#sk-container-id-12 {color: black;background-color: white;}#sk-container-id-12 pre{padding: 0;}#sk-container-id-12 div.sk-toggleable {background-color: white;}#sk-container-id-12 label.sk-toggleable__label {cursor: pointer;display: block;width: 100%;margin-bottom: 0;padding: 0.3em;box-sizing: border-box;text-align: center;}#sk-container-id-12 label.sk-toggleable__label-arrow:before {content: \"▸\";float: left;margin-right: 0.25em;color: #696969;}#sk-container-id-12 label.sk-toggleable__label-arrow:hover:before {color: black;}#sk-container-id-12 div.sk-estimator:hover label.sk-toggleable__label-arrow:before {color: black;}#sk-container-id-12 div.sk-toggleable__content {max-height: 0;max-width: 0;overflow: hidden;text-align: left;background-color: #f0f8ff;}#sk-container-id-12 div.sk-toggleable__content pre {margin: 0.2em;color: black;border-radius: 0.25em;background-color: #f0f8ff;}#sk-container-id-12 input.sk-toggleable__control:checked~div.sk-toggleable__content {max-height: 200px;max-width: 100%;overflow: auto;}#sk-container-id-12 input.sk-toggleable__control:checked~label.sk-toggleable__label-arrow:before {content: \"▾\";}#sk-container-id-12 div.sk-estimator input.sk-toggleable__control:checked~label.sk-toggleable__label {background-color: #d4ebff;}#sk-container-id-12 div.sk-label input.sk-toggleable__control:checked~label.sk-toggleable__label {background-color: #d4ebff;}#sk-container-id-12 input.sk-hidden--visually {border: 0;clip: rect(1px 1px 1px 1px);clip: rect(1px, 1px, 1px, 1px);height: 1px;margin: -1px;overflow: hidden;padding: 0;position: absolute;width: 1px;}#sk-container-id-12 div.sk-estimator {font-family: monospace;background-color: #f0f8ff;border: 1px dotted black;border-radius: 0.25em;box-sizing: border-box;margin-bottom: 0.5em;}#sk-container-id-12 div.sk-estimator:hover {background-color: #d4ebff;}#sk-container-id-12 div.sk-parallel-item::after {content: \"\";width: 100%;border-bottom: 1px solid gray;flex-grow: 1;}#sk-container-id-12 div.sk-label:hover label.sk-toggleable__label {background-color: #d4ebff;}#sk-container-id-12 div.sk-serial::before {content: \"\";position: absolute;border-left: 1px solid gray;box-sizing: border-box;top: 0;bottom: 0;left: 50%;z-index: 0;}#sk-container-id-12 div.sk-serial {display: flex;flex-direction: column;align-items: center;background-color: white;padding-right: 0.2em;padding-left: 0.2em;position: relative;}#sk-container-id-12 div.sk-item {position: relative;z-index: 1;}#sk-container-id-12 div.sk-parallel {display: flex;align-items: stretch;justify-content: center;background-color: white;position: relative;}#sk-container-id-12 div.sk-item::before, #sk-container-id-12 div.sk-parallel-item::before {content: \"\";position: absolute;border-left: 1px solid gray;box-sizing: border-box;top: 0;bottom: 0;left: 50%;z-index: -1;}#sk-container-id-12 div.sk-parallel-item {display: flex;flex-direction: column;z-index: 1;position: relative;background-color: white;}#sk-container-id-12 div.sk-parallel-item:first-child::after {align-self: flex-end;width: 50%;}#sk-container-id-12 div.sk-parallel-item:last-child::after {align-self: flex-start;width: 50%;}#sk-container-id-12 div.sk-parallel-item:only-child::after {width: 0;}#sk-container-id-12 div.sk-dashed-wrapped {border: 1px dashed gray;margin: 0 0.4em 0.5em 0.4em;box-sizing: border-box;padding-bottom: 0.4em;background-color: white;}#sk-container-id-12 div.sk-label label {font-family: monospace;font-weight: bold;display: inline-block;line-height: 1.2em;}#sk-container-id-12 div.sk-label-container {text-align: center;}#sk-container-id-12 div.sk-container {/* jupyter's `normalize.less` sets `[hidden] { display: none; }` but bootstrap.min.css set `[hidden] { display: none !important; }` so we also need the `!important` here to be able to override the default hidden behavior on the sphinx rendered scikit-learn.org. See: https://github.com/scikit-learn/scikit-learn/issues/21755 */display: inline-block !important;position: relative;}#sk-container-id-12 div.sk-text-repr-fallback {display: none;}</style><div id=\"sk-container-id-12\" class=\"sk-top-container\"><div class=\"sk-text-repr-fallback\"><pre>Pipeline(steps=[(&#x27;pad&#x27;,\n",
       "                 FunctionTransformer(func=&lt;function np_pad_wrapper at 0x1634f1310&gt;,\n",
       "                                     kw_args={&#x27;max_len&#x27;: 64000})),\n",
       "                (&#x27;over_sampler&#x27;,\n",
       "                 AugmentingRandomOversampler(sampling_strategy=&#x27;minority&#x27;)),\n",
       "                (&#x27;mean_mfcc&#x27;,\n",
       "                 FunctionTransformer(func=&lt;function samples_to_mean_mfcc at 0x1635e2d30&gt;,\n",
       "                                     kw_args={&#x27;fmax&#x27;: 4000, &#x27;fmin&#x27;: 300})),\n",
       "                (&#x27;scaler&#x27;, StandardScaler()),\n",
       "                (&#x27;estimator&#x27;,\n",
       "                 XGB...\n",
       "                               gamma=0, gpu_id=-1, grow_policy=&#x27;depthwise&#x27;,\n",
       "                               importance_type=None, interaction_constraints=&#x27;&#x27;,\n",
       "                               learning_rate=0.025, max_bin=256,\n",
       "                               max_cat_to_onehot=4, max_delta_step=0,\n",
       "                               max_depth=8, max_leaves=0, min_child_weight=1,\n",
       "                               missing=nan, monotone_constraints=&#x27;()&#x27;,\n",
       "                               n_estimators=400, n_jobs=4, nthread=4,\n",
       "                               num_parallel_tree=1, objective=&#x27;multi:softmax&#x27;,\n",
       "                               predictor=&#x27;auto&#x27;, random_state=0, ...))])</pre><b>In a Jupyter environment, please rerun this cell to show the HTML representation or trust the notebook. <br />On GitHub, the HTML representation is unable to render, please try loading this page with nbviewer.org.</b></div><div class=\"sk-container\" hidden><div class=\"sk-item sk-dashed-wrapped\"><div class=\"sk-label-container\"><div class=\"sk-label sk-toggleable\"><input class=\"sk-toggleable__control sk-hidden--visually\" id=\"sk-estimator-id-52\" type=\"checkbox\" ><label for=\"sk-estimator-id-52\" class=\"sk-toggleable__label sk-toggleable__label-arrow\">Pipeline</label><div class=\"sk-toggleable__content\"><pre>Pipeline(steps=[(&#x27;pad&#x27;,\n",
       "                 FunctionTransformer(func=&lt;function np_pad_wrapper at 0x1634f1310&gt;,\n",
       "                                     kw_args={&#x27;max_len&#x27;: 64000})),\n",
       "                (&#x27;over_sampler&#x27;,\n",
       "                 AugmentingRandomOversampler(sampling_strategy=&#x27;minority&#x27;)),\n",
       "                (&#x27;mean_mfcc&#x27;,\n",
       "                 FunctionTransformer(func=&lt;function samples_to_mean_mfcc at 0x1635e2d30&gt;,\n",
       "                                     kw_args={&#x27;fmax&#x27;: 4000, &#x27;fmin&#x27;: 300})),\n",
       "                (&#x27;scaler&#x27;, StandardScaler()),\n",
       "                (&#x27;estimator&#x27;,\n",
       "                 XGB...\n",
       "                               gamma=0, gpu_id=-1, grow_policy=&#x27;depthwise&#x27;,\n",
       "                               importance_type=None, interaction_constraints=&#x27;&#x27;,\n",
       "                               learning_rate=0.025, max_bin=256,\n",
       "                               max_cat_to_onehot=4, max_delta_step=0,\n",
       "                               max_depth=8, max_leaves=0, min_child_weight=1,\n",
       "                               missing=nan, monotone_constraints=&#x27;()&#x27;,\n",
       "                               n_estimators=400, n_jobs=4, nthread=4,\n",
       "                               num_parallel_tree=1, objective=&#x27;multi:softmax&#x27;,\n",
       "                               predictor=&#x27;auto&#x27;, random_state=0, ...))])</pre></div></div></div><div class=\"sk-serial\"><div class=\"sk-item\"><div class=\"sk-estimator sk-toggleable\"><input class=\"sk-toggleable__control sk-hidden--visually\" id=\"sk-estimator-id-53\" type=\"checkbox\" ><label for=\"sk-estimator-id-53\" class=\"sk-toggleable__label sk-toggleable__label-arrow\">FunctionTransformer</label><div class=\"sk-toggleable__content\"><pre>FunctionTransformer(func=&lt;function np_pad_wrapper at 0x1634f1310&gt;,\n",
       "                    kw_args={&#x27;max_len&#x27;: 64000})</pre></div></div></div><div class=\"sk-item\"><div class=\"sk-estimator sk-toggleable\"><input class=\"sk-toggleable__control sk-hidden--visually\" id=\"sk-estimator-id-54\" type=\"checkbox\" ><label for=\"sk-estimator-id-54\" class=\"sk-toggleable__label sk-toggleable__label-arrow\">AugmentingRandomOversampler</label><div class=\"sk-toggleable__content\"><pre>AugmentingRandomOversampler(sampling_strategy=&#x27;minority&#x27;)</pre></div></div></div><div class=\"sk-item\"><div class=\"sk-estimator sk-toggleable\"><input class=\"sk-toggleable__control sk-hidden--visually\" id=\"sk-estimator-id-55\" type=\"checkbox\" ><label for=\"sk-estimator-id-55\" class=\"sk-toggleable__label sk-toggleable__label-arrow\">FunctionTransformer</label><div class=\"sk-toggleable__content\"><pre>FunctionTransformer(func=&lt;function samples_to_mean_mfcc at 0x1635e2d30&gt;,\n",
       "                    kw_args={&#x27;fmax&#x27;: 4000, &#x27;fmin&#x27;: 300})</pre></div></div></div><div class=\"sk-item\"><div class=\"sk-estimator sk-toggleable\"><input class=\"sk-toggleable__control sk-hidden--visually\" id=\"sk-estimator-id-56\" type=\"checkbox\" ><label for=\"sk-estimator-id-56\" class=\"sk-toggleable__label sk-toggleable__label-arrow\">StandardScaler</label><div class=\"sk-toggleable__content\"><pre>StandardScaler()</pre></div></div></div><div class=\"sk-item\"><div class=\"sk-estimator sk-toggleable\"><input class=\"sk-toggleable__control sk-hidden--visually\" id=\"sk-estimator-id-57\" type=\"checkbox\" ><label for=\"sk-estimator-id-57\" class=\"sk-toggleable__label sk-toggleable__label-arrow\">XGBClassifier</label><div class=\"sk-toggleable__content\"><pre>XGBClassifier(base_score=0.5, booster=&#x27;gbtree&#x27;, callbacks=None,\n",
       "              colsample_bylevel=1, colsample_bynode=1, colsample_bytree=1,\n",
       "              early_stopping_rounds=None, enable_categorical=False,\n",
       "              eval_metric=None, gamma=0, gpu_id=-1, grow_policy=&#x27;depthwise&#x27;,\n",
       "              importance_type=None, interaction_constraints=&#x27;&#x27;,\n",
       "              learning_rate=0.025, max_bin=256, max_cat_to_onehot=4,\n",
       "              max_delta_step=0, max_depth=8, max_leaves=0, min_child_weight=1,\n",
       "              missing=nan, monotone_constraints=&#x27;()&#x27;, n_estimators=400,\n",
       "              n_jobs=4, nthread=4, num_parallel_tree=1,\n",
       "              objective=&#x27;multi:softmax&#x27;, predictor=&#x27;auto&#x27;, random_state=0, ...)</pre></div></div></div></div></div></div></div>"
      ],
      "text/plain": [
       "Pipeline(steps=[('pad',\n",
       "                 FunctionTransformer(func=<function np_pad_wrapper at 0x1634f1310>,\n",
       "                                     kw_args={'max_len': 64000})),\n",
       "                ('over_sampler',\n",
       "                 AugmentingRandomOversampler(sampling_strategy='minority')),\n",
       "                ('mean_mfcc',\n",
       "                 FunctionTransformer(func=<function samples_to_mean_mfcc at 0x1635e2d30>,\n",
       "                                     kw_args={'fmax': 4000, 'fmin': 300})),\n",
       "                ('scaler', StandardScaler()),\n",
       "                ('estimator',\n",
       "                 XGB...\n",
       "                               gamma=0, gpu_id=-1, grow_policy='depthwise',\n",
       "                               importance_type=None, interaction_constraints='',\n",
       "                               learning_rate=0.025, max_bin=256,\n",
       "                               max_cat_to_onehot=4, max_delta_step=0,\n",
       "                               max_depth=8, max_leaves=0, min_child_weight=1,\n",
       "                               missing=nan, monotone_constraints='()',\n",
       "                               n_estimators=400, n_jobs=4, nthread=4,\n",
       "                               num_parallel_tree=1, objective='multi:softmax',\n",
       "                               predictor='auto', random_state=0, ...))])"
      ]
     },
     "execution_count": 83,
     "metadata": {},
     "output_type": "execute_result"
    }
   ],
   "source": [
    "%%time\n",
    "oversampled_pipe.fit(train_fold, train_y);"
   ]
  },
  {
   "cell_type": "code",
   "execution_count": 84,
   "id": "55c3ca37",
   "metadata": {},
   "outputs": [
    {
     "name": "stdout",
     "output_type": "stream",
     "text": [
      "              precision    recall  f1-score   support\n",
      "\n",
      "           1       0.39      0.34      0.36        59\n",
      "           7       0.91      0.92      0.91       765\n",
      "           8       0.82      0.80      0.81       166\n",
      "\n",
      "    accuracy                           0.87       990\n",
      "   macro avg       0.71      0.69      0.69       990\n",
      "weighted avg       0.86      0.87      0.86       990\n",
      "\n",
      "              precision    recall  f1-score   support\n",
      "\n",
      "           0       0.39      0.17      0.24       100\n",
      "           1       0.39      0.34      0.36        59\n",
      "           2       0.39      0.43      0.41       100\n",
      "           3       0.50      0.79      0.61       100\n",
      "           4       0.50      0.57      0.54       100\n",
      "           5       0.33      0.24      0.28       107\n",
      "           6       0.61      0.61      0.61        38\n",
      "           7       0.20      0.07      0.11       120\n",
      "           8       0.82      0.80      0.81       166\n",
      "           9       0.26      0.50      0.34       100\n",
      "\n",
      "    accuracy                           0.46       990\n",
      "   macro avg       0.44      0.45      0.43       990\n",
      "weighted avg       0.45      0.46      0.44       990\n",
      "\n"
     ]
    },
    {
     "data": {
      "text/html": [
       "<div>\n",
       "<style scoped>\n",
       "    .dataframe tbody tr th:only-of-type {\n",
       "        vertical-align: middle;\n",
       "    }\n",
       "\n",
       "    .dataframe tbody tr th {\n",
       "        vertical-align: top;\n",
       "    }\n",
       "\n",
       "    .dataframe thead th {\n",
       "        text-align: right;\n",
       "    }\n",
       "</style>\n",
       "<table border=\"1\" class=\"dataframe\">\n",
       "  <thead>\n",
       "    <tr style=\"text-align: right;\">\n",
       "      <th></th>\n",
       "      <th>0</th>\n",
       "      <th>1</th>\n",
       "      <th>2</th>\n",
       "      <th>3</th>\n",
       "      <th>4</th>\n",
       "      <th>5</th>\n",
       "      <th>6</th>\n",
       "      <th>7</th>\n",
       "      <th>8</th>\n",
       "      <th>9</th>\n",
       "    </tr>\n",
       "  </thead>\n",
       "  <tbody>\n",
       "    <tr>\n",
       "      <th>0</th>\n",
       "      <td>17</td>\n",
       "      <td>13</td>\n",
       "      <td>30</td>\n",
       "      <td>1</td>\n",
       "      <td>5</td>\n",
       "      <td>10</td>\n",
       "      <td>0</td>\n",
       "      <td>2</td>\n",
       "      <td>4</td>\n",
       "      <td>18</td>\n",
       "    </tr>\n",
       "    <tr>\n",
       "      <th>1</th>\n",
       "      <td>2</td>\n",
       "      <td>20</td>\n",
       "      <td>1</td>\n",
       "      <td>6</td>\n",
       "      <td>5</td>\n",
       "      <td>3</td>\n",
       "      <td>0</td>\n",
       "      <td>8</td>\n",
       "      <td>0</td>\n",
       "      <td>14</td>\n",
       "    </tr>\n",
       "    <tr>\n",
       "      <th>2</th>\n",
       "      <td>7</td>\n",
       "      <td>0</td>\n",
       "      <td>43</td>\n",
       "      <td>14</td>\n",
       "      <td>12</td>\n",
       "      <td>0</td>\n",
       "      <td>4</td>\n",
       "      <td>2</td>\n",
       "      <td>0</td>\n",
       "      <td>18</td>\n",
       "    </tr>\n",
       "    <tr>\n",
       "      <th>3</th>\n",
       "      <td>2</td>\n",
       "      <td>1</td>\n",
       "      <td>2</td>\n",
       "      <td>79</td>\n",
       "      <td>3</td>\n",
       "      <td>0</td>\n",
       "      <td>4</td>\n",
       "      <td>0</td>\n",
       "      <td>6</td>\n",
       "      <td>3</td>\n",
       "    </tr>\n",
       "    <tr>\n",
       "      <th>4</th>\n",
       "      <td>1</td>\n",
       "      <td>4</td>\n",
       "      <td>2</td>\n",
       "      <td>3</td>\n",
       "      <td>57</td>\n",
       "      <td>5</td>\n",
       "      <td>1</td>\n",
       "      <td>18</td>\n",
       "      <td>0</td>\n",
       "      <td>9</td>\n",
       "    </tr>\n",
       "    <tr>\n",
       "      <th>5</th>\n",
       "      <td>6</td>\n",
       "      <td>9</td>\n",
       "      <td>3</td>\n",
       "      <td>3</td>\n",
       "      <td>0</td>\n",
       "      <td>26</td>\n",
       "      <td>6</td>\n",
       "      <td>0</td>\n",
       "      <td>16</td>\n",
       "      <td>38</td>\n",
       "    </tr>\n",
       "    <tr>\n",
       "      <th>6</th>\n",
       "      <td>0</td>\n",
       "      <td>0</td>\n",
       "      <td>6</td>\n",
       "      <td>4</td>\n",
       "      <td>0</td>\n",
       "      <td>0</td>\n",
       "      <td>23</td>\n",
       "      <td>4</td>\n",
       "      <td>0</td>\n",
       "      <td>1</td>\n",
       "    </tr>\n",
       "    <tr>\n",
       "      <th>7</th>\n",
       "      <td>6</td>\n",
       "      <td>1</td>\n",
       "      <td>4</td>\n",
       "      <td>0</td>\n",
       "      <td>29</td>\n",
       "      <td>31</td>\n",
       "      <td>0</td>\n",
       "      <td>9</td>\n",
       "      <td>0</td>\n",
       "      <td>40</td>\n",
       "    </tr>\n",
       "    <tr>\n",
       "      <th>8</th>\n",
       "      <td>0</td>\n",
       "      <td>0</td>\n",
       "      <td>5</td>\n",
       "      <td>25</td>\n",
       "      <td>1</td>\n",
       "      <td>0</td>\n",
       "      <td>0</td>\n",
       "      <td>0</td>\n",
       "      <td>132</td>\n",
       "      <td>3</td>\n",
       "    </tr>\n",
       "    <tr>\n",
       "      <th>9</th>\n",
       "      <td>3</td>\n",
       "      <td>3</td>\n",
       "      <td>13</td>\n",
       "      <td>23</td>\n",
       "      <td>1</td>\n",
       "      <td>3</td>\n",
       "      <td>0</td>\n",
       "      <td>1</td>\n",
       "      <td>3</td>\n",
       "      <td>50</td>\n",
       "    </tr>\n",
       "  </tbody>\n",
       "</table>\n",
       "</div>"
      ],
      "text/plain": [
       "    0   1   2   3   4   5   6   7    8   9\n",
       "0  17  13  30   1   5  10   0   2    4  18\n",
       "1   2  20   1   6   5   3   0   8    0  14\n",
       "2   7   0  43  14  12   0   4   2    0  18\n",
       "3   2   1   2  79   3   0   4   0    6   3\n",
       "4   1   4   2   3  57   5   1  18    0   9\n",
       "5   6   9   3   3   0  26   6   0   16  38\n",
       "6   0   0   6   4   0   0  23   4    0   1\n",
       "7   6   1   4   0  29  31   0   9    0  40\n",
       "8   0   0   5  25   1   0   0   0  132   3\n",
       "9   3   3  13  23   1   3   0   1    3  50"
      ]
     },
     "execution_count": 84,
     "metadata": {},
     "output_type": "execute_result"
    }
   ],
   "source": [
    "xgb_ovsamp_val_pred = oversampled_pipe.predict(val_fold)\n",
    "print(classification_report(\n",
    "    combine_classes([1, 8], val_y),\n",
    "    combine_classes([1, 8], xgb_ovsamp_val_pred)\n",
    "))\n",
    "print(classification_report(\n",
    "     val_y, \n",
    "    xgb_ovsamp_val_pred))\n",
    "pd.DataFrame(confusion_matrix(val_y, xgb_ovsamp_val_pred),\n",
    "             index=[0,1,2,3,4,5,6,7,8,9], \n",
    "             columns=[0,1,2,3,4,5,6,7,8,9])"
   ]
  },
  {
   "cell_type": "markdown",
   "id": "b00e29e1",
   "metadata": {},
   "source": [
    "#### oversampled gridsearch"
   ]
  },
  {
   "cell_type": "code",
   "execution_count": 85,
   "id": "7a63f061",
   "metadata": {},
   "outputs": [
    {
     "data": {
      "text/plain": [
       "144"
      ]
     },
     "execution_count": 85,
     "metadata": {},
     "output_type": "execute_result"
    }
   ],
   "source": [
    "mean_mfcc_grid = []\n",
    "for n_mfcc in [13, 16, 20]:#range(13, 26):\n",
    "    for n_fft in range(256, 1025, 256):\n",
    "        for fmin in [0.0, 300.0, 500.0]: #50.0, 100.0, 200.0, 300.0, 400.0, 500.0]:\n",
    "            for fmax in [None, 3000.0, 4000.0, 5000.0]: #, 4000.0, 3000.0]:\n",
    "                mean_mfcc_grid.append({'sr':16000, 'n_mfcc': n_mfcc, 'n_fft': n_fft,\n",
    "                                       'hop_length': 128, 'fmin': fmin, 'fmax': fmax})\n",
    "len(mean_mfcc_grid)"
   ]
  },
  {
   "cell_type": "code",
   "execution_count": 86,
   "id": "e5fcadae",
   "metadata": {},
   "outputs": [],
   "source": [
    "xgb_grid = [\n",
    "    XGBClassifier(n_estimators=400, learning_rate=0.05, max_depth=8, objective='multi:softmax'),\n",
    "    XGBClassifier(n_estimators=400, learning_rate=0.025, max_depth=8, objective='multi:softmax')\n",
    "]"
   ]
  },
  {
   "cell_type": "code",
   "execution_count": 87,
   "id": "7609f8c5",
   "metadata": {},
   "outputs": [],
   "source": [
    "from sklearn.model_selection import GridSearchCV"
   ]
  },
  {
   "cell_type": "code",
   "execution_count": 91,
   "id": "5b8f3d99",
   "metadata": {},
   "outputs": [
    {
     "name": "stdout",
     "output_type": "stream",
     "text": [
      "Fitting 2 folds for each of 288 candidates, totalling 576 fits\n"
     ]
    },
    {
     "name": "stderr",
     "output_type": "stream",
     "text": [
      "/Users/axel/.pyenv/versions/3.8.12/envs/us8kdata/lib/python3.8/site-packages/librosa/util/decorators.py:88: UserWarning: Empty filters detected in mel frequency basis. Some channels will produce empty responses. Try increasing your sampling rate (and fmax) or reducing n_mels.\n",
      "  return f(*args, **kwargs)\n",
      "/Users/axel/.pyenv/versions/3.8.12/envs/us8kdata/lib/python3.8/site-packages/librosa/util/decorators.py:88: UserWarning: Empty filters detected in mel frequency basis. Some channels will produce empty responses. Try increasing your sampling rate (and fmax) or reducing n_mels.\n",
      "  return f(*args, **kwargs)\n"
     ]
    },
    {
     "name": "stdout",
     "output_type": "stream",
     "text": [
      "[CV] END estimator=XGBClassifier(base_score=None, booster=None, callbacks=None,\n",
      "              colsample_bylevel=None, colsample_bynode=None,\n",
      "              colsample_bytree=None, early_stopping_rounds=None,\n",
      "              enable_categorical=False, eval_metric=None, gamma=None,\n",
      "              gpu_id=None, grow_policy=None, importance_type=None,\n",
      "              interaction_constraints=None, learning_rate=0.05, max_bin=None,\n",
      "              max_cat_to_onehot=None, max_delta_step=None, max_depth=8,\n",
      "              max_leaves=None, min_child_weight=None, missing=nan,\n",
      "              monotone_constraints=None, n_estimators=400, n_jobs=None,\n",
      "              num_parallel_tree=None, objective='multi:softmax', predictor=None,\n",
      "              random_state=None, reg_alpha=None, ...), mean_mfcc__kw_args={'sr': 16000, 'n_mfcc': 13, 'n_fft': 256, 'hop_length': 128, 'fmin': 0.0, 'fmax': None}; total time=  51.1s\n"
     ]
    },
    {
     "name": "stderr",
     "output_type": "stream",
     "text": [
      "/Users/axel/.pyenv/versions/3.8.12/envs/us8kdata/lib/python3.8/site-packages/librosa/util/decorators.py:88: UserWarning: Empty filters detected in mel frequency basis. Some channels will produce empty responses. Try increasing your sampling rate (and fmax) or reducing n_mels.\n",
      "  return f(*args, **kwargs)\n",
      "/Users/axel/.pyenv/versions/3.8.12/envs/us8kdata/lib/python3.8/site-packages/librosa/util/decorators.py:88: UserWarning: Empty filters detected in mel frequency basis. Some channels will produce empty responses. Try increasing your sampling rate (and fmax) or reducing n_mels.\n",
      "  return f(*args, **kwargs)\n"
     ]
    },
    {
     "name": "stdout",
     "output_type": "stream",
     "text": [
      "[CV] END estimator=XGBClassifier(base_score=None, booster=None, callbacks=None,\n",
      "              colsample_bylevel=None, colsample_bynode=None,\n",
      "              colsample_bytree=None, early_stopping_rounds=None,\n",
      "              enable_categorical=False, eval_metric=None, gamma=None,\n",
      "              gpu_id=None, grow_policy=None, importance_type=None,\n",
      "              interaction_constraints=None, learning_rate=0.05, max_bin=None,\n",
      "              max_cat_to_onehot=None, max_delta_step=None, max_depth=8,\n",
      "              max_leaves=None, min_child_weight=None, missing=nan,\n",
      "              monotone_constraints=None, n_estimators=400, n_jobs=None,\n",
      "              num_parallel_tree=None, objective='multi:softmax', predictor=None,\n",
      "              random_state=None, reg_alpha=None, ...), mean_mfcc__kw_args={'sr': 16000, 'n_mfcc': 13, 'n_fft': 256, 'hop_length': 128, 'fmin': 0.0, 'fmax': None}; total time=  50.5s\n"
     ]
    },
    {
     "name": "stderr",
     "output_type": "stream",
     "text": [
      "/Users/axel/.pyenv/versions/3.8.12/envs/us8kdata/lib/python3.8/site-packages/librosa/util/decorators.py:88: UserWarning: Empty filters detected in mel frequency basis. Some channels will produce empty responses. Try increasing your sampling rate (and fmax) or reducing n_mels.\n",
      "  return f(*args, **kwargs)\n",
      "/Users/axel/.pyenv/versions/3.8.12/envs/us8kdata/lib/python3.8/site-packages/librosa/util/decorators.py:88: UserWarning: Empty filters detected in mel frequency basis. Some channels will produce empty responses. Try increasing your sampling rate (and fmax) or reducing n_mels.\n",
      "  return f(*args, **kwargs)\n"
     ]
    },
    {
     "name": "stdout",
     "output_type": "stream",
     "text": [
      "[CV] END estimator=XGBClassifier(base_score=None, booster=None, callbacks=None,\n",
      "              colsample_bylevel=None, colsample_bynode=None,\n",
      "              colsample_bytree=None, early_stopping_rounds=None,\n",
      "              enable_categorical=False, eval_metric=None, gamma=None,\n",
      "              gpu_id=None, grow_policy=None, importance_type=None,\n",
      "              interaction_constraints=None, learning_rate=0.05, max_bin=None,\n",
      "              max_cat_to_onehot=None, max_delta_step=None, max_depth=8,\n",
      "              max_leaves=None, min_child_weight=None, missing=nan,\n",
      "              monotone_constraints=None, n_estimators=400, n_jobs=None,\n",
      "              num_parallel_tree=None, objective='multi:softmax', predictor=None,\n",
      "              random_state=None, reg_alpha=None, ...), mean_mfcc__kw_args={'sr': 16000, 'n_mfcc': 13, 'n_fft': 256, 'hop_length': 128, 'fmin': 0.0, 'fmax': 3000.0}; total time=  53.6s\n"
     ]
    },
    {
     "name": "stderr",
     "output_type": "stream",
     "text": [
      "/Users/axel/.pyenv/versions/3.8.12/envs/us8kdata/lib/python3.8/site-packages/librosa/util/decorators.py:88: UserWarning: Empty filters detected in mel frequency basis. Some channels will produce empty responses. Try increasing your sampling rate (and fmax) or reducing n_mels.\n",
      "  return f(*args, **kwargs)\n",
      "/Users/axel/.pyenv/versions/3.8.12/envs/us8kdata/lib/python3.8/site-packages/librosa/util/decorators.py:88: UserWarning: Empty filters detected in mel frequency basis. Some channels will produce empty responses. Try increasing your sampling rate (and fmax) or reducing n_mels.\n",
      "  return f(*args, **kwargs)\n"
     ]
    },
    {
     "name": "stdout",
     "output_type": "stream",
     "text": [
      "[CV] END estimator=XGBClassifier(base_score=None, booster=None, callbacks=None,\n",
      "              colsample_bylevel=None, colsample_bynode=None,\n",
      "              colsample_bytree=None, early_stopping_rounds=None,\n",
      "              enable_categorical=False, eval_metric=None, gamma=None,\n",
      "              gpu_id=None, grow_policy=None, importance_type=None,\n",
      "              interaction_constraints=None, learning_rate=0.05, max_bin=None,\n",
      "              max_cat_to_onehot=None, max_delta_step=None, max_depth=8,\n",
      "              max_leaves=None, min_child_weight=None, missing=nan,\n",
      "              monotone_constraints=None, n_estimators=400, n_jobs=None,\n",
      "              num_parallel_tree=None, objective='multi:softmax', predictor=None,\n",
      "              random_state=None, reg_alpha=None, ...), mean_mfcc__kw_args={'sr': 16000, 'n_mfcc': 13, 'n_fft': 256, 'hop_length': 128, 'fmin': 0.0, 'fmax': 3000.0}; total time=  56.1s\n"
     ]
    },
    {
     "name": "stderr",
     "output_type": "stream",
     "text": [
      "/Users/axel/.pyenv/versions/3.8.12/envs/us8kdata/lib/python3.8/site-packages/librosa/util/decorators.py:88: UserWarning: Empty filters detected in mel frequency basis. Some channels will produce empty responses. Try increasing your sampling rate (and fmax) or reducing n_mels.\n",
      "  return f(*args, **kwargs)\n",
      "/Users/axel/.pyenv/versions/3.8.12/envs/us8kdata/lib/python3.8/site-packages/librosa/util/decorators.py:88: UserWarning: Empty filters detected in mel frequency basis. Some channels will produce empty responses. Try increasing your sampling rate (and fmax) or reducing n_mels.\n",
      "  return f(*args, **kwargs)\n"
     ]
    },
    {
     "name": "stdout",
     "output_type": "stream",
     "text": [
      "[CV] END estimator=XGBClassifier(base_score=None, booster=None, callbacks=None,\n",
      "              colsample_bylevel=None, colsample_bynode=None,\n",
      "              colsample_bytree=None, early_stopping_rounds=None,\n",
      "              enable_categorical=False, eval_metric=None, gamma=None,\n",
      "              gpu_id=None, grow_policy=None, importance_type=None,\n",
      "              interaction_constraints=None, learning_rate=0.05, max_bin=None,\n",
      "              max_cat_to_onehot=None, max_delta_step=None, max_depth=8,\n",
      "              max_leaves=None, min_child_weight=None, missing=nan,\n",
      "              monotone_constraints=None, n_estimators=400, n_jobs=None,\n",
      "              num_parallel_tree=None, objective='multi:softmax', predictor=None,\n",
      "              random_state=None, reg_alpha=None, ...), mean_mfcc__kw_args={'sr': 16000, 'n_mfcc': 13, 'n_fft': 256, 'hop_length': 128, 'fmin': 0.0, 'fmax': 4000.0}; total time=  58.8s\n"
     ]
    },
    {
     "name": "stderr",
     "output_type": "stream",
     "text": [
      "/Users/axel/.pyenv/versions/3.8.12/envs/us8kdata/lib/python3.8/site-packages/librosa/util/decorators.py:88: UserWarning: Empty filters detected in mel frequency basis. Some channels will produce empty responses. Try increasing your sampling rate (and fmax) or reducing n_mels.\n",
      "  return f(*args, **kwargs)\n",
      "/Users/axel/.pyenv/versions/3.8.12/envs/us8kdata/lib/python3.8/site-packages/librosa/util/decorators.py:88: UserWarning: Empty filters detected in mel frequency basis. Some channels will produce empty responses. Try increasing your sampling rate (and fmax) or reducing n_mels.\n",
      "  return f(*args, **kwargs)\n"
     ]
    },
    {
     "name": "stdout",
     "output_type": "stream",
     "text": [
      "[CV] END estimator=XGBClassifier(base_score=None, booster=None, callbacks=None,\n",
      "              colsample_bylevel=None, colsample_bynode=None,\n",
      "              colsample_bytree=None, early_stopping_rounds=None,\n",
      "              enable_categorical=False, eval_metric=None, gamma=None,\n",
      "              gpu_id=None, grow_policy=None, importance_type=None,\n",
      "              interaction_constraints=None, learning_rate=0.05, max_bin=None,\n",
      "              max_cat_to_onehot=None, max_delta_step=None, max_depth=8,\n",
      "              max_leaves=None, min_child_weight=None, missing=nan,\n",
      "              monotone_constraints=None, n_estimators=400, n_jobs=None,\n",
      "              num_parallel_tree=None, objective='multi:softmax', predictor=None,\n",
      "              random_state=None, reg_alpha=None, ...), mean_mfcc__kw_args={'sr': 16000, 'n_mfcc': 13, 'n_fft': 256, 'hop_length': 128, 'fmin': 0.0, 'fmax': 4000.0}; total time=  55.7s\n"
     ]
    },
    {
     "name": "stderr",
     "output_type": "stream",
     "text": [
      "/Users/axel/.pyenv/versions/3.8.12/envs/us8kdata/lib/python3.8/site-packages/librosa/util/decorators.py:88: UserWarning: Empty filters detected in mel frequency basis. Some channels will produce empty responses. Try increasing your sampling rate (and fmax) or reducing n_mels.\n",
      "  return f(*args, **kwargs)\n",
      "/Users/axel/.pyenv/versions/3.8.12/envs/us8kdata/lib/python3.8/site-packages/librosa/util/decorators.py:88: UserWarning: Empty filters detected in mel frequency basis. Some channels will produce empty responses. Try increasing your sampling rate (and fmax) or reducing n_mels.\n",
      "  return f(*args, **kwargs)\n"
     ]
    },
    {
     "name": "stdout",
     "output_type": "stream",
     "text": [
      "[CV] END estimator=XGBClassifier(base_score=None, booster=None, callbacks=None,\n",
      "              colsample_bylevel=None, colsample_bynode=None,\n",
      "              colsample_bytree=None, early_stopping_rounds=None,\n",
      "              enable_categorical=False, eval_metric=None, gamma=None,\n",
      "              gpu_id=None, grow_policy=None, importance_type=None,\n",
      "              interaction_constraints=None, learning_rate=0.05, max_bin=None,\n",
      "              max_cat_to_onehot=None, max_delta_step=None, max_depth=8,\n",
      "              max_leaves=None, min_child_weight=None, missing=nan,\n",
      "              monotone_constraints=None, n_estimators=400, n_jobs=None,\n",
      "              num_parallel_tree=None, objective='multi:softmax', predictor=None,\n",
      "              random_state=None, reg_alpha=None, ...), mean_mfcc__kw_args={'sr': 16000, 'n_mfcc': 13, 'n_fft': 256, 'hop_length': 128, 'fmin': 0.0, 'fmax': 5000.0}; total time=  57.9s\n"
     ]
    },
    {
     "name": "stderr",
     "output_type": "stream",
     "text": [
      "/Users/axel/.pyenv/versions/3.8.12/envs/us8kdata/lib/python3.8/site-packages/librosa/util/decorators.py:88: UserWarning: Empty filters detected in mel frequency basis. Some channels will produce empty responses. Try increasing your sampling rate (and fmax) or reducing n_mels.\n",
      "  return f(*args, **kwargs)\n",
      "/Users/axel/.pyenv/versions/3.8.12/envs/us8kdata/lib/python3.8/site-packages/librosa/util/decorators.py:88: UserWarning: Empty filters detected in mel frequency basis. Some channels will produce empty responses. Try increasing your sampling rate (and fmax) or reducing n_mels.\n",
      "  return f(*args, **kwargs)\n"
     ]
    },
    {
     "name": "stdout",
     "output_type": "stream",
     "text": [
      "[CV] END estimator=XGBClassifier(base_score=None, booster=None, callbacks=None,\n",
      "              colsample_bylevel=None, colsample_bynode=None,\n",
      "              colsample_bytree=None, early_stopping_rounds=None,\n",
      "              enable_categorical=False, eval_metric=None, gamma=None,\n",
      "              gpu_id=None, grow_policy=None, importance_type=None,\n",
      "              interaction_constraints=None, learning_rate=0.05, max_bin=None,\n",
      "              max_cat_to_onehot=None, max_delta_step=None, max_depth=8,\n",
      "              max_leaves=None, min_child_weight=None, missing=nan,\n",
      "              monotone_constraints=None, n_estimators=400, n_jobs=None,\n",
      "              num_parallel_tree=None, objective='multi:softmax', predictor=None,\n",
      "              random_state=None, reg_alpha=None, ...), mean_mfcc__kw_args={'sr': 16000, 'n_mfcc': 13, 'n_fft': 256, 'hop_length': 128, 'fmin': 0.0, 'fmax': 5000.0}; total time=  57.7s\n"
     ]
    },
    {
     "name": "stderr",
     "output_type": "stream",
     "text": [
      "/Users/axel/.pyenv/versions/3.8.12/envs/us8kdata/lib/python3.8/site-packages/librosa/util/decorators.py:88: UserWarning: Empty filters detected in mel frequency basis. Some channels will produce empty responses. Try increasing your sampling rate (and fmax) or reducing n_mels.\n",
      "  return f(*args, **kwargs)\n",
      "/Users/axel/.pyenv/versions/3.8.12/envs/us8kdata/lib/python3.8/site-packages/librosa/util/decorators.py:88: UserWarning: Empty filters detected in mel frequency basis. Some channels will produce empty responses. Try increasing your sampling rate (and fmax) or reducing n_mels.\n",
      "  return f(*args, **kwargs)\n"
     ]
    },
    {
     "name": "stdout",
     "output_type": "stream",
     "text": [
      "[CV] END estimator=XGBClassifier(base_score=None, booster=None, callbacks=None,\n",
      "              colsample_bylevel=None, colsample_bynode=None,\n",
      "              colsample_bytree=None, early_stopping_rounds=None,\n",
      "              enable_categorical=False, eval_metric=None, gamma=None,\n",
      "              gpu_id=None, grow_policy=None, importance_type=None,\n",
      "              interaction_constraints=None, learning_rate=0.05, max_bin=None,\n",
      "              max_cat_to_onehot=None, max_delta_step=None, max_depth=8,\n",
      "              max_leaves=None, min_child_weight=None, missing=nan,\n",
      "              monotone_constraints=None, n_estimators=400, n_jobs=None,\n",
      "              num_parallel_tree=None, objective='multi:softmax', predictor=None,\n",
      "              random_state=None, reg_alpha=None, ...), mean_mfcc__kw_args={'sr': 16000, 'n_mfcc': 13, 'n_fft': 256, 'hop_length': 128, 'fmin': 300.0, 'fmax': None}; total time= 1.1min\n"
     ]
    },
    {
     "name": "stderr",
     "output_type": "stream",
     "text": [
      "/Users/axel/.pyenv/versions/3.8.12/envs/us8kdata/lib/python3.8/site-packages/librosa/util/decorators.py:88: UserWarning: Empty filters detected in mel frequency basis. Some channels will produce empty responses. Try increasing your sampling rate (and fmax) or reducing n_mels.\n",
      "  return f(*args, **kwargs)\n",
      "/Users/axel/.pyenv/versions/3.8.12/envs/us8kdata/lib/python3.8/site-packages/librosa/util/decorators.py:88: UserWarning: Empty filters detected in mel frequency basis. Some channels will produce empty responses. Try increasing your sampling rate (and fmax) or reducing n_mels.\n",
      "  return f(*args, **kwargs)\n"
     ]
    },
    {
     "name": "stdout",
     "output_type": "stream",
     "text": [
      "[CV] END estimator=XGBClassifier(base_score=None, booster=None, callbacks=None,\n",
      "              colsample_bylevel=None, colsample_bynode=None,\n",
      "              colsample_bytree=None, early_stopping_rounds=None,\n",
      "              enable_categorical=False, eval_metric=None, gamma=None,\n",
      "              gpu_id=None, grow_policy=None, importance_type=None,\n",
      "              interaction_constraints=None, learning_rate=0.05, max_bin=None,\n",
      "              max_cat_to_onehot=None, max_delta_step=None, max_depth=8,\n",
      "              max_leaves=None, min_child_weight=None, missing=nan,\n",
      "              monotone_constraints=None, n_estimators=400, n_jobs=None,\n",
      "              num_parallel_tree=None, objective='multi:softmax', predictor=None,\n",
      "              random_state=None, reg_alpha=None, ...), mean_mfcc__kw_args={'sr': 16000, 'n_mfcc': 13, 'n_fft': 256, 'hop_length': 128, 'fmin': 300.0, 'fmax': None}; total time=  59.6s\n"
     ]
    },
    {
     "name": "stderr",
     "output_type": "stream",
     "text": [
      "/Users/axel/.pyenv/versions/3.8.12/envs/us8kdata/lib/python3.8/site-packages/librosa/util/decorators.py:88: UserWarning: Empty filters detected in mel frequency basis. Some channels will produce empty responses. Try increasing your sampling rate (and fmax) or reducing n_mels.\n",
      "  return f(*args, **kwargs)\n",
      "/Users/axel/.pyenv/versions/3.8.12/envs/us8kdata/lib/python3.8/site-packages/librosa/util/decorators.py:88: UserWarning: Empty filters detected in mel frequency basis. Some channels will produce empty responses. Try increasing your sampling rate (and fmax) or reducing n_mels.\n",
      "  return f(*args, **kwargs)\n"
     ]
    },
    {
     "name": "stdout",
     "output_type": "stream",
     "text": [
      "[CV] END estimator=XGBClassifier(base_score=None, booster=None, callbacks=None,\n",
      "              colsample_bylevel=None, colsample_bynode=None,\n",
      "              colsample_bytree=None, early_stopping_rounds=None,\n",
      "              enable_categorical=False, eval_metric=None, gamma=None,\n",
      "              gpu_id=None, grow_policy=None, importance_type=None,\n",
      "              interaction_constraints=None, learning_rate=0.05, max_bin=None,\n",
      "              max_cat_to_onehot=None, max_delta_step=None, max_depth=8,\n",
      "              max_leaves=None, min_child_weight=None, missing=nan,\n",
      "              monotone_constraints=None, n_estimators=400, n_jobs=None,\n",
      "              num_parallel_tree=None, objective='multi:softmax', predictor=None,\n",
      "              random_state=None, reg_alpha=None, ...), mean_mfcc__kw_args={'sr': 16000, 'n_mfcc': 13, 'n_fft': 256, 'hop_length': 128, 'fmin': 300.0, 'fmax': 3000.0}; total time= 1.0min\n"
     ]
    },
    {
     "name": "stderr",
     "output_type": "stream",
     "text": [
      "/Users/axel/.pyenv/versions/3.8.12/envs/us8kdata/lib/python3.8/site-packages/librosa/util/decorators.py:88: UserWarning: Empty filters detected in mel frequency basis. Some channels will produce empty responses. Try increasing your sampling rate (and fmax) or reducing n_mels.\n",
      "  return f(*args, **kwargs)\n",
      "/Users/axel/.pyenv/versions/3.8.12/envs/us8kdata/lib/python3.8/site-packages/librosa/util/decorators.py:88: UserWarning: Empty filters detected in mel frequency basis. Some channels will produce empty responses. Try increasing your sampling rate (and fmax) or reducing n_mels.\n",
      "  return f(*args, **kwargs)\n"
     ]
    },
    {
     "name": "stdout",
     "output_type": "stream",
     "text": [
      "[CV] END estimator=XGBClassifier(base_score=None, booster=None, callbacks=None,\n",
      "              colsample_bylevel=None, colsample_bynode=None,\n",
      "              colsample_bytree=None, early_stopping_rounds=None,\n",
      "              enable_categorical=False, eval_metric=None, gamma=None,\n",
      "              gpu_id=None, grow_policy=None, importance_type=None,\n",
      "              interaction_constraints=None, learning_rate=0.05, max_bin=None,\n",
      "              max_cat_to_onehot=None, max_delta_step=None, max_depth=8,\n",
      "              max_leaves=None, min_child_weight=None, missing=nan,\n",
      "              monotone_constraints=None, n_estimators=400, n_jobs=None,\n",
      "              num_parallel_tree=None, objective='multi:softmax', predictor=None,\n",
      "              random_state=None, reg_alpha=None, ...), mean_mfcc__kw_args={'sr': 16000, 'n_mfcc': 13, 'n_fft': 256, 'hop_length': 128, 'fmin': 300.0, 'fmax': 3000.0}; total time= 1.1min\n"
     ]
    },
    {
     "name": "stderr",
     "output_type": "stream",
     "text": [
      "/Users/axel/.pyenv/versions/3.8.12/envs/us8kdata/lib/python3.8/site-packages/librosa/util/decorators.py:88: UserWarning: Empty filters detected in mel frequency basis. Some channels will produce empty responses. Try increasing your sampling rate (and fmax) or reducing n_mels.\n",
      "  return f(*args, **kwargs)\n",
      "/Users/axel/.pyenv/versions/3.8.12/envs/us8kdata/lib/python3.8/site-packages/librosa/util/decorators.py:88: UserWarning: Empty filters detected in mel frequency basis. Some channels will produce empty responses. Try increasing your sampling rate (and fmax) or reducing n_mels.\n",
      "  return f(*args, **kwargs)\n"
     ]
    },
    {
     "name": "stdout",
     "output_type": "stream",
     "text": [
      "[CV] END estimator=XGBClassifier(base_score=None, booster=None, callbacks=None,\n",
      "              colsample_bylevel=None, colsample_bynode=None,\n",
      "              colsample_bytree=None, early_stopping_rounds=None,\n",
      "              enable_categorical=False, eval_metric=None, gamma=None,\n",
      "              gpu_id=None, grow_policy=None, importance_type=None,\n",
      "              interaction_constraints=None, learning_rate=0.05, max_bin=None,\n",
      "              max_cat_to_onehot=None, max_delta_step=None, max_depth=8,\n",
      "              max_leaves=None, min_child_weight=None, missing=nan,\n",
      "              monotone_constraints=None, n_estimators=400, n_jobs=None,\n",
      "              num_parallel_tree=None, objective='multi:softmax', predictor=None,\n",
      "              random_state=None, reg_alpha=None, ...), mean_mfcc__kw_args={'sr': 16000, 'n_mfcc': 13, 'n_fft': 256, 'hop_length': 128, 'fmin': 300.0, 'fmax': 4000.0}; total time= 1.1min\n"
     ]
    },
    {
     "name": "stderr",
     "output_type": "stream",
     "text": [
      "/Users/axel/.pyenv/versions/3.8.12/envs/us8kdata/lib/python3.8/site-packages/librosa/util/decorators.py:88: UserWarning: Empty filters detected in mel frequency basis. Some channels will produce empty responses. Try increasing your sampling rate (and fmax) or reducing n_mels.\n",
      "  return f(*args, **kwargs)\n",
      "/Users/axel/.pyenv/versions/3.8.12/envs/us8kdata/lib/python3.8/site-packages/librosa/util/decorators.py:88: UserWarning: Empty filters detected in mel frequency basis. Some channels will produce empty responses. Try increasing your sampling rate (and fmax) or reducing n_mels.\n",
      "  return f(*args, **kwargs)\n"
     ]
    },
    {
     "name": "stdout",
     "output_type": "stream",
     "text": [
      "[CV] END estimator=XGBClassifier(base_score=None, booster=None, callbacks=None,\n",
      "              colsample_bylevel=None, colsample_bynode=None,\n",
      "              colsample_bytree=None, early_stopping_rounds=None,\n",
      "              enable_categorical=False, eval_metric=None, gamma=None,\n",
      "              gpu_id=None, grow_policy=None, importance_type=None,\n",
      "              interaction_constraints=None, learning_rate=0.05, max_bin=None,\n",
      "              max_cat_to_onehot=None, max_delta_step=None, max_depth=8,\n",
      "              max_leaves=None, min_child_weight=None, missing=nan,\n",
      "              monotone_constraints=None, n_estimators=400, n_jobs=None,\n",
      "              num_parallel_tree=None, objective='multi:softmax', predictor=None,\n",
      "              random_state=None, reg_alpha=None, ...), mean_mfcc__kw_args={'sr': 16000, 'n_mfcc': 13, 'n_fft': 256, 'hop_length': 128, 'fmin': 300.0, 'fmax': 4000.0}; total time= 1.1min\n"
     ]
    },
    {
     "name": "stderr",
     "output_type": "stream",
     "text": [
      "/Users/axel/.pyenv/versions/3.8.12/envs/us8kdata/lib/python3.8/site-packages/librosa/util/decorators.py:88: UserWarning: Empty filters detected in mel frequency basis. Some channels will produce empty responses. Try increasing your sampling rate (and fmax) or reducing n_mels.\n",
      "  return f(*args, **kwargs)\n",
      "/Users/axel/.pyenv/versions/3.8.12/envs/us8kdata/lib/python3.8/site-packages/librosa/util/decorators.py:88: UserWarning: Empty filters detected in mel frequency basis. Some channels will produce empty responses. Try increasing your sampling rate (and fmax) or reducing n_mels.\n",
      "  return f(*args, **kwargs)\n"
     ]
    },
    {
     "name": "stdout",
     "output_type": "stream",
     "text": [
      "[CV] END estimator=XGBClassifier(base_score=None, booster=None, callbacks=None,\n",
      "              colsample_bylevel=None, colsample_bynode=None,\n",
      "              colsample_bytree=None, early_stopping_rounds=None,\n",
      "              enable_categorical=False, eval_metric=None, gamma=None,\n",
      "              gpu_id=None, grow_policy=None, importance_type=None,\n",
      "              interaction_constraints=None, learning_rate=0.05, max_bin=None,\n",
      "              max_cat_to_onehot=None, max_delta_step=None, max_depth=8,\n",
      "              max_leaves=None, min_child_weight=None, missing=nan,\n",
      "              monotone_constraints=None, n_estimators=400, n_jobs=None,\n",
      "              num_parallel_tree=None, objective='multi:softmax', predictor=None,\n",
      "              random_state=None, reg_alpha=None, ...), mean_mfcc__kw_args={'sr': 16000, 'n_mfcc': 13, 'n_fft': 256, 'hop_length': 128, 'fmin': 300.0, 'fmax': 5000.0}; total time= 1.1min\n"
     ]
    },
    {
     "name": "stderr",
     "output_type": "stream",
     "text": [
      "/Users/axel/.pyenv/versions/3.8.12/envs/us8kdata/lib/python3.8/site-packages/librosa/util/decorators.py:88: UserWarning: Empty filters detected in mel frequency basis. Some channels will produce empty responses. Try increasing your sampling rate (and fmax) or reducing n_mels.\n",
      "  return f(*args, **kwargs)\n",
      "/Users/axel/.pyenv/versions/3.8.12/envs/us8kdata/lib/python3.8/site-packages/librosa/util/decorators.py:88: UserWarning: Empty filters detected in mel frequency basis. Some channels will produce empty responses. Try increasing your sampling rate (and fmax) or reducing n_mels.\n",
      "  return f(*args, **kwargs)\n"
     ]
    },
    {
     "name": "stdout",
     "output_type": "stream",
     "text": [
      "[CV] END estimator=XGBClassifier(base_score=None, booster=None, callbacks=None,\n",
      "              colsample_bylevel=None, colsample_bynode=None,\n",
      "              colsample_bytree=None, early_stopping_rounds=None,\n",
      "              enable_categorical=False, eval_metric=None, gamma=None,\n",
      "              gpu_id=None, grow_policy=None, importance_type=None,\n",
      "              interaction_constraints=None, learning_rate=0.05, max_bin=None,\n",
      "              max_cat_to_onehot=None, max_delta_step=None, max_depth=8,\n",
      "              max_leaves=None, min_child_weight=None, missing=nan,\n",
      "              monotone_constraints=None, n_estimators=400, n_jobs=None,\n",
      "              num_parallel_tree=None, objective='multi:softmax', predictor=None,\n",
      "              random_state=None, reg_alpha=None, ...), mean_mfcc__kw_args={'sr': 16000, 'n_mfcc': 13, 'n_fft': 256, 'hop_length': 128, 'fmin': 300.0, 'fmax': 5000.0}; total time= 1.1min\n"
     ]
    },
    {
     "name": "stderr",
     "output_type": "stream",
     "text": [
      "/Users/axel/.pyenv/versions/3.8.12/envs/us8kdata/lib/python3.8/site-packages/librosa/util/decorators.py:88: UserWarning: Empty filters detected in mel frequency basis. Some channels will produce empty responses. Try increasing your sampling rate (and fmax) or reducing n_mels.\n",
      "  return f(*args, **kwargs)\n",
      "/Users/axel/.pyenv/versions/3.8.12/envs/us8kdata/lib/python3.8/site-packages/librosa/util/decorators.py:88: UserWarning: Empty filters detected in mel frequency basis. Some channels will produce empty responses. Try increasing your sampling rate (and fmax) or reducing n_mels.\n",
      "  return f(*args, **kwargs)\n"
     ]
    },
    {
     "name": "stdout",
     "output_type": "stream",
     "text": [
      "[CV] END estimator=XGBClassifier(base_score=None, booster=None, callbacks=None,\n",
      "              colsample_bylevel=None, colsample_bynode=None,\n",
      "              colsample_bytree=None, early_stopping_rounds=None,\n",
      "              enable_categorical=False, eval_metric=None, gamma=None,\n",
      "              gpu_id=None, grow_policy=None, importance_type=None,\n",
      "              interaction_constraints=None, learning_rate=0.05, max_bin=None,\n",
      "              max_cat_to_onehot=None, max_delta_step=None, max_depth=8,\n",
      "              max_leaves=None, min_child_weight=None, missing=nan,\n",
      "              monotone_constraints=None, n_estimators=400, n_jobs=None,\n",
      "              num_parallel_tree=None, objective='multi:softmax', predictor=None,\n",
      "              random_state=None, reg_alpha=None, ...), mean_mfcc__kw_args={'sr': 16000, 'n_mfcc': 13, 'n_fft': 256, 'hop_length': 128, 'fmin': 500.0, 'fmax': None}; total time= 1.1min\n"
     ]
    },
    {
     "name": "stderr",
     "output_type": "stream",
     "text": [
      "/Users/axel/.pyenv/versions/3.8.12/envs/us8kdata/lib/python3.8/site-packages/librosa/util/decorators.py:88: UserWarning: Empty filters detected in mel frequency basis. Some channels will produce empty responses. Try increasing your sampling rate (and fmax) or reducing n_mels.\n",
      "  return f(*args, **kwargs)\n",
      "/Users/axel/.pyenv/versions/3.8.12/envs/us8kdata/lib/python3.8/site-packages/librosa/util/decorators.py:88: UserWarning: Empty filters detected in mel frequency basis. Some channels will produce empty responses. Try increasing your sampling rate (and fmax) or reducing n_mels.\n",
      "  return f(*args, **kwargs)\n"
     ]
    },
    {
     "name": "stdout",
     "output_type": "stream",
     "text": [
      "[CV] END estimator=XGBClassifier(base_score=None, booster=None, callbacks=None,\n",
      "              colsample_bylevel=None, colsample_bynode=None,\n",
      "              colsample_bytree=None, early_stopping_rounds=None,\n",
      "              enable_categorical=False, eval_metric=None, gamma=None,\n",
      "              gpu_id=None, grow_policy=None, importance_type=None,\n",
      "              interaction_constraints=None, learning_rate=0.05, max_bin=None,\n",
      "              max_cat_to_onehot=None, max_delta_step=None, max_depth=8,\n",
      "              max_leaves=None, min_child_weight=None, missing=nan,\n",
      "              monotone_constraints=None, n_estimators=400, n_jobs=None,\n",
      "              num_parallel_tree=None, objective='multi:softmax', predictor=None,\n",
      "              random_state=None, reg_alpha=None, ...), mean_mfcc__kw_args={'sr': 16000, 'n_mfcc': 13, 'n_fft': 256, 'hop_length': 128, 'fmin': 500.0, 'fmax': None}; total time= 1.0min\n"
     ]
    },
    {
     "name": "stderr",
     "output_type": "stream",
     "text": [
      "/Users/axel/.pyenv/versions/3.8.12/envs/us8kdata/lib/python3.8/site-packages/librosa/util/decorators.py:88: UserWarning: Empty filters detected in mel frequency basis. Some channels will produce empty responses. Try increasing your sampling rate (and fmax) or reducing n_mels.\n",
      "  return f(*args, **kwargs)\n",
      "/Users/axel/.pyenv/versions/3.8.12/envs/us8kdata/lib/python3.8/site-packages/librosa/util/decorators.py:88: UserWarning: Empty filters detected in mel frequency basis. Some channels will produce empty responses. Try increasing your sampling rate (and fmax) or reducing n_mels.\n",
      "  return f(*args, **kwargs)\n"
     ]
    },
    {
     "name": "stdout",
     "output_type": "stream",
     "text": [
      "[CV] END estimator=XGBClassifier(base_score=None, booster=None, callbacks=None,\n",
      "              colsample_bylevel=None, colsample_bynode=None,\n",
      "              colsample_bytree=None, early_stopping_rounds=None,\n",
      "              enable_categorical=False, eval_metric=None, gamma=None,\n",
      "              gpu_id=None, grow_policy=None, importance_type=None,\n",
      "              interaction_constraints=None, learning_rate=0.05, max_bin=None,\n",
      "              max_cat_to_onehot=None, max_delta_step=None, max_depth=8,\n",
      "              max_leaves=None, min_child_weight=None, missing=nan,\n",
      "              monotone_constraints=None, n_estimators=400, n_jobs=None,\n",
      "              num_parallel_tree=None, objective='multi:softmax', predictor=None,\n",
      "              random_state=None, reg_alpha=None, ...), mean_mfcc__kw_args={'sr': 16000, 'n_mfcc': 13, 'n_fft': 256, 'hop_length': 128, 'fmin': 500.0, 'fmax': 3000.0}; total time= 1.0min\n"
     ]
    },
    {
     "name": "stderr",
     "output_type": "stream",
     "text": [
      "/Users/axel/.pyenv/versions/3.8.12/envs/us8kdata/lib/python3.8/site-packages/librosa/util/decorators.py:88: UserWarning: Empty filters detected in mel frequency basis. Some channels will produce empty responses. Try increasing your sampling rate (and fmax) or reducing n_mels.\n",
      "  return f(*args, **kwargs)\n",
      "/Users/axel/.pyenv/versions/3.8.12/envs/us8kdata/lib/python3.8/site-packages/librosa/util/decorators.py:88: UserWarning: Empty filters detected in mel frequency basis. Some channels will produce empty responses. Try increasing your sampling rate (and fmax) or reducing n_mels.\n",
      "  return f(*args, **kwargs)\n"
     ]
    },
    {
     "name": "stdout",
     "output_type": "stream",
     "text": [
      "[CV] END estimator=XGBClassifier(base_score=None, booster=None, callbacks=None,\n",
      "              colsample_bylevel=None, colsample_bynode=None,\n",
      "              colsample_bytree=None, early_stopping_rounds=None,\n",
      "              enable_categorical=False, eval_metric=None, gamma=None,\n",
      "              gpu_id=None, grow_policy=None, importance_type=None,\n",
      "              interaction_constraints=None, learning_rate=0.05, max_bin=None,\n",
      "              max_cat_to_onehot=None, max_delta_step=None, max_depth=8,\n",
      "              max_leaves=None, min_child_weight=None, missing=nan,\n",
      "              monotone_constraints=None, n_estimators=400, n_jobs=None,\n",
      "              num_parallel_tree=None, objective='multi:softmax', predictor=None,\n",
      "              random_state=None, reg_alpha=None, ...), mean_mfcc__kw_args={'sr': 16000, 'n_mfcc': 13, 'n_fft': 256, 'hop_length': 128, 'fmin': 500.0, 'fmax': 3000.0}; total time= 1.0min\n"
     ]
    },
    {
     "name": "stderr",
     "output_type": "stream",
     "text": [
      "/Users/axel/.pyenv/versions/3.8.12/envs/us8kdata/lib/python3.8/site-packages/librosa/util/decorators.py:88: UserWarning: Empty filters detected in mel frequency basis. Some channels will produce empty responses. Try increasing your sampling rate (and fmax) or reducing n_mels.\n",
      "  return f(*args, **kwargs)\n",
      "/Users/axel/.pyenv/versions/3.8.12/envs/us8kdata/lib/python3.8/site-packages/librosa/util/decorators.py:88: UserWarning: Empty filters detected in mel frequency basis. Some channels will produce empty responses. Try increasing your sampling rate (and fmax) or reducing n_mels.\n",
      "  return f(*args, **kwargs)\n"
     ]
    },
    {
     "name": "stdout",
     "output_type": "stream",
     "text": [
      "[CV] END estimator=XGBClassifier(base_score=None, booster=None, callbacks=None,\n",
      "              colsample_bylevel=None, colsample_bynode=None,\n",
      "              colsample_bytree=None, early_stopping_rounds=None,\n",
      "              enable_categorical=False, eval_metric=None, gamma=None,\n",
      "              gpu_id=None, grow_policy=None, importance_type=None,\n",
      "              interaction_constraints=None, learning_rate=0.05, max_bin=None,\n",
      "              max_cat_to_onehot=None, max_delta_step=None, max_depth=8,\n",
      "              max_leaves=None, min_child_weight=None, missing=nan,\n",
      "              monotone_constraints=None, n_estimators=400, n_jobs=None,\n",
      "              num_parallel_tree=None, objective='multi:softmax', predictor=None,\n",
      "              random_state=None, reg_alpha=None, ...), mean_mfcc__kw_args={'sr': 16000, 'n_mfcc': 13, 'n_fft': 256, 'hop_length': 128, 'fmin': 500.0, 'fmax': 4000.0}; total time= 1.3min\n"
     ]
    },
    {
     "name": "stderr",
     "output_type": "stream",
     "text": [
      "/Users/axel/.pyenv/versions/3.8.12/envs/us8kdata/lib/python3.8/site-packages/librosa/util/decorators.py:88: UserWarning: Empty filters detected in mel frequency basis. Some channels will produce empty responses. Try increasing your sampling rate (and fmax) or reducing n_mels.\n",
      "  return f(*args, **kwargs)\n",
      "/Users/axel/.pyenv/versions/3.8.12/envs/us8kdata/lib/python3.8/site-packages/librosa/util/decorators.py:88: UserWarning: Empty filters detected in mel frequency basis. Some channels will produce empty responses. Try increasing your sampling rate (and fmax) or reducing n_mels.\n",
      "  return f(*args, **kwargs)\n"
     ]
    },
    {
     "name": "stdout",
     "output_type": "stream",
     "text": [
      "[CV] END estimator=XGBClassifier(base_score=None, booster=None, callbacks=None,\n",
      "              colsample_bylevel=None, colsample_bynode=None,\n",
      "              colsample_bytree=None, early_stopping_rounds=None,\n",
      "              enable_categorical=False, eval_metric=None, gamma=None,\n",
      "              gpu_id=None, grow_policy=None, importance_type=None,\n",
      "              interaction_constraints=None, learning_rate=0.05, max_bin=None,\n",
      "              max_cat_to_onehot=None, max_delta_step=None, max_depth=8,\n",
      "              max_leaves=None, min_child_weight=None, missing=nan,\n",
      "              monotone_constraints=None, n_estimators=400, n_jobs=None,\n",
      "              num_parallel_tree=None, objective='multi:softmax', predictor=None,\n",
      "              random_state=None, reg_alpha=None, ...), mean_mfcc__kw_args={'sr': 16000, 'n_mfcc': 13, 'n_fft': 256, 'hop_length': 128, 'fmin': 500.0, 'fmax': 4000.0}; total time= 1.6min\n"
     ]
    },
    {
     "name": "stderr",
     "output_type": "stream",
     "text": [
      "/Users/axel/.pyenv/versions/3.8.12/envs/us8kdata/lib/python3.8/site-packages/librosa/util/decorators.py:88: UserWarning: Empty filters detected in mel frequency basis. Some channels will produce empty responses. Try increasing your sampling rate (and fmax) or reducing n_mels.\n",
      "  return f(*args, **kwargs)\n",
      "/Users/axel/.pyenv/versions/3.8.12/envs/us8kdata/lib/python3.8/site-packages/librosa/util/decorators.py:88: UserWarning: Empty filters detected in mel frequency basis. Some channels will produce empty responses. Try increasing your sampling rate (and fmax) or reducing n_mels.\n",
      "  return f(*args, **kwargs)\n"
     ]
    },
    {
     "name": "stdout",
     "output_type": "stream",
     "text": [
      "[CV] END estimator=XGBClassifier(base_score=None, booster=None, callbacks=None,\n",
      "              colsample_bylevel=None, colsample_bynode=None,\n",
      "              colsample_bytree=None, early_stopping_rounds=None,\n",
      "              enable_categorical=False, eval_metric=None, gamma=None,\n",
      "              gpu_id=None, grow_policy=None, importance_type=None,\n",
      "              interaction_constraints=None, learning_rate=0.05, max_bin=None,\n",
      "              max_cat_to_onehot=None, max_delta_step=None, max_depth=8,\n",
      "              max_leaves=None, min_child_weight=None, missing=nan,\n",
      "              monotone_constraints=None, n_estimators=400, n_jobs=None,\n",
      "              num_parallel_tree=None, objective='multi:softmax', predictor=None,\n",
      "              random_state=None, reg_alpha=None, ...), mean_mfcc__kw_args={'sr': 16000, 'n_mfcc': 13, 'n_fft': 256, 'hop_length': 128, 'fmin': 500.0, 'fmax': 5000.0}; total time= 1.5min\n"
     ]
    },
    {
     "name": "stderr",
     "output_type": "stream",
     "text": [
      "/Users/axel/.pyenv/versions/3.8.12/envs/us8kdata/lib/python3.8/site-packages/librosa/util/decorators.py:88: UserWarning: Empty filters detected in mel frequency basis. Some channels will produce empty responses. Try increasing your sampling rate (and fmax) or reducing n_mels.\n",
      "  return f(*args, **kwargs)\n",
      "/Users/axel/.pyenv/versions/3.8.12/envs/us8kdata/lib/python3.8/site-packages/librosa/util/decorators.py:88: UserWarning: Empty filters detected in mel frequency basis. Some channels will produce empty responses. Try increasing your sampling rate (and fmax) or reducing n_mels.\n",
      "  return f(*args, **kwargs)\n"
     ]
    },
    {
     "name": "stdout",
     "output_type": "stream",
     "text": [
      "[CV] END estimator=XGBClassifier(base_score=None, booster=None, callbacks=None,\n",
      "              colsample_bylevel=None, colsample_bynode=None,\n",
      "              colsample_bytree=None, early_stopping_rounds=None,\n",
      "              enable_categorical=False, eval_metric=None, gamma=None,\n",
      "              gpu_id=None, grow_policy=None, importance_type=None,\n",
      "              interaction_constraints=None, learning_rate=0.05, max_bin=None,\n",
      "              max_cat_to_onehot=None, max_delta_step=None, max_depth=8,\n",
      "              max_leaves=None, min_child_weight=None, missing=nan,\n",
      "              monotone_constraints=None, n_estimators=400, n_jobs=None,\n",
      "              num_parallel_tree=None, objective='multi:softmax', predictor=None,\n",
      "              random_state=None, reg_alpha=None, ...), mean_mfcc__kw_args={'sr': 16000, 'n_mfcc': 13, 'n_fft': 256, 'hop_length': 128, 'fmin': 500.0, 'fmax': 5000.0}; total time= 1.6min\n",
      "[CV] END estimator=XGBClassifier(base_score=None, booster=None, callbacks=None,\n",
      "              colsample_bylevel=None, colsample_bynode=None,\n",
      "              colsample_bytree=None, early_stopping_rounds=None,\n",
      "              enable_categorical=False, eval_metric=None, gamma=None,\n",
      "              gpu_id=None, grow_policy=None, importance_type=None,\n",
      "              interaction_constraints=None, learning_rate=0.05, max_bin=None,\n",
      "              max_cat_to_onehot=None, max_delta_step=None, max_depth=8,\n",
      "              max_leaves=None, min_child_weight=None, missing=nan,\n",
      "              monotone_constraints=None, n_estimators=400, n_jobs=None,\n",
      "              num_parallel_tree=None, objective='multi:softmax', predictor=None,\n",
      "              random_state=None, reg_alpha=None, ...), mean_mfcc__kw_args={'sr': 16000, 'n_mfcc': 13, 'n_fft': 512, 'hop_length': 128, 'fmin': 0.0, 'fmax': None}; total time= 1.5min\n",
      "[CV] END estimator=XGBClassifier(base_score=None, booster=None, callbacks=None,\n",
      "              colsample_bylevel=None, colsample_bynode=None,\n",
      "              colsample_bytree=None, early_stopping_rounds=None,\n",
      "              enable_categorical=False, eval_metric=None, gamma=None,\n",
      "              gpu_id=None, grow_policy=None, importance_type=None,\n",
      "              interaction_constraints=None, learning_rate=0.05, max_bin=None,\n",
      "              max_cat_to_onehot=None, max_delta_step=None, max_depth=8,\n",
      "              max_leaves=None, min_child_weight=None, missing=nan,\n",
      "              monotone_constraints=None, n_estimators=400, n_jobs=None,\n",
      "              num_parallel_tree=None, objective='multi:softmax', predictor=None,\n",
      "              random_state=None, reg_alpha=None, ...), mean_mfcc__kw_args={'sr': 16000, 'n_mfcc': 13, 'n_fft': 512, 'hop_length': 128, 'fmin': 0.0, 'fmax': None}; total time= 1.5min\n",
      "[CV] END estimator=XGBClassifier(base_score=None, booster=None, callbacks=None,\n",
      "              colsample_bylevel=None, colsample_bynode=None,\n",
      "              colsample_bytree=None, early_stopping_rounds=None,\n",
      "              enable_categorical=False, eval_metric=None, gamma=None,\n",
      "              gpu_id=None, grow_policy=None, importance_type=None,\n",
      "              interaction_constraints=None, learning_rate=0.05, max_bin=None,\n",
      "              max_cat_to_onehot=None, max_delta_step=None, max_depth=8,\n",
      "              max_leaves=None, min_child_weight=None, missing=nan,\n",
      "              monotone_constraints=None, n_estimators=400, n_jobs=None,\n",
      "              num_parallel_tree=None, objective='multi:softmax', predictor=None,\n",
      "              random_state=None, reg_alpha=None, ...), mean_mfcc__kw_args={'sr': 16000, 'n_mfcc': 13, 'n_fft': 512, 'hop_length': 128, 'fmin': 0.0, 'fmax': 3000.0}; total time= 1.5min\n",
      "[CV] END estimator=XGBClassifier(base_score=None, booster=None, callbacks=None,\n",
      "              colsample_bylevel=None, colsample_bynode=None,\n",
      "              colsample_bytree=None, early_stopping_rounds=None,\n",
      "              enable_categorical=False, eval_metric=None, gamma=None,\n",
      "              gpu_id=None, grow_policy=None, importance_type=None,\n",
      "              interaction_constraints=None, learning_rate=0.05, max_bin=None,\n",
      "              max_cat_to_onehot=None, max_delta_step=None, max_depth=8,\n",
      "              max_leaves=None, min_child_weight=None, missing=nan,\n",
      "              monotone_constraints=None, n_estimators=400, n_jobs=None,\n",
      "              num_parallel_tree=None, objective='multi:softmax', predictor=None,\n",
      "              random_state=None, reg_alpha=None, ...), mean_mfcc__kw_args={'sr': 16000, 'n_mfcc': 13, 'n_fft': 512, 'hop_length': 128, 'fmin': 0.0, 'fmax': 3000.0}; total time= 1.4min\n",
      "[CV] END estimator=XGBClassifier(base_score=None, booster=None, callbacks=None,\n",
      "              colsample_bylevel=None, colsample_bynode=None,\n",
      "              colsample_bytree=None, early_stopping_rounds=None,\n",
      "              enable_categorical=False, eval_metric=None, gamma=None,\n",
      "              gpu_id=None, grow_policy=None, importance_type=None,\n",
      "              interaction_constraints=None, learning_rate=0.05, max_bin=None,\n",
      "              max_cat_to_onehot=None, max_delta_step=None, max_depth=8,\n",
      "              max_leaves=None, min_child_weight=None, missing=nan,\n",
      "              monotone_constraints=None, n_estimators=400, n_jobs=None,\n",
      "              num_parallel_tree=None, objective='multi:softmax', predictor=None,\n",
      "              random_state=None, reg_alpha=None, ...), mean_mfcc__kw_args={'sr': 16000, 'n_mfcc': 13, 'n_fft': 512, 'hop_length': 128, 'fmin': 0.0, 'fmax': 4000.0}; total time= 1.6min\n",
      "[CV] END estimator=XGBClassifier(base_score=None, booster=None, callbacks=None,\n",
      "              colsample_bylevel=None, colsample_bynode=None,\n",
      "              colsample_bytree=None, early_stopping_rounds=None,\n",
      "              enable_categorical=False, eval_metric=None, gamma=None,\n",
      "              gpu_id=None, grow_policy=None, importance_type=None,\n",
      "              interaction_constraints=None, learning_rate=0.05, max_bin=None,\n",
      "              max_cat_to_onehot=None, max_delta_step=None, max_depth=8,\n",
      "              max_leaves=None, min_child_weight=None, missing=nan,\n",
      "              monotone_constraints=None, n_estimators=400, n_jobs=None,\n",
      "              num_parallel_tree=None, objective='multi:softmax', predictor=None,\n",
      "              random_state=None, reg_alpha=None, ...), mean_mfcc__kw_args={'sr': 16000, 'n_mfcc': 13, 'n_fft': 512, 'hop_length': 128, 'fmin': 0.0, 'fmax': 4000.0}; total time= 1.4min\n",
      "[CV] END estimator=XGBClassifier(base_score=None, booster=None, callbacks=None,\n",
      "              colsample_bylevel=None, colsample_bynode=None,\n",
      "              colsample_bytree=None, early_stopping_rounds=None,\n",
      "              enable_categorical=False, eval_metric=None, gamma=None,\n",
      "              gpu_id=None, grow_policy=None, importance_type=None,\n",
      "              interaction_constraints=None, learning_rate=0.05, max_bin=None,\n",
      "              max_cat_to_onehot=None, max_delta_step=None, max_depth=8,\n",
      "              max_leaves=None, min_child_weight=None, missing=nan,\n",
      "              monotone_constraints=None, n_estimators=400, n_jobs=None,\n",
      "              num_parallel_tree=None, objective='multi:softmax', predictor=None,\n",
      "              random_state=None, reg_alpha=None, ...), mean_mfcc__kw_args={'sr': 16000, 'n_mfcc': 13, 'n_fft': 512, 'hop_length': 128, 'fmin': 0.0, 'fmax': 5000.0}; total time= 1.4min\n",
      "[CV] END estimator=XGBClassifier(base_score=None, booster=None, callbacks=None,\n",
      "              colsample_bylevel=None, colsample_bynode=None,\n",
      "              colsample_bytree=None, early_stopping_rounds=None,\n",
      "              enable_categorical=False, eval_metric=None, gamma=None,\n",
      "              gpu_id=None, grow_policy=None, importance_type=None,\n",
      "              interaction_constraints=None, learning_rate=0.05, max_bin=None,\n",
      "              max_cat_to_onehot=None, max_delta_step=None, max_depth=8,\n",
      "              max_leaves=None, min_child_weight=None, missing=nan,\n",
      "              monotone_constraints=None, n_estimators=400, n_jobs=None,\n",
      "              num_parallel_tree=None, objective='multi:softmax', predictor=None,\n",
      "              random_state=None, reg_alpha=None, ...), mean_mfcc__kw_args={'sr': 16000, 'n_mfcc': 13, 'n_fft': 512, 'hop_length': 128, 'fmin': 0.0, 'fmax': 5000.0}; total time= 1.4min\n",
      "[CV] END estimator=XGBClassifier(base_score=None, booster=None, callbacks=None,\n",
      "              colsample_bylevel=None, colsample_bynode=None,\n",
      "              colsample_bytree=None, early_stopping_rounds=None,\n",
      "              enable_categorical=False, eval_metric=None, gamma=None,\n",
      "              gpu_id=None, grow_policy=None, importance_type=None,\n",
      "              interaction_constraints=None, learning_rate=0.05, max_bin=None,\n",
      "              max_cat_to_onehot=None, max_delta_step=None, max_depth=8,\n",
      "              max_leaves=None, min_child_weight=None, missing=nan,\n",
      "              monotone_constraints=None, n_estimators=400, n_jobs=None,\n",
      "              num_parallel_tree=None, objective='multi:softmax', predictor=None,\n",
      "              random_state=None, reg_alpha=None, ...), mean_mfcc__kw_args={'sr': 16000, 'n_mfcc': 13, 'n_fft': 512, 'hop_length': 128, 'fmin': 300.0, 'fmax': None}; total time= 1.4min\n"
     ]
    },
    {
     "name": "stdout",
     "output_type": "stream",
     "text": [
      "[CV] END estimator=XGBClassifier(base_score=None, booster=None, callbacks=None,\n",
      "              colsample_bylevel=None, colsample_bynode=None,\n",
      "              colsample_bytree=None, early_stopping_rounds=None,\n",
      "              enable_categorical=False, eval_metric=None, gamma=None,\n",
      "              gpu_id=None, grow_policy=None, importance_type=None,\n",
      "              interaction_constraints=None, learning_rate=0.05, max_bin=None,\n",
      "              max_cat_to_onehot=None, max_delta_step=None, max_depth=8,\n",
      "              max_leaves=None, min_child_weight=None, missing=nan,\n",
      "              monotone_constraints=None, n_estimators=400, n_jobs=None,\n",
      "              num_parallel_tree=None, objective='multi:softmax', predictor=None,\n",
      "              random_state=None, reg_alpha=None, ...), mean_mfcc__kw_args={'sr': 16000, 'n_mfcc': 13, 'n_fft': 512, 'hop_length': 128, 'fmin': 300.0, 'fmax': None}; total time= 1.4min\n",
      "[CV] END estimator=XGBClassifier(base_score=None, booster=None, callbacks=None,\n",
      "              colsample_bylevel=None, colsample_bynode=None,\n",
      "              colsample_bytree=None, early_stopping_rounds=None,\n",
      "              enable_categorical=False, eval_metric=None, gamma=None,\n",
      "              gpu_id=None, grow_policy=None, importance_type=None,\n",
      "              interaction_constraints=None, learning_rate=0.05, max_bin=None,\n",
      "              max_cat_to_onehot=None, max_delta_step=None, max_depth=8,\n",
      "              max_leaves=None, min_child_weight=None, missing=nan,\n",
      "              monotone_constraints=None, n_estimators=400, n_jobs=None,\n",
      "              num_parallel_tree=None, objective='multi:softmax', predictor=None,\n",
      "              random_state=None, reg_alpha=None, ...), mean_mfcc__kw_args={'sr': 16000, 'n_mfcc': 13, 'n_fft': 512, 'hop_length': 128, 'fmin': 300.0, 'fmax': 3000.0}; total time= 1.4min\n",
      "[CV] END estimator=XGBClassifier(base_score=None, booster=None, callbacks=None,\n",
      "              colsample_bylevel=None, colsample_bynode=None,\n",
      "              colsample_bytree=None, early_stopping_rounds=None,\n",
      "              enable_categorical=False, eval_metric=None, gamma=None,\n",
      "              gpu_id=None, grow_policy=None, importance_type=None,\n",
      "              interaction_constraints=None, learning_rate=0.05, max_bin=None,\n",
      "              max_cat_to_onehot=None, max_delta_step=None, max_depth=8,\n",
      "              max_leaves=None, min_child_weight=None, missing=nan,\n",
      "              monotone_constraints=None, n_estimators=400, n_jobs=None,\n",
      "              num_parallel_tree=None, objective='multi:softmax', predictor=None,\n",
      "              random_state=None, reg_alpha=None, ...), mean_mfcc__kw_args={'sr': 16000, 'n_mfcc': 13, 'n_fft': 512, 'hop_length': 128, 'fmin': 300.0, 'fmax': 3000.0}; total time= 1.3min\n",
      "[CV] END estimator=XGBClassifier(base_score=None, booster=None, callbacks=None,\n",
      "              colsample_bylevel=None, colsample_bynode=None,\n",
      "              colsample_bytree=None, early_stopping_rounds=None,\n",
      "              enable_categorical=False, eval_metric=None, gamma=None,\n",
      "              gpu_id=None, grow_policy=None, importance_type=None,\n",
      "              interaction_constraints=None, learning_rate=0.05, max_bin=None,\n",
      "              max_cat_to_onehot=None, max_delta_step=None, max_depth=8,\n",
      "              max_leaves=None, min_child_weight=None, missing=nan,\n",
      "              monotone_constraints=None, n_estimators=400, n_jobs=None,\n",
      "              num_parallel_tree=None, objective='multi:softmax', predictor=None,\n",
      "              random_state=None, reg_alpha=None, ...), mean_mfcc__kw_args={'sr': 16000, 'n_mfcc': 13, 'n_fft': 512, 'hop_length': 128, 'fmin': 300.0, 'fmax': 4000.0}; total time= 1.4min\n",
      "[CV] END estimator=XGBClassifier(base_score=None, booster=None, callbacks=None,\n",
      "              colsample_bylevel=None, colsample_bynode=None,\n",
      "              colsample_bytree=None, early_stopping_rounds=None,\n",
      "              enable_categorical=False, eval_metric=None, gamma=None,\n",
      "              gpu_id=None, grow_policy=None, importance_type=None,\n",
      "              interaction_constraints=None, learning_rate=0.05, max_bin=None,\n",
      "              max_cat_to_onehot=None, max_delta_step=None, max_depth=8,\n",
      "              max_leaves=None, min_child_weight=None, missing=nan,\n",
      "              monotone_constraints=None, n_estimators=400, n_jobs=None,\n",
      "              num_parallel_tree=None, objective='multi:softmax', predictor=None,\n",
      "              random_state=None, reg_alpha=None, ...), mean_mfcc__kw_args={'sr': 16000, 'n_mfcc': 13, 'n_fft': 512, 'hop_length': 128, 'fmin': 300.0, 'fmax': 4000.0}; total time= 1.3min\n",
      "[CV] END estimator=XGBClassifier(base_score=None, booster=None, callbacks=None,\n",
      "              colsample_bylevel=None, colsample_bynode=None,\n",
      "              colsample_bytree=None, early_stopping_rounds=None,\n",
      "              enable_categorical=False, eval_metric=None, gamma=None,\n",
      "              gpu_id=None, grow_policy=None, importance_type=None,\n",
      "              interaction_constraints=None, learning_rate=0.05, max_bin=None,\n",
      "              max_cat_to_onehot=None, max_delta_step=None, max_depth=8,\n",
      "              max_leaves=None, min_child_weight=None, missing=nan,\n",
      "              monotone_constraints=None, n_estimators=400, n_jobs=None,\n",
      "              num_parallel_tree=None, objective='multi:softmax', predictor=None,\n",
      "              random_state=None, reg_alpha=None, ...), mean_mfcc__kw_args={'sr': 16000, 'n_mfcc': 13, 'n_fft': 512, 'hop_length': 128, 'fmin': 300.0, 'fmax': 5000.0}; total time= 1.3min\n",
      "[CV] END estimator=XGBClassifier(base_score=None, booster=None, callbacks=None,\n",
      "              colsample_bylevel=None, colsample_bynode=None,\n",
      "              colsample_bytree=None, early_stopping_rounds=None,\n",
      "              enable_categorical=False, eval_metric=None, gamma=None,\n",
      "              gpu_id=None, grow_policy=None, importance_type=None,\n",
      "              interaction_constraints=None, learning_rate=0.05, max_bin=None,\n",
      "              max_cat_to_onehot=None, max_delta_step=None, max_depth=8,\n",
      "              max_leaves=None, min_child_weight=None, missing=nan,\n",
      "              monotone_constraints=None, n_estimators=400, n_jobs=None,\n",
      "              num_parallel_tree=None, objective='multi:softmax', predictor=None,\n",
      "              random_state=None, reg_alpha=None, ...), mean_mfcc__kw_args={'sr': 16000, 'n_mfcc': 13, 'n_fft': 512, 'hop_length': 128, 'fmin': 300.0, 'fmax': 5000.0}; total time= 1.3min\n",
      "[CV] END estimator=XGBClassifier(base_score=None, booster=None, callbacks=None,\n",
      "              colsample_bylevel=None, colsample_bynode=None,\n",
      "              colsample_bytree=None, early_stopping_rounds=None,\n",
      "              enable_categorical=False, eval_metric=None, gamma=None,\n",
      "              gpu_id=None, grow_policy=None, importance_type=None,\n",
      "              interaction_constraints=None, learning_rate=0.05, max_bin=None,\n",
      "              max_cat_to_onehot=None, max_delta_step=None, max_depth=8,\n",
      "              max_leaves=None, min_child_weight=None, missing=nan,\n",
      "              monotone_constraints=None, n_estimators=400, n_jobs=None,\n",
      "              num_parallel_tree=None, objective='multi:softmax', predictor=None,\n",
      "              random_state=None, reg_alpha=None, ...), mean_mfcc__kw_args={'sr': 16000, 'n_mfcc': 13, 'n_fft': 512, 'hop_length': 128, 'fmin': 500.0, 'fmax': None}; total time= 1.3min\n",
      "[CV] END estimator=XGBClassifier(base_score=None, booster=None, callbacks=None,\n",
      "              colsample_bylevel=None, colsample_bynode=None,\n",
      "              colsample_bytree=None, early_stopping_rounds=None,\n",
      "              enable_categorical=False, eval_metric=None, gamma=None,\n",
      "              gpu_id=None, grow_policy=None, importance_type=None,\n",
      "              interaction_constraints=None, learning_rate=0.05, max_bin=None,\n",
      "              max_cat_to_onehot=None, max_delta_step=None, max_depth=8,\n",
      "              max_leaves=None, min_child_weight=None, missing=nan,\n",
      "              monotone_constraints=None, n_estimators=400, n_jobs=None,\n",
      "              num_parallel_tree=None, objective='multi:softmax', predictor=None,\n",
      "              random_state=None, reg_alpha=None, ...), mean_mfcc__kw_args={'sr': 16000, 'n_mfcc': 13, 'n_fft': 512, 'hop_length': 128, 'fmin': 500.0, 'fmax': None}; total time= 1.3min\n",
      "[CV] END estimator=XGBClassifier(base_score=None, booster=None, callbacks=None,\n",
      "              colsample_bylevel=None, colsample_bynode=None,\n",
      "              colsample_bytree=None, early_stopping_rounds=None,\n",
      "              enable_categorical=False, eval_metric=None, gamma=None,\n",
      "              gpu_id=None, grow_policy=None, importance_type=None,\n",
      "              interaction_constraints=None, learning_rate=0.05, max_bin=None,\n",
      "              max_cat_to_onehot=None, max_delta_step=None, max_depth=8,\n",
      "              max_leaves=None, min_child_weight=None, missing=nan,\n",
      "              monotone_constraints=None, n_estimators=400, n_jobs=None,\n",
      "              num_parallel_tree=None, objective='multi:softmax', predictor=None,\n",
      "              random_state=None, reg_alpha=None, ...), mean_mfcc__kw_args={'sr': 16000, 'n_mfcc': 13, 'n_fft': 512, 'hop_length': 128, 'fmin': 500.0, 'fmax': 3000.0}; total time= 1.3min\n"
     ]
    },
    {
     "name": "stdout",
     "output_type": "stream",
     "text": [
      "[CV] END estimator=XGBClassifier(base_score=None, booster=None, callbacks=None,\n",
      "              colsample_bylevel=None, colsample_bynode=None,\n",
      "              colsample_bytree=None, early_stopping_rounds=None,\n",
      "              enable_categorical=False, eval_metric=None, gamma=None,\n",
      "              gpu_id=None, grow_policy=None, importance_type=None,\n",
      "              interaction_constraints=None, learning_rate=0.05, max_bin=None,\n",
      "              max_cat_to_onehot=None, max_delta_step=None, max_depth=8,\n",
      "              max_leaves=None, min_child_weight=None, missing=nan,\n",
      "              monotone_constraints=None, n_estimators=400, n_jobs=None,\n",
      "              num_parallel_tree=None, objective='multi:softmax', predictor=None,\n",
      "              random_state=None, reg_alpha=None, ...), mean_mfcc__kw_args={'sr': 16000, 'n_mfcc': 13, 'n_fft': 512, 'hop_length': 128, 'fmin': 500.0, 'fmax': 3000.0}; total time= 1.3min\n",
      "[CV] END estimator=XGBClassifier(base_score=None, booster=None, callbacks=None,\n",
      "              colsample_bylevel=None, colsample_bynode=None,\n",
      "              colsample_bytree=None, early_stopping_rounds=None,\n",
      "              enable_categorical=False, eval_metric=None, gamma=None,\n",
      "              gpu_id=None, grow_policy=None, importance_type=None,\n",
      "              interaction_constraints=None, learning_rate=0.05, max_bin=None,\n",
      "              max_cat_to_onehot=None, max_delta_step=None, max_depth=8,\n",
      "              max_leaves=None, min_child_weight=None, missing=nan,\n",
      "              monotone_constraints=None, n_estimators=400, n_jobs=None,\n",
      "              num_parallel_tree=None, objective='multi:softmax', predictor=None,\n",
      "              random_state=None, reg_alpha=None, ...), mean_mfcc__kw_args={'sr': 16000, 'n_mfcc': 13, 'n_fft': 512, 'hop_length': 128, 'fmin': 500.0, 'fmax': 4000.0}; total time= 1.3min\n",
      "[CV] END estimator=XGBClassifier(base_score=None, booster=None, callbacks=None,\n",
      "              colsample_bylevel=None, colsample_bynode=None,\n",
      "              colsample_bytree=None, early_stopping_rounds=None,\n",
      "              enable_categorical=False, eval_metric=None, gamma=None,\n",
      "              gpu_id=None, grow_policy=None, importance_type=None,\n",
      "              interaction_constraints=None, learning_rate=0.05, max_bin=None,\n",
      "              max_cat_to_onehot=None, max_delta_step=None, max_depth=8,\n",
      "              max_leaves=None, min_child_weight=None, missing=nan,\n",
      "              monotone_constraints=None, n_estimators=400, n_jobs=None,\n",
      "              num_parallel_tree=None, objective='multi:softmax', predictor=None,\n",
      "              random_state=None, reg_alpha=None, ...), mean_mfcc__kw_args={'sr': 16000, 'n_mfcc': 13, 'n_fft': 512, 'hop_length': 128, 'fmin': 500.0, 'fmax': 4000.0}; total time= 1.3min\n",
      "[CV] END estimator=XGBClassifier(base_score=None, booster=None, callbacks=None,\n",
      "              colsample_bylevel=None, colsample_bynode=None,\n",
      "              colsample_bytree=None, early_stopping_rounds=None,\n",
      "              enable_categorical=False, eval_metric=None, gamma=None,\n",
      "              gpu_id=None, grow_policy=None, importance_type=None,\n",
      "              interaction_constraints=None, learning_rate=0.05, max_bin=None,\n",
      "              max_cat_to_onehot=None, max_delta_step=None, max_depth=8,\n",
      "              max_leaves=None, min_child_weight=None, missing=nan,\n",
      "              monotone_constraints=None, n_estimators=400, n_jobs=None,\n",
      "              num_parallel_tree=None, objective='multi:softmax', predictor=None,\n",
      "              random_state=None, reg_alpha=None, ...), mean_mfcc__kw_args={'sr': 16000, 'n_mfcc': 13, 'n_fft': 512, 'hop_length': 128, 'fmin': 500.0, 'fmax': 5000.0}; total time= 1.3min\n",
      "[CV] END estimator=XGBClassifier(base_score=None, booster=None, callbacks=None,\n",
      "              colsample_bylevel=None, colsample_bynode=None,\n",
      "              colsample_bytree=None, early_stopping_rounds=None,\n",
      "              enable_categorical=False, eval_metric=None, gamma=None,\n",
      "              gpu_id=None, grow_policy=None, importance_type=None,\n",
      "              interaction_constraints=None, learning_rate=0.05, max_bin=None,\n",
      "              max_cat_to_onehot=None, max_delta_step=None, max_depth=8,\n",
      "              max_leaves=None, min_child_weight=None, missing=nan,\n",
      "              monotone_constraints=None, n_estimators=400, n_jobs=None,\n",
      "              num_parallel_tree=None, objective='multi:softmax', predictor=None,\n",
      "              random_state=None, reg_alpha=None, ...), mean_mfcc__kw_args={'sr': 16000, 'n_mfcc': 13, 'n_fft': 512, 'hop_length': 128, 'fmin': 500.0, 'fmax': 5000.0}; total time= 1.3min\n",
      "[CV] END estimator=XGBClassifier(base_score=None, booster=None, callbacks=None,\n",
      "              colsample_bylevel=None, colsample_bynode=None,\n",
      "              colsample_bytree=None, early_stopping_rounds=None,\n",
      "              enable_categorical=False, eval_metric=None, gamma=None,\n",
      "              gpu_id=None, grow_policy=None, importance_type=None,\n",
      "              interaction_constraints=None, learning_rate=0.05, max_bin=None,\n",
      "              max_cat_to_onehot=None, max_delta_step=None, max_depth=8,\n",
      "              max_leaves=None, min_child_weight=None, missing=nan,\n",
      "              monotone_constraints=None, n_estimators=400, n_jobs=None,\n",
      "              num_parallel_tree=None, objective='multi:softmax', predictor=None,\n",
      "              random_state=None, reg_alpha=None, ...), mean_mfcc__kw_args={'sr': 16000, 'n_mfcc': 13, 'n_fft': 768, 'hop_length': 128, 'fmin': 0.0, 'fmax': None}; total time= 1.6min\n",
      "[CV] END estimator=XGBClassifier(base_score=None, booster=None, callbacks=None,\n",
      "              colsample_bylevel=None, colsample_bynode=None,\n",
      "              colsample_bytree=None, early_stopping_rounds=None,\n",
      "              enable_categorical=False, eval_metric=None, gamma=None,\n",
      "              gpu_id=None, grow_policy=None, importance_type=None,\n",
      "              interaction_constraints=None, learning_rate=0.05, max_bin=None,\n",
      "              max_cat_to_onehot=None, max_delta_step=None, max_depth=8,\n",
      "              max_leaves=None, min_child_weight=None, missing=nan,\n",
      "              monotone_constraints=None, n_estimators=400, n_jobs=None,\n",
      "              num_parallel_tree=None, objective='multi:softmax', predictor=None,\n",
      "              random_state=None, reg_alpha=None, ...), mean_mfcc__kw_args={'sr': 16000, 'n_mfcc': 13, 'n_fft': 768, 'hop_length': 128, 'fmin': 0.0, 'fmax': None}; total time= 1.2min\n",
      "[CV] END estimator=XGBClassifier(base_score=None, booster=None, callbacks=None,\n",
      "              colsample_bylevel=None, colsample_bynode=None,\n",
      "              colsample_bytree=None, early_stopping_rounds=None,\n",
      "              enable_categorical=False, eval_metric=None, gamma=None,\n",
      "              gpu_id=None, grow_policy=None, importance_type=None,\n",
      "              interaction_constraints=None, learning_rate=0.05, max_bin=None,\n",
      "              max_cat_to_onehot=None, max_delta_step=None, max_depth=8,\n",
      "              max_leaves=None, min_child_weight=None, missing=nan,\n",
      "              monotone_constraints=None, n_estimators=400, n_jobs=None,\n",
      "              num_parallel_tree=None, objective='multi:softmax', predictor=None,\n",
      "              random_state=None, reg_alpha=None, ...), mean_mfcc__kw_args={'sr': 16000, 'n_mfcc': 13, 'n_fft': 768, 'hop_length': 128, 'fmin': 0.0, 'fmax': 3000.0}; total time=  58.7s\n",
      "[CV] END estimator=XGBClassifier(base_score=None, booster=None, callbacks=None,\n",
      "              colsample_bylevel=None, colsample_bynode=None,\n",
      "              colsample_bytree=None, early_stopping_rounds=None,\n",
      "              enable_categorical=False, eval_metric=None, gamma=None,\n",
      "              gpu_id=None, grow_policy=None, importance_type=None,\n",
      "              interaction_constraints=None, learning_rate=0.05, max_bin=None,\n",
      "              max_cat_to_onehot=None, max_delta_step=None, max_depth=8,\n",
      "              max_leaves=None, min_child_weight=None, missing=nan,\n",
      "              monotone_constraints=None, n_estimators=400, n_jobs=None,\n",
      "              num_parallel_tree=None, objective='multi:softmax', predictor=None,\n",
      "              random_state=None, reg_alpha=None, ...), mean_mfcc__kw_args={'sr': 16000, 'n_mfcc': 13, 'n_fft': 768, 'hop_length': 128, 'fmin': 0.0, 'fmax': 3000.0}; total time=  54.9s\n",
      "[CV] END estimator=XGBClassifier(base_score=None, booster=None, callbacks=None,\n",
      "              colsample_bylevel=None, colsample_bynode=None,\n",
      "              colsample_bytree=None, early_stopping_rounds=None,\n",
      "              enable_categorical=False, eval_metric=None, gamma=None,\n",
      "              gpu_id=None, grow_policy=None, importance_type=None,\n",
      "              interaction_constraints=None, learning_rate=0.05, max_bin=None,\n",
      "              max_cat_to_onehot=None, max_delta_step=None, max_depth=8,\n",
      "              max_leaves=None, min_child_weight=None, missing=nan,\n",
      "              monotone_constraints=None, n_estimators=400, n_jobs=None,\n",
      "              num_parallel_tree=None, objective='multi:softmax', predictor=None,\n",
      "              random_state=None, reg_alpha=None, ...), mean_mfcc__kw_args={'sr': 16000, 'n_mfcc': 13, 'n_fft': 768, 'hop_length': 128, 'fmin': 0.0, 'fmax': 4000.0}; total time=  55.9s\n"
     ]
    },
    {
     "name": "stdout",
     "output_type": "stream",
     "text": [
      "[CV] END estimator=XGBClassifier(base_score=None, booster=None, callbacks=None,\n",
      "              colsample_bylevel=None, colsample_bynode=None,\n",
      "              colsample_bytree=None, early_stopping_rounds=None,\n",
      "              enable_categorical=False, eval_metric=None, gamma=None,\n",
      "              gpu_id=None, grow_policy=None, importance_type=None,\n",
      "              interaction_constraints=None, learning_rate=0.05, max_bin=None,\n",
      "              max_cat_to_onehot=None, max_delta_step=None, max_depth=8,\n",
      "              max_leaves=None, min_child_weight=None, missing=nan,\n",
      "              monotone_constraints=None, n_estimators=400, n_jobs=None,\n",
      "              num_parallel_tree=None, objective='multi:softmax', predictor=None,\n",
      "              random_state=None, reg_alpha=None, ...), mean_mfcc__kw_args={'sr': 16000, 'n_mfcc': 13, 'n_fft': 768, 'hop_length': 128, 'fmin': 0.0, 'fmax': 4000.0}; total time=  53.9s\n",
      "[CV] END estimator=XGBClassifier(base_score=None, booster=None, callbacks=None,\n",
      "              colsample_bylevel=None, colsample_bynode=None,\n",
      "              colsample_bytree=None, early_stopping_rounds=None,\n",
      "              enable_categorical=False, eval_metric=None, gamma=None,\n",
      "              gpu_id=None, grow_policy=None, importance_type=None,\n",
      "              interaction_constraints=None, learning_rate=0.05, max_bin=None,\n",
      "              max_cat_to_onehot=None, max_delta_step=None, max_depth=8,\n",
      "              max_leaves=None, min_child_weight=None, missing=nan,\n",
      "              monotone_constraints=None, n_estimators=400, n_jobs=None,\n",
      "              num_parallel_tree=None, objective='multi:softmax', predictor=None,\n",
      "              random_state=None, reg_alpha=None, ...), mean_mfcc__kw_args={'sr': 16000, 'n_mfcc': 13, 'n_fft': 768, 'hop_length': 128, 'fmin': 0.0, 'fmax': 5000.0}; total time=  54.2s\n",
      "[CV] END estimator=XGBClassifier(base_score=None, booster=None, callbacks=None,\n",
      "              colsample_bylevel=None, colsample_bynode=None,\n",
      "              colsample_bytree=None, early_stopping_rounds=None,\n",
      "              enable_categorical=False, eval_metric=None, gamma=None,\n",
      "              gpu_id=None, grow_policy=None, importance_type=None,\n",
      "              interaction_constraints=None, learning_rate=0.05, max_bin=None,\n",
      "              max_cat_to_onehot=None, max_delta_step=None, max_depth=8,\n",
      "              max_leaves=None, min_child_weight=None, missing=nan,\n",
      "              monotone_constraints=None, n_estimators=400, n_jobs=None,\n",
      "              num_parallel_tree=None, objective='multi:softmax', predictor=None,\n",
      "              random_state=None, reg_alpha=None, ...), mean_mfcc__kw_args={'sr': 16000, 'n_mfcc': 13, 'n_fft': 768, 'hop_length': 128, 'fmin': 0.0, 'fmax': 5000.0}; total time=  54.7s\n",
      "[CV] END estimator=XGBClassifier(base_score=None, booster=None, callbacks=None,\n",
      "              colsample_bylevel=None, colsample_bynode=None,\n",
      "              colsample_bytree=None, early_stopping_rounds=None,\n",
      "              enable_categorical=False, eval_metric=None, gamma=None,\n",
      "              gpu_id=None, grow_policy=None, importance_type=None,\n",
      "              interaction_constraints=None, learning_rate=0.05, max_bin=None,\n",
      "              max_cat_to_onehot=None, max_delta_step=None, max_depth=8,\n",
      "              max_leaves=None, min_child_weight=None, missing=nan,\n",
      "              monotone_constraints=None, n_estimators=400, n_jobs=None,\n",
      "              num_parallel_tree=None, objective='multi:softmax', predictor=None,\n",
      "              random_state=None, reg_alpha=None, ...), mean_mfcc__kw_args={'sr': 16000, 'n_mfcc': 13, 'n_fft': 768, 'hop_length': 128, 'fmin': 300.0, 'fmax': None}; total time=  55.7s\n",
      "[CV] END estimator=XGBClassifier(base_score=None, booster=None, callbacks=None,\n",
      "              colsample_bylevel=None, colsample_bynode=None,\n",
      "              colsample_bytree=None, early_stopping_rounds=None,\n",
      "              enable_categorical=False, eval_metric=None, gamma=None,\n",
      "              gpu_id=None, grow_policy=None, importance_type=None,\n",
      "              interaction_constraints=None, learning_rate=0.05, max_bin=None,\n",
      "              max_cat_to_onehot=None, max_delta_step=None, max_depth=8,\n",
      "              max_leaves=None, min_child_weight=None, missing=nan,\n",
      "              monotone_constraints=None, n_estimators=400, n_jobs=None,\n",
      "              num_parallel_tree=None, objective='multi:softmax', predictor=None,\n",
      "              random_state=None, reg_alpha=None, ...), mean_mfcc__kw_args={'sr': 16000, 'n_mfcc': 13, 'n_fft': 768, 'hop_length': 128, 'fmin': 300.0, 'fmax': None}; total time=  56.3s\n",
      "[CV] END estimator=XGBClassifier(base_score=None, booster=None, callbacks=None,\n",
      "              colsample_bylevel=None, colsample_bynode=None,\n",
      "              colsample_bytree=None, early_stopping_rounds=None,\n",
      "              enable_categorical=False, eval_metric=None, gamma=None,\n",
      "              gpu_id=None, grow_policy=None, importance_type=None,\n",
      "              interaction_constraints=None, learning_rate=0.05, max_bin=None,\n",
      "              max_cat_to_onehot=None, max_delta_step=None, max_depth=8,\n",
      "              max_leaves=None, min_child_weight=None, missing=nan,\n",
      "              monotone_constraints=None, n_estimators=400, n_jobs=None,\n",
      "              num_parallel_tree=None, objective='multi:softmax', predictor=None,\n",
      "              random_state=None, reg_alpha=None, ...), mean_mfcc__kw_args={'sr': 16000, 'n_mfcc': 13, 'n_fft': 768, 'hop_length': 128, 'fmin': 300.0, 'fmax': 3000.0}; total time=  54.6s\n",
      "[CV] END estimator=XGBClassifier(base_score=None, booster=None, callbacks=None,\n",
      "              colsample_bylevel=None, colsample_bynode=None,\n",
      "              colsample_bytree=None, early_stopping_rounds=None,\n",
      "              enable_categorical=False, eval_metric=None, gamma=None,\n",
      "              gpu_id=None, grow_policy=None, importance_type=None,\n",
      "              interaction_constraints=None, learning_rate=0.05, max_bin=None,\n",
      "              max_cat_to_onehot=None, max_delta_step=None, max_depth=8,\n",
      "              max_leaves=None, min_child_weight=None, missing=nan,\n",
      "              monotone_constraints=None, n_estimators=400, n_jobs=None,\n",
      "              num_parallel_tree=None, objective='multi:softmax', predictor=None,\n",
      "              random_state=None, reg_alpha=None, ...), mean_mfcc__kw_args={'sr': 16000, 'n_mfcc': 13, 'n_fft': 768, 'hop_length': 128, 'fmin': 300.0, 'fmax': 3000.0}; total time=  54.0s\n",
      "[CV] END estimator=XGBClassifier(base_score=None, booster=None, callbacks=None,\n",
      "              colsample_bylevel=None, colsample_bynode=None,\n",
      "              colsample_bytree=None, early_stopping_rounds=None,\n",
      "              enable_categorical=False, eval_metric=None, gamma=None,\n",
      "              gpu_id=None, grow_policy=None, importance_type=None,\n",
      "              interaction_constraints=None, learning_rate=0.05, max_bin=None,\n",
      "              max_cat_to_onehot=None, max_delta_step=None, max_depth=8,\n",
      "              max_leaves=None, min_child_weight=None, missing=nan,\n",
      "              monotone_constraints=None, n_estimators=400, n_jobs=None,\n",
      "              num_parallel_tree=None, objective='multi:softmax', predictor=None,\n",
      "              random_state=None, reg_alpha=None, ...), mean_mfcc__kw_args={'sr': 16000, 'n_mfcc': 13, 'n_fft': 768, 'hop_length': 128, 'fmin': 300.0, 'fmax': 4000.0}; total time=  55.4s\n",
      "[CV] END estimator=XGBClassifier(base_score=None, booster=None, callbacks=None,\n",
      "              colsample_bylevel=None, colsample_bynode=None,\n",
      "              colsample_bytree=None, early_stopping_rounds=None,\n",
      "              enable_categorical=False, eval_metric=None, gamma=None,\n",
      "              gpu_id=None, grow_policy=None, importance_type=None,\n",
      "              interaction_constraints=None, learning_rate=0.05, max_bin=None,\n",
      "              max_cat_to_onehot=None, max_delta_step=None, max_depth=8,\n",
      "              max_leaves=None, min_child_weight=None, missing=nan,\n",
      "              monotone_constraints=None, n_estimators=400, n_jobs=None,\n",
      "              num_parallel_tree=None, objective='multi:softmax', predictor=None,\n",
      "              random_state=None, reg_alpha=None, ...), mean_mfcc__kw_args={'sr': 16000, 'n_mfcc': 13, 'n_fft': 768, 'hop_length': 128, 'fmin': 300.0, 'fmax': 4000.0}; total time=  52.6s\n",
      "[CV] END estimator=XGBClassifier(base_score=None, booster=None, callbacks=None,\n",
      "              colsample_bylevel=None, colsample_bynode=None,\n",
      "              colsample_bytree=None, early_stopping_rounds=None,\n",
      "              enable_categorical=False, eval_metric=None, gamma=None,\n",
      "              gpu_id=None, grow_policy=None, importance_type=None,\n",
      "              interaction_constraints=None, learning_rate=0.05, max_bin=None,\n",
      "              max_cat_to_onehot=None, max_delta_step=None, max_depth=8,\n",
      "              max_leaves=None, min_child_weight=None, missing=nan,\n",
      "              monotone_constraints=None, n_estimators=400, n_jobs=None,\n",
      "              num_parallel_tree=None, objective='multi:softmax', predictor=None,\n",
      "              random_state=None, reg_alpha=None, ...), mean_mfcc__kw_args={'sr': 16000, 'n_mfcc': 13, 'n_fft': 768, 'hop_length': 128, 'fmin': 300.0, 'fmax': 5000.0}; total time=  54.9s\n"
     ]
    },
    {
     "name": "stdout",
     "output_type": "stream",
     "text": [
      "[CV] END estimator=XGBClassifier(base_score=None, booster=None, callbacks=None,\n",
      "              colsample_bylevel=None, colsample_bynode=None,\n",
      "              colsample_bytree=None, early_stopping_rounds=None,\n",
      "              enable_categorical=False, eval_metric=None, gamma=None,\n",
      "              gpu_id=None, grow_policy=None, importance_type=None,\n",
      "              interaction_constraints=None, learning_rate=0.05, max_bin=None,\n",
      "              max_cat_to_onehot=None, max_delta_step=None, max_depth=8,\n",
      "              max_leaves=None, min_child_weight=None, missing=nan,\n",
      "              monotone_constraints=None, n_estimators=400, n_jobs=None,\n",
      "              num_parallel_tree=None, objective='multi:softmax', predictor=None,\n",
      "              random_state=None, reg_alpha=None, ...), mean_mfcc__kw_args={'sr': 16000, 'n_mfcc': 13, 'n_fft': 768, 'hop_length': 128, 'fmin': 300.0, 'fmax': 5000.0}; total time=  52.8s\n",
      "[CV] END estimator=XGBClassifier(base_score=None, booster=None, callbacks=None,\n",
      "              colsample_bylevel=None, colsample_bynode=None,\n",
      "              colsample_bytree=None, early_stopping_rounds=None,\n",
      "              enable_categorical=False, eval_metric=None, gamma=None,\n",
      "              gpu_id=None, grow_policy=None, importance_type=None,\n",
      "              interaction_constraints=None, learning_rate=0.05, max_bin=None,\n",
      "              max_cat_to_onehot=None, max_delta_step=None, max_depth=8,\n",
      "              max_leaves=None, min_child_weight=None, missing=nan,\n",
      "              monotone_constraints=None, n_estimators=400, n_jobs=None,\n",
      "              num_parallel_tree=None, objective='multi:softmax', predictor=None,\n",
      "              random_state=None, reg_alpha=None, ...), mean_mfcc__kw_args={'sr': 16000, 'n_mfcc': 13, 'n_fft': 768, 'hop_length': 128, 'fmin': 500.0, 'fmax': None}; total time=  52.5s\n",
      "[CV] END estimator=XGBClassifier(base_score=None, booster=None, callbacks=None,\n",
      "              colsample_bylevel=None, colsample_bynode=None,\n",
      "              colsample_bytree=None, early_stopping_rounds=None,\n",
      "              enable_categorical=False, eval_metric=None, gamma=None,\n",
      "              gpu_id=None, grow_policy=None, importance_type=None,\n",
      "              interaction_constraints=None, learning_rate=0.05, max_bin=None,\n",
      "              max_cat_to_onehot=None, max_delta_step=None, max_depth=8,\n",
      "              max_leaves=None, min_child_weight=None, missing=nan,\n",
      "              monotone_constraints=None, n_estimators=400, n_jobs=None,\n",
      "              num_parallel_tree=None, objective='multi:softmax', predictor=None,\n",
      "              random_state=None, reg_alpha=None, ...), mean_mfcc__kw_args={'sr': 16000, 'n_mfcc': 13, 'n_fft': 768, 'hop_length': 128, 'fmin': 500.0, 'fmax': None}; total time=  52.7s\n",
      "[CV] END estimator=XGBClassifier(base_score=None, booster=None, callbacks=None,\n",
      "              colsample_bylevel=None, colsample_bynode=None,\n",
      "              colsample_bytree=None, early_stopping_rounds=None,\n",
      "              enable_categorical=False, eval_metric=None, gamma=None,\n",
      "              gpu_id=None, grow_policy=None, importance_type=None,\n",
      "              interaction_constraints=None, learning_rate=0.05, max_bin=None,\n",
      "              max_cat_to_onehot=None, max_delta_step=None, max_depth=8,\n",
      "              max_leaves=None, min_child_weight=None, missing=nan,\n",
      "              monotone_constraints=None, n_estimators=400, n_jobs=None,\n",
      "              num_parallel_tree=None, objective='multi:softmax', predictor=None,\n",
      "              random_state=None, reg_alpha=None, ...), mean_mfcc__kw_args={'sr': 16000, 'n_mfcc': 13, 'n_fft': 768, 'hop_length': 128, 'fmin': 500.0, 'fmax': 3000.0}; total time=  53.2s\n",
      "[CV] END estimator=XGBClassifier(base_score=None, booster=None, callbacks=None,\n",
      "              colsample_bylevel=None, colsample_bynode=None,\n",
      "              colsample_bytree=None, early_stopping_rounds=None,\n",
      "              enable_categorical=False, eval_metric=None, gamma=None,\n",
      "              gpu_id=None, grow_policy=None, importance_type=None,\n",
      "              interaction_constraints=None, learning_rate=0.05, max_bin=None,\n",
      "              max_cat_to_onehot=None, max_delta_step=None, max_depth=8,\n",
      "              max_leaves=None, min_child_weight=None, missing=nan,\n",
      "              monotone_constraints=None, n_estimators=400, n_jobs=None,\n",
      "              num_parallel_tree=None, objective='multi:softmax', predictor=None,\n",
      "              random_state=None, reg_alpha=None, ...), mean_mfcc__kw_args={'sr': 16000, 'n_mfcc': 13, 'n_fft': 768, 'hop_length': 128, 'fmin': 500.0, 'fmax': 3000.0}; total time=  53.4s\n",
      "[CV] END estimator=XGBClassifier(base_score=None, booster=None, callbacks=None,\n",
      "              colsample_bylevel=None, colsample_bynode=None,\n",
      "              colsample_bytree=None, early_stopping_rounds=None,\n",
      "              enable_categorical=False, eval_metric=None, gamma=None,\n",
      "              gpu_id=None, grow_policy=None, importance_type=None,\n",
      "              interaction_constraints=None, learning_rate=0.05, max_bin=None,\n",
      "              max_cat_to_onehot=None, max_delta_step=None, max_depth=8,\n",
      "              max_leaves=None, min_child_weight=None, missing=nan,\n",
      "              monotone_constraints=None, n_estimators=400, n_jobs=None,\n",
      "              num_parallel_tree=None, objective='multi:softmax', predictor=None,\n",
      "              random_state=None, reg_alpha=None, ...), mean_mfcc__kw_args={'sr': 16000, 'n_mfcc': 13, 'n_fft': 768, 'hop_length': 128, 'fmin': 500.0, 'fmax': 4000.0}; total time=  53.8s\n",
      "[CV] END estimator=XGBClassifier(base_score=None, booster=None, callbacks=None,\n",
      "              colsample_bylevel=None, colsample_bynode=None,\n",
      "              colsample_bytree=None, early_stopping_rounds=None,\n",
      "              enable_categorical=False, eval_metric=None, gamma=None,\n",
      "              gpu_id=None, grow_policy=None, importance_type=None,\n",
      "              interaction_constraints=None, learning_rate=0.05, max_bin=None,\n",
      "              max_cat_to_onehot=None, max_delta_step=None, max_depth=8,\n",
      "              max_leaves=None, min_child_weight=None, missing=nan,\n",
      "              monotone_constraints=None, n_estimators=400, n_jobs=None,\n",
      "              num_parallel_tree=None, objective='multi:softmax', predictor=None,\n",
      "              random_state=None, reg_alpha=None, ...), mean_mfcc__kw_args={'sr': 16000, 'n_mfcc': 13, 'n_fft': 768, 'hop_length': 128, 'fmin': 500.0, 'fmax': 4000.0}; total time=  55.1s\n",
      "[CV] END estimator=XGBClassifier(base_score=None, booster=None, callbacks=None,\n",
      "              colsample_bylevel=None, colsample_bynode=None,\n",
      "              colsample_bytree=None, early_stopping_rounds=None,\n",
      "              enable_categorical=False, eval_metric=None, gamma=None,\n",
      "              gpu_id=None, grow_policy=None, importance_type=None,\n",
      "              interaction_constraints=None, learning_rate=0.05, max_bin=None,\n",
      "              max_cat_to_onehot=None, max_delta_step=None, max_depth=8,\n",
      "              max_leaves=None, min_child_weight=None, missing=nan,\n",
      "              monotone_constraints=None, n_estimators=400, n_jobs=None,\n",
      "              num_parallel_tree=None, objective='multi:softmax', predictor=None,\n",
      "              random_state=None, reg_alpha=None, ...), mean_mfcc__kw_args={'sr': 16000, 'n_mfcc': 13, 'n_fft': 768, 'hop_length': 128, 'fmin': 500.0, 'fmax': 5000.0}; total time=  55.2s\n",
      "[CV] END estimator=XGBClassifier(base_score=None, booster=None, callbacks=None,\n",
      "              colsample_bylevel=None, colsample_bynode=None,\n",
      "              colsample_bytree=None, early_stopping_rounds=None,\n",
      "              enable_categorical=False, eval_metric=None, gamma=None,\n",
      "              gpu_id=None, grow_policy=None, importance_type=None,\n",
      "              interaction_constraints=None, learning_rate=0.05, max_bin=None,\n",
      "              max_cat_to_onehot=None, max_delta_step=None, max_depth=8,\n",
      "              max_leaves=None, min_child_weight=None, missing=nan,\n",
      "              monotone_constraints=None, n_estimators=400, n_jobs=None,\n",
      "              num_parallel_tree=None, objective='multi:softmax', predictor=None,\n",
      "              random_state=None, reg_alpha=None, ...), mean_mfcc__kw_args={'sr': 16000, 'n_mfcc': 13, 'n_fft': 768, 'hop_length': 128, 'fmin': 500.0, 'fmax': 5000.0}; total time=  53.9s\n"
     ]
    },
    {
     "name": "stderr",
     "output_type": "stream",
     "text": [
      "/Users/axel/.pyenv/versions/3.8.12/envs/us8kdata/lib/python3.8/site-packages/librosa/util/decorators.py:88: UserWarning: n_fft=1024 is too small for input signal of length=800\n",
      "  return f(*args, **kwargs)\n",
      "/Users/axel/.pyenv/versions/3.8.12/envs/us8kdata/lib/python3.8/site-packages/librosa/util/decorators.py:88: UserWarning: n_fft=1024 is too small for input signal of length=960\n",
      "  return f(*args, **kwargs)\n",
      "/Users/axel/.pyenv/versions/3.8.12/envs/us8kdata/lib/python3.8/site-packages/librosa/util/decorators.py:88: UserWarning: n_fft=1024 is too small for input signal of length=960\n",
      "  return f(*args, **kwargs)\n"
     ]
    },
    {
     "name": "stdout",
     "output_type": "stream",
     "text": [
      "[CV] END estimator=XGBClassifier(base_score=None, booster=None, callbacks=None,\n",
      "              colsample_bylevel=None, colsample_bynode=None,\n",
      "              colsample_bytree=None, early_stopping_rounds=None,\n",
      "              enable_categorical=False, eval_metric=None, gamma=None,\n",
      "              gpu_id=None, grow_policy=None, importance_type=None,\n",
      "              interaction_constraints=None, learning_rate=0.05, max_bin=None,\n",
      "              max_cat_to_onehot=None, max_delta_step=None, max_depth=8,\n",
      "              max_leaves=None, min_child_weight=None, missing=nan,\n",
      "              monotone_constraints=None, n_estimators=400, n_jobs=None,\n",
      "              num_parallel_tree=None, objective='multi:softmax', predictor=None,\n",
      "              random_state=None, reg_alpha=None, ...), mean_mfcc__kw_args={'sr': 16000, 'n_mfcc': 13, 'n_fft': 1024, 'hop_length': 128, 'fmin': 0.0, 'fmax': None}; total time= 1.1min\n"
     ]
    },
    {
     "name": "stderr",
     "output_type": "stream",
     "text": [
      "/Users/axel/.pyenv/versions/3.8.12/envs/us8kdata/lib/python3.8/site-packages/librosa/util/decorators.py:88: UserWarning: n_fft=1024 is too small for input signal of length=960\n",
      "  return f(*args, **kwargs)\n",
      "/Users/axel/.pyenv/versions/3.8.12/envs/us8kdata/lib/python3.8/site-packages/librosa/util/decorators.py:88: UserWarning: n_fft=1024 is too small for input signal of length=800\n",
      "  return f(*args, **kwargs)\n",
      "/Users/axel/.pyenv/versions/3.8.12/envs/us8kdata/lib/python3.8/site-packages/librosa/util/decorators.py:88: UserWarning: n_fft=1024 is too small for input signal of length=960\n",
      "  return f(*args, **kwargs)\n"
     ]
    },
    {
     "name": "stdout",
     "output_type": "stream",
     "text": [
      "[CV] END estimator=XGBClassifier(base_score=None, booster=None, callbacks=None,\n",
      "              colsample_bylevel=None, colsample_bynode=None,\n",
      "              colsample_bytree=None, early_stopping_rounds=None,\n",
      "              enable_categorical=False, eval_metric=None, gamma=None,\n",
      "              gpu_id=None, grow_policy=None, importance_type=None,\n",
      "              interaction_constraints=None, learning_rate=0.05, max_bin=None,\n",
      "              max_cat_to_onehot=None, max_delta_step=None, max_depth=8,\n",
      "              max_leaves=None, min_child_weight=None, missing=nan,\n",
      "              monotone_constraints=None, n_estimators=400, n_jobs=None,\n",
      "              num_parallel_tree=None, objective='multi:softmax', predictor=None,\n",
      "              random_state=None, reg_alpha=None, ...), mean_mfcc__kw_args={'sr': 16000, 'n_mfcc': 13, 'n_fft': 1024, 'hop_length': 128, 'fmin': 0.0, 'fmax': None}; total time= 1.0min\n"
     ]
    },
    {
     "name": "stderr",
     "output_type": "stream",
     "text": [
      "/Users/axel/.pyenv/versions/3.8.12/envs/us8kdata/lib/python3.8/site-packages/librosa/util/decorators.py:88: UserWarning: n_fft=1024 is too small for input signal of length=800\n",
      "  return f(*args, **kwargs)\n",
      "/Users/axel/.pyenv/versions/3.8.12/envs/us8kdata/lib/python3.8/site-packages/librosa/util/decorators.py:88: UserWarning: n_fft=1024 is too small for input signal of length=960\n",
      "  return f(*args, **kwargs)\n",
      "/Users/axel/.pyenv/versions/3.8.12/envs/us8kdata/lib/python3.8/site-packages/librosa/util/decorators.py:88: UserWarning: n_fft=1024 is too small for input signal of length=960\n",
      "  return f(*args, **kwargs)\n"
     ]
    },
    {
     "name": "stdout",
     "output_type": "stream",
     "text": [
      "[CV] END estimator=XGBClassifier(base_score=None, booster=None, callbacks=None,\n",
      "              colsample_bylevel=None, colsample_bynode=None,\n",
      "              colsample_bytree=None, early_stopping_rounds=None,\n",
      "              enable_categorical=False, eval_metric=None, gamma=None,\n",
      "              gpu_id=None, grow_policy=None, importance_type=None,\n",
      "              interaction_constraints=None, learning_rate=0.05, max_bin=None,\n",
      "              max_cat_to_onehot=None, max_delta_step=None, max_depth=8,\n",
      "              max_leaves=None, min_child_weight=None, missing=nan,\n",
      "              monotone_constraints=None, n_estimators=400, n_jobs=None,\n",
      "              num_parallel_tree=None, objective='multi:softmax', predictor=None,\n",
      "              random_state=None, reg_alpha=None, ...), mean_mfcc__kw_args={'sr': 16000, 'n_mfcc': 13, 'n_fft': 1024, 'hop_length': 128, 'fmin': 0.0, 'fmax': 3000.0}; total time= 1.1min\n"
     ]
    },
    {
     "name": "stderr",
     "output_type": "stream",
     "text": [
      "/Users/axel/.pyenv/versions/3.8.12/envs/us8kdata/lib/python3.8/site-packages/librosa/util/decorators.py:88: UserWarning: n_fft=1024 is too small for input signal of length=960\n",
      "  return f(*args, **kwargs)\n",
      "/Users/axel/.pyenv/versions/3.8.12/envs/us8kdata/lib/python3.8/site-packages/librosa/util/decorators.py:88: UserWarning: n_fft=1024 is too small for input signal of length=800\n",
      "  return f(*args, **kwargs)\n",
      "/Users/axel/.pyenv/versions/3.8.12/envs/us8kdata/lib/python3.8/site-packages/librosa/util/decorators.py:88: UserWarning: n_fft=1024 is too small for input signal of length=960\n",
      "  return f(*args, **kwargs)\n"
     ]
    },
    {
     "name": "stdout",
     "output_type": "stream",
     "text": [
      "[CV] END estimator=XGBClassifier(base_score=None, booster=None, callbacks=None,\n",
      "              colsample_bylevel=None, colsample_bynode=None,\n",
      "              colsample_bytree=None, early_stopping_rounds=None,\n",
      "              enable_categorical=False, eval_metric=None, gamma=None,\n",
      "              gpu_id=None, grow_policy=None, importance_type=None,\n",
      "              interaction_constraints=None, learning_rate=0.05, max_bin=None,\n",
      "              max_cat_to_onehot=None, max_delta_step=None, max_depth=8,\n",
      "              max_leaves=None, min_child_weight=None, missing=nan,\n",
      "              monotone_constraints=None, n_estimators=400, n_jobs=None,\n",
      "              num_parallel_tree=None, objective='multi:softmax', predictor=None,\n",
      "              random_state=None, reg_alpha=None, ...), mean_mfcc__kw_args={'sr': 16000, 'n_mfcc': 13, 'n_fft': 1024, 'hop_length': 128, 'fmin': 0.0, 'fmax': 3000.0}; total time= 1.0min\n"
     ]
    },
    {
     "name": "stderr",
     "output_type": "stream",
     "text": [
      "/Users/axel/.pyenv/versions/3.8.12/envs/us8kdata/lib/python3.8/site-packages/librosa/util/decorators.py:88: UserWarning: n_fft=1024 is too small for input signal of length=800\n",
      "  return f(*args, **kwargs)\n",
      "/Users/axel/.pyenv/versions/3.8.12/envs/us8kdata/lib/python3.8/site-packages/librosa/util/decorators.py:88: UserWarning: n_fft=1024 is too small for input signal of length=960\n",
      "  return f(*args, **kwargs)\n",
      "/Users/axel/.pyenv/versions/3.8.12/envs/us8kdata/lib/python3.8/site-packages/librosa/util/decorators.py:88: UserWarning: n_fft=1024 is too small for input signal of length=960\n",
      "  return f(*args, **kwargs)\n"
     ]
    },
    {
     "name": "stdout",
     "output_type": "stream",
     "text": [
      "[CV] END estimator=XGBClassifier(base_score=None, booster=None, callbacks=None,\n",
      "              colsample_bylevel=None, colsample_bynode=None,\n",
      "              colsample_bytree=None, early_stopping_rounds=None,\n",
      "              enable_categorical=False, eval_metric=None, gamma=None,\n",
      "              gpu_id=None, grow_policy=None, importance_type=None,\n",
      "              interaction_constraints=None, learning_rate=0.05, max_bin=None,\n",
      "              max_cat_to_onehot=None, max_delta_step=None, max_depth=8,\n",
      "              max_leaves=None, min_child_weight=None, missing=nan,\n",
      "              monotone_constraints=None, n_estimators=400, n_jobs=None,\n",
      "              num_parallel_tree=None, objective='multi:softmax', predictor=None,\n",
      "              random_state=None, reg_alpha=None, ...), mean_mfcc__kw_args={'sr': 16000, 'n_mfcc': 13, 'n_fft': 1024, 'hop_length': 128, 'fmin': 0.0, 'fmax': 4000.0}; total time= 1.1min\n"
     ]
    },
    {
     "name": "stderr",
     "output_type": "stream",
     "text": [
      "/Users/axel/.pyenv/versions/3.8.12/envs/us8kdata/lib/python3.8/site-packages/librosa/util/decorators.py:88: UserWarning: n_fft=1024 is too small for input signal of length=960\n",
      "  return f(*args, **kwargs)\n",
      "/Users/axel/.pyenv/versions/3.8.12/envs/us8kdata/lib/python3.8/site-packages/librosa/util/decorators.py:88: UserWarning: n_fft=1024 is too small for input signal of length=800\n",
      "  return f(*args, **kwargs)\n",
      "/Users/axel/.pyenv/versions/3.8.12/envs/us8kdata/lib/python3.8/site-packages/librosa/util/decorators.py:88: UserWarning: n_fft=1024 is too small for input signal of length=960\n",
      "  return f(*args, **kwargs)\n"
     ]
    },
    {
     "name": "stdout",
     "output_type": "stream",
     "text": [
      "[CV] END estimator=XGBClassifier(base_score=None, booster=None, callbacks=None,\n",
      "              colsample_bylevel=None, colsample_bynode=None,\n",
      "              colsample_bytree=None, early_stopping_rounds=None,\n",
      "              enable_categorical=False, eval_metric=None, gamma=None,\n",
      "              gpu_id=None, grow_policy=None, importance_type=None,\n",
      "              interaction_constraints=None, learning_rate=0.05, max_bin=None,\n",
      "              max_cat_to_onehot=None, max_delta_step=None, max_depth=8,\n",
      "              max_leaves=None, min_child_weight=None, missing=nan,\n",
      "              monotone_constraints=None, n_estimators=400, n_jobs=None,\n",
      "              num_parallel_tree=None, objective='multi:softmax', predictor=None,\n",
      "              random_state=None, reg_alpha=None, ...), mean_mfcc__kw_args={'sr': 16000, 'n_mfcc': 13, 'n_fft': 1024, 'hop_length': 128, 'fmin': 0.0, 'fmax': 4000.0}; total time= 1.0min\n"
     ]
    },
    {
     "name": "stderr",
     "output_type": "stream",
     "text": [
      "/Users/axel/.pyenv/versions/3.8.12/envs/us8kdata/lib/python3.8/site-packages/librosa/util/decorators.py:88: UserWarning: n_fft=1024 is too small for input signal of length=800\n",
      "  return f(*args, **kwargs)\n",
      "/Users/axel/.pyenv/versions/3.8.12/envs/us8kdata/lib/python3.8/site-packages/librosa/util/decorators.py:88: UserWarning: n_fft=1024 is too small for input signal of length=960\n",
      "  return f(*args, **kwargs)\n",
      "/Users/axel/.pyenv/versions/3.8.12/envs/us8kdata/lib/python3.8/site-packages/librosa/util/decorators.py:88: UserWarning: n_fft=1024 is too small for input signal of length=960\n",
      "  return f(*args, **kwargs)\n"
     ]
    },
    {
     "name": "stdout",
     "output_type": "stream",
     "text": [
      "[CV] END estimator=XGBClassifier(base_score=None, booster=None, callbacks=None,\n",
      "              colsample_bylevel=None, colsample_bynode=None,\n",
      "              colsample_bytree=None, early_stopping_rounds=None,\n",
      "              enable_categorical=False, eval_metric=None, gamma=None,\n",
      "              gpu_id=None, grow_policy=None, importance_type=None,\n",
      "              interaction_constraints=None, learning_rate=0.05, max_bin=None,\n",
      "              max_cat_to_onehot=None, max_delta_step=None, max_depth=8,\n",
      "              max_leaves=None, min_child_weight=None, missing=nan,\n",
      "              monotone_constraints=None, n_estimators=400, n_jobs=None,\n",
      "              num_parallel_tree=None, objective='multi:softmax', predictor=None,\n",
      "              random_state=None, reg_alpha=None, ...), mean_mfcc__kw_args={'sr': 16000, 'n_mfcc': 13, 'n_fft': 1024, 'hop_length': 128, 'fmin': 0.0, 'fmax': 5000.0}; total time= 1.0min\n"
     ]
    },
    {
     "name": "stderr",
     "output_type": "stream",
     "text": [
      "/Users/axel/.pyenv/versions/3.8.12/envs/us8kdata/lib/python3.8/site-packages/librosa/util/decorators.py:88: UserWarning: n_fft=1024 is too small for input signal of length=960\n",
      "  return f(*args, **kwargs)\n",
      "/Users/axel/.pyenv/versions/3.8.12/envs/us8kdata/lib/python3.8/site-packages/librosa/util/decorators.py:88: UserWarning: n_fft=1024 is too small for input signal of length=800\n",
      "  return f(*args, **kwargs)\n",
      "/Users/axel/.pyenv/versions/3.8.12/envs/us8kdata/lib/python3.8/site-packages/librosa/util/decorators.py:88: UserWarning: n_fft=1024 is too small for input signal of length=960\n",
      "  return f(*args, **kwargs)\n"
     ]
    },
    {
     "name": "stdout",
     "output_type": "stream",
     "text": [
      "[CV] END estimator=XGBClassifier(base_score=None, booster=None, callbacks=None,\n",
      "              colsample_bylevel=None, colsample_bynode=None,\n",
      "              colsample_bytree=None, early_stopping_rounds=None,\n",
      "              enable_categorical=False, eval_metric=None, gamma=None,\n",
      "              gpu_id=None, grow_policy=None, importance_type=None,\n",
      "              interaction_constraints=None, learning_rate=0.05, max_bin=None,\n",
      "              max_cat_to_onehot=None, max_delta_step=None, max_depth=8,\n",
      "              max_leaves=None, min_child_weight=None, missing=nan,\n",
      "              monotone_constraints=None, n_estimators=400, n_jobs=None,\n",
      "              num_parallel_tree=None, objective='multi:softmax', predictor=None,\n",
      "              random_state=None, reg_alpha=None, ...), mean_mfcc__kw_args={'sr': 16000, 'n_mfcc': 13, 'n_fft': 1024, 'hop_length': 128, 'fmin': 0.0, 'fmax': 5000.0}; total time= 1.0min\n"
     ]
    },
    {
     "name": "stderr",
     "output_type": "stream",
     "text": [
      "/Users/axel/.pyenv/versions/3.8.12/envs/us8kdata/lib/python3.8/site-packages/librosa/util/decorators.py:88: UserWarning: n_fft=1024 is too small for input signal of length=800\n",
      "  return f(*args, **kwargs)\n",
      "/Users/axel/.pyenv/versions/3.8.12/envs/us8kdata/lib/python3.8/site-packages/librosa/util/decorators.py:88: UserWarning: n_fft=1024 is too small for input signal of length=960\n",
      "  return f(*args, **kwargs)\n",
      "/Users/axel/.pyenv/versions/3.8.12/envs/us8kdata/lib/python3.8/site-packages/librosa/util/decorators.py:88: UserWarning: n_fft=1024 is too small for input signal of length=960\n",
      "  return f(*args, **kwargs)\n"
     ]
    },
    {
     "name": "stdout",
     "output_type": "stream",
     "text": [
      "[CV] END estimator=XGBClassifier(base_score=None, booster=None, callbacks=None,\n",
      "              colsample_bylevel=None, colsample_bynode=None,\n",
      "              colsample_bytree=None, early_stopping_rounds=None,\n",
      "              enable_categorical=False, eval_metric=None, gamma=None,\n",
      "              gpu_id=None, grow_policy=None, importance_type=None,\n",
      "              interaction_constraints=None, learning_rate=0.05, max_bin=None,\n",
      "              max_cat_to_onehot=None, max_delta_step=None, max_depth=8,\n",
      "              max_leaves=None, min_child_weight=None, missing=nan,\n",
      "              monotone_constraints=None, n_estimators=400, n_jobs=None,\n",
      "              num_parallel_tree=None, objective='multi:softmax', predictor=None,\n",
      "              random_state=None, reg_alpha=None, ...), mean_mfcc__kw_args={'sr': 16000, 'n_mfcc': 13, 'n_fft': 1024, 'hop_length': 128, 'fmin': 300.0, 'fmax': None}; total time= 1.1min\n"
     ]
    },
    {
     "name": "stderr",
     "output_type": "stream",
     "text": [
      "/Users/axel/.pyenv/versions/3.8.12/envs/us8kdata/lib/python3.8/site-packages/librosa/util/decorators.py:88: UserWarning: n_fft=1024 is too small for input signal of length=960\n",
      "  return f(*args, **kwargs)\n",
      "/Users/axel/.pyenv/versions/3.8.12/envs/us8kdata/lib/python3.8/site-packages/librosa/util/decorators.py:88: UserWarning: n_fft=1024 is too small for input signal of length=800\n",
      "  return f(*args, **kwargs)\n",
      "/Users/axel/.pyenv/versions/3.8.12/envs/us8kdata/lib/python3.8/site-packages/librosa/util/decorators.py:88: UserWarning: n_fft=1024 is too small for input signal of length=960\n",
      "  return f(*args, **kwargs)\n"
     ]
    },
    {
     "name": "stdout",
     "output_type": "stream",
     "text": [
      "[CV] END estimator=XGBClassifier(base_score=None, booster=None, callbacks=None,\n",
      "              colsample_bylevel=None, colsample_bynode=None,\n",
      "              colsample_bytree=None, early_stopping_rounds=None,\n",
      "              enable_categorical=False, eval_metric=None, gamma=None,\n",
      "              gpu_id=None, grow_policy=None, importance_type=None,\n",
      "              interaction_constraints=None, learning_rate=0.05, max_bin=None,\n",
      "              max_cat_to_onehot=None, max_delta_step=None, max_depth=8,\n",
      "              max_leaves=None, min_child_weight=None, missing=nan,\n",
      "              monotone_constraints=None, n_estimators=400, n_jobs=None,\n",
      "              num_parallel_tree=None, objective='multi:softmax', predictor=None,\n",
      "              random_state=None, reg_alpha=None, ...), mean_mfcc__kw_args={'sr': 16000, 'n_mfcc': 13, 'n_fft': 1024, 'hop_length': 128, 'fmin': 300.0, 'fmax': None}; total time= 1.1min\n"
     ]
    },
    {
     "name": "stderr",
     "output_type": "stream",
     "text": [
      "/Users/axel/.pyenv/versions/3.8.12/envs/us8kdata/lib/python3.8/site-packages/librosa/util/decorators.py:88: UserWarning: n_fft=1024 is too small for input signal of length=800\n",
      "  return f(*args, **kwargs)\n",
      "/Users/axel/.pyenv/versions/3.8.12/envs/us8kdata/lib/python3.8/site-packages/librosa/util/decorators.py:88: UserWarning: n_fft=1024 is too small for input signal of length=960\n",
      "  return f(*args, **kwargs)\n",
      "/Users/axel/.pyenv/versions/3.8.12/envs/us8kdata/lib/python3.8/site-packages/librosa/util/decorators.py:88: UserWarning: n_fft=1024 is too small for input signal of length=960\n",
      "  return f(*args, **kwargs)\n"
     ]
    },
    {
     "name": "stdout",
     "output_type": "stream",
     "text": [
      "[CV] END estimator=XGBClassifier(base_score=None, booster=None, callbacks=None,\n",
      "              colsample_bylevel=None, colsample_bynode=None,\n",
      "              colsample_bytree=None, early_stopping_rounds=None,\n",
      "              enable_categorical=False, eval_metric=None, gamma=None,\n",
      "              gpu_id=None, grow_policy=None, importance_type=None,\n",
      "              interaction_constraints=None, learning_rate=0.05, max_bin=None,\n",
      "              max_cat_to_onehot=None, max_delta_step=None, max_depth=8,\n",
      "              max_leaves=None, min_child_weight=None, missing=nan,\n",
      "              monotone_constraints=None, n_estimators=400, n_jobs=None,\n",
      "              num_parallel_tree=None, objective='multi:softmax', predictor=None,\n",
      "              random_state=None, reg_alpha=None, ...), mean_mfcc__kw_args={'sr': 16000, 'n_mfcc': 13, 'n_fft': 1024, 'hop_length': 128, 'fmin': 300.0, 'fmax': 3000.0}; total time= 1.0min\n"
     ]
    },
    {
     "name": "stderr",
     "output_type": "stream",
     "text": [
      "/Users/axel/.pyenv/versions/3.8.12/envs/us8kdata/lib/python3.8/site-packages/librosa/util/decorators.py:88: UserWarning: n_fft=1024 is too small for input signal of length=960\n",
      "  return f(*args, **kwargs)\n",
      "/Users/axel/.pyenv/versions/3.8.12/envs/us8kdata/lib/python3.8/site-packages/librosa/util/decorators.py:88: UserWarning: n_fft=1024 is too small for input signal of length=800\n",
      "  return f(*args, **kwargs)\n",
      "/Users/axel/.pyenv/versions/3.8.12/envs/us8kdata/lib/python3.8/site-packages/librosa/util/decorators.py:88: UserWarning: n_fft=1024 is too small for input signal of length=960\n",
      "  return f(*args, **kwargs)\n"
     ]
    },
    {
     "name": "stdout",
     "output_type": "stream",
     "text": [
      "[CV] END estimator=XGBClassifier(base_score=None, booster=None, callbacks=None,\n",
      "              colsample_bylevel=None, colsample_bynode=None,\n",
      "              colsample_bytree=None, early_stopping_rounds=None,\n",
      "              enable_categorical=False, eval_metric=None, gamma=None,\n",
      "              gpu_id=None, grow_policy=None, importance_type=None,\n",
      "              interaction_constraints=None, learning_rate=0.05, max_bin=None,\n",
      "              max_cat_to_onehot=None, max_delta_step=None, max_depth=8,\n",
      "              max_leaves=None, min_child_weight=None, missing=nan,\n",
      "              monotone_constraints=None, n_estimators=400, n_jobs=None,\n",
      "              num_parallel_tree=None, objective='multi:softmax', predictor=None,\n",
      "              random_state=None, reg_alpha=None, ...), mean_mfcc__kw_args={'sr': 16000, 'n_mfcc': 13, 'n_fft': 1024, 'hop_length': 128, 'fmin': 300.0, 'fmax': 3000.0}; total time= 1.0min\n"
     ]
    },
    {
     "name": "stderr",
     "output_type": "stream",
     "text": [
      "/Users/axel/.pyenv/versions/3.8.12/envs/us8kdata/lib/python3.8/site-packages/librosa/util/decorators.py:88: UserWarning: n_fft=1024 is too small for input signal of length=800\n",
      "  return f(*args, **kwargs)\n",
      "/Users/axel/.pyenv/versions/3.8.12/envs/us8kdata/lib/python3.8/site-packages/librosa/util/decorators.py:88: UserWarning: n_fft=1024 is too small for input signal of length=960\n",
      "  return f(*args, **kwargs)\n",
      "/Users/axel/.pyenv/versions/3.8.12/envs/us8kdata/lib/python3.8/site-packages/librosa/util/decorators.py:88: UserWarning: n_fft=1024 is too small for input signal of length=960\n",
      "  return f(*args, **kwargs)\n"
     ]
    },
    {
     "name": "stdout",
     "output_type": "stream",
     "text": [
      "[CV] END estimator=XGBClassifier(base_score=None, booster=None, callbacks=None,\n",
      "              colsample_bylevel=None, colsample_bynode=None,\n",
      "              colsample_bytree=None, early_stopping_rounds=None,\n",
      "              enable_categorical=False, eval_metric=None, gamma=None,\n",
      "              gpu_id=None, grow_policy=None, importance_type=None,\n",
      "              interaction_constraints=None, learning_rate=0.05, max_bin=None,\n",
      "              max_cat_to_onehot=None, max_delta_step=None, max_depth=8,\n",
      "              max_leaves=None, min_child_weight=None, missing=nan,\n",
      "              monotone_constraints=None, n_estimators=400, n_jobs=None,\n",
      "              num_parallel_tree=None, objective='multi:softmax', predictor=None,\n",
      "              random_state=None, reg_alpha=None, ...), mean_mfcc__kw_args={'sr': 16000, 'n_mfcc': 13, 'n_fft': 1024, 'hop_length': 128, 'fmin': 300.0, 'fmax': 4000.0}; total time= 1.1min\n"
     ]
    },
    {
     "name": "stderr",
     "output_type": "stream",
     "text": [
      "/Users/axel/.pyenv/versions/3.8.12/envs/us8kdata/lib/python3.8/site-packages/librosa/util/decorators.py:88: UserWarning: n_fft=1024 is too small for input signal of length=960\n",
      "  return f(*args, **kwargs)\n",
      "/Users/axel/.pyenv/versions/3.8.12/envs/us8kdata/lib/python3.8/site-packages/librosa/util/decorators.py:88: UserWarning: n_fft=1024 is too small for input signal of length=800\n",
      "  return f(*args, **kwargs)\n",
      "/Users/axel/.pyenv/versions/3.8.12/envs/us8kdata/lib/python3.8/site-packages/librosa/util/decorators.py:88: UserWarning: n_fft=1024 is too small for input signal of length=960\n",
      "  return f(*args, **kwargs)\n"
     ]
    },
    {
     "name": "stdout",
     "output_type": "stream",
     "text": [
      "[CV] END estimator=XGBClassifier(base_score=None, booster=None, callbacks=None,\n",
      "              colsample_bylevel=None, colsample_bynode=None,\n",
      "              colsample_bytree=None, early_stopping_rounds=None,\n",
      "              enable_categorical=False, eval_metric=None, gamma=None,\n",
      "              gpu_id=None, grow_policy=None, importance_type=None,\n",
      "              interaction_constraints=None, learning_rate=0.05, max_bin=None,\n",
      "              max_cat_to_onehot=None, max_delta_step=None, max_depth=8,\n",
      "              max_leaves=None, min_child_weight=None, missing=nan,\n",
      "              monotone_constraints=None, n_estimators=400, n_jobs=None,\n",
      "              num_parallel_tree=None, objective='multi:softmax', predictor=None,\n",
      "              random_state=None, reg_alpha=None, ...), mean_mfcc__kw_args={'sr': 16000, 'n_mfcc': 13, 'n_fft': 1024, 'hop_length': 128, 'fmin': 300.0, 'fmax': 4000.0}; total time= 1.0min\n"
     ]
    },
    {
     "name": "stderr",
     "output_type": "stream",
     "text": [
      "/Users/axel/.pyenv/versions/3.8.12/envs/us8kdata/lib/python3.8/site-packages/librosa/util/decorators.py:88: UserWarning: n_fft=1024 is too small for input signal of length=800\n",
      "  return f(*args, **kwargs)\n",
      "/Users/axel/.pyenv/versions/3.8.12/envs/us8kdata/lib/python3.8/site-packages/librosa/util/decorators.py:88: UserWarning: n_fft=1024 is too small for input signal of length=960\n",
      "  return f(*args, **kwargs)\n",
      "/Users/axel/.pyenv/versions/3.8.12/envs/us8kdata/lib/python3.8/site-packages/librosa/util/decorators.py:88: UserWarning: n_fft=1024 is too small for input signal of length=960\n",
      "  return f(*args, **kwargs)\n"
     ]
    },
    {
     "name": "stdout",
     "output_type": "stream",
     "text": [
      "[CV] END estimator=XGBClassifier(base_score=None, booster=None, callbacks=None,\n",
      "              colsample_bylevel=None, colsample_bynode=None,\n",
      "              colsample_bytree=None, early_stopping_rounds=None,\n",
      "              enable_categorical=False, eval_metric=None, gamma=None,\n",
      "              gpu_id=None, grow_policy=None, importance_type=None,\n",
      "              interaction_constraints=None, learning_rate=0.05, max_bin=None,\n",
      "              max_cat_to_onehot=None, max_delta_step=None, max_depth=8,\n",
      "              max_leaves=None, min_child_weight=None, missing=nan,\n",
      "              monotone_constraints=None, n_estimators=400, n_jobs=None,\n",
      "              num_parallel_tree=None, objective='multi:softmax', predictor=None,\n",
      "              random_state=None, reg_alpha=None, ...), mean_mfcc__kw_args={'sr': 16000, 'n_mfcc': 13, 'n_fft': 1024, 'hop_length': 128, 'fmin': 300.0, 'fmax': 5000.0}; total time= 1.0min\n"
     ]
    },
    {
     "name": "stderr",
     "output_type": "stream",
     "text": [
      "/Users/axel/.pyenv/versions/3.8.12/envs/us8kdata/lib/python3.8/site-packages/librosa/util/decorators.py:88: UserWarning: n_fft=1024 is too small for input signal of length=960\n",
      "  return f(*args, **kwargs)\n",
      "/Users/axel/.pyenv/versions/3.8.12/envs/us8kdata/lib/python3.8/site-packages/librosa/util/decorators.py:88: UserWarning: n_fft=1024 is too small for input signal of length=800\n",
      "  return f(*args, **kwargs)\n",
      "/Users/axel/.pyenv/versions/3.8.12/envs/us8kdata/lib/python3.8/site-packages/librosa/util/decorators.py:88: UserWarning: n_fft=1024 is too small for input signal of length=960\n",
      "  return f(*args, **kwargs)\n"
     ]
    },
    {
     "name": "stdout",
     "output_type": "stream",
     "text": [
      "[CV] END estimator=XGBClassifier(base_score=None, booster=None, callbacks=None,\n",
      "              colsample_bylevel=None, colsample_bynode=None,\n",
      "              colsample_bytree=None, early_stopping_rounds=None,\n",
      "              enable_categorical=False, eval_metric=None, gamma=None,\n",
      "              gpu_id=None, grow_policy=None, importance_type=None,\n",
      "              interaction_constraints=None, learning_rate=0.05, max_bin=None,\n",
      "              max_cat_to_onehot=None, max_delta_step=None, max_depth=8,\n",
      "              max_leaves=None, min_child_weight=None, missing=nan,\n",
      "              monotone_constraints=None, n_estimators=400, n_jobs=None,\n",
      "              num_parallel_tree=None, objective='multi:softmax', predictor=None,\n",
      "              random_state=None, reg_alpha=None, ...), mean_mfcc__kw_args={'sr': 16000, 'n_mfcc': 13, 'n_fft': 1024, 'hop_length': 128, 'fmin': 300.0, 'fmax': 5000.0}; total time= 1.0min\n"
     ]
    },
    {
     "name": "stderr",
     "output_type": "stream",
     "text": [
      "/Users/axel/.pyenv/versions/3.8.12/envs/us8kdata/lib/python3.8/site-packages/librosa/util/decorators.py:88: UserWarning: n_fft=1024 is too small for input signal of length=800\n",
      "  return f(*args, **kwargs)\n",
      "/Users/axel/.pyenv/versions/3.8.12/envs/us8kdata/lib/python3.8/site-packages/librosa/util/decorators.py:88: UserWarning: n_fft=1024 is too small for input signal of length=960\n",
      "  return f(*args, **kwargs)\n",
      "/Users/axel/.pyenv/versions/3.8.12/envs/us8kdata/lib/python3.8/site-packages/librosa/util/decorators.py:88: UserWarning: n_fft=1024 is too small for input signal of length=960\n",
      "  return f(*args, **kwargs)\n"
     ]
    },
    {
     "name": "stdout",
     "output_type": "stream",
     "text": [
      "[CV] END estimator=XGBClassifier(base_score=None, booster=None, callbacks=None,\n",
      "              colsample_bylevel=None, colsample_bynode=None,\n",
      "              colsample_bytree=None, early_stopping_rounds=None,\n",
      "              enable_categorical=False, eval_metric=None, gamma=None,\n",
      "              gpu_id=None, grow_policy=None, importance_type=None,\n",
      "              interaction_constraints=None, learning_rate=0.05, max_bin=None,\n",
      "              max_cat_to_onehot=None, max_delta_step=None, max_depth=8,\n",
      "              max_leaves=None, min_child_weight=None, missing=nan,\n",
      "              monotone_constraints=None, n_estimators=400, n_jobs=None,\n",
      "              num_parallel_tree=None, objective='multi:softmax', predictor=None,\n",
      "              random_state=None, reg_alpha=None, ...), mean_mfcc__kw_args={'sr': 16000, 'n_mfcc': 13, 'n_fft': 1024, 'hop_length': 128, 'fmin': 500.0, 'fmax': None}; total time= 1.1min\n"
     ]
    },
    {
     "name": "stderr",
     "output_type": "stream",
     "text": [
      "/Users/axel/.pyenv/versions/3.8.12/envs/us8kdata/lib/python3.8/site-packages/librosa/util/decorators.py:88: UserWarning: n_fft=1024 is too small for input signal of length=960\n",
      "  return f(*args, **kwargs)\n",
      "/Users/axel/.pyenv/versions/3.8.12/envs/us8kdata/lib/python3.8/site-packages/librosa/util/decorators.py:88: UserWarning: n_fft=1024 is too small for input signal of length=800\n",
      "  return f(*args, **kwargs)\n",
      "/Users/axel/.pyenv/versions/3.8.12/envs/us8kdata/lib/python3.8/site-packages/librosa/util/decorators.py:88: UserWarning: n_fft=1024 is too small for input signal of length=960\n",
      "  return f(*args, **kwargs)\n"
     ]
    },
    {
     "name": "stdout",
     "output_type": "stream",
     "text": [
      "[CV] END estimator=XGBClassifier(base_score=None, booster=None, callbacks=None,\n",
      "              colsample_bylevel=None, colsample_bynode=None,\n",
      "              colsample_bytree=None, early_stopping_rounds=None,\n",
      "              enable_categorical=False, eval_metric=None, gamma=None,\n",
      "              gpu_id=None, grow_policy=None, importance_type=None,\n",
      "              interaction_constraints=None, learning_rate=0.05, max_bin=None,\n",
      "              max_cat_to_onehot=None, max_delta_step=None, max_depth=8,\n",
      "              max_leaves=None, min_child_weight=None, missing=nan,\n",
      "              monotone_constraints=None, n_estimators=400, n_jobs=None,\n",
      "              num_parallel_tree=None, objective='multi:softmax', predictor=None,\n",
      "              random_state=None, reg_alpha=None, ...), mean_mfcc__kw_args={'sr': 16000, 'n_mfcc': 13, 'n_fft': 1024, 'hop_length': 128, 'fmin': 500.0, 'fmax': None}; total time=  59.4s\n"
     ]
    },
    {
     "name": "stderr",
     "output_type": "stream",
     "text": [
      "/Users/axel/.pyenv/versions/3.8.12/envs/us8kdata/lib/python3.8/site-packages/librosa/util/decorators.py:88: UserWarning: n_fft=1024 is too small for input signal of length=800\n",
      "  return f(*args, **kwargs)\n",
      "/Users/axel/.pyenv/versions/3.8.12/envs/us8kdata/lib/python3.8/site-packages/librosa/util/decorators.py:88: UserWarning: n_fft=1024 is too small for input signal of length=960\n",
      "  return f(*args, **kwargs)\n",
      "/Users/axel/.pyenv/versions/3.8.12/envs/us8kdata/lib/python3.8/site-packages/librosa/util/decorators.py:88: UserWarning: n_fft=1024 is too small for input signal of length=960\n",
      "  return f(*args, **kwargs)\n"
     ]
    },
    {
     "name": "stdout",
     "output_type": "stream",
     "text": [
      "[CV] END estimator=XGBClassifier(base_score=None, booster=None, callbacks=None,\n",
      "              colsample_bylevel=None, colsample_bynode=None,\n",
      "              colsample_bytree=None, early_stopping_rounds=None,\n",
      "              enable_categorical=False, eval_metric=None, gamma=None,\n",
      "              gpu_id=None, grow_policy=None, importance_type=None,\n",
      "              interaction_constraints=None, learning_rate=0.05, max_bin=None,\n",
      "              max_cat_to_onehot=None, max_delta_step=None, max_depth=8,\n",
      "              max_leaves=None, min_child_weight=None, missing=nan,\n",
      "              monotone_constraints=None, n_estimators=400, n_jobs=None,\n",
      "              num_parallel_tree=None, objective='multi:softmax', predictor=None,\n",
      "              random_state=None, reg_alpha=None, ...), mean_mfcc__kw_args={'sr': 16000, 'n_mfcc': 13, 'n_fft': 1024, 'hop_length': 128, 'fmin': 500.0, 'fmax': 3000.0}; total time= 1.0min\n"
     ]
    },
    {
     "name": "stderr",
     "output_type": "stream",
     "text": [
      "/Users/axel/.pyenv/versions/3.8.12/envs/us8kdata/lib/python3.8/site-packages/librosa/util/decorators.py:88: UserWarning: n_fft=1024 is too small for input signal of length=960\n",
      "  return f(*args, **kwargs)\n",
      "/Users/axel/.pyenv/versions/3.8.12/envs/us8kdata/lib/python3.8/site-packages/librosa/util/decorators.py:88: UserWarning: n_fft=1024 is too small for input signal of length=800\n",
      "  return f(*args, **kwargs)\n",
      "/Users/axel/.pyenv/versions/3.8.12/envs/us8kdata/lib/python3.8/site-packages/librosa/util/decorators.py:88: UserWarning: n_fft=1024 is too small for input signal of length=960\n",
      "  return f(*args, **kwargs)\n"
     ]
    },
    {
     "name": "stdout",
     "output_type": "stream",
     "text": [
      "[CV] END estimator=XGBClassifier(base_score=None, booster=None, callbacks=None,\n",
      "              colsample_bylevel=None, colsample_bynode=None,\n",
      "              colsample_bytree=None, early_stopping_rounds=None,\n",
      "              enable_categorical=False, eval_metric=None, gamma=None,\n",
      "              gpu_id=None, grow_policy=None, importance_type=None,\n",
      "              interaction_constraints=None, learning_rate=0.05, max_bin=None,\n",
      "              max_cat_to_onehot=None, max_delta_step=None, max_depth=8,\n",
      "              max_leaves=None, min_child_weight=None, missing=nan,\n",
      "              monotone_constraints=None, n_estimators=400, n_jobs=None,\n",
      "              num_parallel_tree=None, objective='multi:softmax', predictor=None,\n",
      "              random_state=None, reg_alpha=None, ...), mean_mfcc__kw_args={'sr': 16000, 'n_mfcc': 13, 'n_fft': 1024, 'hop_length': 128, 'fmin': 500.0, 'fmax': 3000.0}; total time= 1.0min\n"
     ]
    },
    {
     "name": "stderr",
     "output_type": "stream",
     "text": [
      "/Users/axel/.pyenv/versions/3.8.12/envs/us8kdata/lib/python3.8/site-packages/librosa/util/decorators.py:88: UserWarning: n_fft=1024 is too small for input signal of length=800\n",
      "  return f(*args, **kwargs)\n",
      "/Users/axel/.pyenv/versions/3.8.12/envs/us8kdata/lib/python3.8/site-packages/librosa/util/decorators.py:88: UserWarning: n_fft=1024 is too small for input signal of length=960\n",
      "  return f(*args, **kwargs)\n",
      "/Users/axel/.pyenv/versions/3.8.12/envs/us8kdata/lib/python3.8/site-packages/librosa/util/decorators.py:88: UserWarning: n_fft=1024 is too small for input signal of length=960\n",
      "  return f(*args, **kwargs)\n"
     ]
    },
    {
     "name": "stdout",
     "output_type": "stream",
     "text": [
      "[CV] END estimator=XGBClassifier(base_score=None, booster=None, callbacks=None,\n",
      "              colsample_bylevel=None, colsample_bynode=None,\n",
      "              colsample_bytree=None, early_stopping_rounds=None,\n",
      "              enable_categorical=False, eval_metric=None, gamma=None,\n",
      "              gpu_id=None, grow_policy=None, importance_type=None,\n",
      "              interaction_constraints=None, learning_rate=0.05, max_bin=None,\n",
      "              max_cat_to_onehot=None, max_delta_step=None, max_depth=8,\n",
      "              max_leaves=None, min_child_weight=None, missing=nan,\n",
      "              monotone_constraints=None, n_estimators=400, n_jobs=None,\n",
      "              num_parallel_tree=None, objective='multi:softmax', predictor=None,\n",
      "              random_state=None, reg_alpha=None, ...), mean_mfcc__kw_args={'sr': 16000, 'n_mfcc': 13, 'n_fft': 1024, 'hop_length': 128, 'fmin': 500.0, 'fmax': 4000.0}; total time= 1.0min\n"
     ]
    },
    {
     "name": "stderr",
     "output_type": "stream",
     "text": [
      "/Users/axel/.pyenv/versions/3.8.12/envs/us8kdata/lib/python3.8/site-packages/librosa/util/decorators.py:88: UserWarning: n_fft=1024 is too small for input signal of length=960\n",
      "  return f(*args, **kwargs)\n",
      "/Users/axel/.pyenv/versions/3.8.12/envs/us8kdata/lib/python3.8/site-packages/librosa/util/decorators.py:88: UserWarning: n_fft=1024 is too small for input signal of length=800\n",
      "  return f(*args, **kwargs)\n",
      "/Users/axel/.pyenv/versions/3.8.12/envs/us8kdata/lib/python3.8/site-packages/librosa/util/decorators.py:88: UserWarning: n_fft=1024 is too small for input signal of length=960\n",
      "  return f(*args, **kwargs)\n"
     ]
    },
    {
     "name": "stdout",
     "output_type": "stream",
     "text": [
      "[CV] END estimator=XGBClassifier(base_score=None, booster=None, callbacks=None,\n",
      "              colsample_bylevel=None, colsample_bynode=None,\n",
      "              colsample_bytree=None, early_stopping_rounds=None,\n",
      "              enable_categorical=False, eval_metric=None, gamma=None,\n",
      "              gpu_id=None, grow_policy=None, importance_type=None,\n",
      "              interaction_constraints=None, learning_rate=0.05, max_bin=None,\n",
      "              max_cat_to_onehot=None, max_delta_step=None, max_depth=8,\n",
      "              max_leaves=None, min_child_weight=None, missing=nan,\n",
      "              monotone_constraints=None, n_estimators=400, n_jobs=None,\n",
      "              num_parallel_tree=None, objective='multi:softmax', predictor=None,\n",
      "              random_state=None, reg_alpha=None, ...), mean_mfcc__kw_args={'sr': 16000, 'n_mfcc': 13, 'n_fft': 1024, 'hop_length': 128, 'fmin': 500.0, 'fmax': 4000.0}; total time=  58.6s\n"
     ]
    },
    {
     "name": "stderr",
     "output_type": "stream",
     "text": [
      "/Users/axel/.pyenv/versions/3.8.12/envs/us8kdata/lib/python3.8/site-packages/librosa/util/decorators.py:88: UserWarning: n_fft=1024 is too small for input signal of length=800\n",
      "  return f(*args, **kwargs)\n",
      "/Users/axel/.pyenv/versions/3.8.12/envs/us8kdata/lib/python3.8/site-packages/librosa/util/decorators.py:88: UserWarning: n_fft=1024 is too small for input signal of length=960\n",
      "  return f(*args, **kwargs)\n",
      "/Users/axel/.pyenv/versions/3.8.12/envs/us8kdata/lib/python3.8/site-packages/librosa/util/decorators.py:88: UserWarning: n_fft=1024 is too small for input signal of length=960\n",
      "  return f(*args, **kwargs)\n"
     ]
    },
    {
     "name": "stdout",
     "output_type": "stream",
     "text": [
      "[CV] END estimator=XGBClassifier(base_score=None, booster=None, callbacks=None,\n",
      "              colsample_bylevel=None, colsample_bynode=None,\n",
      "              colsample_bytree=None, early_stopping_rounds=None,\n",
      "              enable_categorical=False, eval_metric=None, gamma=None,\n",
      "              gpu_id=None, grow_policy=None, importance_type=None,\n",
      "              interaction_constraints=None, learning_rate=0.05, max_bin=None,\n",
      "              max_cat_to_onehot=None, max_delta_step=None, max_depth=8,\n",
      "              max_leaves=None, min_child_weight=None, missing=nan,\n",
      "              monotone_constraints=None, n_estimators=400, n_jobs=None,\n",
      "              num_parallel_tree=None, objective='multi:softmax', predictor=None,\n",
      "              random_state=None, reg_alpha=None, ...), mean_mfcc__kw_args={'sr': 16000, 'n_mfcc': 13, 'n_fft': 1024, 'hop_length': 128, 'fmin': 500.0, 'fmax': 5000.0}; total time=  59.9s\n"
     ]
    },
    {
     "name": "stderr",
     "output_type": "stream",
     "text": [
      "/Users/axel/.pyenv/versions/3.8.12/envs/us8kdata/lib/python3.8/site-packages/librosa/util/decorators.py:88: UserWarning: n_fft=1024 is too small for input signal of length=960\n",
      "  return f(*args, **kwargs)\n",
      "/Users/axel/.pyenv/versions/3.8.12/envs/us8kdata/lib/python3.8/site-packages/librosa/util/decorators.py:88: UserWarning: n_fft=1024 is too small for input signal of length=800\n",
      "  return f(*args, **kwargs)\n",
      "/Users/axel/.pyenv/versions/3.8.12/envs/us8kdata/lib/python3.8/site-packages/librosa/util/decorators.py:88: UserWarning: n_fft=1024 is too small for input signal of length=960\n",
      "  return f(*args, **kwargs)\n"
     ]
    },
    {
     "name": "stdout",
     "output_type": "stream",
     "text": [
      "[CV] END estimator=XGBClassifier(base_score=None, booster=None, callbacks=None,\n",
      "              colsample_bylevel=None, colsample_bynode=None,\n",
      "              colsample_bytree=None, early_stopping_rounds=None,\n",
      "              enable_categorical=False, eval_metric=None, gamma=None,\n",
      "              gpu_id=None, grow_policy=None, importance_type=None,\n",
      "              interaction_constraints=None, learning_rate=0.05, max_bin=None,\n",
      "              max_cat_to_onehot=None, max_delta_step=None, max_depth=8,\n",
      "              max_leaves=None, min_child_weight=None, missing=nan,\n",
      "              monotone_constraints=None, n_estimators=400, n_jobs=None,\n",
      "              num_parallel_tree=None, objective='multi:softmax', predictor=None,\n",
      "              random_state=None, reg_alpha=None, ...), mean_mfcc__kw_args={'sr': 16000, 'n_mfcc': 13, 'n_fft': 1024, 'hop_length': 128, 'fmin': 500.0, 'fmax': 5000.0}; total time=  59.7s\n"
     ]
    },
    {
     "name": "stderr",
     "output_type": "stream",
     "text": [
      "/Users/axel/.pyenv/versions/3.8.12/envs/us8kdata/lib/python3.8/site-packages/librosa/util/decorators.py:88: UserWarning: Empty filters detected in mel frequency basis. Some channels will produce empty responses. Try increasing your sampling rate (and fmax) or reducing n_mels.\n",
      "  return f(*args, **kwargs)\n",
      "/Users/axel/.pyenv/versions/3.8.12/envs/us8kdata/lib/python3.8/site-packages/librosa/util/decorators.py:88: UserWarning: Empty filters detected in mel frequency basis. Some channels will produce empty responses. Try increasing your sampling rate (and fmax) or reducing n_mels.\n",
      "  return f(*args, **kwargs)\n"
     ]
    },
    {
     "name": "stdout",
     "output_type": "stream",
     "text": [
      "[CV] END estimator=XGBClassifier(base_score=None, booster=None, callbacks=None,\n",
      "              colsample_bylevel=None, colsample_bynode=None,\n",
      "              colsample_bytree=None, early_stopping_rounds=None,\n",
      "              enable_categorical=False, eval_metric=None, gamma=None,\n",
      "              gpu_id=None, grow_policy=None, importance_type=None,\n",
      "              interaction_constraints=None, learning_rate=0.05, max_bin=None,\n",
      "              max_cat_to_onehot=None, max_delta_step=None, max_depth=8,\n",
      "              max_leaves=None, min_child_weight=None, missing=nan,\n",
      "              monotone_constraints=None, n_estimators=400, n_jobs=None,\n",
      "              num_parallel_tree=None, objective='multi:softmax', predictor=None,\n",
      "              random_state=None, reg_alpha=None, ...), mean_mfcc__kw_args={'sr': 16000, 'n_mfcc': 16, 'n_fft': 256, 'hop_length': 128, 'fmin': 0.0, 'fmax': None}; total time=  36.2s\n"
     ]
    },
    {
     "name": "stderr",
     "output_type": "stream",
     "text": [
      "/Users/axel/.pyenv/versions/3.8.12/envs/us8kdata/lib/python3.8/site-packages/librosa/util/decorators.py:88: UserWarning: Empty filters detected in mel frequency basis. Some channels will produce empty responses. Try increasing your sampling rate (and fmax) or reducing n_mels.\n",
      "  return f(*args, **kwargs)\n",
      "/Users/axel/.pyenv/versions/3.8.12/envs/us8kdata/lib/python3.8/site-packages/librosa/util/decorators.py:88: UserWarning: Empty filters detected in mel frequency basis. Some channels will produce empty responses. Try increasing your sampling rate (and fmax) or reducing n_mels.\n",
      "  return f(*args, **kwargs)\n"
     ]
    },
    {
     "name": "stdout",
     "output_type": "stream",
     "text": [
      "[CV] END estimator=XGBClassifier(base_score=None, booster=None, callbacks=None,\n",
      "              colsample_bylevel=None, colsample_bynode=None,\n",
      "              colsample_bytree=None, early_stopping_rounds=None,\n",
      "              enable_categorical=False, eval_metric=None, gamma=None,\n",
      "              gpu_id=None, grow_policy=None, importance_type=None,\n",
      "              interaction_constraints=None, learning_rate=0.05, max_bin=None,\n",
      "              max_cat_to_onehot=None, max_delta_step=None, max_depth=8,\n",
      "              max_leaves=None, min_child_weight=None, missing=nan,\n",
      "              monotone_constraints=None, n_estimators=400, n_jobs=None,\n",
      "              num_parallel_tree=None, objective='multi:softmax', predictor=None,\n",
      "              random_state=None, reg_alpha=None, ...), mean_mfcc__kw_args={'sr': 16000, 'n_mfcc': 16, 'n_fft': 256, 'hop_length': 128, 'fmin': 0.0, 'fmax': None}; total time=  35.8s\n"
     ]
    },
    {
     "name": "stderr",
     "output_type": "stream",
     "text": [
      "/Users/axel/.pyenv/versions/3.8.12/envs/us8kdata/lib/python3.8/site-packages/librosa/util/decorators.py:88: UserWarning: Empty filters detected in mel frequency basis. Some channels will produce empty responses. Try increasing your sampling rate (and fmax) or reducing n_mels.\n",
      "  return f(*args, **kwargs)\n",
      "/Users/axel/.pyenv/versions/3.8.12/envs/us8kdata/lib/python3.8/site-packages/librosa/util/decorators.py:88: UserWarning: Empty filters detected in mel frequency basis. Some channels will produce empty responses. Try increasing your sampling rate (and fmax) or reducing n_mels.\n",
      "  return f(*args, **kwargs)\n"
     ]
    },
    {
     "name": "stdout",
     "output_type": "stream",
     "text": [
      "[CV] END estimator=XGBClassifier(base_score=None, booster=None, callbacks=None,\n",
      "              colsample_bylevel=None, colsample_bynode=None,\n",
      "              colsample_bytree=None, early_stopping_rounds=None,\n",
      "              enable_categorical=False, eval_metric=None, gamma=None,\n",
      "              gpu_id=None, grow_policy=None, importance_type=None,\n",
      "              interaction_constraints=None, learning_rate=0.05, max_bin=None,\n",
      "              max_cat_to_onehot=None, max_delta_step=None, max_depth=8,\n",
      "              max_leaves=None, min_child_weight=None, missing=nan,\n",
      "              monotone_constraints=None, n_estimators=400, n_jobs=None,\n",
      "              num_parallel_tree=None, objective='multi:softmax', predictor=None,\n",
      "              random_state=None, reg_alpha=None, ...), mean_mfcc__kw_args={'sr': 16000, 'n_mfcc': 16, 'n_fft': 256, 'hop_length': 128, 'fmin': 0.0, 'fmax': 3000.0}; total time=  36.0s\n"
     ]
    },
    {
     "name": "stderr",
     "output_type": "stream",
     "text": [
      "/Users/axel/.pyenv/versions/3.8.12/envs/us8kdata/lib/python3.8/site-packages/librosa/util/decorators.py:88: UserWarning: Empty filters detected in mel frequency basis. Some channels will produce empty responses. Try increasing your sampling rate (and fmax) or reducing n_mels.\n",
      "  return f(*args, **kwargs)\n",
      "/Users/axel/.pyenv/versions/3.8.12/envs/us8kdata/lib/python3.8/site-packages/librosa/util/decorators.py:88: UserWarning: Empty filters detected in mel frequency basis. Some channels will produce empty responses. Try increasing your sampling rate (and fmax) or reducing n_mels.\n",
      "  return f(*args, **kwargs)\n"
     ]
    },
    {
     "name": "stdout",
     "output_type": "stream",
     "text": [
      "[CV] END estimator=XGBClassifier(base_score=None, booster=None, callbacks=None,\n",
      "              colsample_bylevel=None, colsample_bynode=None,\n",
      "              colsample_bytree=None, early_stopping_rounds=None,\n",
      "              enable_categorical=False, eval_metric=None, gamma=None,\n",
      "              gpu_id=None, grow_policy=None, importance_type=None,\n",
      "              interaction_constraints=None, learning_rate=0.05, max_bin=None,\n",
      "              max_cat_to_onehot=None, max_delta_step=None, max_depth=8,\n",
      "              max_leaves=None, min_child_weight=None, missing=nan,\n",
      "              monotone_constraints=None, n_estimators=400, n_jobs=None,\n",
      "              num_parallel_tree=None, objective='multi:softmax', predictor=None,\n",
      "              random_state=None, reg_alpha=None, ...), mean_mfcc__kw_args={'sr': 16000, 'n_mfcc': 16, 'n_fft': 256, 'hop_length': 128, 'fmin': 0.0, 'fmax': 3000.0}; total time=  34.5s\n"
     ]
    },
    {
     "name": "stderr",
     "output_type": "stream",
     "text": [
      "/Users/axel/.pyenv/versions/3.8.12/envs/us8kdata/lib/python3.8/site-packages/librosa/util/decorators.py:88: UserWarning: Empty filters detected in mel frequency basis. Some channels will produce empty responses. Try increasing your sampling rate (and fmax) or reducing n_mels.\n",
      "  return f(*args, **kwargs)\n",
      "/Users/axel/.pyenv/versions/3.8.12/envs/us8kdata/lib/python3.8/site-packages/librosa/util/decorators.py:88: UserWarning: Empty filters detected in mel frequency basis. Some channels will produce empty responses. Try increasing your sampling rate (and fmax) or reducing n_mels.\n",
      "  return f(*args, **kwargs)\n"
     ]
    },
    {
     "name": "stdout",
     "output_type": "stream",
     "text": [
      "[CV] END estimator=XGBClassifier(base_score=None, booster=None, callbacks=None,\n",
      "              colsample_bylevel=None, colsample_bynode=None,\n",
      "              colsample_bytree=None, early_stopping_rounds=None,\n",
      "              enable_categorical=False, eval_metric=None, gamma=None,\n",
      "              gpu_id=None, grow_policy=None, importance_type=None,\n",
      "              interaction_constraints=None, learning_rate=0.05, max_bin=None,\n",
      "              max_cat_to_onehot=None, max_delta_step=None, max_depth=8,\n",
      "              max_leaves=None, min_child_weight=None, missing=nan,\n",
      "              monotone_constraints=None, n_estimators=400, n_jobs=None,\n",
      "              num_parallel_tree=None, objective='multi:softmax', predictor=None,\n",
      "              random_state=None, reg_alpha=None, ...), mean_mfcc__kw_args={'sr': 16000, 'n_mfcc': 16, 'n_fft': 256, 'hop_length': 128, 'fmin': 0.0, 'fmax': 4000.0}; total time=  37.3s\n"
     ]
    },
    {
     "name": "stderr",
     "output_type": "stream",
     "text": [
      "/Users/axel/.pyenv/versions/3.8.12/envs/us8kdata/lib/python3.8/site-packages/librosa/util/decorators.py:88: UserWarning: Empty filters detected in mel frequency basis. Some channels will produce empty responses. Try increasing your sampling rate (and fmax) or reducing n_mels.\n",
      "  return f(*args, **kwargs)\n",
      "/Users/axel/.pyenv/versions/3.8.12/envs/us8kdata/lib/python3.8/site-packages/librosa/util/decorators.py:88: UserWarning: Empty filters detected in mel frequency basis. Some channels will produce empty responses. Try increasing your sampling rate (and fmax) or reducing n_mels.\n",
      "  return f(*args, **kwargs)\n"
     ]
    },
    {
     "name": "stdout",
     "output_type": "stream",
     "text": [
      "[CV] END estimator=XGBClassifier(base_score=None, booster=None, callbacks=None,\n",
      "              colsample_bylevel=None, colsample_bynode=None,\n",
      "              colsample_bytree=None, early_stopping_rounds=None,\n",
      "              enable_categorical=False, eval_metric=None, gamma=None,\n",
      "              gpu_id=None, grow_policy=None, importance_type=None,\n",
      "              interaction_constraints=None, learning_rate=0.05, max_bin=None,\n",
      "              max_cat_to_onehot=None, max_delta_step=None, max_depth=8,\n",
      "              max_leaves=None, min_child_weight=None, missing=nan,\n",
      "              monotone_constraints=None, n_estimators=400, n_jobs=None,\n",
      "              num_parallel_tree=None, objective='multi:softmax', predictor=None,\n",
      "              random_state=None, reg_alpha=None, ...), mean_mfcc__kw_args={'sr': 16000, 'n_mfcc': 16, 'n_fft': 256, 'hop_length': 128, 'fmin': 0.0, 'fmax': 4000.0}; total time=  35.5s\n"
     ]
    },
    {
     "name": "stderr",
     "output_type": "stream",
     "text": [
      "/Users/axel/.pyenv/versions/3.8.12/envs/us8kdata/lib/python3.8/site-packages/librosa/util/decorators.py:88: UserWarning: Empty filters detected in mel frequency basis. Some channels will produce empty responses. Try increasing your sampling rate (and fmax) or reducing n_mels.\n",
      "  return f(*args, **kwargs)\n",
      "/Users/axel/.pyenv/versions/3.8.12/envs/us8kdata/lib/python3.8/site-packages/librosa/util/decorators.py:88: UserWarning: Empty filters detected in mel frequency basis. Some channels will produce empty responses. Try increasing your sampling rate (and fmax) or reducing n_mels.\n",
      "  return f(*args, **kwargs)\n"
     ]
    },
    {
     "name": "stdout",
     "output_type": "stream",
     "text": [
      "[CV] END estimator=XGBClassifier(base_score=None, booster=None, callbacks=None,\n",
      "              colsample_bylevel=None, colsample_bynode=None,\n",
      "              colsample_bytree=None, early_stopping_rounds=None,\n",
      "              enable_categorical=False, eval_metric=None, gamma=None,\n",
      "              gpu_id=None, grow_policy=None, importance_type=None,\n",
      "              interaction_constraints=None, learning_rate=0.05, max_bin=None,\n",
      "              max_cat_to_onehot=None, max_delta_step=None, max_depth=8,\n",
      "              max_leaves=None, min_child_weight=None, missing=nan,\n",
      "              monotone_constraints=None, n_estimators=400, n_jobs=None,\n",
      "              num_parallel_tree=None, objective='multi:softmax', predictor=None,\n",
      "              random_state=None, reg_alpha=None, ...), mean_mfcc__kw_args={'sr': 16000, 'n_mfcc': 16, 'n_fft': 256, 'hop_length': 128, 'fmin': 0.0, 'fmax': 5000.0}; total time=  37.4s\n"
     ]
    },
    {
     "name": "stderr",
     "output_type": "stream",
     "text": [
      "/Users/axel/.pyenv/versions/3.8.12/envs/us8kdata/lib/python3.8/site-packages/librosa/util/decorators.py:88: UserWarning: Empty filters detected in mel frequency basis. Some channels will produce empty responses. Try increasing your sampling rate (and fmax) or reducing n_mels.\n",
      "  return f(*args, **kwargs)\n",
      "/Users/axel/.pyenv/versions/3.8.12/envs/us8kdata/lib/python3.8/site-packages/librosa/util/decorators.py:88: UserWarning: Empty filters detected in mel frequency basis. Some channels will produce empty responses. Try increasing your sampling rate (and fmax) or reducing n_mels.\n",
      "  return f(*args, **kwargs)\n"
     ]
    },
    {
     "name": "stdout",
     "output_type": "stream",
     "text": [
      "[CV] END estimator=XGBClassifier(base_score=None, booster=None, callbacks=None,\n",
      "              colsample_bylevel=None, colsample_bynode=None,\n",
      "              colsample_bytree=None, early_stopping_rounds=None,\n",
      "              enable_categorical=False, eval_metric=None, gamma=None,\n",
      "              gpu_id=None, grow_policy=None, importance_type=None,\n",
      "              interaction_constraints=None, learning_rate=0.05, max_bin=None,\n",
      "              max_cat_to_onehot=None, max_delta_step=None, max_depth=8,\n",
      "              max_leaves=None, min_child_weight=None, missing=nan,\n",
      "              monotone_constraints=None, n_estimators=400, n_jobs=None,\n",
      "              num_parallel_tree=None, objective='multi:softmax', predictor=None,\n",
      "              random_state=None, reg_alpha=None, ...), mean_mfcc__kw_args={'sr': 16000, 'n_mfcc': 16, 'n_fft': 256, 'hop_length': 128, 'fmin': 0.0, 'fmax': 5000.0}; total time=  36.5s\n"
     ]
    },
    {
     "name": "stderr",
     "output_type": "stream",
     "text": [
      "/Users/axel/.pyenv/versions/3.8.12/envs/us8kdata/lib/python3.8/site-packages/librosa/util/decorators.py:88: UserWarning: Empty filters detected in mel frequency basis. Some channels will produce empty responses. Try increasing your sampling rate (and fmax) or reducing n_mels.\n",
      "  return f(*args, **kwargs)\n",
      "/Users/axel/.pyenv/versions/3.8.12/envs/us8kdata/lib/python3.8/site-packages/librosa/util/decorators.py:88: UserWarning: Empty filters detected in mel frequency basis. Some channels will produce empty responses. Try increasing your sampling rate (and fmax) or reducing n_mels.\n",
      "  return f(*args, **kwargs)\n"
     ]
    },
    {
     "name": "stdout",
     "output_type": "stream",
     "text": [
      "[CV] END estimator=XGBClassifier(base_score=None, booster=None, callbacks=None,\n",
      "              colsample_bylevel=None, colsample_bynode=None,\n",
      "              colsample_bytree=None, early_stopping_rounds=None,\n",
      "              enable_categorical=False, eval_metric=None, gamma=None,\n",
      "              gpu_id=None, grow_policy=None, importance_type=None,\n",
      "              interaction_constraints=None, learning_rate=0.05, max_bin=None,\n",
      "              max_cat_to_onehot=None, max_delta_step=None, max_depth=8,\n",
      "              max_leaves=None, min_child_weight=None, missing=nan,\n",
      "              monotone_constraints=None, n_estimators=400, n_jobs=None,\n",
      "              num_parallel_tree=None, objective='multi:softmax', predictor=None,\n",
      "              random_state=None, reg_alpha=None, ...), mean_mfcc__kw_args={'sr': 16000, 'n_mfcc': 16, 'n_fft': 256, 'hop_length': 128, 'fmin': 300.0, 'fmax': None}; total time=  38.5s\n"
     ]
    },
    {
     "name": "stderr",
     "output_type": "stream",
     "text": [
      "/Users/axel/.pyenv/versions/3.8.12/envs/us8kdata/lib/python3.8/site-packages/librosa/util/decorators.py:88: UserWarning: Empty filters detected in mel frequency basis. Some channels will produce empty responses. Try increasing your sampling rate (and fmax) or reducing n_mels.\n",
      "  return f(*args, **kwargs)\n",
      "/Users/axel/.pyenv/versions/3.8.12/envs/us8kdata/lib/python3.8/site-packages/librosa/util/decorators.py:88: UserWarning: Empty filters detected in mel frequency basis. Some channels will produce empty responses. Try increasing your sampling rate (and fmax) or reducing n_mels.\n",
      "  return f(*args, **kwargs)\n"
     ]
    },
    {
     "name": "stdout",
     "output_type": "stream",
     "text": [
      "[CV] END estimator=XGBClassifier(base_score=None, booster=None, callbacks=None,\n",
      "              colsample_bylevel=None, colsample_bynode=None,\n",
      "              colsample_bytree=None, early_stopping_rounds=None,\n",
      "              enable_categorical=False, eval_metric=None, gamma=None,\n",
      "              gpu_id=None, grow_policy=None, importance_type=None,\n",
      "              interaction_constraints=None, learning_rate=0.05, max_bin=None,\n",
      "              max_cat_to_onehot=None, max_delta_step=None, max_depth=8,\n",
      "              max_leaves=None, min_child_weight=None, missing=nan,\n",
      "              monotone_constraints=None, n_estimators=400, n_jobs=None,\n",
      "              num_parallel_tree=None, objective='multi:softmax', predictor=None,\n",
      "              random_state=None, reg_alpha=None, ...), mean_mfcc__kw_args={'sr': 16000, 'n_mfcc': 16, 'n_fft': 256, 'hop_length': 128, 'fmin': 300.0, 'fmax': None}; total time=  35.8s\n"
     ]
    },
    {
     "name": "stderr",
     "output_type": "stream",
     "text": [
      "/Users/axel/.pyenv/versions/3.8.12/envs/us8kdata/lib/python3.8/site-packages/librosa/util/decorators.py:88: UserWarning: Empty filters detected in mel frequency basis. Some channels will produce empty responses. Try increasing your sampling rate (and fmax) or reducing n_mels.\n",
      "  return f(*args, **kwargs)\n",
      "/Users/axel/.pyenv/versions/3.8.12/envs/us8kdata/lib/python3.8/site-packages/librosa/util/decorators.py:88: UserWarning: Empty filters detected in mel frequency basis. Some channels will produce empty responses. Try increasing your sampling rate (and fmax) or reducing n_mels.\n",
      "  return f(*args, **kwargs)\n"
     ]
    },
    {
     "name": "stdout",
     "output_type": "stream",
     "text": [
      "[CV] END estimator=XGBClassifier(base_score=None, booster=None, callbacks=None,\n",
      "              colsample_bylevel=None, colsample_bynode=None,\n",
      "              colsample_bytree=None, early_stopping_rounds=None,\n",
      "              enable_categorical=False, eval_metric=None, gamma=None,\n",
      "              gpu_id=None, grow_policy=None, importance_type=None,\n",
      "              interaction_constraints=None, learning_rate=0.05, max_bin=None,\n",
      "              max_cat_to_onehot=None, max_delta_step=None, max_depth=8,\n",
      "              max_leaves=None, min_child_weight=None, missing=nan,\n",
      "              monotone_constraints=None, n_estimators=400, n_jobs=None,\n",
      "              num_parallel_tree=None, objective='multi:softmax', predictor=None,\n",
      "              random_state=None, reg_alpha=None, ...), mean_mfcc__kw_args={'sr': 16000, 'n_mfcc': 16, 'n_fft': 256, 'hop_length': 128, 'fmin': 300.0, 'fmax': 3000.0}; total time=  36.2s\n"
     ]
    },
    {
     "name": "stderr",
     "output_type": "stream",
     "text": [
      "/Users/axel/.pyenv/versions/3.8.12/envs/us8kdata/lib/python3.8/site-packages/librosa/util/decorators.py:88: UserWarning: Empty filters detected in mel frequency basis. Some channels will produce empty responses. Try increasing your sampling rate (and fmax) or reducing n_mels.\n",
      "  return f(*args, **kwargs)\n",
      "/Users/axel/.pyenv/versions/3.8.12/envs/us8kdata/lib/python3.8/site-packages/librosa/util/decorators.py:88: UserWarning: Empty filters detected in mel frequency basis. Some channels will produce empty responses. Try increasing your sampling rate (and fmax) or reducing n_mels.\n",
      "  return f(*args, **kwargs)\n"
     ]
    },
    {
     "name": "stdout",
     "output_type": "stream",
     "text": [
      "[CV] END estimator=XGBClassifier(base_score=None, booster=None, callbacks=None,\n",
      "              colsample_bylevel=None, colsample_bynode=None,\n",
      "              colsample_bytree=None, early_stopping_rounds=None,\n",
      "              enable_categorical=False, eval_metric=None, gamma=None,\n",
      "              gpu_id=None, grow_policy=None, importance_type=None,\n",
      "              interaction_constraints=None, learning_rate=0.05, max_bin=None,\n",
      "              max_cat_to_onehot=None, max_delta_step=None, max_depth=8,\n",
      "              max_leaves=None, min_child_weight=None, missing=nan,\n",
      "              monotone_constraints=None, n_estimators=400, n_jobs=None,\n",
      "              num_parallel_tree=None, objective='multi:softmax', predictor=None,\n",
      "              random_state=None, reg_alpha=None, ...), mean_mfcc__kw_args={'sr': 16000, 'n_mfcc': 16, 'n_fft': 256, 'hop_length': 128, 'fmin': 300.0, 'fmax': 3000.0}; total time=  35.4s\n"
     ]
    },
    {
     "name": "stderr",
     "output_type": "stream",
     "text": [
      "/Users/axel/.pyenv/versions/3.8.12/envs/us8kdata/lib/python3.8/site-packages/librosa/util/decorators.py:88: UserWarning: Empty filters detected in mel frequency basis. Some channels will produce empty responses. Try increasing your sampling rate (and fmax) or reducing n_mels.\n",
      "  return f(*args, **kwargs)\n",
      "/Users/axel/.pyenv/versions/3.8.12/envs/us8kdata/lib/python3.8/site-packages/librosa/util/decorators.py:88: UserWarning: Empty filters detected in mel frequency basis. Some channels will produce empty responses. Try increasing your sampling rate (and fmax) or reducing n_mels.\n",
      "  return f(*args, **kwargs)\n"
     ]
    },
    {
     "name": "stdout",
     "output_type": "stream",
     "text": [
      "[CV] END estimator=XGBClassifier(base_score=None, booster=None, callbacks=None,\n",
      "              colsample_bylevel=None, colsample_bynode=None,\n",
      "              colsample_bytree=None, early_stopping_rounds=None,\n",
      "              enable_categorical=False, eval_metric=None, gamma=None,\n",
      "              gpu_id=None, grow_policy=None, importance_type=None,\n",
      "              interaction_constraints=None, learning_rate=0.05, max_bin=None,\n",
      "              max_cat_to_onehot=None, max_delta_step=None, max_depth=8,\n",
      "              max_leaves=None, min_child_weight=None, missing=nan,\n",
      "              monotone_constraints=None, n_estimators=400, n_jobs=None,\n",
      "              num_parallel_tree=None, objective='multi:softmax', predictor=None,\n",
      "              random_state=None, reg_alpha=None, ...), mean_mfcc__kw_args={'sr': 16000, 'n_mfcc': 16, 'n_fft': 256, 'hop_length': 128, 'fmin': 300.0, 'fmax': 4000.0}; total time=  36.2s\n"
     ]
    },
    {
     "name": "stderr",
     "output_type": "stream",
     "text": [
      "/Users/axel/.pyenv/versions/3.8.12/envs/us8kdata/lib/python3.8/site-packages/librosa/util/decorators.py:88: UserWarning: Empty filters detected in mel frequency basis. Some channels will produce empty responses. Try increasing your sampling rate (and fmax) or reducing n_mels.\n",
      "  return f(*args, **kwargs)\n",
      "/Users/axel/.pyenv/versions/3.8.12/envs/us8kdata/lib/python3.8/site-packages/librosa/util/decorators.py:88: UserWarning: Empty filters detected in mel frequency basis. Some channels will produce empty responses. Try increasing your sampling rate (and fmax) or reducing n_mels.\n",
      "  return f(*args, **kwargs)\n"
     ]
    },
    {
     "name": "stdout",
     "output_type": "stream",
     "text": [
      "[CV] END estimator=XGBClassifier(base_score=None, booster=None, callbacks=None,\n",
      "              colsample_bylevel=None, colsample_bynode=None,\n",
      "              colsample_bytree=None, early_stopping_rounds=None,\n",
      "              enable_categorical=False, eval_metric=None, gamma=None,\n",
      "              gpu_id=None, grow_policy=None, importance_type=None,\n",
      "              interaction_constraints=None, learning_rate=0.05, max_bin=None,\n",
      "              max_cat_to_onehot=None, max_delta_step=None, max_depth=8,\n",
      "              max_leaves=None, min_child_weight=None, missing=nan,\n",
      "              monotone_constraints=None, n_estimators=400, n_jobs=None,\n",
      "              num_parallel_tree=None, objective='multi:softmax', predictor=None,\n",
      "              random_state=None, reg_alpha=None, ...), mean_mfcc__kw_args={'sr': 16000, 'n_mfcc': 16, 'n_fft': 256, 'hop_length': 128, 'fmin': 300.0, 'fmax': 4000.0}; total time=  36.3s\n"
     ]
    },
    {
     "name": "stderr",
     "output_type": "stream",
     "text": [
      "/Users/axel/.pyenv/versions/3.8.12/envs/us8kdata/lib/python3.8/site-packages/librosa/util/decorators.py:88: UserWarning: Empty filters detected in mel frequency basis. Some channels will produce empty responses. Try increasing your sampling rate (and fmax) or reducing n_mels.\n",
      "  return f(*args, **kwargs)\n",
      "/Users/axel/.pyenv/versions/3.8.12/envs/us8kdata/lib/python3.8/site-packages/librosa/util/decorators.py:88: UserWarning: Empty filters detected in mel frequency basis. Some channels will produce empty responses. Try increasing your sampling rate (and fmax) or reducing n_mels.\n",
      "  return f(*args, **kwargs)\n"
     ]
    },
    {
     "name": "stdout",
     "output_type": "stream",
     "text": [
      "[CV] END estimator=XGBClassifier(base_score=None, booster=None, callbacks=None,\n",
      "              colsample_bylevel=None, colsample_bynode=None,\n",
      "              colsample_bytree=None, early_stopping_rounds=None,\n",
      "              enable_categorical=False, eval_metric=None, gamma=None,\n",
      "              gpu_id=None, grow_policy=None, importance_type=None,\n",
      "              interaction_constraints=None, learning_rate=0.05, max_bin=None,\n",
      "              max_cat_to_onehot=None, max_delta_step=None, max_depth=8,\n",
      "              max_leaves=None, min_child_weight=None, missing=nan,\n",
      "              monotone_constraints=None, n_estimators=400, n_jobs=None,\n",
      "              num_parallel_tree=None, objective='multi:softmax', predictor=None,\n",
      "              random_state=None, reg_alpha=None, ...), mean_mfcc__kw_args={'sr': 16000, 'n_mfcc': 16, 'n_fft': 256, 'hop_length': 128, 'fmin': 300.0, 'fmax': 5000.0}; total time=  36.5s\n"
     ]
    },
    {
     "name": "stderr",
     "output_type": "stream",
     "text": [
      "/Users/axel/.pyenv/versions/3.8.12/envs/us8kdata/lib/python3.8/site-packages/librosa/util/decorators.py:88: UserWarning: Empty filters detected in mel frequency basis. Some channels will produce empty responses. Try increasing your sampling rate (and fmax) or reducing n_mels.\n",
      "  return f(*args, **kwargs)\n",
      "/Users/axel/.pyenv/versions/3.8.12/envs/us8kdata/lib/python3.8/site-packages/librosa/util/decorators.py:88: UserWarning: Empty filters detected in mel frequency basis. Some channels will produce empty responses. Try increasing your sampling rate (and fmax) or reducing n_mels.\n",
      "  return f(*args, **kwargs)\n"
     ]
    },
    {
     "name": "stdout",
     "output_type": "stream",
     "text": [
      "[CV] END estimator=XGBClassifier(base_score=None, booster=None, callbacks=None,\n",
      "              colsample_bylevel=None, colsample_bynode=None,\n",
      "              colsample_bytree=None, early_stopping_rounds=None,\n",
      "              enable_categorical=False, eval_metric=None, gamma=None,\n",
      "              gpu_id=None, grow_policy=None, importance_type=None,\n",
      "              interaction_constraints=None, learning_rate=0.05, max_bin=None,\n",
      "              max_cat_to_onehot=None, max_delta_step=None, max_depth=8,\n",
      "              max_leaves=None, min_child_weight=None, missing=nan,\n",
      "              monotone_constraints=None, n_estimators=400, n_jobs=None,\n",
      "              num_parallel_tree=None, objective='multi:softmax', predictor=None,\n",
      "              random_state=None, reg_alpha=None, ...), mean_mfcc__kw_args={'sr': 16000, 'n_mfcc': 16, 'n_fft': 256, 'hop_length': 128, 'fmin': 300.0, 'fmax': 5000.0}; total time=  37.0s\n"
     ]
    },
    {
     "name": "stderr",
     "output_type": "stream",
     "text": [
      "/Users/axel/.pyenv/versions/3.8.12/envs/us8kdata/lib/python3.8/site-packages/librosa/util/decorators.py:88: UserWarning: Empty filters detected in mel frequency basis. Some channels will produce empty responses. Try increasing your sampling rate (and fmax) or reducing n_mels.\n",
      "  return f(*args, **kwargs)\n",
      "/Users/axel/.pyenv/versions/3.8.12/envs/us8kdata/lib/python3.8/site-packages/librosa/util/decorators.py:88: UserWarning: Empty filters detected in mel frequency basis. Some channels will produce empty responses. Try increasing your sampling rate (and fmax) or reducing n_mels.\n",
      "  return f(*args, **kwargs)\n"
     ]
    },
    {
     "name": "stdout",
     "output_type": "stream",
     "text": [
      "[CV] END estimator=XGBClassifier(base_score=None, booster=None, callbacks=None,\n",
      "              colsample_bylevel=None, colsample_bynode=None,\n",
      "              colsample_bytree=None, early_stopping_rounds=None,\n",
      "              enable_categorical=False, eval_metric=None, gamma=None,\n",
      "              gpu_id=None, grow_policy=None, importance_type=None,\n",
      "              interaction_constraints=None, learning_rate=0.05, max_bin=None,\n",
      "              max_cat_to_onehot=None, max_delta_step=None, max_depth=8,\n",
      "              max_leaves=None, min_child_weight=None, missing=nan,\n",
      "              monotone_constraints=None, n_estimators=400, n_jobs=None,\n",
      "              num_parallel_tree=None, objective='multi:softmax', predictor=None,\n",
      "              random_state=None, reg_alpha=None, ...), mean_mfcc__kw_args={'sr': 16000, 'n_mfcc': 16, 'n_fft': 256, 'hop_length': 128, 'fmin': 500.0, 'fmax': None}; total time=  37.5s\n"
     ]
    },
    {
     "name": "stderr",
     "output_type": "stream",
     "text": [
      "/Users/axel/.pyenv/versions/3.8.12/envs/us8kdata/lib/python3.8/site-packages/librosa/util/decorators.py:88: UserWarning: Empty filters detected in mel frequency basis. Some channels will produce empty responses. Try increasing your sampling rate (and fmax) or reducing n_mels.\n",
      "  return f(*args, **kwargs)\n",
      "/Users/axel/.pyenv/versions/3.8.12/envs/us8kdata/lib/python3.8/site-packages/librosa/util/decorators.py:88: UserWarning: Empty filters detected in mel frequency basis. Some channels will produce empty responses. Try increasing your sampling rate (and fmax) or reducing n_mels.\n",
      "  return f(*args, **kwargs)\n"
     ]
    },
    {
     "name": "stdout",
     "output_type": "stream",
     "text": [
      "[CV] END estimator=XGBClassifier(base_score=None, booster=None, callbacks=None,\n",
      "              colsample_bylevel=None, colsample_bynode=None,\n",
      "              colsample_bytree=None, early_stopping_rounds=None,\n",
      "              enable_categorical=False, eval_metric=None, gamma=None,\n",
      "              gpu_id=None, grow_policy=None, importance_type=None,\n",
      "              interaction_constraints=None, learning_rate=0.05, max_bin=None,\n",
      "              max_cat_to_onehot=None, max_delta_step=None, max_depth=8,\n",
      "              max_leaves=None, min_child_weight=None, missing=nan,\n",
      "              monotone_constraints=None, n_estimators=400, n_jobs=None,\n",
      "              num_parallel_tree=None, objective='multi:softmax', predictor=None,\n",
      "              random_state=None, reg_alpha=None, ...), mean_mfcc__kw_args={'sr': 16000, 'n_mfcc': 16, 'n_fft': 256, 'hop_length': 128, 'fmin': 500.0, 'fmax': None}; total time=  36.7s\n"
     ]
    },
    {
     "name": "stderr",
     "output_type": "stream",
     "text": [
      "/Users/axel/.pyenv/versions/3.8.12/envs/us8kdata/lib/python3.8/site-packages/librosa/util/decorators.py:88: UserWarning: Empty filters detected in mel frequency basis. Some channels will produce empty responses. Try increasing your sampling rate (and fmax) or reducing n_mels.\n",
      "  return f(*args, **kwargs)\n",
      "/Users/axel/.pyenv/versions/3.8.12/envs/us8kdata/lib/python3.8/site-packages/librosa/util/decorators.py:88: UserWarning: Empty filters detected in mel frequency basis. Some channels will produce empty responses. Try increasing your sampling rate (and fmax) or reducing n_mels.\n",
      "  return f(*args, **kwargs)\n"
     ]
    },
    {
     "name": "stdout",
     "output_type": "stream",
     "text": [
      "[CV] END estimator=XGBClassifier(base_score=None, booster=None, callbacks=None,\n",
      "              colsample_bylevel=None, colsample_bynode=None,\n",
      "              colsample_bytree=None, early_stopping_rounds=None,\n",
      "              enable_categorical=False, eval_metric=None, gamma=None,\n",
      "              gpu_id=None, grow_policy=None, importance_type=None,\n",
      "              interaction_constraints=None, learning_rate=0.05, max_bin=None,\n",
      "              max_cat_to_onehot=None, max_delta_step=None, max_depth=8,\n",
      "              max_leaves=None, min_child_weight=None, missing=nan,\n",
      "              monotone_constraints=None, n_estimators=400, n_jobs=None,\n",
      "              num_parallel_tree=None, objective='multi:softmax', predictor=None,\n",
      "              random_state=None, reg_alpha=None, ...), mean_mfcc__kw_args={'sr': 16000, 'n_mfcc': 16, 'n_fft': 256, 'hop_length': 128, 'fmin': 500.0, 'fmax': 3000.0}; total time=  39.2s\n"
     ]
    },
    {
     "name": "stderr",
     "output_type": "stream",
     "text": [
      "/Users/axel/.pyenv/versions/3.8.12/envs/us8kdata/lib/python3.8/site-packages/librosa/util/decorators.py:88: UserWarning: Empty filters detected in mel frequency basis. Some channels will produce empty responses. Try increasing your sampling rate (and fmax) or reducing n_mels.\n",
      "  return f(*args, **kwargs)\n",
      "/Users/axel/.pyenv/versions/3.8.12/envs/us8kdata/lib/python3.8/site-packages/librosa/util/decorators.py:88: UserWarning: Empty filters detected in mel frequency basis. Some channels will produce empty responses. Try increasing your sampling rate (and fmax) or reducing n_mels.\n",
      "  return f(*args, **kwargs)\n"
     ]
    },
    {
     "name": "stdout",
     "output_type": "stream",
     "text": [
      "[CV] END estimator=XGBClassifier(base_score=None, booster=None, callbacks=None,\n",
      "              colsample_bylevel=None, colsample_bynode=None,\n",
      "              colsample_bytree=None, early_stopping_rounds=None,\n",
      "              enable_categorical=False, eval_metric=None, gamma=None,\n",
      "              gpu_id=None, grow_policy=None, importance_type=None,\n",
      "              interaction_constraints=None, learning_rate=0.05, max_bin=None,\n",
      "              max_cat_to_onehot=None, max_delta_step=None, max_depth=8,\n",
      "              max_leaves=None, min_child_weight=None, missing=nan,\n",
      "              monotone_constraints=None, n_estimators=400, n_jobs=None,\n",
      "              num_parallel_tree=None, objective='multi:softmax', predictor=None,\n",
      "              random_state=None, reg_alpha=None, ...), mean_mfcc__kw_args={'sr': 16000, 'n_mfcc': 16, 'n_fft': 256, 'hop_length': 128, 'fmin': 500.0, 'fmax': 3000.0}; total time=  36.1s\n"
     ]
    },
    {
     "name": "stderr",
     "output_type": "stream",
     "text": [
      "/Users/axel/.pyenv/versions/3.8.12/envs/us8kdata/lib/python3.8/site-packages/librosa/util/decorators.py:88: UserWarning: Empty filters detected in mel frequency basis. Some channels will produce empty responses. Try increasing your sampling rate (and fmax) or reducing n_mels.\n",
      "  return f(*args, **kwargs)\n",
      "/Users/axel/.pyenv/versions/3.8.12/envs/us8kdata/lib/python3.8/site-packages/librosa/util/decorators.py:88: UserWarning: Empty filters detected in mel frequency basis. Some channels will produce empty responses. Try increasing your sampling rate (and fmax) or reducing n_mels.\n",
      "  return f(*args, **kwargs)\n"
     ]
    },
    {
     "name": "stdout",
     "output_type": "stream",
     "text": [
      "[CV] END estimator=XGBClassifier(base_score=None, booster=None, callbacks=None,\n",
      "              colsample_bylevel=None, colsample_bynode=None,\n",
      "              colsample_bytree=None, early_stopping_rounds=None,\n",
      "              enable_categorical=False, eval_metric=None, gamma=None,\n",
      "              gpu_id=None, grow_policy=None, importance_type=None,\n",
      "              interaction_constraints=None, learning_rate=0.05, max_bin=None,\n",
      "              max_cat_to_onehot=None, max_delta_step=None, max_depth=8,\n",
      "              max_leaves=None, min_child_weight=None, missing=nan,\n",
      "              monotone_constraints=None, n_estimators=400, n_jobs=None,\n",
      "              num_parallel_tree=None, objective='multi:softmax', predictor=None,\n",
      "              random_state=None, reg_alpha=None, ...), mean_mfcc__kw_args={'sr': 16000, 'n_mfcc': 16, 'n_fft': 256, 'hop_length': 128, 'fmin': 500.0, 'fmax': 4000.0}; total time=  38.3s\n"
     ]
    },
    {
     "name": "stderr",
     "output_type": "stream",
     "text": [
      "/Users/axel/.pyenv/versions/3.8.12/envs/us8kdata/lib/python3.8/site-packages/librosa/util/decorators.py:88: UserWarning: Empty filters detected in mel frequency basis. Some channels will produce empty responses. Try increasing your sampling rate (and fmax) or reducing n_mels.\n",
      "  return f(*args, **kwargs)\n",
      "/Users/axel/.pyenv/versions/3.8.12/envs/us8kdata/lib/python3.8/site-packages/librosa/util/decorators.py:88: UserWarning: Empty filters detected in mel frequency basis. Some channels will produce empty responses. Try increasing your sampling rate (and fmax) or reducing n_mels.\n",
      "  return f(*args, **kwargs)\n"
     ]
    },
    {
     "name": "stdout",
     "output_type": "stream",
     "text": [
      "[CV] END estimator=XGBClassifier(base_score=None, booster=None, callbacks=None,\n",
      "              colsample_bylevel=None, colsample_bynode=None,\n",
      "              colsample_bytree=None, early_stopping_rounds=None,\n",
      "              enable_categorical=False, eval_metric=None, gamma=None,\n",
      "              gpu_id=None, grow_policy=None, importance_type=None,\n",
      "              interaction_constraints=None, learning_rate=0.05, max_bin=None,\n",
      "              max_cat_to_onehot=None, max_delta_step=None, max_depth=8,\n",
      "              max_leaves=None, min_child_weight=None, missing=nan,\n",
      "              monotone_constraints=None, n_estimators=400, n_jobs=None,\n",
      "              num_parallel_tree=None, objective='multi:softmax', predictor=None,\n",
      "              random_state=None, reg_alpha=None, ...), mean_mfcc__kw_args={'sr': 16000, 'n_mfcc': 16, 'n_fft': 256, 'hop_length': 128, 'fmin': 500.0, 'fmax': 4000.0}; total time=  36.5s\n"
     ]
    },
    {
     "name": "stderr",
     "output_type": "stream",
     "text": [
      "/Users/axel/.pyenv/versions/3.8.12/envs/us8kdata/lib/python3.8/site-packages/librosa/util/decorators.py:88: UserWarning: Empty filters detected in mel frequency basis. Some channels will produce empty responses. Try increasing your sampling rate (and fmax) or reducing n_mels.\n",
      "  return f(*args, **kwargs)\n",
      "/Users/axel/.pyenv/versions/3.8.12/envs/us8kdata/lib/python3.8/site-packages/librosa/util/decorators.py:88: UserWarning: Empty filters detected in mel frequency basis. Some channels will produce empty responses. Try increasing your sampling rate (and fmax) or reducing n_mels.\n",
      "  return f(*args, **kwargs)\n"
     ]
    },
    {
     "name": "stdout",
     "output_type": "stream",
     "text": [
      "[CV] END estimator=XGBClassifier(base_score=None, booster=None, callbacks=None,\n",
      "              colsample_bylevel=None, colsample_bynode=None,\n",
      "              colsample_bytree=None, early_stopping_rounds=None,\n",
      "              enable_categorical=False, eval_metric=None, gamma=None,\n",
      "              gpu_id=None, grow_policy=None, importance_type=None,\n",
      "              interaction_constraints=None, learning_rate=0.05, max_bin=None,\n",
      "              max_cat_to_onehot=None, max_delta_step=None, max_depth=8,\n",
      "              max_leaves=None, min_child_weight=None, missing=nan,\n",
      "              monotone_constraints=None, n_estimators=400, n_jobs=None,\n",
      "              num_parallel_tree=None, objective='multi:softmax', predictor=None,\n",
      "              random_state=None, reg_alpha=None, ...), mean_mfcc__kw_args={'sr': 16000, 'n_mfcc': 16, 'n_fft': 256, 'hop_length': 128, 'fmin': 500.0, 'fmax': 5000.0}; total time=  37.2s\n"
     ]
    },
    {
     "name": "stderr",
     "output_type": "stream",
     "text": [
      "/Users/axel/.pyenv/versions/3.8.12/envs/us8kdata/lib/python3.8/site-packages/librosa/util/decorators.py:88: UserWarning: Empty filters detected in mel frequency basis. Some channels will produce empty responses. Try increasing your sampling rate (and fmax) or reducing n_mels.\n",
      "  return f(*args, **kwargs)\n",
      "/Users/axel/.pyenv/versions/3.8.12/envs/us8kdata/lib/python3.8/site-packages/librosa/util/decorators.py:88: UserWarning: Empty filters detected in mel frequency basis. Some channels will produce empty responses. Try increasing your sampling rate (and fmax) or reducing n_mels.\n",
      "  return f(*args, **kwargs)\n"
     ]
    },
    {
     "name": "stdout",
     "output_type": "stream",
     "text": [
      "[CV] END estimator=XGBClassifier(base_score=None, booster=None, callbacks=None,\n",
      "              colsample_bylevel=None, colsample_bynode=None,\n",
      "              colsample_bytree=None, early_stopping_rounds=None,\n",
      "              enable_categorical=False, eval_metric=None, gamma=None,\n",
      "              gpu_id=None, grow_policy=None, importance_type=None,\n",
      "              interaction_constraints=None, learning_rate=0.05, max_bin=None,\n",
      "              max_cat_to_onehot=None, max_delta_step=None, max_depth=8,\n",
      "              max_leaves=None, min_child_weight=None, missing=nan,\n",
      "              monotone_constraints=None, n_estimators=400, n_jobs=None,\n",
      "              num_parallel_tree=None, objective='multi:softmax', predictor=None,\n",
      "              random_state=None, reg_alpha=None, ...), mean_mfcc__kw_args={'sr': 16000, 'n_mfcc': 16, 'n_fft': 256, 'hop_length': 128, 'fmin': 500.0, 'fmax': 5000.0}; total time=  37.2s\n",
      "[CV] END estimator=XGBClassifier(base_score=None, booster=None, callbacks=None,\n",
      "              colsample_bylevel=None, colsample_bynode=None,\n",
      "              colsample_bytree=None, early_stopping_rounds=None,\n",
      "              enable_categorical=False, eval_metric=None, gamma=None,\n",
      "              gpu_id=None, grow_policy=None, importance_type=None,\n",
      "              interaction_constraints=None, learning_rate=0.05, max_bin=None,\n",
      "              max_cat_to_onehot=None, max_delta_step=None, max_depth=8,\n",
      "              max_leaves=None, min_child_weight=None, missing=nan,\n",
      "              monotone_constraints=None, n_estimators=400, n_jobs=None,\n",
      "              num_parallel_tree=None, objective='multi:softmax', predictor=None,\n",
      "              random_state=None, reg_alpha=None, ...), mean_mfcc__kw_args={'sr': 16000, 'n_mfcc': 16, 'n_fft': 512, 'hop_length': 128, 'fmin': 0.0, 'fmax': None}; total time=  45.9s\n",
      "[CV] END estimator=XGBClassifier(base_score=None, booster=None, callbacks=None,\n",
      "              colsample_bylevel=None, colsample_bynode=None,\n",
      "              colsample_bytree=None, early_stopping_rounds=None,\n",
      "              enable_categorical=False, eval_metric=None, gamma=None,\n",
      "              gpu_id=None, grow_policy=None, importance_type=None,\n",
      "              interaction_constraints=None, learning_rate=0.05, max_bin=None,\n",
      "              max_cat_to_onehot=None, max_delta_step=None, max_depth=8,\n",
      "              max_leaves=None, min_child_weight=None, missing=nan,\n",
      "              monotone_constraints=None, n_estimators=400, n_jobs=None,\n",
      "              num_parallel_tree=None, objective='multi:softmax', predictor=None,\n",
      "              random_state=None, reg_alpha=None, ...), mean_mfcc__kw_args={'sr': 16000, 'n_mfcc': 16, 'n_fft': 512, 'hop_length': 128, 'fmin': 0.0, 'fmax': None}; total time=  47.2s\n",
      "[CV] END estimator=XGBClassifier(base_score=None, booster=None, callbacks=None,\n",
      "              colsample_bylevel=None, colsample_bynode=None,\n",
      "              colsample_bytree=None, early_stopping_rounds=None,\n",
      "              enable_categorical=False, eval_metric=None, gamma=None,\n",
      "              gpu_id=None, grow_policy=None, importance_type=None,\n",
      "              interaction_constraints=None, learning_rate=0.05, max_bin=None,\n",
      "              max_cat_to_onehot=None, max_delta_step=None, max_depth=8,\n",
      "              max_leaves=None, min_child_weight=None, missing=nan,\n",
      "              monotone_constraints=None, n_estimators=400, n_jobs=None,\n",
      "              num_parallel_tree=None, objective='multi:softmax', predictor=None,\n",
      "              random_state=None, reg_alpha=None, ...), mean_mfcc__kw_args={'sr': 16000, 'n_mfcc': 16, 'n_fft': 512, 'hop_length': 128, 'fmin': 0.0, 'fmax': 3000.0}; total time=  45.8s\n",
      "[CV] END estimator=XGBClassifier(base_score=None, booster=None, callbacks=None,\n",
      "              colsample_bylevel=None, colsample_bynode=None,\n",
      "              colsample_bytree=None, early_stopping_rounds=None,\n",
      "              enable_categorical=False, eval_metric=None, gamma=None,\n",
      "              gpu_id=None, grow_policy=None, importance_type=None,\n",
      "              interaction_constraints=None, learning_rate=0.05, max_bin=None,\n",
      "              max_cat_to_onehot=None, max_delta_step=None, max_depth=8,\n",
      "              max_leaves=None, min_child_weight=None, missing=nan,\n",
      "              monotone_constraints=None, n_estimators=400, n_jobs=None,\n",
      "              num_parallel_tree=None, objective='multi:softmax', predictor=None,\n",
      "              random_state=None, reg_alpha=None, ...), mean_mfcc__kw_args={'sr': 16000, 'n_mfcc': 16, 'n_fft': 512, 'hop_length': 128, 'fmin': 0.0, 'fmax': 3000.0}; total time=  44.0s\n",
      "[CV] END estimator=XGBClassifier(base_score=None, booster=None, callbacks=None,\n",
      "              colsample_bylevel=None, colsample_bynode=None,\n",
      "              colsample_bytree=None, early_stopping_rounds=None,\n",
      "              enable_categorical=False, eval_metric=None, gamma=None,\n",
      "              gpu_id=None, grow_policy=None, importance_type=None,\n",
      "              interaction_constraints=None, learning_rate=0.05, max_bin=None,\n",
      "              max_cat_to_onehot=None, max_delta_step=None, max_depth=8,\n",
      "              max_leaves=None, min_child_weight=None, missing=nan,\n",
      "              monotone_constraints=None, n_estimators=400, n_jobs=None,\n",
      "              num_parallel_tree=None, objective='multi:softmax', predictor=None,\n",
      "              random_state=None, reg_alpha=None, ...), mean_mfcc__kw_args={'sr': 16000, 'n_mfcc': 16, 'n_fft': 512, 'hop_length': 128, 'fmin': 0.0, 'fmax': 4000.0}; total time=  45.5s\n",
      "[CV] END estimator=XGBClassifier(base_score=None, booster=None, callbacks=None,\n",
      "              colsample_bylevel=None, colsample_bynode=None,\n",
      "              colsample_bytree=None, early_stopping_rounds=None,\n",
      "              enable_categorical=False, eval_metric=None, gamma=None,\n",
      "              gpu_id=None, grow_policy=None, importance_type=None,\n",
      "              interaction_constraints=None, learning_rate=0.05, max_bin=None,\n",
      "              max_cat_to_onehot=None, max_delta_step=None, max_depth=8,\n",
      "              max_leaves=None, min_child_weight=None, missing=nan,\n",
      "              monotone_constraints=None, n_estimators=400, n_jobs=None,\n",
      "              num_parallel_tree=None, objective='multi:softmax', predictor=None,\n",
      "              random_state=None, reg_alpha=None, ...), mean_mfcc__kw_args={'sr': 16000, 'n_mfcc': 16, 'n_fft': 512, 'hop_length': 128, 'fmin': 0.0, 'fmax': 4000.0}; total time=  43.7s\n",
      "[CV] END estimator=XGBClassifier(base_score=None, booster=None, callbacks=None,\n",
      "              colsample_bylevel=None, colsample_bynode=None,\n",
      "              colsample_bytree=None, early_stopping_rounds=None,\n",
      "              enable_categorical=False, eval_metric=None, gamma=None,\n",
      "              gpu_id=None, grow_policy=None, importance_type=None,\n",
      "              interaction_constraints=None, learning_rate=0.05, max_bin=None,\n",
      "              max_cat_to_onehot=None, max_delta_step=None, max_depth=8,\n",
      "              max_leaves=None, min_child_weight=None, missing=nan,\n",
      "              monotone_constraints=None, n_estimators=400, n_jobs=None,\n",
      "              num_parallel_tree=None, objective='multi:softmax', predictor=None,\n",
      "              random_state=None, reg_alpha=None, ...), mean_mfcc__kw_args={'sr': 16000, 'n_mfcc': 16, 'n_fft': 512, 'hop_length': 128, 'fmin': 0.0, 'fmax': 5000.0}; total time=  45.2s\n",
      "[CV] END estimator=XGBClassifier(base_score=None, booster=None, callbacks=None,\n",
      "              colsample_bylevel=None, colsample_bynode=None,\n",
      "              colsample_bytree=None, early_stopping_rounds=None,\n",
      "              enable_categorical=False, eval_metric=None, gamma=None,\n",
      "              gpu_id=None, grow_policy=None, importance_type=None,\n",
      "              interaction_constraints=None, learning_rate=0.05, max_bin=None,\n",
      "              max_cat_to_onehot=None, max_delta_step=None, max_depth=8,\n",
      "              max_leaves=None, min_child_weight=None, missing=nan,\n",
      "              monotone_constraints=None, n_estimators=400, n_jobs=None,\n",
      "              num_parallel_tree=None, objective='multi:softmax', predictor=None,\n",
      "              random_state=None, reg_alpha=None, ...), mean_mfcc__kw_args={'sr': 16000, 'n_mfcc': 16, 'n_fft': 512, 'hop_length': 128, 'fmin': 0.0, 'fmax': 5000.0}; total time=  43.7s\n",
      "[CV] END estimator=XGBClassifier(base_score=None, booster=None, callbacks=None,\n",
      "              colsample_bylevel=None, colsample_bynode=None,\n",
      "              colsample_bytree=None, early_stopping_rounds=None,\n",
      "              enable_categorical=False, eval_metric=None, gamma=None,\n",
      "              gpu_id=None, grow_policy=None, importance_type=None,\n",
      "              interaction_constraints=None, learning_rate=0.05, max_bin=None,\n",
      "              max_cat_to_onehot=None, max_delta_step=None, max_depth=8,\n",
      "              max_leaves=None, min_child_weight=None, missing=nan,\n",
      "              monotone_constraints=None, n_estimators=400, n_jobs=None,\n",
      "              num_parallel_tree=None, objective='multi:softmax', predictor=None,\n",
      "              random_state=None, reg_alpha=None, ...), mean_mfcc__kw_args={'sr': 16000, 'n_mfcc': 16, 'n_fft': 512, 'hop_length': 128, 'fmin': 300.0, 'fmax': None}; total time=  45.6s\n"
     ]
    },
    {
     "name": "stdout",
     "output_type": "stream",
     "text": [
      "[CV] END estimator=XGBClassifier(base_score=None, booster=None, callbacks=None,\n",
      "              colsample_bylevel=None, colsample_bynode=None,\n",
      "              colsample_bytree=None, early_stopping_rounds=None,\n",
      "              enable_categorical=False, eval_metric=None, gamma=None,\n",
      "              gpu_id=None, grow_policy=None, importance_type=None,\n",
      "              interaction_constraints=None, learning_rate=0.05, max_bin=None,\n",
      "              max_cat_to_onehot=None, max_delta_step=None, max_depth=8,\n",
      "              max_leaves=None, min_child_weight=None, missing=nan,\n",
      "              monotone_constraints=None, n_estimators=400, n_jobs=None,\n",
      "              num_parallel_tree=None, objective='multi:softmax', predictor=None,\n",
      "              random_state=None, reg_alpha=None, ...), mean_mfcc__kw_args={'sr': 16000, 'n_mfcc': 16, 'n_fft': 512, 'hop_length': 128, 'fmin': 300.0, 'fmax': None}; total time=  45.4s\n",
      "[CV] END estimator=XGBClassifier(base_score=None, booster=None, callbacks=None,\n",
      "              colsample_bylevel=None, colsample_bynode=None,\n",
      "              colsample_bytree=None, early_stopping_rounds=None,\n",
      "              enable_categorical=False, eval_metric=None, gamma=None,\n",
      "              gpu_id=None, grow_policy=None, importance_type=None,\n",
      "              interaction_constraints=None, learning_rate=0.05, max_bin=None,\n",
      "              max_cat_to_onehot=None, max_delta_step=None, max_depth=8,\n",
      "              max_leaves=None, min_child_weight=None, missing=nan,\n",
      "              monotone_constraints=None, n_estimators=400, n_jobs=None,\n",
      "              num_parallel_tree=None, objective='multi:softmax', predictor=None,\n",
      "              random_state=None, reg_alpha=None, ...), mean_mfcc__kw_args={'sr': 16000, 'n_mfcc': 16, 'n_fft': 512, 'hop_length': 128, 'fmin': 300.0, 'fmax': 3000.0}; total time=  46.5s\n",
      "[CV] END estimator=XGBClassifier(base_score=None, booster=None, callbacks=None,\n",
      "              colsample_bylevel=None, colsample_bynode=None,\n",
      "              colsample_bytree=None, early_stopping_rounds=None,\n",
      "              enable_categorical=False, eval_metric=None, gamma=None,\n",
      "              gpu_id=None, grow_policy=None, importance_type=None,\n",
      "              interaction_constraints=None, learning_rate=0.05, max_bin=None,\n",
      "              max_cat_to_onehot=None, max_delta_step=None, max_depth=8,\n",
      "              max_leaves=None, min_child_weight=None, missing=nan,\n",
      "              monotone_constraints=None, n_estimators=400, n_jobs=None,\n",
      "              num_parallel_tree=None, objective='multi:softmax', predictor=None,\n",
      "              random_state=None, reg_alpha=None, ...), mean_mfcc__kw_args={'sr': 16000, 'n_mfcc': 16, 'n_fft': 512, 'hop_length': 128, 'fmin': 300.0, 'fmax': 3000.0}; total time=  44.2s\n",
      "[CV] END estimator=XGBClassifier(base_score=None, booster=None, callbacks=None,\n",
      "              colsample_bylevel=None, colsample_bynode=None,\n",
      "              colsample_bytree=None, early_stopping_rounds=None,\n",
      "              enable_categorical=False, eval_metric=None, gamma=None,\n",
      "              gpu_id=None, grow_policy=None, importance_type=None,\n",
      "              interaction_constraints=None, learning_rate=0.05, max_bin=None,\n",
      "              max_cat_to_onehot=None, max_delta_step=None, max_depth=8,\n",
      "              max_leaves=None, min_child_weight=None, missing=nan,\n",
      "              monotone_constraints=None, n_estimators=400, n_jobs=None,\n",
      "              num_parallel_tree=None, objective='multi:softmax', predictor=None,\n",
      "              random_state=None, reg_alpha=None, ...), mean_mfcc__kw_args={'sr': 16000, 'n_mfcc': 16, 'n_fft': 512, 'hop_length': 128, 'fmin': 300.0, 'fmax': 4000.0}; total time=  46.0s\n",
      "[CV] END estimator=XGBClassifier(base_score=None, booster=None, callbacks=None,\n",
      "              colsample_bylevel=None, colsample_bynode=None,\n",
      "              colsample_bytree=None, early_stopping_rounds=None,\n",
      "              enable_categorical=False, eval_metric=None, gamma=None,\n",
      "              gpu_id=None, grow_policy=None, importance_type=None,\n",
      "              interaction_constraints=None, learning_rate=0.05, max_bin=None,\n",
      "              max_cat_to_onehot=None, max_delta_step=None, max_depth=8,\n",
      "              max_leaves=None, min_child_weight=None, missing=nan,\n",
      "              monotone_constraints=None, n_estimators=400, n_jobs=None,\n",
      "              num_parallel_tree=None, objective='multi:softmax', predictor=None,\n",
      "              random_state=None, reg_alpha=None, ...), mean_mfcc__kw_args={'sr': 16000, 'n_mfcc': 16, 'n_fft': 512, 'hop_length': 128, 'fmin': 300.0, 'fmax': 4000.0}; total time=  43.6s\n",
      "[CV] END estimator=XGBClassifier(base_score=None, booster=None, callbacks=None,\n",
      "              colsample_bylevel=None, colsample_bynode=None,\n",
      "              colsample_bytree=None, early_stopping_rounds=None,\n",
      "              enable_categorical=False, eval_metric=None, gamma=None,\n",
      "              gpu_id=None, grow_policy=None, importance_type=None,\n",
      "              interaction_constraints=None, learning_rate=0.05, max_bin=None,\n",
      "              max_cat_to_onehot=None, max_delta_step=None, max_depth=8,\n",
      "              max_leaves=None, min_child_weight=None, missing=nan,\n",
      "              monotone_constraints=None, n_estimators=400, n_jobs=None,\n",
      "              num_parallel_tree=None, objective='multi:softmax', predictor=None,\n",
      "              random_state=None, reg_alpha=None, ...), mean_mfcc__kw_args={'sr': 16000, 'n_mfcc': 16, 'n_fft': 512, 'hop_length': 128, 'fmin': 300.0, 'fmax': 5000.0}; total time=  46.5s\n",
      "[CV] END estimator=XGBClassifier(base_score=None, booster=None, callbacks=None,\n",
      "              colsample_bylevel=None, colsample_bynode=None,\n",
      "              colsample_bytree=None, early_stopping_rounds=None,\n",
      "              enable_categorical=False, eval_metric=None, gamma=None,\n",
      "              gpu_id=None, grow_policy=None, importance_type=None,\n",
      "              interaction_constraints=None, learning_rate=0.05, max_bin=None,\n",
      "              max_cat_to_onehot=None, max_delta_step=None, max_depth=8,\n",
      "              max_leaves=None, min_child_weight=None, missing=nan,\n",
      "              monotone_constraints=None, n_estimators=400, n_jobs=None,\n",
      "              num_parallel_tree=None, objective='multi:softmax', predictor=None,\n",
      "              random_state=None, reg_alpha=None, ...), mean_mfcc__kw_args={'sr': 16000, 'n_mfcc': 16, 'n_fft': 512, 'hop_length': 128, 'fmin': 300.0, 'fmax': 5000.0}; total time=  42.5s\n",
      "[CV] END estimator=XGBClassifier(base_score=None, booster=None, callbacks=None,\n",
      "              colsample_bylevel=None, colsample_bynode=None,\n",
      "              colsample_bytree=None, early_stopping_rounds=None,\n",
      "              enable_categorical=False, eval_metric=None, gamma=None,\n",
      "              gpu_id=None, grow_policy=None, importance_type=None,\n",
      "              interaction_constraints=None, learning_rate=0.05, max_bin=None,\n",
      "              max_cat_to_onehot=None, max_delta_step=None, max_depth=8,\n",
      "              max_leaves=None, min_child_weight=None, missing=nan,\n",
      "              monotone_constraints=None, n_estimators=400, n_jobs=None,\n",
      "              num_parallel_tree=None, objective='multi:softmax', predictor=None,\n",
      "              random_state=None, reg_alpha=None, ...), mean_mfcc__kw_args={'sr': 16000, 'n_mfcc': 16, 'n_fft': 512, 'hop_length': 128, 'fmin': 500.0, 'fmax': None}; total time=  45.6s\n",
      "[CV] END estimator=XGBClassifier(base_score=None, booster=None, callbacks=None,\n",
      "              colsample_bylevel=None, colsample_bynode=None,\n",
      "              colsample_bytree=None, early_stopping_rounds=None,\n",
      "              enable_categorical=False, eval_metric=None, gamma=None,\n",
      "              gpu_id=None, grow_policy=None, importance_type=None,\n",
      "              interaction_constraints=None, learning_rate=0.05, max_bin=None,\n",
      "              max_cat_to_onehot=None, max_delta_step=None, max_depth=8,\n",
      "              max_leaves=None, min_child_weight=None, missing=nan,\n",
      "              monotone_constraints=None, n_estimators=400, n_jobs=None,\n",
      "              num_parallel_tree=None, objective='multi:softmax', predictor=None,\n",
      "              random_state=None, reg_alpha=None, ...), mean_mfcc__kw_args={'sr': 16000, 'n_mfcc': 16, 'n_fft': 512, 'hop_length': 128, 'fmin': 500.0, 'fmax': None}; total time=  46.4s\n",
      "[CV] END estimator=XGBClassifier(base_score=None, booster=None, callbacks=None,\n",
      "              colsample_bylevel=None, colsample_bynode=None,\n",
      "              colsample_bytree=None, early_stopping_rounds=None,\n",
      "              enable_categorical=False, eval_metric=None, gamma=None,\n",
      "              gpu_id=None, grow_policy=None, importance_type=None,\n",
      "              interaction_constraints=None, learning_rate=0.05, max_bin=None,\n",
      "              max_cat_to_onehot=None, max_delta_step=None, max_depth=8,\n",
      "              max_leaves=None, min_child_weight=None, missing=nan,\n",
      "              monotone_constraints=None, n_estimators=400, n_jobs=None,\n",
      "              num_parallel_tree=None, objective='multi:softmax', predictor=None,\n",
      "              random_state=None, reg_alpha=None, ...), mean_mfcc__kw_args={'sr': 16000, 'n_mfcc': 16, 'n_fft': 512, 'hop_length': 128, 'fmin': 500.0, 'fmax': 3000.0}; total time=  44.2s\n"
     ]
    },
    {
     "name": "stdout",
     "output_type": "stream",
     "text": [
      "[CV] END estimator=XGBClassifier(base_score=None, booster=None, callbacks=None,\n",
      "              colsample_bylevel=None, colsample_bynode=None,\n",
      "              colsample_bytree=None, early_stopping_rounds=None,\n",
      "              enable_categorical=False, eval_metric=None, gamma=None,\n",
      "              gpu_id=None, grow_policy=None, importance_type=None,\n",
      "              interaction_constraints=None, learning_rate=0.05, max_bin=None,\n",
      "              max_cat_to_onehot=None, max_delta_step=None, max_depth=8,\n",
      "              max_leaves=None, min_child_weight=None, missing=nan,\n",
      "              monotone_constraints=None, n_estimators=400, n_jobs=None,\n",
      "              num_parallel_tree=None, objective='multi:softmax', predictor=None,\n",
      "              random_state=None, reg_alpha=None, ...), mean_mfcc__kw_args={'sr': 16000, 'n_mfcc': 16, 'n_fft': 512, 'hop_length': 128, 'fmin': 500.0, 'fmax': 3000.0}; total time=  43.6s\n",
      "[CV] END estimator=XGBClassifier(base_score=None, booster=None, callbacks=None,\n",
      "              colsample_bylevel=None, colsample_bynode=None,\n",
      "              colsample_bytree=None, early_stopping_rounds=None,\n",
      "              enable_categorical=False, eval_metric=None, gamma=None,\n",
      "              gpu_id=None, grow_policy=None, importance_type=None,\n",
      "              interaction_constraints=None, learning_rate=0.05, max_bin=None,\n",
      "              max_cat_to_onehot=None, max_delta_step=None, max_depth=8,\n",
      "              max_leaves=None, min_child_weight=None, missing=nan,\n",
      "              monotone_constraints=None, n_estimators=400, n_jobs=None,\n",
      "              num_parallel_tree=None, objective='multi:softmax', predictor=None,\n",
      "              random_state=None, reg_alpha=None, ...), mean_mfcc__kw_args={'sr': 16000, 'n_mfcc': 16, 'n_fft': 512, 'hop_length': 128, 'fmin': 500.0, 'fmax': 4000.0}; total time=  44.4s\n",
      "[CV] END estimator=XGBClassifier(base_score=None, booster=None, callbacks=None,\n",
      "              colsample_bylevel=None, colsample_bynode=None,\n",
      "              colsample_bytree=None, early_stopping_rounds=None,\n",
      "              enable_categorical=False, eval_metric=None, gamma=None,\n",
      "              gpu_id=None, grow_policy=None, importance_type=None,\n",
      "              interaction_constraints=None, learning_rate=0.05, max_bin=None,\n",
      "              max_cat_to_onehot=None, max_delta_step=None, max_depth=8,\n",
      "              max_leaves=None, min_child_weight=None, missing=nan,\n",
      "              monotone_constraints=None, n_estimators=400, n_jobs=None,\n",
      "              num_parallel_tree=None, objective='multi:softmax', predictor=None,\n",
      "              random_state=None, reg_alpha=None, ...), mean_mfcc__kw_args={'sr': 16000, 'n_mfcc': 16, 'n_fft': 512, 'hop_length': 128, 'fmin': 500.0, 'fmax': 4000.0}; total time=  42.4s\n",
      "[CV] END estimator=XGBClassifier(base_score=None, booster=None, callbacks=None,\n",
      "              colsample_bylevel=None, colsample_bynode=None,\n",
      "              colsample_bytree=None, early_stopping_rounds=None,\n",
      "              enable_categorical=False, eval_metric=None, gamma=None,\n",
      "              gpu_id=None, grow_policy=None, importance_type=None,\n",
      "              interaction_constraints=None, learning_rate=0.05, max_bin=None,\n",
      "              max_cat_to_onehot=None, max_delta_step=None, max_depth=8,\n",
      "              max_leaves=None, min_child_weight=None, missing=nan,\n",
      "              monotone_constraints=None, n_estimators=400, n_jobs=None,\n",
      "              num_parallel_tree=None, objective='multi:softmax', predictor=None,\n",
      "              random_state=None, reg_alpha=None, ...), mean_mfcc__kw_args={'sr': 16000, 'n_mfcc': 16, 'n_fft': 512, 'hop_length': 128, 'fmin': 500.0, 'fmax': 5000.0}; total time=  45.2s\n",
      "[CV] END estimator=XGBClassifier(base_score=None, booster=None, callbacks=None,\n",
      "              colsample_bylevel=None, colsample_bynode=None,\n",
      "              colsample_bytree=None, early_stopping_rounds=None,\n",
      "              enable_categorical=False, eval_metric=None, gamma=None,\n",
      "              gpu_id=None, grow_policy=None, importance_type=None,\n",
      "              interaction_constraints=None, learning_rate=0.05, max_bin=None,\n",
      "              max_cat_to_onehot=None, max_delta_step=None, max_depth=8,\n",
      "              max_leaves=None, min_child_weight=None, missing=nan,\n",
      "              monotone_constraints=None, n_estimators=400, n_jobs=None,\n",
      "              num_parallel_tree=None, objective='multi:softmax', predictor=None,\n",
      "              random_state=None, reg_alpha=None, ...), mean_mfcc__kw_args={'sr': 16000, 'n_mfcc': 16, 'n_fft': 512, 'hop_length': 128, 'fmin': 500.0, 'fmax': 5000.0}; total time=  42.4s\n",
      "[CV] END estimator=XGBClassifier(base_score=None, booster=None, callbacks=None,\n",
      "              colsample_bylevel=None, colsample_bynode=None,\n",
      "              colsample_bytree=None, early_stopping_rounds=None,\n",
      "              enable_categorical=False, eval_metric=None, gamma=None,\n",
      "              gpu_id=None, grow_policy=None, importance_type=None,\n",
      "              interaction_constraints=None, learning_rate=0.05, max_bin=None,\n",
      "              max_cat_to_onehot=None, max_delta_step=None, max_depth=8,\n",
      "              max_leaves=None, min_child_weight=None, missing=nan,\n",
      "              monotone_constraints=None, n_estimators=400, n_jobs=None,\n",
      "              num_parallel_tree=None, objective='multi:softmax', predictor=None,\n",
      "              random_state=None, reg_alpha=None, ...), mean_mfcc__kw_args={'sr': 16000, 'n_mfcc': 16, 'n_fft': 768, 'hop_length': 128, 'fmin': 0.0, 'fmax': None}; total time=  52.6s\n",
      "[CV] END estimator=XGBClassifier(base_score=None, booster=None, callbacks=None,\n",
      "              colsample_bylevel=None, colsample_bynode=None,\n",
      "              colsample_bytree=None, early_stopping_rounds=None,\n",
      "              enable_categorical=False, eval_metric=None, gamma=None,\n",
      "              gpu_id=None, grow_policy=None, importance_type=None,\n",
      "              interaction_constraints=None, learning_rate=0.05, max_bin=None,\n",
      "              max_cat_to_onehot=None, max_delta_step=None, max_depth=8,\n",
      "              max_leaves=None, min_child_weight=None, missing=nan,\n",
      "              monotone_constraints=None, n_estimators=400, n_jobs=None,\n",
      "              num_parallel_tree=None, objective='multi:softmax', predictor=None,\n",
      "              random_state=None, reg_alpha=None, ...), mean_mfcc__kw_args={'sr': 16000, 'n_mfcc': 16, 'n_fft': 768, 'hop_length': 128, 'fmin': 0.0, 'fmax': None}; total time=  51.6s\n",
      "[CV] END estimator=XGBClassifier(base_score=None, booster=None, callbacks=None,\n",
      "              colsample_bylevel=None, colsample_bynode=None,\n",
      "              colsample_bytree=None, early_stopping_rounds=None,\n",
      "              enable_categorical=False, eval_metric=None, gamma=None,\n",
      "              gpu_id=None, grow_policy=None, importance_type=None,\n",
      "              interaction_constraints=None, learning_rate=0.05, max_bin=None,\n",
      "              max_cat_to_onehot=None, max_delta_step=None, max_depth=8,\n",
      "              max_leaves=None, min_child_weight=None, missing=nan,\n",
      "              monotone_constraints=None, n_estimators=400, n_jobs=None,\n",
      "              num_parallel_tree=None, objective='multi:softmax', predictor=None,\n",
      "              random_state=None, reg_alpha=None, ...), mean_mfcc__kw_args={'sr': 16000, 'n_mfcc': 16, 'n_fft': 768, 'hop_length': 128, 'fmin': 0.0, 'fmax': 3000.0}; total time=  53.8s\n",
      "[CV] END estimator=XGBClassifier(base_score=None, booster=None, callbacks=None,\n",
      "              colsample_bylevel=None, colsample_bynode=None,\n",
      "              colsample_bytree=None, early_stopping_rounds=None,\n",
      "              enable_categorical=False, eval_metric=None, gamma=None,\n",
      "              gpu_id=None, grow_policy=None, importance_type=None,\n",
      "              interaction_constraints=None, learning_rate=0.05, max_bin=None,\n",
      "              max_cat_to_onehot=None, max_delta_step=None, max_depth=8,\n",
      "              max_leaves=None, min_child_weight=None, missing=nan,\n",
      "              monotone_constraints=None, n_estimators=400, n_jobs=None,\n",
      "              num_parallel_tree=None, objective='multi:softmax', predictor=None,\n",
      "              random_state=None, reg_alpha=None, ...), mean_mfcc__kw_args={'sr': 16000, 'n_mfcc': 16, 'n_fft': 768, 'hop_length': 128, 'fmin': 0.0, 'fmax': 3000.0}; total time=  50.8s\n",
      "[CV] END estimator=XGBClassifier(base_score=None, booster=None, callbacks=None,\n",
      "              colsample_bylevel=None, colsample_bynode=None,\n",
      "              colsample_bytree=None, early_stopping_rounds=None,\n",
      "              enable_categorical=False, eval_metric=None, gamma=None,\n",
      "              gpu_id=None, grow_policy=None, importance_type=None,\n",
      "              interaction_constraints=None, learning_rate=0.05, max_bin=None,\n",
      "              max_cat_to_onehot=None, max_delta_step=None, max_depth=8,\n",
      "              max_leaves=None, min_child_weight=None, missing=nan,\n",
      "              monotone_constraints=None, n_estimators=400, n_jobs=None,\n",
      "              num_parallel_tree=None, objective='multi:softmax', predictor=None,\n",
      "              random_state=None, reg_alpha=None, ...), mean_mfcc__kw_args={'sr': 16000, 'n_mfcc': 16, 'n_fft': 768, 'hop_length': 128, 'fmin': 0.0, 'fmax': 4000.0}; total time=  54.2s\n"
     ]
    },
    {
     "name": "stdout",
     "output_type": "stream",
     "text": [
      "[CV] END estimator=XGBClassifier(base_score=None, booster=None, callbacks=None,\n",
      "              colsample_bylevel=None, colsample_bynode=None,\n",
      "              colsample_bytree=None, early_stopping_rounds=None,\n",
      "              enable_categorical=False, eval_metric=None, gamma=None,\n",
      "              gpu_id=None, grow_policy=None, importance_type=None,\n",
      "              interaction_constraints=None, learning_rate=0.05, max_bin=None,\n",
      "              max_cat_to_onehot=None, max_delta_step=None, max_depth=8,\n",
      "              max_leaves=None, min_child_weight=None, missing=nan,\n",
      "              monotone_constraints=None, n_estimators=400, n_jobs=None,\n",
      "              num_parallel_tree=None, objective='multi:softmax', predictor=None,\n",
      "              random_state=None, reg_alpha=None, ...), mean_mfcc__kw_args={'sr': 16000, 'n_mfcc': 16, 'n_fft': 768, 'hop_length': 128, 'fmin': 0.0, 'fmax': 4000.0}; total time=  52.1s\n",
      "[CV] END estimator=XGBClassifier(base_score=None, booster=None, callbacks=None,\n",
      "              colsample_bylevel=None, colsample_bynode=None,\n",
      "              colsample_bytree=None, early_stopping_rounds=None,\n",
      "              enable_categorical=False, eval_metric=None, gamma=None,\n",
      "              gpu_id=None, grow_policy=None, importance_type=None,\n",
      "              interaction_constraints=None, learning_rate=0.05, max_bin=None,\n",
      "              max_cat_to_onehot=None, max_delta_step=None, max_depth=8,\n",
      "              max_leaves=None, min_child_weight=None, missing=nan,\n",
      "              monotone_constraints=None, n_estimators=400, n_jobs=None,\n",
      "              num_parallel_tree=None, objective='multi:softmax', predictor=None,\n",
      "              random_state=None, reg_alpha=None, ...), mean_mfcc__kw_args={'sr': 16000, 'n_mfcc': 16, 'n_fft': 768, 'hop_length': 128, 'fmin': 0.0, 'fmax': 5000.0}; total time=  53.5s\n",
      "[CV] END estimator=XGBClassifier(base_score=None, booster=None, callbacks=None,\n",
      "              colsample_bylevel=None, colsample_bynode=None,\n",
      "              colsample_bytree=None, early_stopping_rounds=None,\n",
      "              enable_categorical=False, eval_metric=None, gamma=None,\n",
      "              gpu_id=None, grow_policy=None, importance_type=None,\n",
      "              interaction_constraints=None, learning_rate=0.05, max_bin=None,\n",
      "              max_cat_to_onehot=None, max_delta_step=None, max_depth=8,\n",
      "              max_leaves=None, min_child_weight=None, missing=nan,\n",
      "              monotone_constraints=None, n_estimators=400, n_jobs=None,\n",
      "              num_parallel_tree=None, objective='multi:softmax', predictor=None,\n",
      "              random_state=None, reg_alpha=None, ...), mean_mfcc__kw_args={'sr': 16000, 'n_mfcc': 16, 'n_fft': 768, 'hop_length': 128, 'fmin': 0.0, 'fmax': 5000.0}; total time=  53.9s\n",
      "[CV] END estimator=XGBClassifier(base_score=None, booster=None, callbacks=None,\n",
      "              colsample_bylevel=None, colsample_bynode=None,\n",
      "              colsample_bytree=None, early_stopping_rounds=None,\n",
      "              enable_categorical=False, eval_metric=None, gamma=None,\n",
      "              gpu_id=None, grow_policy=None, importance_type=None,\n",
      "              interaction_constraints=None, learning_rate=0.05, max_bin=None,\n",
      "              max_cat_to_onehot=None, max_delta_step=None, max_depth=8,\n",
      "              max_leaves=None, min_child_weight=None, missing=nan,\n",
      "              monotone_constraints=None, n_estimators=400, n_jobs=None,\n",
      "              num_parallel_tree=None, objective='multi:softmax', predictor=None,\n",
      "              random_state=None, reg_alpha=None, ...), mean_mfcc__kw_args={'sr': 16000, 'n_mfcc': 16, 'n_fft': 768, 'hop_length': 128, 'fmin': 300.0, 'fmax': None}; total time=  55.2s\n",
      "[CV] END estimator=XGBClassifier(base_score=None, booster=None, callbacks=None,\n",
      "              colsample_bylevel=None, colsample_bynode=None,\n",
      "              colsample_bytree=None, early_stopping_rounds=None,\n",
      "              enable_categorical=False, eval_metric=None, gamma=None,\n",
      "              gpu_id=None, grow_policy=None, importance_type=None,\n",
      "              interaction_constraints=None, learning_rate=0.05, max_bin=None,\n",
      "              max_cat_to_onehot=None, max_delta_step=None, max_depth=8,\n",
      "              max_leaves=None, min_child_weight=None, missing=nan,\n",
      "              monotone_constraints=None, n_estimators=400, n_jobs=None,\n",
      "              num_parallel_tree=None, objective='multi:softmax', predictor=None,\n",
      "              random_state=None, reg_alpha=None, ...), mean_mfcc__kw_args={'sr': 16000, 'n_mfcc': 16, 'n_fft': 768, 'hop_length': 128, 'fmin': 300.0, 'fmax': None}; total time=  53.1s\n",
      "[CV] END estimator=XGBClassifier(base_score=None, booster=None, callbacks=None,\n",
      "              colsample_bylevel=None, colsample_bynode=None,\n",
      "              colsample_bytree=None, early_stopping_rounds=None,\n",
      "              enable_categorical=False, eval_metric=None, gamma=None,\n",
      "              gpu_id=None, grow_policy=None, importance_type=None,\n",
      "              interaction_constraints=None, learning_rate=0.05, max_bin=None,\n",
      "              max_cat_to_onehot=None, max_delta_step=None, max_depth=8,\n",
      "              max_leaves=None, min_child_weight=None, missing=nan,\n",
      "              monotone_constraints=None, n_estimators=400, n_jobs=None,\n",
      "              num_parallel_tree=None, objective='multi:softmax', predictor=None,\n",
      "              random_state=None, reg_alpha=None, ...), mean_mfcc__kw_args={'sr': 16000, 'n_mfcc': 16, 'n_fft': 768, 'hop_length': 128, 'fmin': 300.0, 'fmax': 3000.0}; total time=  52.8s\n",
      "[CV] END estimator=XGBClassifier(base_score=None, booster=None, callbacks=None,\n",
      "              colsample_bylevel=None, colsample_bynode=None,\n",
      "              colsample_bytree=None, early_stopping_rounds=None,\n",
      "              enable_categorical=False, eval_metric=None, gamma=None,\n",
      "              gpu_id=None, grow_policy=None, importance_type=None,\n",
      "              interaction_constraints=None, learning_rate=0.05, max_bin=None,\n",
      "              max_cat_to_onehot=None, max_delta_step=None, max_depth=8,\n",
      "              max_leaves=None, min_child_weight=None, missing=nan,\n",
      "              monotone_constraints=None, n_estimators=400, n_jobs=None,\n",
      "              num_parallel_tree=None, objective='multi:softmax', predictor=None,\n",
      "              random_state=None, reg_alpha=None, ...), mean_mfcc__kw_args={'sr': 16000, 'n_mfcc': 16, 'n_fft': 768, 'hop_length': 128, 'fmin': 300.0, 'fmax': 3000.0}; total time=  50.6s\n",
      "[CV] END estimator=XGBClassifier(base_score=None, booster=None, callbacks=None,\n",
      "              colsample_bylevel=None, colsample_bynode=None,\n",
      "              colsample_bytree=None, early_stopping_rounds=None,\n",
      "              enable_categorical=False, eval_metric=None, gamma=None,\n",
      "              gpu_id=None, grow_policy=None, importance_type=None,\n",
      "              interaction_constraints=None, learning_rate=0.05, max_bin=None,\n",
      "              max_cat_to_onehot=None, max_delta_step=None, max_depth=8,\n",
      "              max_leaves=None, min_child_weight=None, missing=nan,\n",
      "              monotone_constraints=None, n_estimators=400, n_jobs=None,\n",
      "              num_parallel_tree=None, objective='multi:softmax', predictor=None,\n",
      "              random_state=None, reg_alpha=None, ...), mean_mfcc__kw_args={'sr': 16000, 'n_mfcc': 16, 'n_fft': 768, 'hop_length': 128, 'fmin': 300.0, 'fmax': 4000.0}; total time=  54.0s\n",
      "[CV] END estimator=XGBClassifier(base_score=None, booster=None, callbacks=None,\n",
      "              colsample_bylevel=None, colsample_bynode=None,\n",
      "              colsample_bytree=None, early_stopping_rounds=None,\n",
      "              enable_categorical=False, eval_metric=None, gamma=None,\n",
      "              gpu_id=None, grow_policy=None, importance_type=None,\n",
      "              interaction_constraints=None, learning_rate=0.05, max_bin=None,\n",
      "              max_cat_to_onehot=None, max_delta_step=None, max_depth=8,\n",
      "              max_leaves=None, min_child_weight=None, missing=nan,\n",
      "              monotone_constraints=None, n_estimators=400, n_jobs=None,\n",
      "              num_parallel_tree=None, objective='multi:softmax', predictor=None,\n",
      "              random_state=None, reg_alpha=None, ...), mean_mfcc__kw_args={'sr': 16000, 'n_mfcc': 16, 'n_fft': 768, 'hop_length': 128, 'fmin': 300.0, 'fmax': 4000.0}; total time=  52.3s\n",
      "[CV] END estimator=XGBClassifier(base_score=None, booster=None, callbacks=None,\n",
      "              colsample_bylevel=None, colsample_bynode=None,\n",
      "              colsample_bytree=None, early_stopping_rounds=None,\n",
      "              enable_categorical=False, eval_metric=None, gamma=None,\n",
      "              gpu_id=None, grow_policy=None, importance_type=None,\n",
      "              interaction_constraints=None, learning_rate=0.05, max_bin=None,\n",
      "              max_cat_to_onehot=None, max_delta_step=None, max_depth=8,\n",
      "              max_leaves=None, min_child_weight=None, missing=nan,\n",
      "              monotone_constraints=None, n_estimators=400, n_jobs=None,\n",
      "              num_parallel_tree=None, objective='multi:softmax', predictor=None,\n",
      "              random_state=None, reg_alpha=None, ...), mean_mfcc__kw_args={'sr': 16000, 'n_mfcc': 16, 'n_fft': 768, 'hop_length': 128, 'fmin': 300.0, 'fmax': 5000.0}; total time=  54.0s\n"
     ]
    },
    {
     "name": "stdout",
     "output_type": "stream",
     "text": [
      "[CV] END estimator=XGBClassifier(base_score=None, booster=None, callbacks=None,\n",
      "              colsample_bylevel=None, colsample_bynode=None,\n",
      "              colsample_bytree=None, early_stopping_rounds=None,\n",
      "              enable_categorical=False, eval_metric=None, gamma=None,\n",
      "              gpu_id=None, grow_policy=None, importance_type=None,\n",
      "              interaction_constraints=None, learning_rate=0.05, max_bin=None,\n",
      "              max_cat_to_onehot=None, max_delta_step=None, max_depth=8,\n",
      "              max_leaves=None, min_child_weight=None, missing=nan,\n",
      "              monotone_constraints=None, n_estimators=400, n_jobs=None,\n",
      "              num_parallel_tree=None, objective='multi:softmax', predictor=None,\n",
      "              random_state=None, reg_alpha=None, ...), mean_mfcc__kw_args={'sr': 16000, 'n_mfcc': 16, 'n_fft': 768, 'hop_length': 128, 'fmin': 300.0, 'fmax': 5000.0}; total time=  59.6s\n",
      "[CV] END estimator=XGBClassifier(base_score=None, booster=None, callbacks=None,\n",
      "              colsample_bylevel=None, colsample_bynode=None,\n",
      "              colsample_bytree=None, early_stopping_rounds=None,\n",
      "              enable_categorical=False, eval_metric=None, gamma=None,\n",
      "              gpu_id=None, grow_policy=None, importance_type=None,\n",
      "              interaction_constraints=None, learning_rate=0.05, max_bin=None,\n",
      "              max_cat_to_onehot=None, max_delta_step=None, max_depth=8,\n",
      "              max_leaves=None, min_child_weight=None, missing=nan,\n",
      "              monotone_constraints=None, n_estimators=400, n_jobs=None,\n",
      "              num_parallel_tree=None, objective='multi:softmax', predictor=None,\n",
      "              random_state=None, reg_alpha=None, ...), mean_mfcc__kw_args={'sr': 16000, 'n_mfcc': 16, 'n_fft': 768, 'hop_length': 128, 'fmin': 500.0, 'fmax': None}; total time=  52.4s\n",
      "[CV] END estimator=XGBClassifier(base_score=None, booster=None, callbacks=None,\n",
      "              colsample_bylevel=None, colsample_bynode=None,\n",
      "              colsample_bytree=None, early_stopping_rounds=None,\n",
      "              enable_categorical=False, eval_metric=None, gamma=None,\n",
      "              gpu_id=None, grow_policy=None, importance_type=None,\n",
      "              interaction_constraints=None, learning_rate=0.05, max_bin=None,\n",
      "              max_cat_to_onehot=None, max_delta_step=None, max_depth=8,\n",
      "              max_leaves=None, min_child_weight=None, missing=nan,\n",
      "              monotone_constraints=None, n_estimators=400, n_jobs=None,\n",
      "              num_parallel_tree=None, objective='multi:softmax', predictor=None,\n",
      "              random_state=None, reg_alpha=None, ...), mean_mfcc__kw_args={'sr': 16000, 'n_mfcc': 16, 'n_fft': 768, 'hop_length': 128, 'fmin': 500.0, 'fmax': None}; total time=  53.6s\n",
      "[CV] END estimator=XGBClassifier(base_score=None, booster=None, callbacks=None,\n",
      "              colsample_bylevel=None, colsample_bynode=None,\n",
      "              colsample_bytree=None, early_stopping_rounds=None,\n",
      "              enable_categorical=False, eval_metric=None, gamma=None,\n",
      "              gpu_id=None, grow_policy=None, importance_type=None,\n",
      "              interaction_constraints=None, learning_rate=0.05, max_bin=None,\n",
      "              max_cat_to_onehot=None, max_delta_step=None, max_depth=8,\n",
      "              max_leaves=None, min_child_weight=None, missing=nan,\n",
      "              monotone_constraints=None, n_estimators=400, n_jobs=None,\n",
      "              num_parallel_tree=None, objective='multi:softmax', predictor=None,\n",
      "              random_state=None, reg_alpha=None, ...), mean_mfcc__kw_args={'sr': 16000, 'n_mfcc': 16, 'n_fft': 768, 'hop_length': 128, 'fmin': 500.0, 'fmax': 3000.0}; total time=  54.1s\n",
      "[CV] END estimator=XGBClassifier(base_score=None, booster=None, callbacks=None,\n",
      "              colsample_bylevel=None, colsample_bynode=None,\n",
      "              colsample_bytree=None, early_stopping_rounds=None,\n",
      "              enable_categorical=False, eval_metric=None, gamma=None,\n",
      "              gpu_id=None, grow_policy=None, importance_type=None,\n",
      "              interaction_constraints=None, learning_rate=0.05, max_bin=None,\n",
      "              max_cat_to_onehot=None, max_delta_step=None, max_depth=8,\n",
      "              max_leaves=None, min_child_weight=None, missing=nan,\n",
      "              monotone_constraints=None, n_estimators=400, n_jobs=None,\n",
      "              num_parallel_tree=None, objective='multi:softmax', predictor=None,\n",
      "              random_state=None, reg_alpha=None, ...), mean_mfcc__kw_args={'sr': 16000, 'n_mfcc': 16, 'n_fft': 768, 'hop_length': 128, 'fmin': 500.0, 'fmax': 3000.0}; total time=  53.1s\n",
      "[CV] END estimator=XGBClassifier(base_score=None, booster=None, callbacks=None,\n",
      "              colsample_bylevel=None, colsample_bynode=None,\n",
      "              colsample_bytree=None, early_stopping_rounds=None,\n",
      "              enable_categorical=False, eval_metric=None, gamma=None,\n",
      "              gpu_id=None, grow_policy=None, importance_type=None,\n",
      "              interaction_constraints=None, learning_rate=0.05, max_bin=None,\n",
      "              max_cat_to_onehot=None, max_delta_step=None, max_depth=8,\n",
      "              max_leaves=None, min_child_weight=None, missing=nan,\n",
      "              monotone_constraints=None, n_estimators=400, n_jobs=None,\n",
      "              num_parallel_tree=None, objective='multi:softmax', predictor=None,\n",
      "              random_state=None, reg_alpha=None, ...), mean_mfcc__kw_args={'sr': 16000, 'n_mfcc': 16, 'n_fft': 768, 'hop_length': 128, 'fmin': 500.0, 'fmax': 4000.0}; total time=  53.5s\n",
      "[CV] END estimator=XGBClassifier(base_score=None, booster=None, callbacks=None,\n",
      "              colsample_bylevel=None, colsample_bynode=None,\n",
      "              colsample_bytree=None, early_stopping_rounds=None,\n",
      "              enable_categorical=False, eval_metric=None, gamma=None,\n",
      "              gpu_id=None, grow_policy=None, importance_type=None,\n",
      "              interaction_constraints=None, learning_rate=0.05, max_bin=None,\n",
      "              max_cat_to_onehot=None, max_delta_step=None, max_depth=8,\n",
      "              max_leaves=None, min_child_weight=None, missing=nan,\n",
      "              monotone_constraints=None, n_estimators=400, n_jobs=None,\n",
      "              num_parallel_tree=None, objective='multi:softmax', predictor=None,\n",
      "              random_state=None, reg_alpha=None, ...), mean_mfcc__kw_args={'sr': 16000, 'n_mfcc': 16, 'n_fft': 768, 'hop_length': 128, 'fmin': 500.0, 'fmax': 4000.0}; total time=  53.4s\n",
      "[CV] END estimator=XGBClassifier(base_score=None, booster=None, callbacks=None,\n",
      "              colsample_bylevel=None, colsample_bynode=None,\n",
      "              colsample_bytree=None, early_stopping_rounds=None,\n",
      "              enable_categorical=False, eval_metric=None, gamma=None,\n",
      "              gpu_id=None, grow_policy=None, importance_type=None,\n",
      "              interaction_constraints=None, learning_rate=0.05, max_bin=None,\n",
      "              max_cat_to_onehot=None, max_delta_step=None, max_depth=8,\n",
      "              max_leaves=None, min_child_weight=None, missing=nan,\n",
      "              monotone_constraints=None, n_estimators=400, n_jobs=None,\n",
      "              num_parallel_tree=None, objective='multi:softmax', predictor=None,\n",
      "              random_state=None, reg_alpha=None, ...), mean_mfcc__kw_args={'sr': 16000, 'n_mfcc': 16, 'n_fft': 768, 'hop_length': 128, 'fmin': 500.0, 'fmax': 5000.0}; total time=  56.8s\n",
      "[CV] END estimator=XGBClassifier(base_score=None, booster=None, callbacks=None,\n",
      "              colsample_bylevel=None, colsample_bynode=None,\n",
      "              colsample_bytree=None, early_stopping_rounds=None,\n",
      "              enable_categorical=False, eval_metric=None, gamma=None,\n",
      "              gpu_id=None, grow_policy=None, importance_type=None,\n",
      "              interaction_constraints=None, learning_rate=0.05, max_bin=None,\n",
      "              max_cat_to_onehot=None, max_delta_step=None, max_depth=8,\n",
      "              max_leaves=None, min_child_weight=None, missing=nan,\n",
      "              monotone_constraints=None, n_estimators=400, n_jobs=None,\n",
      "              num_parallel_tree=None, objective='multi:softmax', predictor=None,\n",
      "              random_state=None, reg_alpha=None, ...), mean_mfcc__kw_args={'sr': 16000, 'n_mfcc': 16, 'n_fft': 768, 'hop_length': 128, 'fmin': 500.0, 'fmax': 5000.0}; total time=  53.2s\n"
     ]
    },
    {
     "name": "stderr",
     "output_type": "stream",
     "text": [
      "/Users/axel/.pyenv/versions/3.8.12/envs/us8kdata/lib/python3.8/site-packages/librosa/util/decorators.py:88: UserWarning: n_fft=1024 is too small for input signal of length=800\n",
      "  return f(*args, **kwargs)\n",
      "/Users/axel/.pyenv/versions/3.8.12/envs/us8kdata/lib/python3.8/site-packages/librosa/util/decorators.py:88: UserWarning: n_fft=1024 is too small for input signal of length=960\n",
      "  return f(*args, **kwargs)\n",
      "/Users/axel/.pyenv/versions/3.8.12/envs/us8kdata/lib/python3.8/site-packages/librosa/util/decorators.py:88: UserWarning: n_fft=1024 is too small for input signal of length=960\n",
      "  return f(*args, **kwargs)\n"
     ]
    },
    {
     "name": "stdout",
     "output_type": "stream",
     "text": [
      "[CV] END estimator=XGBClassifier(base_score=None, booster=None, callbacks=None,\n",
      "              colsample_bylevel=None, colsample_bynode=None,\n",
      "              colsample_bytree=None, early_stopping_rounds=None,\n",
      "              enable_categorical=False, eval_metric=None, gamma=None,\n",
      "              gpu_id=None, grow_policy=None, importance_type=None,\n",
      "              interaction_constraints=None, learning_rate=0.05, max_bin=None,\n",
      "              max_cat_to_onehot=None, max_delta_step=None, max_depth=8,\n",
      "              max_leaves=None, min_child_weight=None, missing=nan,\n",
      "              monotone_constraints=None, n_estimators=400, n_jobs=None,\n",
      "              num_parallel_tree=None, objective='multi:softmax', predictor=None,\n",
      "              random_state=None, reg_alpha=None, ...), mean_mfcc__kw_args={'sr': 16000, 'n_mfcc': 16, 'n_fft': 1024, 'hop_length': 128, 'fmin': 0.0, 'fmax': None}; total time= 1.0min\n"
     ]
    },
    {
     "name": "stderr",
     "output_type": "stream",
     "text": [
      "/Users/axel/.pyenv/versions/3.8.12/envs/us8kdata/lib/python3.8/site-packages/librosa/util/decorators.py:88: UserWarning: n_fft=1024 is too small for input signal of length=960\n",
      "  return f(*args, **kwargs)\n",
      "/Users/axel/.pyenv/versions/3.8.12/envs/us8kdata/lib/python3.8/site-packages/librosa/util/decorators.py:88: UserWarning: n_fft=1024 is too small for input signal of length=800\n",
      "  return f(*args, **kwargs)\n",
      "/Users/axel/.pyenv/versions/3.8.12/envs/us8kdata/lib/python3.8/site-packages/librosa/util/decorators.py:88: UserWarning: n_fft=1024 is too small for input signal of length=960\n",
      "  return f(*args, **kwargs)\n"
     ]
    },
    {
     "name": "stdout",
     "output_type": "stream",
     "text": [
      "[CV] END estimator=XGBClassifier(base_score=None, booster=None, callbacks=None,\n",
      "              colsample_bylevel=None, colsample_bynode=None,\n",
      "              colsample_bytree=None, early_stopping_rounds=None,\n",
      "              enable_categorical=False, eval_metric=None, gamma=None,\n",
      "              gpu_id=None, grow_policy=None, importance_type=None,\n",
      "              interaction_constraints=None, learning_rate=0.05, max_bin=None,\n",
      "              max_cat_to_onehot=None, max_delta_step=None, max_depth=8,\n",
      "              max_leaves=None, min_child_weight=None, missing=nan,\n",
      "              monotone_constraints=None, n_estimators=400, n_jobs=None,\n",
      "              num_parallel_tree=None, objective='multi:softmax', predictor=None,\n",
      "              random_state=None, reg_alpha=None, ...), mean_mfcc__kw_args={'sr': 16000, 'n_mfcc': 16, 'n_fft': 1024, 'hop_length': 128, 'fmin': 0.0, 'fmax': None}; total time= 1.0min\n"
     ]
    },
    {
     "name": "stderr",
     "output_type": "stream",
     "text": [
      "/Users/axel/.pyenv/versions/3.8.12/envs/us8kdata/lib/python3.8/site-packages/librosa/util/decorators.py:88: UserWarning: n_fft=1024 is too small for input signal of length=800\n",
      "  return f(*args, **kwargs)\n",
      "/Users/axel/.pyenv/versions/3.8.12/envs/us8kdata/lib/python3.8/site-packages/librosa/util/decorators.py:88: UserWarning: n_fft=1024 is too small for input signal of length=960\n",
      "  return f(*args, **kwargs)\n",
      "/Users/axel/.pyenv/versions/3.8.12/envs/us8kdata/lib/python3.8/site-packages/librosa/util/decorators.py:88: UserWarning: n_fft=1024 is too small for input signal of length=960\n",
      "  return f(*args, **kwargs)\n"
     ]
    },
    {
     "name": "stdout",
     "output_type": "stream",
     "text": [
      "[CV] END estimator=XGBClassifier(base_score=None, booster=None, callbacks=None,\n",
      "              colsample_bylevel=None, colsample_bynode=None,\n",
      "              colsample_bytree=None, early_stopping_rounds=None,\n",
      "              enable_categorical=False, eval_metric=None, gamma=None,\n",
      "              gpu_id=None, grow_policy=None, importance_type=None,\n",
      "              interaction_constraints=None, learning_rate=0.05, max_bin=None,\n",
      "              max_cat_to_onehot=None, max_delta_step=None, max_depth=8,\n",
      "              max_leaves=None, min_child_weight=None, missing=nan,\n",
      "              monotone_constraints=None, n_estimators=400, n_jobs=None,\n",
      "              num_parallel_tree=None, objective='multi:softmax', predictor=None,\n",
      "              random_state=None, reg_alpha=None, ...), mean_mfcc__kw_args={'sr': 16000, 'n_mfcc': 16, 'n_fft': 1024, 'hop_length': 128, 'fmin': 0.0, 'fmax': 3000.0}; total time= 1.0min\n"
     ]
    },
    {
     "name": "stderr",
     "output_type": "stream",
     "text": [
      "/Users/axel/.pyenv/versions/3.8.12/envs/us8kdata/lib/python3.8/site-packages/librosa/util/decorators.py:88: UserWarning: n_fft=1024 is too small for input signal of length=960\n",
      "  return f(*args, **kwargs)\n",
      "/Users/axel/.pyenv/versions/3.8.12/envs/us8kdata/lib/python3.8/site-packages/librosa/util/decorators.py:88: UserWarning: n_fft=1024 is too small for input signal of length=800\n",
      "  return f(*args, **kwargs)\n",
      "/Users/axel/.pyenv/versions/3.8.12/envs/us8kdata/lib/python3.8/site-packages/librosa/util/decorators.py:88: UserWarning: n_fft=1024 is too small for input signal of length=960\n",
      "  return f(*args, **kwargs)\n"
     ]
    },
    {
     "name": "stdout",
     "output_type": "stream",
     "text": [
      "[CV] END estimator=XGBClassifier(base_score=None, booster=None, callbacks=None,\n",
      "              colsample_bylevel=None, colsample_bynode=None,\n",
      "              colsample_bytree=None, early_stopping_rounds=None,\n",
      "              enable_categorical=False, eval_metric=None, gamma=None,\n",
      "              gpu_id=None, grow_policy=None, importance_type=None,\n",
      "              interaction_constraints=None, learning_rate=0.05, max_bin=None,\n",
      "              max_cat_to_onehot=None, max_delta_step=None, max_depth=8,\n",
      "              max_leaves=None, min_child_weight=None, missing=nan,\n",
      "              monotone_constraints=None, n_estimators=400, n_jobs=None,\n",
      "              num_parallel_tree=None, objective='multi:softmax', predictor=None,\n",
      "              random_state=None, reg_alpha=None, ...), mean_mfcc__kw_args={'sr': 16000, 'n_mfcc': 16, 'n_fft': 1024, 'hop_length': 128, 'fmin': 0.0, 'fmax': 3000.0}; total time= 1.0min\n"
     ]
    },
    {
     "name": "stderr",
     "output_type": "stream",
     "text": [
      "/Users/axel/.pyenv/versions/3.8.12/envs/us8kdata/lib/python3.8/site-packages/librosa/util/decorators.py:88: UserWarning: n_fft=1024 is too small for input signal of length=800\n",
      "  return f(*args, **kwargs)\n",
      "/Users/axel/.pyenv/versions/3.8.12/envs/us8kdata/lib/python3.8/site-packages/librosa/util/decorators.py:88: UserWarning: n_fft=1024 is too small for input signal of length=960\n",
      "  return f(*args, **kwargs)\n",
      "/Users/axel/.pyenv/versions/3.8.12/envs/us8kdata/lib/python3.8/site-packages/librosa/util/decorators.py:88: UserWarning: n_fft=1024 is too small for input signal of length=960\n",
      "  return f(*args, **kwargs)\n"
     ]
    },
    {
     "name": "stdout",
     "output_type": "stream",
     "text": [
      "[CV] END estimator=XGBClassifier(base_score=None, booster=None, callbacks=None,\n",
      "              colsample_bylevel=None, colsample_bynode=None,\n",
      "              colsample_bytree=None, early_stopping_rounds=None,\n",
      "              enable_categorical=False, eval_metric=None, gamma=None,\n",
      "              gpu_id=None, grow_policy=None, importance_type=None,\n",
      "              interaction_constraints=None, learning_rate=0.05, max_bin=None,\n",
      "              max_cat_to_onehot=None, max_delta_step=None, max_depth=8,\n",
      "              max_leaves=None, min_child_weight=None, missing=nan,\n",
      "              monotone_constraints=None, n_estimators=400, n_jobs=None,\n",
      "              num_parallel_tree=None, objective='multi:softmax', predictor=None,\n",
      "              random_state=None, reg_alpha=None, ...), mean_mfcc__kw_args={'sr': 16000, 'n_mfcc': 16, 'n_fft': 1024, 'hop_length': 128, 'fmin': 0.0, 'fmax': 4000.0}; total time= 1.0min\n"
     ]
    },
    {
     "name": "stderr",
     "output_type": "stream",
     "text": [
      "/Users/axel/.pyenv/versions/3.8.12/envs/us8kdata/lib/python3.8/site-packages/librosa/util/decorators.py:88: UserWarning: n_fft=1024 is too small for input signal of length=960\n",
      "  return f(*args, **kwargs)\n",
      "/Users/axel/.pyenv/versions/3.8.12/envs/us8kdata/lib/python3.8/site-packages/librosa/util/decorators.py:88: UserWarning: n_fft=1024 is too small for input signal of length=800\n",
      "  return f(*args, **kwargs)\n",
      "/Users/axel/.pyenv/versions/3.8.12/envs/us8kdata/lib/python3.8/site-packages/librosa/util/decorators.py:88: UserWarning: n_fft=1024 is too small for input signal of length=960\n",
      "  return f(*args, **kwargs)\n"
     ]
    },
    {
     "name": "stdout",
     "output_type": "stream",
     "text": [
      "[CV] END estimator=XGBClassifier(base_score=None, booster=None, callbacks=None,\n",
      "              colsample_bylevel=None, colsample_bynode=None,\n",
      "              colsample_bytree=None, early_stopping_rounds=None,\n",
      "              enable_categorical=False, eval_metric=None, gamma=None,\n",
      "              gpu_id=None, grow_policy=None, importance_type=None,\n",
      "              interaction_constraints=None, learning_rate=0.05, max_bin=None,\n",
      "              max_cat_to_onehot=None, max_delta_step=None, max_depth=8,\n",
      "              max_leaves=None, min_child_weight=None, missing=nan,\n",
      "              monotone_constraints=None, n_estimators=400, n_jobs=None,\n",
      "              num_parallel_tree=None, objective='multi:softmax', predictor=None,\n",
      "              random_state=None, reg_alpha=None, ...), mean_mfcc__kw_args={'sr': 16000, 'n_mfcc': 16, 'n_fft': 1024, 'hop_length': 128, 'fmin': 0.0, 'fmax': 4000.0}; total time=  59.8s\n"
     ]
    },
    {
     "name": "stderr",
     "output_type": "stream",
     "text": [
      "/Users/axel/.pyenv/versions/3.8.12/envs/us8kdata/lib/python3.8/site-packages/librosa/util/decorators.py:88: UserWarning: n_fft=1024 is too small for input signal of length=800\n",
      "  return f(*args, **kwargs)\n",
      "/Users/axel/.pyenv/versions/3.8.12/envs/us8kdata/lib/python3.8/site-packages/librosa/util/decorators.py:88: UserWarning: n_fft=1024 is too small for input signal of length=960\n",
      "  return f(*args, **kwargs)\n",
      "/Users/axel/.pyenv/versions/3.8.12/envs/us8kdata/lib/python3.8/site-packages/librosa/util/decorators.py:88: UserWarning: n_fft=1024 is too small for input signal of length=960\n",
      "  return f(*args, **kwargs)\n"
     ]
    },
    {
     "name": "stdout",
     "output_type": "stream",
     "text": [
      "[CV] END estimator=XGBClassifier(base_score=None, booster=None, callbacks=None,\n",
      "              colsample_bylevel=None, colsample_bynode=None,\n",
      "              colsample_bytree=None, early_stopping_rounds=None,\n",
      "              enable_categorical=False, eval_metric=None, gamma=None,\n",
      "              gpu_id=None, grow_policy=None, importance_type=None,\n",
      "              interaction_constraints=None, learning_rate=0.05, max_bin=None,\n",
      "              max_cat_to_onehot=None, max_delta_step=None, max_depth=8,\n",
      "              max_leaves=None, min_child_weight=None, missing=nan,\n",
      "              monotone_constraints=None, n_estimators=400, n_jobs=None,\n",
      "              num_parallel_tree=None, objective='multi:softmax', predictor=None,\n",
      "              random_state=None, reg_alpha=None, ...), mean_mfcc__kw_args={'sr': 16000, 'n_mfcc': 16, 'n_fft': 1024, 'hop_length': 128, 'fmin': 0.0, 'fmax': 5000.0}; total time= 1.0min\n"
     ]
    },
    {
     "name": "stderr",
     "output_type": "stream",
     "text": [
      "/Users/axel/.pyenv/versions/3.8.12/envs/us8kdata/lib/python3.8/site-packages/librosa/util/decorators.py:88: UserWarning: n_fft=1024 is too small for input signal of length=960\n",
      "  return f(*args, **kwargs)\n",
      "/Users/axel/.pyenv/versions/3.8.12/envs/us8kdata/lib/python3.8/site-packages/librosa/util/decorators.py:88: UserWarning: n_fft=1024 is too small for input signal of length=800\n",
      "  return f(*args, **kwargs)\n",
      "/Users/axel/.pyenv/versions/3.8.12/envs/us8kdata/lib/python3.8/site-packages/librosa/util/decorators.py:88: UserWarning: n_fft=1024 is too small for input signal of length=960\n",
      "  return f(*args, **kwargs)\n"
     ]
    },
    {
     "name": "stdout",
     "output_type": "stream",
     "text": [
      "[CV] END estimator=XGBClassifier(base_score=None, booster=None, callbacks=None,\n",
      "              colsample_bylevel=None, colsample_bynode=None,\n",
      "              colsample_bytree=None, early_stopping_rounds=None,\n",
      "              enable_categorical=False, eval_metric=None, gamma=None,\n",
      "              gpu_id=None, grow_policy=None, importance_type=None,\n",
      "              interaction_constraints=None, learning_rate=0.05, max_bin=None,\n",
      "              max_cat_to_onehot=None, max_delta_step=None, max_depth=8,\n",
      "              max_leaves=None, min_child_weight=None, missing=nan,\n",
      "              monotone_constraints=None, n_estimators=400, n_jobs=None,\n",
      "              num_parallel_tree=None, objective='multi:softmax', predictor=None,\n",
      "              random_state=None, reg_alpha=None, ...), mean_mfcc__kw_args={'sr': 16000, 'n_mfcc': 16, 'n_fft': 1024, 'hop_length': 128, 'fmin': 0.0, 'fmax': 5000.0}; total time= 1.0min\n"
     ]
    },
    {
     "name": "stderr",
     "output_type": "stream",
     "text": [
      "/Users/axel/.pyenv/versions/3.8.12/envs/us8kdata/lib/python3.8/site-packages/librosa/util/decorators.py:88: UserWarning: n_fft=1024 is too small for input signal of length=800\n",
      "  return f(*args, **kwargs)\n",
      "/Users/axel/.pyenv/versions/3.8.12/envs/us8kdata/lib/python3.8/site-packages/librosa/util/decorators.py:88: UserWarning: n_fft=1024 is too small for input signal of length=960\n",
      "  return f(*args, **kwargs)\n",
      "/Users/axel/.pyenv/versions/3.8.12/envs/us8kdata/lib/python3.8/site-packages/librosa/util/decorators.py:88: UserWarning: n_fft=1024 is too small for input signal of length=960\n",
      "  return f(*args, **kwargs)\n"
     ]
    },
    {
     "name": "stdout",
     "output_type": "stream",
     "text": [
      "[CV] END estimator=XGBClassifier(base_score=None, booster=None, callbacks=None,\n",
      "              colsample_bylevel=None, colsample_bynode=None,\n",
      "              colsample_bytree=None, early_stopping_rounds=None,\n",
      "              enable_categorical=False, eval_metric=None, gamma=None,\n",
      "              gpu_id=None, grow_policy=None, importance_type=None,\n",
      "              interaction_constraints=None, learning_rate=0.05, max_bin=None,\n",
      "              max_cat_to_onehot=None, max_delta_step=None, max_depth=8,\n",
      "              max_leaves=None, min_child_weight=None, missing=nan,\n",
      "              monotone_constraints=None, n_estimators=400, n_jobs=None,\n",
      "              num_parallel_tree=None, objective='multi:softmax', predictor=None,\n",
      "              random_state=None, reg_alpha=None, ...), mean_mfcc__kw_args={'sr': 16000, 'n_mfcc': 16, 'n_fft': 1024, 'hop_length': 128, 'fmin': 300.0, 'fmax': None}; total time= 1.0min\n"
     ]
    },
    {
     "name": "stderr",
     "output_type": "stream",
     "text": [
      "/Users/axel/.pyenv/versions/3.8.12/envs/us8kdata/lib/python3.8/site-packages/librosa/util/decorators.py:88: UserWarning: n_fft=1024 is too small for input signal of length=960\n",
      "  return f(*args, **kwargs)\n",
      "/Users/axel/.pyenv/versions/3.8.12/envs/us8kdata/lib/python3.8/site-packages/librosa/util/decorators.py:88: UserWarning: n_fft=1024 is too small for input signal of length=800\n",
      "  return f(*args, **kwargs)\n",
      "/Users/axel/.pyenv/versions/3.8.12/envs/us8kdata/lib/python3.8/site-packages/librosa/util/decorators.py:88: UserWarning: n_fft=1024 is too small for input signal of length=960\n",
      "  return f(*args, **kwargs)\n"
     ]
    },
    {
     "name": "stdout",
     "output_type": "stream",
     "text": [
      "[CV] END estimator=XGBClassifier(base_score=None, booster=None, callbacks=None,\n",
      "              colsample_bylevel=None, colsample_bynode=None,\n",
      "              colsample_bytree=None, early_stopping_rounds=None,\n",
      "              enable_categorical=False, eval_metric=None, gamma=None,\n",
      "              gpu_id=None, grow_policy=None, importance_type=None,\n",
      "              interaction_constraints=None, learning_rate=0.05, max_bin=None,\n",
      "              max_cat_to_onehot=None, max_delta_step=None, max_depth=8,\n",
      "              max_leaves=None, min_child_weight=None, missing=nan,\n",
      "              monotone_constraints=None, n_estimators=400, n_jobs=None,\n",
      "              num_parallel_tree=None, objective='multi:softmax', predictor=None,\n",
      "              random_state=None, reg_alpha=None, ...), mean_mfcc__kw_args={'sr': 16000, 'n_mfcc': 16, 'n_fft': 1024, 'hop_length': 128, 'fmin': 300.0, 'fmax': None}; total time= 1.0min\n"
     ]
    },
    {
     "name": "stderr",
     "output_type": "stream",
     "text": [
      "/Users/axel/.pyenv/versions/3.8.12/envs/us8kdata/lib/python3.8/site-packages/librosa/util/decorators.py:88: UserWarning: n_fft=1024 is too small for input signal of length=800\n",
      "  return f(*args, **kwargs)\n",
      "/Users/axel/.pyenv/versions/3.8.12/envs/us8kdata/lib/python3.8/site-packages/librosa/util/decorators.py:88: UserWarning: n_fft=1024 is too small for input signal of length=960\n",
      "  return f(*args, **kwargs)\n",
      "/Users/axel/.pyenv/versions/3.8.12/envs/us8kdata/lib/python3.8/site-packages/librosa/util/decorators.py:88: UserWarning: n_fft=1024 is too small for input signal of length=960\n",
      "  return f(*args, **kwargs)\n"
     ]
    },
    {
     "name": "stdout",
     "output_type": "stream",
     "text": [
      "[CV] END estimator=XGBClassifier(base_score=None, booster=None, callbacks=None,\n",
      "              colsample_bylevel=None, colsample_bynode=None,\n",
      "              colsample_bytree=None, early_stopping_rounds=None,\n",
      "              enable_categorical=False, eval_metric=None, gamma=None,\n",
      "              gpu_id=None, grow_policy=None, importance_type=None,\n",
      "              interaction_constraints=None, learning_rate=0.05, max_bin=None,\n",
      "              max_cat_to_onehot=None, max_delta_step=None, max_depth=8,\n",
      "              max_leaves=None, min_child_weight=None, missing=nan,\n",
      "              monotone_constraints=None, n_estimators=400, n_jobs=None,\n",
      "              num_parallel_tree=None, objective='multi:softmax', predictor=None,\n",
      "              random_state=None, reg_alpha=None, ...), mean_mfcc__kw_args={'sr': 16000, 'n_mfcc': 16, 'n_fft': 1024, 'hop_length': 128, 'fmin': 300.0, 'fmax': 3000.0}; total time= 1.1min\n"
     ]
    },
    {
     "name": "stderr",
     "output_type": "stream",
     "text": [
      "/Users/axel/.pyenv/versions/3.8.12/envs/us8kdata/lib/python3.8/site-packages/librosa/util/decorators.py:88: UserWarning: n_fft=1024 is too small for input signal of length=960\n",
      "  return f(*args, **kwargs)\n",
      "/Users/axel/.pyenv/versions/3.8.12/envs/us8kdata/lib/python3.8/site-packages/librosa/util/decorators.py:88: UserWarning: n_fft=1024 is too small for input signal of length=800\n",
      "  return f(*args, **kwargs)\n",
      "/Users/axel/.pyenv/versions/3.8.12/envs/us8kdata/lib/python3.8/site-packages/librosa/util/decorators.py:88: UserWarning: n_fft=1024 is too small for input signal of length=960\n",
      "  return f(*args, **kwargs)\n"
     ]
    },
    {
     "name": "stdout",
     "output_type": "stream",
     "text": [
      "[CV] END estimator=XGBClassifier(base_score=None, booster=None, callbacks=None,\n",
      "              colsample_bylevel=None, colsample_bynode=None,\n",
      "              colsample_bytree=None, early_stopping_rounds=None,\n",
      "              enable_categorical=False, eval_metric=None, gamma=None,\n",
      "              gpu_id=None, grow_policy=None, importance_type=None,\n",
      "              interaction_constraints=None, learning_rate=0.05, max_bin=None,\n",
      "              max_cat_to_onehot=None, max_delta_step=None, max_depth=8,\n",
      "              max_leaves=None, min_child_weight=None, missing=nan,\n",
      "              monotone_constraints=None, n_estimators=400, n_jobs=None,\n",
      "              num_parallel_tree=None, objective='multi:softmax', predictor=None,\n",
      "              random_state=None, reg_alpha=None, ...), mean_mfcc__kw_args={'sr': 16000, 'n_mfcc': 16, 'n_fft': 1024, 'hop_length': 128, 'fmin': 300.0, 'fmax': 3000.0}; total time= 1.1min\n"
     ]
    },
    {
     "name": "stderr",
     "output_type": "stream",
     "text": [
      "/Users/axel/.pyenv/versions/3.8.12/envs/us8kdata/lib/python3.8/site-packages/librosa/util/decorators.py:88: UserWarning: n_fft=1024 is too small for input signal of length=800\n",
      "  return f(*args, **kwargs)\n",
      "/Users/axel/.pyenv/versions/3.8.12/envs/us8kdata/lib/python3.8/site-packages/librosa/util/decorators.py:88: UserWarning: n_fft=1024 is too small for input signal of length=960\n",
      "  return f(*args, **kwargs)\n",
      "/Users/axel/.pyenv/versions/3.8.12/envs/us8kdata/lib/python3.8/site-packages/librosa/util/decorators.py:88: UserWarning: n_fft=1024 is too small for input signal of length=960\n",
      "  return f(*args, **kwargs)\n"
     ]
    },
    {
     "name": "stdout",
     "output_type": "stream",
     "text": [
      "[CV] END estimator=XGBClassifier(base_score=None, booster=None, callbacks=None,\n",
      "              colsample_bylevel=None, colsample_bynode=None,\n",
      "              colsample_bytree=None, early_stopping_rounds=None,\n",
      "              enable_categorical=False, eval_metric=None, gamma=None,\n",
      "              gpu_id=None, grow_policy=None, importance_type=None,\n",
      "              interaction_constraints=None, learning_rate=0.05, max_bin=None,\n",
      "              max_cat_to_onehot=None, max_delta_step=None, max_depth=8,\n",
      "              max_leaves=None, min_child_weight=None, missing=nan,\n",
      "              monotone_constraints=None, n_estimators=400, n_jobs=None,\n",
      "              num_parallel_tree=None, objective='multi:softmax', predictor=None,\n",
      "              random_state=None, reg_alpha=None, ...), mean_mfcc__kw_args={'sr': 16000, 'n_mfcc': 16, 'n_fft': 1024, 'hop_length': 128, 'fmin': 300.0, 'fmax': 4000.0}; total time= 1.1min\n"
     ]
    },
    {
     "name": "stderr",
     "output_type": "stream",
     "text": [
      "/Users/axel/.pyenv/versions/3.8.12/envs/us8kdata/lib/python3.8/site-packages/librosa/util/decorators.py:88: UserWarning: n_fft=1024 is too small for input signal of length=960\n",
      "  return f(*args, **kwargs)\n",
      "/Users/axel/.pyenv/versions/3.8.12/envs/us8kdata/lib/python3.8/site-packages/librosa/util/decorators.py:88: UserWarning: n_fft=1024 is too small for input signal of length=800\n",
      "  return f(*args, **kwargs)\n",
      "/Users/axel/.pyenv/versions/3.8.12/envs/us8kdata/lib/python3.8/site-packages/librosa/util/decorators.py:88: UserWarning: n_fft=1024 is too small for input signal of length=960\n",
      "  return f(*args, **kwargs)\n"
     ]
    },
    {
     "name": "stdout",
     "output_type": "stream",
     "text": [
      "[CV] END estimator=XGBClassifier(base_score=None, booster=None, callbacks=None,\n",
      "              colsample_bylevel=None, colsample_bynode=None,\n",
      "              colsample_bytree=None, early_stopping_rounds=None,\n",
      "              enable_categorical=False, eval_metric=None, gamma=None,\n",
      "              gpu_id=None, grow_policy=None, importance_type=None,\n",
      "              interaction_constraints=None, learning_rate=0.05, max_bin=None,\n",
      "              max_cat_to_onehot=None, max_delta_step=None, max_depth=8,\n",
      "              max_leaves=None, min_child_weight=None, missing=nan,\n",
      "              monotone_constraints=None, n_estimators=400, n_jobs=None,\n",
      "              num_parallel_tree=None, objective='multi:softmax', predictor=None,\n",
      "              random_state=None, reg_alpha=None, ...), mean_mfcc__kw_args={'sr': 16000, 'n_mfcc': 16, 'n_fft': 1024, 'hop_length': 128, 'fmin': 300.0, 'fmax': 4000.0}; total time= 1.0min\n"
     ]
    },
    {
     "name": "stderr",
     "output_type": "stream",
     "text": [
      "/Users/axel/.pyenv/versions/3.8.12/envs/us8kdata/lib/python3.8/site-packages/librosa/util/decorators.py:88: UserWarning: n_fft=1024 is too small for input signal of length=800\n",
      "  return f(*args, **kwargs)\n",
      "/Users/axel/.pyenv/versions/3.8.12/envs/us8kdata/lib/python3.8/site-packages/librosa/util/decorators.py:88: UserWarning: n_fft=1024 is too small for input signal of length=960\n",
      "  return f(*args, **kwargs)\n",
      "/Users/axel/.pyenv/versions/3.8.12/envs/us8kdata/lib/python3.8/site-packages/librosa/util/decorators.py:88: UserWarning: n_fft=1024 is too small for input signal of length=960\n",
      "  return f(*args, **kwargs)\n"
     ]
    },
    {
     "name": "stdout",
     "output_type": "stream",
     "text": [
      "[CV] END estimator=XGBClassifier(base_score=None, booster=None, callbacks=None,\n",
      "              colsample_bylevel=None, colsample_bynode=None,\n",
      "              colsample_bytree=None, early_stopping_rounds=None,\n",
      "              enable_categorical=False, eval_metric=None, gamma=None,\n",
      "              gpu_id=None, grow_policy=None, importance_type=None,\n",
      "              interaction_constraints=None, learning_rate=0.05, max_bin=None,\n",
      "              max_cat_to_onehot=None, max_delta_step=None, max_depth=8,\n",
      "              max_leaves=None, min_child_weight=None, missing=nan,\n",
      "              monotone_constraints=None, n_estimators=400, n_jobs=None,\n",
      "              num_parallel_tree=None, objective='multi:softmax', predictor=None,\n",
      "              random_state=None, reg_alpha=None, ...), mean_mfcc__kw_args={'sr': 16000, 'n_mfcc': 16, 'n_fft': 1024, 'hop_length': 128, 'fmin': 300.0, 'fmax': 5000.0}; total time= 1.0min\n"
     ]
    },
    {
     "name": "stderr",
     "output_type": "stream",
     "text": [
      "/Users/axel/.pyenv/versions/3.8.12/envs/us8kdata/lib/python3.8/site-packages/librosa/util/decorators.py:88: UserWarning: n_fft=1024 is too small for input signal of length=960\n",
      "  return f(*args, **kwargs)\n",
      "/Users/axel/.pyenv/versions/3.8.12/envs/us8kdata/lib/python3.8/site-packages/librosa/util/decorators.py:88: UserWarning: n_fft=1024 is too small for input signal of length=800\n",
      "  return f(*args, **kwargs)\n",
      "/Users/axel/.pyenv/versions/3.8.12/envs/us8kdata/lib/python3.8/site-packages/librosa/util/decorators.py:88: UserWarning: n_fft=1024 is too small for input signal of length=960\n",
      "  return f(*args, **kwargs)\n"
     ]
    },
    {
     "name": "stdout",
     "output_type": "stream",
     "text": [
      "[CV] END estimator=XGBClassifier(base_score=None, booster=None, callbacks=None,\n",
      "              colsample_bylevel=None, colsample_bynode=None,\n",
      "              colsample_bytree=None, early_stopping_rounds=None,\n",
      "              enable_categorical=False, eval_metric=None, gamma=None,\n",
      "              gpu_id=None, grow_policy=None, importance_type=None,\n",
      "              interaction_constraints=None, learning_rate=0.05, max_bin=None,\n",
      "              max_cat_to_onehot=None, max_delta_step=None, max_depth=8,\n",
      "              max_leaves=None, min_child_weight=None, missing=nan,\n",
      "              monotone_constraints=None, n_estimators=400, n_jobs=None,\n",
      "              num_parallel_tree=None, objective='multi:softmax', predictor=None,\n",
      "              random_state=None, reg_alpha=None, ...), mean_mfcc__kw_args={'sr': 16000, 'n_mfcc': 16, 'n_fft': 1024, 'hop_length': 128, 'fmin': 300.0, 'fmax': 5000.0}; total time= 1.0min\n"
     ]
    },
    {
     "name": "stderr",
     "output_type": "stream",
     "text": [
      "/Users/axel/.pyenv/versions/3.8.12/envs/us8kdata/lib/python3.8/site-packages/librosa/util/decorators.py:88: UserWarning: n_fft=1024 is too small for input signal of length=800\n",
      "  return f(*args, **kwargs)\n",
      "/Users/axel/.pyenv/versions/3.8.12/envs/us8kdata/lib/python3.8/site-packages/librosa/util/decorators.py:88: UserWarning: n_fft=1024 is too small for input signal of length=960\n",
      "  return f(*args, **kwargs)\n",
      "/Users/axel/.pyenv/versions/3.8.12/envs/us8kdata/lib/python3.8/site-packages/librosa/util/decorators.py:88: UserWarning: n_fft=1024 is too small for input signal of length=960\n",
      "  return f(*args, **kwargs)\n"
     ]
    },
    {
     "name": "stdout",
     "output_type": "stream",
     "text": [
      "[CV] END estimator=XGBClassifier(base_score=None, booster=None, callbacks=None,\n",
      "              colsample_bylevel=None, colsample_bynode=None,\n",
      "              colsample_bytree=None, early_stopping_rounds=None,\n",
      "              enable_categorical=False, eval_metric=None, gamma=None,\n",
      "              gpu_id=None, grow_policy=None, importance_type=None,\n",
      "              interaction_constraints=None, learning_rate=0.05, max_bin=None,\n",
      "              max_cat_to_onehot=None, max_delta_step=None, max_depth=8,\n",
      "              max_leaves=None, min_child_weight=None, missing=nan,\n",
      "              monotone_constraints=None, n_estimators=400, n_jobs=None,\n",
      "              num_parallel_tree=None, objective='multi:softmax', predictor=None,\n",
      "              random_state=None, reg_alpha=None, ...), mean_mfcc__kw_args={'sr': 16000, 'n_mfcc': 16, 'n_fft': 1024, 'hop_length': 128, 'fmin': 500.0, 'fmax': None}; total time= 1.1min\n"
     ]
    },
    {
     "name": "stderr",
     "output_type": "stream",
     "text": [
      "/Users/axel/.pyenv/versions/3.8.12/envs/us8kdata/lib/python3.8/site-packages/librosa/util/decorators.py:88: UserWarning: n_fft=1024 is too small for input signal of length=960\n",
      "  return f(*args, **kwargs)\n",
      "/Users/axel/.pyenv/versions/3.8.12/envs/us8kdata/lib/python3.8/site-packages/librosa/util/decorators.py:88: UserWarning: n_fft=1024 is too small for input signal of length=800\n",
      "  return f(*args, **kwargs)\n",
      "/Users/axel/.pyenv/versions/3.8.12/envs/us8kdata/lib/python3.8/site-packages/librosa/util/decorators.py:88: UserWarning: n_fft=1024 is too small for input signal of length=960\n",
      "  return f(*args, **kwargs)\n"
     ]
    },
    {
     "name": "stdout",
     "output_type": "stream",
     "text": [
      "[CV] END estimator=XGBClassifier(base_score=None, booster=None, callbacks=None,\n",
      "              colsample_bylevel=None, colsample_bynode=None,\n",
      "              colsample_bytree=None, early_stopping_rounds=None,\n",
      "              enable_categorical=False, eval_metric=None, gamma=None,\n",
      "              gpu_id=None, grow_policy=None, importance_type=None,\n",
      "              interaction_constraints=None, learning_rate=0.05, max_bin=None,\n",
      "              max_cat_to_onehot=None, max_delta_step=None, max_depth=8,\n",
      "              max_leaves=None, min_child_weight=None, missing=nan,\n",
      "              monotone_constraints=None, n_estimators=400, n_jobs=None,\n",
      "              num_parallel_tree=None, objective='multi:softmax', predictor=None,\n",
      "              random_state=None, reg_alpha=None, ...), mean_mfcc__kw_args={'sr': 16000, 'n_mfcc': 16, 'n_fft': 1024, 'hop_length': 128, 'fmin': 500.0, 'fmax': None}; total time= 1.0min\n"
     ]
    },
    {
     "name": "stderr",
     "output_type": "stream",
     "text": [
      "/Users/axel/.pyenv/versions/3.8.12/envs/us8kdata/lib/python3.8/site-packages/librosa/util/decorators.py:88: UserWarning: n_fft=1024 is too small for input signal of length=800\n",
      "  return f(*args, **kwargs)\n",
      "/Users/axel/.pyenv/versions/3.8.12/envs/us8kdata/lib/python3.8/site-packages/librosa/util/decorators.py:88: UserWarning: n_fft=1024 is too small for input signal of length=960\n",
      "  return f(*args, **kwargs)\n",
      "/Users/axel/.pyenv/versions/3.8.12/envs/us8kdata/lib/python3.8/site-packages/librosa/util/decorators.py:88: UserWarning: n_fft=1024 is too small for input signal of length=960\n",
      "  return f(*args, **kwargs)\n"
     ]
    },
    {
     "name": "stdout",
     "output_type": "stream",
     "text": [
      "[CV] END estimator=XGBClassifier(base_score=None, booster=None, callbacks=None,\n",
      "              colsample_bylevel=None, colsample_bynode=None,\n",
      "              colsample_bytree=None, early_stopping_rounds=None,\n",
      "              enable_categorical=False, eval_metric=None, gamma=None,\n",
      "              gpu_id=None, grow_policy=None, importance_type=None,\n",
      "              interaction_constraints=None, learning_rate=0.05, max_bin=None,\n",
      "              max_cat_to_onehot=None, max_delta_step=None, max_depth=8,\n",
      "              max_leaves=None, min_child_weight=None, missing=nan,\n",
      "              monotone_constraints=None, n_estimators=400, n_jobs=None,\n",
      "              num_parallel_tree=None, objective='multi:softmax', predictor=None,\n",
      "              random_state=None, reg_alpha=None, ...), mean_mfcc__kw_args={'sr': 16000, 'n_mfcc': 16, 'n_fft': 1024, 'hop_length': 128, 'fmin': 500.0, 'fmax': 3000.0}; total time= 1.1min\n"
     ]
    },
    {
     "name": "stderr",
     "output_type": "stream",
     "text": [
      "/Users/axel/.pyenv/versions/3.8.12/envs/us8kdata/lib/python3.8/site-packages/librosa/util/decorators.py:88: UserWarning: n_fft=1024 is too small for input signal of length=960\n",
      "  return f(*args, **kwargs)\n",
      "/Users/axel/.pyenv/versions/3.8.12/envs/us8kdata/lib/python3.8/site-packages/librosa/util/decorators.py:88: UserWarning: n_fft=1024 is too small for input signal of length=800\n",
      "  return f(*args, **kwargs)\n",
      "/Users/axel/.pyenv/versions/3.8.12/envs/us8kdata/lib/python3.8/site-packages/librosa/util/decorators.py:88: UserWarning: n_fft=1024 is too small for input signal of length=960\n",
      "  return f(*args, **kwargs)\n"
     ]
    },
    {
     "name": "stdout",
     "output_type": "stream",
     "text": [
      "[CV] END estimator=XGBClassifier(base_score=None, booster=None, callbacks=None,\n",
      "              colsample_bylevel=None, colsample_bynode=None,\n",
      "              colsample_bytree=None, early_stopping_rounds=None,\n",
      "              enable_categorical=False, eval_metric=None, gamma=None,\n",
      "              gpu_id=None, grow_policy=None, importance_type=None,\n",
      "              interaction_constraints=None, learning_rate=0.05, max_bin=None,\n",
      "              max_cat_to_onehot=None, max_delta_step=None, max_depth=8,\n",
      "              max_leaves=None, min_child_weight=None, missing=nan,\n",
      "              monotone_constraints=None, n_estimators=400, n_jobs=None,\n",
      "              num_parallel_tree=None, objective='multi:softmax', predictor=None,\n",
      "              random_state=None, reg_alpha=None, ...), mean_mfcc__kw_args={'sr': 16000, 'n_mfcc': 16, 'n_fft': 1024, 'hop_length': 128, 'fmin': 500.0, 'fmax': 3000.0}; total time= 1.1min\n"
     ]
    },
    {
     "name": "stderr",
     "output_type": "stream",
     "text": [
      "/Users/axel/.pyenv/versions/3.8.12/envs/us8kdata/lib/python3.8/site-packages/librosa/util/decorators.py:88: UserWarning: n_fft=1024 is too small for input signal of length=800\n",
      "  return f(*args, **kwargs)\n",
      "/Users/axel/.pyenv/versions/3.8.12/envs/us8kdata/lib/python3.8/site-packages/librosa/util/decorators.py:88: UserWarning: n_fft=1024 is too small for input signal of length=960\n",
      "  return f(*args, **kwargs)\n",
      "/Users/axel/.pyenv/versions/3.8.12/envs/us8kdata/lib/python3.8/site-packages/librosa/util/decorators.py:88: UserWarning: n_fft=1024 is too small for input signal of length=960\n",
      "  return f(*args, **kwargs)\n"
     ]
    },
    {
     "name": "stdout",
     "output_type": "stream",
     "text": [
      "[CV] END estimator=XGBClassifier(base_score=None, booster=None, callbacks=None,\n",
      "              colsample_bylevel=None, colsample_bynode=None,\n",
      "              colsample_bytree=None, early_stopping_rounds=None,\n",
      "              enable_categorical=False, eval_metric=None, gamma=None,\n",
      "              gpu_id=None, grow_policy=None, importance_type=None,\n",
      "              interaction_constraints=None, learning_rate=0.05, max_bin=None,\n",
      "              max_cat_to_onehot=None, max_delta_step=None, max_depth=8,\n",
      "              max_leaves=None, min_child_weight=None, missing=nan,\n",
      "              monotone_constraints=None, n_estimators=400, n_jobs=None,\n",
      "              num_parallel_tree=None, objective='multi:softmax', predictor=None,\n",
      "              random_state=None, reg_alpha=None, ...), mean_mfcc__kw_args={'sr': 16000, 'n_mfcc': 16, 'n_fft': 1024, 'hop_length': 128, 'fmin': 500.0, 'fmax': 4000.0}; total time= 1.1min\n"
     ]
    },
    {
     "name": "stderr",
     "output_type": "stream",
     "text": [
      "/Users/axel/.pyenv/versions/3.8.12/envs/us8kdata/lib/python3.8/site-packages/librosa/util/decorators.py:88: UserWarning: n_fft=1024 is too small for input signal of length=960\n",
      "  return f(*args, **kwargs)\n",
      "/Users/axel/.pyenv/versions/3.8.12/envs/us8kdata/lib/python3.8/site-packages/librosa/util/decorators.py:88: UserWarning: n_fft=1024 is too small for input signal of length=800\n",
      "  return f(*args, **kwargs)\n",
      "/Users/axel/.pyenv/versions/3.8.12/envs/us8kdata/lib/python3.8/site-packages/librosa/util/decorators.py:88: UserWarning: n_fft=1024 is too small for input signal of length=960\n",
      "  return f(*args, **kwargs)\n"
     ]
    },
    {
     "name": "stdout",
     "output_type": "stream",
     "text": [
      "[CV] END estimator=XGBClassifier(base_score=None, booster=None, callbacks=None,\n",
      "              colsample_bylevel=None, colsample_bynode=None,\n",
      "              colsample_bytree=None, early_stopping_rounds=None,\n",
      "              enable_categorical=False, eval_metric=None, gamma=None,\n",
      "              gpu_id=None, grow_policy=None, importance_type=None,\n",
      "              interaction_constraints=None, learning_rate=0.05, max_bin=None,\n",
      "              max_cat_to_onehot=None, max_delta_step=None, max_depth=8,\n",
      "              max_leaves=None, min_child_weight=None, missing=nan,\n",
      "              monotone_constraints=None, n_estimators=400, n_jobs=None,\n",
      "              num_parallel_tree=None, objective='multi:softmax', predictor=None,\n",
      "              random_state=None, reg_alpha=None, ...), mean_mfcc__kw_args={'sr': 16000, 'n_mfcc': 16, 'n_fft': 1024, 'hop_length': 128, 'fmin': 500.0, 'fmax': 4000.0}; total time= 1.1min\n"
     ]
    },
    {
     "name": "stderr",
     "output_type": "stream",
     "text": [
      "/Users/axel/.pyenv/versions/3.8.12/envs/us8kdata/lib/python3.8/site-packages/librosa/util/decorators.py:88: UserWarning: n_fft=1024 is too small for input signal of length=800\n",
      "  return f(*args, **kwargs)\n",
      "/Users/axel/.pyenv/versions/3.8.12/envs/us8kdata/lib/python3.8/site-packages/librosa/util/decorators.py:88: UserWarning: n_fft=1024 is too small for input signal of length=960\n",
      "  return f(*args, **kwargs)\n",
      "/Users/axel/.pyenv/versions/3.8.12/envs/us8kdata/lib/python3.8/site-packages/librosa/util/decorators.py:88: UserWarning: n_fft=1024 is too small for input signal of length=960\n",
      "  return f(*args, **kwargs)\n"
     ]
    },
    {
     "name": "stdout",
     "output_type": "stream",
     "text": [
      "[CV] END estimator=XGBClassifier(base_score=None, booster=None, callbacks=None,\n",
      "              colsample_bylevel=None, colsample_bynode=None,\n",
      "              colsample_bytree=None, early_stopping_rounds=None,\n",
      "              enable_categorical=False, eval_metric=None, gamma=None,\n",
      "              gpu_id=None, grow_policy=None, importance_type=None,\n",
      "              interaction_constraints=None, learning_rate=0.05, max_bin=None,\n",
      "              max_cat_to_onehot=None, max_delta_step=None, max_depth=8,\n",
      "              max_leaves=None, min_child_weight=None, missing=nan,\n",
      "              monotone_constraints=None, n_estimators=400, n_jobs=None,\n",
      "              num_parallel_tree=None, objective='multi:softmax', predictor=None,\n",
      "              random_state=None, reg_alpha=None, ...), mean_mfcc__kw_args={'sr': 16000, 'n_mfcc': 16, 'n_fft': 1024, 'hop_length': 128, 'fmin': 500.0, 'fmax': 5000.0}; total time= 1.1min\n"
     ]
    },
    {
     "name": "stderr",
     "output_type": "stream",
     "text": [
      "/Users/axel/.pyenv/versions/3.8.12/envs/us8kdata/lib/python3.8/site-packages/librosa/util/decorators.py:88: UserWarning: n_fft=1024 is too small for input signal of length=960\n",
      "  return f(*args, **kwargs)\n",
      "/Users/axel/.pyenv/versions/3.8.12/envs/us8kdata/lib/python3.8/site-packages/librosa/util/decorators.py:88: UserWarning: n_fft=1024 is too small for input signal of length=800\n",
      "  return f(*args, **kwargs)\n",
      "/Users/axel/.pyenv/versions/3.8.12/envs/us8kdata/lib/python3.8/site-packages/librosa/util/decorators.py:88: UserWarning: n_fft=1024 is too small for input signal of length=960\n",
      "  return f(*args, **kwargs)\n"
     ]
    },
    {
     "name": "stdout",
     "output_type": "stream",
     "text": [
      "[CV] END estimator=XGBClassifier(base_score=None, booster=None, callbacks=None,\n",
      "              colsample_bylevel=None, colsample_bynode=None,\n",
      "              colsample_bytree=None, early_stopping_rounds=None,\n",
      "              enable_categorical=False, eval_metric=None, gamma=None,\n",
      "              gpu_id=None, grow_policy=None, importance_type=None,\n",
      "              interaction_constraints=None, learning_rate=0.05, max_bin=None,\n",
      "              max_cat_to_onehot=None, max_delta_step=None, max_depth=8,\n",
      "              max_leaves=None, min_child_weight=None, missing=nan,\n",
      "              monotone_constraints=None, n_estimators=400, n_jobs=None,\n",
      "              num_parallel_tree=None, objective='multi:softmax', predictor=None,\n",
      "              random_state=None, reg_alpha=None, ...), mean_mfcc__kw_args={'sr': 16000, 'n_mfcc': 16, 'n_fft': 1024, 'hop_length': 128, 'fmin': 500.0, 'fmax': 5000.0}; total time= 1.0min\n"
     ]
    },
    {
     "name": "stderr",
     "output_type": "stream",
     "text": [
      "/Users/axel/.pyenv/versions/3.8.12/envs/us8kdata/lib/python3.8/site-packages/librosa/util/decorators.py:88: UserWarning: Empty filters detected in mel frequency basis. Some channels will produce empty responses. Try increasing your sampling rate (and fmax) or reducing n_mels.\n",
      "  return f(*args, **kwargs)\n",
      "/Users/axel/.pyenv/versions/3.8.12/envs/us8kdata/lib/python3.8/site-packages/librosa/util/decorators.py:88: UserWarning: Empty filters detected in mel frequency basis. Some channels will produce empty responses. Try increasing your sampling rate (and fmax) or reducing n_mels.\n",
      "  return f(*args, **kwargs)\n"
     ]
    },
    {
     "name": "stdout",
     "output_type": "stream",
     "text": [
      "[CV] END estimator=XGBClassifier(base_score=None, booster=None, callbacks=None,\n",
      "              colsample_bylevel=None, colsample_bynode=None,\n",
      "              colsample_bytree=None, early_stopping_rounds=None,\n",
      "              enable_categorical=False, eval_metric=None, gamma=None,\n",
      "              gpu_id=None, grow_policy=None, importance_type=None,\n",
      "              interaction_constraints=None, learning_rate=0.05, max_bin=None,\n",
      "              max_cat_to_onehot=None, max_delta_step=None, max_depth=8,\n",
      "              max_leaves=None, min_child_weight=None, missing=nan,\n",
      "              monotone_constraints=None, n_estimators=400, n_jobs=None,\n",
      "              num_parallel_tree=None, objective='multi:softmax', predictor=None,\n",
      "              random_state=None, reg_alpha=None, ...), mean_mfcc__kw_args={'sr': 16000, 'n_mfcc': 20, 'n_fft': 256, 'hop_length': 128, 'fmin': 0.0, 'fmax': None}; total time=  41.3s\n"
     ]
    },
    {
     "name": "stderr",
     "output_type": "stream",
     "text": [
      "/Users/axel/.pyenv/versions/3.8.12/envs/us8kdata/lib/python3.8/site-packages/librosa/util/decorators.py:88: UserWarning: Empty filters detected in mel frequency basis. Some channels will produce empty responses. Try increasing your sampling rate (and fmax) or reducing n_mels.\n",
      "  return f(*args, **kwargs)\n",
      "/Users/axel/.pyenv/versions/3.8.12/envs/us8kdata/lib/python3.8/site-packages/librosa/util/decorators.py:88: UserWarning: Empty filters detected in mel frequency basis. Some channels will produce empty responses. Try increasing your sampling rate (and fmax) or reducing n_mels.\n",
      "  return f(*args, **kwargs)\n"
     ]
    },
    {
     "name": "stdout",
     "output_type": "stream",
     "text": [
      "[CV] END estimator=XGBClassifier(base_score=None, booster=None, callbacks=None,\n",
      "              colsample_bylevel=None, colsample_bynode=None,\n",
      "              colsample_bytree=None, early_stopping_rounds=None,\n",
      "              enable_categorical=False, eval_metric=None, gamma=None,\n",
      "              gpu_id=None, grow_policy=None, importance_type=None,\n",
      "              interaction_constraints=None, learning_rate=0.05, max_bin=None,\n",
      "              max_cat_to_onehot=None, max_delta_step=None, max_depth=8,\n",
      "              max_leaves=None, min_child_weight=None, missing=nan,\n",
      "              monotone_constraints=None, n_estimators=400, n_jobs=None,\n",
      "              num_parallel_tree=None, objective='multi:softmax', predictor=None,\n",
      "              random_state=None, reg_alpha=None, ...), mean_mfcc__kw_args={'sr': 16000, 'n_mfcc': 20, 'n_fft': 256, 'hop_length': 128, 'fmin': 0.0, 'fmax': None}; total time=  41.7s\n"
     ]
    },
    {
     "name": "stderr",
     "output_type": "stream",
     "text": [
      "/Users/axel/.pyenv/versions/3.8.12/envs/us8kdata/lib/python3.8/site-packages/librosa/util/decorators.py:88: UserWarning: Empty filters detected in mel frequency basis. Some channels will produce empty responses. Try increasing your sampling rate (and fmax) or reducing n_mels.\n",
      "  return f(*args, **kwargs)\n",
      "/Users/axel/.pyenv/versions/3.8.12/envs/us8kdata/lib/python3.8/site-packages/librosa/util/decorators.py:88: UserWarning: Empty filters detected in mel frequency basis. Some channels will produce empty responses. Try increasing your sampling rate (and fmax) or reducing n_mels.\n",
      "  return f(*args, **kwargs)\n"
     ]
    },
    {
     "name": "stdout",
     "output_type": "stream",
     "text": [
      "[CV] END estimator=XGBClassifier(base_score=None, booster=None, callbacks=None,\n",
      "              colsample_bylevel=None, colsample_bynode=None,\n",
      "              colsample_bytree=None, early_stopping_rounds=None,\n",
      "              enable_categorical=False, eval_metric=None, gamma=None,\n",
      "              gpu_id=None, grow_policy=None, importance_type=None,\n",
      "              interaction_constraints=None, learning_rate=0.05, max_bin=None,\n",
      "              max_cat_to_onehot=None, max_delta_step=None, max_depth=8,\n",
      "              max_leaves=None, min_child_weight=None, missing=nan,\n",
      "              monotone_constraints=None, n_estimators=400, n_jobs=None,\n",
      "              num_parallel_tree=None, objective='multi:softmax', predictor=None,\n",
      "              random_state=None, reg_alpha=None, ...), mean_mfcc__kw_args={'sr': 16000, 'n_mfcc': 20, 'n_fft': 256, 'hop_length': 128, 'fmin': 0.0, 'fmax': 3000.0}; total time=  41.7s\n"
     ]
    },
    {
     "name": "stderr",
     "output_type": "stream",
     "text": [
      "/Users/axel/.pyenv/versions/3.8.12/envs/us8kdata/lib/python3.8/site-packages/librosa/util/decorators.py:88: UserWarning: Empty filters detected in mel frequency basis. Some channels will produce empty responses. Try increasing your sampling rate (and fmax) or reducing n_mels.\n",
      "  return f(*args, **kwargs)\n",
      "/Users/axel/.pyenv/versions/3.8.12/envs/us8kdata/lib/python3.8/site-packages/librosa/util/decorators.py:88: UserWarning: Empty filters detected in mel frequency basis. Some channels will produce empty responses. Try increasing your sampling rate (and fmax) or reducing n_mels.\n",
      "  return f(*args, **kwargs)\n"
     ]
    },
    {
     "name": "stdout",
     "output_type": "stream",
     "text": [
      "[CV] END estimator=XGBClassifier(base_score=None, booster=None, callbacks=None,\n",
      "              colsample_bylevel=None, colsample_bynode=None,\n",
      "              colsample_bytree=None, early_stopping_rounds=None,\n",
      "              enable_categorical=False, eval_metric=None, gamma=None,\n",
      "              gpu_id=None, grow_policy=None, importance_type=None,\n",
      "              interaction_constraints=None, learning_rate=0.05, max_bin=None,\n",
      "              max_cat_to_onehot=None, max_delta_step=None, max_depth=8,\n",
      "              max_leaves=None, min_child_weight=None, missing=nan,\n",
      "              monotone_constraints=None, n_estimators=400, n_jobs=None,\n",
      "              num_parallel_tree=None, objective='multi:softmax', predictor=None,\n",
      "              random_state=None, reg_alpha=None, ...), mean_mfcc__kw_args={'sr': 16000, 'n_mfcc': 20, 'n_fft': 256, 'hop_length': 128, 'fmin': 0.0, 'fmax': 3000.0}; total time=  41.4s\n"
     ]
    },
    {
     "name": "stderr",
     "output_type": "stream",
     "text": [
      "/Users/axel/.pyenv/versions/3.8.12/envs/us8kdata/lib/python3.8/site-packages/librosa/util/decorators.py:88: UserWarning: Empty filters detected in mel frequency basis. Some channels will produce empty responses. Try increasing your sampling rate (and fmax) or reducing n_mels.\n",
      "  return f(*args, **kwargs)\n",
      "/Users/axel/.pyenv/versions/3.8.12/envs/us8kdata/lib/python3.8/site-packages/librosa/util/decorators.py:88: UserWarning: Empty filters detected in mel frequency basis. Some channels will produce empty responses. Try increasing your sampling rate (and fmax) or reducing n_mels.\n",
      "  return f(*args, **kwargs)\n"
     ]
    },
    {
     "name": "stdout",
     "output_type": "stream",
     "text": [
      "[CV] END estimator=XGBClassifier(base_score=None, booster=None, callbacks=None,\n",
      "              colsample_bylevel=None, colsample_bynode=None,\n",
      "              colsample_bytree=None, early_stopping_rounds=None,\n",
      "              enable_categorical=False, eval_metric=None, gamma=None,\n",
      "              gpu_id=None, grow_policy=None, importance_type=None,\n",
      "              interaction_constraints=None, learning_rate=0.05, max_bin=None,\n",
      "              max_cat_to_onehot=None, max_delta_step=None, max_depth=8,\n",
      "              max_leaves=None, min_child_weight=None, missing=nan,\n",
      "              monotone_constraints=None, n_estimators=400, n_jobs=None,\n",
      "              num_parallel_tree=None, objective='multi:softmax', predictor=None,\n",
      "              random_state=None, reg_alpha=None, ...), mean_mfcc__kw_args={'sr': 16000, 'n_mfcc': 20, 'n_fft': 256, 'hop_length': 128, 'fmin': 0.0, 'fmax': 4000.0}; total time=  42.1s\n"
     ]
    },
    {
     "name": "stderr",
     "output_type": "stream",
     "text": [
      "/Users/axel/.pyenv/versions/3.8.12/envs/us8kdata/lib/python3.8/site-packages/librosa/util/decorators.py:88: UserWarning: Empty filters detected in mel frequency basis. Some channels will produce empty responses. Try increasing your sampling rate (and fmax) or reducing n_mels.\n",
      "  return f(*args, **kwargs)\n",
      "/Users/axel/.pyenv/versions/3.8.12/envs/us8kdata/lib/python3.8/site-packages/librosa/util/decorators.py:88: UserWarning: Empty filters detected in mel frequency basis. Some channels will produce empty responses. Try increasing your sampling rate (and fmax) or reducing n_mels.\n",
      "  return f(*args, **kwargs)\n"
     ]
    },
    {
     "name": "stdout",
     "output_type": "stream",
     "text": [
      "[CV] END estimator=XGBClassifier(base_score=None, booster=None, callbacks=None,\n",
      "              colsample_bylevel=None, colsample_bynode=None,\n",
      "              colsample_bytree=None, early_stopping_rounds=None,\n",
      "              enable_categorical=False, eval_metric=None, gamma=None,\n",
      "              gpu_id=None, grow_policy=None, importance_type=None,\n",
      "              interaction_constraints=None, learning_rate=0.05, max_bin=None,\n",
      "              max_cat_to_onehot=None, max_delta_step=None, max_depth=8,\n",
      "              max_leaves=None, min_child_weight=None, missing=nan,\n",
      "              monotone_constraints=None, n_estimators=400, n_jobs=None,\n",
      "              num_parallel_tree=None, objective='multi:softmax', predictor=None,\n",
      "              random_state=None, reg_alpha=None, ...), mean_mfcc__kw_args={'sr': 16000, 'n_mfcc': 20, 'n_fft': 256, 'hop_length': 128, 'fmin': 0.0, 'fmax': 4000.0}; total time=  39.7s\n"
     ]
    },
    {
     "name": "stderr",
     "output_type": "stream",
     "text": [
      "/Users/axel/.pyenv/versions/3.8.12/envs/us8kdata/lib/python3.8/site-packages/librosa/util/decorators.py:88: UserWarning: Empty filters detected in mel frequency basis. Some channels will produce empty responses. Try increasing your sampling rate (and fmax) or reducing n_mels.\n",
      "  return f(*args, **kwargs)\n",
      "/Users/axel/.pyenv/versions/3.8.12/envs/us8kdata/lib/python3.8/site-packages/librosa/util/decorators.py:88: UserWarning: Empty filters detected in mel frequency basis. Some channels will produce empty responses. Try increasing your sampling rate (and fmax) or reducing n_mels.\n",
      "  return f(*args, **kwargs)\n"
     ]
    },
    {
     "name": "stdout",
     "output_type": "stream",
     "text": [
      "[CV] END estimator=XGBClassifier(base_score=None, booster=None, callbacks=None,\n",
      "              colsample_bylevel=None, colsample_bynode=None,\n",
      "              colsample_bytree=None, early_stopping_rounds=None,\n",
      "              enable_categorical=False, eval_metric=None, gamma=None,\n",
      "              gpu_id=None, grow_policy=None, importance_type=None,\n",
      "              interaction_constraints=None, learning_rate=0.05, max_bin=None,\n",
      "              max_cat_to_onehot=None, max_delta_step=None, max_depth=8,\n",
      "              max_leaves=None, min_child_weight=None, missing=nan,\n",
      "              monotone_constraints=None, n_estimators=400, n_jobs=None,\n",
      "              num_parallel_tree=None, objective='multi:softmax', predictor=None,\n",
      "              random_state=None, reg_alpha=None, ...), mean_mfcc__kw_args={'sr': 16000, 'n_mfcc': 20, 'n_fft': 256, 'hop_length': 128, 'fmin': 0.0, 'fmax': 5000.0}; total time=  41.9s\n"
     ]
    },
    {
     "name": "stderr",
     "output_type": "stream",
     "text": [
      "/Users/axel/.pyenv/versions/3.8.12/envs/us8kdata/lib/python3.8/site-packages/librosa/util/decorators.py:88: UserWarning: Empty filters detected in mel frequency basis. Some channels will produce empty responses. Try increasing your sampling rate (and fmax) or reducing n_mels.\n",
      "  return f(*args, **kwargs)\n",
      "/Users/axel/.pyenv/versions/3.8.12/envs/us8kdata/lib/python3.8/site-packages/librosa/util/decorators.py:88: UserWarning: Empty filters detected in mel frequency basis. Some channels will produce empty responses. Try increasing your sampling rate (and fmax) or reducing n_mels.\n",
      "  return f(*args, **kwargs)\n"
     ]
    },
    {
     "name": "stdout",
     "output_type": "stream",
     "text": [
      "[CV] END estimator=XGBClassifier(base_score=None, booster=None, callbacks=None,\n",
      "              colsample_bylevel=None, colsample_bynode=None,\n",
      "              colsample_bytree=None, early_stopping_rounds=None,\n",
      "              enable_categorical=False, eval_metric=None, gamma=None,\n",
      "              gpu_id=None, grow_policy=None, importance_type=None,\n",
      "              interaction_constraints=None, learning_rate=0.05, max_bin=None,\n",
      "              max_cat_to_onehot=None, max_delta_step=None, max_depth=8,\n",
      "              max_leaves=None, min_child_weight=None, missing=nan,\n",
      "              monotone_constraints=None, n_estimators=400, n_jobs=None,\n",
      "              num_parallel_tree=None, objective='multi:softmax', predictor=None,\n",
      "              random_state=None, reg_alpha=None, ...), mean_mfcc__kw_args={'sr': 16000, 'n_mfcc': 20, 'n_fft': 256, 'hop_length': 128, 'fmin': 0.0, 'fmax': 5000.0}; total time=  41.5s\n"
     ]
    },
    {
     "name": "stderr",
     "output_type": "stream",
     "text": [
      "/Users/axel/.pyenv/versions/3.8.12/envs/us8kdata/lib/python3.8/site-packages/librosa/util/decorators.py:88: UserWarning: Empty filters detected in mel frequency basis. Some channels will produce empty responses. Try increasing your sampling rate (and fmax) or reducing n_mels.\n",
      "  return f(*args, **kwargs)\n",
      "/Users/axel/.pyenv/versions/3.8.12/envs/us8kdata/lib/python3.8/site-packages/librosa/util/decorators.py:88: UserWarning: Empty filters detected in mel frequency basis. Some channels will produce empty responses. Try increasing your sampling rate (and fmax) or reducing n_mels.\n",
      "  return f(*args, **kwargs)\n"
     ]
    },
    {
     "name": "stdout",
     "output_type": "stream",
     "text": [
      "[CV] END estimator=XGBClassifier(base_score=None, booster=None, callbacks=None,\n",
      "              colsample_bylevel=None, colsample_bynode=None,\n",
      "              colsample_bytree=None, early_stopping_rounds=None,\n",
      "              enable_categorical=False, eval_metric=None, gamma=None,\n",
      "              gpu_id=None, grow_policy=None, importance_type=None,\n",
      "              interaction_constraints=None, learning_rate=0.05, max_bin=None,\n",
      "              max_cat_to_onehot=None, max_delta_step=None, max_depth=8,\n",
      "              max_leaves=None, min_child_weight=None, missing=nan,\n",
      "              monotone_constraints=None, n_estimators=400, n_jobs=None,\n",
      "              num_parallel_tree=None, objective='multi:softmax', predictor=None,\n",
      "              random_state=None, reg_alpha=None, ...), mean_mfcc__kw_args={'sr': 16000, 'n_mfcc': 20, 'n_fft': 256, 'hop_length': 128, 'fmin': 300.0, 'fmax': None}; total time=  50.6s\n"
     ]
    },
    {
     "name": "stderr",
     "output_type": "stream",
     "text": [
      "/Users/axel/.pyenv/versions/3.8.12/envs/us8kdata/lib/python3.8/site-packages/librosa/util/decorators.py:88: UserWarning: Empty filters detected in mel frequency basis. Some channels will produce empty responses. Try increasing your sampling rate (and fmax) or reducing n_mels.\n",
      "  return f(*args, **kwargs)\n",
      "/Users/axel/.pyenv/versions/3.8.12/envs/us8kdata/lib/python3.8/site-packages/librosa/util/decorators.py:88: UserWarning: Empty filters detected in mel frequency basis. Some channels will produce empty responses. Try increasing your sampling rate (and fmax) or reducing n_mels.\n",
      "  return f(*args, **kwargs)\n"
     ]
    },
    {
     "name": "stdout",
     "output_type": "stream",
     "text": [
      "[CV] END estimator=XGBClassifier(base_score=None, booster=None, callbacks=None,\n",
      "              colsample_bylevel=None, colsample_bynode=None,\n",
      "              colsample_bytree=None, early_stopping_rounds=None,\n",
      "              enable_categorical=False, eval_metric=None, gamma=None,\n",
      "              gpu_id=None, grow_policy=None, importance_type=None,\n",
      "              interaction_constraints=None, learning_rate=0.05, max_bin=None,\n",
      "              max_cat_to_onehot=None, max_delta_step=None, max_depth=8,\n",
      "              max_leaves=None, min_child_weight=None, missing=nan,\n",
      "              monotone_constraints=None, n_estimators=400, n_jobs=None,\n",
      "              num_parallel_tree=None, objective='multi:softmax', predictor=None,\n",
      "              random_state=None, reg_alpha=None, ...), mean_mfcc__kw_args={'sr': 16000, 'n_mfcc': 20, 'n_fft': 256, 'hop_length': 128, 'fmin': 300.0, 'fmax': None}; total time=  41.8s\n"
     ]
    },
    {
     "name": "stderr",
     "output_type": "stream",
     "text": [
      "/Users/axel/.pyenv/versions/3.8.12/envs/us8kdata/lib/python3.8/site-packages/librosa/util/decorators.py:88: UserWarning: Empty filters detected in mel frequency basis. Some channels will produce empty responses. Try increasing your sampling rate (and fmax) or reducing n_mels.\n",
      "  return f(*args, **kwargs)\n",
      "/Users/axel/.pyenv/versions/3.8.12/envs/us8kdata/lib/python3.8/site-packages/librosa/util/decorators.py:88: UserWarning: Empty filters detected in mel frequency basis. Some channels will produce empty responses. Try increasing your sampling rate (and fmax) or reducing n_mels.\n",
      "  return f(*args, **kwargs)\n"
     ]
    },
    {
     "name": "stdout",
     "output_type": "stream",
     "text": [
      "[CV] END estimator=XGBClassifier(base_score=None, booster=None, callbacks=None,\n",
      "              colsample_bylevel=None, colsample_bynode=None,\n",
      "              colsample_bytree=None, early_stopping_rounds=None,\n",
      "              enable_categorical=False, eval_metric=None, gamma=None,\n",
      "              gpu_id=None, grow_policy=None, importance_type=None,\n",
      "              interaction_constraints=None, learning_rate=0.05, max_bin=None,\n",
      "              max_cat_to_onehot=None, max_delta_step=None, max_depth=8,\n",
      "              max_leaves=None, min_child_weight=None, missing=nan,\n",
      "              monotone_constraints=None, n_estimators=400, n_jobs=None,\n",
      "              num_parallel_tree=None, objective='multi:softmax', predictor=None,\n",
      "              random_state=None, reg_alpha=None, ...), mean_mfcc__kw_args={'sr': 16000, 'n_mfcc': 20, 'n_fft': 256, 'hop_length': 128, 'fmin': 300.0, 'fmax': 3000.0}; total time=  41.6s\n"
     ]
    },
    {
     "name": "stderr",
     "output_type": "stream",
     "text": [
      "/Users/axel/.pyenv/versions/3.8.12/envs/us8kdata/lib/python3.8/site-packages/librosa/util/decorators.py:88: UserWarning: Empty filters detected in mel frequency basis. Some channels will produce empty responses. Try increasing your sampling rate (and fmax) or reducing n_mels.\n",
      "  return f(*args, **kwargs)\n",
      "/Users/axel/.pyenv/versions/3.8.12/envs/us8kdata/lib/python3.8/site-packages/librosa/util/decorators.py:88: UserWarning: Empty filters detected in mel frequency basis. Some channels will produce empty responses. Try increasing your sampling rate (and fmax) or reducing n_mels.\n",
      "  return f(*args, **kwargs)\n"
     ]
    },
    {
     "name": "stdout",
     "output_type": "stream",
     "text": [
      "[CV] END estimator=XGBClassifier(base_score=None, booster=None, callbacks=None,\n",
      "              colsample_bylevel=None, colsample_bynode=None,\n",
      "              colsample_bytree=None, early_stopping_rounds=None,\n",
      "              enable_categorical=False, eval_metric=None, gamma=None,\n",
      "              gpu_id=None, grow_policy=None, importance_type=None,\n",
      "              interaction_constraints=None, learning_rate=0.05, max_bin=None,\n",
      "              max_cat_to_onehot=None, max_delta_step=None, max_depth=8,\n",
      "              max_leaves=None, min_child_weight=None, missing=nan,\n",
      "              monotone_constraints=None, n_estimators=400, n_jobs=None,\n",
      "              num_parallel_tree=None, objective='multi:softmax', predictor=None,\n",
      "              random_state=None, reg_alpha=None, ...), mean_mfcc__kw_args={'sr': 16000, 'n_mfcc': 20, 'n_fft': 256, 'hop_length': 128, 'fmin': 300.0, 'fmax': 3000.0}; total time=  39.8s\n"
     ]
    },
    {
     "name": "stderr",
     "output_type": "stream",
     "text": [
      "/Users/axel/.pyenv/versions/3.8.12/envs/us8kdata/lib/python3.8/site-packages/librosa/util/decorators.py:88: UserWarning: Empty filters detected in mel frequency basis. Some channels will produce empty responses. Try increasing your sampling rate (and fmax) or reducing n_mels.\n",
      "  return f(*args, **kwargs)\n",
      "/Users/axel/.pyenv/versions/3.8.12/envs/us8kdata/lib/python3.8/site-packages/librosa/util/decorators.py:88: UserWarning: Empty filters detected in mel frequency basis. Some channels will produce empty responses. Try increasing your sampling rate (and fmax) or reducing n_mels.\n",
      "  return f(*args, **kwargs)\n"
     ]
    },
    {
     "name": "stdout",
     "output_type": "stream",
     "text": [
      "[CV] END estimator=XGBClassifier(base_score=None, booster=None, callbacks=None,\n",
      "              colsample_bylevel=None, colsample_bynode=None,\n",
      "              colsample_bytree=None, early_stopping_rounds=None,\n",
      "              enable_categorical=False, eval_metric=None, gamma=None,\n",
      "              gpu_id=None, grow_policy=None, importance_type=None,\n",
      "              interaction_constraints=None, learning_rate=0.05, max_bin=None,\n",
      "              max_cat_to_onehot=None, max_delta_step=None, max_depth=8,\n",
      "              max_leaves=None, min_child_weight=None, missing=nan,\n",
      "              monotone_constraints=None, n_estimators=400, n_jobs=None,\n",
      "              num_parallel_tree=None, objective='multi:softmax', predictor=None,\n",
      "              random_state=None, reg_alpha=None, ...), mean_mfcc__kw_args={'sr': 16000, 'n_mfcc': 20, 'n_fft': 256, 'hop_length': 128, 'fmin': 300.0, 'fmax': 4000.0}; total time=  41.4s\n"
     ]
    },
    {
     "name": "stderr",
     "output_type": "stream",
     "text": [
      "/Users/axel/.pyenv/versions/3.8.12/envs/us8kdata/lib/python3.8/site-packages/librosa/util/decorators.py:88: UserWarning: Empty filters detected in mel frequency basis. Some channels will produce empty responses. Try increasing your sampling rate (and fmax) or reducing n_mels.\n",
      "  return f(*args, **kwargs)\n",
      "/Users/axel/.pyenv/versions/3.8.12/envs/us8kdata/lib/python3.8/site-packages/librosa/util/decorators.py:88: UserWarning: Empty filters detected in mel frequency basis. Some channels will produce empty responses. Try increasing your sampling rate (and fmax) or reducing n_mels.\n",
      "  return f(*args, **kwargs)\n"
     ]
    },
    {
     "name": "stdout",
     "output_type": "stream",
     "text": [
      "[CV] END estimator=XGBClassifier(base_score=None, booster=None, callbacks=None,\n",
      "              colsample_bylevel=None, colsample_bynode=None,\n",
      "              colsample_bytree=None, early_stopping_rounds=None,\n",
      "              enable_categorical=False, eval_metric=None, gamma=None,\n",
      "              gpu_id=None, grow_policy=None, importance_type=None,\n",
      "              interaction_constraints=None, learning_rate=0.05, max_bin=None,\n",
      "              max_cat_to_onehot=None, max_delta_step=None, max_depth=8,\n",
      "              max_leaves=None, min_child_weight=None, missing=nan,\n",
      "              monotone_constraints=None, n_estimators=400, n_jobs=None,\n",
      "              num_parallel_tree=None, objective='multi:softmax', predictor=None,\n",
      "              random_state=None, reg_alpha=None, ...), mean_mfcc__kw_args={'sr': 16000, 'n_mfcc': 20, 'n_fft': 256, 'hop_length': 128, 'fmin': 300.0, 'fmax': 4000.0}; total time=  40.9s\n"
     ]
    },
    {
     "name": "stderr",
     "output_type": "stream",
     "text": [
      "/Users/axel/.pyenv/versions/3.8.12/envs/us8kdata/lib/python3.8/site-packages/librosa/util/decorators.py:88: UserWarning: Empty filters detected in mel frequency basis. Some channels will produce empty responses. Try increasing your sampling rate (and fmax) or reducing n_mels.\n",
      "  return f(*args, **kwargs)\n",
      "/Users/axel/.pyenv/versions/3.8.12/envs/us8kdata/lib/python3.8/site-packages/librosa/util/decorators.py:88: UserWarning: Empty filters detected in mel frequency basis. Some channels will produce empty responses. Try increasing your sampling rate (and fmax) or reducing n_mels.\n",
      "  return f(*args, **kwargs)\n"
     ]
    },
    {
     "name": "stdout",
     "output_type": "stream",
     "text": [
      "[CV] END estimator=XGBClassifier(base_score=None, booster=None, callbacks=None,\n",
      "              colsample_bylevel=None, colsample_bynode=None,\n",
      "              colsample_bytree=None, early_stopping_rounds=None,\n",
      "              enable_categorical=False, eval_metric=None, gamma=None,\n",
      "              gpu_id=None, grow_policy=None, importance_type=None,\n",
      "              interaction_constraints=None, learning_rate=0.05, max_bin=None,\n",
      "              max_cat_to_onehot=None, max_delta_step=None, max_depth=8,\n",
      "              max_leaves=None, min_child_weight=None, missing=nan,\n",
      "              monotone_constraints=None, n_estimators=400, n_jobs=None,\n",
      "              num_parallel_tree=None, objective='multi:softmax', predictor=None,\n",
      "              random_state=None, reg_alpha=None, ...), mean_mfcc__kw_args={'sr': 16000, 'n_mfcc': 20, 'n_fft': 256, 'hop_length': 128, 'fmin': 300.0, 'fmax': 5000.0}; total time=  41.5s\n"
     ]
    },
    {
     "name": "stderr",
     "output_type": "stream",
     "text": [
      "/Users/axel/.pyenv/versions/3.8.12/envs/us8kdata/lib/python3.8/site-packages/librosa/util/decorators.py:88: UserWarning: Empty filters detected in mel frequency basis. Some channels will produce empty responses. Try increasing your sampling rate (and fmax) or reducing n_mels.\n",
      "  return f(*args, **kwargs)\n",
      "/Users/axel/.pyenv/versions/3.8.12/envs/us8kdata/lib/python3.8/site-packages/librosa/util/decorators.py:88: UserWarning: Empty filters detected in mel frequency basis. Some channels will produce empty responses. Try increasing your sampling rate (and fmax) or reducing n_mels.\n",
      "  return f(*args, **kwargs)\n"
     ]
    },
    {
     "name": "stdout",
     "output_type": "stream",
     "text": [
      "[CV] END estimator=XGBClassifier(base_score=None, booster=None, callbacks=None,\n",
      "              colsample_bylevel=None, colsample_bynode=None,\n",
      "              colsample_bytree=None, early_stopping_rounds=None,\n",
      "              enable_categorical=False, eval_metric=None, gamma=None,\n",
      "              gpu_id=None, grow_policy=None, importance_type=None,\n",
      "              interaction_constraints=None, learning_rate=0.05, max_bin=None,\n",
      "              max_cat_to_onehot=None, max_delta_step=None, max_depth=8,\n",
      "              max_leaves=None, min_child_weight=None, missing=nan,\n",
      "              monotone_constraints=None, n_estimators=400, n_jobs=None,\n",
      "              num_parallel_tree=None, objective='multi:softmax', predictor=None,\n",
      "              random_state=None, reg_alpha=None, ...), mean_mfcc__kw_args={'sr': 16000, 'n_mfcc': 20, 'n_fft': 256, 'hop_length': 128, 'fmin': 300.0, 'fmax': 5000.0}; total time=  42.3s\n"
     ]
    },
    {
     "name": "stderr",
     "output_type": "stream",
     "text": [
      "/Users/axel/.pyenv/versions/3.8.12/envs/us8kdata/lib/python3.8/site-packages/librosa/util/decorators.py:88: UserWarning: Empty filters detected in mel frequency basis. Some channels will produce empty responses. Try increasing your sampling rate (and fmax) or reducing n_mels.\n",
      "  return f(*args, **kwargs)\n",
      "/Users/axel/.pyenv/versions/3.8.12/envs/us8kdata/lib/python3.8/site-packages/librosa/util/decorators.py:88: UserWarning: Empty filters detected in mel frequency basis. Some channels will produce empty responses. Try increasing your sampling rate (and fmax) or reducing n_mels.\n",
      "  return f(*args, **kwargs)\n"
     ]
    },
    {
     "name": "stdout",
     "output_type": "stream",
     "text": [
      "[CV] END estimator=XGBClassifier(base_score=None, booster=None, callbacks=None,\n",
      "              colsample_bylevel=None, colsample_bynode=None,\n",
      "              colsample_bytree=None, early_stopping_rounds=None,\n",
      "              enable_categorical=False, eval_metric=None, gamma=None,\n",
      "              gpu_id=None, grow_policy=None, importance_type=None,\n",
      "              interaction_constraints=None, learning_rate=0.05, max_bin=None,\n",
      "              max_cat_to_onehot=None, max_delta_step=None, max_depth=8,\n",
      "              max_leaves=None, min_child_weight=None, missing=nan,\n",
      "              monotone_constraints=None, n_estimators=400, n_jobs=None,\n",
      "              num_parallel_tree=None, objective='multi:softmax', predictor=None,\n",
      "              random_state=None, reg_alpha=None, ...), mean_mfcc__kw_args={'sr': 16000, 'n_mfcc': 20, 'n_fft': 256, 'hop_length': 128, 'fmin': 500.0, 'fmax': None}; total time=  43.3s\n"
     ]
    },
    {
     "name": "stderr",
     "output_type": "stream",
     "text": [
      "/Users/axel/.pyenv/versions/3.8.12/envs/us8kdata/lib/python3.8/site-packages/librosa/util/decorators.py:88: UserWarning: Empty filters detected in mel frequency basis. Some channels will produce empty responses. Try increasing your sampling rate (and fmax) or reducing n_mels.\n",
      "  return f(*args, **kwargs)\n",
      "/Users/axel/.pyenv/versions/3.8.12/envs/us8kdata/lib/python3.8/site-packages/librosa/util/decorators.py:88: UserWarning: Empty filters detected in mel frequency basis. Some channels will produce empty responses. Try increasing your sampling rate (and fmax) or reducing n_mels.\n",
      "  return f(*args, **kwargs)\n"
     ]
    },
    {
     "name": "stdout",
     "output_type": "stream",
     "text": [
      "[CV] END estimator=XGBClassifier(base_score=None, booster=None, callbacks=None,\n",
      "              colsample_bylevel=None, colsample_bynode=None,\n",
      "              colsample_bytree=None, early_stopping_rounds=None,\n",
      "              enable_categorical=False, eval_metric=None, gamma=None,\n",
      "              gpu_id=None, grow_policy=None, importance_type=None,\n",
      "              interaction_constraints=None, learning_rate=0.05, max_bin=None,\n",
      "              max_cat_to_onehot=None, max_delta_step=None, max_depth=8,\n",
      "              max_leaves=None, min_child_weight=None, missing=nan,\n",
      "              monotone_constraints=None, n_estimators=400, n_jobs=None,\n",
      "              num_parallel_tree=None, objective='multi:softmax', predictor=None,\n",
      "              random_state=None, reg_alpha=None, ...), mean_mfcc__kw_args={'sr': 16000, 'n_mfcc': 20, 'n_fft': 256, 'hop_length': 128, 'fmin': 500.0, 'fmax': None}; total time=  39.8s\n"
     ]
    },
    {
     "name": "stderr",
     "output_type": "stream",
     "text": [
      "/Users/axel/.pyenv/versions/3.8.12/envs/us8kdata/lib/python3.8/site-packages/librosa/util/decorators.py:88: UserWarning: Empty filters detected in mel frequency basis. Some channels will produce empty responses. Try increasing your sampling rate (and fmax) or reducing n_mels.\n",
      "  return f(*args, **kwargs)\n",
      "/Users/axel/.pyenv/versions/3.8.12/envs/us8kdata/lib/python3.8/site-packages/librosa/util/decorators.py:88: UserWarning: Empty filters detected in mel frequency basis. Some channels will produce empty responses. Try increasing your sampling rate (and fmax) or reducing n_mels.\n",
      "  return f(*args, **kwargs)\n"
     ]
    },
    {
     "name": "stdout",
     "output_type": "stream",
     "text": [
      "[CV] END estimator=XGBClassifier(base_score=None, booster=None, callbacks=None,\n",
      "              colsample_bylevel=None, colsample_bynode=None,\n",
      "              colsample_bytree=None, early_stopping_rounds=None,\n",
      "              enable_categorical=False, eval_metric=None, gamma=None,\n",
      "              gpu_id=None, grow_policy=None, importance_type=None,\n",
      "              interaction_constraints=None, learning_rate=0.05, max_bin=None,\n",
      "              max_cat_to_onehot=None, max_delta_step=None, max_depth=8,\n",
      "              max_leaves=None, min_child_weight=None, missing=nan,\n",
      "              monotone_constraints=None, n_estimators=400, n_jobs=None,\n",
      "              num_parallel_tree=None, objective='multi:softmax', predictor=None,\n",
      "              random_state=None, reg_alpha=None, ...), mean_mfcc__kw_args={'sr': 16000, 'n_mfcc': 20, 'n_fft': 256, 'hop_length': 128, 'fmin': 500.0, 'fmax': 3000.0}; total time=  40.6s\n"
     ]
    },
    {
     "name": "stderr",
     "output_type": "stream",
     "text": [
      "/Users/axel/.pyenv/versions/3.8.12/envs/us8kdata/lib/python3.8/site-packages/librosa/util/decorators.py:88: UserWarning: Empty filters detected in mel frequency basis. Some channels will produce empty responses. Try increasing your sampling rate (and fmax) or reducing n_mels.\n",
      "  return f(*args, **kwargs)\n",
      "/Users/axel/.pyenv/versions/3.8.12/envs/us8kdata/lib/python3.8/site-packages/librosa/util/decorators.py:88: UserWarning: Empty filters detected in mel frequency basis. Some channels will produce empty responses. Try increasing your sampling rate (and fmax) or reducing n_mels.\n",
      "  return f(*args, **kwargs)\n"
     ]
    },
    {
     "name": "stdout",
     "output_type": "stream",
     "text": [
      "[CV] END estimator=XGBClassifier(base_score=None, booster=None, callbacks=None,\n",
      "              colsample_bylevel=None, colsample_bynode=None,\n",
      "              colsample_bytree=None, early_stopping_rounds=None,\n",
      "              enable_categorical=False, eval_metric=None, gamma=None,\n",
      "              gpu_id=None, grow_policy=None, importance_type=None,\n",
      "              interaction_constraints=None, learning_rate=0.05, max_bin=None,\n",
      "              max_cat_to_onehot=None, max_delta_step=None, max_depth=8,\n",
      "              max_leaves=None, min_child_weight=None, missing=nan,\n",
      "              monotone_constraints=None, n_estimators=400, n_jobs=None,\n",
      "              num_parallel_tree=None, objective='multi:softmax', predictor=None,\n",
      "              random_state=None, reg_alpha=None, ...), mean_mfcc__kw_args={'sr': 16000, 'n_mfcc': 20, 'n_fft': 256, 'hop_length': 128, 'fmin': 500.0, 'fmax': 3000.0}; total time=  41.0s\n"
     ]
    },
    {
     "name": "stderr",
     "output_type": "stream",
     "text": [
      "/Users/axel/.pyenv/versions/3.8.12/envs/us8kdata/lib/python3.8/site-packages/librosa/util/decorators.py:88: UserWarning: Empty filters detected in mel frequency basis. Some channels will produce empty responses. Try increasing your sampling rate (and fmax) or reducing n_mels.\n",
      "  return f(*args, **kwargs)\n",
      "/Users/axel/.pyenv/versions/3.8.12/envs/us8kdata/lib/python3.8/site-packages/librosa/util/decorators.py:88: UserWarning: Empty filters detected in mel frequency basis. Some channels will produce empty responses. Try increasing your sampling rate (and fmax) or reducing n_mels.\n",
      "  return f(*args, **kwargs)\n"
     ]
    },
    {
     "name": "stdout",
     "output_type": "stream",
     "text": [
      "[CV] END estimator=XGBClassifier(base_score=None, booster=None, callbacks=None,\n",
      "              colsample_bylevel=None, colsample_bynode=None,\n",
      "              colsample_bytree=None, early_stopping_rounds=None,\n",
      "              enable_categorical=False, eval_metric=None, gamma=None,\n",
      "              gpu_id=None, grow_policy=None, importance_type=None,\n",
      "              interaction_constraints=None, learning_rate=0.05, max_bin=None,\n",
      "              max_cat_to_onehot=None, max_delta_step=None, max_depth=8,\n",
      "              max_leaves=None, min_child_weight=None, missing=nan,\n",
      "              monotone_constraints=None, n_estimators=400, n_jobs=None,\n",
      "              num_parallel_tree=None, objective='multi:softmax', predictor=None,\n",
      "              random_state=None, reg_alpha=None, ...), mean_mfcc__kw_args={'sr': 16000, 'n_mfcc': 20, 'n_fft': 256, 'hop_length': 128, 'fmin': 500.0, 'fmax': 4000.0}; total time=  43.9s\n"
     ]
    },
    {
     "name": "stderr",
     "output_type": "stream",
     "text": [
      "/Users/axel/.pyenv/versions/3.8.12/envs/us8kdata/lib/python3.8/site-packages/librosa/util/decorators.py:88: UserWarning: Empty filters detected in mel frequency basis. Some channels will produce empty responses. Try increasing your sampling rate (and fmax) or reducing n_mels.\n",
      "  return f(*args, **kwargs)\n",
      "/Users/axel/.pyenv/versions/3.8.12/envs/us8kdata/lib/python3.8/site-packages/librosa/util/decorators.py:88: UserWarning: Empty filters detected in mel frequency basis. Some channels will produce empty responses. Try increasing your sampling rate (and fmax) or reducing n_mels.\n",
      "  return f(*args, **kwargs)\n"
     ]
    },
    {
     "name": "stdout",
     "output_type": "stream",
     "text": [
      "[CV] END estimator=XGBClassifier(base_score=None, booster=None, callbacks=None,\n",
      "              colsample_bylevel=None, colsample_bynode=None,\n",
      "              colsample_bytree=None, early_stopping_rounds=None,\n",
      "              enable_categorical=False, eval_metric=None, gamma=None,\n",
      "              gpu_id=None, grow_policy=None, importance_type=None,\n",
      "              interaction_constraints=None, learning_rate=0.05, max_bin=None,\n",
      "              max_cat_to_onehot=None, max_delta_step=None, max_depth=8,\n",
      "              max_leaves=None, min_child_weight=None, missing=nan,\n",
      "              monotone_constraints=None, n_estimators=400, n_jobs=None,\n",
      "              num_parallel_tree=None, objective='multi:softmax', predictor=None,\n",
      "              random_state=None, reg_alpha=None, ...), mean_mfcc__kw_args={'sr': 16000, 'n_mfcc': 20, 'n_fft': 256, 'hop_length': 128, 'fmin': 500.0, 'fmax': 4000.0}; total time=  41.0s\n"
     ]
    },
    {
     "name": "stderr",
     "output_type": "stream",
     "text": [
      "/Users/axel/.pyenv/versions/3.8.12/envs/us8kdata/lib/python3.8/site-packages/librosa/util/decorators.py:88: UserWarning: Empty filters detected in mel frequency basis. Some channels will produce empty responses. Try increasing your sampling rate (and fmax) or reducing n_mels.\n",
      "  return f(*args, **kwargs)\n",
      "/Users/axel/.pyenv/versions/3.8.12/envs/us8kdata/lib/python3.8/site-packages/librosa/util/decorators.py:88: UserWarning: Empty filters detected in mel frequency basis. Some channels will produce empty responses. Try increasing your sampling rate (and fmax) or reducing n_mels.\n",
      "  return f(*args, **kwargs)\n"
     ]
    },
    {
     "name": "stdout",
     "output_type": "stream",
     "text": [
      "[CV] END estimator=XGBClassifier(base_score=None, booster=None, callbacks=None,\n",
      "              colsample_bylevel=None, colsample_bynode=None,\n",
      "              colsample_bytree=None, early_stopping_rounds=None,\n",
      "              enable_categorical=False, eval_metric=None, gamma=None,\n",
      "              gpu_id=None, grow_policy=None, importance_type=None,\n",
      "              interaction_constraints=None, learning_rate=0.05, max_bin=None,\n",
      "              max_cat_to_onehot=None, max_delta_step=None, max_depth=8,\n",
      "              max_leaves=None, min_child_weight=None, missing=nan,\n",
      "              monotone_constraints=None, n_estimators=400, n_jobs=None,\n",
      "              num_parallel_tree=None, objective='multi:softmax', predictor=None,\n",
      "              random_state=None, reg_alpha=None, ...), mean_mfcc__kw_args={'sr': 16000, 'n_mfcc': 20, 'n_fft': 256, 'hop_length': 128, 'fmin': 500.0, 'fmax': 5000.0}; total time=  43.2s\n"
     ]
    },
    {
     "name": "stderr",
     "output_type": "stream",
     "text": [
      "/Users/axel/.pyenv/versions/3.8.12/envs/us8kdata/lib/python3.8/site-packages/librosa/util/decorators.py:88: UserWarning: Empty filters detected in mel frequency basis. Some channels will produce empty responses. Try increasing your sampling rate (and fmax) or reducing n_mels.\n",
      "  return f(*args, **kwargs)\n",
      "/Users/axel/.pyenv/versions/3.8.12/envs/us8kdata/lib/python3.8/site-packages/librosa/util/decorators.py:88: UserWarning: Empty filters detected in mel frequency basis. Some channels will produce empty responses. Try increasing your sampling rate (and fmax) or reducing n_mels.\n",
      "  return f(*args, **kwargs)\n"
     ]
    },
    {
     "name": "stdout",
     "output_type": "stream",
     "text": [
      "[CV] END estimator=XGBClassifier(base_score=None, booster=None, callbacks=None,\n",
      "              colsample_bylevel=None, colsample_bynode=None,\n",
      "              colsample_bytree=None, early_stopping_rounds=None,\n",
      "              enable_categorical=False, eval_metric=None, gamma=None,\n",
      "              gpu_id=None, grow_policy=None, importance_type=None,\n",
      "              interaction_constraints=None, learning_rate=0.05, max_bin=None,\n",
      "              max_cat_to_onehot=None, max_delta_step=None, max_depth=8,\n",
      "              max_leaves=None, min_child_weight=None, missing=nan,\n",
      "              monotone_constraints=None, n_estimators=400, n_jobs=None,\n",
      "              num_parallel_tree=None, objective='multi:softmax', predictor=None,\n",
      "              random_state=None, reg_alpha=None, ...), mean_mfcc__kw_args={'sr': 16000, 'n_mfcc': 20, 'n_fft': 256, 'hop_length': 128, 'fmin': 500.0, 'fmax': 5000.0}; total time=  41.2s\n",
      "[CV] END estimator=XGBClassifier(base_score=None, booster=None, callbacks=None,\n",
      "              colsample_bylevel=None, colsample_bynode=None,\n",
      "              colsample_bytree=None, early_stopping_rounds=None,\n",
      "              enable_categorical=False, eval_metric=None, gamma=None,\n",
      "              gpu_id=None, grow_policy=None, importance_type=None,\n",
      "              interaction_constraints=None, learning_rate=0.05, max_bin=None,\n",
      "              max_cat_to_onehot=None, max_delta_step=None, max_depth=8,\n",
      "              max_leaves=None, min_child_weight=None, missing=nan,\n",
      "              monotone_constraints=None, n_estimators=400, n_jobs=None,\n",
      "              num_parallel_tree=None, objective='multi:softmax', predictor=None,\n",
      "              random_state=None, reg_alpha=None, ...), mean_mfcc__kw_args={'sr': 16000, 'n_mfcc': 20, 'n_fft': 512, 'hop_length': 128, 'fmin': 0.0, 'fmax': None}; total time=  52.2s\n",
      "[CV] END estimator=XGBClassifier(base_score=None, booster=None, callbacks=None,\n",
      "              colsample_bylevel=None, colsample_bynode=None,\n",
      "              colsample_bytree=None, early_stopping_rounds=None,\n",
      "              enable_categorical=False, eval_metric=None, gamma=None,\n",
      "              gpu_id=None, grow_policy=None, importance_type=None,\n",
      "              interaction_constraints=None, learning_rate=0.05, max_bin=None,\n",
      "              max_cat_to_onehot=None, max_delta_step=None, max_depth=8,\n",
      "              max_leaves=None, min_child_weight=None, missing=nan,\n",
      "              monotone_constraints=None, n_estimators=400, n_jobs=None,\n",
      "              num_parallel_tree=None, objective='multi:softmax', predictor=None,\n",
      "              random_state=None, reg_alpha=None, ...), mean_mfcc__kw_args={'sr': 16000, 'n_mfcc': 20, 'n_fft': 512, 'hop_length': 128, 'fmin': 0.0, 'fmax': None}; total time=  50.1s\n",
      "[CV] END estimator=XGBClassifier(base_score=None, booster=None, callbacks=None,\n",
      "              colsample_bylevel=None, colsample_bynode=None,\n",
      "              colsample_bytree=None, early_stopping_rounds=None,\n",
      "              enable_categorical=False, eval_metric=None, gamma=None,\n",
      "              gpu_id=None, grow_policy=None, importance_type=None,\n",
      "              interaction_constraints=None, learning_rate=0.05, max_bin=None,\n",
      "              max_cat_to_onehot=None, max_delta_step=None, max_depth=8,\n",
      "              max_leaves=None, min_child_weight=None, missing=nan,\n",
      "              monotone_constraints=None, n_estimators=400, n_jobs=None,\n",
      "              num_parallel_tree=None, objective='multi:softmax', predictor=None,\n",
      "              random_state=None, reg_alpha=None, ...), mean_mfcc__kw_args={'sr': 16000, 'n_mfcc': 20, 'n_fft': 512, 'hop_length': 128, 'fmin': 0.0, 'fmax': 3000.0}; total time=  53.2s\n",
      "[CV] END estimator=XGBClassifier(base_score=None, booster=None, callbacks=None,\n",
      "              colsample_bylevel=None, colsample_bynode=None,\n",
      "              colsample_bytree=None, early_stopping_rounds=None,\n",
      "              enable_categorical=False, eval_metric=None, gamma=None,\n",
      "              gpu_id=None, grow_policy=None, importance_type=None,\n",
      "              interaction_constraints=None, learning_rate=0.05, max_bin=None,\n",
      "              max_cat_to_onehot=None, max_delta_step=None, max_depth=8,\n",
      "              max_leaves=None, min_child_weight=None, missing=nan,\n",
      "              monotone_constraints=None, n_estimators=400, n_jobs=None,\n",
      "              num_parallel_tree=None, objective='multi:softmax', predictor=None,\n",
      "              random_state=None, reg_alpha=None, ...), mean_mfcc__kw_args={'sr': 16000, 'n_mfcc': 20, 'n_fft': 512, 'hop_length': 128, 'fmin': 0.0, 'fmax': 3000.0}; total time=  49.6s\n",
      "[CV] END estimator=XGBClassifier(base_score=None, booster=None, callbacks=None,\n",
      "              colsample_bylevel=None, colsample_bynode=None,\n",
      "              colsample_bytree=None, early_stopping_rounds=None,\n",
      "              enable_categorical=False, eval_metric=None, gamma=None,\n",
      "              gpu_id=None, grow_policy=None, importance_type=None,\n",
      "              interaction_constraints=None, learning_rate=0.05, max_bin=None,\n",
      "              max_cat_to_onehot=None, max_delta_step=None, max_depth=8,\n",
      "              max_leaves=None, min_child_weight=None, missing=nan,\n",
      "              monotone_constraints=None, n_estimators=400, n_jobs=None,\n",
      "              num_parallel_tree=None, objective='multi:softmax', predictor=None,\n",
      "              random_state=None, reg_alpha=None, ...), mean_mfcc__kw_args={'sr': 16000, 'n_mfcc': 20, 'n_fft': 512, 'hop_length': 128, 'fmin': 0.0, 'fmax': 4000.0}; total time=  51.5s\n",
      "[CV] END estimator=XGBClassifier(base_score=None, booster=None, callbacks=None,\n",
      "              colsample_bylevel=None, colsample_bynode=None,\n",
      "              colsample_bytree=None, early_stopping_rounds=None,\n",
      "              enable_categorical=False, eval_metric=None, gamma=None,\n",
      "              gpu_id=None, grow_policy=None, importance_type=None,\n",
      "              interaction_constraints=None, learning_rate=0.05, max_bin=None,\n",
      "              max_cat_to_onehot=None, max_delta_step=None, max_depth=8,\n",
      "              max_leaves=None, min_child_weight=None, missing=nan,\n",
      "              monotone_constraints=None, n_estimators=400, n_jobs=None,\n",
      "              num_parallel_tree=None, objective='multi:softmax', predictor=None,\n",
      "              random_state=None, reg_alpha=None, ...), mean_mfcc__kw_args={'sr': 16000, 'n_mfcc': 20, 'n_fft': 512, 'hop_length': 128, 'fmin': 0.0, 'fmax': 4000.0}; total time=  50.9s\n",
      "[CV] END estimator=XGBClassifier(base_score=None, booster=None, callbacks=None,\n",
      "              colsample_bylevel=None, colsample_bynode=None,\n",
      "              colsample_bytree=None, early_stopping_rounds=None,\n",
      "              enable_categorical=False, eval_metric=None, gamma=None,\n",
      "              gpu_id=None, grow_policy=None, importance_type=None,\n",
      "              interaction_constraints=None, learning_rate=0.05, max_bin=None,\n",
      "              max_cat_to_onehot=None, max_delta_step=None, max_depth=8,\n",
      "              max_leaves=None, min_child_weight=None, missing=nan,\n",
      "              monotone_constraints=None, n_estimators=400, n_jobs=None,\n",
      "              num_parallel_tree=None, objective='multi:softmax', predictor=None,\n",
      "              random_state=None, reg_alpha=None, ...), mean_mfcc__kw_args={'sr': 16000, 'n_mfcc': 20, 'n_fft': 512, 'hop_length': 128, 'fmin': 0.0, 'fmax': 5000.0}; total time=  50.9s\n",
      "[CV] END estimator=XGBClassifier(base_score=None, booster=None, callbacks=None,\n",
      "              colsample_bylevel=None, colsample_bynode=None,\n",
      "              colsample_bytree=None, early_stopping_rounds=None,\n",
      "              enable_categorical=False, eval_metric=None, gamma=None,\n",
      "              gpu_id=None, grow_policy=None, importance_type=None,\n",
      "              interaction_constraints=None, learning_rate=0.05, max_bin=None,\n",
      "              max_cat_to_onehot=None, max_delta_step=None, max_depth=8,\n",
      "              max_leaves=None, min_child_weight=None, missing=nan,\n",
      "              monotone_constraints=None, n_estimators=400, n_jobs=None,\n",
      "              num_parallel_tree=None, objective='multi:softmax', predictor=None,\n",
      "              random_state=None, reg_alpha=None, ...), mean_mfcc__kw_args={'sr': 16000, 'n_mfcc': 20, 'n_fft': 512, 'hop_length': 128, 'fmin': 0.0, 'fmax': 5000.0}; total time=  48.3s\n",
      "[CV] END estimator=XGBClassifier(base_score=None, booster=None, callbacks=None,\n",
      "              colsample_bylevel=None, colsample_bynode=None,\n",
      "              colsample_bytree=None, early_stopping_rounds=None,\n",
      "              enable_categorical=False, eval_metric=None, gamma=None,\n",
      "              gpu_id=None, grow_policy=None, importance_type=None,\n",
      "              interaction_constraints=None, learning_rate=0.05, max_bin=None,\n",
      "              max_cat_to_onehot=None, max_delta_step=None, max_depth=8,\n",
      "              max_leaves=None, min_child_weight=None, missing=nan,\n",
      "              monotone_constraints=None, n_estimators=400, n_jobs=None,\n",
      "              num_parallel_tree=None, objective='multi:softmax', predictor=None,\n",
      "              random_state=None, reg_alpha=None, ...), mean_mfcc__kw_args={'sr': 16000, 'n_mfcc': 20, 'n_fft': 512, 'hop_length': 128, 'fmin': 300.0, 'fmax': None}; total time=  50.7s\n"
     ]
    },
    {
     "name": "stdout",
     "output_type": "stream",
     "text": [
      "[CV] END estimator=XGBClassifier(base_score=None, booster=None, callbacks=None,\n",
      "              colsample_bylevel=None, colsample_bynode=None,\n",
      "              colsample_bytree=None, early_stopping_rounds=None,\n",
      "              enable_categorical=False, eval_metric=None, gamma=None,\n",
      "              gpu_id=None, grow_policy=None, importance_type=None,\n",
      "              interaction_constraints=None, learning_rate=0.05, max_bin=None,\n",
      "              max_cat_to_onehot=None, max_delta_step=None, max_depth=8,\n",
      "              max_leaves=None, min_child_weight=None, missing=nan,\n",
      "              monotone_constraints=None, n_estimators=400, n_jobs=None,\n",
      "              num_parallel_tree=None, objective='multi:softmax', predictor=None,\n",
      "              random_state=None, reg_alpha=None, ...), mean_mfcc__kw_args={'sr': 16000, 'n_mfcc': 20, 'n_fft': 512, 'hop_length': 128, 'fmin': 300.0, 'fmax': None}; total time=  50.3s\n",
      "[CV] END estimator=XGBClassifier(base_score=None, booster=None, callbacks=None,\n",
      "              colsample_bylevel=None, colsample_bynode=None,\n",
      "              colsample_bytree=None, early_stopping_rounds=None,\n",
      "              enable_categorical=False, eval_metric=None, gamma=None,\n",
      "              gpu_id=None, grow_policy=None, importance_type=None,\n",
      "              interaction_constraints=None, learning_rate=0.05, max_bin=None,\n",
      "              max_cat_to_onehot=None, max_delta_step=None, max_depth=8,\n",
      "              max_leaves=None, min_child_weight=None, missing=nan,\n",
      "              monotone_constraints=None, n_estimators=400, n_jobs=None,\n",
      "              num_parallel_tree=None, objective='multi:softmax', predictor=None,\n",
      "              random_state=None, reg_alpha=None, ...), mean_mfcc__kw_args={'sr': 16000, 'n_mfcc': 20, 'n_fft': 512, 'hop_length': 128, 'fmin': 300.0, 'fmax': 3000.0}; total time=  50.9s\n",
      "[CV] END estimator=XGBClassifier(base_score=None, booster=None, callbacks=None,\n",
      "              colsample_bylevel=None, colsample_bynode=None,\n",
      "              colsample_bytree=None, early_stopping_rounds=None,\n",
      "              enable_categorical=False, eval_metric=None, gamma=None,\n",
      "              gpu_id=None, grow_policy=None, importance_type=None,\n",
      "              interaction_constraints=None, learning_rate=0.05, max_bin=None,\n",
      "              max_cat_to_onehot=None, max_delta_step=None, max_depth=8,\n",
      "              max_leaves=None, min_child_weight=None, missing=nan,\n",
      "              monotone_constraints=None, n_estimators=400, n_jobs=None,\n",
      "              num_parallel_tree=None, objective='multi:softmax', predictor=None,\n",
      "              random_state=None, reg_alpha=None, ...), mean_mfcc__kw_args={'sr': 16000, 'n_mfcc': 20, 'n_fft': 512, 'hop_length': 128, 'fmin': 300.0, 'fmax': 3000.0}; total time=  49.8s\n",
      "[CV] END estimator=XGBClassifier(base_score=None, booster=None, callbacks=None,\n",
      "              colsample_bylevel=None, colsample_bynode=None,\n",
      "              colsample_bytree=None, early_stopping_rounds=None,\n",
      "              enable_categorical=False, eval_metric=None, gamma=None,\n",
      "              gpu_id=None, grow_policy=None, importance_type=None,\n",
      "              interaction_constraints=None, learning_rate=0.05, max_bin=None,\n",
      "              max_cat_to_onehot=None, max_delta_step=None, max_depth=8,\n",
      "              max_leaves=None, min_child_weight=None, missing=nan,\n",
      "              monotone_constraints=None, n_estimators=400, n_jobs=None,\n",
      "              num_parallel_tree=None, objective='multi:softmax', predictor=None,\n",
      "              random_state=None, reg_alpha=None, ...), mean_mfcc__kw_args={'sr': 16000, 'n_mfcc': 20, 'n_fft': 512, 'hop_length': 128, 'fmin': 300.0, 'fmax': 4000.0}; total time=  51.2s\n",
      "[CV] END estimator=XGBClassifier(base_score=None, booster=None, callbacks=None,\n",
      "              colsample_bylevel=None, colsample_bynode=None,\n",
      "              colsample_bytree=None, early_stopping_rounds=None,\n",
      "              enable_categorical=False, eval_metric=None, gamma=None,\n",
      "              gpu_id=None, grow_policy=None, importance_type=None,\n",
      "              interaction_constraints=None, learning_rate=0.05, max_bin=None,\n",
      "              max_cat_to_onehot=None, max_delta_step=None, max_depth=8,\n",
      "              max_leaves=None, min_child_weight=None, missing=nan,\n",
      "              monotone_constraints=None, n_estimators=400, n_jobs=None,\n",
      "              num_parallel_tree=None, objective='multi:softmax', predictor=None,\n",
      "              random_state=None, reg_alpha=None, ...), mean_mfcc__kw_args={'sr': 16000, 'n_mfcc': 20, 'n_fft': 512, 'hop_length': 128, 'fmin': 300.0, 'fmax': 4000.0}; total time=  50.3s\n",
      "[CV] END estimator=XGBClassifier(base_score=None, booster=None, callbacks=None,\n",
      "              colsample_bylevel=None, colsample_bynode=None,\n",
      "              colsample_bytree=None, early_stopping_rounds=None,\n",
      "              enable_categorical=False, eval_metric=None, gamma=None,\n",
      "              gpu_id=None, grow_policy=None, importance_type=None,\n",
      "              interaction_constraints=None, learning_rate=0.05, max_bin=None,\n",
      "              max_cat_to_onehot=None, max_delta_step=None, max_depth=8,\n",
      "              max_leaves=None, min_child_weight=None, missing=nan,\n",
      "              monotone_constraints=None, n_estimators=400, n_jobs=None,\n",
      "              num_parallel_tree=None, objective='multi:softmax', predictor=None,\n",
      "              random_state=None, reg_alpha=None, ...), mean_mfcc__kw_args={'sr': 16000, 'n_mfcc': 20, 'n_fft': 512, 'hop_length': 128, 'fmin': 300.0, 'fmax': 5000.0}; total time=  51.3s\n",
      "[CV] END estimator=XGBClassifier(base_score=None, booster=None, callbacks=None,\n",
      "              colsample_bylevel=None, colsample_bynode=None,\n",
      "              colsample_bytree=None, early_stopping_rounds=None,\n",
      "              enable_categorical=False, eval_metric=None, gamma=None,\n",
      "              gpu_id=None, grow_policy=None, importance_type=None,\n",
      "              interaction_constraints=None, learning_rate=0.05, max_bin=None,\n",
      "              max_cat_to_onehot=None, max_delta_step=None, max_depth=8,\n",
      "              max_leaves=None, min_child_weight=None, missing=nan,\n",
      "              monotone_constraints=None, n_estimators=400, n_jobs=None,\n",
      "              num_parallel_tree=None, objective='multi:softmax', predictor=None,\n",
      "              random_state=None, reg_alpha=None, ...), mean_mfcc__kw_args={'sr': 16000, 'n_mfcc': 20, 'n_fft': 512, 'hop_length': 128, 'fmin': 300.0, 'fmax': 5000.0}; total time=  51.1s\n",
      "[CV] END estimator=XGBClassifier(base_score=None, booster=None, callbacks=None,\n",
      "              colsample_bylevel=None, colsample_bynode=None,\n",
      "              colsample_bytree=None, early_stopping_rounds=None,\n",
      "              enable_categorical=False, eval_metric=None, gamma=None,\n",
      "              gpu_id=None, grow_policy=None, importance_type=None,\n",
      "              interaction_constraints=None, learning_rate=0.05, max_bin=None,\n",
      "              max_cat_to_onehot=None, max_delta_step=None, max_depth=8,\n",
      "              max_leaves=None, min_child_weight=None, missing=nan,\n",
      "              monotone_constraints=None, n_estimators=400, n_jobs=None,\n",
      "              num_parallel_tree=None, objective='multi:softmax', predictor=None,\n",
      "              random_state=None, reg_alpha=None, ...), mean_mfcc__kw_args={'sr': 16000, 'n_mfcc': 20, 'n_fft': 512, 'hop_length': 128, 'fmin': 500.0, 'fmax': None}; total time=  50.9s\n",
      "[CV] END estimator=XGBClassifier(base_score=None, booster=None, callbacks=None,\n",
      "              colsample_bylevel=None, colsample_bynode=None,\n",
      "              colsample_bytree=None, early_stopping_rounds=None,\n",
      "              enable_categorical=False, eval_metric=None, gamma=None,\n",
      "              gpu_id=None, grow_policy=None, importance_type=None,\n",
      "              interaction_constraints=None, learning_rate=0.05, max_bin=None,\n",
      "              max_cat_to_onehot=None, max_delta_step=None, max_depth=8,\n",
      "              max_leaves=None, min_child_weight=None, missing=nan,\n",
      "              monotone_constraints=None, n_estimators=400, n_jobs=None,\n",
      "              num_parallel_tree=None, objective='multi:softmax', predictor=None,\n",
      "              random_state=None, reg_alpha=None, ...), mean_mfcc__kw_args={'sr': 16000, 'n_mfcc': 20, 'n_fft': 512, 'hop_length': 128, 'fmin': 500.0, 'fmax': None}; total time=  49.4s\n",
      "[CV] END estimator=XGBClassifier(base_score=None, booster=None, callbacks=None,\n",
      "              colsample_bylevel=None, colsample_bynode=None,\n",
      "              colsample_bytree=None, early_stopping_rounds=None,\n",
      "              enable_categorical=False, eval_metric=None, gamma=None,\n",
      "              gpu_id=None, grow_policy=None, importance_type=None,\n",
      "              interaction_constraints=None, learning_rate=0.05, max_bin=None,\n",
      "              max_cat_to_onehot=None, max_delta_step=None, max_depth=8,\n",
      "              max_leaves=None, min_child_weight=None, missing=nan,\n",
      "              monotone_constraints=None, n_estimators=400, n_jobs=None,\n",
      "              num_parallel_tree=None, objective='multi:softmax', predictor=None,\n",
      "              random_state=None, reg_alpha=None, ...), mean_mfcc__kw_args={'sr': 16000, 'n_mfcc': 20, 'n_fft': 512, 'hop_length': 128, 'fmin': 500.0, 'fmax': 3000.0}; total time=  53.7s\n"
     ]
    },
    {
     "name": "stdout",
     "output_type": "stream",
     "text": [
      "[CV] END estimator=XGBClassifier(base_score=None, booster=None, callbacks=None,\n",
      "              colsample_bylevel=None, colsample_bynode=None,\n",
      "              colsample_bytree=None, early_stopping_rounds=None,\n",
      "              enable_categorical=False, eval_metric=None, gamma=None,\n",
      "              gpu_id=None, grow_policy=None, importance_type=None,\n",
      "              interaction_constraints=None, learning_rate=0.05, max_bin=None,\n",
      "              max_cat_to_onehot=None, max_delta_step=None, max_depth=8,\n",
      "              max_leaves=None, min_child_weight=None, missing=nan,\n",
      "              monotone_constraints=None, n_estimators=400, n_jobs=None,\n",
      "              num_parallel_tree=None, objective='multi:softmax', predictor=None,\n",
      "              random_state=None, reg_alpha=None, ...), mean_mfcc__kw_args={'sr': 16000, 'n_mfcc': 20, 'n_fft': 512, 'hop_length': 128, 'fmin': 500.0, 'fmax': 3000.0}; total time=  50.4s\n",
      "[CV] END estimator=XGBClassifier(base_score=None, booster=None, callbacks=None,\n",
      "              colsample_bylevel=None, colsample_bynode=None,\n",
      "              colsample_bytree=None, early_stopping_rounds=None,\n",
      "              enable_categorical=False, eval_metric=None, gamma=None,\n",
      "              gpu_id=None, grow_policy=None, importance_type=None,\n",
      "              interaction_constraints=None, learning_rate=0.05, max_bin=None,\n",
      "              max_cat_to_onehot=None, max_delta_step=None, max_depth=8,\n",
      "              max_leaves=None, min_child_weight=None, missing=nan,\n",
      "              monotone_constraints=None, n_estimators=400, n_jobs=None,\n",
      "              num_parallel_tree=None, objective='multi:softmax', predictor=None,\n",
      "              random_state=None, reg_alpha=None, ...), mean_mfcc__kw_args={'sr': 16000, 'n_mfcc': 20, 'n_fft': 512, 'hop_length': 128, 'fmin': 500.0, 'fmax': 4000.0}; total time=  52.2s\n",
      "[CV] END estimator=XGBClassifier(base_score=None, booster=None, callbacks=None,\n",
      "              colsample_bylevel=None, colsample_bynode=None,\n",
      "              colsample_bytree=None, early_stopping_rounds=None,\n",
      "              enable_categorical=False, eval_metric=None, gamma=None,\n",
      "              gpu_id=None, grow_policy=None, importance_type=None,\n",
      "              interaction_constraints=None, learning_rate=0.05, max_bin=None,\n",
      "              max_cat_to_onehot=None, max_delta_step=None, max_depth=8,\n",
      "              max_leaves=None, min_child_weight=None, missing=nan,\n",
      "              monotone_constraints=None, n_estimators=400, n_jobs=None,\n",
      "              num_parallel_tree=None, objective='multi:softmax', predictor=None,\n",
      "              random_state=None, reg_alpha=None, ...), mean_mfcc__kw_args={'sr': 16000, 'n_mfcc': 20, 'n_fft': 512, 'hop_length': 128, 'fmin': 500.0, 'fmax': 4000.0}; total time=  49.0s\n",
      "[CV] END estimator=XGBClassifier(base_score=None, booster=None, callbacks=None,\n",
      "              colsample_bylevel=None, colsample_bynode=None,\n",
      "              colsample_bytree=None, early_stopping_rounds=None,\n",
      "              enable_categorical=False, eval_metric=None, gamma=None,\n",
      "              gpu_id=None, grow_policy=None, importance_type=None,\n",
      "              interaction_constraints=None, learning_rate=0.05, max_bin=None,\n",
      "              max_cat_to_onehot=None, max_delta_step=None, max_depth=8,\n",
      "              max_leaves=None, min_child_weight=None, missing=nan,\n",
      "              monotone_constraints=None, n_estimators=400, n_jobs=None,\n",
      "              num_parallel_tree=None, objective='multi:softmax', predictor=None,\n",
      "              random_state=None, reg_alpha=None, ...), mean_mfcc__kw_args={'sr': 16000, 'n_mfcc': 20, 'n_fft': 512, 'hop_length': 128, 'fmin': 500.0, 'fmax': 5000.0}; total time=  53.2s\n",
      "[CV] END estimator=XGBClassifier(base_score=None, booster=None, callbacks=None,\n",
      "              colsample_bylevel=None, colsample_bynode=None,\n",
      "              colsample_bytree=None, early_stopping_rounds=None,\n",
      "              enable_categorical=False, eval_metric=None, gamma=None,\n",
      "              gpu_id=None, grow_policy=None, importance_type=None,\n",
      "              interaction_constraints=None, learning_rate=0.05, max_bin=None,\n",
      "              max_cat_to_onehot=None, max_delta_step=None, max_depth=8,\n",
      "              max_leaves=None, min_child_weight=None, missing=nan,\n",
      "              monotone_constraints=None, n_estimators=400, n_jobs=None,\n",
      "              num_parallel_tree=None, objective='multi:softmax', predictor=None,\n",
      "              random_state=None, reg_alpha=None, ...), mean_mfcc__kw_args={'sr': 16000, 'n_mfcc': 20, 'n_fft': 512, 'hop_length': 128, 'fmin': 500.0, 'fmax': 5000.0}; total time=  50.9s\n",
      "[CV] END estimator=XGBClassifier(base_score=None, booster=None, callbacks=None,\n",
      "              colsample_bylevel=None, colsample_bynode=None,\n",
      "              colsample_bytree=None, early_stopping_rounds=None,\n",
      "              enable_categorical=False, eval_metric=None, gamma=None,\n",
      "              gpu_id=None, grow_policy=None, importance_type=None,\n",
      "              interaction_constraints=None, learning_rate=0.05, max_bin=None,\n",
      "              max_cat_to_onehot=None, max_delta_step=None, max_depth=8,\n",
      "              max_leaves=None, min_child_weight=None, missing=nan,\n",
      "              monotone_constraints=None, n_estimators=400, n_jobs=None,\n",
      "              num_parallel_tree=None, objective='multi:softmax', predictor=None,\n",
      "              random_state=None, reg_alpha=None, ...), mean_mfcc__kw_args={'sr': 16000, 'n_mfcc': 20, 'n_fft': 768, 'hop_length': 128, 'fmin': 0.0, 'fmax': None}; total time= 1.0min\n",
      "[CV] END estimator=XGBClassifier(base_score=None, booster=None, callbacks=None,\n",
      "              colsample_bylevel=None, colsample_bynode=None,\n",
      "              colsample_bytree=None, early_stopping_rounds=None,\n",
      "              enable_categorical=False, eval_metric=None, gamma=None,\n",
      "              gpu_id=None, grow_policy=None, importance_type=None,\n",
      "              interaction_constraints=None, learning_rate=0.05, max_bin=None,\n",
      "              max_cat_to_onehot=None, max_delta_step=None, max_depth=8,\n",
      "              max_leaves=None, min_child_weight=None, missing=nan,\n",
      "              monotone_constraints=None, n_estimators=400, n_jobs=None,\n",
      "              num_parallel_tree=None, objective='multi:softmax', predictor=None,\n",
      "              random_state=None, reg_alpha=None, ...), mean_mfcc__kw_args={'sr': 16000, 'n_mfcc': 20, 'n_fft': 768, 'hop_length': 128, 'fmin': 0.0, 'fmax': None}; total time=  57.8s\n",
      "[CV] END estimator=XGBClassifier(base_score=None, booster=None, callbacks=None,\n",
      "              colsample_bylevel=None, colsample_bynode=None,\n",
      "              colsample_bytree=None, early_stopping_rounds=None,\n",
      "              enable_categorical=False, eval_metric=None, gamma=None,\n",
      "              gpu_id=None, grow_policy=None, importance_type=None,\n",
      "              interaction_constraints=None, learning_rate=0.05, max_bin=None,\n",
      "              max_cat_to_onehot=None, max_delta_step=None, max_depth=8,\n",
      "              max_leaves=None, min_child_weight=None, missing=nan,\n",
      "              monotone_constraints=None, n_estimators=400, n_jobs=None,\n",
      "              num_parallel_tree=None, objective='multi:softmax', predictor=None,\n",
      "              random_state=None, reg_alpha=None, ...), mean_mfcc__kw_args={'sr': 16000, 'n_mfcc': 20, 'n_fft': 768, 'hop_length': 128, 'fmin': 0.0, 'fmax': 3000.0}; total time=  59.3s\n",
      "[CV] END estimator=XGBClassifier(base_score=None, booster=None, callbacks=None,\n",
      "              colsample_bylevel=None, colsample_bynode=None,\n",
      "              colsample_bytree=None, early_stopping_rounds=None,\n",
      "              enable_categorical=False, eval_metric=None, gamma=None,\n",
      "              gpu_id=None, grow_policy=None, importance_type=None,\n",
      "              interaction_constraints=None, learning_rate=0.05, max_bin=None,\n",
      "              max_cat_to_onehot=None, max_delta_step=None, max_depth=8,\n",
      "              max_leaves=None, min_child_weight=None, missing=nan,\n",
      "              monotone_constraints=None, n_estimators=400, n_jobs=None,\n",
      "              num_parallel_tree=None, objective='multi:softmax', predictor=None,\n",
      "              random_state=None, reg_alpha=None, ...), mean_mfcc__kw_args={'sr': 16000, 'n_mfcc': 20, 'n_fft': 768, 'hop_length': 128, 'fmin': 0.0, 'fmax': 3000.0}; total time=  59.3s\n",
      "[CV] END estimator=XGBClassifier(base_score=None, booster=None, callbacks=None,\n",
      "              colsample_bylevel=None, colsample_bynode=None,\n",
      "              colsample_bytree=None, early_stopping_rounds=None,\n",
      "              enable_categorical=False, eval_metric=None, gamma=None,\n",
      "              gpu_id=None, grow_policy=None, importance_type=None,\n",
      "              interaction_constraints=None, learning_rate=0.05, max_bin=None,\n",
      "              max_cat_to_onehot=None, max_delta_step=None, max_depth=8,\n",
      "              max_leaves=None, min_child_weight=None, missing=nan,\n",
      "              monotone_constraints=None, n_estimators=400, n_jobs=None,\n",
      "              num_parallel_tree=None, objective='multi:softmax', predictor=None,\n",
      "              random_state=None, reg_alpha=None, ...), mean_mfcc__kw_args={'sr': 16000, 'n_mfcc': 20, 'n_fft': 768, 'hop_length': 128, 'fmin': 0.0, 'fmax': 4000.0}; total time=  58.3s\n"
     ]
    },
    {
     "name": "stdout",
     "output_type": "stream",
     "text": [
      "[CV] END estimator=XGBClassifier(base_score=None, booster=None, callbacks=None,\n",
      "              colsample_bylevel=None, colsample_bynode=None,\n",
      "              colsample_bytree=None, early_stopping_rounds=None,\n",
      "              enable_categorical=False, eval_metric=None, gamma=None,\n",
      "              gpu_id=None, grow_policy=None, importance_type=None,\n",
      "              interaction_constraints=None, learning_rate=0.05, max_bin=None,\n",
      "              max_cat_to_onehot=None, max_delta_step=None, max_depth=8,\n",
      "              max_leaves=None, min_child_weight=None, missing=nan,\n",
      "              monotone_constraints=None, n_estimators=400, n_jobs=None,\n",
      "              num_parallel_tree=None, objective='multi:softmax', predictor=None,\n",
      "              random_state=None, reg_alpha=None, ...), mean_mfcc__kw_args={'sr': 16000, 'n_mfcc': 20, 'n_fft': 768, 'hop_length': 128, 'fmin': 0.0, 'fmax': 4000.0}; total time=  57.8s\n",
      "[CV] END estimator=XGBClassifier(base_score=None, booster=None, callbacks=None,\n",
      "              colsample_bylevel=None, colsample_bynode=None,\n",
      "              colsample_bytree=None, early_stopping_rounds=None,\n",
      "              enable_categorical=False, eval_metric=None, gamma=None,\n",
      "              gpu_id=None, grow_policy=None, importance_type=None,\n",
      "              interaction_constraints=None, learning_rate=0.05, max_bin=None,\n",
      "              max_cat_to_onehot=None, max_delta_step=None, max_depth=8,\n",
      "              max_leaves=None, min_child_weight=None, missing=nan,\n",
      "              monotone_constraints=None, n_estimators=400, n_jobs=None,\n",
      "              num_parallel_tree=None, objective='multi:softmax', predictor=None,\n",
      "              random_state=None, reg_alpha=None, ...), mean_mfcc__kw_args={'sr': 16000, 'n_mfcc': 20, 'n_fft': 768, 'hop_length': 128, 'fmin': 0.0, 'fmax': 5000.0}; total time= 1.0min\n",
      "[CV] END estimator=XGBClassifier(base_score=None, booster=None, callbacks=None,\n",
      "              colsample_bylevel=None, colsample_bynode=None,\n",
      "              colsample_bytree=None, early_stopping_rounds=None,\n",
      "              enable_categorical=False, eval_metric=None, gamma=None,\n",
      "              gpu_id=None, grow_policy=None, importance_type=None,\n",
      "              interaction_constraints=None, learning_rate=0.05, max_bin=None,\n",
      "              max_cat_to_onehot=None, max_delta_step=None, max_depth=8,\n",
      "              max_leaves=None, min_child_weight=None, missing=nan,\n",
      "              monotone_constraints=None, n_estimators=400, n_jobs=None,\n",
      "              num_parallel_tree=None, objective='multi:softmax', predictor=None,\n",
      "              random_state=None, reg_alpha=None, ...), mean_mfcc__kw_args={'sr': 16000, 'n_mfcc': 20, 'n_fft': 768, 'hop_length': 128, 'fmin': 0.0, 'fmax': 5000.0}; total time=  57.1s\n",
      "[CV] END estimator=XGBClassifier(base_score=None, booster=None, callbacks=None,\n",
      "              colsample_bylevel=None, colsample_bynode=None,\n",
      "              colsample_bytree=None, early_stopping_rounds=None,\n",
      "              enable_categorical=False, eval_metric=None, gamma=None,\n",
      "              gpu_id=None, grow_policy=None, importance_type=None,\n",
      "              interaction_constraints=None, learning_rate=0.05, max_bin=None,\n",
      "              max_cat_to_onehot=None, max_delta_step=None, max_depth=8,\n",
      "              max_leaves=None, min_child_weight=None, missing=nan,\n",
      "              monotone_constraints=None, n_estimators=400, n_jobs=None,\n",
      "              num_parallel_tree=None, objective='multi:softmax', predictor=None,\n",
      "              random_state=None, reg_alpha=None, ...), mean_mfcc__kw_args={'sr': 16000, 'n_mfcc': 20, 'n_fft': 768, 'hop_length': 128, 'fmin': 300.0, 'fmax': None}; total time=  58.5s\n",
      "[CV] END estimator=XGBClassifier(base_score=None, booster=None, callbacks=None,\n",
      "              colsample_bylevel=None, colsample_bynode=None,\n",
      "              colsample_bytree=None, early_stopping_rounds=None,\n",
      "              enable_categorical=False, eval_metric=None, gamma=None,\n",
      "              gpu_id=None, grow_policy=None, importance_type=None,\n",
      "              interaction_constraints=None, learning_rate=0.05, max_bin=None,\n",
      "              max_cat_to_onehot=None, max_delta_step=None, max_depth=8,\n",
      "              max_leaves=None, min_child_weight=None, missing=nan,\n",
      "              monotone_constraints=None, n_estimators=400, n_jobs=None,\n",
      "              num_parallel_tree=None, objective='multi:softmax', predictor=None,\n",
      "              random_state=None, reg_alpha=None, ...), mean_mfcc__kw_args={'sr': 16000, 'n_mfcc': 20, 'n_fft': 768, 'hop_length': 128, 'fmin': 300.0, 'fmax': None}; total time=  60.0s\n",
      "[CV] END estimator=XGBClassifier(base_score=None, booster=None, callbacks=None,\n",
      "              colsample_bylevel=None, colsample_bynode=None,\n",
      "              colsample_bytree=None, early_stopping_rounds=None,\n",
      "              enable_categorical=False, eval_metric=None, gamma=None,\n",
      "              gpu_id=None, grow_policy=None, importance_type=None,\n",
      "              interaction_constraints=None, learning_rate=0.05, max_bin=None,\n",
      "              max_cat_to_onehot=None, max_delta_step=None, max_depth=8,\n",
      "              max_leaves=None, min_child_weight=None, missing=nan,\n",
      "              monotone_constraints=None, n_estimators=400, n_jobs=None,\n",
      "              num_parallel_tree=None, objective='multi:softmax', predictor=None,\n",
      "              random_state=None, reg_alpha=None, ...), mean_mfcc__kw_args={'sr': 16000, 'n_mfcc': 20, 'n_fft': 768, 'hop_length': 128, 'fmin': 300.0, 'fmax': 3000.0}; total time=  59.3s\n",
      "[CV] END estimator=XGBClassifier(base_score=None, booster=None, callbacks=None,\n",
      "              colsample_bylevel=None, colsample_bynode=None,\n",
      "              colsample_bytree=None, early_stopping_rounds=None,\n",
      "              enable_categorical=False, eval_metric=None, gamma=None,\n",
      "              gpu_id=None, grow_policy=None, importance_type=None,\n",
      "              interaction_constraints=None, learning_rate=0.05, max_bin=None,\n",
      "              max_cat_to_onehot=None, max_delta_step=None, max_depth=8,\n",
      "              max_leaves=None, min_child_weight=None, missing=nan,\n",
      "              monotone_constraints=None, n_estimators=400, n_jobs=None,\n",
      "              num_parallel_tree=None, objective='multi:softmax', predictor=None,\n",
      "              random_state=None, reg_alpha=None, ...), mean_mfcc__kw_args={'sr': 16000, 'n_mfcc': 20, 'n_fft': 768, 'hop_length': 128, 'fmin': 300.0, 'fmax': 3000.0}; total time=  57.3s\n",
      "[CV] END estimator=XGBClassifier(base_score=None, booster=None, callbacks=None,\n",
      "              colsample_bylevel=None, colsample_bynode=None,\n",
      "              colsample_bytree=None, early_stopping_rounds=None,\n",
      "              enable_categorical=False, eval_metric=None, gamma=None,\n",
      "              gpu_id=None, grow_policy=None, importance_type=None,\n",
      "              interaction_constraints=None, learning_rate=0.05, max_bin=None,\n",
      "              max_cat_to_onehot=None, max_delta_step=None, max_depth=8,\n",
      "              max_leaves=None, min_child_weight=None, missing=nan,\n",
      "              monotone_constraints=None, n_estimators=400, n_jobs=None,\n",
      "              num_parallel_tree=None, objective='multi:softmax', predictor=None,\n",
      "              random_state=None, reg_alpha=None, ...), mean_mfcc__kw_args={'sr': 16000, 'n_mfcc': 20, 'n_fft': 768, 'hop_length': 128, 'fmin': 300.0, 'fmax': 4000.0}; total time= 1.0min\n",
      "[CV] END estimator=XGBClassifier(base_score=None, booster=None, callbacks=None,\n",
      "              colsample_bylevel=None, colsample_bynode=None,\n",
      "              colsample_bytree=None, early_stopping_rounds=None,\n",
      "              enable_categorical=False, eval_metric=None, gamma=None,\n",
      "              gpu_id=None, grow_policy=None, importance_type=None,\n",
      "              interaction_constraints=None, learning_rate=0.05, max_bin=None,\n",
      "              max_cat_to_onehot=None, max_delta_step=None, max_depth=8,\n",
      "              max_leaves=None, min_child_weight=None, missing=nan,\n",
      "              monotone_constraints=None, n_estimators=400, n_jobs=None,\n",
      "              num_parallel_tree=None, objective='multi:softmax', predictor=None,\n",
      "              random_state=None, reg_alpha=None, ...), mean_mfcc__kw_args={'sr': 16000, 'n_mfcc': 20, 'n_fft': 768, 'hop_length': 128, 'fmin': 300.0, 'fmax': 4000.0}; total time=  58.5s\n",
      "[CV] END estimator=XGBClassifier(base_score=None, booster=None, callbacks=None,\n",
      "              colsample_bylevel=None, colsample_bynode=None,\n",
      "              colsample_bytree=None, early_stopping_rounds=None,\n",
      "              enable_categorical=False, eval_metric=None, gamma=None,\n",
      "              gpu_id=None, grow_policy=None, importance_type=None,\n",
      "              interaction_constraints=None, learning_rate=0.05, max_bin=None,\n",
      "              max_cat_to_onehot=None, max_delta_step=None, max_depth=8,\n",
      "              max_leaves=None, min_child_weight=None, missing=nan,\n",
      "              monotone_constraints=None, n_estimators=400, n_jobs=None,\n",
      "              num_parallel_tree=None, objective='multi:softmax', predictor=None,\n",
      "              random_state=None, reg_alpha=None, ...), mean_mfcc__kw_args={'sr': 16000, 'n_mfcc': 20, 'n_fft': 768, 'hop_length': 128, 'fmin': 300.0, 'fmax': 5000.0}; total time=  59.9s\n"
     ]
    },
    {
     "name": "stdout",
     "output_type": "stream",
     "text": [
      "[CV] END estimator=XGBClassifier(base_score=None, booster=None, callbacks=None,\n",
      "              colsample_bylevel=None, colsample_bynode=None,\n",
      "              colsample_bytree=None, early_stopping_rounds=None,\n",
      "              enable_categorical=False, eval_metric=None, gamma=None,\n",
      "              gpu_id=None, grow_policy=None, importance_type=None,\n",
      "              interaction_constraints=None, learning_rate=0.05, max_bin=None,\n",
      "              max_cat_to_onehot=None, max_delta_step=None, max_depth=8,\n",
      "              max_leaves=None, min_child_weight=None, missing=nan,\n",
      "              monotone_constraints=None, n_estimators=400, n_jobs=None,\n",
      "              num_parallel_tree=None, objective='multi:softmax', predictor=None,\n",
      "              random_state=None, reg_alpha=None, ...), mean_mfcc__kw_args={'sr': 16000, 'n_mfcc': 20, 'n_fft': 768, 'hop_length': 128, 'fmin': 300.0, 'fmax': 5000.0}; total time=  56.5s\n",
      "[CV] END estimator=XGBClassifier(base_score=None, booster=None, callbacks=None,\n",
      "              colsample_bylevel=None, colsample_bynode=None,\n",
      "              colsample_bytree=None, early_stopping_rounds=None,\n",
      "              enable_categorical=False, eval_metric=None, gamma=None,\n",
      "              gpu_id=None, grow_policy=None, importance_type=None,\n",
      "              interaction_constraints=None, learning_rate=0.05, max_bin=None,\n",
      "              max_cat_to_onehot=None, max_delta_step=None, max_depth=8,\n",
      "              max_leaves=None, min_child_weight=None, missing=nan,\n",
      "              monotone_constraints=None, n_estimators=400, n_jobs=None,\n",
      "              num_parallel_tree=None, objective='multi:softmax', predictor=None,\n",
      "              random_state=None, reg_alpha=None, ...), mean_mfcc__kw_args={'sr': 16000, 'n_mfcc': 20, 'n_fft': 768, 'hop_length': 128, 'fmin': 500.0, 'fmax': None}; total time=  59.4s\n",
      "[CV] END estimator=XGBClassifier(base_score=None, booster=None, callbacks=None,\n",
      "              colsample_bylevel=None, colsample_bynode=None,\n",
      "              colsample_bytree=None, early_stopping_rounds=None,\n",
      "              enable_categorical=False, eval_metric=None, gamma=None,\n",
      "              gpu_id=None, grow_policy=None, importance_type=None,\n",
      "              interaction_constraints=None, learning_rate=0.05, max_bin=None,\n",
      "              max_cat_to_onehot=None, max_delta_step=None, max_depth=8,\n",
      "              max_leaves=None, min_child_weight=None, missing=nan,\n",
      "              monotone_constraints=None, n_estimators=400, n_jobs=None,\n",
      "              num_parallel_tree=None, objective='multi:softmax', predictor=None,\n",
      "              random_state=None, reg_alpha=None, ...), mean_mfcc__kw_args={'sr': 16000, 'n_mfcc': 20, 'n_fft': 768, 'hop_length': 128, 'fmin': 500.0, 'fmax': None}; total time=  57.6s\n",
      "[CV] END estimator=XGBClassifier(base_score=None, booster=None, callbacks=None,\n",
      "              colsample_bylevel=None, colsample_bynode=None,\n",
      "              colsample_bytree=None, early_stopping_rounds=None,\n",
      "              enable_categorical=False, eval_metric=None, gamma=None,\n",
      "              gpu_id=None, grow_policy=None, importance_type=None,\n",
      "              interaction_constraints=None, learning_rate=0.05, max_bin=None,\n",
      "              max_cat_to_onehot=None, max_delta_step=None, max_depth=8,\n",
      "              max_leaves=None, min_child_weight=None, missing=nan,\n",
      "              monotone_constraints=None, n_estimators=400, n_jobs=None,\n",
      "              num_parallel_tree=None, objective='multi:softmax', predictor=None,\n",
      "              random_state=None, reg_alpha=None, ...), mean_mfcc__kw_args={'sr': 16000, 'n_mfcc': 20, 'n_fft': 768, 'hop_length': 128, 'fmin': 500.0, 'fmax': 3000.0}; total time=  59.8s\n",
      "[CV] END estimator=XGBClassifier(base_score=None, booster=None, callbacks=None,\n",
      "              colsample_bylevel=None, colsample_bynode=None,\n",
      "              colsample_bytree=None, early_stopping_rounds=None,\n",
      "              enable_categorical=False, eval_metric=None, gamma=None,\n",
      "              gpu_id=None, grow_policy=None, importance_type=None,\n",
      "              interaction_constraints=None, learning_rate=0.05, max_bin=None,\n",
      "              max_cat_to_onehot=None, max_delta_step=None, max_depth=8,\n",
      "              max_leaves=None, min_child_weight=None, missing=nan,\n",
      "              monotone_constraints=None, n_estimators=400, n_jobs=None,\n",
      "              num_parallel_tree=None, objective='multi:softmax', predictor=None,\n",
      "              random_state=None, reg_alpha=None, ...), mean_mfcc__kw_args={'sr': 16000, 'n_mfcc': 20, 'n_fft': 768, 'hop_length': 128, 'fmin': 500.0, 'fmax': 3000.0}; total time=  58.1s\n",
      "[CV] END estimator=XGBClassifier(base_score=None, booster=None, callbacks=None,\n",
      "              colsample_bylevel=None, colsample_bynode=None,\n",
      "              colsample_bytree=None, early_stopping_rounds=None,\n",
      "              enable_categorical=False, eval_metric=None, gamma=None,\n",
      "              gpu_id=None, grow_policy=None, importance_type=None,\n",
      "              interaction_constraints=None, learning_rate=0.05, max_bin=None,\n",
      "              max_cat_to_onehot=None, max_delta_step=None, max_depth=8,\n",
      "              max_leaves=None, min_child_weight=None, missing=nan,\n",
      "              monotone_constraints=None, n_estimators=400, n_jobs=None,\n",
      "              num_parallel_tree=None, objective='multi:softmax', predictor=None,\n",
      "              random_state=None, reg_alpha=None, ...), mean_mfcc__kw_args={'sr': 16000, 'n_mfcc': 20, 'n_fft': 768, 'hop_length': 128, 'fmin': 500.0, 'fmax': 4000.0}; total time=  59.5s\n",
      "[CV] END estimator=XGBClassifier(base_score=None, booster=None, callbacks=None,\n",
      "              colsample_bylevel=None, colsample_bynode=None,\n",
      "              colsample_bytree=None, early_stopping_rounds=None,\n",
      "              enable_categorical=False, eval_metric=None, gamma=None,\n",
      "              gpu_id=None, grow_policy=None, importance_type=None,\n",
      "              interaction_constraints=None, learning_rate=0.05, max_bin=None,\n",
      "              max_cat_to_onehot=None, max_delta_step=None, max_depth=8,\n",
      "              max_leaves=None, min_child_weight=None, missing=nan,\n",
      "              monotone_constraints=None, n_estimators=400, n_jobs=None,\n",
      "              num_parallel_tree=None, objective='multi:softmax', predictor=None,\n",
      "              random_state=None, reg_alpha=None, ...), mean_mfcc__kw_args={'sr': 16000, 'n_mfcc': 20, 'n_fft': 768, 'hop_length': 128, 'fmin': 500.0, 'fmax': 4000.0}; total time=  57.6s\n",
      "[CV] END estimator=XGBClassifier(base_score=None, booster=None, callbacks=None,\n",
      "              colsample_bylevel=None, colsample_bynode=None,\n",
      "              colsample_bytree=None, early_stopping_rounds=None,\n",
      "              enable_categorical=False, eval_metric=None, gamma=None,\n",
      "              gpu_id=None, grow_policy=None, importance_type=None,\n",
      "              interaction_constraints=None, learning_rate=0.05, max_bin=None,\n",
      "              max_cat_to_onehot=None, max_delta_step=None, max_depth=8,\n",
      "              max_leaves=None, min_child_weight=None, missing=nan,\n",
      "              monotone_constraints=None, n_estimators=400, n_jobs=None,\n",
      "              num_parallel_tree=None, objective='multi:softmax', predictor=None,\n",
      "              random_state=None, reg_alpha=None, ...), mean_mfcc__kw_args={'sr': 16000, 'n_mfcc': 20, 'n_fft': 768, 'hop_length': 128, 'fmin': 500.0, 'fmax': 5000.0}; total time=  58.1s\n",
      "[CV] END estimator=XGBClassifier(base_score=None, booster=None, callbacks=None,\n",
      "              colsample_bylevel=None, colsample_bynode=None,\n",
      "              colsample_bytree=None, early_stopping_rounds=None,\n",
      "              enable_categorical=False, eval_metric=None, gamma=None,\n",
      "              gpu_id=None, grow_policy=None, importance_type=None,\n",
      "              interaction_constraints=None, learning_rate=0.05, max_bin=None,\n",
      "              max_cat_to_onehot=None, max_delta_step=None, max_depth=8,\n",
      "              max_leaves=None, min_child_weight=None, missing=nan,\n",
      "              monotone_constraints=None, n_estimators=400, n_jobs=None,\n",
      "              num_parallel_tree=None, objective='multi:softmax', predictor=None,\n",
      "              random_state=None, reg_alpha=None, ...), mean_mfcc__kw_args={'sr': 16000, 'n_mfcc': 20, 'n_fft': 768, 'hop_length': 128, 'fmin': 500.0, 'fmax': 5000.0}; total time=  56.1s\n"
     ]
    },
    {
     "name": "stderr",
     "output_type": "stream",
     "text": [
      "/Users/axel/.pyenv/versions/3.8.12/envs/us8kdata/lib/python3.8/site-packages/librosa/util/decorators.py:88: UserWarning: n_fft=1024 is too small for input signal of length=800\n",
      "  return f(*args, **kwargs)\n",
      "/Users/axel/.pyenv/versions/3.8.12/envs/us8kdata/lib/python3.8/site-packages/librosa/util/decorators.py:88: UserWarning: n_fft=1024 is too small for input signal of length=960\n",
      "  return f(*args, **kwargs)\n",
      "/Users/axel/.pyenv/versions/3.8.12/envs/us8kdata/lib/python3.8/site-packages/librosa/util/decorators.py:88: UserWarning: n_fft=1024 is too small for input signal of length=960\n",
      "  return f(*args, **kwargs)\n"
     ]
    },
    {
     "name": "stdout",
     "output_type": "stream",
     "text": [
      "[CV] END estimator=XGBClassifier(base_score=None, booster=None, callbacks=None,\n",
      "              colsample_bylevel=None, colsample_bynode=None,\n",
      "              colsample_bytree=None, early_stopping_rounds=None,\n",
      "              enable_categorical=False, eval_metric=None, gamma=None,\n",
      "              gpu_id=None, grow_policy=None, importance_type=None,\n",
      "              interaction_constraints=None, learning_rate=0.05, max_bin=None,\n",
      "              max_cat_to_onehot=None, max_delta_step=None, max_depth=8,\n",
      "              max_leaves=None, min_child_weight=None, missing=nan,\n",
      "              monotone_constraints=None, n_estimators=400, n_jobs=None,\n",
      "              num_parallel_tree=None, objective='multi:softmax', predictor=None,\n",
      "              random_state=None, reg_alpha=None, ...), mean_mfcc__kw_args={'sr': 16000, 'n_mfcc': 20, 'n_fft': 1024, 'hop_length': 128, 'fmin': 0.0, 'fmax': None}; total time= 1.1min\n"
     ]
    },
    {
     "name": "stderr",
     "output_type": "stream",
     "text": [
      "/Users/axel/.pyenv/versions/3.8.12/envs/us8kdata/lib/python3.8/site-packages/librosa/util/decorators.py:88: UserWarning: n_fft=1024 is too small for input signal of length=960\n",
      "  return f(*args, **kwargs)\n",
      "/Users/axel/.pyenv/versions/3.8.12/envs/us8kdata/lib/python3.8/site-packages/librosa/util/decorators.py:88: UserWarning: n_fft=1024 is too small for input signal of length=800\n",
      "  return f(*args, **kwargs)\n",
      "/Users/axel/.pyenv/versions/3.8.12/envs/us8kdata/lib/python3.8/site-packages/librosa/util/decorators.py:88: UserWarning: n_fft=1024 is too small for input signal of length=960\n",
      "  return f(*args, **kwargs)\n"
     ]
    },
    {
     "name": "stdout",
     "output_type": "stream",
     "text": [
      "[CV] END estimator=XGBClassifier(base_score=None, booster=None, callbacks=None,\n",
      "              colsample_bylevel=None, colsample_bynode=None,\n",
      "              colsample_bytree=None, early_stopping_rounds=None,\n",
      "              enable_categorical=False, eval_metric=None, gamma=None,\n",
      "              gpu_id=None, grow_policy=None, importance_type=None,\n",
      "              interaction_constraints=None, learning_rate=0.05, max_bin=None,\n",
      "              max_cat_to_onehot=None, max_delta_step=None, max_depth=8,\n",
      "              max_leaves=None, min_child_weight=None, missing=nan,\n",
      "              monotone_constraints=None, n_estimators=400, n_jobs=None,\n",
      "              num_parallel_tree=None, objective='multi:softmax', predictor=None,\n",
      "              random_state=None, reg_alpha=None, ...), mean_mfcc__kw_args={'sr': 16000, 'n_mfcc': 20, 'n_fft': 1024, 'hop_length': 128, 'fmin': 0.0, 'fmax': None}; total time= 1.1min\n"
     ]
    },
    {
     "name": "stderr",
     "output_type": "stream",
     "text": [
      "/Users/axel/.pyenv/versions/3.8.12/envs/us8kdata/lib/python3.8/site-packages/librosa/util/decorators.py:88: UserWarning: n_fft=1024 is too small for input signal of length=800\n",
      "  return f(*args, **kwargs)\n",
      "/Users/axel/.pyenv/versions/3.8.12/envs/us8kdata/lib/python3.8/site-packages/librosa/util/decorators.py:88: UserWarning: n_fft=1024 is too small for input signal of length=960\n",
      "  return f(*args, **kwargs)\n",
      "/Users/axel/.pyenv/versions/3.8.12/envs/us8kdata/lib/python3.8/site-packages/librosa/util/decorators.py:88: UserWarning: n_fft=1024 is too small for input signal of length=960\n",
      "  return f(*args, **kwargs)\n"
     ]
    },
    {
     "name": "stdout",
     "output_type": "stream",
     "text": [
      "[CV] END estimator=XGBClassifier(base_score=None, booster=None, callbacks=None,\n",
      "              colsample_bylevel=None, colsample_bynode=None,\n",
      "              colsample_bytree=None, early_stopping_rounds=None,\n",
      "              enable_categorical=False, eval_metric=None, gamma=None,\n",
      "              gpu_id=None, grow_policy=None, importance_type=None,\n",
      "              interaction_constraints=None, learning_rate=0.05, max_bin=None,\n",
      "              max_cat_to_onehot=None, max_delta_step=None, max_depth=8,\n",
      "              max_leaves=None, min_child_weight=None, missing=nan,\n",
      "              monotone_constraints=None, n_estimators=400, n_jobs=None,\n",
      "              num_parallel_tree=None, objective='multi:softmax', predictor=None,\n",
      "              random_state=None, reg_alpha=None, ...), mean_mfcc__kw_args={'sr': 16000, 'n_mfcc': 20, 'n_fft': 1024, 'hop_length': 128, 'fmin': 0.0, 'fmax': 3000.0}; total time= 1.1min\n"
     ]
    },
    {
     "name": "stderr",
     "output_type": "stream",
     "text": [
      "/Users/axel/.pyenv/versions/3.8.12/envs/us8kdata/lib/python3.8/site-packages/librosa/util/decorators.py:88: UserWarning: n_fft=1024 is too small for input signal of length=960\n",
      "  return f(*args, **kwargs)\n",
      "/Users/axel/.pyenv/versions/3.8.12/envs/us8kdata/lib/python3.8/site-packages/librosa/util/decorators.py:88: UserWarning: n_fft=1024 is too small for input signal of length=800\n",
      "  return f(*args, **kwargs)\n",
      "/Users/axel/.pyenv/versions/3.8.12/envs/us8kdata/lib/python3.8/site-packages/librosa/util/decorators.py:88: UserWarning: n_fft=1024 is too small for input signal of length=960\n",
      "  return f(*args, **kwargs)\n"
     ]
    },
    {
     "name": "stdout",
     "output_type": "stream",
     "text": [
      "[CV] END estimator=XGBClassifier(base_score=None, booster=None, callbacks=None,\n",
      "              colsample_bylevel=None, colsample_bynode=None,\n",
      "              colsample_bytree=None, early_stopping_rounds=None,\n",
      "              enable_categorical=False, eval_metric=None, gamma=None,\n",
      "              gpu_id=None, grow_policy=None, importance_type=None,\n",
      "              interaction_constraints=None, learning_rate=0.05, max_bin=None,\n",
      "              max_cat_to_onehot=None, max_delta_step=None, max_depth=8,\n",
      "              max_leaves=None, min_child_weight=None, missing=nan,\n",
      "              monotone_constraints=None, n_estimators=400, n_jobs=None,\n",
      "              num_parallel_tree=None, objective='multi:softmax', predictor=None,\n",
      "              random_state=None, reg_alpha=None, ...), mean_mfcc__kw_args={'sr': 16000, 'n_mfcc': 20, 'n_fft': 1024, 'hop_length': 128, 'fmin': 0.0, 'fmax': 3000.0}; total time= 1.1min\n"
     ]
    },
    {
     "name": "stderr",
     "output_type": "stream",
     "text": [
      "/Users/axel/.pyenv/versions/3.8.12/envs/us8kdata/lib/python3.8/site-packages/librosa/util/decorators.py:88: UserWarning: n_fft=1024 is too small for input signal of length=800\n",
      "  return f(*args, **kwargs)\n",
      "/Users/axel/.pyenv/versions/3.8.12/envs/us8kdata/lib/python3.8/site-packages/librosa/util/decorators.py:88: UserWarning: n_fft=1024 is too small for input signal of length=960\n",
      "  return f(*args, **kwargs)\n",
      "/Users/axel/.pyenv/versions/3.8.12/envs/us8kdata/lib/python3.8/site-packages/librosa/util/decorators.py:88: UserWarning: n_fft=1024 is too small for input signal of length=960\n",
      "  return f(*args, **kwargs)\n"
     ]
    },
    {
     "name": "stdout",
     "output_type": "stream",
     "text": [
      "[CV] END estimator=XGBClassifier(base_score=None, booster=None, callbacks=None,\n",
      "              colsample_bylevel=None, colsample_bynode=None,\n",
      "              colsample_bytree=None, early_stopping_rounds=None,\n",
      "              enable_categorical=False, eval_metric=None, gamma=None,\n",
      "              gpu_id=None, grow_policy=None, importance_type=None,\n",
      "              interaction_constraints=None, learning_rate=0.05, max_bin=None,\n",
      "              max_cat_to_onehot=None, max_delta_step=None, max_depth=8,\n",
      "              max_leaves=None, min_child_weight=None, missing=nan,\n",
      "              monotone_constraints=None, n_estimators=400, n_jobs=None,\n",
      "              num_parallel_tree=None, objective='multi:softmax', predictor=None,\n",
      "              random_state=None, reg_alpha=None, ...), mean_mfcc__kw_args={'sr': 16000, 'n_mfcc': 20, 'n_fft': 1024, 'hop_length': 128, 'fmin': 0.0, 'fmax': 4000.0}; total time= 1.1min\n"
     ]
    },
    {
     "name": "stderr",
     "output_type": "stream",
     "text": [
      "/Users/axel/.pyenv/versions/3.8.12/envs/us8kdata/lib/python3.8/site-packages/librosa/util/decorators.py:88: UserWarning: n_fft=1024 is too small for input signal of length=960\n",
      "  return f(*args, **kwargs)\n",
      "/Users/axel/.pyenv/versions/3.8.12/envs/us8kdata/lib/python3.8/site-packages/librosa/util/decorators.py:88: UserWarning: n_fft=1024 is too small for input signal of length=800\n",
      "  return f(*args, **kwargs)\n",
      "/Users/axel/.pyenv/versions/3.8.12/envs/us8kdata/lib/python3.8/site-packages/librosa/util/decorators.py:88: UserWarning: n_fft=1024 is too small for input signal of length=960\n",
      "  return f(*args, **kwargs)\n"
     ]
    },
    {
     "name": "stdout",
     "output_type": "stream",
     "text": [
      "[CV] END estimator=XGBClassifier(base_score=None, booster=None, callbacks=None,\n",
      "              colsample_bylevel=None, colsample_bynode=None,\n",
      "              colsample_bytree=None, early_stopping_rounds=None,\n",
      "              enable_categorical=False, eval_metric=None, gamma=None,\n",
      "              gpu_id=None, grow_policy=None, importance_type=None,\n",
      "              interaction_constraints=None, learning_rate=0.05, max_bin=None,\n",
      "              max_cat_to_onehot=None, max_delta_step=None, max_depth=8,\n",
      "              max_leaves=None, min_child_weight=None, missing=nan,\n",
      "              monotone_constraints=None, n_estimators=400, n_jobs=None,\n",
      "              num_parallel_tree=None, objective='multi:softmax', predictor=None,\n",
      "              random_state=None, reg_alpha=None, ...), mean_mfcc__kw_args={'sr': 16000, 'n_mfcc': 20, 'n_fft': 1024, 'hop_length': 128, 'fmin': 0.0, 'fmax': 4000.0}; total time= 1.1min\n"
     ]
    },
    {
     "name": "stderr",
     "output_type": "stream",
     "text": [
      "/Users/axel/.pyenv/versions/3.8.12/envs/us8kdata/lib/python3.8/site-packages/librosa/util/decorators.py:88: UserWarning: n_fft=1024 is too small for input signal of length=800\n",
      "  return f(*args, **kwargs)\n",
      "/Users/axel/.pyenv/versions/3.8.12/envs/us8kdata/lib/python3.8/site-packages/librosa/util/decorators.py:88: UserWarning: n_fft=1024 is too small for input signal of length=960\n",
      "  return f(*args, **kwargs)\n",
      "/Users/axel/.pyenv/versions/3.8.12/envs/us8kdata/lib/python3.8/site-packages/librosa/util/decorators.py:88: UserWarning: n_fft=1024 is too small for input signal of length=960\n",
      "  return f(*args, **kwargs)\n"
     ]
    },
    {
     "name": "stdout",
     "output_type": "stream",
     "text": [
      "[CV] END estimator=XGBClassifier(base_score=None, booster=None, callbacks=None,\n",
      "              colsample_bylevel=None, colsample_bynode=None,\n",
      "              colsample_bytree=None, early_stopping_rounds=None,\n",
      "              enable_categorical=False, eval_metric=None, gamma=None,\n",
      "              gpu_id=None, grow_policy=None, importance_type=None,\n",
      "              interaction_constraints=None, learning_rate=0.05, max_bin=None,\n",
      "              max_cat_to_onehot=None, max_delta_step=None, max_depth=8,\n",
      "              max_leaves=None, min_child_weight=None, missing=nan,\n",
      "              monotone_constraints=None, n_estimators=400, n_jobs=None,\n",
      "              num_parallel_tree=None, objective='multi:softmax', predictor=None,\n",
      "              random_state=None, reg_alpha=None, ...), mean_mfcc__kw_args={'sr': 16000, 'n_mfcc': 20, 'n_fft': 1024, 'hop_length': 128, 'fmin': 0.0, 'fmax': 5000.0}; total time= 1.1min\n"
     ]
    },
    {
     "name": "stderr",
     "output_type": "stream",
     "text": [
      "/Users/axel/.pyenv/versions/3.8.12/envs/us8kdata/lib/python3.8/site-packages/librosa/util/decorators.py:88: UserWarning: n_fft=1024 is too small for input signal of length=960\n",
      "  return f(*args, **kwargs)\n",
      "/Users/axel/.pyenv/versions/3.8.12/envs/us8kdata/lib/python3.8/site-packages/librosa/util/decorators.py:88: UserWarning: n_fft=1024 is too small for input signal of length=800\n",
      "  return f(*args, **kwargs)\n",
      "/Users/axel/.pyenv/versions/3.8.12/envs/us8kdata/lib/python3.8/site-packages/librosa/util/decorators.py:88: UserWarning: n_fft=1024 is too small for input signal of length=960\n",
      "  return f(*args, **kwargs)\n"
     ]
    },
    {
     "name": "stdout",
     "output_type": "stream",
     "text": [
      "[CV] END estimator=XGBClassifier(base_score=None, booster=None, callbacks=None,\n",
      "              colsample_bylevel=None, colsample_bynode=None,\n",
      "              colsample_bytree=None, early_stopping_rounds=None,\n",
      "              enable_categorical=False, eval_metric=None, gamma=None,\n",
      "              gpu_id=None, grow_policy=None, importance_type=None,\n",
      "              interaction_constraints=None, learning_rate=0.05, max_bin=None,\n",
      "              max_cat_to_onehot=None, max_delta_step=None, max_depth=8,\n",
      "              max_leaves=None, min_child_weight=None, missing=nan,\n",
      "              monotone_constraints=None, n_estimators=400, n_jobs=None,\n",
      "              num_parallel_tree=None, objective='multi:softmax', predictor=None,\n",
      "              random_state=None, reg_alpha=None, ...), mean_mfcc__kw_args={'sr': 16000, 'n_mfcc': 20, 'n_fft': 1024, 'hop_length': 128, 'fmin': 0.0, 'fmax': 5000.0}; total time= 1.1min\n"
     ]
    },
    {
     "name": "stderr",
     "output_type": "stream",
     "text": [
      "/Users/axel/.pyenv/versions/3.8.12/envs/us8kdata/lib/python3.8/site-packages/librosa/util/decorators.py:88: UserWarning: n_fft=1024 is too small for input signal of length=800\n",
      "  return f(*args, **kwargs)\n",
      "/Users/axel/.pyenv/versions/3.8.12/envs/us8kdata/lib/python3.8/site-packages/librosa/util/decorators.py:88: UserWarning: n_fft=1024 is too small for input signal of length=960\n",
      "  return f(*args, **kwargs)\n",
      "/Users/axel/.pyenv/versions/3.8.12/envs/us8kdata/lib/python3.8/site-packages/librosa/util/decorators.py:88: UserWarning: n_fft=1024 is too small for input signal of length=960\n",
      "  return f(*args, **kwargs)\n"
     ]
    },
    {
     "name": "stdout",
     "output_type": "stream",
     "text": [
      "[CV] END estimator=XGBClassifier(base_score=None, booster=None, callbacks=None,\n",
      "              colsample_bylevel=None, colsample_bynode=None,\n",
      "              colsample_bytree=None, early_stopping_rounds=None,\n",
      "              enable_categorical=False, eval_metric=None, gamma=None,\n",
      "              gpu_id=None, grow_policy=None, importance_type=None,\n",
      "              interaction_constraints=None, learning_rate=0.05, max_bin=None,\n",
      "              max_cat_to_onehot=None, max_delta_step=None, max_depth=8,\n",
      "              max_leaves=None, min_child_weight=None, missing=nan,\n",
      "              monotone_constraints=None, n_estimators=400, n_jobs=None,\n",
      "              num_parallel_tree=None, objective='multi:softmax', predictor=None,\n",
      "              random_state=None, reg_alpha=None, ...), mean_mfcc__kw_args={'sr': 16000, 'n_mfcc': 20, 'n_fft': 1024, 'hop_length': 128, 'fmin': 300.0, 'fmax': None}; total time= 1.1min\n"
     ]
    },
    {
     "name": "stderr",
     "output_type": "stream",
     "text": [
      "/Users/axel/.pyenv/versions/3.8.12/envs/us8kdata/lib/python3.8/site-packages/librosa/util/decorators.py:88: UserWarning: n_fft=1024 is too small for input signal of length=960\n",
      "  return f(*args, **kwargs)\n",
      "/Users/axel/.pyenv/versions/3.8.12/envs/us8kdata/lib/python3.8/site-packages/librosa/util/decorators.py:88: UserWarning: n_fft=1024 is too small for input signal of length=800\n",
      "  return f(*args, **kwargs)\n",
      "/Users/axel/.pyenv/versions/3.8.12/envs/us8kdata/lib/python3.8/site-packages/librosa/util/decorators.py:88: UserWarning: n_fft=1024 is too small for input signal of length=960\n",
      "  return f(*args, **kwargs)\n"
     ]
    },
    {
     "name": "stdout",
     "output_type": "stream",
     "text": [
      "[CV] END estimator=XGBClassifier(base_score=None, booster=None, callbacks=None,\n",
      "              colsample_bylevel=None, colsample_bynode=None,\n",
      "              colsample_bytree=None, early_stopping_rounds=None,\n",
      "              enable_categorical=False, eval_metric=None, gamma=None,\n",
      "              gpu_id=None, grow_policy=None, importance_type=None,\n",
      "              interaction_constraints=None, learning_rate=0.05, max_bin=None,\n",
      "              max_cat_to_onehot=None, max_delta_step=None, max_depth=8,\n",
      "              max_leaves=None, min_child_weight=None, missing=nan,\n",
      "              monotone_constraints=None, n_estimators=400, n_jobs=None,\n",
      "              num_parallel_tree=None, objective='multi:softmax', predictor=None,\n",
      "              random_state=None, reg_alpha=None, ...), mean_mfcc__kw_args={'sr': 16000, 'n_mfcc': 20, 'n_fft': 1024, 'hop_length': 128, 'fmin': 300.0, 'fmax': None}; total time= 1.1min\n"
     ]
    },
    {
     "name": "stderr",
     "output_type": "stream",
     "text": [
      "/Users/axel/.pyenv/versions/3.8.12/envs/us8kdata/lib/python3.8/site-packages/librosa/util/decorators.py:88: UserWarning: n_fft=1024 is too small for input signal of length=800\n",
      "  return f(*args, **kwargs)\n",
      "/Users/axel/.pyenv/versions/3.8.12/envs/us8kdata/lib/python3.8/site-packages/librosa/util/decorators.py:88: UserWarning: n_fft=1024 is too small for input signal of length=960\n",
      "  return f(*args, **kwargs)\n",
      "/Users/axel/.pyenv/versions/3.8.12/envs/us8kdata/lib/python3.8/site-packages/librosa/util/decorators.py:88: UserWarning: n_fft=1024 is too small for input signal of length=960\n",
      "  return f(*args, **kwargs)\n"
     ]
    },
    {
     "name": "stdout",
     "output_type": "stream",
     "text": [
      "[CV] END estimator=XGBClassifier(base_score=None, booster=None, callbacks=None,\n",
      "              colsample_bylevel=None, colsample_bynode=None,\n",
      "              colsample_bytree=None, early_stopping_rounds=None,\n",
      "              enable_categorical=False, eval_metric=None, gamma=None,\n",
      "              gpu_id=None, grow_policy=None, importance_type=None,\n",
      "              interaction_constraints=None, learning_rate=0.05, max_bin=None,\n",
      "              max_cat_to_onehot=None, max_delta_step=None, max_depth=8,\n",
      "              max_leaves=None, min_child_weight=None, missing=nan,\n",
      "              monotone_constraints=None, n_estimators=400, n_jobs=None,\n",
      "              num_parallel_tree=None, objective='multi:softmax', predictor=None,\n",
      "              random_state=None, reg_alpha=None, ...), mean_mfcc__kw_args={'sr': 16000, 'n_mfcc': 20, 'n_fft': 1024, 'hop_length': 128, 'fmin': 300.0, 'fmax': 3000.0}; total time= 1.1min\n"
     ]
    },
    {
     "name": "stderr",
     "output_type": "stream",
     "text": [
      "/Users/axel/.pyenv/versions/3.8.12/envs/us8kdata/lib/python3.8/site-packages/librosa/util/decorators.py:88: UserWarning: n_fft=1024 is too small for input signal of length=960\n",
      "  return f(*args, **kwargs)\n",
      "/Users/axel/.pyenv/versions/3.8.12/envs/us8kdata/lib/python3.8/site-packages/librosa/util/decorators.py:88: UserWarning: n_fft=1024 is too small for input signal of length=800\n",
      "  return f(*args, **kwargs)\n",
      "/Users/axel/.pyenv/versions/3.8.12/envs/us8kdata/lib/python3.8/site-packages/librosa/util/decorators.py:88: UserWarning: n_fft=1024 is too small for input signal of length=960\n",
      "  return f(*args, **kwargs)\n"
     ]
    },
    {
     "name": "stdout",
     "output_type": "stream",
     "text": [
      "[CV] END estimator=XGBClassifier(base_score=None, booster=None, callbacks=None,\n",
      "              colsample_bylevel=None, colsample_bynode=None,\n",
      "              colsample_bytree=None, early_stopping_rounds=None,\n",
      "              enable_categorical=False, eval_metric=None, gamma=None,\n",
      "              gpu_id=None, grow_policy=None, importance_type=None,\n",
      "              interaction_constraints=None, learning_rate=0.05, max_bin=None,\n",
      "              max_cat_to_onehot=None, max_delta_step=None, max_depth=8,\n",
      "              max_leaves=None, min_child_weight=None, missing=nan,\n",
      "              monotone_constraints=None, n_estimators=400, n_jobs=None,\n",
      "              num_parallel_tree=None, objective='multi:softmax', predictor=None,\n",
      "              random_state=None, reg_alpha=None, ...), mean_mfcc__kw_args={'sr': 16000, 'n_mfcc': 20, 'n_fft': 1024, 'hop_length': 128, 'fmin': 300.0, 'fmax': 3000.0}; total time= 1.1min\n"
     ]
    },
    {
     "name": "stderr",
     "output_type": "stream",
     "text": [
      "/Users/axel/.pyenv/versions/3.8.12/envs/us8kdata/lib/python3.8/site-packages/librosa/util/decorators.py:88: UserWarning: n_fft=1024 is too small for input signal of length=800\n",
      "  return f(*args, **kwargs)\n",
      "/Users/axel/.pyenv/versions/3.8.12/envs/us8kdata/lib/python3.8/site-packages/librosa/util/decorators.py:88: UserWarning: n_fft=1024 is too small for input signal of length=960\n",
      "  return f(*args, **kwargs)\n",
      "/Users/axel/.pyenv/versions/3.8.12/envs/us8kdata/lib/python3.8/site-packages/librosa/util/decorators.py:88: UserWarning: n_fft=1024 is too small for input signal of length=960\n",
      "  return f(*args, **kwargs)\n"
     ]
    },
    {
     "name": "stdout",
     "output_type": "stream",
     "text": [
      "[CV] END estimator=XGBClassifier(base_score=None, booster=None, callbacks=None,\n",
      "              colsample_bylevel=None, colsample_bynode=None,\n",
      "              colsample_bytree=None, early_stopping_rounds=None,\n",
      "              enable_categorical=False, eval_metric=None, gamma=None,\n",
      "              gpu_id=None, grow_policy=None, importance_type=None,\n",
      "              interaction_constraints=None, learning_rate=0.05, max_bin=None,\n",
      "              max_cat_to_onehot=None, max_delta_step=None, max_depth=8,\n",
      "              max_leaves=None, min_child_weight=None, missing=nan,\n",
      "              monotone_constraints=None, n_estimators=400, n_jobs=None,\n",
      "              num_parallel_tree=None, objective='multi:softmax', predictor=None,\n",
      "              random_state=None, reg_alpha=None, ...), mean_mfcc__kw_args={'sr': 16000, 'n_mfcc': 20, 'n_fft': 1024, 'hop_length': 128, 'fmin': 300.0, 'fmax': 4000.0}; total time= 1.1min\n"
     ]
    },
    {
     "name": "stderr",
     "output_type": "stream",
     "text": [
      "/Users/axel/.pyenv/versions/3.8.12/envs/us8kdata/lib/python3.8/site-packages/librosa/util/decorators.py:88: UserWarning: n_fft=1024 is too small for input signal of length=960\n",
      "  return f(*args, **kwargs)\n",
      "/Users/axel/.pyenv/versions/3.8.12/envs/us8kdata/lib/python3.8/site-packages/librosa/util/decorators.py:88: UserWarning: n_fft=1024 is too small for input signal of length=800\n",
      "  return f(*args, **kwargs)\n",
      "/Users/axel/.pyenv/versions/3.8.12/envs/us8kdata/lib/python3.8/site-packages/librosa/util/decorators.py:88: UserWarning: n_fft=1024 is too small for input signal of length=960\n",
      "  return f(*args, **kwargs)\n"
     ]
    },
    {
     "name": "stdout",
     "output_type": "stream",
     "text": [
      "[CV] END estimator=XGBClassifier(base_score=None, booster=None, callbacks=None,\n",
      "              colsample_bylevel=None, colsample_bynode=None,\n",
      "              colsample_bytree=None, early_stopping_rounds=None,\n",
      "              enable_categorical=False, eval_metric=None, gamma=None,\n",
      "              gpu_id=None, grow_policy=None, importance_type=None,\n",
      "              interaction_constraints=None, learning_rate=0.05, max_bin=None,\n",
      "              max_cat_to_onehot=None, max_delta_step=None, max_depth=8,\n",
      "              max_leaves=None, min_child_weight=None, missing=nan,\n",
      "              monotone_constraints=None, n_estimators=400, n_jobs=None,\n",
      "              num_parallel_tree=None, objective='multi:softmax', predictor=None,\n",
      "              random_state=None, reg_alpha=None, ...), mean_mfcc__kw_args={'sr': 16000, 'n_mfcc': 20, 'n_fft': 1024, 'hop_length': 128, 'fmin': 300.0, 'fmax': 4000.0}; total time= 1.1min\n"
     ]
    },
    {
     "name": "stderr",
     "output_type": "stream",
     "text": [
      "/Users/axel/.pyenv/versions/3.8.12/envs/us8kdata/lib/python3.8/site-packages/librosa/util/decorators.py:88: UserWarning: n_fft=1024 is too small for input signal of length=800\n",
      "  return f(*args, **kwargs)\n",
      "/Users/axel/.pyenv/versions/3.8.12/envs/us8kdata/lib/python3.8/site-packages/librosa/util/decorators.py:88: UserWarning: n_fft=1024 is too small for input signal of length=960\n",
      "  return f(*args, **kwargs)\n",
      "/Users/axel/.pyenv/versions/3.8.12/envs/us8kdata/lib/python3.8/site-packages/librosa/util/decorators.py:88: UserWarning: n_fft=1024 is too small for input signal of length=960\n",
      "  return f(*args, **kwargs)\n"
     ]
    },
    {
     "name": "stdout",
     "output_type": "stream",
     "text": [
      "[CV] END estimator=XGBClassifier(base_score=None, booster=None, callbacks=None,\n",
      "              colsample_bylevel=None, colsample_bynode=None,\n",
      "              colsample_bytree=None, early_stopping_rounds=None,\n",
      "              enable_categorical=False, eval_metric=None, gamma=None,\n",
      "              gpu_id=None, grow_policy=None, importance_type=None,\n",
      "              interaction_constraints=None, learning_rate=0.05, max_bin=None,\n",
      "              max_cat_to_onehot=None, max_delta_step=None, max_depth=8,\n",
      "              max_leaves=None, min_child_weight=None, missing=nan,\n",
      "              monotone_constraints=None, n_estimators=400, n_jobs=None,\n",
      "              num_parallel_tree=None, objective='multi:softmax', predictor=None,\n",
      "              random_state=None, reg_alpha=None, ...), mean_mfcc__kw_args={'sr': 16000, 'n_mfcc': 20, 'n_fft': 1024, 'hop_length': 128, 'fmin': 300.0, 'fmax': 5000.0}; total time= 1.1min\n"
     ]
    },
    {
     "name": "stderr",
     "output_type": "stream",
     "text": [
      "/Users/axel/.pyenv/versions/3.8.12/envs/us8kdata/lib/python3.8/site-packages/librosa/util/decorators.py:88: UserWarning: n_fft=1024 is too small for input signal of length=960\n",
      "  return f(*args, **kwargs)\n",
      "/Users/axel/.pyenv/versions/3.8.12/envs/us8kdata/lib/python3.8/site-packages/librosa/util/decorators.py:88: UserWarning: n_fft=1024 is too small for input signal of length=800\n",
      "  return f(*args, **kwargs)\n",
      "/Users/axel/.pyenv/versions/3.8.12/envs/us8kdata/lib/python3.8/site-packages/librosa/util/decorators.py:88: UserWarning: n_fft=1024 is too small for input signal of length=960\n",
      "  return f(*args, **kwargs)\n"
     ]
    },
    {
     "name": "stdout",
     "output_type": "stream",
     "text": [
      "[CV] END estimator=XGBClassifier(base_score=None, booster=None, callbacks=None,\n",
      "              colsample_bylevel=None, colsample_bynode=None,\n",
      "              colsample_bytree=None, early_stopping_rounds=None,\n",
      "              enable_categorical=False, eval_metric=None, gamma=None,\n",
      "              gpu_id=None, grow_policy=None, importance_type=None,\n",
      "              interaction_constraints=None, learning_rate=0.05, max_bin=None,\n",
      "              max_cat_to_onehot=None, max_delta_step=None, max_depth=8,\n",
      "              max_leaves=None, min_child_weight=None, missing=nan,\n",
      "              monotone_constraints=None, n_estimators=400, n_jobs=None,\n",
      "              num_parallel_tree=None, objective='multi:softmax', predictor=None,\n",
      "              random_state=None, reg_alpha=None, ...), mean_mfcc__kw_args={'sr': 16000, 'n_mfcc': 20, 'n_fft': 1024, 'hop_length': 128, 'fmin': 300.0, 'fmax': 5000.0}; total time= 1.1min\n"
     ]
    },
    {
     "name": "stderr",
     "output_type": "stream",
     "text": [
      "/Users/axel/.pyenv/versions/3.8.12/envs/us8kdata/lib/python3.8/site-packages/librosa/util/decorators.py:88: UserWarning: n_fft=1024 is too small for input signal of length=800\n",
      "  return f(*args, **kwargs)\n",
      "/Users/axel/.pyenv/versions/3.8.12/envs/us8kdata/lib/python3.8/site-packages/librosa/util/decorators.py:88: UserWarning: n_fft=1024 is too small for input signal of length=960\n",
      "  return f(*args, **kwargs)\n",
      "/Users/axel/.pyenv/versions/3.8.12/envs/us8kdata/lib/python3.8/site-packages/librosa/util/decorators.py:88: UserWarning: n_fft=1024 is too small for input signal of length=960\n",
      "  return f(*args, **kwargs)\n"
     ]
    },
    {
     "name": "stdout",
     "output_type": "stream",
     "text": [
      "[CV] END estimator=XGBClassifier(base_score=None, booster=None, callbacks=None,\n",
      "              colsample_bylevel=None, colsample_bynode=None,\n",
      "              colsample_bytree=None, early_stopping_rounds=None,\n",
      "              enable_categorical=False, eval_metric=None, gamma=None,\n",
      "              gpu_id=None, grow_policy=None, importance_type=None,\n",
      "              interaction_constraints=None, learning_rate=0.05, max_bin=None,\n",
      "              max_cat_to_onehot=None, max_delta_step=None, max_depth=8,\n",
      "              max_leaves=None, min_child_weight=None, missing=nan,\n",
      "              monotone_constraints=None, n_estimators=400, n_jobs=None,\n",
      "              num_parallel_tree=None, objective='multi:softmax', predictor=None,\n",
      "              random_state=None, reg_alpha=None, ...), mean_mfcc__kw_args={'sr': 16000, 'n_mfcc': 20, 'n_fft': 1024, 'hop_length': 128, 'fmin': 500.0, 'fmax': None}; total time= 1.2min\n"
     ]
    },
    {
     "name": "stderr",
     "output_type": "stream",
     "text": [
      "/Users/axel/.pyenv/versions/3.8.12/envs/us8kdata/lib/python3.8/site-packages/librosa/util/decorators.py:88: UserWarning: n_fft=1024 is too small for input signal of length=960\n",
      "  return f(*args, **kwargs)\n",
      "/Users/axel/.pyenv/versions/3.8.12/envs/us8kdata/lib/python3.8/site-packages/librosa/util/decorators.py:88: UserWarning: n_fft=1024 is too small for input signal of length=800\n",
      "  return f(*args, **kwargs)\n",
      "/Users/axel/.pyenv/versions/3.8.12/envs/us8kdata/lib/python3.8/site-packages/librosa/util/decorators.py:88: UserWarning: n_fft=1024 is too small for input signal of length=960\n",
      "  return f(*args, **kwargs)\n"
     ]
    },
    {
     "name": "stdout",
     "output_type": "stream",
     "text": [
      "[CV] END estimator=XGBClassifier(base_score=None, booster=None, callbacks=None,\n",
      "              colsample_bylevel=None, colsample_bynode=None,\n",
      "              colsample_bytree=None, early_stopping_rounds=None,\n",
      "              enable_categorical=False, eval_metric=None, gamma=None,\n",
      "              gpu_id=None, grow_policy=None, importance_type=None,\n",
      "              interaction_constraints=None, learning_rate=0.05, max_bin=None,\n",
      "              max_cat_to_onehot=None, max_delta_step=None, max_depth=8,\n",
      "              max_leaves=None, min_child_weight=None, missing=nan,\n",
      "              monotone_constraints=None, n_estimators=400, n_jobs=None,\n",
      "              num_parallel_tree=None, objective='multi:softmax', predictor=None,\n",
      "              random_state=None, reg_alpha=None, ...), mean_mfcc__kw_args={'sr': 16000, 'n_mfcc': 20, 'n_fft': 1024, 'hop_length': 128, 'fmin': 500.0, 'fmax': None}; total time= 1.1min\n"
     ]
    },
    {
     "name": "stderr",
     "output_type": "stream",
     "text": [
      "/Users/axel/.pyenv/versions/3.8.12/envs/us8kdata/lib/python3.8/site-packages/librosa/util/decorators.py:88: UserWarning: n_fft=1024 is too small for input signal of length=800\n",
      "  return f(*args, **kwargs)\n",
      "/Users/axel/.pyenv/versions/3.8.12/envs/us8kdata/lib/python3.8/site-packages/librosa/util/decorators.py:88: UserWarning: n_fft=1024 is too small for input signal of length=960\n",
      "  return f(*args, **kwargs)\n",
      "/Users/axel/.pyenv/versions/3.8.12/envs/us8kdata/lib/python3.8/site-packages/librosa/util/decorators.py:88: UserWarning: n_fft=1024 is too small for input signal of length=960\n",
      "  return f(*args, **kwargs)\n"
     ]
    },
    {
     "name": "stdout",
     "output_type": "stream",
     "text": [
      "[CV] END estimator=XGBClassifier(base_score=None, booster=None, callbacks=None,\n",
      "              colsample_bylevel=None, colsample_bynode=None,\n",
      "              colsample_bytree=None, early_stopping_rounds=None,\n",
      "              enable_categorical=False, eval_metric=None, gamma=None,\n",
      "              gpu_id=None, grow_policy=None, importance_type=None,\n",
      "              interaction_constraints=None, learning_rate=0.05, max_bin=None,\n",
      "              max_cat_to_onehot=None, max_delta_step=None, max_depth=8,\n",
      "              max_leaves=None, min_child_weight=None, missing=nan,\n",
      "              monotone_constraints=None, n_estimators=400, n_jobs=None,\n",
      "              num_parallel_tree=None, objective='multi:softmax', predictor=None,\n",
      "              random_state=None, reg_alpha=None, ...), mean_mfcc__kw_args={'sr': 16000, 'n_mfcc': 20, 'n_fft': 1024, 'hop_length': 128, 'fmin': 500.0, 'fmax': 3000.0}; total time= 1.1min\n"
     ]
    },
    {
     "name": "stderr",
     "output_type": "stream",
     "text": [
      "/Users/axel/.pyenv/versions/3.8.12/envs/us8kdata/lib/python3.8/site-packages/librosa/util/decorators.py:88: UserWarning: n_fft=1024 is too small for input signal of length=960\n",
      "  return f(*args, **kwargs)\n",
      "/Users/axel/.pyenv/versions/3.8.12/envs/us8kdata/lib/python3.8/site-packages/librosa/util/decorators.py:88: UserWarning: n_fft=1024 is too small for input signal of length=800\n",
      "  return f(*args, **kwargs)\n",
      "/Users/axel/.pyenv/versions/3.8.12/envs/us8kdata/lib/python3.8/site-packages/librosa/util/decorators.py:88: UserWarning: n_fft=1024 is too small for input signal of length=960\n",
      "  return f(*args, **kwargs)\n"
     ]
    },
    {
     "name": "stdout",
     "output_type": "stream",
     "text": [
      "[CV] END estimator=XGBClassifier(base_score=None, booster=None, callbacks=None,\n",
      "              colsample_bylevel=None, colsample_bynode=None,\n",
      "              colsample_bytree=None, early_stopping_rounds=None,\n",
      "              enable_categorical=False, eval_metric=None, gamma=None,\n",
      "              gpu_id=None, grow_policy=None, importance_type=None,\n",
      "              interaction_constraints=None, learning_rate=0.05, max_bin=None,\n",
      "              max_cat_to_onehot=None, max_delta_step=None, max_depth=8,\n",
      "              max_leaves=None, min_child_weight=None, missing=nan,\n",
      "              monotone_constraints=None, n_estimators=400, n_jobs=None,\n",
      "              num_parallel_tree=None, objective='multi:softmax', predictor=None,\n",
      "              random_state=None, reg_alpha=None, ...), mean_mfcc__kw_args={'sr': 16000, 'n_mfcc': 20, 'n_fft': 1024, 'hop_length': 128, 'fmin': 500.0, 'fmax': 3000.0}; total time= 1.1min\n"
     ]
    },
    {
     "name": "stderr",
     "output_type": "stream",
     "text": [
      "/Users/axel/.pyenv/versions/3.8.12/envs/us8kdata/lib/python3.8/site-packages/librosa/util/decorators.py:88: UserWarning: n_fft=1024 is too small for input signal of length=800\n",
      "  return f(*args, **kwargs)\n",
      "/Users/axel/.pyenv/versions/3.8.12/envs/us8kdata/lib/python3.8/site-packages/librosa/util/decorators.py:88: UserWarning: n_fft=1024 is too small for input signal of length=960\n",
      "  return f(*args, **kwargs)\n",
      "/Users/axel/.pyenv/versions/3.8.12/envs/us8kdata/lib/python3.8/site-packages/librosa/util/decorators.py:88: UserWarning: n_fft=1024 is too small for input signal of length=960\n",
      "  return f(*args, **kwargs)\n"
     ]
    },
    {
     "name": "stdout",
     "output_type": "stream",
     "text": [
      "[CV] END estimator=XGBClassifier(base_score=None, booster=None, callbacks=None,\n",
      "              colsample_bylevel=None, colsample_bynode=None,\n",
      "              colsample_bytree=None, early_stopping_rounds=None,\n",
      "              enable_categorical=False, eval_metric=None, gamma=None,\n",
      "              gpu_id=None, grow_policy=None, importance_type=None,\n",
      "              interaction_constraints=None, learning_rate=0.05, max_bin=None,\n",
      "              max_cat_to_onehot=None, max_delta_step=None, max_depth=8,\n",
      "              max_leaves=None, min_child_weight=None, missing=nan,\n",
      "              monotone_constraints=None, n_estimators=400, n_jobs=None,\n",
      "              num_parallel_tree=None, objective='multi:softmax', predictor=None,\n",
      "              random_state=None, reg_alpha=None, ...), mean_mfcc__kw_args={'sr': 16000, 'n_mfcc': 20, 'n_fft': 1024, 'hop_length': 128, 'fmin': 500.0, 'fmax': 4000.0}; total time= 1.1min\n"
     ]
    },
    {
     "name": "stderr",
     "output_type": "stream",
     "text": [
      "/Users/axel/.pyenv/versions/3.8.12/envs/us8kdata/lib/python3.8/site-packages/librosa/util/decorators.py:88: UserWarning: n_fft=1024 is too small for input signal of length=960\n",
      "  return f(*args, **kwargs)\n",
      "/Users/axel/.pyenv/versions/3.8.12/envs/us8kdata/lib/python3.8/site-packages/librosa/util/decorators.py:88: UserWarning: n_fft=1024 is too small for input signal of length=800\n",
      "  return f(*args, **kwargs)\n",
      "/Users/axel/.pyenv/versions/3.8.12/envs/us8kdata/lib/python3.8/site-packages/librosa/util/decorators.py:88: UserWarning: n_fft=1024 is too small for input signal of length=960\n",
      "  return f(*args, **kwargs)\n"
     ]
    },
    {
     "name": "stdout",
     "output_type": "stream",
     "text": [
      "[CV] END estimator=XGBClassifier(base_score=None, booster=None, callbacks=None,\n",
      "              colsample_bylevel=None, colsample_bynode=None,\n",
      "              colsample_bytree=None, early_stopping_rounds=None,\n",
      "              enable_categorical=False, eval_metric=None, gamma=None,\n",
      "              gpu_id=None, grow_policy=None, importance_type=None,\n",
      "              interaction_constraints=None, learning_rate=0.05, max_bin=None,\n",
      "              max_cat_to_onehot=None, max_delta_step=None, max_depth=8,\n",
      "              max_leaves=None, min_child_weight=None, missing=nan,\n",
      "              monotone_constraints=None, n_estimators=400, n_jobs=None,\n",
      "              num_parallel_tree=None, objective='multi:softmax', predictor=None,\n",
      "              random_state=None, reg_alpha=None, ...), mean_mfcc__kw_args={'sr': 16000, 'n_mfcc': 20, 'n_fft': 1024, 'hop_length': 128, 'fmin': 500.0, 'fmax': 4000.0}; total time= 1.1min\n"
     ]
    },
    {
     "name": "stderr",
     "output_type": "stream",
     "text": [
      "/Users/axel/.pyenv/versions/3.8.12/envs/us8kdata/lib/python3.8/site-packages/librosa/util/decorators.py:88: UserWarning: n_fft=1024 is too small for input signal of length=800\n",
      "  return f(*args, **kwargs)\n",
      "/Users/axel/.pyenv/versions/3.8.12/envs/us8kdata/lib/python3.8/site-packages/librosa/util/decorators.py:88: UserWarning: n_fft=1024 is too small for input signal of length=960\n",
      "  return f(*args, **kwargs)\n",
      "/Users/axel/.pyenv/versions/3.8.12/envs/us8kdata/lib/python3.8/site-packages/librosa/util/decorators.py:88: UserWarning: n_fft=1024 is too small for input signal of length=960\n",
      "  return f(*args, **kwargs)\n"
     ]
    },
    {
     "name": "stdout",
     "output_type": "stream",
     "text": [
      "[CV] END estimator=XGBClassifier(base_score=None, booster=None, callbacks=None,\n",
      "              colsample_bylevel=None, colsample_bynode=None,\n",
      "              colsample_bytree=None, early_stopping_rounds=None,\n",
      "              enable_categorical=False, eval_metric=None, gamma=None,\n",
      "              gpu_id=None, grow_policy=None, importance_type=None,\n",
      "              interaction_constraints=None, learning_rate=0.05, max_bin=None,\n",
      "              max_cat_to_onehot=None, max_delta_step=None, max_depth=8,\n",
      "              max_leaves=None, min_child_weight=None, missing=nan,\n",
      "              monotone_constraints=None, n_estimators=400, n_jobs=None,\n",
      "              num_parallel_tree=None, objective='multi:softmax', predictor=None,\n",
      "              random_state=None, reg_alpha=None, ...), mean_mfcc__kw_args={'sr': 16000, 'n_mfcc': 20, 'n_fft': 1024, 'hop_length': 128, 'fmin': 500.0, 'fmax': 5000.0}; total time= 1.2min\n"
     ]
    },
    {
     "name": "stderr",
     "output_type": "stream",
     "text": [
      "/Users/axel/.pyenv/versions/3.8.12/envs/us8kdata/lib/python3.8/site-packages/librosa/util/decorators.py:88: UserWarning: n_fft=1024 is too small for input signal of length=960\n",
      "  return f(*args, **kwargs)\n",
      "/Users/axel/.pyenv/versions/3.8.12/envs/us8kdata/lib/python3.8/site-packages/librosa/util/decorators.py:88: UserWarning: n_fft=1024 is too small for input signal of length=800\n",
      "  return f(*args, **kwargs)\n",
      "/Users/axel/.pyenv/versions/3.8.12/envs/us8kdata/lib/python3.8/site-packages/librosa/util/decorators.py:88: UserWarning: n_fft=1024 is too small for input signal of length=960\n",
      "  return f(*args, **kwargs)\n"
     ]
    },
    {
     "name": "stdout",
     "output_type": "stream",
     "text": [
      "[CV] END estimator=XGBClassifier(base_score=None, booster=None, callbacks=None,\n",
      "              colsample_bylevel=None, colsample_bynode=None,\n",
      "              colsample_bytree=None, early_stopping_rounds=None,\n",
      "              enable_categorical=False, eval_metric=None, gamma=None,\n",
      "              gpu_id=None, grow_policy=None, importance_type=None,\n",
      "              interaction_constraints=None, learning_rate=0.05, max_bin=None,\n",
      "              max_cat_to_onehot=None, max_delta_step=None, max_depth=8,\n",
      "              max_leaves=None, min_child_weight=None, missing=nan,\n",
      "              monotone_constraints=None, n_estimators=400, n_jobs=None,\n",
      "              num_parallel_tree=None, objective='multi:softmax', predictor=None,\n",
      "              random_state=None, reg_alpha=None, ...), mean_mfcc__kw_args={'sr': 16000, 'n_mfcc': 20, 'n_fft': 1024, 'hop_length': 128, 'fmin': 500.0, 'fmax': 5000.0}; total time= 1.1min\n"
     ]
    },
    {
     "name": "stderr",
     "output_type": "stream",
     "text": [
      "/Users/axel/.pyenv/versions/3.8.12/envs/us8kdata/lib/python3.8/site-packages/librosa/util/decorators.py:88: UserWarning: Empty filters detected in mel frequency basis. Some channels will produce empty responses. Try increasing your sampling rate (and fmax) or reducing n_mels.\n",
      "  return f(*args, **kwargs)\n",
      "/Users/axel/.pyenv/versions/3.8.12/envs/us8kdata/lib/python3.8/site-packages/librosa/util/decorators.py:88: UserWarning: Empty filters detected in mel frequency basis. Some channels will produce empty responses. Try increasing your sampling rate (and fmax) or reducing n_mels.\n",
      "  return f(*args, **kwargs)\n"
     ]
    },
    {
     "name": "stdout",
     "output_type": "stream",
     "text": [
      "[CV] END estimator=XGBClassifier(base_score=None, booster=None, callbacks=None,\n",
      "              colsample_bylevel=None, colsample_bynode=None,\n",
      "              colsample_bytree=None, early_stopping_rounds=None,\n",
      "              enable_categorical=False, eval_metric=None, gamma=None,\n",
      "              gpu_id=None, grow_policy=None, importance_type=None,\n",
      "              interaction_constraints=None, learning_rate=0.025, max_bin=None,\n",
      "              max_cat_to_onehot=None, max_delta_step=None, max_depth=8,\n",
      "              max_leaves=None, min_child_weight=None, missing=nan,\n",
      "              monotone_constraints=None, n_estimators=400, n_jobs=None,\n",
      "              num_parallel_tree=None, objective='multi:softmax', predictor=None,\n",
      "              random_state=None, reg_alpha=None, ...), mean_mfcc__kw_args={'sr': 16000, 'n_mfcc': 13, 'n_fft': 256, 'hop_length': 128, 'fmin': 0.0, 'fmax': None}; total time=  40.6s\n"
     ]
    },
    {
     "name": "stderr",
     "output_type": "stream",
     "text": [
      "/Users/axel/.pyenv/versions/3.8.12/envs/us8kdata/lib/python3.8/site-packages/librosa/util/decorators.py:88: UserWarning: Empty filters detected in mel frequency basis. Some channels will produce empty responses. Try increasing your sampling rate (and fmax) or reducing n_mels.\n",
      "  return f(*args, **kwargs)\n",
      "/Users/axel/.pyenv/versions/3.8.12/envs/us8kdata/lib/python3.8/site-packages/librosa/util/decorators.py:88: UserWarning: Empty filters detected in mel frequency basis. Some channels will produce empty responses. Try increasing your sampling rate (and fmax) or reducing n_mels.\n",
      "  return f(*args, **kwargs)\n"
     ]
    },
    {
     "name": "stdout",
     "output_type": "stream",
     "text": [
      "[CV] END estimator=XGBClassifier(base_score=None, booster=None, callbacks=None,\n",
      "              colsample_bylevel=None, colsample_bynode=None,\n",
      "              colsample_bytree=None, early_stopping_rounds=None,\n",
      "              enable_categorical=False, eval_metric=None, gamma=None,\n",
      "              gpu_id=None, grow_policy=None, importance_type=None,\n",
      "              interaction_constraints=None, learning_rate=0.025, max_bin=None,\n",
      "              max_cat_to_onehot=None, max_delta_step=None, max_depth=8,\n",
      "              max_leaves=None, min_child_weight=None, missing=nan,\n",
      "              monotone_constraints=None, n_estimators=400, n_jobs=None,\n",
      "              num_parallel_tree=None, objective='multi:softmax', predictor=None,\n",
      "              random_state=None, reg_alpha=None, ...), mean_mfcc__kw_args={'sr': 16000, 'n_mfcc': 13, 'n_fft': 256, 'hop_length': 128, 'fmin': 0.0, 'fmax': None}; total time=  39.8s\n"
     ]
    },
    {
     "name": "stderr",
     "output_type": "stream",
     "text": [
      "/Users/axel/.pyenv/versions/3.8.12/envs/us8kdata/lib/python3.8/site-packages/librosa/util/decorators.py:88: UserWarning: Empty filters detected in mel frequency basis. Some channels will produce empty responses. Try increasing your sampling rate (and fmax) or reducing n_mels.\n",
      "  return f(*args, **kwargs)\n",
      "/Users/axel/.pyenv/versions/3.8.12/envs/us8kdata/lib/python3.8/site-packages/librosa/util/decorators.py:88: UserWarning: Empty filters detected in mel frequency basis. Some channels will produce empty responses. Try increasing your sampling rate (and fmax) or reducing n_mels.\n",
      "  return f(*args, **kwargs)\n"
     ]
    },
    {
     "name": "stdout",
     "output_type": "stream",
     "text": [
      "[CV] END estimator=XGBClassifier(base_score=None, booster=None, callbacks=None,\n",
      "              colsample_bylevel=None, colsample_bynode=None,\n",
      "              colsample_bytree=None, early_stopping_rounds=None,\n",
      "              enable_categorical=False, eval_metric=None, gamma=None,\n",
      "              gpu_id=None, grow_policy=None, importance_type=None,\n",
      "              interaction_constraints=None, learning_rate=0.025, max_bin=None,\n",
      "              max_cat_to_onehot=None, max_delta_step=None, max_depth=8,\n",
      "              max_leaves=None, min_child_weight=None, missing=nan,\n",
      "              monotone_constraints=None, n_estimators=400, n_jobs=None,\n",
      "              num_parallel_tree=None, objective='multi:softmax', predictor=None,\n",
      "              random_state=None, reg_alpha=None, ...), mean_mfcc__kw_args={'sr': 16000, 'n_mfcc': 13, 'n_fft': 256, 'hop_length': 128, 'fmin': 0.0, 'fmax': 3000.0}; total time=  40.6s\n"
     ]
    },
    {
     "name": "stderr",
     "output_type": "stream",
     "text": [
      "/Users/axel/.pyenv/versions/3.8.12/envs/us8kdata/lib/python3.8/site-packages/librosa/util/decorators.py:88: UserWarning: Empty filters detected in mel frequency basis. Some channels will produce empty responses. Try increasing your sampling rate (and fmax) or reducing n_mels.\n",
      "  return f(*args, **kwargs)\n",
      "/Users/axel/.pyenv/versions/3.8.12/envs/us8kdata/lib/python3.8/site-packages/librosa/util/decorators.py:88: UserWarning: Empty filters detected in mel frequency basis. Some channels will produce empty responses. Try increasing your sampling rate (and fmax) or reducing n_mels.\n",
      "  return f(*args, **kwargs)\n"
     ]
    },
    {
     "name": "stdout",
     "output_type": "stream",
     "text": [
      "[CV] END estimator=XGBClassifier(base_score=None, booster=None, callbacks=None,\n",
      "              colsample_bylevel=None, colsample_bynode=None,\n",
      "              colsample_bytree=None, early_stopping_rounds=None,\n",
      "              enable_categorical=False, eval_metric=None, gamma=None,\n",
      "              gpu_id=None, grow_policy=None, importance_type=None,\n",
      "              interaction_constraints=None, learning_rate=0.025, max_bin=None,\n",
      "              max_cat_to_onehot=None, max_delta_step=None, max_depth=8,\n",
      "              max_leaves=None, min_child_weight=None, missing=nan,\n",
      "              monotone_constraints=None, n_estimators=400, n_jobs=None,\n",
      "              num_parallel_tree=None, objective='multi:softmax', predictor=None,\n",
      "              random_state=None, reg_alpha=None, ...), mean_mfcc__kw_args={'sr': 16000, 'n_mfcc': 13, 'n_fft': 256, 'hop_length': 128, 'fmin': 0.0, 'fmax': 3000.0}; total time=  40.2s\n"
     ]
    },
    {
     "name": "stderr",
     "output_type": "stream",
     "text": [
      "/Users/axel/.pyenv/versions/3.8.12/envs/us8kdata/lib/python3.8/site-packages/librosa/util/decorators.py:88: UserWarning: Empty filters detected in mel frequency basis. Some channels will produce empty responses. Try increasing your sampling rate (and fmax) or reducing n_mels.\n",
      "  return f(*args, **kwargs)\n",
      "/Users/axel/.pyenv/versions/3.8.12/envs/us8kdata/lib/python3.8/site-packages/librosa/util/decorators.py:88: UserWarning: Empty filters detected in mel frequency basis. Some channels will produce empty responses. Try increasing your sampling rate (and fmax) or reducing n_mels.\n",
      "  return f(*args, **kwargs)\n"
     ]
    },
    {
     "name": "stdout",
     "output_type": "stream",
     "text": [
      "[CV] END estimator=XGBClassifier(base_score=None, booster=None, callbacks=None,\n",
      "              colsample_bylevel=None, colsample_bynode=None,\n",
      "              colsample_bytree=None, early_stopping_rounds=None,\n",
      "              enable_categorical=False, eval_metric=None, gamma=None,\n",
      "              gpu_id=None, grow_policy=None, importance_type=None,\n",
      "              interaction_constraints=None, learning_rate=0.025, max_bin=None,\n",
      "              max_cat_to_onehot=None, max_delta_step=None, max_depth=8,\n",
      "              max_leaves=None, min_child_weight=None, missing=nan,\n",
      "              monotone_constraints=None, n_estimators=400, n_jobs=None,\n",
      "              num_parallel_tree=None, objective='multi:softmax', predictor=None,\n",
      "              random_state=None, reg_alpha=None, ...), mean_mfcc__kw_args={'sr': 16000, 'n_mfcc': 13, 'n_fft': 256, 'hop_length': 128, 'fmin': 0.0, 'fmax': 4000.0}; total time=  40.6s\n"
     ]
    },
    {
     "name": "stderr",
     "output_type": "stream",
     "text": [
      "/Users/axel/.pyenv/versions/3.8.12/envs/us8kdata/lib/python3.8/site-packages/librosa/util/decorators.py:88: UserWarning: Empty filters detected in mel frequency basis. Some channels will produce empty responses. Try increasing your sampling rate (and fmax) or reducing n_mels.\n",
      "  return f(*args, **kwargs)\n",
      "/Users/axel/.pyenv/versions/3.8.12/envs/us8kdata/lib/python3.8/site-packages/librosa/util/decorators.py:88: UserWarning: Empty filters detected in mel frequency basis. Some channels will produce empty responses. Try increasing your sampling rate (and fmax) or reducing n_mels.\n",
      "  return f(*args, **kwargs)\n"
     ]
    },
    {
     "name": "stdout",
     "output_type": "stream",
     "text": [
      "[CV] END estimator=XGBClassifier(base_score=None, booster=None, callbacks=None,\n",
      "              colsample_bylevel=None, colsample_bynode=None,\n",
      "              colsample_bytree=None, early_stopping_rounds=None,\n",
      "              enable_categorical=False, eval_metric=None, gamma=None,\n",
      "              gpu_id=None, grow_policy=None, importance_type=None,\n",
      "              interaction_constraints=None, learning_rate=0.025, max_bin=None,\n",
      "              max_cat_to_onehot=None, max_delta_step=None, max_depth=8,\n",
      "              max_leaves=None, min_child_weight=None, missing=nan,\n",
      "              monotone_constraints=None, n_estimators=400, n_jobs=None,\n",
      "              num_parallel_tree=None, objective='multi:softmax', predictor=None,\n",
      "              random_state=None, reg_alpha=None, ...), mean_mfcc__kw_args={'sr': 16000, 'n_mfcc': 13, 'n_fft': 256, 'hop_length': 128, 'fmin': 0.0, 'fmax': 4000.0}; total time=  40.4s\n"
     ]
    },
    {
     "name": "stderr",
     "output_type": "stream",
     "text": [
      "/Users/axel/.pyenv/versions/3.8.12/envs/us8kdata/lib/python3.8/site-packages/librosa/util/decorators.py:88: UserWarning: Empty filters detected in mel frequency basis. Some channels will produce empty responses. Try increasing your sampling rate (and fmax) or reducing n_mels.\n",
      "  return f(*args, **kwargs)\n",
      "/Users/axel/.pyenv/versions/3.8.12/envs/us8kdata/lib/python3.8/site-packages/librosa/util/decorators.py:88: UserWarning: Empty filters detected in mel frequency basis. Some channels will produce empty responses. Try increasing your sampling rate (and fmax) or reducing n_mels.\n",
      "  return f(*args, **kwargs)\n"
     ]
    },
    {
     "name": "stdout",
     "output_type": "stream",
     "text": [
      "[CV] END estimator=XGBClassifier(base_score=None, booster=None, callbacks=None,\n",
      "              colsample_bylevel=None, colsample_bynode=None,\n",
      "              colsample_bytree=None, early_stopping_rounds=None,\n",
      "              enable_categorical=False, eval_metric=None, gamma=None,\n",
      "              gpu_id=None, grow_policy=None, importance_type=None,\n",
      "              interaction_constraints=None, learning_rate=0.025, max_bin=None,\n",
      "              max_cat_to_onehot=None, max_delta_step=None, max_depth=8,\n",
      "              max_leaves=None, min_child_weight=None, missing=nan,\n",
      "              monotone_constraints=None, n_estimators=400, n_jobs=None,\n",
      "              num_parallel_tree=None, objective='multi:softmax', predictor=None,\n",
      "              random_state=None, reg_alpha=None, ...), mean_mfcc__kw_args={'sr': 16000, 'n_mfcc': 13, 'n_fft': 256, 'hop_length': 128, 'fmin': 0.0, 'fmax': 5000.0}; total time=  40.6s\n"
     ]
    },
    {
     "name": "stderr",
     "output_type": "stream",
     "text": [
      "/Users/axel/.pyenv/versions/3.8.12/envs/us8kdata/lib/python3.8/site-packages/librosa/util/decorators.py:88: UserWarning: Empty filters detected in mel frequency basis. Some channels will produce empty responses. Try increasing your sampling rate (and fmax) or reducing n_mels.\n",
      "  return f(*args, **kwargs)\n",
      "/Users/axel/.pyenv/versions/3.8.12/envs/us8kdata/lib/python3.8/site-packages/librosa/util/decorators.py:88: UserWarning: Empty filters detected in mel frequency basis. Some channels will produce empty responses. Try increasing your sampling rate (and fmax) or reducing n_mels.\n",
      "  return f(*args, **kwargs)\n"
     ]
    },
    {
     "name": "stdout",
     "output_type": "stream",
     "text": [
      "[CV] END estimator=XGBClassifier(base_score=None, booster=None, callbacks=None,\n",
      "              colsample_bylevel=None, colsample_bynode=None,\n",
      "              colsample_bytree=None, early_stopping_rounds=None,\n",
      "              enable_categorical=False, eval_metric=None, gamma=None,\n",
      "              gpu_id=None, grow_policy=None, importance_type=None,\n",
      "              interaction_constraints=None, learning_rate=0.025, max_bin=None,\n",
      "              max_cat_to_onehot=None, max_delta_step=None, max_depth=8,\n",
      "              max_leaves=None, min_child_weight=None, missing=nan,\n",
      "              monotone_constraints=None, n_estimators=400, n_jobs=None,\n",
      "              num_parallel_tree=None, objective='multi:softmax', predictor=None,\n",
      "              random_state=None, reg_alpha=None, ...), mean_mfcc__kw_args={'sr': 16000, 'n_mfcc': 13, 'n_fft': 256, 'hop_length': 128, 'fmin': 0.0, 'fmax': 5000.0}; total time=  41.0s\n"
     ]
    },
    {
     "name": "stderr",
     "output_type": "stream",
     "text": [
      "/Users/axel/.pyenv/versions/3.8.12/envs/us8kdata/lib/python3.8/site-packages/librosa/util/decorators.py:88: UserWarning: Empty filters detected in mel frequency basis. Some channels will produce empty responses. Try increasing your sampling rate (and fmax) or reducing n_mels.\n",
      "  return f(*args, **kwargs)\n",
      "/Users/axel/.pyenv/versions/3.8.12/envs/us8kdata/lib/python3.8/site-packages/librosa/util/decorators.py:88: UserWarning: Empty filters detected in mel frequency basis. Some channels will produce empty responses. Try increasing your sampling rate (and fmax) or reducing n_mels.\n",
      "  return f(*args, **kwargs)\n"
     ]
    },
    {
     "name": "stdout",
     "output_type": "stream",
     "text": [
      "[CV] END estimator=XGBClassifier(base_score=None, booster=None, callbacks=None,\n",
      "              colsample_bylevel=None, colsample_bynode=None,\n",
      "              colsample_bytree=None, early_stopping_rounds=None,\n",
      "              enable_categorical=False, eval_metric=None, gamma=None,\n",
      "              gpu_id=None, grow_policy=None, importance_type=None,\n",
      "              interaction_constraints=None, learning_rate=0.025, max_bin=None,\n",
      "              max_cat_to_onehot=None, max_delta_step=None, max_depth=8,\n",
      "              max_leaves=None, min_child_weight=None, missing=nan,\n",
      "              monotone_constraints=None, n_estimators=400, n_jobs=None,\n",
      "              num_parallel_tree=None, objective='multi:softmax', predictor=None,\n",
      "              random_state=None, reg_alpha=None, ...), mean_mfcc__kw_args={'sr': 16000, 'n_mfcc': 13, 'n_fft': 256, 'hop_length': 128, 'fmin': 300.0, 'fmax': None}; total time=  40.3s\n"
     ]
    },
    {
     "name": "stderr",
     "output_type": "stream",
     "text": [
      "/Users/axel/.pyenv/versions/3.8.12/envs/us8kdata/lib/python3.8/site-packages/librosa/util/decorators.py:88: UserWarning: Empty filters detected in mel frequency basis. Some channels will produce empty responses. Try increasing your sampling rate (and fmax) or reducing n_mels.\n",
      "  return f(*args, **kwargs)\n",
      "/Users/axel/.pyenv/versions/3.8.12/envs/us8kdata/lib/python3.8/site-packages/librosa/util/decorators.py:88: UserWarning: Empty filters detected in mel frequency basis. Some channels will produce empty responses. Try increasing your sampling rate (and fmax) or reducing n_mels.\n",
      "  return f(*args, **kwargs)\n"
     ]
    },
    {
     "name": "stdout",
     "output_type": "stream",
     "text": [
      "[CV] END estimator=XGBClassifier(base_score=None, booster=None, callbacks=None,\n",
      "              colsample_bylevel=None, colsample_bynode=None,\n",
      "              colsample_bytree=None, early_stopping_rounds=None,\n",
      "              enable_categorical=False, eval_metric=None, gamma=None,\n",
      "              gpu_id=None, grow_policy=None, importance_type=None,\n",
      "              interaction_constraints=None, learning_rate=0.025, max_bin=None,\n",
      "              max_cat_to_onehot=None, max_delta_step=None, max_depth=8,\n",
      "              max_leaves=None, min_child_weight=None, missing=nan,\n",
      "              monotone_constraints=None, n_estimators=400, n_jobs=None,\n",
      "              num_parallel_tree=None, objective='multi:softmax', predictor=None,\n",
      "              random_state=None, reg_alpha=None, ...), mean_mfcc__kw_args={'sr': 16000, 'n_mfcc': 13, 'n_fft': 256, 'hop_length': 128, 'fmin': 300.0, 'fmax': None}; total time=  39.9s\n"
     ]
    },
    {
     "name": "stderr",
     "output_type": "stream",
     "text": [
      "/Users/axel/.pyenv/versions/3.8.12/envs/us8kdata/lib/python3.8/site-packages/librosa/util/decorators.py:88: UserWarning: Empty filters detected in mel frequency basis. Some channels will produce empty responses. Try increasing your sampling rate (and fmax) or reducing n_mels.\n",
      "  return f(*args, **kwargs)\n",
      "/Users/axel/.pyenv/versions/3.8.12/envs/us8kdata/lib/python3.8/site-packages/librosa/util/decorators.py:88: UserWarning: Empty filters detected in mel frequency basis. Some channels will produce empty responses. Try increasing your sampling rate (and fmax) or reducing n_mels.\n",
      "  return f(*args, **kwargs)\n"
     ]
    },
    {
     "name": "stdout",
     "output_type": "stream",
     "text": [
      "[CV] END estimator=XGBClassifier(base_score=None, booster=None, callbacks=None,\n",
      "              colsample_bylevel=None, colsample_bynode=None,\n",
      "              colsample_bytree=None, early_stopping_rounds=None,\n",
      "              enable_categorical=False, eval_metric=None, gamma=None,\n",
      "              gpu_id=None, grow_policy=None, importance_type=None,\n",
      "              interaction_constraints=None, learning_rate=0.025, max_bin=None,\n",
      "              max_cat_to_onehot=None, max_delta_step=None, max_depth=8,\n",
      "              max_leaves=None, min_child_weight=None, missing=nan,\n",
      "              monotone_constraints=None, n_estimators=400, n_jobs=None,\n",
      "              num_parallel_tree=None, objective='multi:softmax', predictor=None,\n",
      "              random_state=None, reg_alpha=None, ...), mean_mfcc__kw_args={'sr': 16000, 'n_mfcc': 13, 'n_fft': 256, 'hop_length': 128, 'fmin': 300.0, 'fmax': 3000.0}; total time=  40.0s\n"
     ]
    },
    {
     "name": "stderr",
     "output_type": "stream",
     "text": [
      "/Users/axel/.pyenv/versions/3.8.12/envs/us8kdata/lib/python3.8/site-packages/librosa/util/decorators.py:88: UserWarning: Empty filters detected in mel frequency basis. Some channels will produce empty responses. Try increasing your sampling rate (and fmax) or reducing n_mels.\n",
      "  return f(*args, **kwargs)\n",
      "/Users/axel/.pyenv/versions/3.8.12/envs/us8kdata/lib/python3.8/site-packages/librosa/util/decorators.py:88: UserWarning: Empty filters detected in mel frequency basis. Some channels will produce empty responses. Try increasing your sampling rate (and fmax) or reducing n_mels.\n",
      "  return f(*args, **kwargs)\n"
     ]
    },
    {
     "name": "stdout",
     "output_type": "stream",
     "text": [
      "[CV] END estimator=XGBClassifier(base_score=None, booster=None, callbacks=None,\n",
      "              colsample_bylevel=None, colsample_bynode=None,\n",
      "              colsample_bytree=None, early_stopping_rounds=None,\n",
      "              enable_categorical=False, eval_metric=None, gamma=None,\n",
      "              gpu_id=None, grow_policy=None, importance_type=None,\n",
      "              interaction_constraints=None, learning_rate=0.025, max_bin=None,\n",
      "              max_cat_to_onehot=None, max_delta_step=None, max_depth=8,\n",
      "              max_leaves=None, min_child_weight=None, missing=nan,\n",
      "              monotone_constraints=None, n_estimators=400, n_jobs=None,\n",
      "              num_parallel_tree=None, objective='multi:softmax', predictor=None,\n",
      "              random_state=None, reg_alpha=None, ...), mean_mfcc__kw_args={'sr': 16000, 'n_mfcc': 13, 'n_fft': 256, 'hop_length': 128, 'fmin': 300.0, 'fmax': 3000.0}; total time=  40.7s\n"
     ]
    },
    {
     "name": "stderr",
     "output_type": "stream",
     "text": [
      "/Users/axel/.pyenv/versions/3.8.12/envs/us8kdata/lib/python3.8/site-packages/librosa/util/decorators.py:88: UserWarning: Empty filters detected in mel frequency basis. Some channels will produce empty responses. Try increasing your sampling rate (and fmax) or reducing n_mels.\n",
      "  return f(*args, **kwargs)\n",
      "/Users/axel/.pyenv/versions/3.8.12/envs/us8kdata/lib/python3.8/site-packages/librosa/util/decorators.py:88: UserWarning: Empty filters detected in mel frequency basis. Some channels will produce empty responses. Try increasing your sampling rate (and fmax) or reducing n_mels.\n",
      "  return f(*args, **kwargs)\n"
     ]
    },
    {
     "name": "stdout",
     "output_type": "stream",
     "text": [
      "[CV] END estimator=XGBClassifier(base_score=None, booster=None, callbacks=None,\n",
      "              colsample_bylevel=None, colsample_bynode=None,\n",
      "              colsample_bytree=None, early_stopping_rounds=None,\n",
      "              enable_categorical=False, eval_metric=None, gamma=None,\n",
      "              gpu_id=None, grow_policy=None, importance_type=None,\n",
      "              interaction_constraints=None, learning_rate=0.025, max_bin=None,\n",
      "              max_cat_to_onehot=None, max_delta_step=None, max_depth=8,\n",
      "              max_leaves=None, min_child_weight=None, missing=nan,\n",
      "              monotone_constraints=None, n_estimators=400, n_jobs=None,\n",
      "              num_parallel_tree=None, objective='multi:softmax', predictor=None,\n",
      "              random_state=None, reg_alpha=None, ...), mean_mfcc__kw_args={'sr': 16000, 'n_mfcc': 13, 'n_fft': 256, 'hop_length': 128, 'fmin': 300.0, 'fmax': 4000.0}; total time=  41.8s\n"
     ]
    },
    {
     "name": "stderr",
     "output_type": "stream",
     "text": [
      "/Users/axel/.pyenv/versions/3.8.12/envs/us8kdata/lib/python3.8/site-packages/librosa/util/decorators.py:88: UserWarning: Empty filters detected in mel frequency basis. Some channels will produce empty responses. Try increasing your sampling rate (and fmax) or reducing n_mels.\n",
      "  return f(*args, **kwargs)\n",
      "/Users/axel/.pyenv/versions/3.8.12/envs/us8kdata/lib/python3.8/site-packages/librosa/util/decorators.py:88: UserWarning: Empty filters detected in mel frequency basis. Some channels will produce empty responses. Try increasing your sampling rate (and fmax) or reducing n_mels.\n",
      "  return f(*args, **kwargs)\n"
     ]
    },
    {
     "name": "stdout",
     "output_type": "stream",
     "text": [
      "[CV] END estimator=XGBClassifier(base_score=None, booster=None, callbacks=None,\n",
      "              colsample_bylevel=None, colsample_bynode=None,\n",
      "              colsample_bytree=None, early_stopping_rounds=None,\n",
      "              enable_categorical=False, eval_metric=None, gamma=None,\n",
      "              gpu_id=None, grow_policy=None, importance_type=None,\n",
      "              interaction_constraints=None, learning_rate=0.025, max_bin=None,\n",
      "              max_cat_to_onehot=None, max_delta_step=None, max_depth=8,\n",
      "              max_leaves=None, min_child_weight=None, missing=nan,\n",
      "              monotone_constraints=None, n_estimators=400, n_jobs=None,\n",
      "              num_parallel_tree=None, objective='multi:softmax', predictor=None,\n",
      "              random_state=None, reg_alpha=None, ...), mean_mfcc__kw_args={'sr': 16000, 'n_mfcc': 13, 'n_fft': 256, 'hop_length': 128, 'fmin': 300.0, 'fmax': 4000.0}; total time=  39.6s\n"
     ]
    },
    {
     "name": "stderr",
     "output_type": "stream",
     "text": [
      "/Users/axel/.pyenv/versions/3.8.12/envs/us8kdata/lib/python3.8/site-packages/librosa/util/decorators.py:88: UserWarning: Empty filters detected in mel frequency basis. Some channels will produce empty responses. Try increasing your sampling rate (and fmax) or reducing n_mels.\n",
      "  return f(*args, **kwargs)\n",
      "/Users/axel/.pyenv/versions/3.8.12/envs/us8kdata/lib/python3.8/site-packages/librosa/util/decorators.py:88: UserWarning: Empty filters detected in mel frequency basis. Some channels will produce empty responses. Try increasing your sampling rate (and fmax) or reducing n_mels.\n",
      "  return f(*args, **kwargs)\n"
     ]
    },
    {
     "name": "stdout",
     "output_type": "stream",
     "text": [
      "[CV] END estimator=XGBClassifier(base_score=None, booster=None, callbacks=None,\n",
      "              colsample_bylevel=None, colsample_bynode=None,\n",
      "              colsample_bytree=None, early_stopping_rounds=None,\n",
      "              enable_categorical=False, eval_metric=None, gamma=None,\n",
      "              gpu_id=None, grow_policy=None, importance_type=None,\n",
      "              interaction_constraints=None, learning_rate=0.025, max_bin=None,\n",
      "              max_cat_to_onehot=None, max_delta_step=None, max_depth=8,\n",
      "              max_leaves=None, min_child_weight=None, missing=nan,\n",
      "              monotone_constraints=None, n_estimators=400, n_jobs=None,\n",
      "              num_parallel_tree=None, objective='multi:softmax', predictor=None,\n",
      "              random_state=None, reg_alpha=None, ...), mean_mfcc__kw_args={'sr': 16000, 'n_mfcc': 13, 'n_fft': 256, 'hop_length': 128, 'fmin': 300.0, 'fmax': 5000.0}; total time=  42.0s\n"
     ]
    },
    {
     "name": "stderr",
     "output_type": "stream",
     "text": [
      "/Users/axel/.pyenv/versions/3.8.12/envs/us8kdata/lib/python3.8/site-packages/librosa/util/decorators.py:88: UserWarning: Empty filters detected in mel frequency basis. Some channels will produce empty responses. Try increasing your sampling rate (and fmax) or reducing n_mels.\n",
      "  return f(*args, **kwargs)\n",
      "/Users/axel/.pyenv/versions/3.8.12/envs/us8kdata/lib/python3.8/site-packages/librosa/util/decorators.py:88: UserWarning: Empty filters detected in mel frequency basis. Some channels will produce empty responses. Try increasing your sampling rate (and fmax) or reducing n_mels.\n",
      "  return f(*args, **kwargs)\n"
     ]
    },
    {
     "name": "stdout",
     "output_type": "stream",
     "text": [
      "[CV] END estimator=XGBClassifier(base_score=None, booster=None, callbacks=None,\n",
      "              colsample_bylevel=None, colsample_bynode=None,\n",
      "              colsample_bytree=None, early_stopping_rounds=None,\n",
      "              enable_categorical=False, eval_metric=None, gamma=None,\n",
      "              gpu_id=None, grow_policy=None, importance_type=None,\n",
      "              interaction_constraints=None, learning_rate=0.025, max_bin=None,\n",
      "              max_cat_to_onehot=None, max_delta_step=None, max_depth=8,\n",
      "              max_leaves=None, min_child_weight=None, missing=nan,\n",
      "              monotone_constraints=None, n_estimators=400, n_jobs=None,\n",
      "              num_parallel_tree=None, objective='multi:softmax', predictor=None,\n",
      "              random_state=None, reg_alpha=None, ...), mean_mfcc__kw_args={'sr': 16000, 'n_mfcc': 13, 'n_fft': 256, 'hop_length': 128, 'fmin': 300.0, 'fmax': 5000.0}; total time=  41.0s\n"
     ]
    },
    {
     "name": "stderr",
     "output_type": "stream",
     "text": [
      "/Users/axel/.pyenv/versions/3.8.12/envs/us8kdata/lib/python3.8/site-packages/librosa/util/decorators.py:88: UserWarning: Empty filters detected in mel frequency basis. Some channels will produce empty responses. Try increasing your sampling rate (and fmax) or reducing n_mels.\n",
      "  return f(*args, **kwargs)\n",
      "/Users/axel/.pyenv/versions/3.8.12/envs/us8kdata/lib/python3.8/site-packages/librosa/util/decorators.py:88: UserWarning: Empty filters detected in mel frequency basis. Some channels will produce empty responses. Try increasing your sampling rate (and fmax) or reducing n_mels.\n",
      "  return f(*args, **kwargs)\n"
     ]
    },
    {
     "name": "stdout",
     "output_type": "stream",
     "text": [
      "[CV] END estimator=XGBClassifier(base_score=None, booster=None, callbacks=None,\n",
      "              colsample_bylevel=None, colsample_bynode=None,\n",
      "              colsample_bytree=None, early_stopping_rounds=None,\n",
      "              enable_categorical=False, eval_metric=None, gamma=None,\n",
      "              gpu_id=None, grow_policy=None, importance_type=None,\n",
      "              interaction_constraints=None, learning_rate=0.025, max_bin=None,\n",
      "              max_cat_to_onehot=None, max_delta_step=None, max_depth=8,\n",
      "              max_leaves=None, min_child_weight=None, missing=nan,\n",
      "              monotone_constraints=None, n_estimators=400, n_jobs=None,\n",
      "              num_parallel_tree=None, objective='multi:softmax', predictor=None,\n",
      "              random_state=None, reg_alpha=None, ...), mean_mfcc__kw_args={'sr': 16000, 'n_mfcc': 13, 'n_fft': 256, 'hop_length': 128, 'fmin': 500.0, 'fmax': None}; total time=  43.3s\n"
     ]
    },
    {
     "name": "stderr",
     "output_type": "stream",
     "text": [
      "/Users/axel/.pyenv/versions/3.8.12/envs/us8kdata/lib/python3.8/site-packages/librosa/util/decorators.py:88: UserWarning: Empty filters detected in mel frequency basis. Some channels will produce empty responses. Try increasing your sampling rate (and fmax) or reducing n_mels.\n",
      "  return f(*args, **kwargs)\n",
      "/Users/axel/.pyenv/versions/3.8.12/envs/us8kdata/lib/python3.8/site-packages/librosa/util/decorators.py:88: UserWarning: Empty filters detected in mel frequency basis. Some channels will produce empty responses. Try increasing your sampling rate (and fmax) or reducing n_mels.\n",
      "  return f(*args, **kwargs)\n"
     ]
    },
    {
     "name": "stdout",
     "output_type": "stream",
     "text": [
      "[CV] END estimator=XGBClassifier(base_score=None, booster=None, callbacks=None,\n",
      "              colsample_bylevel=None, colsample_bynode=None,\n",
      "              colsample_bytree=None, early_stopping_rounds=None,\n",
      "              enable_categorical=False, eval_metric=None, gamma=None,\n",
      "              gpu_id=None, grow_policy=None, importance_type=None,\n",
      "              interaction_constraints=None, learning_rate=0.025, max_bin=None,\n",
      "              max_cat_to_onehot=None, max_delta_step=None, max_depth=8,\n",
      "              max_leaves=None, min_child_weight=None, missing=nan,\n",
      "              monotone_constraints=None, n_estimators=400, n_jobs=None,\n",
      "              num_parallel_tree=None, objective='multi:softmax', predictor=None,\n",
      "              random_state=None, reg_alpha=None, ...), mean_mfcc__kw_args={'sr': 16000, 'n_mfcc': 13, 'n_fft': 256, 'hop_length': 128, 'fmin': 500.0, 'fmax': None}; total time=  41.9s\n"
     ]
    },
    {
     "name": "stderr",
     "output_type": "stream",
     "text": [
      "/Users/axel/.pyenv/versions/3.8.12/envs/us8kdata/lib/python3.8/site-packages/librosa/util/decorators.py:88: UserWarning: Empty filters detected in mel frequency basis. Some channels will produce empty responses. Try increasing your sampling rate (and fmax) or reducing n_mels.\n",
      "  return f(*args, **kwargs)\n",
      "/Users/axel/.pyenv/versions/3.8.12/envs/us8kdata/lib/python3.8/site-packages/librosa/util/decorators.py:88: UserWarning: Empty filters detected in mel frequency basis. Some channels will produce empty responses. Try increasing your sampling rate (and fmax) or reducing n_mels.\n",
      "  return f(*args, **kwargs)\n"
     ]
    },
    {
     "name": "stdout",
     "output_type": "stream",
     "text": [
      "[CV] END estimator=XGBClassifier(base_score=None, booster=None, callbacks=None,\n",
      "              colsample_bylevel=None, colsample_bynode=None,\n",
      "              colsample_bytree=None, early_stopping_rounds=None,\n",
      "              enable_categorical=False, eval_metric=None, gamma=None,\n",
      "              gpu_id=None, grow_policy=None, importance_type=None,\n",
      "              interaction_constraints=None, learning_rate=0.025, max_bin=None,\n",
      "              max_cat_to_onehot=None, max_delta_step=None, max_depth=8,\n",
      "              max_leaves=None, min_child_weight=None, missing=nan,\n",
      "              monotone_constraints=None, n_estimators=400, n_jobs=None,\n",
      "              num_parallel_tree=None, objective='multi:softmax', predictor=None,\n",
      "              random_state=None, reg_alpha=None, ...), mean_mfcc__kw_args={'sr': 16000, 'n_mfcc': 13, 'n_fft': 256, 'hop_length': 128, 'fmin': 500.0, 'fmax': 3000.0}; total time=  42.0s\n"
     ]
    },
    {
     "name": "stderr",
     "output_type": "stream",
     "text": [
      "/Users/axel/.pyenv/versions/3.8.12/envs/us8kdata/lib/python3.8/site-packages/librosa/util/decorators.py:88: UserWarning: Empty filters detected in mel frequency basis. Some channels will produce empty responses. Try increasing your sampling rate (and fmax) or reducing n_mels.\n",
      "  return f(*args, **kwargs)\n",
      "/Users/axel/.pyenv/versions/3.8.12/envs/us8kdata/lib/python3.8/site-packages/librosa/util/decorators.py:88: UserWarning: Empty filters detected in mel frequency basis. Some channels will produce empty responses. Try increasing your sampling rate (and fmax) or reducing n_mels.\n",
      "  return f(*args, **kwargs)\n"
     ]
    },
    {
     "name": "stdout",
     "output_type": "stream",
     "text": [
      "[CV] END estimator=XGBClassifier(base_score=None, booster=None, callbacks=None,\n",
      "              colsample_bylevel=None, colsample_bynode=None,\n",
      "              colsample_bytree=None, early_stopping_rounds=None,\n",
      "              enable_categorical=False, eval_metric=None, gamma=None,\n",
      "              gpu_id=None, grow_policy=None, importance_type=None,\n",
      "              interaction_constraints=None, learning_rate=0.025, max_bin=None,\n",
      "              max_cat_to_onehot=None, max_delta_step=None, max_depth=8,\n",
      "              max_leaves=None, min_child_weight=None, missing=nan,\n",
      "              monotone_constraints=None, n_estimators=400, n_jobs=None,\n",
      "              num_parallel_tree=None, objective='multi:softmax', predictor=None,\n",
      "              random_state=None, reg_alpha=None, ...), mean_mfcc__kw_args={'sr': 16000, 'n_mfcc': 13, 'n_fft': 256, 'hop_length': 128, 'fmin': 500.0, 'fmax': 3000.0}; total time=  43.4s\n"
     ]
    },
    {
     "name": "stderr",
     "output_type": "stream",
     "text": [
      "/Users/axel/.pyenv/versions/3.8.12/envs/us8kdata/lib/python3.8/site-packages/librosa/util/decorators.py:88: UserWarning: Empty filters detected in mel frequency basis. Some channels will produce empty responses. Try increasing your sampling rate (and fmax) or reducing n_mels.\n",
      "  return f(*args, **kwargs)\n",
      "/Users/axel/.pyenv/versions/3.8.12/envs/us8kdata/lib/python3.8/site-packages/librosa/util/decorators.py:88: UserWarning: Empty filters detected in mel frequency basis. Some channels will produce empty responses. Try increasing your sampling rate (and fmax) or reducing n_mels.\n",
      "  return f(*args, **kwargs)\n"
     ]
    },
    {
     "name": "stdout",
     "output_type": "stream",
     "text": [
      "[CV] END estimator=XGBClassifier(base_score=None, booster=None, callbacks=None,\n",
      "              colsample_bylevel=None, colsample_bynode=None,\n",
      "              colsample_bytree=None, early_stopping_rounds=None,\n",
      "              enable_categorical=False, eval_metric=None, gamma=None,\n",
      "              gpu_id=None, grow_policy=None, importance_type=None,\n",
      "              interaction_constraints=None, learning_rate=0.025, max_bin=None,\n",
      "              max_cat_to_onehot=None, max_delta_step=None, max_depth=8,\n",
      "              max_leaves=None, min_child_weight=None, missing=nan,\n",
      "              monotone_constraints=None, n_estimators=400, n_jobs=None,\n",
      "              num_parallel_tree=None, objective='multi:softmax', predictor=None,\n",
      "              random_state=None, reg_alpha=None, ...), mean_mfcc__kw_args={'sr': 16000, 'n_mfcc': 13, 'n_fft': 256, 'hop_length': 128, 'fmin': 500.0, 'fmax': 4000.0}; total time=  41.5s\n"
     ]
    },
    {
     "name": "stderr",
     "output_type": "stream",
     "text": [
      "/Users/axel/.pyenv/versions/3.8.12/envs/us8kdata/lib/python3.8/site-packages/librosa/util/decorators.py:88: UserWarning: Empty filters detected in mel frequency basis. Some channels will produce empty responses. Try increasing your sampling rate (and fmax) or reducing n_mels.\n",
      "  return f(*args, **kwargs)\n",
      "/Users/axel/.pyenv/versions/3.8.12/envs/us8kdata/lib/python3.8/site-packages/librosa/util/decorators.py:88: UserWarning: Empty filters detected in mel frequency basis. Some channels will produce empty responses. Try increasing your sampling rate (and fmax) or reducing n_mels.\n",
      "  return f(*args, **kwargs)\n"
     ]
    },
    {
     "name": "stdout",
     "output_type": "stream",
     "text": [
      "[CV] END estimator=XGBClassifier(base_score=None, booster=None, callbacks=None,\n",
      "              colsample_bylevel=None, colsample_bynode=None,\n",
      "              colsample_bytree=None, early_stopping_rounds=None,\n",
      "              enable_categorical=False, eval_metric=None, gamma=None,\n",
      "              gpu_id=None, grow_policy=None, importance_type=None,\n",
      "              interaction_constraints=None, learning_rate=0.025, max_bin=None,\n",
      "              max_cat_to_onehot=None, max_delta_step=None, max_depth=8,\n",
      "              max_leaves=None, min_child_weight=None, missing=nan,\n",
      "              monotone_constraints=None, n_estimators=400, n_jobs=None,\n",
      "              num_parallel_tree=None, objective='multi:softmax', predictor=None,\n",
      "              random_state=None, reg_alpha=None, ...), mean_mfcc__kw_args={'sr': 16000, 'n_mfcc': 13, 'n_fft': 256, 'hop_length': 128, 'fmin': 500.0, 'fmax': 4000.0}; total time=  39.4s\n"
     ]
    },
    {
     "name": "stderr",
     "output_type": "stream",
     "text": [
      "/Users/axel/.pyenv/versions/3.8.12/envs/us8kdata/lib/python3.8/site-packages/librosa/util/decorators.py:88: UserWarning: Empty filters detected in mel frequency basis. Some channels will produce empty responses. Try increasing your sampling rate (and fmax) or reducing n_mels.\n",
      "  return f(*args, **kwargs)\n",
      "/Users/axel/.pyenv/versions/3.8.12/envs/us8kdata/lib/python3.8/site-packages/librosa/util/decorators.py:88: UserWarning: Empty filters detected in mel frequency basis. Some channels will produce empty responses. Try increasing your sampling rate (and fmax) or reducing n_mels.\n",
      "  return f(*args, **kwargs)\n"
     ]
    },
    {
     "name": "stdout",
     "output_type": "stream",
     "text": [
      "[CV] END estimator=XGBClassifier(base_score=None, booster=None, callbacks=None,\n",
      "              colsample_bylevel=None, colsample_bynode=None,\n",
      "              colsample_bytree=None, early_stopping_rounds=None,\n",
      "              enable_categorical=False, eval_metric=None, gamma=None,\n",
      "              gpu_id=None, grow_policy=None, importance_type=None,\n",
      "              interaction_constraints=None, learning_rate=0.025, max_bin=None,\n",
      "              max_cat_to_onehot=None, max_delta_step=None, max_depth=8,\n",
      "              max_leaves=None, min_child_weight=None, missing=nan,\n",
      "              monotone_constraints=None, n_estimators=400, n_jobs=None,\n",
      "              num_parallel_tree=None, objective='multi:softmax', predictor=None,\n",
      "              random_state=None, reg_alpha=None, ...), mean_mfcc__kw_args={'sr': 16000, 'n_mfcc': 13, 'n_fft': 256, 'hop_length': 128, 'fmin': 500.0, 'fmax': 5000.0}; total time=  41.0s\n"
     ]
    },
    {
     "name": "stderr",
     "output_type": "stream",
     "text": [
      "/Users/axel/.pyenv/versions/3.8.12/envs/us8kdata/lib/python3.8/site-packages/librosa/util/decorators.py:88: UserWarning: Empty filters detected in mel frequency basis. Some channels will produce empty responses. Try increasing your sampling rate (and fmax) or reducing n_mels.\n",
      "  return f(*args, **kwargs)\n",
      "/Users/axel/.pyenv/versions/3.8.12/envs/us8kdata/lib/python3.8/site-packages/librosa/util/decorators.py:88: UserWarning: Empty filters detected in mel frequency basis. Some channels will produce empty responses. Try increasing your sampling rate (and fmax) or reducing n_mels.\n",
      "  return f(*args, **kwargs)\n"
     ]
    },
    {
     "name": "stdout",
     "output_type": "stream",
     "text": [
      "[CV] END estimator=XGBClassifier(base_score=None, booster=None, callbacks=None,\n",
      "              colsample_bylevel=None, colsample_bynode=None,\n",
      "              colsample_bytree=None, early_stopping_rounds=None,\n",
      "              enable_categorical=False, eval_metric=None, gamma=None,\n",
      "              gpu_id=None, grow_policy=None, importance_type=None,\n",
      "              interaction_constraints=None, learning_rate=0.025, max_bin=None,\n",
      "              max_cat_to_onehot=None, max_delta_step=None, max_depth=8,\n",
      "              max_leaves=None, min_child_weight=None, missing=nan,\n",
      "              monotone_constraints=None, n_estimators=400, n_jobs=None,\n",
      "              num_parallel_tree=None, objective='multi:softmax', predictor=None,\n",
      "              random_state=None, reg_alpha=None, ...), mean_mfcc__kw_args={'sr': 16000, 'n_mfcc': 13, 'n_fft': 256, 'hop_length': 128, 'fmin': 500.0, 'fmax': 5000.0}; total time=  39.9s\n",
      "[CV] END estimator=XGBClassifier(base_score=None, booster=None, callbacks=None,\n",
      "              colsample_bylevel=None, colsample_bynode=None,\n",
      "              colsample_bytree=None, early_stopping_rounds=None,\n",
      "              enable_categorical=False, eval_metric=None, gamma=None,\n",
      "              gpu_id=None, grow_policy=None, importance_type=None,\n",
      "              interaction_constraints=None, learning_rate=0.025, max_bin=None,\n",
      "              max_cat_to_onehot=None, max_delta_step=None, max_depth=8,\n",
      "              max_leaves=None, min_child_weight=None, missing=nan,\n",
      "              monotone_constraints=None, n_estimators=400, n_jobs=None,\n",
      "              num_parallel_tree=None, objective='multi:softmax', predictor=None,\n",
      "              random_state=None, reg_alpha=None, ...), mean_mfcc__kw_args={'sr': 16000, 'n_mfcc': 13, 'n_fft': 512, 'hop_length': 128, 'fmin': 0.0, 'fmax': None}; total time=  52.3s\n",
      "[CV] END estimator=XGBClassifier(base_score=None, booster=None, callbacks=None,\n",
      "              colsample_bylevel=None, colsample_bynode=None,\n",
      "              colsample_bytree=None, early_stopping_rounds=None,\n",
      "              enable_categorical=False, eval_metric=None, gamma=None,\n",
      "              gpu_id=None, grow_policy=None, importance_type=None,\n",
      "              interaction_constraints=None, learning_rate=0.025, max_bin=None,\n",
      "              max_cat_to_onehot=None, max_delta_step=None, max_depth=8,\n",
      "              max_leaves=None, min_child_weight=None, missing=nan,\n",
      "              monotone_constraints=None, n_estimators=400, n_jobs=None,\n",
      "              num_parallel_tree=None, objective='multi:softmax', predictor=None,\n",
      "              random_state=None, reg_alpha=None, ...), mean_mfcc__kw_args={'sr': 16000, 'n_mfcc': 13, 'n_fft': 512, 'hop_length': 128, 'fmin': 0.0, 'fmax': None}; total time=  51.1s\n",
      "[CV] END estimator=XGBClassifier(base_score=None, booster=None, callbacks=None,\n",
      "              colsample_bylevel=None, colsample_bynode=None,\n",
      "              colsample_bytree=None, early_stopping_rounds=None,\n",
      "              enable_categorical=False, eval_metric=None, gamma=None,\n",
      "              gpu_id=None, grow_policy=None, importance_type=None,\n",
      "              interaction_constraints=None, learning_rate=0.025, max_bin=None,\n",
      "              max_cat_to_onehot=None, max_delta_step=None, max_depth=8,\n",
      "              max_leaves=None, min_child_weight=None, missing=nan,\n",
      "              monotone_constraints=None, n_estimators=400, n_jobs=None,\n",
      "              num_parallel_tree=None, objective='multi:softmax', predictor=None,\n",
      "              random_state=None, reg_alpha=None, ...), mean_mfcc__kw_args={'sr': 16000, 'n_mfcc': 13, 'n_fft': 512, 'hop_length': 128, 'fmin': 0.0, 'fmax': 3000.0}; total time=  49.7s\n",
      "[CV] END estimator=XGBClassifier(base_score=None, booster=None, callbacks=None,\n",
      "              colsample_bylevel=None, colsample_bynode=None,\n",
      "              colsample_bytree=None, early_stopping_rounds=None,\n",
      "              enable_categorical=False, eval_metric=None, gamma=None,\n",
      "              gpu_id=None, grow_policy=None, importance_type=None,\n",
      "              interaction_constraints=None, learning_rate=0.025, max_bin=None,\n",
      "              max_cat_to_onehot=None, max_delta_step=None, max_depth=8,\n",
      "              max_leaves=None, min_child_weight=None, missing=nan,\n",
      "              monotone_constraints=None, n_estimators=400, n_jobs=None,\n",
      "              num_parallel_tree=None, objective='multi:softmax', predictor=None,\n",
      "              random_state=None, reg_alpha=None, ...), mean_mfcc__kw_args={'sr': 16000, 'n_mfcc': 13, 'n_fft': 512, 'hop_length': 128, 'fmin': 0.0, 'fmax': 3000.0}; total time=  51.0s\n",
      "[CV] END estimator=XGBClassifier(base_score=None, booster=None, callbacks=None,\n",
      "              colsample_bylevel=None, colsample_bynode=None,\n",
      "              colsample_bytree=None, early_stopping_rounds=None,\n",
      "              enable_categorical=False, eval_metric=None, gamma=None,\n",
      "              gpu_id=None, grow_policy=None, importance_type=None,\n",
      "              interaction_constraints=None, learning_rate=0.025, max_bin=None,\n",
      "              max_cat_to_onehot=None, max_delta_step=None, max_depth=8,\n",
      "              max_leaves=None, min_child_weight=None, missing=nan,\n",
      "              monotone_constraints=None, n_estimators=400, n_jobs=None,\n",
      "              num_parallel_tree=None, objective='multi:softmax', predictor=None,\n",
      "              random_state=None, reg_alpha=None, ...), mean_mfcc__kw_args={'sr': 16000, 'n_mfcc': 13, 'n_fft': 512, 'hop_length': 128, 'fmin': 0.0, 'fmax': 4000.0}; total time=  50.3s\n",
      "[CV] END estimator=XGBClassifier(base_score=None, booster=None, callbacks=None,\n",
      "              colsample_bylevel=None, colsample_bynode=None,\n",
      "              colsample_bytree=None, early_stopping_rounds=None,\n",
      "              enable_categorical=False, eval_metric=None, gamma=None,\n",
      "              gpu_id=None, grow_policy=None, importance_type=None,\n",
      "              interaction_constraints=None, learning_rate=0.025, max_bin=None,\n",
      "              max_cat_to_onehot=None, max_delta_step=None, max_depth=8,\n",
      "              max_leaves=None, min_child_weight=None, missing=nan,\n",
      "              monotone_constraints=None, n_estimators=400, n_jobs=None,\n",
      "              num_parallel_tree=None, objective='multi:softmax', predictor=None,\n",
      "              random_state=None, reg_alpha=None, ...), mean_mfcc__kw_args={'sr': 16000, 'n_mfcc': 13, 'n_fft': 512, 'hop_length': 128, 'fmin': 0.0, 'fmax': 4000.0}; total time=  52.7s\n",
      "[CV] END estimator=XGBClassifier(base_score=None, booster=None, callbacks=None,\n",
      "              colsample_bylevel=None, colsample_bynode=None,\n",
      "              colsample_bytree=None, early_stopping_rounds=None,\n",
      "              enable_categorical=False, eval_metric=None, gamma=None,\n",
      "              gpu_id=None, grow_policy=None, importance_type=None,\n",
      "              interaction_constraints=None, learning_rate=0.025, max_bin=None,\n",
      "              max_cat_to_onehot=None, max_delta_step=None, max_depth=8,\n",
      "              max_leaves=None, min_child_weight=None, missing=nan,\n",
      "              monotone_constraints=None, n_estimators=400, n_jobs=None,\n",
      "              num_parallel_tree=None, objective='multi:softmax', predictor=None,\n",
      "              random_state=None, reg_alpha=None, ...), mean_mfcc__kw_args={'sr': 16000, 'n_mfcc': 13, 'n_fft': 512, 'hop_length': 128, 'fmin': 0.0, 'fmax': 5000.0}; total time=  51.9s\n",
      "[CV] END estimator=XGBClassifier(base_score=None, booster=None, callbacks=None,\n",
      "              colsample_bylevel=None, colsample_bynode=None,\n",
      "              colsample_bytree=None, early_stopping_rounds=None,\n",
      "              enable_categorical=False, eval_metric=None, gamma=None,\n",
      "              gpu_id=None, grow_policy=None, importance_type=None,\n",
      "              interaction_constraints=None, learning_rate=0.025, max_bin=None,\n",
      "              max_cat_to_onehot=None, max_delta_step=None, max_depth=8,\n",
      "              max_leaves=None, min_child_weight=None, missing=nan,\n",
      "              monotone_constraints=None, n_estimators=400, n_jobs=None,\n",
      "              num_parallel_tree=None, objective='multi:softmax', predictor=None,\n",
      "              random_state=None, reg_alpha=None, ...), mean_mfcc__kw_args={'sr': 16000, 'n_mfcc': 13, 'n_fft': 512, 'hop_length': 128, 'fmin': 0.0, 'fmax': 5000.0}; total time=  51.1s\n",
      "[CV] END estimator=XGBClassifier(base_score=None, booster=None, callbacks=None,\n",
      "              colsample_bylevel=None, colsample_bynode=None,\n",
      "              colsample_bytree=None, early_stopping_rounds=None,\n",
      "              enable_categorical=False, eval_metric=None, gamma=None,\n",
      "              gpu_id=None, grow_policy=None, importance_type=None,\n",
      "              interaction_constraints=None, learning_rate=0.025, max_bin=None,\n",
      "              max_cat_to_onehot=None, max_delta_step=None, max_depth=8,\n",
      "              max_leaves=None, min_child_weight=None, missing=nan,\n",
      "              monotone_constraints=None, n_estimators=400, n_jobs=None,\n",
      "              num_parallel_tree=None, objective='multi:softmax', predictor=None,\n",
      "              random_state=None, reg_alpha=None, ...), mean_mfcc__kw_args={'sr': 16000, 'n_mfcc': 13, 'n_fft': 512, 'hop_length': 128, 'fmin': 300.0, 'fmax': None}; total time=  51.9s\n"
     ]
    },
    {
     "name": "stdout",
     "output_type": "stream",
     "text": [
      "[CV] END estimator=XGBClassifier(base_score=None, booster=None, callbacks=None,\n",
      "              colsample_bylevel=None, colsample_bynode=None,\n",
      "              colsample_bytree=None, early_stopping_rounds=None,\n",
      "              enable_categorical=False, eval_metric=None, gamma=None,\n",
      "              gpu_id=None, grow_policy=None, importance_type=None,\n",
      "              interaction_constraints=None, learning_rate=0.025, max_bin=None,\n",
      "              max_cat_to_onehot=None, max_delta_step=None, max_depth=8,\n",
      "              max_leaves=None, min_child_weight=None, missing=nan,\n",
      "              monotone_constraints=None, n_estimators=400, n_jobs=None,\n",
      "              num_parallel_tree=None, objective='multi:softmax', predictor=None,\n",
      "              random_state=None, reg_alpha=None, ...), mean_mfcc__kw_args={'sr': 16000, 'n_mfcc': 13, 'n_fft': 512, 'hop_length': 128, 'fmin': 300.0, 'fmax': None}; total time=  49.7s\n",
      "[CV] END estimator=XGBClassifier(base_score=None, booster=None, callbacks=None,\n",
      "              colsample_bylevel=None, colsample_bynode=None,\n",
      "              colsample_bytree=None, early_stopping_rounds=None,\n",
      "              enable_categorical=False, eval_metric=None, gamma=None,\n",
      "              gpu_id=None, grow_policy=None, importance_type=None,\n",
      "              interaction_constraints=None, learning_rate=0.025, max_bin=None,\n",
      "              max_cat_to_onehot=None, max_delta_step=None, max_depth=8,\n",
      "              max_leaves=None, min_child_weight=None, missing=nan,\n",
      "              monotone_constraints=None, n_estimators=400, n_jobs=None,\n",
      "              num_parallel_tree=None, objective='multi:softmax', predictor=None,\n",
      "              random_state=None, reg_alpha=None, ...), mean_mfcc__kw_args={'sr': 16000, 'n_mfcc': 13, 'n_fft': 512, 'hop_length': 128, 'fmin': 300.0, 'fmax': 3000.0}; total time=  52.2s\n",
      "[CV] END estimator=XGBClassifier(base_score=None, booster=None, callbacks=None,\n",
      "              colsample_bylevel=None, colsample_bynode=None,\n",
      "              colsample_bytree=None, early_stopping_rounds=None,\n",
      "              enable_categorical=False, eval_metric=None, gamma=None,\n",
      "              gpu_id=None, grow_policy=None, importance_type=None,\n",
      "              interaction_constraints=None, learning_rate=0.025, max_bin=None,\n",
      "              max_cat_to_onehot=None, max_delta_step=None, max_depth=8,\n",
      "              max_leaves=None, min_child_weight=None, missing=nan,\n",
      "              monotone_constraints=None, n_estimators=400, n_jobs=None,\n",
      "              num_parallel_tree=None, objective='multi:softmax', predictor=None,\n",
      "              random_state=None, reg_alpha=None, ...), mean_mfcc__kw_args={'sr': 16000, 'n_mfcc': 13, 'n_fft': 512, 'hop_length': 128, 'fmin': 300.0, 'fmax': 3000.0}; total time=  49.0s\n",
      "[CV] END estimator=XGBClassifier(base_score=None, booster=None, callbacks=None,\n",
      "              colsample_bylevel=None, colsample_bynode=None,\n",
      "              colsample_bytree=None, early_stopping_rounds=None,\n",
      "              enable_categorical=False, eval_metric=None, gamma=None,\n",
      "              gpu_id=None, grow_policy=None, importance_type=None,\n",
      "              interaction_constraints=None, learning_rate=0.025, max_bin=None,\n",
      "              max_cat_to_onehot=None, max_delta_step=None, max_depth=8,\n",
      "              max_leaves=None, min_child_weight=None, missing=nan,\n",
      "              monotone_constraints=None, n_estimators=400, n_jobs=None,\n",
      "              num_parallel_tree=None, objective='multi:softmax', predictor=None,\n",
      "              random_state=None, reg_alpha=None, ...), mean_mfcc__kw_args={'sr': 16000, 'n_mfcc': 13, 'n_fft': 512, 'hop_length': 128, 'fmin': 300.0, 'fmax': 4000.0}; total time=  52.6s\n",
      "[CV] END estimator=XGBClassifier(base_score=None, booster=None, callbacks=None,\n",
      "              colsample_bylevel=None, colsample_bynode=None,\n",
      "              colsample_bytree=None, early_stopping_rounds=None,\n",
      "              enable_categorical=False, eval_metric=None, gamma=None,\n",
      "              gpu_id=None, grow_policy=None, importance_type=None,\n",
      "              interaction_constraints=None, learning_rate=0.025, max_bin=None,\n",
      "              max_cat_to_onehot=None, max_delta_step=None, max_depth=8,\n",
      "              max_leaves=None, min_child_weight=None, missing=nan,\n",
      "              monotone_constraints=None, n_estimators=400, n_jobs=None,\n",
      "              num_parallel_tree=None, objective='multi:softmax', predictor=None,\n",
      "              random_state=None, reg_alpha=None, ...), mean_mfcc__kw_args={'sr': 16000, 'n_mfcc': 13, 'n_fft': 512, 'hop_length': 128, 'fmin': 300.0, 'fmax': 4000.0}; total time=  49.5s\n",
      "[CV] END estimator=XGBClassifier(base_score=None, booster=None, callbacks=None,\n",
      "              colsample_bylevel=None, colsample_bynode=None,\n",
      "              colsample_bytree=None, early_stopping_rounds=None,\n",
      "              enable_categorical=False, eval_metric=None, gamma=None,\n",
      "              gpu_id=None, grow_policy=None, importance_type=None,\n",
      "              interaction_constraints=None, learning_rate=0.025, max_bin=None,\n",
      "              max_cat_to_onehot=None, max_delta_step=None, max_depth=8,\n",
      "              max_leaves=None, min_child_weight=None, missing=nan,\n",
      "              monotone_constraints=None, n_estimators=400, n_jobs=None,\n",
      "              num_parallel_tree=None, objective='multi:softmax', predictor=None,\n",
      "              random_state=None, reg_alpha=None, ...), mean_mfcc__kw_args={'sr': 16000, 'n_mfcc': 13, 'n_fft': 512, 'hop_length': 128, 'fmin': 300.0, 'fmax': 5000.0}; total time=  52.0s\n",
      "[CV] END estimator=XGBClassifier(base_score=None, booster=None, callbacks=None,\n",
      "              colsample_bylevel=None, colsample_bynode=None,\n",
      "              colsample_bytree=None, early_stopping_rounds=None,\n",
      "              enable_categorical=False, eval_metric=None, gamma=None,\n",
      "              gpu_id=None, grow_policy=None, importance_type=None,\n",
      "              interaction_constraints=None, learning_rate=0.025, max_bin=None,\n",
      "              max_cat_to_onehot=None, max_delta_step=None, max_depth=8,\n",
      "              max_leaves=None, min_child_weight=None, missing=nan,\n",
      "              monotone_constraints=None, n_estimators=400, n_jobs=None,\n",
      "              num_parallel_tree=None, objective='multi:softmax', predictor=None,\n",
      "              random_state=None, reg_alpha=None, ...), mean_mfcc__kw_args={'sr': 16000, 'n_mfcc': 13, 'n_fft': 512, 'hop_length': 128, 'fmin': 300.0, 'fmax': 5000.0}; total time=  49.6s\n",
      "[CV] END estimator=XGBClassifier(base_score=None, booster=None, callbacks=None,\n",
      "              colsample_bylevel=None, colsample_bynode=None,\n",
      "              colsample_bytree=None, early_stopping_rounds=None,\n",
      "              enable_categorical=False, eval_metric=None, gamma=None,\n",
      "              gpu_id=None, grow_policy=None, importance_type=None,\n",
      "              interaction_constraints=None, learning_rate=0.025, max_bin=None,\n",
      "              max_cat_to_onehot=None, max_delta_step=None, max_depth=8,\n",
      "              max_leaves=None, min_child_weight=None, missing=nan,\n",
      "              monotone_constraints=None, n_estimators=400, n_jobs=None,\n",
      "              num_parallel_tree=None, objective='multi:softmax', predictor=None,\n",
      "              random_state=None, reg_alpha=None, ...), mean_mfcc__kw_args={'sr': 16000, 'n_mfcc': 13, 'n_fft': 512, 'hop_length': 128, 'fmin': 500.0, 'fmax': None}; total time=  54.3s\n",
      "[CV] END estimator=XGBClassifier(base_score=None, booster=None, callbacks=None,\n",
      "              colsample_bylevel=None, colsample_bynode=None,\n",
      "              colsample_bytree=None, early_stopping_rounds=None,\n",
      "              enable_categorical=False, eval_metric=None, gamma=None,\n",
      "              gpu_id=None, grow_policy=None, importance_type=None,\n",
      "              interaction_constraints=None, learning_rate=0.025, max_bin=None,\n",
      "              max_cat_to_onehot=None, max_delta_step=None, max_depth=8,\n",
      "              max_leaves=None, min_child_weight=None, missing=nan,\n",
      "              monotone_constraints=None, n_estimators=400, n_jobs=None,\n",
      "              num_parallel_tree=None, objective='multi:softmax', predictor=None,\n",
      "              random_state=None, reg_alpha=None, ...), mean_mfcc__kw_args={'sr': 16000, 'n_mfcc': 13, 'n_fft': 512, 'hop_length': 128, 'fmin': 500.0, 'fmax': None}; total time=  50.9s\n",
      "[CV] END estimator=XGBClassifier(base_score=None, booster=None, callbacks=None,\n",
      "              colsample_bylevel=None, colsample_bynode=None,\n",
      "              colsample_bytree=None, early_stopping_rounds=None,\n",
      "              enable_categorical=False, eval_metric=None, gamma=None,\n",
      "              gpu_id=None, grow_policy=None, importance_type=None,\n",
      "              interaction_constraints=None, learning_rate=0.025, max_bin=None,\n",
      "              max_cat_to_onehot=None, max_delta_step=None, max_depth=8,\n",
      "              max_leaves=None, min_child_weight=None, missing=nan,\n",
      "              monotone_constraints=None, n_estimators=400, n_jobs=None,\n",
      "              num_parallel_tree=None, objective='multi:softmax', predictor=None,\n",
      "              random_state=None, reg_alpha=None, ...), mean_mfcc__kw_args={'sr': 16000, 'n_mfcc': 13, 'n_fft': 512, 'hop_length': 128, 'fmin': 500.0, 'fmax': 3000.0}; total time=  50.1s\n"
     ]
    },
    {
     "name": "stdout",
     "output_type": "stream",
     "text": [
      "[CV] END estimator=XGBClassifier(base_score=None, booster=None, callbacks=None,\n",
      "              colsample_bylevel=None, colsample_bynode=None,\n",
      "              colsample_bytree=None, early_stopping_rounds=None,\n",
      "              enable_categorical=False, eval_metric=None, gamma=None,\n",
      "              gpu_id=None, grow_policy=None, importance_type=None,\n",
      "              interaction_constraints=None, learning_rate=0.025, max_bin=None,\n",
      "              max_cat_to_onehot=None, max_delta_step=None, max_depth=8,\n",
      "              max_leaves=None, min_child_weight=None, missing=nan,\n",
      "              monotone_constraints=None, n_estimators=400, n_jobs=None,\n",
      "              num_parallel_tree=None, objective='multi:softmax', predictor=None,\n",
      "              random_state=None, reg_alpha=None, ...), mean_mfcc__kw_args={'sr': 16000, 'n_mfcc': 13, 'n_fft': 512, 'hop_length': 128, 'fmin': 500.0, 'fmax': 3000.0}; total time=  49.7s\n",
      "[CV] END estimator=XGBClassifier(base_score=None, booster=None, callbacks=None,\n",
      "              colsample_bylevel=None, colsample_bynode=None,\n",
      "              colsample_bytree=None, early_stopping_rounds=None,\n",
      "              enable_categorical=False, eval_metric=None, gamma=None,\n",
      "              gpu_id=None, grow_policy=None, importance_type=None,\n",
      "              interaction_constraints=None, learning_rate=0.025, max_bin=None,\n",
      "              max_cat_to_onehot=None, max_delta_step=None, max_depth=8,\n",
      "              max_leaves=None, min_child_weight=None, missing=nan,\n",
      "              monotone_constraints=None, n_estimators=400, n_jobs=None,\n",
      "              num_parallel_tree=None, objective='multi:softmax', predictor=None,\n",
      "              random_state=None, reg_alpha=None, ...), mean_mfcc__kw_args={'sr': 16000, 'n_mfcc': 13, 'n_fft': 512, 'hop_length': 128, 'fmin': 500.0, 'fmax': 4000.0}; total time=  52.0s\n",
      "[CV] END estimator=XGBClassifier(base_score=None, booster=None, callbacks=None,\n",
      "              colsample_bylevel=None, colsample_bynode=None,\n",
      "              colsample_bytree=None, early_stopping_rounds=None,\n",
      "              enable_categorical=False, eval_metric=None, gamma=None,\n",
      "              gpu_id=None, grow_policy=None, importance_type=None,\n",
      "              interaction_constraints=None, learning_rate=0.025, max_bin=None,\n",
      "              max_cat_to_onehot=None, max_delta_step=None, max_depth=8,\n",
      "              max_leaves=None, min_child_weight=None, missing=nan,\n",
      "              monotone_constraints=None, n_estimators=400, n_jobs=None,\n",
      "              num_parallel_tree=None, objective='multi:softmax', predictor=None,\n",
      "              random_state=None, reg_alpha=None, ...), mean_mfcc__kw_args={'sr': 16000, 'n_mfcc': 13, 'n_fft': 512, 'hop_length': 128, 'fmin': 500.0, 'fmax': 4000.0}; total time=  50.6s\n",
      "[CV] END estimator=XGBClassifier(base_score=None, booster=None, callbacks=None,\n",
      "              colsample_bylevel=None, colsample_bynode=None,\n",
      "              colsample_bytree=None, early_stopping_rounds=None,\n",
      "              enable_categorical=False, eval_metric=None, gamma=None,\n",
      "              gpu_id=None, grow_policy=None, importance_type=None,\n",
      "              interaction_constraints=None, learning_rate=0.025, max_bin=None,\n",
      "              max_cat_to_onehot=None, max_delta_step=None, max_depth=8,\n",
      "              max_leaves=None, min_child_weight=None, missing=nan,\n",
      "              monotone_constraints=None, n_estimators=400, n_jobs=None,\n",
      "              num_parallel_tree=None, objective='multi:softmax', predictor=None,\n",
      "              random_state=None, reg_alpha=None, ...), mean_mfcc__kw_args={'sr': 16000, 'n_mfcc': 13, 'n_fft': 512, 'hop_length': 128, 'fmin': 500.0, 'fmax': 5000.0}; total time=  50.7s\n",
      "[CV] END estimator=XGBClassifier(base_score=None, booster=None, callbacks=None,\n",
      "              colsample_bylevel=None, colsample_bynode=None,\n",
      "              colsample_bytree=None, early_stopping_rounds=None,\n",
      "              enable_categorical=False, eval_metric=None, gamma=None,\n",
      "              gpu_id=None, grow_policy=None, importance_type=None,\n",
      "              interaction_constraints=None, learning_rate=0.025, max_bin=None,\n",
      "              max_cat_to_onehot=None, max_delta_step=None, max_depth=8,\n",
      "              max_leaves=None, min_child_weight=None, missing=nan,\n",
      "              monotone_constraints=None, n_estimators=400, n_jobs=None,\n",
      "              num_parallel_tree=None, objective='multi:softmax', predictor=None,\n",
      "              random_state=None, reg_alpha=None, ...), mean_mfcc__kw_args={'sr': 16000, 'n_mfcc': 13, 'n_fft': 512, 'hop_length': 128, 'fmin': 500.0, 'fmax': 5000.0}; total time=  48.7s\n",
      "[CV] END estimator=XGBClassifier(base_score=None, booster=None, callbacks=None,\n",
      "              colsample_bylevel=None, colsample_bynode=None,\n",
      "              colsample_bytree=None, early_stopping_rounds=None,\n",
      "              enable_categorical=False, eval_metric=None, gamma=None,\n",
      "              gpu_id=None, grow_policy=None, importance_type=None,\n",
      "              interaction_constraints=None, learning_rate=0.025, max_bin=None,\n",
      "              max_cat_to_onehot=None, max_delta_step=None, max_depth=8,\n",
      "              max_leaves=None, min_child_weight=None, missing=nan,\n",
      "              monotone_constraints=None, n_estimators=400, n_jobs=None,\n",
      "              num_parallel_tree=None, objective='multi:softmax', predictor=None,\n",
      "              random_state=None, reg_alpha=None, ...), mean_mfcc__kw_args={'sr': 16000, 'n_mfcc': 13, 'n_fft': 768, 'hop_length': 128, 'fmin': 0.0, 'fmax': None}; total time=  58.0s\n",
      "[CV] END estimator=XGBClassifier(base_score=None, booster=None, callbacks=None,\n",
      "              colsample_bylevel=None, colsample_bynode=None,\n",
      "              colsample_bytree=None, early_stopping_rounds=None,\n",
      "              enable_categorical=False, eval_metric=None, gamma=None,\n",
      "              gpu_id=None, grow_policy=None, importance_type=None,\n",
      "              interaction_constraints=None, learning_rate=0.025, max_bin=None,\n",
      "              max_cat_to_onehot=None, max_delta_step=None, max_depth=8,\n",
      "              max_leaves=None, min_child_weight=None, missing=nan,\n",
      "              monotone_constraints=None, n_estimators=400, n_jobs=None,\n",
      "              num_parallel_tree=None, objective='multi:softmax', predictor=None,\n",
      "              random_state=None, reg_alpha=None, ...), mean_mfcc__kw_args={'sr': 16000, 'n_mfcc': 13, 'n_fft': 768, 'hop_length': 128, 'fmin': 0.0, 'fmax': None}; total time=  59.0s\n",
      "[CV] END estimator=XGBClassifier(base_score=None, booster=None, callbacks=None,\n",
      "              colsample_bylevel=None, colsample_bynode=None,\n",
      "              colsample_bytree=None, early_stopping_rounds=None,\n",
      "              enable_categorical=False, eval_metric=None, gamma=None,\n",
      "              gpu_id=None, grow_policy=None, importance_type=None,\n",
      "              interaction_constraints=None, learning_rate=0.025, max_bin=None,\n",
      "              max_cat_to_onehot=None, max_delta_step=None, max_depth=8,\n",
      "              max_leaves=None, min_child_weight=None, missing=nan,\n",
      "              monotone_constraints=None, n_estimators=400, n_jobs=None,\n",
      "              num_parallel_tree=None, objective='multi:softmax', predictor=None,\n",
      "              random_state=None, reg_alpha=None, ...), mean_mfcc__kw_args={'sr': 16000, 'n_mfcc': 13, 'n_fft': 768, 'hop_length': 128, 'fmin': 0.0, 'fmax': 3000.0}; total time=  59.1s\n",
      "[CV] END estimator=XGBClassifier(base_score=None, booster=None, callbacks=None,\n",
      "              colsample_bylevel=None, colsample_bynode=None,\n",
      "              colsample_bytree=None, early_stopping_rounds=None,\n",
      "              enable_categorical=False, eval_metric=None, gamma=None,\n",
      "              gpu_id=None, grow_policy=None, importance_type=None,\n",
      "              interaction_constraints=None, learning_rate=0.025, max_bin=None,\n",
      "              max_cat_to_onehot=None, max_delta_step=None, max_depth=8,\n",
      "              max_leaves=None, min_child_weight=None, missing=nan,\n",
      "              monotone_constraints=None, n_estimators=400, n_jobs=None,\n",
      "              num_parallel_tree=None, objective='multi:softmax', predictor=None,\n",
      "              random_state=None, reg_alpha=None, ...), mean_mfcc__kw_args={'sr': 16000, 'n_mfcc': 13, 'n_fft': 768, 'hop_length': 128, 'fmin': 0.0, 'fmax': 3000.0}; total time=  55.7s\n",
      "[CV] END estimator=XGBClassifier(base_score=None, booster=None, callbacks=None,\n",
      "              colsample_bylevel=None, colsample_bynode=None,\n",
      "              colsample_bytree=None, early_stopping_rounds=None,\n",
      "              enable_categorical=False, eval_metric=None, gamma=None,\n",
      "              gpu_id=None, grow_policy=None, importance_type=None,\n",
      "              interaction_constraints=None, learning_rate=0.025, max_bin=None,\n",
      "              max_cat_to_onehot=None, max_delta_step=None, max_depth=8,\n",
      "              max_leaves=None, min_child_weight=None, missing=nan,\n",
      "              monotone_constraints=None, n_estimators=400, n_jobs=None,\n",
      "              num_parallel_tree=None, objective='multi:softmax', predictor=None,\n",
      "              random_state=None, reg_alpha=None, ...), mean_mfcc__kw_args={'sr': 16000, 'n_mfcc': 13, 'n_fft': 768, 'hop_length': 128, 'fmin': 0.0, 'fmax': 4000.0}; total time=  58.5s\n"
     ]
    },
    {
     "name": "stdout",
     "output_type": "stream",
     "text": [
      "[CV] END estimator=XGBClassifier(base_score=None, booster=None, callbacks=None,\n",
      "              colsample_bylevel=None, colsample_bynode=None,\n",
      "              colsample_bytree=None, early_stopping_rounds=None,\n",
      "              enable_categorical=False, eval_metric=None, gamma=None,\n",
      "              gpu_id=None, grow_policy=None, importance_type=None,\n",
      "              interaction_constraints=None, learning_rate=0.025, max_bin=None,\n",
      "              max_cat_to_onehot=None, max_delta_step=None, max_depth=8,\n",
      "              max_leaves=None, min_child_weight=None, missing=nan,\n",
      "              monotone_constraints=None, n_estimators=400, n_jobs=None,\n",
      "              num_parallel_tree=None, objective='multi:softmax', predictor=None,\n",
      "              random_state=None, reg_alpha=None, ...), mean_mfcc__kw_args={'sr': 16000, 'n_mfcc': 13, 'n_fft': 768, 'hop_length': 128, 'fmin': 0.0, 'fmax': 4000.0}; total time=  58.1s\n",
      "[CV] END estimator=XGBClassifier(base_score=None, booster=None, callbacks=None,\n",
      "              colsample_bylevel=None, colsample_bynode=None,\n",
      "              colsample_bytree=None, early_stopping_rounds=None,\n",
      "              enable_categorical=False, eval_metric=None, gamma=None,\n",
      "              gpu_id=None, grow_policy=None, importance_type=None,\n",
      "              interaction_constraints=None, learning_rate=0.025, max_bin=None,\n",
      "              max_cat_to_onehot=None, max_delta_step=None, max_depth=8,\n",
      "              max_leaves=None, min_child_weight=None, missing=nan,\n",
      "              monotone_constraints=None, n_estimators=400, n_jobs=None,\n",
      "              num_parallel_tree=None, objective='multi:softmax', predictor=None,\n",
      "              random_state=None, reg_alpha=None, ...), mean_mfcc__kw_args={'sr': 16000, 'n_mfcc': 13, 'n_fft': 768, 'hop_length': 128, 'fmin': 0.0, 'fmax': 5000.0}; total time=  59.4s\n",
      "[CV] END estimator=XGBClassifier(base_score=None, booster=None, callbacks=None,\n",
      "              colsample_bylevel=None, colsample_bynode=None,\n",
      "              colsample_bytree=None, early_stopping_rounds=None,\n",
      "              enable_categorical=False, eval_metric=None, gamma=None,\n",
      "              gpu_id=None, grow_policy=None, importance_type=None,\n",
      "              interaction_constraints=None, learning_rate=0.025, max_bin=None,\n",
      "              max_cat_to_onehot=None, max_delta_step=None, max_depth=8,\n",
      "              max_leaves=None, min_child_weight=None, missing=nan,\n",
      "              monotone_constraints=None, n_estimators=400, n_jobs=None,\n",
      "              num_parallel_tree=None, objective='multi:softmax', predictor=None,\n",
      "              random_state=None, reg_alpha=None, ...), mean_mfcc__kw_args={'sr': 16000, 'n_mfcc': 13, 'n_fft': 768, 'hop_length': 128, 'fmin': 0.0, 'fmax': 5000.0}; total time=  58.9s\n",
      "[CV] END estimator=XGBClassifier(base_score=None, booster=None, callbacks=None,\n",
      "              colsample_bylevel=None, colsample_bynode=None,\n",
      "              colsample_bytree=None, early_stopping_rounds=None,\n",
      "              enable_categorical=False, eval_metric=None, gamma=None,\n",
      "              gpu_id=None, grow_policy=None, importance_type=None,\n",
      "              interaction_constraints=None, learning_rate=0.025, max_bin=None,\n",
      "              max_cat_to_onehot=None, max_delta_step=None, max_depth=8,\n",
      "              max_leaves=None, min_child_weight=None, missing=nan,\n",
      "              monotone_constraints=None, n_estimators=400, n_jobs=None,\n",
      "              num_parallel_tree=None, objective='multi:softmax', predictor=None,\n",
      "              random_state=None, reg_alpha=None, ...), mean_mfcc__kw_args={'sr': 16000, 'n_mfcc': 13, 'n_fft': 768, 'hop_length': 128, 'fmin': 300.0, 'fmax': None}; total time= 1.0min\n",
      "[CV] END estimator=XGBClassifier(base_score=None, booster=None, callbacks=None,\n",
      "              colsample_bylevel=None, colsample_bynode=None,\n",
      "              colsample_bytree=None, early_stopping_rounds=None,\n",
      "              enable_categorical=False, eval_metric=None, gamma=None,\n",
      "              gpu_id=None, grow_policy=None, importance_type=None,\n",
      "              interaction_constraints=None, learning_rate=0.025, max_bin=None,\n",
      "              max_cat_to_onehot=None, max_delta_step=None, max_depth=8,\n",
      "              max_leaves=None, min_child_weight=None, missing=nan,\n",
      "              monotone_constraints=None, n_estimators=400, n_jobs=None,\n",
      "              num_parallel_tree=None, objective='multi:softmax', predictor=None,\n",
      "              random_state=None, reg_alpha=None, ...), mean_mfcc__kw_args={'sr': 16000, 'n_mfcc': 13, 'n_fft': 768, 'hop_length': 128, 'fmin': 300.0, 'fmax': None}; total time=  57.1s\n",
      "[CV] END estimator=XGBClassifier(base_score=None, booster=None, callbacks=None,\n",
      "              colsample_bylevel=None, colsample_bynode=None,\n",
      "              colsample_bytree=None, early_stopping_rounds=None,\n",
      "              enable_categorical=False, eval_metric=None, gamma=None,\n",
      "              gpu_id=None, grow_policy=None, importance_type=None,\n",
      "              interaction_constraints=None, learning_rate=0.025, max_bin=None,\n",
      "              max_cat_to_onehot=None, max_delta_step=None, max_depth=8,\n",
      "              max_leaves=None, min_child_weight=None, missing=nan,\n",
      "              monotone_constraints=None, n_estimators=400, n_jobs=None,\n",
      "              num_parallel_tree=None, objective='multi:softmax', predictor=None,\n",
      "              random_state=None, reg_alpha=None, ...), mean_mfcc__kw_args={'sr': 16000, 'n_mfcc': 13, 'n_fft': 768, 'hop_length': 128, 'fmin': 300.0, 'fmax': 3000.0}; total time=  59.0s\n",
      "[CV] END estimator=XGBClassifier(base_score=None, booster=None, callbacks=None,\n",
      "              colsample_bylevel=None, colsample_bynode=None,\n",
      "              colsample_bytree=None, early_stopping_rounds=None,\n",
      "              enable_categorical=False, eval_metric=None, gamma=None,\n",
      "              gpu_id=None, grow_policy=None, importance_type=None,\n",
      "              interaction_constraints=None, learning_rate=0.025, max_bin=None,\n",
      "              max_cat_to_onehot=None, max_delta_step=None, max_depth=8,\n",
      "              max_leaves=None, min_child_weight=None, missing=nan,\n",
      "              monotone_constraints=None, n_estimators=400, n_jobs=None,\n",
      "              num_parallel_tree=None, objective='multi:softmax', predictor=None,\n",
      "              random_state=None, reg_alpha=None, ...), mean_mfcc__kw_args={'sr': 16000, 'n_mfcc': 13, 'n_fft': 768, 'hop_length': 128, 'fmin': 300.0, 'fmax': 3000.0}; total time= 1.0min\n",
      "[CV] END estimator=XGBClassifier(base_score=None, booster=None, callbacks=None,\n",
      "              colsample_bylevel=None, colsample_bynode=None,\n",
      "              colsample_bytree=None, early_stopping_rounds=None,\n",
      "              enable_categorical=False, eval_metric=None, gamma=None,\n",
      "              gpu_id=None, grow_policy=None, importance_type=None,\n",
      "              interaction_constraints=None, learning_rate=0.025, max_bin=None,\n",
      "              max_cat_to_onehot=None, max_delta_step=None, max_depth=8,\n",
      "              max_leaves=None, min_child_weight=None, missing=nan,\n",
      "              monotone_constraints=None, n_estimators=400, n_jobs=None,\n",
      "              num_parallel_tree=None, objective='multi:softmax', predictor=None,\n",
      "              random_state=None, reg_alpha=None, ...), mean_mfcc__kw_args={'sr': 16000, 'n_mfcc': 13, 'n_fft': 768, 'hop_length': 128, 'fmin': 300.0, 'fmax': 4000.0}; total time= 1.0min\n",
      "[CV] END estimator=XGBClassifier(base_score=None, booster=None, callbacks=None,\n",
      "              colsample_bylevel=None, colsample_bynode=None,\n",
      "              colsample_bytree=None, early_stopping_rounds=None,\n",
      "              enable_categorical=False, eval_metric=None, gamma=None,\n",
      "              gpu_id=None, grow_policy=None, importance_type=None,\n",
      "              interaction_constraints=None, learning_rate=0.025, max_bin=None,\n",
      "              max_cat_to_onehot=None, max_delta_step=None, max_depth=8,\n",
      "              max_leaves=None, min_child_weight=None, missing=nan,\n",
      "              monotone_constraints=None, n_estimators=400, n_jobs=None,\n",
      "              num_parallel_tree=None, objective='multi:softmax', predictor=None,\n",
      "              random_state=None, reg_alpha=None, ...), mean_mfcc__kw_args={'sr': 16000, 'n_mfcc': 13, 'n_fft': 768, 'hop_length': 128, 'fmin': 300.0, 'fmax': 4000.0}; total time=  57.3s\n",
      "[CV] END estimator=XGBClassifier(base_score=None, booster=None, callbacks=None,\n",
      "              colsample_bylevel=None, colsample_bynode=None,\n",
      "              colsample_bytree=None, early_stopping_rounds=None,\n",
      "              enable_categorical=False, eval_metric=None, gamma=None,\n",
      "              gpu_id=None, grow_policy=None, importance_type=None,\n",
      "              interaction_constraints=None, learning_rate=0.025, max_bin=None,\n",
      "              max_cat_to_onehot=None, max_delta_step=None, max_depth=8,\n",
      "              max_leaves=None, min_child_weight=None, missing=nan,\n",
      "              monotone_constraints=None, n_estimators=400, n_jobs=None,\n",
      "              num_parallel_tree=None, objective='multi:softmax', predictor=None,\n",
      "              random_state=None, reg_alpha=None, ...), mean_mfcc__kw_args={'sr': 16000, 'n_mfcc': 13, 'n_fft': 768, 'hop_length': 128, 'fmin': 300.0, 'fmax': 5000.0}; total time=  58.4s\n"
     ]
    },
    {
     "name": "stdout",
     "output_type": "stream",
     "text": [
      "[CV] END estimator=XGBClassifier(base_score=None, booster=None, callbacks=None,\n",
      "              colsample_bylevel=None, colsample_bynode=None,\n",
      "              colsample_bytree=None, early_stopping_rounds=None,\n",
      "              enable_categorical=False, eval_metric=None, gamma=None,\n",
      "              gpu_id=None, grow_policy=None, importance_type=None,\n",
      "              interaction_constraints=None, learning_rate=0.025, max_bin=None,\n",
      "              max_cat_to_onehot=None, max_delta_step=None, max_depth=8,\n",
      "              max_leaves=None, min_child_weight=None, missing=nan,\n",
      "              monotone_constraints=None, n_estimators=400, n_jobs=None,\n",
      "              num_parallel_tree=None, objective='multi:softmax', predictor=None,\n",
      "              random_state=None, reg_alpha=None, ...), mean_mfcc__kw_args={'sr': 16000, 'n_mfcc': 13, 'n_fft': 768, 'hop_length': 128, 'fmin': 300.0, 'fmax': 5000.0}; total time=  57.1s\n",
      "[CV] END estimator=XGBClassifier(base_score=None, booster=None, callbacks=None,\n",
      "              colsample_bylevel=None, colsample_bynode=None,\n",
      "              colsample_bytree=None, early_stopping_rounds=None,\n",
      "              enable_categorical=False, eval_metric=None, gamma=None,\n",
      "              gpu_id=None, grow_policy=None, importance_type=None,\n",
      "              interaction_constraints=None, learning_rate=0.025, max_bin=None,\n",
      "              max_cat_to_onehot=None, max_delta_step=None, max_depth=8,\n",
      "              max_leaves=None, min_child_weight=None, missing=nan,\n",
      "              monotone_constraints=None, n_estimators=400, n_jobs=None,\n",
      "              num_parallel_tree=None, objective='multi:softmax', predictor=None,\n",
      "              random_state=None, reg_alpha=None, ...), mean_mfcc__kw_args={'sr': 16000, 'n_mfcc': 13, 'n_fft': 768, 'hop_length': 128, 'fmin': 500.0, 'fmax': None}; total time=  58.2s\n",
      "[CV] END estimator=XGBClassifier(base_score=None, booster=None, callbacks=None,\n",
      "              colsample_bylevel=None, colsample_bynode=None,\n",
      "              colsample_bytree=None, early_stopping_rounds=None,\n",
      "              enable_categorical=False, eval_metric=None, gamma=None,\n",
      "              gpu_id=None, grow_policy=None, importance_type=None,\n",
      "              interaction_constraints=None, learning_rate=0.025, max_bin=None,\n",
      "              max_cat_to_onehot=None, max_delta_step=None, max_depth=8,\n",
      "              max_leaves=None, min_child_weight=None, missing=nan,\n",
      "              monotone_constraints=None, n_estimators=400, n_jobs=None,\n",
      "              num_parallel_tree=None, objective='multi:softmax', predictor=None,\n",
      "              random_state=None, reg_alpha=None, ...), mean_mfcc__kw_args={'sr': 16000, 'n_mfcc': 13, 'n_fft': 768, 'hop_length': 128, 'fmin': 500.0, 'fmax': None}; total time=  59.2s\n",
      "[CV] END estimator=XGBClassifier(base_score=None, booster=None, callbacks=None,\n",
      "              colsample_bylevel=None, colsample_bynode=None,\n",
      "              colsample_bytree=None, early_stopping_rounds=None,\n",
      "              enable_categorical=False, eval_metric=None, gamma=None,\n",
      "              gpu_id=None, grow_policy=None, importance_type=None,\n",
      "              interaction_constraints=None, learning_rate=0.025, max_bin=None,\n",
      "              max_cat_to_onehot=None, max_delta_step=None, max_depth=8,\n",
      "              max_leaves=None, min_child_weight=None, missing=nan,\n",
      "              monotone_constraints=None, n_estimators=400, n_jobs=None,\n",
      "              num_parallel_tree=None, objective='multi:softmax', predictor=None,\n",
      "              random_state=None, reg_alpha=None, ...), mean_mfcc__kw_args={'sr': 16000, 'n_mfcc': 13, 'n_fft': 768, 'hop_length': 128, 'fmin': 500.0, 'fmax': 3000.0}; total time=  57.8s\n",
      "[CV] END estimator=XGBClassifier(base_score=None, booster=None, callbacks=None,\n",
      "              colsample_bylevel=None, colsample_bynode=None,\n",
      "              colsample_bytree=None, early_stopping_rounds=None,\n",
      "              enable_categorical=False, eval_metric=None, gamma=None,\n",
      "              gpu_id=None, grow_policy=None, importance_type=None,\n",
      "              interaction_constraints=None, learning_rate=0.025, max_bin=None,\n",
      "              max_cat_to_onehot=None, max_delta_step=None, max_depth=8,\n",
      "              max_leaves=None, min_child_weight=None, missing=nan,\n",
      "              monotone_constraints=None, n_estimators=400, n_jobs=None,\n",
      "              num_parallel_tree=None, objective='multi:softmax', predictor=None,\n",
      "              random_state=None, reg_alpha=None, ...), mean_mfcc__kw_args={'sr': 16000, 'n_mfcc': 13, 'n_fft': 768, 'hop_length': 128, 'fmin': 500.0, 'fmax': 3000.0}; total time=  57.1s\n",
      "[CV] END estimator=XGBClassifier(base_score=None, booster=None, callbacks=None,\n",
      "              colsample_bylevel=None, colsample_bynode=None,\n",
      "              colsample_bytree=None, early_stopping_rounds=None,\n",
      "              enable_categorical=False, eval_metric=None, gamma=None,\n",
      "              gpu_id=None, grow_policy=None, importance_type=None,\n",
      "              interaction_constraints=None, learning_rate=0.025, max_bin=None,\n",
      "              max_cat_to_onehot=None, max_delta_step=None, max_depth=8,\n",
      "              max_leaves=None, min_child_weight=None, missing=nan,\n",
      "              monotone_constraints=None, n_estimators=400, n_jobs=None,\n",
      "              num_parallel_tree=None, objective='multi:softmax', predictor=None,\n",
      "              random_state=None, reg_alpha=None, ...), mean_mfcc__kw_args={'sr': 16000, 'n_mfcc': 13, 'n_fft': 768, 'hop_length': 128, 'fmin': 500.0, 'fmax': 4000.0}; total time=  58.4s\n",
      "[CV] END estimator=XGBClassifier(base_score=None, booster=None, callbacks=None,\n",
      "              colsample_bylevel=None, colsample_bynode=None,\n",
      "              colsample_bytree=None, early_stopping_rounds=None,\n",
      "              enable_categorical=False, eval_metric=None, gamma=None,\n",
      "              gpu_id=None, grow_policy=None, importance_type=None,\n",
      "              interaction_constraints=None, learning_rate=0.025, max_bin=None,\n",
      "              max_cat_to_onehot=None, max_delta_step=None, max_depth=8,\n",
      "              max_leaves=None, min_child_weight=None, missing=nan,\n",
      "              monotone_constraints=None, n_estimators=400, n_jobs=None,\n",
      "              num_parallel_tree=None, objective='multi:softmax', predictor=None,\n",
      "              random_state=None, reg_alpha=None, ...), mean_mfcc__kw_args={'sr': 16000, 'n_mfcc': 13, 'n_fft': 768, 'hop_length': 128, 'fmin': 500.0, 'fmax': 4000.0}; total time= 1.0min\n",
      "[CV] END estimator=XGBClassifier(base_score=None, booster=None, callbacks=None,\n",
      "              colsample_bylevel=None, colsample_bynode=None,\n",
      "              colsample_bytree=None, early_stopping_rounds=None,\n",
      "              enable_categorical=False, eval_metric=None, gamma=None,\n",
      "              gpu_id=None, grow_policy=None, importance_type=None,\n",
      "              interaction_constraints=None, learning_rate=0.025, max_bin=None,\n",
      "              max_cat_to_onehot=None, max_delta_step=None, max_depth=8,\n",
      "              max_leaves=None, min_child_weight=None, missing=nan,\n",
      "              monotone_constraints=None, n_estimators=400, n_jobs=None,\n",
      "              num_parallel_tree=None, objective='multi:softmax', predictor=None,\n",
      "              random_state=None, reg_alpha=None, ...), mean_mfcc__kw_args={'sr': 16000, 'n_mfcc': 13, 'n_fft': 768, 'hop_length': 128, 'fmin': 500.0, 'fmax': 5000.0}; total time= 1.0min\n",
      "[CV] END estimator=XGBClassifier(base_score=None, booster=None, callbacks=None,\n",
      "              colsample_bylevel=None, colsample_bynode=None,\n",
      "              colsample_bytree=None, early_stopping_rounds=None,\n",
      "              enable_categorical=False, eval_metric=None, gamma=None,\n",
      "              gpu_id=None, grow_policy=None, importance_type=None,\n",
      "              interaction_constraints=None, learning_rate=0.025, max_bin=None,\n",
      "              max_cat_to_onehot=None, max_delta_step=None, max_depth=8,\n",
      "              max_leaves=None, min_child_weight=None, missing=nan,\n",
      "              monotone_constraints=None, n_estimators=400, n_jobs=None,\n",
      "              num_parallel_tree=None, objective='multi:softmax', predictor=None,\n",
      "              random_state=None, reg_alpha=None, ...), mean_mfcc__kw_args={'sr': 16000, 'n_mfcc': 13, 'n_fft': 768, 'hop_length': 128, 'fmin': 500.0, 'fmax': 5000.0}; total time=  57.2s\n"
     ]
    },
    {
     "name": "stderr",
     "output_type": "stream",
     "text": [
      "/Users/axel/.pyenv/versions/3.8.12/envs/us8kdata/lib/python3.8/site-packages/librosa/util/decorators.py:88: UserWarning: n_fft=1024 is too small for input signal of length=800\n",
      "  return f(*args, **kwargs)\n",
      "/Users/axel/.pyenv/versions/3.8.12/envs/us8kdata/lib/python3.8/site-packages/librosa/util/decorators.py:88: UserWarning: n_fft=1024 is too small for input signal of length=960\n",
      "  return f(*args, **kwargs)\n",
      "/Users/axel/.pyenv/versions/3.8.12/envs/us8kdata/lib/python3.8/site-packages/librosa/util/decorators.py:88: UserWarning: n_fft=1024 is too small for input signal of length=960\n",
      "  return f(*args, **kwargs)\n"
     ]
    },
    {
     "name": "stdout",
     "output_type": "stream",
     "text": [
      "[CV] END estimator=XGBClassifier(base_score=None, booster=None, callbacks=None,\n",
      "              colsample_bylevel=None, colsample_bynode=None,\n",
      "              colsample_bytree=None, early_stopping_rounds=None,\n",
      "              enable_categorical=False, eval_metric=None, gamma=None,\n",
      "              gpu_id=None, grow_policy=None, importance_type=None,\n",
      "              interaction_constraints=None, learning_rate=0.025, max_bin=None,\n",
      "              max_cat_to_onehot=None, max_delta_step=None, max_depth=8,\n",
      "              max_leaves=None, min_child_weight=None, missing=nan,\n",
      "              monotone_constraints=None, n_estimators=400, n_jobs=None,\n",
      "              num_parallel_tree=None, objective='multi:softmax', predictor=None,\n",
      "              random_state=None, reg_alpha=None, ...), mean_mfcc__kw_args={'sr': 16000, 'n_mfcc': 13, 'n_fft': 1024, 'hop_length': 128, 'fmin': 0.0, 'fmax': None}; total time= 1.1min\n"
     ]
    },
    {
     "name": "stderr",
     "output_type": "stream",
     "text": [
      "/Users/axel/.pyenv/versions/3.8.12/envs/us8kdata/lib/python3.8/site-packages/librosa/util/decorators.py:88: UserWarning: n_fft=1024 is too small for input signal of length=960\n",
      "  return f(*args, **kwargs)\n",
      "/Users/axel/.pyenv/versions/3.8.12/envs/us8kdata/lib/python3.8/site-packages/librosa/util/decorators.py:88: UserWarning: n_fft=1024 is too small for input signal of length=800\n",
      "  return f(*args, **kwargs)\n",
      "/Users/axel/.pyenv/versions/3.8.12/envs/us8kdata/lib/python3.8/site-packages/librosa/util/decorators.py:88: UserWarning: n_fft=1024 is too small for input signal of length=960\n",
      "  return f(*args, **kwargs)\n"
     ]
    },
    {
     "name": "stdout",
     "output_type": "stream",
     "text": [
      "[CV] END estimator=XGBClassifier(base_score=None, booster=None, callbacks=None,\n",
      "              colsample_bylevel=None, colsample_bynode=None,\n",
      "              colsample_bytree=None, early_stopping_rounds=None,\n",
      "              enable_categorical=False, eval_metric=None, gamma=None,\n",
      "              gpu_id=None, grow_policy=None, importance_type=None,\n",
      "              interaction_constraints=None, learning_rate=0.025, max_bin=None,\n",
      "              max_cat_to_onehot=None, max_delta_step=None, max_depth=8,\n",
      "              max_leaves=None, min_child_weight=None, missing=nan,\n",
      "              monotone_constraints=None, n_estimators=400, n_jobs=None,\n",
      "              num_parallel_tree=None, objective='multi:softmax', predictor=None,\n",
      "              random_state=None, reg_alpha=None, ...), mean_mfcc__kw_args={'sr': 16000, 'n_mfcc': 13, 'n_fft': 1024, 'hop_length': 128, 'fmin': 0.0, 'fmax': None}; total time= 1.1min\n"
     ]
    },
    {
     "name": "stderr",
     "output_type": "stream",
     "text": [
      "/Users/axel/.pyenv/versions/3.8.12/envs/us8kdata/lib/python3.8/site-packages/librosa/util/decorators.py:88: UserWarning: n_fft=1024 is too small for input signal of length=800\n",
      "  return f(*args, **kwargs)\n",
      "/Users/axel/.pyenv/versions/3.8.12/envs/us8kdata/lib/python3.8/site-packages/librosa/util/decorators.py:88: UserWarning: n_fft=1024 is too small for input signal of length=960\n",
      "  return f(*args, **kwargs)\n",
      "/Users/axel/.pyenv/versions/3.8.12/envs/us8kdata/lib/python3.8/site-packages/librosa/util/decorators.py:88: UserWarning: n_fft=1024 is too small for input signal of length=960\n",
      "  return f(*args, **kwargs)\n"
     ]
    },
    {
     "name": "stdout",
     "output_type": "stream",
     "text": [
      "[CV] END estimator=XGBClassifier(base_score=None, booster=None, callbacks=None,\n",
      "              colsample_bylevel=None, colsample_bynode=None,\n",
      "              colsample_bytree=None, early_stopping_rounds=None,\n",
      "              enable_categorical=False, eval_metric=None, gamma=None,\n",
      "              gpu_id=None, grow_policy=None, importance_type=None,\n",
      "              interaction_constraints=None, learning_rate=0.025, max_bin=None,\n",
      "              max_cat_to_onehot=None, max_delta_step=None, max_depth=8,\n",
      "              max_leaves=None, min_child_weight=None, missing=nan,\n",
      "              monotone_constraints=None, n_estimators=400, n_jobs=None,\n",
      "              num_parallel_tree=None, objective='multi:softmax', predictor=None,\n",
      "              random_state=None, reg_alpha=None, ...), mean_mfcc__kw_args={'sr': 16000, 'n_mfcc': 13, 'n_fft': 1024, 'hop_length': 128, 'fmin': 0.0, 'fmax': 3000.0}; total time= 1.1min\n"
     ]
    },
    {
     "name": "stderr",
     "output_type": "stream",
     "text": [
      "/Users/axel/.pyenv/versions/3.8.12/envs/us8kdata/lib/python3.8/site-packages/librosa/util/decorators.py:88: UserWarning: n_fft=1024 is too small for input signal of length=960\n",
      "  return f(*args, **kwargs)\n",
      "/Users/axel/.pyenv/versions/3.8.12/envs/us8kdata/lib/python3.8/site-packages/librosa/util/decorators.py:88: UserWarning: n_fft=1024 is too small for input signal of length=800\n",
      "  return f(*args, **kwargs)\n",
      "/Users/axel/.pyenv/versions/3.8.12/envs/us8kdata/lib/python3.8/site-packages/librosa/util/decorators.py:88: UserWarning: n_fft=1024 is too small for input signal of length=960\n",
      "  return f(*args, **kwargs)\n"
     ]
    },
    {
     "name": "stdout",
     "output_type": "stream",
     "text": [
      "[CV] END estimator=XGBClassifier(base_score=None, booster=None, callbacks=None,\n",
      "              colsample_bylevel=None, colsample_bynode=None,\n",
      "              colsample_bytree=None, early_stopping_rounds=None,\n",
      "              enable_categorical=False, eval_metric=None, gamma=None,\n",
      "              gpu_id=None, grow_policy=None, importance_type=None,\n",
      "              interaction_constraints=None, learning_rate=0.025, max_bin=None,\n",
      "              max_cat_to_onehot=None, max_delta_step=None, max_depth=8,\n",
      "              max_leaves=None, min_child_weight=None, missing=nan,\n",
      "              monotone_constraints=None, n_estimators=400, n_jobs=None,\n",
      "              num_parallel_tree=None, objective='multi:softmax', predictor=None,\n",
      "              random_state=None, reg_alpha=None, ...), mean_mfcc__kw_args={'sr': 16000, 'n_mfcc': 13, 'n_fft': 1024, 'hop_length': 128, 'fmin': 0.0, 'fmax': 3000.0}; total time= 1.1min\n"
     ]
    },
    {
     "name": "stderr",
     "output_type": "stream",
     "text": [
      "/Users/axel/.pyenv/versions/3.8.12/envs/us8kdata/lib/python3.8/site-packages/librosa/util/decorators.py:88: UserWarning: n_fft=1024 is too small for input signal of length=800\n",
      "  return f(*args, **kwargs)\n",
      "/Users/axel/.pyenv/versions/3.8.12/envs/us8kdata/lib/python3.8/site-packages/librosa/util/decorators.py:88: UserWarning: n_fft=1024 is too small for input signal of length=960\n",
      "  return f(*args, **kwargs)\n",
      "/Users/axel/.pyenv/versions/3.8.12/envs/us8kdata/lib/python3.8/site-packages/librosa/util/decorators.py:88: UserWarning: n_fft=1024 is too small for input signal of length=960\n",
      "  return f(*args, **kwargs)\n"
     ]
    },
    {
     "name": "stdout",
     "output_type": "stream",
     "text": [
      "[CV] END estimator=XGBClassifier(base_score=None, booster=None, callbacks=None,\n",
      "              colsample_bylevel=None, colsample_bynode=None,\n",
      "              colsample_bytree=None, early_stopping_rounds=None,\n",
      "              enable_categorical=False, eval_metric=None, gamma=None,\n",
      "              gpu_id=None, grow_policy=None, importance_type=None,\n",
      "              interaction_constraints=None, learning_rate=0.025, max_bin=None,\n",
      "              max_cat_to_onehot=None, max_delta_step=None, max_depth=8,\n",
      "              max_leaves=None, min_child_weight=None, missing=nan,\n",
      "              monotone_constraints=None, n_estimators=400, n_jobs=None,\n",
      "              num_parallel_tree=None, objective='multi:softmax', predictor=None,\n",
      "              random_state=None, reg_alpha=None, ...), mean_mfcc__kw_args={'sr': 16000, 'n_mfcc': 13, 'n_fft': 1024, 'hop_length': 128, 'fmin': 0.0, 'fmax': 4000.0}; total time= 1.2min\n"
     ]
    },
    {
     "name": "stderr",
     "output_type": "stream",
     "text": [
      "/Users/axel/.pyenv/versions/3.8.12/envs/us8kdata/lib/python3.8/site-packages/librosa/util/decorators.py:88: UserWarning: n_fft=1024 is too small for input signal of length=960\n",
      "  return f(*args, **kwargs)\n",
      "/Users/axel/.pyenv/versions/3.8.12/envs/us8kdata/lib/python3.8/site-packages/librosa/util/decorators.py:88: UserWarning: n_fft=1024 is too small for input signal of length=800\n",
      "  return f(*args, **kwargs)\n",
      "/Users/axel/.pyenv/versions/3.8.12/envs/us8kdata/lib/python3.8/site-packages/librosa/util/decorators.py:88: UserWarning: n_fft=1024 is too small for input signal of length=960\n",
      "  return f(*args, **kwargs)\n"
     ]
    },
    {
     "name": "stdout",
     "output_type": "stream",
     "text": [
      "[CV] END estimator=XGBClassifier(base_score=None, booster=None, callbacks=None,\n",
      "              colsample_bylevel=None, colsample_bynode=None,\n",
      "              colsample_bytree=None, early_stopping_rounds=None,\n",
      "              enable_categorical=False, eval_metric=None, gamma=None,\n",
      "              gpu_id=None, grow_policy=None, importance_type=None,\n",
      "              interaction_constraints=None, learning_rate=0.025, max_bin=None,\n",
      "              max_cat_to_onehot=None, max_delta_step=None, max_depth=8,\n",
      "              max_leaves=None, min_child_weight=None, missing=nan,\n",
      "              monotone_constraints=None, n_estimators=400, n_jobs=None,\n",
      "              num_parallel_tree=None, objective='multi:softmax', predictor=None,\n",
      "              random_state=None, reg_alpha=None, ...), mean_mfcc__kw_args={'sr': 16000, 'n_mfcc': 13, 'n_fft': 1024, 'hop_length': 128, 'fmin': 0.0, 'fmax': 4000.0}; total time= 1.1min\n"
     ]
    },
    {
     "name": "stderr",
     "output_type": "stream",
     "text": [
      "/Users/axel/.pyenv/versions/3.8.12/envs/us8kdata/lib/python3.8/site-packages/librosa/util/decorators.py:88: UserWarning: n_fft=1024 is too small for input signal of length=800\n",
      "  return f(*args, **kwargs)\n",
      "/Users/axel/.pyenv/versions/3.8.12/envs/us8kdata/lib/python3.8/site-packages/librosa/util/decorators.py:88: UserWarning: n_fft=1024 is too small for input signal of length=960\n",
      "  return f(*args, **kwargs)\n",
      "/Users/axel/.pyenv/versions/3.8.12/envs/us8kdata/lib/python3.8/site-packages/librosa/util/decorators.py:88: UserWarning: n_fft=1024 is too small for input signal of length=960\n",
      "  return f(*args, **kwargs)\n"
     ]
    },
    {
     "name": "stdout",
     "output_type": "stream",
     "text": [
      "[CV] END estimator=XGBClassifier(base_score=None, booster=None, callbacks=None,\n",
      "              colsample_bylevel=None, colsample_bynode=None,\n",
      "              colsample_bytree=None, early_stopping_rounds=None,\n",
      "              enable_categorical=False, eval_metric=None, gamma=None,\n",
      "              gpu_id=None, grow_policy=None, importance_type=None,\n",
      "              interaction_constraints=None, learning_rate=0.025, max_bin=None,\n",
      "              max_cat_to_onehot=None, max_delta_step=None, max_depth=8,\n",
      "              max_leaves=None, min_child_weight=None, missing=nan,\n",
      "              monotone_constraints=None, n_estimators=400, n_jobs=None,\n",
      "              num_parallel_tree=None, objective='multi:softmax', predictor=None,\n",
      "              random_state=None, reg_alpha=None, ...), mean_mfcc__kw_args={'sr': 16000, 'n_mfcc': 13, 'n_fft': 1024, 'hop_length': 128, 'fmin': 0.0, 'fmax': 5000.0}; total time= 1.2min\n"
     ]
    },
    {
     "name": "stderr",
     "output_type": "stream",
     "text": [
      "/Users/axel/.pyenv/versions/3.8.12/envs/us8kdata/lib/python3.8/site-packages/librosa/util/decorators.py:88: UserWarning: n_fft=1024 is too small for input signal of length=960\n",
      "  return f(*args, **kwargs)\n",
      "/Users/axel/.pyenv/versions/3.8.12/envs/us8kdata/lib/python3.8/site-packages/librosa/util/decorators.py:88: UserWarning: n_fft=1024 is too small for input signal of length=800\n",
      "  return f(*args, **kwargs)\n",
      "/Users/axel/.pyenv/versions/3.8.12/envs/us8kdata/lib/python3.8/site-packages/librosa/util/decorators.py:88: UserWarning: n_fft=1024 is too small for input signal of length=960\n",
      "  return f(*args, **kwargs)\n"
     ]
    },
    {
     "name": "stdout",
     "output_type": "stream",
     "text": [
      "[CV] END estimator=XGBClassifier(base_score=None, booster=None, callbacks=None,\n",
      "              colsample_bylevel=None, colsample_bynode=None,\n",
      "              colsample_bytree=None, early_stopping_rounds=None,\n",
      "              enable_categorical=False, eval_metric=None, gamma=None,\n",
      "              gpu_id=None, grow_policy=None, importance_type=None,\n",
      "              interaction_constraints=None, learning_rate=0.025, max_bin=None,\n",
      "              max_cat_to_onehot=None, max_delta_step=None, max_depth=8,\n",
      "              max_leaves=None, min_child_weight=None, missing=nan,\n",
      "              monotone_constraints=None, n_estimators=400, n_jobs=None,\n",
      "              num_parallel_tree=None, objective='multi:softmax', predictor=None,\n",
      "              random_state=None, reg_alpha=None, ...), mean_mfcc__kw_args={'sr': 16000, 'n_mfcc': 13, 'n_fft': 1024, 'hop_length': 128, 'fmin': 0.0, 'fmax': 5000.0}; total time= 1.1min\n"
     ]
    },
    {
     "name": "stderr",
     "output_type": "stream",
     "text": [
      "/Users/axel/.pyenv/versions/3.8.12/envs/us8kdata/lib/python3.8/site-packages/librosa/util/decorators.py:88: UserWarning: n_fft=1024 is too small for input signal of length=800\n",
      "  return f(*args, **kwargs)\n",
      "/Users/axel/.pyenv/versions/3.8.12/envs/us8kdata/lib/python3.8/site-packages/librosa/util/decorators.py:88: UserWarning: n_fft=1024 is too small for input signal of length=960\n",
      "  return f(*args, **kwargs)\n",
      "/Users/axel/.pyenv/versions/3.8.12/envs/us8kdata/lib/python3.8/site-packages/librosa/util/decorators.py:88: UserWarning: n_fft=1024 is too small for input signal of length=960\n",
      "  return f(*args, **kwargs)\n"
     ]
    },
    {
     "name": "stdout",
     "output_type": "stream",
     "text": [
      "[CV] END estimator=XGBClassifier(base_score=None, booster=None, callbacks=None,\n",
      "              colsample_bylevel=None, colsample_bynode=None,\n",
      "              colsample_bytree=None, early_stopping_rounds=None,\n",
      "              enable_categorical=False, eval_metric=None, gamma=None,\n",
      "              gpu_id=None, grow_policy=None, importance_type=None,\n",
      "              interaction_constraints=None, learning_rate=0.025, max_bin=None,\n",
      "              max_cat_to_onehot=None, max_delta_step=None, max_depth=8,\n",
      "              max_leaves=None, min_child_weight=None, missing=nan,\n",
      "              monotone_constraints=None, n_estimators=400, n_jobs=None,\n",
      "              num_parallel_tree=None, objective='multi:softmax', predictor=None,\n",
      "              random_state=None, reg_alpha=None, ...), mean_mfcc__kw_args={'sr': 16000, 'n_mfcc': 13, 'n_fft': 1024, 'hop_length': 128, 'fmin': 300.0, 'fmax': None}; total time= 1.1min\n"
     ]
    },
    {
     "name": "stderr",
     "output_type": "stream",
     "text": [
      "/Users/axel/.pyenv/versions/3.8.12/envs/us8kdata/lib/python3.8/site-packages/librosa/util/decorators.py:88: UserWarning: n_fft=1024 is too small for input signal of length=960\n",
      "  return f(*args, **kwargs)\n",
      "/Users/axel/.pyenv/versions/3.8.12/envs/us8kdata/lib/python3.8/site-packages/librosa/util/decorators.py:88: UserWarning: n_fft=1024 is too small for input signal of length=800\n",
      "  return f(*args, **kwargs)\n",
      "/Users/axel/.pyenv/versions/3.8.12/envs/us8kdata/lib/python3.8/site-packages/librosa/util/decorators.py:88: UserWarning: n_fft=1024 is too small for input signal of length=960\n",
      "  return f(*args, **kwargs)\n"
     ]
    },
    {
     "name": "stdout",
     "output_type": "stream",
     "text": [
      "[CV] END estimator=XGBClassifier(base_score=None, booster=None, callbacks=None,\n",
      "              colsample_bylevel=None, colsample_bynode=None,\n",
      "              colsample_bytree=None, early_stopping_rounds=None,\n",
      "              enable_categorical=False, eval_metric=None, gamma=None,\n",
      "              gpu_id=None, grow_policy=None, importance_type=None,\n",
      "              interaction_constraints=None, learning_rate=0.025, max_bin=None,\n",
      "              max_cat_to_onehot=None, max_delta_step=None, max_depth=8,\n",
      "              max_leaves=None, min_child_weight=None, missing=nan,\n",
      "              monotone_constraints=None, n_estimators=400, n_jobs=None,\n",
      "              num_parallel_tree=None, objective='multi:softmax', predictor=None,\n",
      "              random_state=None, reg_alpha=None, ...), mean_mfcc__kw_args={'sr': 16000, 'n_mfcc': 13, 'n_fft': 1024, 'hop_length': 128, 'fmin': 300.0, 'fmax': None}; total time= 1.1min\n"
     ]
    },
    {
     "name": "stderr",
     "output_type": "stream",
     "text": [
      "/Users/axel/.pyenv/versions/3.8.12/envs/us8kdata/lib/python3.8/site-packages/librosa/util/decorators.py:88: UserWarning: n_fft=1024 is too small for input signal of length=800\n",
      "  return f(*args, **kwargs)\n",
      "/Users/axel/.pyenv/versions/3.8.12/envs/us8kdata/lib/python3.8/site-packages/librosa/util/decorators.py:88: UserWarning: n_fft=1024 is too small for input signal of length=960\n",
      "  return f(*args, **kwargs)\n",
      "/Users/axel/.pyenv/versions/3.8.12/envs/us8kdata/lib/python3.8/site-packages/librosa/util/decorators.py:88: UserWarning: n_fft=1024 is too small for input signal of length=960\n",
      "  return f(*args, **kwargs)\n"
     ]
    },
    {
     "name": "stdout",
     "output_type": "stream",
     "text": [
      "[CV] END estimator=XGBClassifier(base_score=None, booster=None, callbacks=None,\n",
      "              colsample_bylevel=None, colsample_bynode=None,\n",
      "              colsample_bytree=None, early_stopping_rounds=None,\n",
      "              enable_categorical=False, eval_metric=None, gamma=None,\n",
      "              gpu_id=None, grow_policy=None, importance_type=None,\n",
      "              interaction_constraints=None, learning_rate=0.025, max_bin=None,\n",
      "              max_cat_to_onehot=None, max_delta_step=None, max_depth=8,\n",
      "              max_leaves=None, min_child_weight=None, missing=nan,\n",
      "              monotone_constraints=None, n_estimators=400, n_jobs=None,\n",
      "              num_parallel_tree=None, objective='multi:softmax', predictor=None,\n",
      "              random_state=None, reg_alpha=None, ...), mean_mfcc__kw_args={'sr': 16000, 'n_mfcc': 13, 'n_fft': 1024, 'hop_length': 128, 'fmin': 300.0, 'fmax': 3000.0}; total time= 1.1min\n"
     ]
    },
    {
     "name": "stderr",
     "output_type": "stream",
     "text": [
      "/Users/axel/.pyenv/versions/3.8.12/envs/us8kdata/lib/python3.8/site-packages/librosa/util/decorators.py:88: UserWarning: n_fft=1024 is too small for input signal of length=960\n",
      "  return f(*args, **kwargs)\n",
      "/Users/axel/.pyenv/versions/3.8.12/envs/us8kdata/lib/python3.8/site-packages/librosa/util/decorators.py:88: UserWarning: n_fft=1024 is too small for input signal of length=800\n",
      "  return f(*args, **kwargs)\n",
      "/Users/axel/.pyenv/versions/3.8.12/envs/us8kdata/lib/python3.8/site-packages/librosa/util/decorators.py:88: UserWarning: n_fft=1024 is too small for input signal of length=960\n",
      "  return f(*args, **kwargs)\n"
     ]
    },
    {
     "name": "stdout",
     "output_type": "stream",
     "text": [
      "[CV] END estimator=XGBClassifier(base_score=None, booster=None, callbacks=None,\n",
      "              colsample_bylevel=None, colsample_bynode=None,\n",
      "              colsample_bytree=None, early_stopping_rounds=None,\n",
      "              enable_categorical=False, eval_metric=None, gamma=None,\n",
      "              gpu_id=None, grow_policy=None, importance_type=None,\n",
      "              interaction_constraints=None, learning_rate=0.025, max_bin=None,\n",
      "              max_cat_to_onehot=None, max_delta_step=None, max_depth=8,\n",
      "              max_leaves=None, min_child_weight=None, missing=nan,\n",
      "              monotone_constraints=None, n_estimators=400, n_jobs=None,\n",
      "              num_parallel_tree=None, objective='multi:softmax', predictor=None,\n",
      "              random_state=None, reg_alpha=None, ...), mean_mfcc__kw_args={'sr': 16000, 'n_mfcc': 13, 'n_fft': 1024, 'hop_length': 128, 'fmin': 300.0, 'fmax': 3000.0}; total time= 1.1min\n"
     ]
    },
    {
     "name": "stderr",
     "output_type": "stream",
     "text": [
      "/Users/axel/.pyenv/versions/3.8.12/envs/us8kdata/lib/python3.8/site-packages/librosa/util/decorators.py:88: UserWarning: n_fft=1024 is too small for input signal of length=800\n",
      "  return f(*args, **kwargs)\n",
      "/Users/axel/.pyenv/versions/3.8.12/envs/us8kdata/lib/python3.8/site-packages/librosa/util/decorators.py:88: UserWarning: n_fft=1024 is too small for input signal of length=960\n",
      "  return f(*args, **kwargs)\n",
      "/Users/axel/.pyenv/versions/3.8.12/envs/us8kdata/lib/python3.8/site-packages/librosa/util/decorators.py:88: UserWarning: n_fft=1024 is too small for input signal of length=960\n",
      "  return f(*args, **kwargs)\n"
     ]
    },
    {
     "name": "stdout",
     "output_type": "stream",
     "text": [
      "[CV] END estimator=XGBClassifier(base_score=None, booster=None, callbacks=None,\n",
      "              colsample_bylevel=None, colsample_bynode=None,\n",
      "              colsample_bytree=None, early_stopping_rounds=None,\n",
      "              enable_categorical=False, eval_metric=None, gamma=None,\n",
      "              gpu_id=None, grow_policy=None, importance_type=None,\n",
      "              interaction_constraints=None, learning_rate=0.025, max_bin=None,\n",
      "              max_cat_to_onehot=None, max_delta_step=None, max_depth=8,\n",
      "              max_leaves=None, min_child_weight=None, missing=nan,\n",
      "              monotone_constraints=None, n_estimators=400, n_jobs=None,\n",
      "              num_parallel_tree=None, objective='multi:softmax', predictor=None,\n",
      "              random_state=None, reg_alpha=None, ...), mean_mfcc__kw_args={'sr': 16000, 'n_mfcc': 13, 'n_fft': 1024, 'hop_length': 128, 'fmin': 300.0, 'fmax': 4000.0}; total time= 1.1min\n"
     ]
    },
    {
     "name": "stderr",
     "output_type": "stream",
     "text": [
      "/Users/axel/.pyenv/versions/3.8.12/envs/us8kdata/lib/python3.8/site-packages/librosa/util/decorators.py:88: UserWarning: n_fft=1024 is too small for input signal of length=960\n",
      "  return f(*args, **kwargs)\n",
      "/Users/axel/.pyenv/versions/3.8.12/envs/us8kdata/lib/python3.8/site-packages/librosa/util/decorators.py:88: UserWarning: n_fft=1024 is too small for input signal of length=800\n",
      "  return f(*args, **kwargs)\n",
      "/Users/axel/.pyenv/versions/3.8.12/envs/us8kdata/lib/python3.8/site-packages/librosa/util/decorators.py:88: UserWarning: n_fft=1024 is too small for input signal of length=960\n",
      "  return f(*args, **kwargs)\n"
     ]
    },
    {
     "name": "stdout",
     "output_type": "stream",
     "text": [
      "[CV] END estimator=XGBClassifier(base_score=None, booster=None, callbacks=None,\n",
      "              colsample_bylevel=None, colsample_bynode=None,\n",
      "              colsample_bytree=None, early_stopping_rounds=None,\n",
      "              enable_categorical=False, eval_metric=None, gamma=None,\n",
      "              gpu_id=None, grow_policy=None, importance_type=None,\n",
      "              interaction_constraints=None, learning_rate=0.025, max_bin=None,\n",
      "              max_cat_to_onehot=None, max_delta_step=None, max_depth=8,\n",
      "              max_leaves=None, min_child_weight=None, missing=nan,\n",
      "              monotone_constraints=None, n_estimators=400, n_jobs=None,\n",
      "              num_parallel_tree=None, objective='multi:softmax', predictor=None,\n",
      "              random_state=None, reg_alpha=None, ...), mean_mfcc__kw_args={'sr': 16000, 'n_mfcc': 13, 'n_fft': 1024, 'hop_length': 128, 'fmin': 300.0, 'fmax': 4000.0}; total time= 1.1min\n"
     ]
    },
    {
     "name": "stderr",
     "output_type": "stream",
     "text": [
      "/Users/axel/.pyenv/versions/3.8.12/envs/us8kdata/lib/python3.8/site-packages/librosa/util/decorators.py:88: UserWarning: n_fft=1024 is too small for input signal of length=800\n",
      "  return f(*args, **kwargs)\n",
      "/Users/axel/.pyenv/versions/3.8.12/envs/us8kdata/lib/python3.8/site-packages/librosa/util/decorators.py:88: UserWarning: n_fft=1024 is too small for input signal of length=960\n",
      "  return f(*args, **kwargs)\n",
      "/Users/axel/.pyenv/versions/3.8.12/envs/us8kdata/lib/python3.8/site-packages/librosa/util/decorators.py:88: UserWarning: n_fft=1024 is too small for input signal of length=960\n",
      "  return f(*args, **kwargs)\n"
     ]
    },
    {
     "name": "stdout",
     "output_type": "stream",
     "text": [
      "[CV] END estimator=XGBClassifier(base_score=None, booster=None, callbacks=None,\n",
      "              colsample_bylevel=None, colsample_bynode=None,\n",
      "              colsample_bytree=None, early_stopping_rounds=None,\n",
      "              enable_categorical=False, eval_metric=None, gamma=None,\n",
      "              gpu_id=None, grow_policy=None, importance_type=None,\n",
      "              interaction_constraints=None, learning_rate=0.025, max_bin=None,\n",
      "              max_cat_to_onehot=None, max_delta_step=None, max_depth=8,\n",
      "              max_leaves=None, min_child_weight=None, missing=nan,\n",
      "              monotone_constraints=None, n_estimators=400, n_jobs=None,\n",
      "              num_parallel_tree=None, objective='multi:softmax', predictor=None,\n",
      "              random_state=None, reg_alpha=None, ...), mean_mfcc__kw_args={'sr': 16000, 'n_mfcc': 13, 'n_fft': 1024, 'hop_length': 128, 'fmin': 300.0, 'fmax': 5000.0}; total time= 1.2min\n"
     ]
    },
    {
     "name": "stderr",
     "output_type": "stream",
     "text": [
      "/Users/axel/.pyenv/versions/3.8.12/envs/us8kdata/lib/python3.8/site-packages/librosa/util/decorators.py:88: UserWarning: n_fft=1024 is too small for input signal of length=960\n",
      "  return f(*args, **kwargs)\n",
      "/Users/axel/.pyenv/versions/3.8.12/envs/us8kdata/lib/python3.8/site-packages/librosa/util/decorators.py:88: UserWarning: n_fft=1024 is too small for input signal of length=800\n",
      "  return f(*args, **kwargs)\n",
      "/Users/axel/.pyenv/versions/3.8.12/envs/us8kdata/lib/python3.8/site-packages/librosa/util/decorators.py:88: UserWarning: n_fft=1024 is too small for input signal of length=960\n",
      "  return f(*args, **kwargs)\n"
     ]
    },
    {
     "name": "stdout",
     "output_type": "stream",
     "text": [
      "[CV] END estimator=XGBClassifier(base_score=None, booster=None, callbacks=None,\n",
      "              colsample_bylevel=None, colsample_bynode=None,\n",
      "              colsample_bytree=None, early_stopping_rounds=None,\n",
      "              enable_categorical=False, eval_metric=None, gamma=None,\n",
      "              gpu_id=None, grow_policy=None, importance_type=None,\n",
      "              interaction_constraints=None, learning_rate=0.025, max_bin=None,\n",
      "              max_cat_to_onehot=None, max_delta_step=None, max_depth=8,\n",
      "              max_leaves=None, min_child_weight=None, missing=nan,\n",
      "              monotone_constraints=None, n_estimators=400, n_jobs=None,\n",
      "              num_parallel_tree=None, objective='multi:softmax', predictor=None,\n",
      "              random_state=None, reg_alpha=None, ...), mean_mfcc__kw_args={'sr': 16000, 'n_mfcc': 13, 'n_fft': 1024, 'hop_length': 128, 'fmin': 300.0, 'fmax': 5000.0}; total time= 1.1min\n"
     ]
    },
    {
     "name": "stderr",
     "output_type": "stream",
     "text": [
      "/Users/axel/.pyenv/versions/3.8.12/envs/us8kdata/lib/python3.8/site-packages/librosa/util/decorators.py:88: UserWarning: n_fft=1024 is too small for input signal of length=800\n",
      "  return f(*args, **kwargs)\n",
      "/Users/axel/.pyenv/versions/3.8.12/envs/us8kdata/lib/python3.8/site-packages/librosa/util/decorators.py:88: UserWarning: n_fft=1024 is too small for input signal of length=960\n",
      "  return f(*args, **kwargs)\n",
      "/Users/axel/.pyenv/versions/3.8.12/envs/us8kdata/lib/python3.8/site-packages/librosa/util/decorators.py:88: UserWarning: n_fft=1024 is too small for input signal of length=960\n",
      "  return f(*args, **kwargs)\n"
     ]
    },
    {
     "name": "stdout",
     "output_type": "stream",
     "text": [
      "[CV] END estimator=XGBClassifier(base_score=None, booster=None, callbacks=None,\n",
      "              colsample_bylevel=None, colsample_bynode=None,\n",
      "              colsample_bytree=None, early_stopping_rounds=None,\n",
      "              enable_categorical=False, eval_metric=None, gamma=None,\n",
      "              gpu_id=None, grow_policy=None, importance_type=None,\n",
      "              interaction_constraints=None, learning_rate=0.025, max_bin=None,\n",
      "              max_cat_to_onehot=None, max_delta_step=None, max_depth=8,\n",
      "              max_leaves=None, min_child_weight=None, missing=nan,\n",
      "              monotone_constraints=None, n_estimators=400, n_jobs=None,\n",
      "              num_parallel_tree=None, objective='multi:softmax', predictor=None,\n",
      "              random_state=None, reg_alpha=None, ...), mean_mfcc__kw_args={'sr': 16000, 'n_mfcc': 13, 'n_fft': 1024, 'hop_length': 128, 'fmin': 500.0, 'fmax': None}; total time= 1.1min\n"
     ]
    },
    {
     "name": "stderr",
     "output_type": "stream",
     "text": [
      "/Users/axel/.pyenv/versions/3.8.12/envs/us8kdata/lib/python3.8/site-packages/librosa/util/decorators.py:88: UserWarning: n_fft=1024 is too small for input signal of length=960\n",
      "  return f(*args, **kwargs)\n",
      "/Users/axel/.pyenv/versions/3.8.12/envs/us8kdata/lib/python3.8/site-packages/librosa/util/decorators.py:88: UserWarning: n_fft=1024 is too small for input signal of length=800\n",
      "  return f(*args, **kwargs)\n",
      "/Users/axel/.pyenv/versions/3.8.12/envs/us8kdata/lib/python3.8/site-packages/librosa/util/decorators.py:88: UserWarning: n_fft=1024 is too small for input signal of length=960\n",
      "  return f(*args, **kwargs)\n"
     ]
    },
    {
     "name": "stdout",
     "output_type": "stream",
     "text": [
      "[CV] END estimator=XGBClassifier(base_score=None, booster=None, callbacks=None,\n",
      "              colsample_bylevel=None, colsample_bynode=None,\n",
      "              colsample_bytree=None, early_stopping_rounds=None,\n",
      "              enable_categorical=False, eval_metric=None, gamma=None,\n",
      "              gpu_id=None, grow_policy=None, importance_type=None,\n",
      "              interaction_constraints=None, learning_rate=0.025, max_bin=None,\n",
      "              max_cat_to_onehot=None, max_delta_step=None, max_depth=8,\n",
      "              max_leaves=None, min_child_weight=None, missing=nan,\n",
      "              monotone_constraints=None, n_estimators=400, n_jobs=None,\n",
      "              num_parallel_tree=None, objective='multi:softmax', predictor=None,\n",
      "              random_state=None, reg_alpha=None, ...), mean_mfcc__kw_args={'sr': 16000, 'n_mfcc': 13, 'n_fft': 1024, 'hop_length': 128, 'fmin': 500.0, 'fmax': None}; total time= 1.1min\n"
     ]
    },
    {
     "name": "stderr",
     "output_type": "stream",
     "text": [
      "/Users/axel/.pyenv/versions/3.8.12/envs/us8kdata/lib/python3.8/site-packages/librosa/util/decorators.py:88: UserWarning: n_fft=1024 is too small for input signal of length=800\n",
      "  return f(*args, **kwargs)\n",
      "/Users/axel/.pyenv/versions/3.8.12/envs/us8kdata/lib/python3.8/site-packages/librosa/util/decorators.py:88: UserWarning: n_fft=1024 is too small for input signal of length=960\n",
      "  return f(*args, **kwargs)\n",
      "/Users/axel/.pyenv/versions/3.8.12/envs/us8kdata/lib/python3.8/site-packages/librosa/util/decorators.py:88: UserWarning: n_fft=1024 is too small for input signal of length=960\n",
      "  return f(*args, **kwargs)\n"
     ]
    },
    {
     "name": "stdout",
     "output_type": "stream",
     "text": [
      "[CV] END estimator=XGBClassifier(base_score=None, booster=None, callbacks=None,\n",
      "              colsample_bylevel=None, colsample_bynode=None,\n",
      "              colsample_bytree=None, early_stopping_rounds=None,\n",
      "              enable_categorical=False, eval_metric=None, gamma=None,\n",
      "              gpu_id=None, grow_policy=None, importance_type=None,\n",
      "              interaction_constraints=None, learning_rate=0.025, max_bin=None,\n",
      "              max_cat_to_onehot=None, max_delta_step=None, max_depth=8,\n",
      "              max_leaves=None, min_child_weight=None, missing=nan,\n",
      "              monotone_constraints=None, n_estimators=400, n_jobs=None,\n",
      "              num_parallel_tree=None, objective='multi:softmax', predictor=None,\n",
      "              random_state=None, reg_alpha=None, ...), mean_mfcc__kw_args={'sr': 16000, 'n_mfcc': 13, 'n_fft': 1024, 'hop_length': 128, 'fmin': 500.0, 'fmax': 3000.0}; total time= 1.2min\n"
     ]
    },
    {
     "name": "stderr",
     "output_type": "stream",
     "text": [
      "/Users/axel/.pyenv/versions/3.8.12/envs/us8kdata/lib/python3.8/site-packages/librosa/util/decorators.py:88: UserWarning: n_fft=1024 is too small for input signal of length=960\n",
      "  return f(*args, **kwargs)\n",
      "/Users/axel/.pyenv/versions/3.8.12/envs/us8kdata/lib/python3.8/site-packages/librosa/util/decorators.py:88: UserWarning: n_fft=1024 is too small for input signal of length=800\n",
      "  return f(*args, **kwargs)\n",
      "/Users/axel/.pyenv/versions/3.8.12/envs/us8kdata/lib/python3.8/site-packages/librosa/util/decorators.py:88: UserWarning: n_fft=1024 is too small for input signal of length=960\n",
      "  return f(*args, **kwargs)\n"
     ]
    },
    {
     "name": "stdout",
     "output_type": "stream",
     "text": [
      "[CV] END estimator=XGBClassifier(base_score=None, booster=None, callbacks=None,\n",
      "              colsample_bylevel=None, colsample_bynode=None,\n",
      "              colsample_bytree=None, early_stopping_rounds=None,\n",
      "              enable_categorical=False, eval_metric=None, gamma=None,\n",
      "              gpu_id=None, grow_policy=None, importance_type=None,\n",
      "              interaction_constraints=None, learning_rate=0.025, max_bin=None,\n",
      "              max_cat_to_onehot=None, max_delta_step=None, max_depth=8,\n",
      "              max_leaves=None, min_child_weight=None, missing=nan,\n",
      "              monotone_constraints=None, n_estimators=400, n_jobs=None,\n",
      "              num_parallel_tree=None, objective='multi:softmax', predictor=None,\n",
      "              random_state=None, reg_alpha=None, ...), mean_mfcc__kw_args={'sr': 16000, 'n_mfcc': 13, 'n_fft': 1024, 'hop_length': 128, 'fmin': 500.0, 'fmax': 3000.0}; total time= 1.1min\n"
     ]
    },
    {
     "name": "stderr",
     "output_type": "stream",
     "text": [
      "/Users/axel/.pyenv/versions/3.8.12/envs/us8kdata/lib/python3.8/site-packages/librosa/util/decorators.py:88: UserWarning: n_fft=1024 is too small for input signal of length=800\n",
      "  return f(*args, **kwargs)\n",
      "/Users/axel/.pyenv/versions/3.8.12/envs/us8kdata/lib/python3.8/site-packages/librosa/util/decorators.py:88: UserWarning: n_fft=1024 is too small for input signal of length=960\n",
      "  return f(*args, **kwargs)\n",
      "/Users/axel/.pyenv/versions/3.8.12/envs/us8kdata/lib/python3.8/site-packages/librosa/util/decorators.py:88: UserWarning: n_fft=1024 is too small for input signal of length=960\n",
      "  return f(*args, **kwargs)\n"
     ]
    },
    {
     "name": "stdout",
     "output_type": "stream",
     "text": [
      "[CV] END estimator=XGBClassifier(base_score=None, booster=None, callbacks=None,\n",
      "              colsample_bylevel=None, colsample_bynode=None,\n",
      "              colsample_bytree=None, early_stopping_rounds=None,\n",
      "              enable_categorical=False, eval_metric=None, gamma=None,\n",
      "              gpu_id=None, grow_policy=None, importance_type=None,\n",
      "              interaction_constraints=None, learning_rate=0.025, max_bin=None,\n",
      "              max_cat_to_onehot=None, max_delta_step=None, max_depth=8,\n",
      "              max_leaves=None, min_child_weight=None, missing=nan,\n",
      "              monotone_constraints=None, n_estimators=400, n_jobs=None,\n",
      "              num_parallel_tree=None, objective='multi:softmax', predictor=None,\n",
      "              random_state=None, reg_alpha=None, ...), mean_mfcc__kw_args={'sr': 16000, 'n_mfcc': 13, 'n_fft': 1024, 'hop_length': 128, 'fmin': 500.0, 'fmax': 4000.0}; total time= 1.2min\n"
     ]
    },
    {
     "name": "stderr",
     "output_type": "stream",
     "text": [
      "/Users/axel/.pyenv/versions/3.8.12/envs/us8kdata/lib/python3.8/site-packages/librosa/util/decorators.py:88: UserWarning: n_fft=1024 is too small for input signal of length=960\n",
      "  return f(*args, **kwargs)\n",
      "/Users/axel/.pyenv/versions/3.8.12/envs/us8kdata/lib/python3.8/site-packages/librosa/util/decorators.py:88: UserWarning: n_fft=1024 is too small for input signal of length=800\n",
      "  return f(*args, **kwargs)\n",
      "/Users/axel/.pyenv/versions/3.8.12/envs/us8kdata/lib/python3.8/site-packages/librosa/util/decorators.py:88: UserWarning: n_fft=1024 is too small for input signal of length=960\n",
      "  return f(*args, **kwargs)\n"
     ]
    },
    {
     "name": "stdout",
     "output_type": "stream",
     "text": [
      "[CV] END estimator=XGBClassifier(base_score=None, booster=None, callbacks=None,\n",
      "              colsample_bylevel=None, colsample_bynode=None,\n",
      "              colsample_bytree=None, early_stopping_rounds=None,\n",
      "              enable_categorical=False, eval_metric=None, gamma=None,\n",
      "              gpu_id=None, grow_policy=None, importance_type=None,\n",
      "              interaction_constraints=None, learning_rate=0.025, max_bin=None,\n",
      "              max_cat_to_onehot=None, max_delta_step=None, max_depth=8,\n",
      "              max_leaves=None, min_child_weight=None, missing=nan,\n",
      "              monotone_constraints=None, n_estimators=400, n_jobs=None,\n",
      "              num_parallel_tree=None, objective='multi:softmax', predictor=None,\n",
      "              random_state=None, reg_alpha=None, ...), mean_mfcc__kw_args={'sr': 16000, 'n_mfcc': 13, 'n_fft': 1024, 'hop_length': 128, 'fmin': 500.0, 'fmax': 4000.0}; total time= 1.2min\n"
     ]
    },
    {
     "name": "stderr",
     "output_type": "stream",
     "text": [
      "/Users/axel/.pyenv/versions/3.8.12/envs/us8kdata/lib/python3.8/site-packages/librosa/util/decorators.py:88: UserWarning: n_fft=1024 is too small for input signal of length=800\n",
      "  return f(*args, **kwargs)\n",
      "/Users/axel/.pyenv/versions/3.8.12/envs/us8kdata/lib/python3.8/site-packages/librosa/util/decorators.py:88: UserWarning: n_fft=1024 is too small for input signal of length=960\n",
      "  return f(*args, **kwargs)\n",
      "/Users/axel/.pyenv/versions/3.8.12/envs/us8kdata/lib/python3.8/site-packages/librosa/util/decorators.py:88: UserWarning: n_fft=1024 is too small for input signal of length=960\n",
      "  return f(*args, **kwargs)\n"
     ]
    },
    {
     "name": "stdout",
     "output_type": "stream",
     "text": [
      "[CV] END estimator=XGBClassifier(base_score=None, booster=None, callbacks=None,\n",
      "              colsample_bylevel=None, colsample_bynode=None,\n",
      "              colsample_bytree=None, early_stopping_rounds=None,\n",
      "              enable_categorical=False, eval_metric=None, gamma=None,\n",
      "              gpu_id=None, grow_policy=None, importance_type=None,\n",
      "              interaction_constraints=None, learning_rate=0.025, max_bin=None,\n",
      "              max_cat_to_onehot=None, max_delta_step=None, max_depth=8,\n",
      "              max_leaves=None, min_child_weight=None, missing=nan,\n",
      "              monotone_constraints=None, n_estimators=400, n_jobs=None,\n",
      "              num_parallel_tree=None, objective='multi:softmax', predictor=None,\n",
      "              random_state=None, reg_alpha=None, ...), mean_mfcc__kw_args={'sr': 16000, 'n_mfcc': 13, 'n_fft': 1024, 'hop_length': 128, 'fmin': 500.0, 'fmax': 5000.0}; total time= 1.2min\n"
     ]
    },
    {
     "name": "stderr",
     "output_type": "stream",
     "text": [
      "/Users/axel/.pyenv/versions/3.8.12/envs/us8kdata/lib/python3.8/site-packages/librosa/util/decorators.py:88: UserWarning: n_fft=1024 is too small for input signal of length=960\n",
      "  return f(*args, **kwargs)\n",
      "/Users/axel/.pyenv/versions/3.8.12/envs/us8kdata/lib/python3.8/site-packages/librosa/util/decorators.py:88: UserWarning: n_fft=1024 is too small for input signal of length=800\n",
      "  return f(*args, **kwargs)\n",
      "/Users/axel/.pyenv/versions/3.8.12/envs/us8kdata/lib/python3.8/site-packages/librosa/util/decorators.py:88: UserWarning: n_fft=1024 is too small for input signal of length=960\n",
      "  return f(*args, **kwargs)\n"
     ]
    },
    {
     "name": "stdout",
     "output_type": "stream",
     "text": [
      "[CV] END estimator=XGBClassifier(base_score=None, booster=None, callbacks=None,\n",
      "              colsample_bylevel=None, colsample_bynode=None,\n",
      "              colsample_bytree=None, early_stopping_rounds=None,\n",
      "              enable_categorical=False, eval_metric=None, gamma=None,\n",
      "              gpu_id=None, grow_policy=None, importance_type=None,\n",
      "              interaction_constraints=None, learning_rate=0.025, max_bin=None,\n",
      "              max_cat_to_onehot=None, max_delta_step=None, max_depth=8,\n",
      "              max_leaves=None, min_child_weight=None, missing=nan,\n",
      "              monotone_constraints=None, n_estimators=400, n_jobs=None,\n",
      "              num_parallel_tree=None, objective='multi:softmax', predictor=None,\n",
      "              random_state=None, reg_alpha=None, ...), mean_mfcc__kw_args={'sr': 16000, 'n_mfcc': 13, 'n_fft': 1024, 'hop_length': 128, 'fmin': 500.0, 'fmax': 5000.0}; total time= 1.1min\n"
     ]
    },
    {
     "name": "stderr",
     "output_type": "stream",
     "text": [
      "/Users/axel/.pyenv/versions/3.8.12/envs/us8kdata/lib/python3.8/site-packages/librosa/util/decorators.py:88: UserWarning: Empty filters detected in mel frequency basis. Some channels will produce empty responses. Try increasing your sampling rate (and fmax) or reducing n_mels.\n",
      "  return f(*args, **kwargs)\n",
      "/Users/axel/.pyenv/versions/3.8.12/envs/us8kdata/lib/python3.8/site-packages/librosa/util/decorators.py:88: UserWarning: Empty filters detected in mel frequency basis. Some channels will produce empty responses. Try increasing your sampling rate (and fmax) or reducing n_mels.\n",
      "  return f(*args, **kwargs)\n"
     ]
    },
    {
     "name": "stdout",
     "output_type": "stream",
     "text": [
      "[CV] END estimator=XGBClassifier(base_score=None, booster=None, callbacks=None,\n",
      "              colsample_bylevel=None, colsample_bynode=None,\n",
      "              colsample_bytree=None, early_stopping_rounds=None,\n",
      "              enable_categorical=False, eval_metric=None, gamma=None,\n",
      "              gpu_id=None, grow_policy=None, importance_type=None,\n",
      "              interaction_constraints=None, learning_rate=0.025, max_bin=None,\n",
      "              max_cat_to_onehot=None, max_delta_step=None, max_depth=8,\n",
      "              max_leaves=None, min_child_weight=None, missing=nan,\n",
      "              monotone_constraints=None, n_estimators=400, n_jobs=None,\n",
      "              num_parallel_tree=None, objective='multi:softmax', predictor=None,\n",
      "              random_state=None, reg_alpha=None, ...), mean_mfcc__kw_args={'sr': 16000, 'n_mfcc': 16, 'n_fft': 256, 'hop_length': 128, 'fmin': 0.0, 'fmax': None}; total time=  43.2s\n"
     ]
    },
    {
     "name": "stderr",
     "output_type": "stream",
     "text": [
      "/Users/axel/.pyenv/versions/3.8.12/envs/us8kdata/lib/python3.8/site-packages/librosa/util/decorators.py:88: UserWarning: Empty filters detected in mel frequency basis. Some channels will produce empty responses. Try increasing your sampling rate (and fmax) or reducing n_mels.\n",
      "  return f(*args, **kwargs)\n",
      "/Users/axel/.pyenv/versions/3.8.12/envs/us8kdata/lib/python3.8/site-packages/librosa/util/decorators.py:88: UserWarning: Empty filters detected in mel frequency basis. Some channels will produce empty responses. Try increasing your sampling rate (and fmax) or reducing n_mels.\n",
      "  return f(*args, **kwargs)\n"
     ]
    },
    {
     "name": "stdout",
     "output_type": "stream",
     "text": [
      "[CV] END estimator=XGBClassifier(base_score=None, booster=None, callbacks=None,\n",
      "              colsample_bylevel=None, colsample_bynode=None,\n",
      "              colsample_bytree=None, early_stopping_rounds=None,\n",
      "              enable_categorical=False, eval_metric=None, gamma=None,\n",
      "              gpu_id=None, grow_policy=None, importance_type=None,\n",
      "              interaction_constraints=None, learning_rate=0.025, max_bin=None,\n",
      "              max_cat_to_onehot=None, max_delta_step=None, max_depth=8,\n",
      "              max_leaves=None, min_child_weight=None, missing=nan,\n",
      "              monotone_constraints=None, n_estimators=400, n_jobs=None,\n",
      "              num_parallel_tree=None, objective='multi:softmax', predictor=None,\n",
      "              random_state=None, reg_alpha=None, ...), mean_mfcc__kw_args={'sr': 16000, 'n_mfcc': 16, 'n_fft': 256, 'hop_length': 128, 'fmin': 0.0, 'fmax': None}; total time=  43.2s\n"
     ]
    },
    {
     "name": "stderr",
     "output_type": "stream",
     "text": [
      "/Users/axel/.pyenv/versions/3.8.12/envs/us8kdata/lib/python3.8/site-packages/librosa/util/decorators.py:88: UserWarning: Empty filters detected in mel frequency basis. Some channels will produce empty responses. Try increasing your sampling rate (and fmax) or reducing n_mels.\n",
      "  return f(*args, **kwargs)\n",
      "/Users/axel/.pyenv/versions/3.8.12/envs/us8kdata/lib/python3.8/site-packages/librosa/util/decorators.py:88: UserWarning: Empty filters detected in mel frequency basis. Some channels will produce empty responses. Try increasing your sampling rate (and fmax) or reducing n_mels.\n",
      "  return f(*args, **kwargs)\n"
     ]
    },
    {
     "name": "stdout",
     "output_type": "stream",
     "text": [
      "[CV] END estimator=XGBClassifier(base_score=None, booster=None, callbacks=None,\n",
      "              colsample_bylevel=None, colsample_bynode=None,\n",
      "              colsample_bytree=None, early_stopping_rounds=None,\n",
      "              enable_categorical=False, eval_metric=None, gamma=None,\n",
      "              gpu_id=None, grow_policy=None, importance_type=None,\n",
      "              interaction_constraints=None, learning_rate=0.025, max_bin=None,\n",
      "              max_cat_to_onehot=None, max_delta_step=None, max_depth=8,\n",
      "              max_leaves=None, min_child_weight=None, missing=nan,\n",
      "              monotone_constraints=None, n_estimators=400, n_jobs=None,\n",
      "              num_parallel_tree=None, objective='multi:softmax', predictor=None,\n",
      "              random_state=None, reg_alpha=None, ...), mean_mfcc__kw_args={'sr': 16000, 'n_mfcc': 16, 'n_fft': 256, 'hop_length': 128, 'fmin': 0.0, 'fmax': 3000.0}; total time=  42.4s\n"
     ]
    },
    {
     "name": "stderr",
     "output_type": "stream",
     "text": [
      "/Users/axel/.pyenv/versions/3.8.12/envs/us8kdata/lib/python3.8/site-packages/librosa/util/decorators.py:88: UserWarning: Empty filters detected in mel frequency basis. Some channels will produce empty responses. Try increasing your sampling rate (and fmax) or reducing n_mels.\n",
      "  return f(*args, **kwargs)\n",
      "/Users/axel/.pyenv/versions/3.8.12/envs/us8kdata/lib/python3.8/site-packages/librosa/util/decorators.py:88: UserWarning: Empty filters detected in mel frequency basis. Some channels will produce empty responses. Try increasing your sampling rate (and fmax) or reducing n_mels.\n",
      "  return f(*args, **kwargs)\n"
     ]
    },
    {
     "name": "stdout",
     "output_type": "stream",
     "text": [
      "[CV] END estimator=XGBClassifier(base_score=None, booster=None, callbacks=None,\n",
      "              colsample_bylevel=None, colsample_bynode=None,\n",
      "              colsample_bytree=None, early_stopping_rounds=None,\n",
      "              enable_categorical=False, eval_metric=None, gamma=None,\n",
      "              gpu_id=None, grow_policy=None, importance_type=None,\n",
      "              interaction_constraints=None, learning_rate=0.025, max_bin=None,\n",
      "              max_cat_to_onehot=None, max_delta_step=None, max_depth=8,\n",
      "              max_leaves=None, min_child_weight=None, missing=nan,\n",
      "              monotone_constraints=None, n_estimators=400, n_jobs=None,\n",
      "              num_parallel_tree=None, objective='multi:softmax', predictor=None,\n",
      "              random_state=None, reg_alpha=None, ...), mean_mfcc__kw_args={'sr': 16000, 'n_mfcc': 16, 'n_fft': 256, 'hop_length': 128, 'fmin': 0.0, 'fmax': 3000.0}; total time=  43.0s\n"
     ]
    },
    {
     "name": "stderr",
     "output_type": "stream",
     "text": [
      "/Users/axel/.pyenv/versions/3.8.12/envs/us8kdata/lib/python3.8/site-packages/librosa/util/decorators.py:88: UserWarning: Empty filters detected in mel frequency basis. Some channels will produce empty responses. Try increasing your sampling rate (and fmax) or reducing n_mels.\n",
      "  return f(*args, **kwargs)\n",
      "/Users/axel/.pyenv/versions/3.8.12/envs/us8kdata/lib/python3.8/site-packages/librosa/util/decorators.py:88: UserWarning: Empty filters detected in mel frequency basis. Some channels will produce empty responses. Try increasing your sampling rate (and fmax) or reducing n_mels.\n",
      "  return f(*args, **kwargs)\n"
     ]
    },
    {
     "name": "stdout",
     "output_type": "stream",
     "text": [
      "[CV] END estimator=XGBClassifier(base_score=None, booster=None, callbacks=None,\n",
      "              colsample_bylevel=None, colsample_bynode=None,\n",
      "              colsample_bytree=None, early_stopping_rounds=None,\n",
      "              enable_categorical=False, eval_metric=None, gamma=None,\n",
      "              gpu_id=None, grow_policy=None, importance_type=None,\n",
      "              interaction_constraints=None, learning_rate=0.025, max_bin=None,\n",
      "              max_cat_to_onehot=None, max_delta_step=None, max_depth=8,\n",
      "              max_leaves=None, min_child_weight=None, missing=nan,\n",
      "              monotone_constraints=None, n_estimators=400, n_jobs=None,\n",
      "              num_parallel_tree=None, objective='multi:softmax', predictor=None,\n",
      "              random_state=None, reg_alpha=None, ...), mean_mfcc__kw_args={'sr': 16000, 'n_mfcc': 16, 'n_fft': 256, 'hop_length': 128, 'fmin': 0.0, 'fmax': 4000.0}; total time=  45.1s\n"
     ]
    },
    {
     "name": "stderr",
     "output_type": "stream",
     "text": [
      "/Users/axel/.pyenv/versions/3.8.12/envs/us8kdata/lib/python3.8/site-packages/librosa/util/decorators.py:88: UserWarning: Empty filters detected in mel frequency basis. Some channels will produce empty responses. Try increasing your sampling rate (and fmax) or reducing n_mels.\n",
      "  return f(*args, **kwargs)\n",
      "/Users/axel/.pyenv/versions/3.8.12/envs/us8kdata/lib/python3.8/site-packages/librosa/util/decorators.py:88: UserWarning: Empty filters detected in mel frequency basis. Some channels will produce empty responses. Try increasing your sampling rate (and fmax) or reducing n_mels.\n",
      "  return f(*args, **kwargs)\n"
     ]
    },
    {
     "name": "stdout",
     "output_type": "stream",
     "text": [
      "[CV] END estimator=XGBClassifier(base_score=None, booster=None, callbacks=None,\n",
      "              colsample_bylevel=None, colsample_bynode=None,\n",
      "              colsample_bytree=None, early_stopping_rounds=None,\n",
      "              enable_categorical=False, eval_metric=None, gamma=None,\n",
      "              gpu_id=None, grow_policy=None, importance_type=None,\n",
      "              interaction_constraints=None, learning_rate=0.025, max_bin=None,\n",
      "              max_cat_to_onehot=None, max_delta_step=None, max_depth=8,\n",
      "              max_leaves=None, min_child_weight=None, missing=nan,\n",
      "              monotone_constraints=None, n_estimators=400, n_jobs=None,\n",
      "              num_parallel_tree=None, objective='multi:softmax', predictor=None,\n",
      "              random_state=None, reg_alpha=None, ...), mean_mfcc__kw_args={'sr': 16000, 'n_mfcc': 16, 'n_fft': 256, 'hop_length': 128, 'fmin': 0.0, 'fmax': 4000.0}; total time=  42.0s\n"
     ]
    },
    {
     "name": "stderr",
     "output_type": "stream",
     "text": [
      "/Users/axel/.pyenv/versions/3.8.12/envs/us8kdata/lib/python3.8/site-packages/librosa/util/decorators.py:88: UserWarning: Empty filters detected in mel frequency basis. Some channels will produce empty responses. Try increasing your sampling rate (and fmax) or reducing n_mels.\n",
      "  return f(*args, **kwargs)\n",
      "/Users/axel/.pyenv/versions/3.8.12/envs/us8kdata/lib/python3.8/site-packages/librosa/util/decorators.py:88: UserWarning: Empty filters detected in mel frequency basis. Some channels will produce empty responses. Try increasing your sampling rate (and fmax) or reducing n_mels.\n",
      "  return f(*args, **kwargs)\n"
     ]
    },
    {
     "name": "stdout",
     "output_type": "stream",
     "text": [
      "[CV] END estimator=XGBClassifier(base_score=None, booster=None, callbacks=None,\n",
      "              colsample_bylevel=None, colsample_bynode=None,\n",
      "              colsample_bytree=None, early_stopping_rounds=None,\n",
      "              enable_categorical=False, eval_metric=None, gamma=None,\n",
      "              gpu_id=None, grow_policy=None, importance_type=None,\n",
      "              interaction_constraints=None, learning_rate=0.025, max_bin=None,\n",
      "              max_cat_to_onehot=None, max_delta_step=None, max_depth=8,\n",
      "              max_leaves=None, min_child_weight=None, missing=nan,\n",
      "              monotone_constraints=None, n_estimators=400, n_jobs=None,\n",
      "              num_parallel_tree=None, objective='multi:softmax', predictor=None,\n",
      "              random_state=None, reg_alpha=None, ...), mean_mfcc__kw_args={'sr': 16000, 'n_mfcc': 16, 'n_fft': 256, 'hop_length': 128, 'fmin': 0.0, 'fmax': 5000.0}; total time=  45.4s\n"
     ]
    },
    {
     "name": "stderr",
     "output_type": "stream",
     "text": [
      "/Users/axel/.pyenv/versions/3.8.12/envs/us8kdata/lib/python3.8/site-packages/librosa/util/decorators.py:88: UserWarning: Empty filters detected in mel frequency basis. Some channels will produce empty responses. Try increasing your sampling rate (and fmax) or reducing n_mels.\n",
      "  return f(*args, **kwargs)\n",
      "/Users/axel/.pyenv/versions/3.8.12/envs/us8kdata/lib/python3.8/site-packages/librosa/util/decorators.py:88: UserWarning: Empty filters detected in mel frequency basis. Some channels will produce empty responses. Try increasing your sampling rate (and fmax) or reducing n_mels.\n",
      "  return f(*args, **kwargs)\n"
     ]
    },
    {
     "name": "stdout",
     "output_type": "stream",
     "text": [
      "[CV] END estimator=XGBClassifier(base_score=None, booster=None, callbacks=None,\n",
      "              colsample_bylevel=None, colsample_bynode=None,\n",
      "              colsample_bytree=None, early_stopping_rounds=None,\n",
      "              enable_categorical=False, eval_metric=None, gamma=None,\n",
      "              gpu_id=None, grow_policy=None, importance_type=None,\n",
      "              interaction_constraints=None, learning_rate=0.025, max_bin=None,\n",
      "              max_cat_to_onehot=None, max_delta_step=None, max_depth=8,\n",
      "              max_leaves=None, min_child_weight=None, missing=nan,\n",
      "              monotone_constraints=None, n_estimators=400, n_jobs=None,\n",
      "              num_parallel_tree=None, objective='multi:softmax', predictor=None,\n",
      "              random_state=None, reg_alpha=None, ...), mean_mfcc__kw_args={'sr': 16000, 'n_mfcc': 16, 'n_fft': 256, 'hop_length': 128, 'fmin': 0.0, 'fmax': 5000.0}; total time=  44.0s\n"
     ]
    },
    {
     "name": "stderr",
     "output_type": "stream",
     "text": [
      "/Users/axel/.pyenv/versions/3.8.12/envs/us8kdata/lib/python3.8/site-packages/librosa/util/decorators.py:88: UserWarning: Empty filters detected in mel frequency basis. Some channels will produce empty responses. Try increasing your sampling rate (and fmax) or reducing n_mels.\n",
      "  return f(*args, **kwargs)\n",
      "/Users/axel/.pyenv/versions/3.8.12/envs/us8kdata/lib/python3.8/site-packages/librosa/util/decorators.py:88: UserWarning: Empty filters detected in mel frequency basis. Some channels will produce empty responses. Try increasing your sampling rate (and fmax) or reducing n_mels.\n",
      "  return f(*args, **kwargs)\n"
     ]
    },
    {
     "name": "stdout",
     "output_type": "stream",
     "text": [
      "[CV] END estimator=XGBClassifier(base_score=None, booster=None, callbacks=None,\n",
      "              colsample_bylevel=None, colsample_bynode=None,\n",
      "              colsample_bytree=None, early_stopping_rounds=None,\n",
      "              enable_categorical=False, eval_metric=None, gamma=None,\n",
      "              gpu_id=None, grow_policy=None, importance_type=None,\n",
      "              interaction_constraints=None, learning_rate=0.025, max_bin=None,\n",
      "              max_cat_to_onehot=None, max_delta_step=None, max_depth=8,\n",
      "              max_leaves=None, min_child_weight=None, missing=nan,\n",
      "              monotone_constraints=None, n_estimators=400, n_jobs=None,\n",
      "              num_parallel_tree=None, objective='multi:softmax', predictor=None,\n",
      "              random_state=None, reg_alpha=None, ...), mean_mfcc__kw_args={'sr': 16000, 'n_mfcc': 16, 'n_fft': 256, 'hop_length': 128, 'fmin': 300.0, 'fmax': None}; total time=  44.0s\n"
     ]
    },
    {
     "name": "stderr",
     "output_type": "stream",
     "text": [
      "/Users/axel/.pyenv/versions/3.8.12/envs/us8kdata/lib/python3.8/site-packages/librosa/util/decorators.py:88: UserWarning: Empty filters detected in mel frequency basis. Some channels will produce empty responses. Try increasing your sampling rate (and fmax) or reducing n_mels.\n",
      "  return f(*args, **kwargs)\n",
      "/Users/axel/.pyenv/versions/3.8.12/envs/us8kdata/lib/python3.8/site-packages/librosa/util/decorators.py:88: UserWarning: Empty filters detected in mel frequency basis. Some channels will produce empty responses. Try increasing your sampling rate (and fmax) or reducing n_mels.\n",
      "  return f(*args, **kwargs)\n"
     ]
    },
    {
     "name": "stdout",
     "output_type": "stream",
     "text": [
      "[CV] END estimator=XGBClassifier(base_score=None, booster=None, callbacks=None,\n",
      "              colsample_bylevel=None, colsample_bynode=None,\n",
      "              colsample_bytree=None, early_stopping_rounds=None,\n",
      "              enable_categorical=False, eval_metric=None, gamma=None,\n",
      "              gpu_id=None, grow_policy=None, importance_type=None,\n",
      "              interaction_constraints=None, learning_rate=0.025, max_bin=None,\n",
      "              max_cat_to_onehot=None, max_delta_step=None, max_depth=8,\n",
      "              max_leaves=None, min_child_weight=None, missing=nan,\n",
      "              monotone_constraints=None, n_estimators=400, n_jobs=None,\n",
      "              num_parallel_tree=None, objective='multi:softmax', predictor=None,\n",
      "              random_state=None, reg_alpha=None, ...), mean_mfcc__kw_args={'sr': 16000, 'n_mfcc': 16, 'n_fft': 256, 'hop_length': 128, 'fmin': 300.0, 'fmax': None}; total time=  41.1s\n"
     ]
    },
    {
     "name": "stderr",
     "output_type": "stream",
     "text": [
      "/Users/axel/.pyenv/versions/3.8.12/envs/us8kdata/lib/python3.8/site-packages/librosa/util/decorators.py:88: UserWarning: Empty filters detected in mel frequency basis. Some channels will produce empty responses. Try increasing your sampling rate (and fmax) or reducing n_mels.\n",
      "  return f(*args, **kwargs)\n",
      "/Users/axel/.pyenv/versions/3.8.12/envs/us8kdata/lib/python3.8/site-packages/librosa/util/decorators.py:88: UserWarning: Empty filters detected in mel frequency basis. Some channels will produce empty responses. Try increasing your sampling rate (and fmax) or reducing n_mels.\n",
      "  return f(*args, **kwargs)\n"
     ]
    },
    {
     "name": "stdout",
     "output_type": "stream",
     "text": [
      "[CV] END estimator=XGBClassifier(base_score=None, booster=None, callbacks=None,\n",
      "              colsample_bylevel=None, colsample_bynode=None,\n",
      "              colsample_bytree=None, early_stopping_rounds=None,\n",
      "              enable_categorical=False, eval_metric=None, gamma=None,\n",
      "              gpu_id=None, grow_policy=None, importance_type=None,\n",
      "              interaction_constraints=None, learning_rate=0.025, max_bin=None,\n",
      "              max_cat_to_onehot=None, max_delta_step=None, max_depth=8,\n",
      "              max_leaves=None, min_child_weight=None, missing=nan,\n",
      "              monotone_constraints=None, n_estimators=400, n_jobs=None,\n",
      "              num_parallel_tree=None, objective='multi:softmax', predictor=None,\n",
      "              random_state=None, reg_alpha=None, ...), mean_mfcc__kw_args={'sr': 16000, 'n_mfcc': 16, 'n_fft': 256, 'hop_length': 128, 'fmin': 300.0, 'fmax': 3000.0}; total time=  43.9s\n"
     ]
    },
    {
     "name": "stderr",
     "output_type": "stream",
     "text": [
      "/Users/axel/.pyenv/versions/3.8.12/envs/us8kdata/lib/python3.8/site-packages/librosa/util/decorators.py:88: UserWarning: Empty filters detected in mel frequency basis. Some channels will produce empty responses. Try increasing your sampling rate (and fmax) or reducing n_mels.\n",
      "  return f(*args, **kwargs)\n",
      "/Users/axel/.pyenv/versions/3.8.12/envs/us8kdata/lib/python3.8/site-packages/librosa/util/decorators.py:88: UserWarning: Empty filters detected in mel frequency basis. Some channels will produce empty responses. Try increasing your sampling rate (and fmax) or reducing n_mels.\n",
      "  return f(*args, **kwargs)\n"
     ]
    },
    {
     "name": "stdout",
     "output_type": "stream",
     "text": [
      "[CV] END estimator=XGBClassifier(base_score=None, booster=None, callbacks=None,\n",
      "              colsample_bylevel=None, colsample_bynode=None,\n",
      "              colsample_bytree=None, early_stopping_rounds=None,\n",
      "              enable_categorical=False, eval_metric=None, gamma=None,\n",
      "              gpu_id=None, grow_policy=None, importance_type=None,\n",
      "              interaction_constraints=None, learning_rate=0.025, max_bin=None,\n",
      "              max_cat_to_onehot=None, max_delta_step=None, max_depth=8,\n",
      "              max_leaves=None, min_child_weight=None, missing=nan,\n",
      "              monotone_constraints=None, n_estimators=400, n_jobs=None,\n",
      "              num_parallel_tree=None, objective='multi:softmax', predictor=None,\n",
      "              random_state=None, reg_alpha=None, ...), mean_mfcc__kw_args={'sr': 16000, 'n_mfcc': 16, 'n_fft': 256, 'hop_length': 128, 'fmin': 300.0, 'fmax': 3000.0}; total time=  42.2s\n"
     ]
    },
    {
     "name": "stderr",
     "output_type": "stream",
     "text": [
      "/Users/axel/.pyenv/versions/3.8.12/envs/us8kdata/lib/python3.8/site-packages/librosa/util/decorators.py:88: UserWarning: Empty filters detected in mel frequency basis. Some channels will produce empty responses. Try increasing your sampling rate (and fmax) or reducing n_mels.\n",
      "  return f(*args, **kwargs)\n",
      "/Users/axel/.pyenv/versions/3.8.12/envs/us8kdata/lib/python3.8/site-packages/librosa/util/decorators.py:88: UserWarning: Empty filters detected in mel frequency basis. Some channels will produce empty responses. Try increasing your sampling rate (and fmax) or reducing n_mels.\n",
      "  return f(*args, **kwargs)\n"
     ]
    },
    {
     "name": "stdout",
     "output_type": "stream",
     "text": [
      "[CV] END estimator=XGBClassifier(base_score=None, booster=None, callbacks=None,\n",
      "              colsample_bylevel=None, colsample_bynode=None,\n",
      "              colsample_bytree=None, early_stopping_rounds=None,\n",
      "              enable_categorical=False, eval_metric=None, gamma=None,\n",
      "              gpu_id=None, grow_policy=None, importance_type=None,\n",
      "              interaction_constraints=None, learning_rate=0.025, max_bin=None,\n",
      "              max_cat_to_onehot=None, max_delta_step=None, max_depth=8,\n",
      "              max_leaves=None, min_child_weight=None, missing=nan,\n",
      "              monotone_constraints=None, n_estimators=400, n_jobs=None,\n",
      "              num_parallel_tree=None, objective='multi:softmax', predictor=None,\n",
      "              random_state=None, reg_alpha=None, ...), mean_mfcc__kw_args={'sr': 16000, 'n_mfcc': 16, 'n_fft': 256, 'hop_length': 128, 'fmin': 300.0, 'fmax': 4000.0}; total time=  42.4s\n"
     ]
    },
    {
     "name": "stderr",
     "output_type": "stream",
     "text": [
      "/Users/axel/.pyenv/versions/3.8.12/envs/us8kdata/lib/python3.8/site-packages/librosa/util/decorators.py:88: UserWarning: Empty filters detected in mel frequency basis. Some channels will produce empty responses. Try increasing your sampling rate (and fmax) or reducing n_mels.\n",
      "  return f(*args, **kwargs)\n",
      "/Users/axel/.pyenv/versions/3.8.12/envs/us8kdata/lib/python3.8/site-packages/librosa/util/decorators.py:88: UserWarning: Empty filters detected in mel frequency basis. Some channels will produce empty responses. Try increasing your sampling rate (and fmax) or reducing n_mels.\n",
      "  return f(*args, **kwargs)\n"
     ]
    },
    {
     "name": "stdout",
     "output_type": "stream",
     "text": [
      "[CV] END estimator=XGBClassifier(base_score=None, booster=None, callbacks=None,\n",
      "              colsample_bylevel=None, colsample_bynode=None,\n",
      "              colsample_bytree=None, early_stopping_rounds=None,\n",
      "              enable_categorical=False, eval_metric=None, gamma=None,\n",
      "              gpu_id=None, grow_policy=None, importance_type=None,\n",
      "              interaction_constraints=None, learning_rate=0.025, max_bin=None,\n",
      "              max_cat_to_onehot=None, max_delta_step=None, max_depth=8,\n",
      "              max_leaves=None, min_child_weight=None, missing=nan,\n",
      "              monotone_constraints=None, n_estimators=400, n_jobs=None,\n",
      "              num_parallel_tree=None, objective='multi:softmax', predictor=None,\n",
      "              random_state=None, reg_alpha=None, ...), mean_mfcc__kw_args={'sr': 16000, 'n_mfcc': 16, 'n_fft': 256, 'hop_length': 128, 'fmin': 300.0, 'fmax': 4000.0}; total time=  41.2s\n"
     ]
    },
    {
     "name": "stderr",
     "output_type": "stream",
     "text": [
      "/Users/axel/.pyenv/versions/3.8.12/envs/us8kdata/lib/python3.8/site-packages/librosa/util/decorators.py:88: UserWarning: Empty filters detected in mel frequency basis. Some channels will produce empty responses. Try increasing your sampling rate (and fmax) or reducing n_mels.\n",
      "  return f(*args, **kwargs)\n",
      "/Users/axel/.pyenv/versions/3.8.12/envs/us8kdata/lib/python3.8/site-packages/librosa/util/decorators.py:88: UserWarning: Empty filters detected in mel frequency basis. Some channels will produce empty responses. Try increasing your sampling rate (and fmax) or reducing n_mels.\n",
      "  return f(*args, **kwargs)\n"
     ]
    },
    {
     "name": "stdout",
     "output_type": "stream",
     "text": [
      "[CV] END estimator=XGBClassifier(base_score=None, booster=None, callbacks=None,\n",
      "              colsample_bylevel=None, colsample_bynode=None,\n",
      "              colsample_bytree=None, early_stopping_rounds=None,\n",
      "              enable_categorical=False, eval_metric=None, gamma=None,\n",
      "              gpu_id=None, grow_policy=None, importance_type=None,\n",
      "              interaction_constraints=None, learning_rate=0.025, max_bin=None,\n",
      "              max_cat_to_onehot=None, max_delta_step=None, max_depth=8,\n",
      "              max_leaves=None, min_child_weight=None, missing=nan,\n",
      "              monotone_constraints=None, n_estimators=400, n_jobs=None,\n",
      "              num_parallel_tree=None, objective='multi:softmax', predictor=None,\n",
      "              random_state=None, reg_alpha=None, ...), mean_mfcc__kw_args={'sr': 16000, 'n_mfcc': 16, 'n_fft': 256, 'hop_length': 128, 'fmin': 300.0, 'fmax': 5000.0}; total time=  43.4s\n"
     ]
    },
    {
     "name": "stderr",
     "output_type": "stream",
     "text": [
      "/Users/axel/.pyenv/versions/3.8.12/envs/us8kdata/lib/python3.8/site-packages/librosa/util/decorators.py:88: UserWarning: Empty filters detected in mel frequency basis. Some channels will produce empty responses. Try increasing your sampling rate (and fmax) or reducing n_mels.\n",
      "  return f(*args, **kwargs)\n",
      "/Users/axel/.pyenv/versions/3.8.12/envs/us8kdata/lib/python3.8/site-packages/librosa/util/decorators.py:88: UserWarning: Empty filters detected in mel frequency basis. Some channels will produce empty responses. Try increasing your sampling rate (and fmax) or reducing n_mels.\n",
      "  return f(*args, **kwargs)\n"
     ]
    },
    {
     "name": "stdout",
     "output_type": "stream",
     "text": [
      "[CV] END estimator=XGBClassifier(base_score=None, booster=None, callbacks=None,\n",
      "              colsample_bylevel=None, colsample_bynode=None,\n",
      "              colsample_bytree=None, early_stopping_rounds=None,\n",
      "              enable_categorical=False, eval_metric=None, gamma=None,\n",
      "              gpu_id=None, grow_policy=None, importance_type=None,\n",
      "              interaction_constraints=None, learning_rate=0.025, max_bin=None,\n",
      "              max_cat_to_onehot=None, max_delta_step=None, max_depth=8,\n",
      "              max_leaves=None, min_child_weight=None, missing=nan,\n",
      "              monotone_constraints=None, n_estimators=400, n_jobs=None,\n",
      "              num_parallel_tree=None, objective='multi:softmax', predictor=None,\n",
      "              random_state=None, reg_alpha=None, ...), mean_mfcc__kw_args={'sr': 16000, 'n_mfcc': 16, 'n_fft': 256, 'hop_length': 128, 'fmin': 300.0, 'fmax': 5000.0}; total time=  42.6s\n"
     ]
    },
    {
     "name": "stderr",
     "output_type": "stream",
     "text": [
      "/Users/axel/.pyenv/versions/3.8.12/envs/us8kdata/lib/python3.8/site-packages/librosa/util/decorators.py:88: UserWarning: Empty filters detected in mel frequency basis. Some channels will produce empty responses. Try increasing your sampling rate (and fmax) or reducing n_mels.\n",
      "  return f(*args, **kwargs)\n",
      "/Users/axel/.pyenv/versions/3.8.12/envs/us8kdata/lib/python3.8/site-packages/librosa/util/decorators.py:88: UserWarning: Empty filters detected in mel frequency basis. Some channels will produce empty responses. Try increasing your sampling rate (and fmax) or reducing n_mels.\n",
      "  return f(*args, **kwargs)\n"
     ]
    },
    {
     "name": "stdout",
     "output_type": "stream",
     "text": [
      "[CV] END estimator=XGBClassifier(base_score=None, booster=None, callbacks=None,\n",
      "              colsample_bylevel=None, colsample_bynode=None,\n",
      "              colsample_bytree=None, early_stopping_rounds=None,\n",
      "              enable_categorical=False, eval_metric=None, gamma=None,\n",
      "              gpu_id=None, grow_policy=None, importance_type=None,\n",
      "              interaction_constraints=None, learning_rate=0.025, max_bin=None,\n",
      "              max_cat_to_onehot=None, max_delta_step=None, max_depth=8,\n",
      "              max_leaves=None, min_child_weight=None, missing=nan,\n",
      "              monotone_constraints=None, n_estimators=400, n_jobs=None,\n",
      "              num_parallel_tree=None, objective='multi:softmax', predictor=None,\n",
      "              random_state=None, reg_alpha=None, ...), mean_mfcc__kw_args={'sr': 16000, 'n_mfcc': 16, 'n_fft': 256, 'hop_length': 128, 'fmin': 500.0, 'fmax': None}; total time=  43.7s\n"
     ]
    },
    {
     "name": "stderr",
     "output_type": "stream",
     "text": [
      "/Users/axel/.pyenv/versions/3.8.12/envs/us8kdata/lib/python3.8/site-packages/librosa/util/decorators.py:88: UserWarning: Empty filters detected in mel frequency basis. Some channels will produce empty responses. Try increasing your sampling rate (and fmax) or reducing n_mels.\n",
      "  return f(*args, **kwargs)\n",
      "/Users/axel/.pyenv/versions/3.8.12/envs/us8kdata/lib/python3.8/site-packages/librosa/util/decorators.py:88: UserWarning: Empty filters detected in mel frequency basis. Some channels will produce empty responses. Try increasing your sampling rate (and fmax) or reducing n_mels.\n",
      "  return f(*args, **kwargs)\n"
     ]
    },
    {
     "name": "stdout",
     "output_type": "stream",
     "text": [
      "[CV] END estimator=XGBClassifier(base_score=None, booster=None, callbacks=None,\n",
      "              colsample_bylevel=None, colsample_bynode=None,\n",
      "              colsample_bytree=None, early_stopping_rounds=None,\n",
      "              enable_categorical=False, eval_metric=None, gamma=None,\n",
      "              gpu_id=None, grow_policy=None, importance_type=None,\n",
      "              interaction_constraints=None, learning_rate=0.025, max_bin=None,\n",
      "              max_cat_to_onehot=None, max_delta_step=None, max_depth=8,\n",
      "              max_leaves=None, min_child_weight=None, missing=nan,\n",
      "              monotone_constraints=None, n_estimators=400, n_jobs=None,\n",
      "              num_parallel_tree=None, objective='multi:softmax', predictor=None,\n",
      "              random_state=None, reg_alpha=None, ...), mean_mfcc__kw_args={'sr': 16000, 'n_mfcc': 16, 'n_fft': 256, 'hop_length': 128, 'fmin': 500.0, 'fmax': None}; total time=  43.9s\n"
     ]
    },
    {
     "name": "stderr",
     "output_type": "stream",
     "text": [
      "/Users/axel/.pyenv/versions/3.8.12/envs/us8kdata/lib/python3.8/site-packages/librosa/util/decorators.py:88: UserWarning: Empty filters detected in mel frequency basis. Some channels will produce empty responses. Try increasing your sampling rate (and fmax) or reducing n_mels.\n",
      "  return f(*args, **kwargs)\n",
      "/Users/axel/.pyenv/versions/3.8.12/envs/us8kdata/lib/python3.8/site-packages/librosa/util/decorators.py:88: UserWarning: Empty filters detected in mel frequency basis. Some channels will produce empty responses. Try increasing your sampling rate (and fmax) or reducing n_mels.\n",
      "  return f(*args, **kwargs)\n"
     ]
    },
    {
     "name": "stdout",
     "output_type": "stream",
     "text": [
      "[CV] END estimator=XGBClassifier(base_score=None, booster=None, callbacks=None,\n",
      "              colsample_bylevel=None, colsample_bynode=None,\n",
      "              colsample_bytree=None, early_stopping_rounds=None,\n",
      "              enable_categorical=False, eval_metric=None, gamma=None,\n",
      "              gpu_id=None, grow_policy=None, importance_type=None,\n",
      "              interaction_constraints=None, learning_rate=0.025, max_bin=None,\n",
      "              max_cat_to_onehot=None, max_delta_step=None, max_depth=8,\n",
      "              max_leaves=None, min_child_weight=None, missing=nan,\n",
      "              monotone_constraints=None, n_estimators=400, n_jobs=None,\n",
      "              num_parallel_tree=None, objective='multi:softmax', predictor=None,\n",
      "              random_state=None, reg_alpha=None, ...), mean_mfcc__kw_args={'sr': 16000, 'n_mfcc': 16, 'n_fft': 256, 'hop_length': 128, 'fmin': 500.0, 'fmax': 3000.0}; total time=  43.4s\n"
     ]
    },
    {
     "name": "stderr",
     "output_type": "stream",
     "text": [
      "/Users/axel/.pyenv/versions/3.8.12/envs/us8kdata/lib/python3.8/site-packages/librosa/util/decorators.py:88: UserWarning: Empty filters detected in mel frequency basis. Some channels will produce empty responses. Try increasing your sampling rate (and fmax) or reducing n_mels.\n",
      "  return f(*args, **kwargs)\n",
      "/Users/axel/.pyenv/versions/3.8.12/envs/us8kdata/lib/python3.8/site-packages/librosa/util/decorators.py:88: UserWarning: Empty filters detected in mel frequency basis. Some channels will produce empty responses. Try increasing your sampling rate (and fmax) or reducing n_mels.\n",
      "  return f(*args, **kwargs)\n"
     ]
    },
    {
     "name": "stdout",
     "output_type": "stream",
     "text": [
      "[CV] END estimator=XGBClassifier(base_score=None, booster=None, callbacks=None,\n",
      "              colsample_bylevel=None, colsample_bynode=None,\n",
      "              colsample_bytree=None, early_stopping_rounds=None,\n",
      "              enable_categorical=False, eval_metric=None, gamma=None,\n",
      "              gpu_id=None, grow_policy=None, importance_type=None,\n",
      "              interaction_constraints=None, learning_rate=0.025, max_bin=None,\n",
      "              max_cat_to_onehot=None, max_delta_step=None, max_depth=8,\n",
      "              max_leaves=None, min_child_weight=None, missing=nan,\n",
      "              monotone_constraints=None, n_estimators=400, n_jobs=None,\n",
      "              num_parallel_tree=None, objective='multi:softmax', predictor=None,\n",
      "              random_state=None, reg_alpha=None, ...), mean_mfcc__kw_args={'sr': 16000, 'n_mfcc': 16, 'n_fft': 256, 'hop_length': 128, 'fmin': 500.0, 'fmax': 3000.0}; total time=  42.2s\n"
     ]
    },
    {
     "name": "stderr",
     "output_type": "stream",
     "text": [
      "/Users/axel/.pyenv/versions/3.8.12/envs/us8kdata/lib/python3.8/site-packages/librosa/util/decorators.py:88: UserWarning: Empty filters detected in mel frequency basis. Some channels will produce empty responses. Try increasing your sampling rate (and fmax) or reducing n_mels.\n",
      "  return f(*args, **kwargs)\n",
      "/Users/axel/.pyenv/versions/3.8.12/envs/us8kdata/lib/python3.8/site-packages/librosa/util/decorators.py:88: UserWarning: Empty filters detected in mel frequency basis. Some channels will produce empty responses. Try increasing your sampling rate (and fmax) or reducing n_mels.\n",
      "  return f(*args, **kwargs)\n"
     ]
    },
    {
     "name": "stdout",
     "output_type": "stream",
     "text": [
      "[CV] END estimator=XGBClassifier(base_score=None, booster=None, callbacks=None,\n",
      "              colsample_bylevel=None, colsample_bynode=None,\n",
      "              colsample_bytree=None, early_stopping_rounds=None,\n",
      "              enable_categorical=False, eval_metric=None, gamma=None,\n",
      "              gpu_id=None, grow_policy=None, importance_type=None,\n",
      "              interaction_constraints=None, learning_rate=0.025, max_bin=None,\n",
      "              max_cat_to_onehot=None, max_delta_step=None, max_depth=8,\n",
      "              max_leaves=None, min_child_weight=None, missing=nan,\n",
      "              monotone_constraints=None, n_estimators=400, n_jobs=None,\n",
      "              num_parallel_tree=None, objective='multi:softmax', predictor=None,\n",
      "              random_state=None, reg_alpha=None, ...), mean_mfcc__kw_args={'sr': 16000, 'n_mfcc': 16, 'n_fft': 256, 'hop_length': 128, 'fmin': 500.0, 'fmax': 4000.0}; total time=  45.4s\n"
     ]
    },
    {
     "name": "stderr",
     "output_type": "stream",
     "text": [
      "/Users/axel/.pyenv/versions/3.8.12/envs/us8kdata/lib/python3.8/site-packages/librosa/util/decorators.py:88: UserWarning: Empty filters detected in mel frequency basis. Some channels will produce empty responses. Try increasing your sampling rate (and fmax) or reducing n_mels.\n",
      "  return f(*args, **kwargs)\n",
      "/Users/axel/.pyenv/versions/3.8.12/envs/us8kdata/lib/python3.8/site-packages/librosa/util/decorators.py:88: UserWarning: Empty filters detected in mel frequency basis. Some channels will produce empty responses. Try increasing your sampling rate (and fmax) or reducing n_mels.\n",
      "  return f(*args, **kwargs)\n"
     ]
    },
    {
     "name": "stdout",
     "output_type": "stream",
     "text": [
      "[CV] END estimator=XGBClassifier(base_score=None, booster=None, callbacks=None,\n",
      "              colsample_bylevel=None, colsample_bynode=None,\n",
      "              colsample_bytree=None, early_stopping_rounds=None,\n",
      "              enable_categorical=False, eval_metric=None, gamma=None,\n",
      "              gpu_id=None, grow_policy=None, importance_type=None,\n",
      "              interaction_constraints=None, learning_rate=0.025, max_bin=None,\n",
      "              max_cat_to_onehot=None, max_delta_step=None, max_depth=8,\n",
      "              max_leaves=None, min_child_weight=None, missing=nan,\n",
      "              monotone_constraints=None, n_estimators=400, n_jobs=None,\n",
      "              num_parallel_tree=None, objective='multi:softmax', predictor=None,\n",
      "              random_state=None, reg_alpha=None, ...), mean_mfcc__kw_args={'sr': 16000, 'n_mfcc': 16, 'n_fft': 256, 'hop_length': 128, 'fmin': 500.0, 'fmax': 4000.0}; total time=  43.0s\n"
     ]
    },
    {
     "name": "stderr",
     "output_type": "stream",
     "text": [
      "/Users/axel/.pyenv/versions/3.8.12/envs/us8kdata/lib/python3.8/site-packages/librosa/util/decorators.py:88: UserWarning: Empty filters detected in mel frequency basis. Some channels will produce empty responses. Try increasing your sampling rate (and fmax) or reducing n_mels.\n",
      "  return f(*args, **kwargs)\n",
      "/Users/axel/.pyenv/versions/3.8.12/envs/us8kdata/lib/python3.8/site-packages/librosa/util/decorators.py:88: UserWarning: Empty filters detected in mel frequency basis. Some channels will produce empty responses. Try increasing your sampling rate (and fmax) or reducing n_mels.\n",
      "  return f(*args, **kwargs)\n"
     ]
    },
    {
     "name": "stdout",
     "output_type": "stream",
     "text": [
      "[CV] END estimator=XGBClassifier(base_score=None, booster=None, callbacks=None,\n",
      "              colsample_bylevel=None, colsample_bynode=None,\n",
      "              colsample_bytree=None, early_stopping_rounds=None,\n",
      "              enable_categorical=False, eval_metric=None, gamma=None,\n",
      "              gpu_id=None, grow_policy=None, importance_type=None,\n",
      "              interaction_constraints=None, learning_rate=0.025, max_bin=None,\n",
      "              max_cat_to_onehot=None, max_delta_step=None, max_depth=8,\n",
      "              max_leaves=None, min_child_weight=None, missing=nan,\n",
      "              monotone_constraints=None, n_estimators=400, n_jobs=None,\n",
      "              num_parallel_tree=None, objective='multi:softmax', predictor=None,\n",
      "              random_state=None, reg_alpha=None, ...), mean_mfcc__kw_args={'sr': 16000, 'n_mfcc': 16, 'n_fft': 256, 'hop_length': 128, 'fmin': 500.0, 'fmax': 5000.0}; total time=  43.2s\n"
     ]
    },
    {
     "name": "stderr",
     "output_type": "stream",
     "text": [
      "/Users/axel/.pyenv/versions/3.8.12/envs/us8kdata/lib/python3.8/site-packages/librosa/util/decorators.py:88: UserWarning: Empty filters detected in mel frequency basis. Some channels will produce empty responses. Try increasing your sampling rate (and fmax) or reducing n_mels.\n",
      "  return f(*args, **kwargs)\n",
      "/Users/axel/.pyenv/versions/3.8.12/envs/us8kdata/lib/python3.8/site-packages/librosa/util/decorators.py:88: UserWarning: Empty filters detected in mel frequency basis. Some channels will produce empty responses. Try increasing your sampling rate (and fmax) or reducing n_mels.\n",
      "  return f(*args, **kwargs)\n"
     ]
    },
    {
     "name": "stdout",
     "output_type": "stream",
     "text": [
      "[CV] END estimator=XGBClassifier(base_score=None, booster=None, callbacks=None,\n",
      "              colsample_bylevel=None, colsample_bynode=None,\n",
      "              colsample_bytree=None, early_stopping_rounds=None,\n",
      "              enable_categorical=False, eval_metric=None, gamma=None,\n",
      "              gpu_id=None, grow_policy=None, importance_type=None,\n",
      "              interaction_constraints=None, learning_rate=0.025, max_bin=None,\n",
      "              max_cat_to_onehot=None, max_delta_step=None, max_depth=8,\n",
      "              max_leaves=None, min_child_weight=None, missing=nan,\n",
      "              monotone_constraints=None, n_estimators=400, n_jobs=None,\n",
      "              num_parallel_tree=None, objective='multi:softmax', predictor=None,\n",
      "              random_state=None, reg_alpha=None, ...), mean_mfcc__kw_args={'sr': 16000, 'n_mfcc': 16, 'n_fft': 256, 'hop_length': 128, 'fmin': 500.0, 'fmax': 5000.0}; total time=  41.3s\n",
      "[CV] END estimator=XGBClassifier(base_score=None, booster=None, callbacks=None,\n",
      "              colsample_bylevel=None, colsample_bynode=None,\n",
      "              colsample_bytree=None, early_stopping_rounds=None,\n",
      "              enable_categorical=False, eval_metric=None, gamma=None,\n",
      "              gpu_id=None, grow_policy=None, importance_type=None,\n",
      "              interaction_constraints=None, learning_rate=0.025, max_bin=None,\n",
      "              max_cat_to_onehot=None, max_delta_step=None, max_depth=8,\n",
      "              max_leaves=None, min_child_weight=None, missing=nan,\n",
      "              monotone_constraints=None, n_estimators=400, n_jobs=None,\n",
      "              num_parallel_tree=None, objective='multi:softmax', predictor=None,\n",
      "              random_state=None, reg_alpha=None, ...), mean_mfcc__kw_args={'sr': 16000, 'n_mfcc': 16, 'n_fft': 512, 'hop_length': 128, 'fmin': 0.0, 'fmax': None}; total time=  50.8s\n",
      "[CV] END estimator=XGBClassifier(base_score=None, booster=None, callbacks=None,\n",
      "              colsample_bylevel=None, colsample_bynode=None,\n",
      "              colsample_bytree=None, early_stopping_rounds=None,\n",
      "              enable_categorical=False, eval_metric=None, gamma=None,\n",
      "              gpu_id=None, grow_policy=None, importance_type=None,\n",
      "              interaction_constraints=None, learning_rate=0.025, max_bin=None,\n",
      "              max_cat_to_onehot=None, max_delta_step=None, max_depth=8,\n",
      "              max_leaves=None, min_child_weight=None, missing=nan,\n",
      "              monotone_constraints=None, n_estimators=400, n_jobs=None,\n",
      "              num_parallel_tree=None, objective='multi:softmax', predictor=None,\n",
      "              random_state=None, reg_alpha=None, ...), mean_mfcc__kw_args={'sr': 16000, 'n_mfcc': 16, 'n_fft': 512, 'hop_length': 128, 'fmin': 0.0, 'fmax': None}; total time=  49.7s\n",
      "[CV] END estimator=XGBClassifier(base_score=None, booster=None, callbacks=None,\n",
      "              colsample_bylevel=None, colsample_bynode=None,\n",
      "              colsample_bytree=None, early_stopping_rounds=None,\n",
      "              enable_categorical=False, eval_metric=None, gamma=None,\n",
      "              gpu_id=None, grow_policy=None, importance_type=None,\n",
      "              interaction_constraints=None, learning_rate=0.025, max_bin=None,\n",
      "              max_cat_to_onehot=None, max_delta_step=None, max_depth=8,\n",
      "              max_leaves=None, min_child_weight=None, missing=nan,\n",
      "              monotone_constraints=None, n_estimators=400, n_jobs=None,\n",
      "              num_parallel_tree=None, objective='multi:softmax', predictor=None,\n",
      "              random_state=None, reg_alpha=None, ...), mean_mfcc__kw_args={'sr': 16000, 'n_mfcc': 16, 'n_fft': 512, 'hop_length': 128, 'fmin': 0.0, 'fmax': 3000.0}; total time=  50.5s\n",
      "[CV] END estimator=XGBClassifier(base_score=None, booster=None, callbacks=None,\n",
      "              colsample_bylevel=None, colsample_bynode=None,\n",
      "              colsample_bytree=None, early_stopping_rounds=None,\n",
      "              enable_categorical=False, eval_metric=None, gamma=None,\n",
      "              gpu_id=None, grow_policy=None, importance_type=None,\n",
      "              interaction_constraints=None, learning_rate=0.025, max_bin=None,\n",
      "              max_cat_to_onehot=None, max_delta_step=None, max_depth=8,\n",
      "              max_leaves=None, min_child_weight=None, missing=nan,\n",
      "              monotone_constraints=None, n_estimators=400, n_jobs=None,\n",
      "              num_parallel_tree=None, objective='multi:softmax', predictor=None,\n",
      "              random_state=None, reg_alpha=None, ...), mean_mfcc__kw_args={'sr': 16000, 'n_mfcc': 16, 'n_fft': 512, 'hop_length': 128, 'fmin': 0.0, 'fmax': 3000.0}; total time=  50.0s\n",
      "[CV] END estimator=XGBClassifier(base_score=None, booster=None, callbacks=None,\n",
      "              colsample_bylevel=None, colsample_bynode=None,\n",
      "              colsample_bytree=None, early_stopping_rounds=None,\n",
      "              enable_categorical=False, eval_metric=None, gamma=None,\n",
      "              gpu_id=None, grow_policy=None, importance_type=None,\n",
      "              interaction_constraints=None, learning_rate=0.025, max_bin=None,\n",
      "              max_cat_to_onehot=None, max_delta_step=None, max_depth=8,\n",
      "              max_leaves=None, min_child_weight=None, missing=nan,\n",
      "              monotone_constraints=None, n_estimators=400, n_jobs=None,\n",
      "              num_parallel_tree=None, objective='multi:softmax', predictor=None,\n",
      "              random_state=None, reg_alpha=None, ...), mean_mfcc__kw_args={'sr': 16000, 'n_mfcc': 16, 'n_fft': 512, 'hop_length': 128, 'fmin': 0.0, 'fmax': 4000.0}; total time=  50.1s\n",
      "[CV] END estimator=XGBClassifier(base_score=None, booster=None, callbacks=None,\n",
      "              colsample_bylevel=None, colsample_bynode=None,\n",
      "              colsample_bytree=None, early_stopping_rounds=None,\n",
      "              enable_categorical=False, eval_metric=None, gamma=None,\n",
      "              gpu_id=None, grow_policy=None, importance_type=None,\n",
      "              interaction_constraints=None, learning_rate=0.025, max_bin=None,\n",
      "              max_cat_to_onehot=None, max_delta_step=None, max_depth=8,\n",
      "              max_leaves=None, min_child_weight=None, missing=nan,\n",
      "              monotone_constraints=None, n_estimators=400, n_jobs=None,\n",
      "              num_parallel_tree=None, objective='multi:softmax', predictor=None,\n",
      "              random_state=None, reg_alpha=None, ...), mean_mfcc__kw_args={'sr': 16000, 'n_mfcc': 16, 'n_fft': 512, 'hop_length': 128, 'fmin': 0.0, 'fmax': 4000.0}; total time=  50.6s\n",
      "[CV] END estimator=XGBClassifier(base_score=None, booster=None, callbacks=None,\n",
      "              colsample_bylevel=None, colsample_bynode=None,\n",
      "              colsample_bytree=None, early_stopping_rounds=None,\n",
      "              enable_categorical=False, eval_metric=None, gamma=None,\n",
      "              gpu_id=None, grow_policy=None, importance_type=None,\n",
      "              interaction_constraints=None, learning_rate=0.025, max_bin=None,\n",
      "              max_cat_to_onehot=None, max_delta_step=None, max_depth=8,\n",
      "              max_leaves=None, min_child_weight=None, missing=nan,\n",
      "              monotone_constraints=None, n_estimators=400, n_jobs=None,\n",
      "              num_parallel_tree=None, objective='multi:softmax', predictor=None,\n",
      "              random_state=None, reg_alpha=None, ...), mean_mfcc__kw_args={'sr': 16000, 'n_mfcc': 16, 'n_fft': 512, 'hop_length': 128, 'fmin': 0.0, 'fmax': 5000.0}; total time=  51.1s\n",
      "[CV] END estimator=XGBClassifier(base_score=None, booster=None, callbacks=None,\n",
      "              colsample_bylevel=None, colsample_bynode=None,\n",
      "              colsample_bytree=None, early_stopping_rounds=None,\n",
      "              enable_categorical=False, eval_metric=None, gamma=None,\n",
      "              gpu_id=None, grow_policy=None, importance_type=None,\n",
      "              interaction_constraints=None, learning_rate=0.025, max_bin=None,\n",
      "              max_cat_to_onehot=None, max_delta_step=None, max_depth=8,\n",
      "              max_leaves=None, min_child_weight=None, missing=nan,\n",
      "              monotone_constraints=None, n_estimators=400, n_jobs=None,\n",
      "              num_parallel_tree=None, objective='multi:softmax', predictor=None,\n",
      "              random_state=None, reg_alpha=None, ...), mean_mfcc__kw_args={'sr': 16000, 'n_mfcc': 16, 'n_fft': 512, 'hop_length': 128, 'fmin': 0.0, 'fmax': 5000.0}; total time=  52.0s\n",
      "[CV] END estimator=XGBClassifier(base_score=None, booster=None, callbacks=None,\n",
      "              colsample_bylevel=None, colsample_bynode=None,\n",
      "              colsample_bytree=None, early_stopping_rounds=None,\n",
      "              enable_categorical=False, eval_metric=None, gamma=None,\n",
      "              gpu_id=None, grow_policy=None, importance_type=None,\n",
      "              interaction_constraints=None, learning_rate=0.025, max_bin=None,\n",
      "              max_cat_to_onehot=None, max_delta_step=None, max_depth=8,\n",
      "              max_leaves=None, min_child_weight=None, missing=nan,\n",
      "              monotone_constraints=None, n_estimators=400, n_jobs=None,\n",
      "              num_parallel_tree=None, objective='multi:softmax', predictor=None,\n",
      "              random_state=None, reg_alpha=None, ...), mean_mfcc__kw_args={'sr': 16000, 'n_mfcc': 16, 'n_fft': 512, 'hop_length': 128, 'fmin': 300.0, 'fmax': None}; total time=  52.0s\n"
     ]
    },
    {
     "name": "stdout",
     "output_type": "stream",
     "text": [
      "[CV] END estimator=XGBClassifier(base_score=None, booster=None, callbacks=None,\n",
      "              colsample_bylevel=None, colsample_bynode=None,\n",
      "              colsample_bytree=None, early_stopping_rounds=None,\n",
      "              enable_categorical=False, eval_metric=None, gamma=None,\n",
      "              gpu_id=None, grow_policy=None, importance_type=None,\n",
      "              interaction_constraints=None, learning_rate=0.025, max_bin=None,\n",
      "              max_cat_to_onehot=None, max_delta_step=None, max_depth=8,\n",
      "              max_leaves=None, min_child_weight=None, missing=nan,\n",
      "              monotone_constraints=None, n_estimators=400, n_jobs=None,\n",
      "              num_parallel_tree=None, objective='multi:softmax', predictor=None,\n",
      "              random_state=None, reg_alpha=None, ...), mean_mfcc__kw_args={'sr': 16000, 'n_mfcc': 16, 'n_fft': 512, 'hop_length': 128, 'fmin': 300.0, 'fmax': None}; total time=  51.3s\n",
      "[CV] END estimator=XGBClassifier(base_score=None, booster=None, callbacks=None,\n",
      "              colsample_bylevel=None, colsample_bynode=None,\n",
      "              colsample_bytree=None, early_stopping_rounds=None,\n",
      "              enable_categorical=False, eval_metric=None, gamma=None,\n",
      "              gpu_id=None, grow_policy=None, importance_type=None,\n",
      "              interaction_constraints=None, learning_rate=0.025, max_bin=None,\n",
      "              max_cat_to_onehot=None, max_delta_step=None, max_depth=8,\n",
      "              max_leaves=None, min_child_weight=None, missing=nan,\n",
      "              monotone_constraints=None, n_estimators=400, n_jobs=None,\n",
      "              num_parallel_tree=None, objective='multi:softmax', predictor=None,\n",
      "              random_state=None, reg_alpha=None, ...), mean_mfcc__kw_args={'sr': 16000, 'n_mfcc': 16, 'n_fft': 512, 'hop_length': 128, 'fmin': 300.0, 'fmax': 3000.0}; total time=  53.8s\n",
      "[CV] END estimator=XGBClassifier(base_score=None, booster=None, callbacks=None,\n",
      "              colsample_bylevel=None, colsample_bynode=None,\n",
      "              colsample_bytree=None, early_stopping_rounds=None,\n",
      "              enable_categorical=False, eval_metric=None, gamma=None,\n",
      "              gpu_id=None, grow_policy=None, importance_type=None,\n",
      "              interaction_constraints=None, learning_rate=0.025, max_bin=None,\n",
      "              max_cat_to_onehot=None, max_delta_step=None, max_depth=8,\n",
      "              max_leaves=None, min_child_weight=None, missing=nan,\n",
      "              monotone_constraints=None, n_estimators=400, n_jobs=None,\n",
      "              num_parallel_tree=None, objective='multi:softmax', predictor=None,\n",
      "              random_state=None, reg_alpha=None, ...), mean_mfcc__kw_args={'sr': 16000, 'n_mfcc': 16, 'n_fft': 512, 'hop_length': 128, 'fmin': 300.0, 'fmax': 3000.0}; total time=  51.1s\n",
      "[CV] END estimator=XGBClassifier(base_score=None, booster=None, callbacks=None,\n",
      "              colsample_bylevel=None, colsample_bynode=None,\n",
      "              colsample_bytree=None, early_stopping_rounds=None,\n",
      "              enable_categorical=False, eval_metric=None, gamma=None,\n",
      "              gpu_id=None, grow_policy=None, importance_type=None,\n",
      "              interaction_constraints=None, learning_rate=0.025, max_bin=None,\n",
      "              max_cat_to_onehot=None, max_delta_step=None, max_depth=8,\n",
      "              max_leaves=None, min_child_weight=None, missing=nan,\n",
      "              monotone_constraints=None, n_estimators=400, n_jobs=None,\n",
      "              num_parallel_tree=None, objective='multi:softmax', predictor=None,\n",
      "              random_state=None, reg_alpha=None, ...), mean_mfcc__kw_args={'sr': 16000, 'n_mfcc': 16, 'n_fft': 512, 'hop_length': 128, 'fmin': 300.0, 'fmax': 4000.0}; total time=  51.5s\n",
      "[CV] END estimator=XGBClassifier(base_score=None, booster=None, callbacks=None,\n",
      "              colsample_bylevel=None, colsample_bynode=None,\n",
      "              colsample_bytree=None, early_stopping_rounds=None,\n",
      "              enable_categorical=False, eval_metric=None, gamma=None,\n",
      "              gpu_id=None, grow_policy=None, importance_type=None,\n",
      "              interaction_constraints=None, learning_rate=0.025, max_bin=None,\n",
      "              max_cat_to_onehot=None, max_delta_step=None, max_depth=8,\n",
      "              max_leaves=None, min_child_weight=None, missing=nan,\n",
      "              monotone_constraints=None, n_estimators=400, n_jobs=None,\n",
      "              num_parallel_tree=None, objective='multi:softmax', predictor=None,\n",
      "              random_state=None, reg_alpha=None, ...), mean_mfcc__kw_args={'sr': 16000, 'n_mfcc': 16, 'n_fft': 512, 'hop_length': 128, 'fmin': 300.0, 'fmax': 4000.0}; total time=  52.5s\n",
      "[CV] END estimator=XGBClassifier(base_score=None, booster=None, callbacks=None,\n",
      "              colsample_bylevel=None, colsample_bynode=None,\n",
      "              colsample_bytree=None, early_stopping_rounds=None,\n",
      "              enable_categorical=False, eval_metric=None, gamma=None,\n",
      "              gpu_id=None, grow_policy=None, importance_type=None,\n",
      "              interaction_constraints=None, learning_rate=0.025, max_bin=None,\n",
      "              max_cat_to_onehot=None, max_delta_step=None, max_depth=8,\n",
      "              max_leaves=None, min_child_weight=None, missing=nan,\n",
      "              monotone_constraints=None, n_estimators=400, n_jobs=None,\n",
      "              num_parallel_tree=None, objective='multi:softmax', predictor=None,\n",
      "              random_state=None, reg_alpha=None, ...), mean_mfcc__kw_args={'sr': 16000, 'n_mfcc': 16, 'n_fft': 512, 'hop_length': 128, 'fmin': 300.0, 'fmax': 5000.0}; total time=  54.7s\n",
      "[CV] END estimator=XGBClassifier(base_score=None, booster=None, callbacks=None,\n",
      "              colsample_bylevel=None, colsample_bynode=None,\n",
      "              colsample_bytree=None, early_stopping_rounds=None,\n",
      "              enable_categorical=False, eval_metric=None, gamma=None,\n",
      "              gpu_id=None, grow_policy=None, importance_type=None,\n",
      "              interaction_constraints=None, learning_rate=0.025, max_bin=None,\n",
      "              max_cat_to_onehot=None, max_delta_step=None, max_depth=8,\n",
      "              max_leaves=None, min_child_weight=None, missing=nan,\n",
      "              monotone_constraints=None, n_estimators=400, n_jobs=None,\n",
      "              num_parallel_tree=None, objective='multi:softmax', predictor=None,\n",
      "              random_state=None, reg_alpha=None, ...), mean_mfcc__kw_args={'sr': 16000, 'n_mfcc': 16, 'n_fft': 512, 'hop_length': 128, 'fmin': 300.0, 'fmax': 5000.0}; total time=  51.6s\n",
      "[CV] END estimator=XGBClassifier(base_score=None, booster=None, callbacks=None,\n",
      "              colsample_bylevel=None, colsample_bynode=None,\n",
      "              colsample_bytree=None, early_stopping_rounds=None,\n",
      "              enable_categorical=False, eval_metric=None, gamma=None,\n",
      "              gpu_id=None, grow_policy=None, importance_type=None,\n",
      "              interaction_constraints=None, learning_rate=0.025, max_bin=None,\n",
      "              max_cat_to_onehot=None, max_delta_step=None, max_depth=8,\n",
      "              max_leaves=None, min_child_weight=None, missing=nan,\n",
      "              monotone_constraints=None, n_estimators=400, n_jobs=None,\n",
      "              num_parallel_tree=None, objective='multi:softmax', predictor=None,\n",
      "              random_state=None, reg_alpha=None, ...), mean_mfcc__kw_args={'sr': 16000, 'n_mfcc': 16, 'n_fft': 512, 'hop_length': 128, 'fmin': 500.0, 'fmax': None}; total time=  53.3s\n",
      "[CV] END estimator=XGBClassifier(base_score=None, booster=None, callbacks=None,\n",
      "              colsample_bylevel=None, colsample_bynode=None,\n",
      "              colsample_bytree=None, early_stopping_rounds=None,\n",
      "              enable_categorical=False, eval_metric=None, gamma=None,\n",
      "              gpu_id=None, grow_policy=None, importance_type=None,\n",
      "              interaction_constraints=None, learning_rate=0.025, max_bin=None,\n",
      "              max_cat_to_onehot=None, max_delta_step=None, max_depth=8,\n",
      "              max_leaves=None, min_child_weight=None, missing=nan,\n",
      "              monotone_constraints=None, n_estimators=400, n_jobs=None,\n",
      "              num_parallel_tree=None, objective='multi:softmax', predictor=None,\n",
      "              random_state=None, reg_alpha=None, ...), mean_mfcc__kw_args={'sr': 16000, 'n_mfcc': 16, 'n_fft': 512, 'hop_length': 128, 'fmin': 500.0, 'fmax': None}; total time=  52.5s\n",
      "[CV] END estimator=XGBClassifier(base_score=None, booster=None, callbacks=None,\n",
      "              colsample_bylevel=None, colsample_bynode=None,\n",
      "              colsample_bytree=None, early_stopping_rounds=None,\n",
      "              enable_categorical=False, eval_metric=None, gamma=None,\n",
      "              gpu_id=None, grow_policy=None, importance_type=None,\n",
      "              interaction_constraints=None, learning_rate=0.025, max_bin=None,\n",
      "              max_cat_to_onehot=None, max_delta_step=None, max_depth=8,\n",
      "              max_leaves=None, min_child_weight=None, missing=nan,\n",
      "              monotone_constraints=None, n_estimators=400, n_jobs=None,\n",
      "              num_parallel_tree=None, objective='multi:softmax', predictor=None,\n",
      "              random_state=None, reg_alpha=None, ...), mean_mfcc__kw_args={'sr': 16000, 'n_mfcc': 16, 'n_fft': 512, 'hop_length': 128, 'fmin': 500.0, 'fmax': 3000.0}; total time=  53.6s\n"
     ]
    },
    {
     "name": "stdout",
     "output_type": "stream",
     "text": [
      "[CV] END estimator=XGBClassifier(base_score=None, booster=None, callbacks=None,\n",
      "              colsample_bylevel=None, colsample_bynode=None,\n",
      "              colsample_bytree=None, early_stopping_rounds=None,\n",
      "              enable_categorical=False, eval_metric=None, gamma=None,\n",
      "              gpu_id=None, grow_policy=None, importance_type=None,\n",
      "              interaction_constraints=None, learning_rate=0.025, max_bin=None,\n",
      "              max_cat_to_onehot=None, max_delta_step=None, max_depth=8,\n",
      "              max_leaves=None, min_child_weight=None, missing=nan,\n",
      "              monotone_constraints=None, n_estimators=400, n_jobs=None,\n",
      "              num_parallel_tree=None, objective='multi:softmax', predictor=None,\n",
      "              random_state=None, reg_alpha=None, ...), mean_mfcc__kw_args={'sr': 16000, 'n_mfcc': 16, 'n_fft': 512, 'hop_length': 128, 'fmin': 500.0, 'fmax': 3000.0}; total time=  52.8s\n",
      "[CV] END estimator=XGBClassifier(base_score=None, booster=None, callbacks=None,\n",
      "              colsample_bylevel=None, colsample_bynode=None,\n",
      "              colsample_bytree=None, early_stopping_rounds=None,\n",
      "              enable_categorical=False, eval_metric=None, gamma=None,\n",
      "              gpu_id=None, grow_policy=None, importance_type=None,\n",
      "              interaction_constraints=None, learning_rate=0.025, max_bin=None,\n",
      "              max_cat_to_onehot=None, max_delta_step=None, max_depth=8,\n",
      "              max_leaves=None, min_child_weight=None, missing=nan,\n",
      "              monotone_constraints=None, n_estimators=400, n_jobs=None,\n",
      "              num_parallel_tree=None, objective='multi:softmax', predictor=None,\n",
      "              random_state=None, reg_alpha=None, ...), mean_mfcc__kw_args={'sr': 16000, 'n_mfcc': 16, 'n_fft': 512, 'hop_length': 128, 'fmin': 500.0, 'fmax': 4000.0}; total time=  53.8s\n",
      "[CV] END estimator=XGBClassifier(base_score=None, booster=None, callbacks=None,\n",
      "              colsample_bylevel=None, colsample_bynode=None,\n",
      "              colsample_bytree=None, early_stopping_rounds=None,\n",
      "              enable_categorical=False, eval_metric=None, gamma=None,\n",
      "              gpu_id=None, grow_policy=None, importance_type=None,\n",
      "              interaction_constraints=None, learning_rate=0.025, max_bin=None,\n",
      "              max_cat_to_onehot=None, max_delta_step=None, max_depth=8,\n",
      "              max_leaves=None, min_child_weight=None, missing=nan,\n",
      "              monotone_constraints=None, n_estimators=400, n_jobs=None,\n",
      "              num_parallel_tree=None, objective='multi:softmax', predictor=None,\n",
      "              random_state=None, reg_alpha=None, ...), mean_mfcc__kw_args={'sr': 16000, 'n_mfcc': 16, 'n_fft': 512, 'hop_length': 128, 'fmin': 500.0, 'fmax': 4000.0}; total time=  52.0s\n",
      "[CV] END estimator=XGBClassifier(base_score=None, booster=None, callbacks=None,\n",
      "              colsample_bylevel=None, colsample_bynode=None,\n",
      "              colsample_bytree=None, early_stopping_rounds=None,\n",
      "              enable_categorical=False, eval_metric=None, gamma=None,\n",
      "              gpu_id=None, grow_policy=None, importance_type=None,\n",
      "              interaction_constraints=None, learning_rate=0.025, max_bin=None,\n",
      "              max_cat_to_onehot=None, max_delta_step=None, max_depth=8,\n",
      "              max_leaves=None, min_child_weight=None, missing=nan,\n",
      "              monotone_constraints=None, n_estimators=400, n_jobs=None,\n",
      "              num_parallel_tree=None, objective='multi:softmax', predictor=None,\n",
      "              random_state=None, reg_alpha=None, ...), mean_mfcc__kw_args={'sr': 16000, 'n_mfcc': 16, 'n_fft': 512, 'hop_length': 128, 'fmin': 500.0, 'fmax': 5000.0}; total time=  53.3s\n",
      "[CV] END estimator=XGBClassifier(base_score=None, booster=None, callbacks=None,\n",
      "              colsample_bylevel=None, colsample_bynode=None,\n",
      "              colsample_bytree=None, early_stopping_rounds=None,\n",
      "              enable_categorical=False, eval_metric=None, gamma=None,\n",
      "              gpu_id=None, grow_policy=None, importance_type=None,\n",
      "              interaction_constraints=None, learning_rate=0.025, max_bin=None,\n",
      "              max_cat_to_onehot=None, max_delta_step=None, max_depth=8,\n",
      "              max_leaves=None, min_child_weight=None, missing=nan,\n",
      "              monotone_constraints=None, n_estimators=400, n_jobs=None,\n",
      "              num_parallel_tree=None, objective='multi:softmax', predictor=None,\n",
      "              random_state=None, reg_alpha=None, ...), mean_mfcc__kw_args={'sr': 16000, 'n_mfcc': 16, 'n_fft': 512, 'hop_length': 128, 'fmin': 500.0, 'fmax': 5000.0}; total time=  51.5s\n",
      "[CV] END estimator=XGBClassifier(base_score=None, booster=None, callbacks=None,\n",
      "              colsample_bylevel=None, colsample_bynode=None,\n",
      "              colsample_bytree=None, early_stopping_rounds=None,\n",
      "              enable_categorical=False, eval_metric=None, gamma=None,\n",
      "              gpu_id=None, grow_policy=None, importance_type=None,\n",
      "              interaction_constraints=None, learning_rate=0.025, max_bin=None,\n",
      "              max_cat_to_onehot=None, max_delta_step=None, max_depth=8,\n",
      "              max_leaves=None, min_child_weight=None, missing=nan,\n",
      "              monotone_constraints=None, n_estimators=400, n_jobs=None,\n",
      "              num_parallel_tree=None, objective='multi:softmax', predictor=None,\n",
      "              random_state=None, reg_alpha=None, ...), mean_mfcc__kw_args={'sr': 16000, 'n_mfcc': 16, 'n_fft': 768, 'hop_length': 128, 'fmin': 0.0, 'fmax': None}; total time= 1.1min\n",
      "[CV] END estimator=XGBClassifier(base_score=None, booster=None, callbacks=None,\n",
      "              colsample_bylevel=None, colsample_bynode=None,\n",
      "              colsample_bytree=None, early_stopping_rounds=None,\n",
      "              enable_categorical=False, eval_metric=None, gamma=None,\n",
      "              gpu_id=None, grow_policy=None, importance_type=None,\n",
      "              interaction_constraints=None, learning_rate=0.025, max_bin=None,\n",
      "              max_cat_to_onehot=None, max_delta_step=None, max_depth=8,\n",
      "              max_leaves=None, min_child_weight=None, missing=nan,\n",
      "              monotone_constraints=None, n_estimators=400, n_jobs=None,\n",
      "              num_parallel_tree=None, objective='multi:softmax', predictor=None,\n",
      "              random_state=None, reg_alpha=None, ...), mean_mfcc__kw_args={'sr': 16000, 'n_mfcc': 16, 'n_fft': 768, 'hop_length': 128, 'fmin': 0.0, 'fmax': None}; total time= 1.0min\n",
      "[CV] END estimator=XGBClassifier(base_score=None, booster=None, callbacks=None,\n",
      "              colsample_bylevel=None, colsample_bynode=None,\n",
      "              colsample_bytree=None, early_stopping_rounds=None,\n",
      "              enable_categorical=False, eval_metric=None, gamma=None,\n",
      "              gpu_id=None, grow_policy=None, importance_type=None,\n",
      "              interaction_constraints=None, learning_rate=0.025, max_bin=None,\n",
      "              max_cat_to_onehot=None, max_delta_step=None, max_depth=8,\n",
      "              max_leaves=None, min_child_weight=None, missing=nan,\n",
      "              monotone_constraints=None, n_estimators=400, n_jobs=None,\n",
      "              num_parallel_tree=None, objective='multi:softmax', predictor=None,\n",
      "              random_state=None, reg_alpha=None, ...), mean_mfcc__kw_args={'sr': 16000, 'n_mfcc': 16, 'n_fft': 768, 'hop_length': 128, 'fmin': 0.0, 'fmax': 3000.0}; total time= 1.1min\n",
      "[CV] END estimator=XGBClassifier(base_score=None, booster=None, callbacks=None,\n",
      "              colsample_bylevel=None, colsample_bynode=None,\n",
      "              colsample_bytree=None, early_stopping_rounds=None,\n",
      "              enable_categorical=False, eval_metric=None, gamma=None,\n",
      "              gpu_id=None, grow_policy=None, importance_type=None,\n",
      "              interaction_constraints=None, learning_rate=0.025, max_bin=None,\n",
      "              max_cat_to_onehot=None, max_delta_step=None, max_depth=8,\n",
      "              max_leaves=None, min_child_weight=None, missing=nan,\n",
      "              monotone_constraints=None, n_estimators=400, n_jobs=None,\n",
      "              num_parallel_tree=None, objective='multi:softmax', predictor=None,\n",
      "              random_state=None, reg_alpha=None, ...), mean_mfcc__kw_args={'sr': 16000, 'n_mfcc': 16, 'n_fft': 768, 'hop_length': 128, 'fmin': 0.0, 'fmax': 3000.0}; total time=  59.6s\n",
      "[CV] END estimator=XGBClassifier(base_score=None, booster=None, callbacks=None,\n",
      "              colsample_bylevel=None, colsample_bynode=None,\n",
      "              colsample_bytree=None, early_stopping_rounds=None,\n",
      "              enable_categorical=False, eval_metric=None, gamma=None,\n",
      "              gpu_id=None, grow_policy=None, importance_type=None,\n",
      "              interaction_constraints=None, learning_rate=0.025, max_bin=None,\n",
      "              max_cat_to_onehot=None, max_delta_step=None, max_depth=8,\n",
      "              max_leaves=None, min_child_weight=None, missing=nan,\n",
      "              monotone_constraints=None, n_estimators=400, n_jobs=None,\n",
      "              num_parallel_tree=None, objective='multi:softmax', predictor=None,\n",
      "              random_state=None, reg_alpha=None, ...), mean_mfcc__kw_args={'sr': 16000, 'n_mfcc': 16, 'n_fft': 768, 'hop_length': 128, 'fmin': 0.0, 'fmax': 4000.0}; total time= 1.0min\n"
     ]
    },
    {
     "name": "stdout",
     "output_type": "stream",
     "text": [
      "[CV] END estimator=XGBClassifier(base_score=None, booster=None, callbacks=None,\n",
      "              colsample_bylevel=None, colsample_bynode=None,\n",
      "              colsample_bytree=None, early_stopping_rounds=None,\n",
      "              enable_categorical=False, eval_metric=None, gamma=None,\n",
      "              gpu_id=None, grow_policy=None, importance_type=None,\n",
      "              interaction_constraints=None, learning_rate=0.025, max_bin=None,\n",
      "              max_cat_to_onehot=None, max_delta_step=None, max_depth=8,\n",
      "              max_leaves=None, min_child_weight=None, missing=nan,\n",
      "              monotone_constraints=None, n_estimators=400, n_jobs=None,\n",
      "              num_parallel_tree=None, objective='multi:softmax', predictor=None,\n",
      "              random_state=None, reg_alpha=None, ...), mean_mfcc__kw_args={'sr': 16000, 'n_mfcc': 16, 'n_fft': 768, 'hop_length': 128, 'fmin': 0.0, 'fmax': 4000.0}; total time=  58.9s\n",
      "[CV] END estimator=XGBClassifier(base_score=None, booster=None, callbacks=None,\n",
      "              colsample_bylevel=None, colsample_bynode=None,\n",
      "              colsample_bytree=None, early_stopping_rounds=None,\n",
      "              enable_categorical=False, eval_metric=None, gamma=None,\n",
      "              gpu_id=None, grow_policy=None, importance_type=None,\n",
      "              interaction_constraints=None, learning_rate=0.025, max_bin=None,\n",
      "              max_cat_to_onehot=None, max_delta_step=None, max_depth=8,\n",
      "              max_leaves=None, min_child_weight=None, missing=nan,\n",
      "              monotone_constraints=None, n_estimators=400, n_jobs=None,\n",
      "              num_parallel_tree=None, objective='multi:softmax', predictor=None,\n",
      "              random_state=None, reg_alpha=None, ...), mean_mfcc__kw_args={'sr': 16000, 'n_mfcc': 16, 'n_fft': 768, 'hop_length': 128, 'fmin': 0.0, 'fmax': 5000.0}; total time= 1.0min\n",
      "[CV] END estimator=XGBClassifier(base_score=None, booster=None, callbacks=None,\n",
      "              colsample_bylevel=None, colsample_bynode=None,\n",
      "              colsample_bytree=None, early_stopping_rounds=None,\n",
      "              enable_categorical=False, eval_metric=None, gamma=None,\n",
      "              gpu_id=None, grow_policy=None, importance_type=None,\n",
      "              interaction_constraints=None, learning_rate=0.025, max_bin=None,\n",
      "              max_cat_to_onehot=None, max_delta_step=None, max_depth=8,\n",
      "              max_leaves=None, min_child_weight=None, missing=nan,\n",
      "              monotone_constraints=None, n_estimators=400, n_jobs=None,\n",
      "              num_parallel_tree=None, objective='multi:softmax', predictor=None,\n",
      "              random_state=None, reg_alpha=None, ...), mean_mfcc__kw_args={'sr': 16000, 'n_mfcc': 16, 'n_fft': 768, 'hop_length': 128, 'fmin': 0.0, 'fmax': 5000.0}; total time= 1.0min\n",
      "[CV] END estimator=XGBClassifier(base_score=None, booster=None, callbacks=None,\n",
      "              colsample_bylevel=None, colsample_bynode=None,\n",
      "              colsample_bytree=None, early_stopping_rounds=None,\n",
      "              enable_categorical=False, eval_metric=None, gamma=None,\n",
      "              gpu_id=None, grow_policy=None, importance_type=None,\n",
      "              interaction_constraints=None, learning_rate=0.025, max_bin=None,\n",
      "              max_cat_to_onehot=None, max_delta_step=None, max_depth=8,\n",
      "              max_leaves=None, min_child_weight=None, missing=nan,\n",
      "              monotone_constraints=None, n_estimators=400, n_jobs=None,\n",
      "              num_parallel_tree=None, objective='multi:softmax', predictor=None,\n",
      "              random_state=None, reg_alpha=None, ...), mean_mfcc__kw_args={'sr': 16000, 'n_mfcc': 16, 'n_fft': 768, 'hop_length': 128, 'fmin': 300.0, 'fmax': None}; total time= 1.0min\n",
      "[CV] END estimator=XGBClassifier(base_score=None, booster=None, callbacks=None,\n",
      "              colsample_bylevel=None, colsample_bynode=None,\n",
      "              colsample_bytree=None, early_stopping_rounds=None,\n",
      "              enable_categorical=False, eval_metric=None, gamma=None,\n",
      "              gpu_id=None, grow_policy=None, importance_type=None,\n",
      "              interaction_constraints=None, learning_rate=0.025, max_bin=None,\n",
      "              max_cat_to_onehot=None, max_delta_step=None, max_depth=8,\n",
      "              max_leaves=None, min_child_weight=None, missing=nan,\n",
      "              monotone_constraints=None, n_estimators=400, n_jobs=None,\n",
      "              num_parallel_tree=None, objective='multi:softmax', predictor=None,\n",
      "              random_state=None, reg_alpha=None, ...), mean_mfcc__kw_args={'sr': 16000, 'n_mfcc': 16, 'n_fft': 768, 'hop_length': 128, 'fmin': 300.0, 'fmax': None}; total time= 1.0min\n",
      "[CV] END estimator=XGBClassifier(base_score=None, booster=None, callbacks=None,\n",
      "              colsample_bylevel=None, colsample_bynode=None,\n",
      "              colsample_bytree=None, early_stopping_rounds=None,\n",
      "              enable_categorical=False, eval_metric=None, gamma=None,\n",
      "              gpu_id=None, grow_policy=None, importance_type=None,\n",
      "              interaction_constraints=None, learning_rate=0.025, max_bin=None,\n",
      "              max_cat_to_onehot=None, max_delta_step=None, max_depth=8,\n",
      "              max_leaves=None, min_child_weight=None, missing=nan,\n",
      "              monotone_constraints=None, n_estimators=400, n_jobs=None,\n",
      "              num_parallel_tree=None, objective='multi:softmax', predictor=None,\n",
      "              random_state=None, reg_alpha=None, ...), mean_mfcc__kw_args={'sr': 16000, 'n_mfcc': 16, 'n_fft': 768, 'hop_length': 128, 'fmin': 300.0, 'fmax': 3000.0}; total time= 1.1min\n",
      "[CV] END estimator=XGBClassifier(base_score=None, booster=None, callbacks=None,\n",
      "              colsample_bylevel=None, colsample_bynode=None,\n",
      "              colsample_bytree=None, early_stopping_rounds=None,\n",
      "              enable_categorical=False, eval_metric=None, gamma=None,\n",
      "              gpu_id=None, grow_policy=None, importance_type=None,\n",
      "              interaction_constraints=None, learning_rate=0.025, max_bin=None,\n",
      "              max_cat_to_onehot=None, max_delta_step=None, max_depth=8,\n",
      "              max_leaves=None, min_child_weight=None, missing=nan,\n",
      "              monotone_constraints=None, n_estimators=400, n_jobs=None,\n",
      "              num_parallel_tree=None, objective='multi:softmax', predictor=None,\n",
      "              random_state=None, reg_alpha=None, ...), mean_mfcc__kw_args={'sr': 16000, 'n_mfcc': 16, 'n_fft': 768, 'hop_length': 128, 'fmin': 300.0, 'fmax': 3000.0}; total time= 1.0min\n",
      "[CV] END estimator=XGBClassifier(base_score=None, booster=None, callbacks=None,\n",
      "              colsample_bylevel=None, colsample_bynode=None,\n",
      "              colsample_bytree=None, early_stopping_rounds=None,\n",
      "              enable_categorical=False, eval_metric=None, gamma=None,\n",
      "              gpu_id=None, grow_policy=None, importance_type=None,\n",
      "              interaction_constraints=None, learning_rate=0.025, max_bin=None,\n",
      "              max_cat_to_onehot=None, max_delta_step=None, max_depth=8,\n",
      "              max_leaves=None, min_child_weight=None, missing=nan,\n",
      "              monotone_constraints=None, n_estimators=400, n_jobs=None,\n",
      "              num_parallel_tree=None, objective='multi:softmax', predictor=None,\n",
      "              random_state=None, reg_alpha=None, ...), mean_mfcc__kw_args={'sr': 16000, 'n_mfcc': 16, 'n_fft': 768, 'hop_length': 128, 'fmin': 300.0, 'fmax': 4000.0}; total time= 1.1min\n",
      "[CV] END estimator=XGBClassifier(base_score=None, booster=None, callbacks=None,\n",
      "              colsample_bylevel=None, colsample_bynode=None,\n",
      "              colsample_bytree=None, early_stopping_rounds=None,\n",
      "              enable_categorical=False, eval_metric=None, gamma=None,\n",
      "              gpu_id=None, grow_policy=None, importance_type=None,\n",
      "              interaction_constraints=None, learning_rate=0.025, max_bin=None,\n",
      "              max_cat_to_onehot=None, max_delta_step=None, max_depth=8,\n",
      "              max_leaves=None, min_child_weight=None, missing=nan,\n",
      "              monotone_constraints=None, n_estimators=400, n_jobs=None,\n",
      "              num_parallel_tree=None, objective='multi:softmax', predictor=None,\n",
      "              random_state=None, reg_alpha=None, ...), mean_mfcc__kw_args={'sr': 16000, 'n_mfcc': 16, 'n_fft': 768, 'hop_length': 128, 'fmin': 300.0, 'fmax': 4000.0}; total time= 1.1min\n",
      "[CV] END estimator=XGBClassifier(base_score=None, booster=None, callbacks=None,\n",
      "              colsample_bylevel=None, colsample_bynode=None,\n",
      "              colsample_bytree=None, early_stopping_rounds=None,\n",
      "              enable_categorical=False, eval_metric=None, gamma=None,\n",
      "              gpu_id=None, grow_policy=None, importance_type=None,\n",
      "              interaction_constraints=None, learning_rate=0.025, max_bin=None,\n",
      "              max_cat_to_onehot=None, max_delta_step=None, max_depth=8,\n",
      "              max_leaves=None, min_child_weight=None, missing=nan,\n",
      "              monotone_constraints=None, n_estimators=400, n_jobs=None,\n",
      "              num_parallel_tree=None, objective='multi:softmax', predictor=None,\n",
      "              random_state=None, reg_alpha=None, ...), mean_mfcc__kw_args={'sr': 16000, 'n_mfcc': 16, 'n_fft': 768, 'hop_length': 128, 'fmin': 300.0, 'fmax': 5000.0}; total time= 1.0min\n"
     ]
    },
    {
     "name": "stdout",
     "output_type": "stream",
     "text": [
      "[CV] END estimator=XGBClassifier(base_score=None, booster=None, callbacks=None,\n",
      "              colsample_bylevel=None, colsample_bynode=None,\n",
      "              colsample_bytree=None, early_stopping_rounds=None,\n",
      "              enable_categorical=False, eval_metric=None, gamma=None,\n",
      "              gpu_id=None, grow_policy=None, importance_type=None,\n",
      "              interaction_constraints=None, learning_rate=0.025, max_bin=None,\n",
      "              max_cat_to_onehot=None, max_delta_step=None, max_depth=8,\n",
      "              max_leaves=None, min_child_weight=None, missing=nan,\n",
      "              monotone_constraints=None, n_estimators=400, n_jobs=None,\n",
      "              num_parallel_tree=None, objective='multi:softmax', predictor=None,\n",
      "              random_state=None, reg_alpha=None, ...), mean_mfcc__kw_args={'sr': 16000, 'n_mfcc': 16, 'n_fft': 768, 'hop_length': 128, 'fmin': 300.0, 'fmax': 5000.0}; total time= 1.0min\n",
      "[CV] END estimator=XGBClassifier(base_score=None, booster=None, callbacks=None,\n",
      "              colsample_bylevel=None, colsample_bynode=None,\n",
      "              colsample_bytree=None, early_stopping_rounds=None,\n",
      "              enable_categorical=False, eval_metric=None, gamma=None,\n",
      "              gpu_id=None, grow_policy=None, importance_type=None,\n",
      "              interaction_constraints=None, learning_rate=0.025, max_bin=None,\n",
      "              max_cat_to_onehot=None, max_delta_step=None, max_depth=8,\n",
      "              max_leaves=None, min_child_weight=None, missing=nan,\n",
      "              monotone_constraints=None, n_estimators=400, n_jobs=None,\n",
      "              num_parallel_tree=None, objective='multi:softmax', predictor=None,\n",
      "              random_state=None, reg_alpha=None, ...), mean_mfcc__kw_args={'sr': 16000, 'n_mfcc': 16, 'n_fft': 768, 'hop_length': 128, 'fmin': 500.0, 'fmax': None}; total time= 1.0min\n",
      "[CV] END estimator=XGBClassifier(base_score=None, booster=None, callbacks=None,\n",
      "              colsample_bylevel=None, colsample_bynode=None,\n",
      "              colsample_bytree=None, early_stopping_rounds=None,\n",
      "              enable_categorical=False, eval_metric=None, gamma=None,\n",
      "              gpu_id=None, grow_policy=None, importance_type=None,\n",
      "              interaction_constraints=None, learning_rate=0.025, max_bin=None,\n",
      "              max_cat_to_onehot=None, max_delta_step=None, max_depth=8,\n",
      "              max_leaves=None, min_child_weight=None, missing=nan,\n",
      "              monotone_constraints=None, n_estimators=400, n_jobs=None,\n",
      "              num_parallel_tree=None, objective='multi:softmax', predictor=None,\n",
      "              random_state=None, reg_alpha=None, ...), mean_mfcc__kw_args={'sr': 16000, 'n_mfcc': 16, 'n_fft': 768, 'hop_length': 128, 'fmin': 500.0, 'fmax': None}; total time= 1.0min\n",
      "[CV] END estimator=XGBClassifier(base_score=None, booster=None, callbacks=None,\n",
      "              colsample_bylevel=None, colsample_bynode=None,\n",
      "              colsample_bytree=None, early_stopping_rounds=None,\n",
      "              enable_categorical=False, eval_metric=None, gamma=None,\n",
      "              gpu_id=None, grow_policy=None, importance_type=None,\n",
      "              interaction_constraints=None, learning_rate=0.025, max_bin=None,\n",
      "              max_cat_to_onehot=None, max_delta_step=None, max_depth=8,\n",
      "              max_leaves=None, min_child_weight=None, missing=nan,\n",
      "              monotone_constraints=None, n_estimators=400, n_jobs=None,\n",
      "              num_parallel_tree=None, objective='multi:softmax', predictor=None,\n",
      "              random_state=None, reg_alpha=None, ...), mean_mfcc__kw_args={'sr': 16000, 'n_mfcc': 16, 'n_fft': 768, 'hop_length': 128, 'fmin': 500.0, 'fmax': 3000.0}; total time= 1.0min\n",
      "[CV] END estimator=XGBClassifier(base_score=None, booster=None, callbacks=None,\n",
      "              colsample_bylevel=None, colsample_bynode=None,\n",
      "              colsample_bytree=None, early_stopping_rounds=None,\n",
      "              enable_categorical=False, eval_metric=None, gamma=None,\n",
      "              gpu_id=None, grow_policy=None, importance_type=None,\n",
      "              interaction_constraints=None, learning_rate=0.025, max_bin=None,\n",
      "              max_cat_to_onehot=None, max_delta_step=None, max_depth=8,\n",
      "              max_leaves=None, min_child_weight=None, missing=nan,\n",
      "              monotone_constraints=None, n_estimators=400, n_jobs=None,\n",
      "              num_parallel_tree=None, objective='multi:softmax', predictor=None,\n",
      "              random_state=None, reg_alpha=None, ...), mean_mfcc__kw_args={'sr': 16000, 'n_mfcc': 16, 'n_fft': 768, 'hop_length': 128, 'fmin': 500.0, 'fmax': 3000.0}; total time= 1.0min\n",
      "[CV] END estimator=XGBClassifier(base_score=None, booster=None, callbacks=None,\n",
      "              colsample_bylevel=None, colsample_bynode=None,\n",
      "              colsample_bytree=None, early_stopping_rounds=None,\n",
      "              enable_categorical=False, eval_metric=None, gamma=None,\n",
      "              gpu_id=None, grow_policy=None, importance_type=None,\n",
      "              interaction_constraints=None, learning_rate=0.025, max_bin=None,\n",
      "              max_cat_to_onehot=None, max_delta_step=None, max_depth=8,\n",
      "              max_leaves=None, min_child_weight=None, missing=nan,\n",
      "              monotone_constraints=None, n_estimators=400, n_jobs=None,\n",
      "              num_parallel_tree=None, objective='multi:softmax', predictor=None,\n",
      "              random_state=None, reg_alpha=None, ...), mean_mfcc__kw_args={'sr': 16000, 'n_mfcc': 16, 'n_fft': 768, 'hop_length': 128, 'fmin': 500.0, 'fmax': 4000.0}; total time= 1.2min\n",
      "[CV] END estimator=XGBClassifier(base_score=None, booster=None, callbacks=None,\n",
      "              colsample_bylevel=None, colsample_bynode=None,\n",
      "              colsample_bytree=None, early_stopping_rounds=None,\n",
      "              enable_categorical=False, eval_metric=None, gamma=None,\n",
      "              gpu_id=None, grow_policy=None, importance_type=None,\n",
      "              interaction_constraints=None, learning_rate=0.025, max_bin=None,\n",
      "              max_cat_to_onehot=None, max_delta_step=None, max_depth=8,\n",
      "              max_leaves=None, min_child_weight=None, missing=nan,\n",
      "              monotone_constraints=None, n_estimators=400, n_jobs=None,\n",
      "              num_parallel_tree=None, objective='multi:softmax', predictor=None,\n",
      "              random_state=None, reg_alpha=None, ...), mean_mfcc__kw_args={'sr': 16000, 'n_mfcc': 16, 'n_fft': 768, 'hop_length': 128, 'fmin': 500.0, 'fmax': 4000.0}; total time= 1.0min\n",
      "[CV] END estimator=XGBClassifier(base_score=None, booster=None, callbacks=None,\n",
      "              colsample_bylevel=None, colsample_bynode=None,\n",
      "              colsample_bytree=None, early_stopping_rounds=None,\n",
      "              enable_categorical=False, eval_metric=None, gamma=None,\n",
      "              gpu_id=None, grow_policy=None, importance_type=None,\n",
      "              interaction_constraints=None, learning_rate=0.025, max_bin=None,\n",
      "              max_cat_to_onehot=None, max_delta_step=None, max_depth=8,\n",
      "              max_leaves=None, min_child_weight=None, missing=nan,\n",
      "              monotone_constraints=None, n_estimators=400, n_jobs=None,\n",
      "              num_parallel_tree=None, objective='multi:softmax', predictor=None,\n",
      "              random_state=None, reg_alpha=None, ...), mean_mfcc__kw_args={'sr': 16000, 'n_mfcc': 16, 'n_fft': 768, 'hop_length': 128, 'fmin': 500.0, 'fmax': 5000.0}; total time= 1.1min\n",
      "[CV] END estimator=XGBClassifier(base_score=None, booster=None, callbacks=None,\n",
      "              colsample_bylevel=None, colsample_bynode=None,\n",
      "              colsample_bytree=None, early_stopping_rounds=None,\n",
      "              enable_categorical=False, eval_metric=None, gamma=None,\n",
      "              gpu_id=None, grow_policy=None, importance_type=None,\n",
      "              interaction_constraints=None, learning_rate=0.025, max_bin=None,\n",
      "              max_cat_to_onehot=None, max_delta_step=None, max_depth=8,\n",
      "              max_leaves=None, min_child_weight=None, missing=nan,\n",
      "              monotone_constraints=None, n_estimators=400, n_jobs=None,\n",
      "              num_parallel_tree=None, objective='multi:softmax', predictor=None,\n",
      "              random_state=None, reg_alpha=None, ...), mean_mfcc__kw_args={'sr': 16000, 'n_mfcc': 16, 'n_fft': 768, 'hop_length': 128, 'fmin': 500.0, 'fmax': 5000.0}; total time=  59.8s\n"
     ]
    },
    {
     "name": "stderr",
     "output_type": "stream",
     "text": [
      "/Users/axel/.pyenv/versions/3.8.12/envs/us8kdata/lib/python3.8/site-packages/librosa/util/decorators.py:88: UserWarning: n_fft=1024 is too small for input signal of length=800\n",
      "  return f(*args, **kwargs)\n",
      "/Users/axel/.pyenv/versions/3.8.12/envs/us8kdata/lib/python3.8/site-packages/librosa/util/decorators.py:88: UserWarning: n_fft=1024 is too small for input signal of length=960\n",
      "  return f(*args, **kwargs)\n",
      "/Users/axel/.pyenv/versions/3.8.12/envs/us8kdata/lib/python3.8/site-packages/librosa/util/decorators.py:88: UserWarning: n_fft=1024 is too small for input signal of length=960\n",
      "  return f(*args, **kwargs)\n"
     ]
    },
    {
     "name": "stdout",
     "output_type": "stream",
     "text": [
      "[CV] END estimator=XGBClassifier(base_score=None, booster=None, callbacks=None,\n",
      "              colsample_bylevel=None, colsample_bynode=None,\n",
      "              colsample_bytree=None, early_stopping_rounds=None,\n",
      "              enable_categorical=False, eval_metric=None, gamma=None,\n",
      "              gpu_id=None, grow_policy=None, importance_type=None,\n",
      "              interaction_constraints=None, learning_rate=0.025, max_bin=None,\n",
      "              max_cat_to_onehot=None, max_delta_step=None, max_depth=8,\n",
      "              max_leaves=None, min_child_weight=None, missing=nan,\n",
      "              monotone_constraints=None, n_estimators=400, n_jobs=None,\n",
      "              num_parallel_tree=None, objective='multi:softmax', predictor=None,\n",
      "              random_state=None, reg_alpha=None, ...), mean_mfcc__kw_args={'sr': 16000, 'n_mfcc': 16, 'n_fft': 1024, 'hop_length': 128, 'fmin': 0.0, 'fmax': None}; total time= 1.2min\n"
     ]
    },
    {
     "name": "stderr",
     "output_type": "stream",
     "text": [
      "/Users/axel/.pyenv/versions/3.8.12/envs/us8kdata/lib/python3.8/site-packages/librosa/util/decorators.py:88: UserWarning: n_fft=1024 is too small for input signal of length=960\n",
      "  return f(*args, **kwargs)\n",
      "/Users/axel/.pyenv/versions/3.8.12/envs/us8kdata/lib/python3.8/site-packages/librosa/util/decorators.py:88: UserWarning: n_fft=1024 is too small for input signal of length=800\n",
      "  return f(*args, **kwargs)\n",
      "/Users/axel/.pyenv/versions/3.8.12/envs/us8kdata/lib/python3.8/site-packages/librosa/util/decorators.py:88: UserWarning: n_fft=1024 is too small for input signal of length=960\n",
      "  return f(*args, **kwargs)\n"
     ]
    },
    {
     "name": "stdout",
     "output_type": "stream",
     "text": [
      "[CV] END estimator=XGBClassifier(base_score=None, booster=None, callbacks=None,\n",
      "              colsample_bylevel=None, colsample_bynode=None,\n",
      "              colsample_bytree=None, early_stopping_rounds=None,\n",
      "              enable_categorical=False, eval_metric=None, gamma=None,\n",
      "              gpu_id=None, grow_policy=None, importance_type=None,\n",
      "              interaction_constraints=None, learning_rate=0.025, max_bin=None,\n",
      "              max_cat_to_onehot=None, max_delta_step=None, max_depth=8,\n",
      "              max_leaves=None, min_child_weight=None, missing=nan,\n",
      "              monotone_constraints=None, n_estimators=400, n_jobs=None,\n",
      "              num_parallel_tree=None, objective='multi:softmax', predictor=None,\n",
      "              random_state=None, reg_alpha=None, ...), mean_mfcc__kw_args={'sr': 16000, 'n_mfcc': 16, 'n_fft': 1024, 'hop_length': 128, 'fmin': 0.0, 'fmax': None}; total time= 1.1min\n"
     ]
    },
    {
     "name": "stderr",
     "output_type": "stream",
     "text": [
      "/Users/axel/.pyenv/versions/3.8.12/envs/us8kdata/lib/python3.8/site-packages/librosa/util/decorators.py:88: UserWarning: n_fft=1024 is too small for input signal of length=800\n",
      "  return f(*args, **kwargs)\n",
      "/Users/axel/.pyenv/versions/3.8.12/envs/us8kdata/lib/python3.8/site-packages/librosa/util/decorators.py:88: UserWarning: n_fft=1024 is too small for input signal of length=960\n",
      "  return f(*args, **kwargs)\n",
      "/Users/axel/.pyenv/versions/3.8.12/envs/us8kdata/lib/python3.8/site-packages/librosa/util/decorators.py:88: UserWarning: n_fft=1024 is too small for input signal of length=960\n",
      "  return f(*args, **kwargs)\n"
     ]
    },
    {
     "name": "stdout",
     "output_type": "stream",
     "text": [
      "[CV] END estimator=XGBClassifier(base_score=None, booster=None, callbacks=None,\n",
      "              colsample_bylevel=None, colsample_bynode=None,\n",
      "              colsample_bytree=None, early_stopping_rounds=None,\n",
      "              enable_categorical=False, eval_metric=None, gamma=None,\n",
      "              gpu_id=None, grow_policy=None, importance_type=None,\n",
      "              interaction_constraints=None, learning_rate=0.025, max_bin=None,\n",
      "              max_cat_to_onehot=None, max_delta_step=None, max_depth=8,\n",
      "              max_leaves=None, min_child_weight=None, missing=nan,\n",
      "              monotone_constraints=None, n_estimators=400, n_jobs=None,\n",
      "              num_parallel_tree=None, objective='multi:softmax', predictor=None,\n",
      "              random_state=None, reg_alpha=None, ...), mean_mfcc__kw_args={'sr': 16000, 'n_mfcc': 16, 'n_fft': 1024, 'hop_length': 128, 'fmin': 0.0, 'fmax': 3000.0}; total time= 1.2min\n"
     ]
    },
    {
     "name": "stderr",
     "output_type": "stream",
     "text": [
      "/Users/axel/.pyenv/versions/3.8.12/envs/us8kdata/lib/python3.8/site-packages/librosa/util/decorators.py:88: UserWarning: n_fft=1024 is too small for input signal of length=960\n",
      "  return f(*args, **kwargs)\n",
      "/Users/axel/.pyenv/versions/3.8.12/envs/us8kdata/lib/python3.8/site-packages/librosa/util/decorators.py:88: UserWarning: n_fft=1024 is too small for input signal of length=800\n",
      "  return f(*args, **kwargs)\n",
      "/Users/axel/.pyenv/versions/3.8.12/envs/us8kdata/lib/python3.8/site-packages/librosa/util/decorators.py:88: UserWarning: n_fft=1024 is too small for input signal of length=960\n",
      "  return f(*args, **kwargs)\n"
     ]
    },
    {
     "name": "stdout",
     "output_type": "stream",
     "text": [
      "[CV] END estimator=XGBClassifier(base_score=None, booster=None, callbacks=None,\n",
      "              colsample_bylevel=None, colsample_bynode=None,\n",
      "              colsample_bytree=None, early_stopping_rounds=None,\n",
      "              enable_categorical=False, eval_metric=None, gamma=None,\n",
      "              gpu_id=None, grow_policy=None, importance_type=None,\n",
      "              interaction_constraints=None, learning_rate=0.025, max_bin=None,\n",
      "              max_cat_to_onehot=None, max_delta_step=None, max_depth=8,\n",
      "              max_leaves=None, min_child_weight=None, missing=nan,\n",
      "              monotone_constraints=None, n_estimators=400, n_jobs=None,\n",
      "              num_parallel_tree=None, objective='multi:softmax', predictor=None,\n",
      "              random_state=None, reg_alpha=None, ...), mean_mfcc__kw_args={'sr': 16000, 'n_mfcc': 16, 'n_fft': 1024, 'hop_length': 128, 'fmin': 0.0, 'fmax': 3000.0}; total time= 1.2min\n"
     ]
    },
    {
     "name": "stderr",
     "output_type": "stream",
     "text": [
      "/Users/axel/.pyenv/versions/3.8.12/envs/us8kdata/lib/python3.8/site-packages/librosa/util/decorators.py:88: UserWarning: n_fft=1024 is too small for input signal of length=800\n",
      "  return f(*args, **kwargs)\n",
      "/Users/axel/.pyenv/versions/3.8.12/envs/us8kdata/lib/python3.8/site-packages/librosa/util/decorators.py:88: UserWarning: n_fft=1024 is too small for input signal of length=960\n",
      "  return f(*args, **kwargs)\n",
      "/Users/axel/.pyenv/versions/3.8.12/envs/us8kdata/lib/python3.8/site-packages/librosa/util/decorators.py:88: UserWarning: n_fft=1024 is too small for input signal of length=960\n",
      "  return f(*args, **kwargs)\n"
     ]
    },
    {
     "name": "stdout",
     "output_type": "stream",
     "text": [
      "[CV] END estimator=XGBClassifier(base_score=None, booster=None, callbacks=None,\n",
      "              colsample_bylevel=None, colsample_bynode=None,\n",
      "              colsample_bytree=None, early_stopping_rounds=None,\n",
      "              enable_categorical=False, eval_metric=None, gamma=None,\n",
      "              gpu_id=None, grow_policy=None, importance_type=None,\n",
      "              interaction_constraints=None, learning_rate=0.025, max_bin=None,\n",
      "              max_cat_to_onehot=None, max_delta_step=None, max_depth=8,\n",
      "              max_leaves=None, min_child_weight=None, missing=nan,\n",
      "              monotone_constraints=None, n_estimators=400, n_jobs=None,\n",
      "              num_parallel_tree=None, objective='multi:softmax', predictor=None,\n",
      "              random_state=None, reg_alpha=None, ...), mean_mfcc__kw_args={'sr': 16000, 'n_mfcc': 16, 'n_fft': 1024, 'hop_length': 128, 'fmin': 0.0, 'fmax': 4000.0}; total time= 1.2min\n"
     ]
    },
    {
     "name": "stderr",
     "output_type": "stream",
     "text": [
      "/Users/axel/.pyenv/versions/3.8.12/envs/us8kdata/lib/python3.8/site-packages/librosa/util/decorators.py:88: UserWarning: n_fft=1024 is too small for input signal of length=960\n",
      "  return f(*args, **kwargs)\n",
      "/Users/axel/.pyenv/versions/3.8.12/envs/us8kdata/lib/python3.8/site-packages/librosa/util/decorators.py:88: UserWarning: n_fft=1024 is too small for input signal of length=800\n",
      "  return f(*args, **kwargs)\n",
      "/Users/axel/.pyenv/versions/3.8.12/envs/us8kdata/lib/python3.8/site-packages/librosa/util/decorators.py:88: UserWarning: n_fft=1024 is too small for input signal of length=960\n",
      "  return f(*args, **kwargs)\n"
     ]
    },
    {
     "name": "stdout",
     "output_type": "stream",
     "text": [
      "[CV] END estimator=XGBClassifier(base_score=None, booster=None, callbacks=None,\n",
      "              colsample_bylevel=None, colsample_bynode=None,\n",
      "              colsample_bytree=None, early_stopping_rounds=None,\n",
      "              enable_categorical=False, eval_metric=None, gamma=None,\n",
      "              gpu_id=None, grow_policy=None, importance_type=None,\n",
      "              interaction_constraints=None, learning_rate=0.025, max_bin=None,\n",
      "              max_cat_to_onehot=None, max_delta_step=None, max_depth=8,\n",
      "              max_leaves=None, min_child_weight=None, missing=nan,\n",
      "              monotone_constraints=None, n_estimators=400, n_jobs=None,\n",
      "              num_parallel_tree=None, objective='multi:softmax', predictor=None,\n",
      "              random_state=None, reg_alpha=None, ...), mean_mfcc__kw_args={'sr': 16000, 'n_mfcc': 16, 'n_fft': 1024, 'hop_length': 128, 'fmin': 0.0, 'fmax': 4000.0}; total time= 1.2min\n"
     ]
    },
    {
     "name": "stderr",
     "output_type": "stream",
     "text": [
      "/Users/axel/.pyenv/versions/3.8.12/envs/us8kdata/lib/python3.8/site-packages/librosa/util/decorators.py:88: UserWarning: n_fft=1024 is too small for input signal of length=800\n",
      "  return f(*args, **kwargs)\n",
      "/Users/axel/.pyenv/versions/3.8.12/envs/us8kdata/lib/python3.8/site-packages/librosa/util/decorators.py:88: UserWarning: n_fft=1024 is too small for input signal of length=960\n",
      "  return f(*args, **kwargs)\n",
      "/Users/axel/.pyenv/versions/3.8.12/envs/us8kdata/lib/python3.8/site-packages/librosa/util/decorators.py:88: UserWarning: n_fft=1024 is too small for input signal of length=960\n",
      "  return f(*args, **kwargs)\n"
     ]
    },
    {
     "name": "stdout",
     "output_type": "stream",
     "text": [
      "[CV] END estimator=XGBClassifier(base_score=None, booster=None, callbacks=None,\n",
      "              colsample_bylevel=None, colsample_bynode=None,\n",
      "              colsample_bytree=None, early_stopping_rounds=None,\n",
      "              enable_categorical=False, eval_metric=None, gamma=None,\n",
      "              gpu_id=None, grow_policy=None, importance_type=None,\n",
      "              interaction_constraints=None, learning_rate=0.025, max_bin=None,\n",
      "              max_cat_to_onehot=None, max_delta_step=None, max_depth=8,\n",
      "              max_leaves=None, min_child_weight=None, missing=nan,\n",
      "              monotone_constraints=None, n_estimators=400, n_jobs=None,\n",
      "              num_parallel_tree=None, objective='multi:softmax', predictor=None,\n",
      "              random_state=None, reg_alpha=None, ...), mean_mfcc__kw_args={'sr': 16000, 'n_mfcc': 16, 'n_fft': 1024, 'hop_length': 128, 'fmin': 0.0, 'fmax': 5000.0}; total time= 1.2min\n"
     ]
    },
    {
     "name": "stderr",
     "output_type": "stream",
     "text": [
      "/Users/axel/.pyenv/versions/3.8.12/envs/us8kdata/lib/python3.8/site-packages/librosa/util/decorators.py:88: UserWarning: n_fft=1024 is too small for input signal of length=960\n",
      "  return f(*args, **kwargs)\n",
      "/Users/axel/.pyenv/versions/3.8.12/envs/us8kdata/lib/python3.8/site-packages/librosa/util/decorators.py:88: UserWarning: n_fft=1024 is too small for input signal of length=800\n",
      "  return f(*args, **kwargs)\n",
      "/Users/axel/.pyenv/versions/3.8.12/envs/us8kdata/lib/python3.8/site-packages/librosa/util/decorators.py:88: UserWarning: n_fft=1024 is too small for input signal of length=960\n",
      "  return f(*args, **kwargs)\n"
     ]
    },
    {
     "name": "stdout",
     "output_type": "stream",
     "text": [
      "[CV] END estimator=XGBClassifier(base_score=None, booster=None, callbacks=None,\n",
      "              colsample_bylevel=None, colsample_bynode=None,\n",
      "              colsample_bytree=None, early_stopping_rounds=None,\n",
      "              enable_categorical=False, eval_metric=None, gamma=None,\n",
      "              gpu_id=None, grow_policy=None, importance_type=None,\n",
      "              interaction_constraints=None, learning_rate=0.025, max_bin=None,\n",
      "              max_cat_to_onehot=None, max_delta_step=None, max_depth=8,\n",
      "              max_leaves=None, min_child_weight=None, missing=nan,\n",
      "              monotone_constraints=None, n_estimators=400, n_jobs=None,\n",
      "              num_parallel_tree=None, objective='multi:softmax', predictor=None,\n",
      "              random_state=None, reg_alpha=None, ...), mean_mfcc__kw_args={'sr': 16000, 'n_mfcc': 16, 'n_fft': 1024, 'hop_length': 128, 'fmin': 0.0, 'fmax': 5000.0}; total time= 1.4min\n"
     ]
    },
    {
     "name": "stderr",
     "output_type": "stream",
     "text": [
      "/Users/axel/.pyenv/versions/3.8.12/envs/us8kdata/lib/python3.8/site-packages/librosa/util/decorators.py:88: UserWarning: n_fft=1024 is too small for input signal of length=800\n",
      "  return f(*args, **kwargs)\n",
      "/Users/axel/.pyenv/versions/3.8.12/envs/us8kdata/lib/python3.8/site-packages/librosa/util/decorators.py:88: UserWarning: n_fft=1024 is too small for input signal of length=960\n",
      "  return f(*args, **kwargs)\n",
      "/Users/axel/.pyenv/versions/3.8.12/envs/us8kdata/lib/python3.8/site-packages/librosa/util/decorators.py:88: UserWarning: n_fft=1024 is too small for input signal of length=960\n",
      "  return f(*args, **kwargs)\n"
     ]
    },
    {
     "name": "stdout",
     "output_type": "stream",
     "text": [
      "[CV] END estimator=XGBClassifier(base_score=None, booster=None, callbacks=None,\n",
      "              colsample_bylevel=None, colsample_bynode=None,\n",
      "              colsample_bytree=None, early_stopping_rounds=None,\n",
      "              enable_categorical=False, eval_metric=None, gamma=None,\n",
      "              gpu_id=None, grow_policy=None, importance_type=None,\n",
      "              interaction_constraints=None, learning_rate=0.025, max_bin=None,\n",
      "              max_cat_to_onehot=None, max_delta_step=None, max_depth=8,\n",
      "              max_leaves=None, min_child_weight=None, missing=nan,\n",
      "              monotone_constraints=None, n_estimators=400, n_jobs=None,\n",
      "              num_parallel_tree=None, objective='multi:softmax', predictor=None,\n",
      "              random_state=None, reg_alpha=None, ...), mean_mfcc__kw_args={'sr': 16000, 'n_mfcc': 16, 'n_fft': 1024, 'hop_length': 128, 'fmin': 300.0, 'fmax': None}; total time= 1.2min\n"
     ]
    },
    {
     "name": "stderr",
     "output_type": "stream",
     "text": [
      "/Users/axel/.pyenv/versions/3.8.12/envs/us8kdata/lib/python3.8/site-packages/librosa/util/decorators.py:88: UserWarning: n_fft=1024 is too small for input signal of length=960\n",
      "  return f(*args, **kwargs)\n",
      "/Users/axel/.pyenv/versions/3.8.12/envs/us8kdata/lib/python3.8/site-packages/librosa/util/decorators.py:88: UserWarning: n_fft=1024 is too small for input signal of length=800\n",
      "  return f(*args, **kwargs)\n",
      "/Users/axel/.pyenv/versions/3.8.12/envs/us8kdata/lib/python3.8/site-packages/librosa/util/decorators.py:88: UserWarning: n_fft=1024 is too small for input signal of length=960\n",
      "  return f(*args, **kwargs)\n"
     ]
    },
    {
     "name": "stdout",
     "output_type": "stream",
     "text": [
      "[CV] END estimator=XGBClassifier(base_score=None, booster=None, callbacks=None,\n",
      "              colsample_bylevel=None, colsample_bynode=None,\n",
      "              colsample_bytree=None, early_stopping_rounds=None,\n",
      "              enable_categorical=False, eval_metric=None, gamma=None,\n",
      "              gpu_id=None, grow_policy=None, importance_type=None,\n",
      "              interaction_constraints=None, learning_rate=0.025, max_bin=None,\n",
      "              max_cat_to_onehot=None, max_delta_step=None, max_depth=8,\n",
      "              max_leaves=None, min_child_weight=None, missing=nan,\n",
      "              monotone_constraints=None, n_estimators=400, n_jobs=None,\n",
      "              num_parallel_tree=None, objective='multi:softmax', predictor=None,\n",
      "              random_state=None, reg_alpha=None, ...), mean_mfcc__kw_args={'sr': 16000, 'n_mfcc': 16, 'n_fft': 1024, 'hop_length': 128, 'fmin': 300.0, 'fmax': None}; total time= 1.1min\n"
     ]
    },
    {
     "name": "stderr",
     "output_type": "stream",
     "text": [
      "/Users/axel/.pyenv/versions/3.8.12/envs/us8kdata/lib/python3.8/site-packages/librosa/util/decorators.py:88: UserWarning: n_fft=1024 is too small for input signal of length=800\n",
      "  return f(*args, **kwargs)\n",
      "/Users/axel/.pyenv/versions/3.8.12/envs/us8kdata/lib/python3.8/site-packages/librosa/util/decorators.py:88: UserWarning: n_fft=1024 is too small for input signal of length=960\n",
      "  return f(*args, **kwargs)\n",
      "/Users/axel/.pyenv/versions/3.8.12/envs/us8kdata/lib/python3.8/site-packages/librosa/util/decorators.py:88: UserWarning: n_fft=1024 is too small for input signal of length=960\n",
      "  return f(*args, **kwargs)\n"
     ]
    },
    {
     "name": "stdout",
     "output_type": "stream",
     "text": [
      "[CV] END estimator=XGBClassifier(base_score=None, booster=None, callbacks=None,\n",
      "              colsample_bylevel=None, colsample_bynode=None,\n",
      "              colsample_bytree=None, early_stopping_rounds=None,\n",
      "              enable_categorical=False, eval_metric=None, gamma=None,\n",
      "              gpu_id=None, grow_policy=None, importance_type=None,\n",
      "              interaction_constraints=None, learning_rate=0.025, max_bin=None,\n",
      "              max_cat_to_onehot=None, max_delta_step=None, max_depth=8,\n",
      "              max_leaves=None, min_child_weight=None, missing=nan,\n",
      "              monotone_constraints=None, n_estimators=400, n_jobs=None,\n",
      "              num_parallel_tree=None, objective='multi:softmax', predictor=None,\n",
      "              random_state=None, reg_alpha=None, ...), mean_mfcc__kw_args={'sr': 16000, 'n_mfcc': 16, 'n_fft': 1024, 'hop_length': 128, 'fmin': 300.0, 'fmax': 3000.0}; total time= 1.2min\n"
     ]
    },
    {
     "name": "stderr",
     "output_type": "stream",
     "text": [
      "/Users/axel/.pyenv/versions/3.8.12/envs/us8kdata/lib/python3.8/site-packages/librosa/util/decorators.py:88: UserWarning: n_fft=1024 is too small for input signal of length=960\n",
      "  return f(*args, **kwargs)\n",
      "/Users/axel/.pyenv/versions/3.8.12/envs/us8kdata/lib/python3.8/site-packages/librosa/util/decorators.py:88: UserWarning: n_fft=1024 is too small for input signal of length=800\n",
      "  return f(*args, **kwargs)\n",
      "/Users/axel/.pyenv/versions/3.8.12/envs/us8kdata/lib/python3.8/site-packages/librosa/util/decorators.py:88: UserWarning: n_fft=1024 is too small for input signal of length=960\n",
      "  return f(*args, **kwargs)\n"
     ]
    },
    {
     "name": "stdout",
     "output_type": "stream",
     "text": [
      "[CV] END estimator=XGBClassifier(base_score=None, booster=None, callbacks=None,\n",
      "              colsample_bylevel=None, colsample_bynode=None,\n",
      "              colsample_bytree=None, early_stopping_rounds=None,\n",
      "              enable_categorical=False, eval_metric=None, gamma=None,\n",
      "              gpu_id=None, grow_policy=None, importance_type=None,\n",
      "              interaction_constraints=None, learning_rate=0.025, max_bin=None,\n",
      "              max_cat_to_onehot=None, max_delta_step=None, max_depth=8,\n",
      "              max_leaves=None, min_child_weight=None, missing=nan,\n",
      "              monotone_constraints=None, n_estimators=400, n_jobs=None,\n",
      "              num_parallel_tree=None, objective='multi:softmax', predictor=None,\n",
      "              random_state=None, reg_alpha=None, ...), mean_mfcc__kw_args={'sr': 16000, 'n_mfcc': 16, 'n_fft': 1024, 'hop_length': 128, 'fmin': 300.0, 'fmax': 3000.0}; total time= 1.2min\n"
     ]
    },
    {
     "name": "stderr",
     "output_type": "stream",
     "text": [
      "/Users/axel/.pyenv/versions/3.8.12/envs/us8kdata/lib/python3.8/site-packages/librosa/util/decorators.py:88: UserWarning: n_fft=1024 is too small for input signal of length=800\n",
      "  return f(*args, **kwargs)\n",
      "/Users/axel/.pyenv/versions/3.8.12/envs/us8kdata/lib/python3.8/site-packages/librosa/util/decorators.py:88: UserWarning: n_fft=1024 is too small for input signal of length=960\n",
      "  return f(*args, **kwargs)\n",
      "/Users/axel/.pyenv/versions/3.8.12/envs/us8kdata/lib/python3.8/site-packages/librosa/util/decorators.py:88: UserWarning: n_fft=1024 is too small for input signal of length=960\n",
      "  return f(*args, **kwargs)\n"
     ]
    },
    {
     "name": "stdout",
     "output_type": "stream",
     "text": [
      "[CV] END estimator=XGBClassifier(base_score=None, booster=None, callbacks=None,\n",
      "              colsample_bylevel=None, colsample_bynode=None,\n",
      "              colsample_bytree=None, early_stopping_rounds=None,\n",
      "              enable_categorical=False, eval_metric=None, gamma=None,\n",
      "              gpu_id=None, grow_policy=None, importance_type=None,\n",
      "              interaction_constraints=None, learning_rate=0.025, max_bin=None,\n",
      "              max_cat_to_onehot=None, max_delta_step=None, max_depth=8,\n",
      "              max_leaves=None, min_child_weight=None, missing=nan,\n",
      "              monotone_constraints=None, n_estimators=400, n_jobs=None,\n",
      "              num_parallel_tree=None, objective='multi:softmax', predictor=None,\n",
      "              random_state=None, reg_alpha=None, ...), mean_mfcc__kw_args={'sr': 16000, 'n_mfcc': 16, 'n_fft': 1024, 'hop_length': 128, 'fmin': 300.0, 'fmax': 4000.0}; total time= 1.2min\n"
     ]
    },
    {
     "name": "stderr",
     "output_type": "stream",
     "text": [
      "/Users/axel/.pyenv/versions/3.8.12/envs/us8kdata/lib/python3.8/site-packages/librosa/util/decorators.py:88: UserWarning: n_fft=1024 is too small for input signal of length=960\n",
      "  return f(*args, **kwargs)\n",
      "/Users/axel/.pyenv/versions/3.8.12/envs/us8kdata/lib/python3.8/site-packages/librosa/util/decorators.py:88: UserWarning: n_fft=1024 is too small for input signal of length=800\n",
      "  return f(*args, **kwargs)\n",
      "/Users/axel/.pyenv/versions/3.8.12/envs/us8kdata/lib/python3.8/site-packages/librosa/util/decorators.py:88: UserWarning: n_fft=1024 is too small for input signal of length=960\n",
      "  return f(*args, **kwargs)\n"
     ]
    },
    {
     "name": "stdout",
     "output_type": "stream",
     "text": [
      "[CV] END estimator=XGBClassifier(base_score=None, booster=None, callbacks=None,\n",
      "              colsample_bylevel=None, colsample_bynode=None,\n",
      "              colsample_bytree=None, early_stopping_rounds=None,\n",
      "              enable_categorical=False, eval_metric=None, gamma=None,\n",
      "              gpu_id=None, grow_policy=None, importance_type=None,\n",
      "              interaction_constraints=None, learning_rate=0.025, max_bin=None,\n",
      "              max_cat_to_onehot=None, max_delta_step=None, max_depth=8,\n",
      "              max_leaves=None, min_child_weight=None, missing=nan,\n",
      "              monotone_constraints=None, n_estimators=400, n_jobs=None,\n",
      "              num_parallel_tree=None, objective='multi:softmax', predictor=None,\n",
      "              random_state=None, reg_alpha=None, ...), mean_mfcc__kw_args={'sr': 16000, 'n_mfcc': 16, 'n_fft': 1024, 'hop_length': 128, 'fmin': 300.0, 'fmax': 4000.0}; total time= 1.2min\n"
     ]
    },
    {
     "name": "stderr",
     "output_type": "stream",
     "text": [
      "/Users/axel/.pyenv/versions/3.8.12/envs/us8kdata/lib/python3.8/site-packages/librosa/util/decorators.py:88: UserWarning: n_fft=1024 is too small for input signal of length=800\n",
      "  return f(*args, **kwargs)\n",
      "/Users/axel/.pyenv/versions/3.8.12/envs/us8kdata/lib/python3.8/site-packages/librosa/util/decorators.py:88: UserWarning: n_fft=1024 is too small for input signal of length=960\n",
      "  return f(*args, **kwargs)\n",
      "/Users/axel/.pyenv/versions/3.8.12/envs/us8kdata/lib/python3.8/site-packages/librosa/util/decorators.py:88: UserWarning: n_fft=1024 is too small for input signal of length=960\n",
      "  return f(*args, **kwargs)\n"
     ]
    },
    {
     "name": "stdout",
     "output_type": "stream",
     "text": [
      "[CV] END estimator=XGBClassifier(base_score=None, booster=None, callbacks=None,\n",
      "              colsample_bylevel=None, colsample_bynode=None,\n",
      "              colsample_bytree=None, early_stopping_rounds=None,\n",
      "              enable_categorical=False, eval_metric=None, gamma=None,\n",
      "              gpu_id=None, grow_policy=None, importance_type=None,\n",
      "              interaction_constraints=None, learning_rate=0.025, max_bin=None,\n",
      "              max_cat_to_onehot=None, max_delta_step=None, max_depth=8,\n",
      "              max_leaves=None, min_child_weight=None, missing=nan,\n",
      "              monotone_constraints=None, n_estimators=400, n_jobs=None,\n",
      "              num_parallel_tree=None, objective='multi:softmax', predictor=None,\n",
      "              random_state=None, reg_alpha=None, ...), mean_mfcc__kw_args={'sr': 16000, 'n_mfcc': 16, 'n_fft': 1024, 'hop_length': 128, 'fmin': 300.0, 'fmax': 5000.0}; total time= 1.2min\n"
     ]
    },
    {
     "name": "stderr",
     "output_type": "stream",
     "text": [
      "/Users/axel/.pyenv/versions/3.8.12/envs/us8kdata/lib/python3.8/site-packages/librosa/util/decorators.py:88: UserWarning: n_fft=1024 is too small for input signal of length=960\n",
      "  return f(*args, **kwargs)\n",
      "/Users/axel/.pyenv/versions/3.8.12/envs/us8kdata/lib/python3.8/site-packages/librosa/util/decorators.py:88: UserWarning: n_fft=1024 is too small for input signal of length=800\n",
      "  return f(*args, **kwargs)\n",
      "/Users/axel/.pyenv/versions/3.8.12/envs/us8kdata/lib/python3.8/site-packages/librosa/util/decorators.py:88: UserWarning: n_fft=1024 is too small for input signal of length=960\n",
      "  return f(*args, **kwargs)\n"
     ]
    },
    {
     "name": "stdout",
     "output_type": "stream",
     "text": [
      "[CV] END estimator=XGBClassifier(base_score=None, booster=None, callbacks=None,\n",
      "              colsample_bylevel=None, colsample_bynode=None,\n",
      "              colsample_bytree=None, early_stopping_rounds=None,\n",
      "              enable_categorical=False, eval_metric=None, gamma=None,\n",
      "              gpu_id=None, grow_policy=None, importance_type=None,\n",
      "              interaction_constraints=None, learning_rate=0.025, max_bin=None,\n",
      "              max_cat_to_onehot=None, max_delta_step=None, max_depth=8,\n",
      "              max_leaves=None, min_child_weight=None, missing=nan,\n",
      "              monotone_constraints=None, n_estimators=400, n_jobs=None,\n",
      "              num_parallel_tree=None, objective='multi:softmax', predictor=None,\n",
      "              random_state=None, reg_alpha=None, ...), mean_mfcc__kw_args={'sr': 16000, 'n_mfcc': 16, 'n_fft': 1024, 'hop_length': 128, 'fmin': 300.0, 'fmax': 5000.0}; total time= 1.1min\n"
     ]
    },
    {
     "name": "stderr",
     "output_type": "stream",
     "text": [
      "/Users/axel/.pyenv/versions/3.8.12/envs/us8kdata/lib/python3.8/site-packages/librosa/util/decorators.py:88: UserWarning: n_fft=1024 is too small for input signal of length=800\n",
      "  return f(*args, **kwargs)\n",
      "/Users/axel/.pyenv/versions/3.8.12/envs/us8kdata/lib/python3.8/site-packages/librosa/util/decorators.py:88: UserWarning: n_fft=1024 is too small for input signal of length=960\n",
      "  return f(*args, **kwargs)\n",
      "/Users/axel/.pyenv/versions/3.8.12/envs/us8kdata/lib/python3.8/site-packages/librosa/util/decorators.py:88: UserWarning: n_fft=1024 is too small for input signal of length=960\n",
      "  return f(*args, **kwargs)\n"
     ]
    },
    {
     "name": "stdout",
     "output_type": "stream",
     "text": [
      "[CV] END estimator=XGBClassifier(base_score=None, booster=None, callbacks=None,\n",
      "              colsample_bylevel=None, colsample_bynode=None,\n",
      "              colsample_bytree=None, early_stopping_rounds=None,\n",
      "              enable_categorical=False, eval_metric=None, gamma=None,\n",
      "              gpu_id=None, grow_policy=None, importance_type=None,\n",
      "              interaction_constraints=None, learning_rate=0.025, max_bin=None,\n",
      "              max_cat_to_onehot=None, max_delta_step=None, max_depth=8,\n",
      "              max_leaves=None, min_child_weight=None, missing=nan,\n",
      "              monotone_constraints=None, n_estimators=400, n_jobs=None,\n",
      "              num_parallel_tree=None, objective='multi:softmax', predictor=None,\n",
      "              random_state=None, reg_alpha=None, ...), mean_mfcc__kw_args={'sr': 16000, 'n_mfcc': 16, 'n_fft': 1024, 'hop_length': 128, 'fmin': 500.0, 'fmax': None}; total time= 1.2min\n"
     ]
    },
    {
     "name": "stderr",
     "output_type": "stream",
     "text": [
      "/Users/axel/.pyenv/versions/3.8.12/envs/us8kdata/lib/python3.8/site-packages/librosa/util/decorators.py:88: UserWarning: n_fft=1024 is too small for input signal of length=960\n",
      "  return f(*args, **kwargs)\n",
      "/Users/axel/.pyenv/versions/3.8.12/envs/us8kdata/lib/python3.8/site-packages/librosa/util/decorators.py:88: UserWarning: n_fft=1024 is too small for input signal of length=800\n",
      "  return f(*args, **kwargs)\n",
      "/Users/axel/.pyenv/versions/3.8.12/envs/us8kdata/lib/python3.8/site-packages/librosa/util/decorators.py:88: UserWarning: n_fft=1024 is too small for input signal of length=960\n",
      "  return f(*args, **kwargs)\n"
     ]
    },
    {
     "name": "stdout",
     "output_type": "stream",
     "text": [
      "[CV] END estimator=XGBClassifier(base_score=None, booster=None, callbacks=None,\n",
      "              colsample_bylevel=None, colsample_bynode=None,\n",
      "              colsample_bytree=None, early_stopping_rounds=None,\n",
      "              enable_categorical=False, eval_metric=None, gamma=None,\n",
      "              gpu_id=None, grow_policy=None, importance_type=None,\n",
      "              interaction_constraints=None, learning_rate=0.025, max_bin=None,\n",
      "              max_cat_to_onehot=None, max_delta_step=None, max_depth=8,\n",
      "              max_leaves=None, min_child_weight=None, missing=nan,\n",
      "              monotone_constraints=None, n_estimators=400, n_jobs=None,\n",
      "              num_parallel_tree=None, objective='multi:softmax', predictor=None,\n",
      "              random_state=None, reg_alpha=None, ...), mean_mfcc__kw_args={'sr': 16000, 'n_mfcc': 16, 'n_fft': 1024, 'hop_length': 128, 'fmin': 500.0, 'fmax': None}; total time= 1.2min\n"
     ]
    },
    {
     "name": "stderr",
     "output_type": "stream",
     "text": [
      "/Users/axel/.pyenv/versions/3.8.12/envs/us8kdata/lib/python3.8/site-packages/librosa/util/decorators.py:88: UserWarning: n_fft=1024 is too small for input signal of length=800\n",
      "  return f(*args, **kwargs)\n",
      "/Users/axel/.pyenv/versions/3.8.12/envs/us8kdata/lib/python3.8/site-packages/librosa/util/decorators.py:88: UserWarning: n_fft=1024 is too small for input signal of length=960\n",
      "  return f(*args, **kwargs)\n",
      "/Users/axel/.pyenv/versions/3.8.12/envs/us8kdata/lib/python3.8/site-packages/librosa/util/decorators.py:88: UserWarning: n_fft=1024 is too small for input signal of length=960\n",
      "  return f(*args, **kwargs)\n"
     ]
    },
    {
     "name": "stdout",
     "output_type": "stream",
     "text": [
      "[CV] END estimator=XGBClassifier(base_score=None, booster=None, callbacks=None,\n",
      "              colsample_bylevel=None, colsample_bynode=None,\n",
      "              colsample_bytree=None, early_stopping_rounds=None,\n",
      "              enable_categorical=False, eval_metric=None, gamma=None,\n",
      "              gpu_id=None, grow_policy=None, importance_type=None,\n",
      "              interaction_constraints=None, learning_rate=0.025, max_bin=None,\n",
      "              max_cat_to_onehot=None, max_delta_step=None, max_depth=8,\n",
      "              max_leaves=None, min_child_weight=None, missing=nan,\n",
      "              monotone_constraints=None, n_estimators=400, n_jobs=None,\n",
      "              num_parallel_tree=None, objective='multi:softmax', predictor=None,\n",
      "              random_state=None, reg_alpha=None, ...), mean_mfcc__kw_args={'sr': 16000, 'n_mfcc': 16, 'n_fft': 1024, 'hop_length': 128, 'fmin': 500.0, 'fmax': 3000.0}; total time= 1.2min\n"
     ]
    },
    {
     "name": "stderr",
     "output_type": "stream",
     "text": [
      "/Users/axel/.pyenv/versions/3.8.12/envs/us8kdata/lib/python3.8/site-packages/librosa/util/decorators.py:88: UserWarning: n_fft=1024 is too small for input signal of length=960\n",
      "  return f(*args, **kwargs)\n",
      "/Users/axel/.pyenv/versions/3.8.12/envs/us8kdata/lib/python3.8/site-packages/librosa/util/decorators.py:88: UserWarning: n_fft=1024 is too small for input signal of length=800\n",
      "  return f(*args, **kwargs)\n",
      "/Users/axel/.pyenv/versions/3.8.12/envs/us8kdata/lib/python3.8/site-packages/librosa/util/decorators.py:88: UserWarning: n_fft=1024 is too small for input signal of length=960\n",
      "  return f(*args, **kwargs)\n"
     ]
    },
    {
     "name": "stdout",
     "output_type": "stream",
     "text": [
      "[CV] END estimator=XGBClassifier(base_score=None, booster=None, callbacks=None,\n",
      "              colsample_bylevel=None, colsample_bynode=None,\n",
      "              colsample_bytree=None, early_stopping_rounds=None,\n",
      "              enable_categorical=False, eval_metric=None, gamma=None,\n",
      "              gpu_id=None, grow_policy=None, importance_type=None,\n",
      "              interaction_constraints=None, learning_rate=0.025, max_bin=None,\n",
      "              max_cat_to_onehot=None, max_delta_step=None, max_depth=8,\n",
      "              max_leaves=None, min_child_weight=None, missing=nan,\n",
      "              monotone_constraints=None, n_estimators=400, n_jobs=None,\n",
      "              num_parallel_tree=None, objective='multi:softmax', predictor=None,\n",
      "              random_state=None, reg_alpha=None, ...), mean_mfcc__kw_args={'sr': 16000, 'n_mfcc': 16, 'n_fft': 1024, 'hop_length': 128, 'fmin': 500.0, 'fmax': 3000.0}; total time= 1.1min\n"
     ]
    },
    {
     "name": "stderr",
     "output_type": "stream",
     "text": [
      "/Users/axel/.pyenv/versions/3.8.12/envs/us8kdata/lib/python3.8/site-packages/librosa/util/decorators.py:88: UserWarning: n_fft=1024 is too small for input signal of length=800\n",
      "  return f(*args, **kwargs)\n",
      "/Users/axel/.pyenv/versions/3.8.12/envs/us8kdata/lib/python3.8/site-packages/librosa/util/decorators.py:88: UserWarning: n_fft=1024 is too small for input signal of length=960\n",
      "  return f(*args, **kwargs)\n",
      "/Users/axel/.pyenv/versions/3.8.12/envs/us8kdata/lib/python3.8/site-packages/librosa/util/decorators.py:88: UserWarning: n_fft=1024 is too small for input signal of length=960\n",
      "  return f(*args, **kwargs)\n"
     ]
    },
    {
     "name": "stdout",
     "output_type": "stream",
     "text": [
      "[CV] END estimator=XGBClassifier(base_score=None, booster=None, callbacks=None,\n",
      "              colsample_bylevel=None, colsample_bynode=None,\n",
      "              colsample_bytree=None, early_stopping_rounds=None,\n",
      "              enable_categorical=False, eval_metric=None, gamma=None,\n",
      "              gpu_id=None, grow_policy=None, importance_type=None,\n",
      "              interaction_constraints=None, learning_rate=0.025, max_bin=None,\n",
      "              max_cat_to_onehot=None, max_delta_step=None, max_depth=8,\n",
      "              max_leaves=None, min_child_weight=None, missing=nan,\n",
      "              monotone_constraints=None, n_estimators=400, n_jobs=None,\n",
      "              num_parallel_tree=None, objective='multi:softmax', predictor=None,\n",
      "              random_state=None, reg_alpha=None, ...), mean_mfcc__kw_args={'sr': 16000, 'n_mfcc': 16, 'n_fft': 1024, 'hop_length': 128, 'fmin': 500.0, 'fmax': 4000.0}; total time= 1.2min\n"
     ]
    },
    {
     "name": "stderr",
     "output_type": "stream",
     "text": [
      "/Users/axel/.pyenv/versions/3.8.12/envs/us8kdata/lib/python3.8/site-packages/librosa/util/decorators.py:88: UserWarning: n_fft=1024 is too small for input signal of length=960\n",
      "  return f(*args, **kwargs)\n",
      "/Users/axel/.pyenv/versions/3.8.12/envs/us8kdata/lib/python3.8/site-packages/librosa/util/decorators.py:88: UserWarning: n_fft=1024 is too small for input signal of length=800\n",
      "  return f(*args, **kwargs)\n",
      "/Users/axel/.pyenv/versions/3.8.12/envs/us8kdata/lib/python3.8/site-packages/librosa/util/decorators.py:88: UserWarning: n_fft=1024 is too small for input signal of length=960\n",
      "  return f(*args, **kwargs)\n"
     ]
    },
    {
     "name": "stdout",
     "output_type": "stream",
     "text": [
      "[CV] END estimator=XGBClassifier(base_score=None, booster=None, callbacks=None,\n",
      "              colsample_bylevel=None, colsample_bynode=None,\n",
      "              colsample_bytree=None, early_stopping_rounds=None,\n",
      "              enable_categorical=False, eval_metric=None, gamma=None,\n",
      "              gpu_id=None, grow_policy=None, importance_type=None,\n",
      "              interaction_constraints=None, learning_rate=0.025, max_bin=None,\n",
      "              max_cat_to_onehot=None, max_delta_step=None, max_depth=8,\n",
      "              max_leaves=None, min_child_weight=None, missing=nan,\n",
      "              monotone_constraints=None, n_estimators=400, n_jobs=None,\n",
      "              num_parallel_tree=None, objective='multi:softmax', predictor=None,\n",
      "              random_state=None, reg_alpha=None, ...), mean_mfcc__kw_args={'sr': 16000, 'n_mfcc': 16, 'n_fft': 1024, 'hop_length': 128, 'fmin': 500.0, 'fmax': 4000.0}; total time= 1.2min\n"
     ]
    },
    {
     "name": "stderr",
     "output_type": "stream",
     "text": [
      "/Users/axel/.pyenv/versions/3.8.12/envs/us8kdata/lib/python3.8/site-packages/librosa/util/decorators.py:88: UserWarning: n_fft=1024 is too small for input signal of length=800\n",
      "  return f(*args, **kwargs)\n",
      "/Users/axel/.pyenv/versions/3.8.12/envs/us8kdata/lib/python3.8/site-packages/librosa/util/decorators.py:88: UserWarning: n_fft=1024 is too small for input signal of length=960\n",
      "  return f(*args, **kwargs)\n",
      "/Users/axel/.pyenv/versions/3.8.12/envs/us8kdata/lib/python3.8/site-packages/librosa/util/decorators.py:88: UserWarning: n_fft=1024 is too small for input signal of length=960\n",
      "  return f(*args, **kwargs)\n"
     ]
    },
    {
     "name": "stdout",
     "output_type": "stream",
     "text": [
      "[CV] END estimator=XGBClassifier(base_score=None, booster=None, callbacks=None,\n",
      "              colsample_bylevel=None, colsample_bynode=None,\n",
      "              colsample_bytree=None, early_stopping_rounds=None,\n",
      "              enable_categorical=False, eval_metric=None, gamma=None,\n",
      "              gpu_id=None, grow_policy=None, importance_type=None,\n",
      "              interaction_constraints=None, learning_rate=0.025, max_bin=None,\n",
      "              max_cat_to_onehot=None, max_delta_step=None, max_depth=8,\n",
      "              max_leaves=None, min_child_weight=None, missing=nan,\n",
      "              monotone_constraints=None, n_estimators=400, n_jobs=None,\n",
      "              num_parallel_tree=None, objective='multi:softmax', predictor=None,\n",
      "              random_state=None, reg_alpha=None, ...), mean_mfcc__kw_args={'sr': 16000, 'n_mfcc': 16, 'n_fft': 1024, 'hop_length': 128, 'fmin': 500.0, 'fmax': 5000.0}; total time= 1.2min\n"
     ]
    },
    {
     "name": "stderr",
     "output_type": "stream",
     "text": [
      "/Users/axel/.pyenv/versions/3.8.12/envs/us8kdata/lib/python3.8/site-packages/librosa/util/decorators.py:88: UserWarning: n_fft=1024 is too small for input signal of length=960\n",
      "  return f(*args, **kwargs)\n",
      "/Users/axel/.pyenv/versions/3.8.12/envs/us8kdata/lib/python3.8/site-packages/librosa/util/decorators.py:88: UserWarning: n_fft=1024 is too small for input signal of length=800\n",
      "  return f(*args, **kwargs)\n",
      "/Users/axel/.pyenv/versions/3.8.12/envs/us8kdata/lib/python3.8/site-packages/librosa/util/decorators.py:88: UserWarning: n_fft=1024 is too small for input signal of length=960\n",
      "  return f(*args, **kwargs)\n"
     ]
    },
    {
     "name": "stdout",
     "output_type": "stream",
     "text": [
      "[CV] END estimator=XGBClassifier(base_score=None, booster=None, callbacks=None,\n",
      "              colsample_bylevel=None, colsample_bynode=None,\n",
      "              colsample_bytree=None, early_stopping_rounds=None,\n",
      "              enable_categorical=False, eval_metric=None, gamma=None,\n",
      "              gpu_id=None, grow_policy=None, importance_type=None,\n",
      "              interaction_constraints=None, learning_rate=0.025, max_bin=None,\n",
      "              max_cat_to_onehot=None, max_delta_step=None, max_depth=8,\n",
      "              max_leaves=None, min_child_weight=None, missing=nan,\n",
      "              monotone_constraints=None, n_estimators=400, n_jobs=None,\n",
      "              num_parallel_tree=None, objective='multi:softmax', predictor=None,\n",
      "              random_state=None, reg_alpha=None, ...), mean_mfcc__kw_args={'sr': 16000, 'n_mfcc': 16, 'n_fft': 1024, 'hop_length': 128, 'fmin': 500.0, 'fmax': 5000.0}; total time= 1.2min\n"
     ]
    },
    {
     "name": "stderr",
     "output_type": "stream",
     "text": [
      "/Users/axel/.pyenv/versions/3.8.12/envs/us8kdata/lib/python3.8/site-packages/librosa/util/decorators.py:88: UserWarning: Empty filters detected in mel frequency basis. Some channels will produce empty responses. Try increasing your sampling rate (and fmax) or reducing n_mels.\n",
      "  return f(*args, **kwargs)\n",
      "/Users/axel/.pyenv/versions/3.8.12/envs/us8kdata/lib/python3.8/site-packages/librosa/util/decorators.py:88: UserWarning: Empty filters detected in mel frequency basis. Some channels will produce empty responses. Try increasing your sampling rate (and fmax) or reducing n_mels.\n",
      "  return f(*args, **kwargs)\n"
     ]
    },
    {
     "name": "stdout",
     "output_type": "stream",
     "text": [
      "[CV] END estimator=XGBClassifier(base_score=None, booster=None, callbacks=None,\n",
      "              colsample_bylevel=None, colsample_bynode=None,\n",
      "              colsample_bytree=None, early_stopping_rounds=None,\n",
      "              enable_categorical=False, eval_metric=None, gamma=None,\n",
      "              gpu_id=None, grow_policy=None, importance_type=None,\n",
      "              interaction_constraints=None, learning_rate=0.025, max_bin=None,\n",
      "              max_cat_to_onehot=None, max_delta_step=None, max_depth=8,\n",
      "              max_leaves=None, min_child_weight=None, missing=nan,\n",
      "              monotone_constraints=None, n_estimators=400, n_jobs=None,\n",
      "              num_parallel_tree=None, objective='multi:softmax', predictor=None,\n",
      "              random_state=None, reg_alpha=None, ...), mean_mfcc__kw_args={'sr': 16000, 'n_mfcc': 20, 'n_fft': 256, 'hop_length': 128, 'fmin': 0.0, 'fmax': None}; total time=  48.2s\n"
     ]
    },
    {
     "name": "stderr",
     "output_type": "stream",
     "text": [
      "/Users/axel/.pyenv/versions/3.8.12/envs/us8kdata/lib/python3.8/site-packages/librosa/util/decorators.py:88: UserWarning: Empty filters detected in mel frequency basis. Some channels will produce empty responses. Try increasing your sampling rate (and fmax) or reducing n_mels.\n",
      "  return f(*args, **kwargs)\n",
      "/Users/axel/.pyenv/versions/3.8.12/envs/us8kdata/lib/python3.8/site-packages/librosa/util/decorators.py:88: UserWarning: Empty filters detected in mel frequency basis. Some channels will produce empty responses. Try increasing your sampling rate (and fmax) or reducing n_mels.\n",
      "  return f(*args, **kwargs)\n"
     ]
    },
    {
     "name": "stdout",
     "output_type": "stream",
     "text": [
      "[CV] END estimator=XGBClassifier(base_score=None, booster=None, callbacks=None,\n",
      "              colsample_bylevel=None, colsample_bynode=None,\n",
      "              colsample_bytree=None, early_stopping_rounds=None,\n",
      "              enable_categorical=False, eval_metric=None, gamma=None,\n",
      "              gpu_id=None, grow_policy=None, importance_type=None,\n",
      "              interaction_constraints=None, learning_rate=0.025, max_bin=None,\n",
      "              max_cat_to_onehot=None, max_delta_step=None, max_depth=8,\n",
      "              max_leaves=None, min_child_weight=None, missing=nan,\n",
      "              monotone_constraints=None, n_estimators=400, n_jobs=None,\n",
      "              num_parallel_tree=None, objective='multi:softmax', predictor=None,\n",
      "              random_state=None, reg_alpha=None, ...), mean_mfcc__kw_args={'sr': 16000, 'n_mfcc': 20, 'n_fft': 256, 'hop_length': 128, 'fmin': 0.0, 'fmax': None}; total time=  45.6s\n"
     ]
    },
    {
     "name": "stderr",
     "output_type": "stream",
     "text": [
      "/Users/axel/.pyenv/versions/3.8.12/envs/us8kdata/lib/python3.8/site-packages/librosa/util/decorators.py:88: UserWarning: Empty filters detected in mel frequency basis. Some channels will produce empty responses. Try increasing your sampling rate (and fmax) or reducing n_mels.\n",
      "  return f(*args, **kwargs)\n",
      "/Users/axel/.pyenv/versions/3.8.12/envs/us8kdata/lib/python3.8/site-packages/librosa/util/decorators.py:88: UserWarning: Empty filters detected in mel frequency basis. Some channels will produce empty responses. Try increasing your sampling rate (and fmax) or reducing n_mels.\n",
      "  return f(*args, **kwargs)\n"
     ]
    },
    {
     "name": "stdout",
     "output_type": "stream",
     "text": [
      "[CV] END estimator=XGBClassifier(base_score=None, booster=None, callbacks=None,\n",
      "              colsample_bylevel=None, colsample_bynode=None,\n",
      "              colsample_bytree=None, early_stopping_rounds=None,\n",
      "              enable_categorical=False, eval_metric=None, gamma=None,\n",
      "              gpu_id=None, grow_policy=None, importance_type=None,\n",
      "              interaction_constraints=None, learning_rate=0.025, max_bin=None,\n",
      "              max_cat_to_onehot=None, max_delta_step=None, max_depth=8,\n",
      "              max_leaves=None, min_child_weight=None, missing=nan,\n",
      "              monotone_constraints=None, n_estimators=400, n_jobs=None,\n",
      "              num_parallel_tree=None, objective='multi:softmax', predictor=None,\n",
      "              random_state=None, reg_alpha=None, ...), mean_mfcc__kw_args={'sr': 16000, 'n_mfcc': 20, 'n_fft': 256, 'hop_length': 128, 'fmin': 0.0, 'fmax': 3000.0}; total time=  46.3s\n"
     ]
    },
    {
     "name": "stderr",
     "output_type": "stream",
     "text": [
      "/Users/axel/.pyenv/versions/3.8.12/envs/us8kdata/lib/python3.8/site-packages/librosa/util/decorators.py:88: UserWarning: Empty filters detected in mel frequency basis. Some channels will produce empty responses. Try increasing your sampling rate (and fmax) or reducing n_mels.\n",
      "  return f(*args, **kwargs)\n",
      "/Users/axel/.pyenv/versions/3.8.12/envs/us8kdata/lib/python3.8/site-packages/librosa/util/decorators.py:88: UserWarning: Empty filters detected in mel frequency basis. Some channels will produce empty responses. Try increasing your sampling rate (and fmax) or reducing n_mels.\n",
      "  return f(*args, **kwargs)\n"
     ]
    },
    {
     "name": "stdout",
     "output_type": "stream",
     "text": [
      "[CV] END estimator=XGBClassifier(base_score=None, booster=None, callbacks=None,\n",
      "              colsample_bylevel=None, colsample_bynode=None,\n",
      "              colsample_bytree=None, early_stopping_rounds=None,\n",
      "              enable_categorical=False, eval_metric=None, gamma=None,\n",
      "              gpu_id=None, grow_policy=None, importance_type=None,\n",
      "              interaction_constraints=None, learning_rate=0.025, max_bin=None,\n",
      "              max_cat_to_onehot=None, max_delta_step=None, max_depth=8,\n",
      "              max_leaves=None, min_child_weight=None, missing=nan,\n",
      "              monotone_constraints=None, n_estimators=400, n_jobs=None,\n",
      "              num_parallel_tree=None, objective='multi:softmax', predictor=None,\n",
      "              random_state=None, reg_alpha=None, ...), mean_mfcc__kw_args={'sr': 16000, 'n_mfcc': 20, 'n_fft': 256, 'hop_length': 128, 'fmin': 0.0, 'fmax': 3000.0}; total time=  46.8s\n"
     ]
    },
    {
     "name": "stderr",
     "output_type": "stream",
     "text": [
      "/Users/axel/.pyenv/versions/3.8.12/envs/us8kdata/lib/python3.8/site-packages/librosa/util/decorators.py:88: UserWarning: Empty filters detected in mel frequency basis. Some channels will produce empty responses. Try increasing your sampling rate (and fmax) or reducing n_mels.\n",
      "  return f(*args, **kwargs)\n",
      "/Users/axel/.pyenv/versions/3.8.12/envs/us8kdata/lib/python3.8/site-packages/librosa/util/decorators.py:88: UserWarning: Empty filters detected in mel frequency basis. Some channels will produce empty responses. Try increasing your sampling rate (and fmax) or reducing n_mels.\n",
      "  return f(*args, **kwargs)\n"
     ]
    },
    {
     "name": "stdout",
     "output_type": "stream",
     "text": [
      "[CV] END estimator=XGBClassifier(base_score=None, booster=None, callbacks=None,\n",
      "              colsample_bylevel=None, colsample_bynode=None,\n",
      "              colsample_bytree=None, early_stopping_rounds=None,\n",
      "              enable_categorical=False, eval_metric=None, gamma=None,\n",
      "              gpu_id=None, grow_policy=None, importance_type=None,\n",
      "              interaction_constraints=None, learning_rate=0.025, max_bin=None,\n",
      "              max_cat_to_onehot=None, max_delta_step=None, max_depth=8,\n",
      "              max_leaves=None, min_child_weight=None, missing=nan,\n",
      "              monotone_constraints=None, n_estimators=400, n_jobs=None,\n",
      "              num_parallel_tree=None, objective='multi:softmax', predictor=None,\n",
      "              random_state=None, reg_alpha=None, ...), mean_mfcc__kw_args={'sr': 16000, 'n_mfcc': 20, 'n_fft': 256, 'hop_length': 128, 'fmin': 0.0, 'fmax': 4000.0}; total time=  47.3s\n"
     ]
    },
    {
     "name": "stderr",
     "output_type": "stream",
     "text": [
      "/Users/axel/.pyenv/versions/3.8.12/envs/us8kdata/lib/python3.8/site-packages/librosa/util/decorators.py:88: UserWarning: Empty filters detected in mel frequency basis. Some channels will produce empty responses. Try increasing your sampling rate (and fmax) or reducing n_mels.\n",
      "  return f(*args, **kwargs)\n",
      "/Users/axel/.pyenv/versions/3.8.12/envs/us8kdata/lib/python3.8/site-packages/librosa/util/decorators.py:88: UserWarning: Empty filters detected in mel frequency basis. Some channels will produce empty responses. Try increasing your sampling rate (and fmax) or reducing n_mels.\n",
      "  return f(*args, **kwargs)\n"
     ]
    },
    {
     "name": "stdout",
     "output_type": "stream",
     "text": [
      "[CV] END estimator=XGBClassifier(base_score=None, booster=None, callbacks=None,\n",
      "              colsample_bylevel=None, colsample_bynode=None,\n",
      "              colsample_bytree=None, early_stopping_rounds=None,\n",
      "              enable_categorical=False, eval_metric=None, gamma=None,\n",
      "              gpu_id=None, grow_policy=None, importance_type=None,\n",
      "              interaction_constraints=None, learning_rate=0.025, max_bin=None,\n",
      "              max_cat_to_onehot=None, max_delta_step=None, max_depth=8,\n",
      "              max_leaves=None, min_child_weight=None, missing=nan,\n",
      "              monotone_constraints=None, n_estimators=400, n_jobs=None,\n",
      "              num_parallel_tree=None, objective='multi:softmax', predictor=None,\n",
      "              random_state=None, reg_alpha=None, ...), mean_mfcc__kw_args={'sr': 16000, 'n_mfcc': 20, 'n_fft': 256, 'hop_length': 128, 'fmin': 0.0, 'fmax': 4000.0}; total time=  47.0s\n"
     ]
    },
    {
     "name": "stderr",
     "output_type": "stream",
     "text": [
      "/Users/axel/.pyenv/versions/3.8.12/envs/us8kdata/lib/python3.8/site-packages/librosa/util/decorators.py:88: UserWarning: Empty filters detected in mel frequency basis. Some channels will produce empty responses. Try increasing your sampling rate (and fmax) or reducing n_mels.\n",
      "  return f(*args, **kwargs)\n",
      "/Users/axel/.pyenv/versions/3.8.12/envs/us8kdata/lib/python3.8/site-packages/librosa/util/decorators.py:88: UserWarning: Empty filters detected in mel frequency basis. Some channels will produce empty responses. Try increasing your sampling rate (and fmax) or reducing n_mels.\n",
      "  return f(*args, **kwargs)\n"
     ]
    },
    {
     "name": "stdout",
     "output_type": "stream",
     "text": [
      "[CV] END estimator=XGBClassifier(base_score=None, booster=None, callbacks=None,\n",
      "              colsample_bylevel=None, colsample_bynode=None,\n",
      "              colsample_bytree=None, early_stopping_rounds=None,\n",
      "              enable_categorical=False, eval_metric=None, gamma=None,\n",
      "              gpu_id=None, grow_policy=None, importance_type=None,\n",
      "              interaction_constraints=None, learning_rate=0.025, max_bin=None,\n",
      "              max_cat_to_onehot=None, max_delta_step=None, max_depth=8,\n",
      "              max_leaves=None, min_child_weight=None, missing=nan,\n",
      "              monotone_constraints=None, n_estimators=400, n_jobs=None,\n",
      "              num_parallel_tree=None, objective='multi:softmax', predictor=None,\n",
      "              random_state=None, reg_alpha=None, ...), mean_mfcc__kw_args={'sr': 16000, 'n_mfcc': 20, 'n_fft': 256, 'hop_length': 128, 'fmin': 0.0, 'fmax': 5000.0}; total time=  49.7s\n"
     ]
    },
    {
     "name": "stderr",
     "output_type": "stream",
     "text": [
      "/Users/axel/.pyenv/versions/3.8.12/envs/us8kdata/lib/python3.8/site-packages/librosa/util/decorators.py:88: UserWarning: Empty filters detected in mel frequency basis. Some channels will produce empty responses. Try increasing your sampling rate (and fmax) or reducing n_mels.\n",
      "  return f(*args, **kwargs)\n",
      "/Users/axel/.pyenv/versions/3.8.12/envs/us8kdata/lib/python3.8/site-packages/librosa/util/decorators.py:88: UserWarning: Empty filters detected in mel frequency basis. Some channels will produce empty responses. Try increasing your sampling rate (and fmax) or reducing n_mels.\n",
      "  return f(*args, **kwargs)\n"
     ]
    },
    {
     "name": "stdout",
     "output_type": "stream",
     "text": [
      "[CV] END estimator=XGBClassifier(base_score=None, booster=None, callbacks=None,\n",
      "              colsample_bylevel=None, colsample_bynode=None,\n",
      "              colsample_bytree=None, early_stopping_rounds=None,\n",
      "              enable_categorical=False, eval_metric=None, gamma=None,\n",
      "              gpu_id=None, grow_policy=None, importance_type=None,\n",
      "              interaction_constraints=None, learning_rate=0.025, max_bin=None,\n",
      "              max_cat_to_onehot=None, max_delta_step=None, max_depth=8,\n",
      "              max_leaves=None, min_child_weight=None, missing=nan,\n",
      "              monotone_constraints=None, n_estimators=400, n_jobs=None,\n",
      "              num_parallel_tree=None, objective='multi:softmax', predictor=None,\n",
      "              random_state=None, reg_alpha=None, ...), mean_mfcc__kw_args={'sr': 16000, 'n_mfcc': 20, 'n_fft': 256, 'hop_length': 128, 'fmin': 0.0, 'fmax': 5000.0}; total time=  46.1s\n"
     ]
    },
    {
     "name": "stderr",
     "output_type": "stream",
     "text": [
      "/Users/axel/.pyenv/versions/3.8.12/envs/us8kdata/lib/python3.8/site-packages/librosa/util/decorators.py:88: UserWarning: Empty filters detected in mel frequency basis. Some channels will produce empty responses. Try increasing your sampling rate (and fmax) or reducing n_mels.\n",
      "  return f(*args, **kwargs)\n",
      "/Users/axel/.pyenv/versions/3.8.12/envs/us8kdata/lib/python3.8/site-packages/librosa/util/decorators.py:88: UserWarning: Empty filters detected in mel frequency basis. Some channels will produce empty responses. Try increasing your sampling rate (and fmax) or reducing n_mels.\n",
      "  return f(*args, **kwargs)\n"
     ]
    },
    {
     "name": "stdout",
     "output_type": "stream",
     "text": [
      "[CV] END estimator=XGBClassifier(base_score=None, booster=None, callbacks=None,\n",
      "              colsample_bylevel=None, colsample_bynode=None,\n",
      "              colsample_bytree=None, early_stopping_rounds=None,\n",
      "              enable_categorical=False, eval_metric=None, gamma=None,\n",
      "              gpu_id=None, grow_policy=None, importance_type=None,\n",
      "              interaction_constraints=None, learning_rate=0.025, max_bin=None,\n",
      "              max_cat_to_onehot=None, max_delta_step=None, max_depth=8,\n",
      "              max_leaves=None, min_child_weight=None, missing=nan,\n",
      "              monotone_constraints=None, n_estimators=400, n_jobs=None,\n",
      "              num_parallel_tree=None, objective='multi:softmax', predictor=None,\n",
      "              random_state=None, reg_alpha=None, ...), mean_mfcc__kw_args={'sr': 16000, 'n_mfcc': 20, 'n_fft': 256, 'hop_length': 128, 'fmin': 300.0, 'fmax': None}; total time=  46.3s\n"
     ]
    },
    {
     "name": "stderr",
     "output_type": "stream",
     "text": [
      "/Users/axel/.pyenv/versions/3.8.12/envs/us8kdata/lib/python3.8/site-packages/librosa/util/decorators.py:88: UserWarning: Empty filters detected in mel frequency basis. Some channels will produce empty responses. Try increasing your sampling rate (and fmax) or reducing n_mels.\n",
      "  return f(*args, **kwargs)\n",
      "/Users/axel/.pyenv/versions/3.8.12/envs/us8kdata/lib/python3.8/site-packages/librosa/util/decorators.py:88: UserWarning: Empty filters detected in mel frequency basis. Some channels will produce empty responses. Try increasing your sampling rate (and fmax) or reducing n_mels.\n",
      "  return f(*args, **kwargs)\n"
     ]
    },
    {
     "name": "stdout",
     "output_type": "stream",
     "text": [
      "[CV] END estimator=XGBClassifier(base_score=None, booster=None, callbacks=None,\n",
      "              colsample_bylevel=None, colsample_bynode=None,\n",
      "              colsample_bytree=None, early_stopping_rounds=None,\n",
      "              enable_categorical=False, eval_metric=None, gamma=None,\n",
      "              gpu_id=None, grow_policy=None, importance_type=None,\n",
      "              interaction_constraints=None, learning_rate=0.025, max_bin=None,\n",
      "              max_cat_to_onehot=None, max_delta_step=None, max_depth=8,\n",
      "              max_leaves=None, min_child_weight=None, missing=nan,\n",
      "              monotone_constraints=None, n_estimators=400, n_jobs=None,\n",
      "              num_parallel_tree=None, objective='multi:softmax', predictor=None,\n",
      "              random_state=None, reg_alpha=None, ...), mean_mfcc__kw_args={'sr': 16000, 'n_mfcc': 20, 'n_fft': 256, 'hop_length': 128, 'fmin': 300.0, 'fmax': None}; total time=  44.8s\n"
     ]
    },
    {
     "name": "stderr",
     "output_type": "stream",
     "text": [
      "/Users/axel/.pyenv/versions/3.8.12/envs/us8kdata/lib/python3.8/site-packages/librosa/util/decorators.py:88: UserWarning: Empty filters detected in mel frequency basis. Some channels will produce empty responses. Try increasing your sampling rate (and fmax) or reducing n_mels.\n",
      "  return f(*args, **kwargs)\n",
      "/Users/axel/.pyenv/versions/3.8.12/envs/us8kdata/lib/python3.8/site-packages/librosa/util/decorators.py:88: UserWarning: Empty filters detected in mel frequency basis. Some channels will produce empty responses. Try increasing your sampling rate (and fmax) or reducing n_mels.\n",
      "  return f(*args, **kwargs)\n"
     ]
    },
    {
     "name": "stdout",
     "output_type": "stream",
     "text": [
      "[CV] END estimator=XGBClassifier(base_score=None, booster=None, callbacks=None,\n",
      "              colsample_bylevel=None, colsample_bynode=None,\n",
      "              colsample_bytree=None, early_stopping_rounds=None,\n",
      "              enable_categorical=False, eval_metric=None, gamma=None,\n",
      "              gpu_id=None, grow_policy=None, importance_type=None,\n",
      "              interaction_constraints=None, learning_rate=0.025, max_bin=None,\n",
      "              max_cat_to_onehot=None, max_delta_step=None, max_depth=8,\n",
      "              max_leaves=None, min_child_weight=None, missing=nan,\n",
      "              monotone_constraints=None, n_estimators=400, n_jobs=None,\n",
      "              num_parallel_tree=None, objective='multi:softmax', predictor=None,\n",
      "              random_state=None, reg_alpha=None, ...), mean_mfcc__kw_args={'sr': 16000, 'n_mfcc': 20, 'n_fft': 256, 'hop_length': 128, 'fmin': 300.0, 'fmax': 3000.0}; total time=  49.2s\n"
     ]
    },
    {
     "name": "stderr",
     "output_type": "stream",
     "text": [
      "/Users/axel/.pyenv/versions/3.8.12/envs/us8kdata/lib/python3.8/site-packages/librosa/util/decorators.py:88: UserWarning: Empty filters detected in mel frequency basis. Some channels will produce empty responses. Try increasing your sampling rate (and fmax) or reducing n_mels.\n",
      "  return f(*args, **kwargs)\n",
      "/Users/axel/.pyenv/versions/3.8.12/envs/us8kdata/lib/python3.8/site-packages/librosa/util/decorators.py:88: UserWarning: Empty filters detected in mel frequency basis. Some channels will produce empty responses. Try increasing your sampling rate (and fmax) or reducing n_mels.\n",
      "  return f(*args, **kwargs)\n"
     ]
    },
    {
     "name": "stdout",
     "output_type": "stream",
     "text": [
      "[CV] END estimator=XGBClassifier(base_score=None, booster=None, callbacks=None,\n",
      "              colsample_bylevel=None, colsample_bynode=None,\n",
      "              colsample_bytree=None, early_stopping_rounds=None,\n",
      "              enable_categorical=False, eval_metric=None, gamma=None,\n",
      "              gpu_id=None, grow_policy=None, importance_type=None,\n",
      "              interaction_constraints=None, learning_rate=0.025, max_bin=None,\n",
      "              max_cat_to_onehot=None, max_delta_step=None, max_depth=8,\n",
      "              max_leaves=None, min_child_weight=None, missing=nan,\n",
      "              monotone_constraints=None, n_estimators=400, n_jobs=None,\n",
      "              num_parallel_tree=None, objective='multi:softmax', predictor=None,\n",
      "              random_state=None, reg_alpha=None, ...), mean_mfcc__kw_args={'sr': 16000, 'n_mfcc': 20, 'n_fft': 256, 'hop_length': 128, 'fmin': 300.0, 'fmax': 3000.0}; total time=  48.0s\n"
     ]
    },
    {
     "name": "stderr",
     "output_type": "stream",
     "text": [
      "/Users/axel/.pyenv/versions/3.8.12/envs/us8kdata/lib/python3.8/site-packages/librosa/util/decorators.py:88: UserWarning: Empty filters detected in mel frequency basis. Some channels will produce empty responses. Try increasing your sampling rate (and fmax) or reducing n_mels.\n",
      "  return f(*args, **kwargs)\n",
      "/Users/axel/.pyenv/versions/3.8.12/envs/us8kdata/lib/python3.8/site-packages/librosa/util/decorators.py:88: UserWarning: Empty filters detected in mel frequency basis. Some channels will produce empty responses. Try increasing your sampling rate (and fmax) or reducing n_mels.\n",
      "  return f(*args, **kwargs)\n"
     ]
    },
    {
     "name": "stdout",
     "output_type": "stream",
     "text": [
      "[CV] END estimator=XGBClassifier(base_score=None, booster=None, callbacks=None,\n",
      "              colsample_bylevel=None, colsample_bynode=None,\n",
      "              colsample_bytree=None, early_stopping_rounds=None,\n",
      "              enable_categorical=False, eval_metric=None, gamma=None,\n",
      "              gpu_id=None, grow_policy=None, importance_type=None,\n",
      "              interaction_constraints=None, learning_rate=0.025, max_bin=None,\n",
      "              max_cat_to_onehot=None, max_delta_step=None, max_depth=8,\n",
      "              max_leaves=None, min_child_weight=None, missing=nan,\n",
      "              monotone_constraints=None, n_estimators=400, n_jobs=None,\n",
      "              num_parallel_tree=None, objective='multi:softmax', predictor=None,\n",
      "              random_state=None, reg_alpha=None, ...), mean_mfcc__kw_args={'sr': 16000, 'n_mfcc': 20, 'n_fft': 256, 'hop_length': 128, 'fmin': 300.0, 'fmax': 4000.0}; total time=  50.4s\n"
     ]
    },
    {
     "name": "stderr",
     "output_type": "stream",
     "text": [
      "/Users/axel/.pyenv/versions/3.8.12/envs/us8kdata/lib/python3.8/site-packages/librosa/util/decorators.py:88: UserWarning: Empty filters detected in mel frequency basis. Some channels will produce empty responses. Try increasing your sampling rate (and fmax) or reducing n_mels.\n",
      "  return f(*args, **kwargs)\n",
      "/Users/axel/.pyenv/versions/3.8.12/envs/us8kdata/lib/python3.8/site-packages/librosa/util/decorators.py:88: UserWarning: Empty filters detected in mel frequency basis. Some channels will produce empty responses. Try increasing your sampling rate (and fmax) or reducing n_mels.\n",
      "  return f(*args, **kwargs)\n"
     ]
    },
    {
     "name": "stdout",
     "output_type": "stream",
     "text": [
      "[CV] END estimator=XGBClassifier(base_score=None, booster=None, callbacks=None,\n",
      "              colsample_bylevel=None, colsample_bynode=None,\n",
      "              colsample_bytree=None, early_stopping_rounds=None,\n",
      "              enable_categorical=False, eval_metric=None, gamma=None,\n",
      "              gpu_id=None, grow_policy=None, importance_type=None,\n",
      "              interaction_constraints=None, learning_rate=0.025, max_bin=None,\n",
      "              max_cat_to_onehot=None, max_delta_step=None, max_depth=8,\n",
      "              max_leaves=None, min_child_weight=None, missing=nan,\n",
      "              monotone_constraints=None, n_estimators=400, n_jobs=None,\n",
      "              num_parallel_tree=None, objective='multi:softmax', predictor=None,\n",
      "              random_state=None, reg_alpha=None, ...), mean_mfcc__kw_args={'sr': 16000, 'n_mfcc': 20, 'n_fft': 256, 'hop_length': 128, 'fmin': 300.0, 'fmax': 4000.0}; total time=  47.1s\n"
     ]
    },
    {
     "name": "stderr",
     "output_type": "stream",
     "text": [
      "/Users/axel/.pyenv/versions/3.8.12/envs/us8kdata/lib/python3.8/site-packages/librosa/util/decorators.py:88: UserWarning: Empty filters detected in mel frequency basis. Some channels will produce empty responses. Try increasing your sampling rate (and fmax) or reducing n_mels.\n",
      "  return f(*args, **kwargs)\n",
      "/Users/axel/.pyenv/versions/3.8.12/envs/us8kdata/lib/python3.8/site-packages/librosa/util/decorators.py:88: UserWarning: Empty filters detected in mel frequency basis. Some channels will produce empty responses. Try increasing your sampling rate (and fmax) or reducing n_mels.\n",
      "  return f(*args, **kwargs)\n"
     ]
    },
    {
     "name": "stdout",
     "output_type": "stream",
     "text": [
      "[CV] END estimator=XGBClassifier(base_score=None, booster=None, callbacks=None,\n",
      "              colsample_bylevel=None, colsample_bynode=None,\n",
      "              colsample_bytree=None, early_stopping_rounds=None,\n",
      "              enable_categorical=False, eval_metric=None, gamma=None,\n",
      "              gpu_id=None, grow_policy=None, importance_type=None,\n",
      "              interaction_constraints=None, learning_rate=0.025, max_bin=None,\n",
      "              max_cat_to_onehot=None, max_delta_step=None, max_depth=8,\n",
      "              max_leaves=None, min_child_weight=None, missing=nan,\n",
      "              monotone_constraints=None, n_estimators=400, n_jobs=None,\n",
      "              num_parallel_tree=None, objective='multi:softmax', predictor=None,\n",
      "              random_state=None, reg_alpha=None, ...), mean_mfcc__kw_args={'sr': 16000, 'n_mfcc': 20, 'n_fft': 256, 'hop_length': 128, 'fmin': 300.0, 'fmax': 5000.0}; total time=  49.4s\n"
     ]
    },
    {
     "name": "stderr",
     "output_type": "stream",
     "text": [
      "/Users/axel/.pyenv/versions/3.8.12/envs/us8kdata/lib/python3.8/site-packages/librosa/util/decorators.py:88: UserWarning: Empty filters detected in mel frequency basis. Some channels will produce empty responses. Try increasing your sampling rate (and fmax) or reducing n_mels.\n",
      "  return f(*args, **kwargs)\n",
      "/Users/axel/.pyenv/versions/3.8.12/envs/us8kdata/lib/python3.8/site-packages/librosa/util/decorators.py:88: UserWarning: Empty filters detected in mel frequency basis. Some channels will produce empty responses. Try increasing your sampling rate (and fmax) or reducing n_mels.\n",
      "  return f(*args, **kwargs)\n"
     ]
    },
    {
     "name": "stdout",
     "output_type": "stream",
     "text": [
      "[CV] END estimator=XGBClassifier(base_score=None, booster=None, callbacks=None,\n",
      "              colsample_bylevel=None, colsample_bynode=None,\n",
      "              colsample_bytree=None, early_stopping_rounds=None,\n",
      "              enable_categorical=False, eval_metric=None, gamma=None,\n",
      "              gpu_id=None, grow_policy=None, importance_type=None,\n",
      "              interaction_constraints=None, learning_rate=0.025, max_bin=None,\n",
      "              max_cat_to_onehot=None, max_delta_step=None, max_depth=8,\n",
      "              max_leaves=None, min_child_weight=None, missing=nan,\n",
      "              monotone_constraints=None, n_estimators=400, n_jobs=None,\n",
      "              num_parallel_tree=None, objective='multi:softmax', predictor=None,\n",
      "              random_state=None, reg_alpha=None, ...), mean_mfcc__kw_args={'sr': 16000, 'n_mfcc': 20, 'n_fft': 256, 'hop_length': 128, 'fmin': 300.0, 'fmax': 5000.0}; total time=  46.3s\n"
     ]
    },
    {
     "name": "stderr",
     "output_type": "stream",
     "text": [
      "/Users/axel/.pyenv/versions/3.8.12/envs/us8kdata/lib/python3.8/site-packages/librosa/util/decorators.py:88: UserWarning: Empty filters detected in mel frequency basis. Some channels will produce empty responses. Try increasing your sampling rate (and fmax) or reducing n_mels.\n",
      "  return f(*args, **kwargs)\n",
      "/Users/axel/.pyenv/versions/3.8.12/envs/us8kdata/lib/python3.8/site-packages/librosa/util/decorators.py:88: UserWarning: Empty filters detected in mel frequency basis. Some channels will produce empty responses. Try increasing your sampling rate (and fmax) or reducing n_mels.\n",
      "  return f(*args, **kwargs)\n"
     ]
    },
    {
     "name": "stdout",
     "output_type": "stream",
     "text": [
      "[CV] END estimator=XGBClassifier(base_score=None, booster=None, callbacks=None,\n",
      "              colsample_bylevel=None, colsample_bynode=None,\n",
      "              colsample_bytree=None, early_stopping_rounds=None,\n",
      "              enable_categorical=False, eval_metric=None, gamma=None,\n",
      "              gpu_id=None, grow_policy=None, importance_type=None,\n",
      "              interaction_constraints=None, learning_rate=0.025, max_bin=None,\n",
      "              max_cat_to_onehot=None, max_delta_step=None, max_depth=8,\n",
      "              max_leaves=None, min_child_weight=None, missing=nan,\n",
      "              monotone_constraints=None, n_estimators=400, n_jobs=None,\n",
      "              num_parallel_tree=None, objective='multi:softmax', predictor=None,\n",
      "              random_state=None, reg_alpha=None, ...), mean_mfcc__kw_args={'sr': 16000, 'n_mfcc': 20, 'n_fft': 256, 'hop_length': 128, 'fmin': 500.0, 'fmax': None}; total time=  47.1s\n"
     ]
    },
    {
     "name": "stderr",
     "output_type": "stream",
     "text": [
      "/Users/axel/.pyenv/versions/3.8.12/envs/us8kdata/lib/python3.8/site-packages/librosa/util/decorators.py:88: UserWarning: Empty filters detected in mel frequency basis. Some channels will produce empty responses. Try increasing your sampling rate (and fmax) or reducing n_mels.\n",
      "  return f(*args, **kwargs)\n",
      "/Users/axel/.pyenv/versions/3.8.12/envs/us8kdata/lib/python3.8/site-packages/librosa/util/decorators.py:88: UserWarning: Empty filters detected in mel frequency basis. Some channels will produce empty responses. Try increasing your sampling rate (and fmax) or reducing n_mels.\n",
      "  return f(*args, **kwargs)\n"
     ]
    },
    {
     "name": "stdout",
     "output_type": "stream",
     "text": [
      "[CV] END estimator=XGBClassifier(base_score=None, booster=None, callbacks=None,\n",
      "              colsample_bylevel=None, colsample_bynode=None,\n",
      "              colsample_bytree=None, early_stopping_rounds=None,\n",
      "              enable_categorical=False, eval_metric=None, gamma=None,\n",
      "              gpu_id=None, grow_policy=None, importance_type=None,\n",
      "              interaction_constraints=None, learning_rate=0.025, max_bin=None,\n",
      "              max_cat_to_onehot=None, max_delta_step=None, max_depth=8,\n",
      "              max_leaves=None, min_child_weight=None, missing=nan,\n",
      "              monotone_constraints=None, n_estimators=400, n_jobs=None,\n",
      "              num_parallel_tree=None, objective='multi:softmax', predictor=None,\n",
      "              random_state=None, reg_alpha=None, ...), mean_mfcc__kw_args={'sr': 16000, 'n_mfcc': 20, 'n_fft': 256, 'hop_length': 128, 'fmin': 500.0, 'fmax': None}; total time=  47.3s\n"
     ]
    },
    {
     "name": "stderr",
     "output_type": "stream",
     "text": [
      "/Users/axel/.pyenv/versions/3.8.12/envs/us8kdata/lib/python3.8/site-packages/librosa/util/decorators.py:88: UserWarning: Empty filters detected in mel frequency basis. Some channels will produce empty responses. Try increasing your sampling rate (and fmax) or reducing n_mels.\n",
      "  return f(*args, **kwargs)\n",
      "/Users/axel/.pyenv/versions/3.8.12/envs/us8kdata/lib/python3.8/site-packages/librosa/util/decorators.py:88: UserWarning: Empty filters detected in mel frequency basis. Some channels will produce empty responses. Try increasing your sampling rate (and fmax) or reducing n_mels.\n",
      "  return f(*args, **kwargs)\n"
     ]
    },
    {
     "name": "stdout",
     "output_type": "stream",
     "text": [
      "[CV] END estimator=XGBClassifier(base_score=None, booster=None, callbacks=None,\n",
      "              colsample_bylevel=None, colsample_bynode=None,\n",
      "              colsample_bytree=None, early_stopping_rounds=None,\n",
      "              enable_categorical=False, eval_metric=None, gamma=None,\n",
      "              gpu_id=None, grow_policy=None, importance_type=None,\n",
      "              interaction_constraints=None, learning_rate=0.025, max_bin=None,\n",
      "              max_cat_to_onehot=None, max_delta_step=None, max_depth=8,\n",
      "              max_leaves=None, min_child_weight=None, missing=nan,\n",
      "              monotone_constraints=None, n_estimators=400, n_jobs=None,\n",
      "              num_parallel_tree=None, objective='multi:softmax', predictor=None,\n",
      "              random_state=None, reg_alpha=None, ...), mean_mfcc__kw_args={'sr': 16000, 'n_mfcc': 20, 'n_fft': 256, 'hop_length': 128, 'fmin': 500.0, 'fmax': 3000.0}; total time=  47.4s\n"
     ]
    },
    {
     "name": "stderr",
     "output_type": "stream",
     "text": [
      "/Users/axel/.pyenv/versions/3.8.12/envs/us8kdata/lib/python3.8/site-packages/librosa/util/decorators.py:88: UserWarning: Empty filters detected in mel frequency basis. Some channels will produce empty responses. Try increasing your sampling rate (and fmax) or reducing n_mels.\n",
      "  return f(*args, **kwargs)\n",
      "/Users/axel/.pyenv/versions/3.8.12/envs/us8kdata/lib/python3.8/site-packages/librosa/util/decorators.py:88: UserWarning: Empty filters detected in mel frequency basis. Some channels will produce empty responses. Try increasing your sampling rate (and fmax) or reducing n_mels.\n",
      "  return f(*args, **kwargs)\n"
     ]
    },
    {
     "name": "stdout",
     "output_type": "stream",
     "text": [
      "[CV] END estimator=XGBClassifier(base_score=None, booster=None, callbacks=None,\n",
      "              colsample_bylevel=None, colsample_bynode=None,\n",
      "              colsample_bytree=None, early_stopping_rounds=None,\n",
      "              enable_categorical=False, eval_metric=None, gamma=None,\n",
      "              gpu_id=None, grow_policy=None, importance_type=None,\n",
      "              interaction_constraints=None, learning_rate=0.025, max_bin=None,\n",
      "              max_cat_to_onehot=None, max_delta_step=None, max_depth=8,\n",
      "              max_leaves=None, min_child_weight=None, missing=nan,\n",
      "              monotone_constraints=None, n_estimators=400, n_jobs=None,\n",
      "              num_parallel_tree=None, objective='multi:softmax', predictor=None,\n",
      "              random_state=None, reg_alpha=None, ...), mean_mfcc__kw_args={'sr': 16000, 'n_mfcc': 20, 'n_fft': 256, 'hop_length': 128, 'fmin': 500.0, 'fmax': 3000.0}; total time=  47.5s\n"
     ]
    },
    {
     "name": "stderr",
     "output_type": "stream",
     "text": [
      "/Users/axel/.pyenv/versions/3.8.12/envs/us8kdata/lib/python3.8/site-packages/librosa/util/decorators.py:88: UserWarning: Empty filters detected in mel frequency basis. Some channels will produce empty responses. Try increasing your sampling rate (and fmax) or reducing n_mels.\n",
      "  return f(*args, **kwargs)\n",
      "/Users/axel/.pyenv/versions/3.8.12/envs/us8kdata/lib/python3.8/site-packages/librosa/util/decorators.py:88: UserWarning: Empty filters detected in mel frequency basis. Some channels will produce empty responses. Try increasing your sampling rate (and fmax) or reducing n_mels.\n",
      "  return f(*args, **kwargs)\n"
     ]
    },
    {
     "name": "stdout",
     "output_type": "stream",
     "text": [
      "[CV] END estimator=XGBClassifier(base_score=None, booster=None, callbacks=None,\n",
      "              colsample_bylevel=None, colsample_bynode=None,\n",
      "              colsample_bytree=None, early_stopping_rounds=None,\n",
      "              enable_categorical=False, eval_metric=None, gamma=None,\n",
      "              gpu_id=None, grow_policy=None, importance_type=None,\n",
      "              interaction_constraints=None, learning_rate=0.025, max_bin=None,\n",
      "              max_cat_to_onehot=None, max_delta_step=None, max_depth=8,\n",
      "              max_leaves=None, min_child_weight=None, missing=nan,\n",
      "              monotone_constraints=None, n_estimators=400, n_jobs=None,\n",
      "              num_parallel_tree=None, objective='multi:softmax', predictor=None,\n",
      "              random_state=None, reg_alpha=None, ...), mean_mfcc__kw_args={'sr': 16000, 'n_mfcc': 20, 'n_fft': 256, 'hop_length': 128, 'fmin': 500.0, 'fmax': 4000.0}; total time=  47.4s\n"
     ]
    },
    {
     "name": "stderr",
     "output_type": "stream",
     "text": [
      "/Users/axel/.pyenv/versions/3.8.12/envs/us8kdata/lib/python3.8/site-packages/librosa/util/decorators.py:88: UserWarning: Empty filters detected in mel frequency basis. Some channels will produce empty responses. Try increasing your sampling rate (and fmax) or reducing n_mels.\n",
      "  return f(*args, **kwargs)\n",
      "/Users/axel/.pyenv/versions/3.8.12/envs/us8kdata/lib/python3.8/site-packages/librosa/util/decorators.py:88: UserWarning: Empty filters detected in mel frequency basis. Some channels will produce empty responses. Try increasing your sampling rate (and fmax) or reducing n_mels.\n",
      "  return f(*args, **kwargs)\n"
     ]
    },
    {
     "name": "stdout",
     "output_type": "stream",
     "text": [
      "[CV] END estimator=XGBClassifier(base_score=None, booster=None, callbacks=None,\n",
      "              colsample_bylevel=None, colsample_bynode=None,\n",
      "              colsample_bytree=None, early_stopping_rounds=None,\n",
      "              enable_categorical=False, eval_metric=None, gamma=None,\n",
      "              gpu_id=None, grow_policy=None, importance_type=None,\n",
      "              interaction_constraints=None, learning_rate=0.025, max_bin=None,\n",
      "              max_cat_to_onehot=None, max_delta_step=None, max_depth=8,\n",
      "              max_leaves=None, min_child_weight=None, missing=nan,\n",
      "              monotone_constraints=None, n_estimators=400, n_jobs=None,\n",
      "              num_parallel_tree=None, objective='multi:softmax', predictor=None,\n",
      "              random_state=None, reg_alpha=None, ...), mean_mfcc__kw_args={'sr': 16000, 'n_mfcc': 20, 'n_fft': 256, 'hop_length': 128, 'fmin': 500.0, 'fmax': 4000.0}; total time=  45.7s\n"
     ]
    },
    {
     "name": "stderr",
     "output_type": "stream",
     "text": [
      "/Users/axel/.pyenv/versions/3.8.12/envs/us8kdata/lib/python3.8/site-packages/librosa/util/decorators.py:88: UserWarning: Empty filters detected in mel frequency basis. Some channels will produce empty responses. Try increasing your sampling rate (and fmax) or reducing n_mels.\n",
      "  return f(*args, **kwargs)\n",
      "/Users/axel/.pyenv/versions/3.8.12/envs/us8kdata/lib/python3.8/site-packages/librosa/util/decorators.py:88: UserWarning: Empty filters detected in mel frequency basis. Some channels will produce empty responses. Try increasing your sampling rate (and fmax) or reducing n_mels.\n",
      "  return f(*args, **kwargs)\n"
     ]
    },
    {
     "name": "stdout",
     "output_type": "stream",
     "text": [
      "[CV] END estimator=XGBClassifier(base_score=None, booster=None, callbacks=None,\n",
      "              colsample_bylevel=None, colsample_bynode=None,\n",
      "              colsample_bytree=None, early_stopping_rounds=None,\n",
      "              enable_categorical=False, eval_metric=None, gamma=None,\n",
      "              gpu_id=None, grow_policy=None, importance_type=None,\n",
      "              interaction_constraints=None, learning_rate=0.025, max_bin=None,\n",
      "              max_cat_to_onehot=None, max_delta_step=None, max_depth=8,\n",
      "              max_leaves=None, min_child_weight=None, missing=nan,\n",
      "              monotone_constraints=None, n_estimators=400, n_jobs=None,\n",
      "              num_parallel_tree=None, objective='multi:softmax', predictor=None,\n",
      "              random_state=None, reg_alpha=None, ...), mean_mfcc__kw_args={'sr': 16000, 'n_mfcc': 20, 'n_fft': 256, 'hop_length': 128, 'fmin': 500.0, 'fmax': 5000.0}; total time=  47.5s\n"
     ]
    },
    {
     "name": "stderr",
     "output_type": "stream",
     "text": [
      "/Users/axel/.pyenv/versions/3.8.12/envs/us8kdata/lib/python3.8/site-packages/librosa/util/decorators.py:88: UserWarning: Empty filters detected in mel frequency basis. Some channels will produce empty responses. Try increasing your sampling rate (and fmax) or reducing n_mels.\n",
      "  return f(*args, **kwargs)\n",
      "/Users/axel/.pyenv/versions/3.8.12/envs/us8kdata/lib/python3.8/site-packages/librosa/util/decorators.py:88: UserWarning: Empty filters detected in mel frequency basis. Some channels will produce empty responses. Try increasing your sampling rate (and fmax) or reducing n_mels.\n",
      "  return f(*args, **kwargs)\n"
     ]
    },
    {
     "name": "stdout",
     "output_type": "stream",
     "text": [
      "[CV] END estimator=XGBClassifier(base_score=None, booster=None, callbacks=None,\n",
      "              colsample_bylevel=None, colsample_bynode=None,\n",
      "              colsample_bytree=None, early_stopping_rounds=None,\n",
      "              enable_categorical=False, eval_metric=None, gamma=None,\n",
      "              gpu_id=None, grow_policy=None, importance_type=None,\n",
      "              interaction_constraints=None, learning_rate=0.025, max_bin=None,\n",
      "              max_cat_to_onehot=None, max_delta_step=None, max_depth=8,\n",
      "              max_leaves=None, min_child_weight=None, missing=nan,\n",
      "              monotone_constraints=None, n_estimators=400, n_jobs=None,\n",
      "              num_parallel_tree=None, objective='multi:softmax', predictor=None,\n",
      "              random_state=None, reg_alpha=None, ...), mean_mfcc__kw_args={'sr': 16000, 'n_mfcc': 20, 'n_fft': 256, 'hop_length': 128, 'fmin': 500.0, 'fmax': 5000.0}; total time=  46.7s\n",
      "[CV] END estimator=XGBClassifier(base_score=None, booster=None, callbacks=None,\n",
      "              colsample_bylevel=None, colsample_bynode=None,\n",
      "              colsample_bytree=None, early_stopping_rounds=None,\n",
      "              enable_categorical=False, eval_metric=None, gamma=None,\n",
      "              gpu_id=None, grow_policy=None, importance_type=None,\n",
      "              interaction_constraints=None, learning_rate=0.025, max_bin=None,\n",
      "              max_cat_to_onehot=None, max_delta_step=None, max_depth=8,\n",
      "              max_leaves=None, min_child_weight=None, missing=nan,\n",
      "              monotone_constraints=None, n_estimators=400, n_jobs=None,\n",
      "              num_parallel_tree=None, objective='multi:softmax', predictor=None,\n",
      "              random_state=None, reg_alpha=None, ...), mean_mfcc__kw_args={'sr': 16000, 'n_mfcc': 20, 'n_fft': 512, 'hop_length': 128, 'fmin': 0.0, 'fmax': None}; total time=  57.3s\n",
      "[CV] END estimator=XGBClassifier(base_score=None, booster=None, callbacks=None,\n",
      "              colsample_bylevel=None, colsample_bynode=None,\n",
      "              colsample_bytree=None, early_stopping_rounds=None,\n",
      "              enable_categorical=False, eval_metric=None, gamma=None,\n",
      "              gpu_id=None, grow_policy=None, importance_type=None,\n",
      "              interaction_constraints=None, learning_rate=0.025, max_bin=None,\n",
      "              max_cat_to_onehot=None, max_delta_step=None, max_depth=8,\n",
      "              max_leaves=None, min_child_weight=None, missing=nan,\n",
      "              monotone_constraints=None, n_estimators=400, n_jobs=None,\n",
      "              num_parallel_tree=None, objective='multi:softmax', predictor=None,\n",
      "              random_state=None, reg_alpha=None, ...), mean_mfcc__kw_args={'sr': 16000, 'n_mfcc': 20, 'n_fft': 512, 'hop_length': 128, 'fmin': 0.0, 'fmax': None}; total time=  55.2s\n",
      "[CV] END estimator=XGBClassifier(base_score=None, booster=None, callbacks=None,\n",
      "              colsample_bylevel=None, colsample_bynode=None,\n",
      "              colsample_bytree=None, early_stopping_rounds=None,\n",
      "              enable_categorical=False, eval_metric=None, gamma=None,\n",
      "              gpu_id=None, grow_policy=None, importance_type=None,\n",
      "              interaction_constraints=None, learning_rate=0.025, max_bin=None,\n",
      "              max_cat_to_onehot=None, max_delta_step=None, max_depth=8,\n",
      "              max_leaves=None, min_child_weight=None, missing=nan,\n",
      "              monotone_constraints=None, n_estimators=400, n_jobs=None,\n",
      "              num_parallel_tree=None, objective='multi:softmax', predictor=None,\n",
      "              random_state=None, reg_alpha=None, ...), mean_mfcc__kw_args={'sr': 16000, 'n_mfcc': 20, 'n_fft': 512, 'hop_length': 128, 'fmin': 0.0, 'fmax': 3000.0}; total time=  56.6s\n",
      "[CV] END estimator=XGBClassifier(base_score=None, booster=None, callbacks=None,\n",
      "              colsample_bylevel=None, colsample_bynode=None,\n",
      "              colsample_bytree=None, early_stopping_rounds=None,\n",
      "              enable_categorical=False, eval_metric=None, gamma=None,\n",
      "              gpu_id=None, grow_policy=None, importance_type=None,\n",
      "              interaction_constraints=None, learning_rate=0.025, max_bin=None,\n",
      "              max_cat_to_onehot=None, max_delta_step=None, max_depth=8,\n",
      "              max_leaves=None, min_child_weight=None, missing=nan,\n",
      "              monotone_constraints=None, n_estimators=400, n_jobs=None,\n",
      "              num_parallel_tree=None, objective='multi:softmax', predictor=None,\n",
      "              random_state=None, reg_alpha=None, ...), mean_mfcc__kw_args={'sr': 16000, 'n_mfcc': 20, 'n_fft': 512, 'hop_length': 128, 'fmin': 0.0, 'fmax': 3000.0}; total time=  58.2s\n",
      "[CV] END estimator=XGBClassifier(base_score=None, booster=None, callbacks=None,\n",
      "              colsample_bylevel=None, colsample_bynode=None,\n",
      "              colsample_bytree=None, early_stopping_rounds=None,\n",
      "              enable_categorical=False, eval_metric=None, gamma=None,\n",
      "              gpu_id=None, grow_policy=None, importance_type=None,\n",
      "              interaction_constraints=None, learning_rate=0.025, max_bin=None,\n",
      "              max_cat_to_onehot=None, max_delta_step=None, max_depth=8,\n",
      "              max_leaves=None, min_child_weight=None, missing=nan,\n",
      "              monotone_constraints=None, n_estimators=400, n_jobs=None,\n",
      "              num_parallel_tree=None, objective='multi:softmax', predictor=None,\n",
      "              random_state=None, reg_alpha=None, ...), mean_mfcc__kw_args={'sr': 16000, 'n_mfcc': 20, 'n_fft': 512, 'hop_length': 128, 'fmin': 0.0, 'fmax': 4000.0}; total time=  58.1s\n",
      "[CV] END estimator=XGBClassifier(base_score=None, booster=None, callbacks=None,\n",
      "              colsample_bylevel=None, colsample_bynode=None,\n",
      "              colsample_bytree=None, early_stopping_rounds=None,\n",
      "              enable_categorical=False, eval_metric=None, gamma=None,\n",
      "              gpu_id=None, grow_policy=None, importance_type=None,\n",
      "              interaction_constraints=None, learning_rate=0.025, max_bin=None,\n",
      "              max_cat_to_onehot=None, max_delta_step=None, max_depth=8,\n",
      "              max_leaves=None, min_child_weight=None, missing=nan,\n",
      "              monotone_constraints=None, n_estimators=400, n_jobs=None,\n",
      "              num_parallel_tree=None, objective='multi:softmax', predictor=None,\n",
      "              random_state=None, reg_alpha=None, ...), mean_mfcc__kw_args={'sr': 16000, 'n_mfcc': 20, 'n_fft': 512, 'hop_length': 128, 'fmin': 0.0, 'fmax': 4000.0}; total time=  56.6s\n",
      "[CV] END estimator=XGBClassifier(base_score=None, booster=None, callbacks=None,\n",
      "              colsample_bylevel=None, colsample_bynode=None,\n",
      "              colsample_bytree=None, early_stopping_rounds=None,\n",
      "              enable_categorical=False, eval_metric=None, gamma=None,\n",
      "              gpu_id=None, grow_policy=None, importance_type=None,\n",
      "              interaction_constraints=None, learning_rate=0.025, max_bin=None,\n",
      "              max_cat_to_onehot=None, max_delta_step=None, max_depth=8,\n",
      "              max_leaves=None, min_child_weight=None, missing=nan,\n",
      "              monotone_constraints=None, n_estimators=400, n_jobs=None,\n",
      "              num_parallel_tree=None, objective='multi:softmax', predictor=None,\n",
      "              random_state=None, reg_alpha=None, ...), mean_mfcc__kw_args={'sr': 16000, 'n_mfcc': 20, 'n_fft': 512, 'hop_length': 128, 'fmin': 0.0, 'fmax': 5000.0}; total time=  57.7s\n",
      "[CV] END estimator=XGBClassifier(base_score=None, booster=None, callbacks=None,\n",
      "              colsample_bylevel=None, colsample_bynode=None,\n",
      "              colsample_bytree=None, early_stopping_rounds=None,\n",
      "              enable_categorical=False, eval_metric=None, gamma=None,\n",
      "              gpu_id=None, grow_policy=None, importance_type=None,\n",
      "              interaction_constraints=None, learning_rate=0.025, max_bin=None,\n",
      "              max_cat_to_onehot=None, max_delta_step=None, max_depth=8,\n",
      "              max_leaves=None, min_child_weight=None, missing=nan,\n",
      "              monotone_constraints=None, n_estimators=400, n_jobs=None,\n",
      "              num_parallel_tree=None, objective='multi:softmax', predictor=None,\n",
      "              random_state=None, reg_alpha=None, ...), mean_mfcc__kw_args={'sr': 16000, 'n_mfcc': 20, 'n_fft': 512, 'hop_length': 128, 'fmin': 0.0, 'fmax': 5000.0}; total time=  58.3s\n",
      "[CV] END estimator=XGBClassifier(base_score=None, booster=None, callbacks=None,\n",
      "              colsample_bylevel=None, colsample_bynode=None,\n",
      "              colsample_bytree=None, early_stopping_rounds=None,\n",
      "              enable_categorical=False, eval_metric=None, gamma=None,\n",
      "              gpu_id=None, grow_policy=None, importance_type=None,\n",
      "              interaction_constraints=None, learning_rate=0.025, max_bin=None,\n",
      "              max_cat_to_onehot=None, max_delta_step=None, max_depth=8,\n",
      "              max_leaves=None, min_child_weight=None, missing=nan,\n",
      "              monotone_constraints=None, n_estimators=400, n_jobs=None,\n",
      "              num_parallel_tree=None, objective='multi:softmax', predictor=None,\n",
      "              random_state=None, reg_alpha=None, ...), mean_mfcc__kw_args={'sr': 16000, 'n_mfcc': 20, 'n_fft': 512, 'hop_length': 128, 'fmin': 300.0, 'fmax': None}; total time=  57.8s\n"
     ]
    },
    {
     "name": "stdout",
     "output_type": "stream",
     "text": [
      "[CV] END estimator=XGBClassifier(base_score=None, booster=None, callbacks=None,\n",
      "              colsample_bylevel=None, colsample_bynode=None,\n",
      "              colsample_bytree=None, early_stopping_rounds=None,\n",
      "              enable_categorical=False, eval_metric=None, gamma=None,\n",
      "              gpu_id=None, grow_policy=None, importance_type=None,\n",
      "              interaction_constraints=None, learning_rate=0.025, max_bin=None,\n",
      "              max_cat_to_onehot=None, max_delta_step=None, max_depth=8,\n",
      "              max_leaves=None, min_child_weight=None, missing=nan,\n",
      "              monotone_constraints=None, n_estimators=400, n_jobs=None,\n",
      "              num_parallel_tree=None, objective='multi:softmax', predictor=None,\n",
      "              random_state=None, reg_alpha=None, ...), mean_mfcc__kw_args={'sr': 16000, 'n_mfcc': 20, 'n_fft': 512, 'hop_length': 128, 'fmin': 300.0, 'fmax': None}; total time=  59.1s\n",
      "[CV] END estimator=XGBClassifier(base_score=None, booster=None, callbacks=None,\n",
      "              colsample_bylevel=None, colsample_bynode=None,\n",
      "              colsample_bytree=None, early_stopping_rounds=None,\n",
      "              enable_categorical=False, eval_metric=None, gamma=None,\n",
      "              gpu_id=None, grow_policy=None, importance_type=None,\n",
      "              interaction_constraints=None, learning_rate=0.025, max_bin=None,\n",
      "              max_cat_to_onehot=None, max_delta_step=None, max_depth=8,\n",
      "              max_leaves=None, min_child_weight=None, missing=nan,\n",
      "              monotone_constraints=None, n_estimators=400, n_jobs=None,\n",
      "              num_parallel_tree=None, objective='multi:softmax', predictor=None,\n",
      "              random_state=None, reg_alpha=None, ...), mean_mfcc__kw_args={'sr': 16000, 'n_mfcc': 20, 'n_fft': 512, 'hop_length': 128, 'fmin': 300.0, 'fmax': 3000.0}; total time=  59.6s\n",
      "[CV] END estimator=XGBClassifier(base_score=None, booster=None, callbacks=None,\n",
      "              colsample_bylevel=None, colsample_bynode=None,\n",
      "              colsample_bytree=None, early_stopping_rounds=None,\n",
      "              enable_categorical=False, eval_metric=None, gamma=None,\n",
      "              gpu_id=None, grow_policy=None, importance_type=None,\n",
      "              interaction_constraints=None, learning_rate=0.025, max_bin=None,\n",
      "              max_cat_to_onehot=None, max_delta_step=None, max_depth=8,\n",
      "              max_leaves=None, min_child_weight=None, missing=nan,\n",
      "              monotone_constraints=None, n_estimators=400, n_jobs=None,\n",
      "              num_parallel_tree=None, objective='multi:softmax', predictor=None,\n",
      "              random_state=None, reg_alpha=None, ...), mean_mfcc__kw_args={'sr': 16000, 'n_mfcc': 20, 'n_fft': 512, 'hop_length': 128, 'fmin': 300.0, 'fmax': 3000.0}; total time=  56.7s\n",
      "[CV] END estimator=XGBClassifier(base_score=None, booster=None, callbacks=None,\n",
      "              colsample_bylevel=None, colsample_bynode=None,\n",
      "              colsample_bytree=None, early_stopping_rounds=None,\n",
      "              enable_categorical=False, eval_metric=None, gamma=None,\n",
      "              gpu_id=None, grow_policy=None, importance_type=None,\n",
      "              interaction_constraints=None, learning_rate=0.025, max_bin=None,\n",
      "              max_cat_to_onehot=None, max_delta_step=None, max_depth=8,\n",
      "              max_leaves=None, min_child_weight=None, missing=nan,\n",
      "              monotone_constraints=None, n_estimators=400, n_jobs=None,\n",
      "              num_parallel_tree=None, objective='multi:softmax', predictor=None,\n",
      "              random_state=None, reg_alpha=None, ...), mean_mfcc__kw_args={'sr': 16000, 'n_mfcc': 20, 'n_fft': 512, 'hop_length': 128, 'fmin': 300.0, 'fmax': 4000.0}; total time=  57.2s\n",
      "[CV] END estimator=XGBClassifier(base_score=None, booster=None, callbacks=None,\n",
      "              colsample_bylevel=None, colsample_bynode=None,\n",
      "              colsample_bytree=None, early_stopping_rounds=None,\n",
      "              enable_categorical=False, eval_metric=None, gamma=None,\n",
      "              gpu_id=None, grow_policy=None, importance_type=None,\n",
      "              interaction_constraints=None, learning_rate=0.025, max_bin=None,\n",
      "              max_cat_to_onehot=None, max_delta_step=None, max_depth=8,\n",
      "              max_leaves=None, min_child_weight=None, missing=nan,\n",
      "              monotone_constraints=None, n_estimators=400, n_jobs=None,\n",
      "              num_parallel_tree=None, objective='multi:softmax', predictor=None,\n",
      "              random_state=None, reg_alpha=None, ...), mean_mfcc__kw_args={'sr': 16000, 'n_mfcc': 20, 'n_fft': 512, 'hop_length': 128, 'fmin': 300.0, 'fmax': 4000.0}; total time=  55.1s\n",
      "[CV] END estimator=XGBClassifier(base_score=None, booster=None, callbacks=None,\n",
      "              colsample_bylevel=None, colsample_bynode=None,\n",
      "              colsample_bytree=None, early_stopping_rounds=None,\n",
      "              enable_categorical=False, eval_metric=None, gamma=None,\n",
      "              gpu_id=None, grow_policy=None, importance_type=None,\n",
      "              interaction_constraints=None, learning_rate=0.025, max_bin=None,\n",
      "              max_cat_to_onehot=None, max_delta_step=None, max_depth=8,\n",
      "              max_leaves=None, min_child_weight=None, missing=nan,\n",
      "              monotone_constraints=None, n_estimators=400, n_jobs=None,\n",
      "              num_parallel_tree=None, objective='multi:softmax', predictor=None,\n",
      "              random_state=None, reg_alpha=None, ...), mean_mfcc__kw_args={'sr': 16000, 'n_mfcc': 20, 'n_fft': 512, 'hop_length': 128, 'fmin': 300.0, 'fmax': 5000.0}; total time=  56.1s\n",
      "[CV] END estimator=XGBClassifier(base_score=None, booster=None, callbacks=None,\n",
      "              colsample_bylevel=None, colsample_bynode=None,\n",
      "              colsample_bytree=None, early_stopping_rounds=None,\n",
      "              enable_categorical=False, eval_metric=None, gamma=None,\n",
      "              gpu_id=None, grow_policy=None, importance_type=None,\n",
      "              interaction_constraints=None, learning_rate=0.025, max_bin=None,\n",
      "              max_cat_to_onehot=None, max_delta_step=None, max_depth=8,\n",
      "              max_leaves=None, min_child_weight=None, missing=nan,\n",
      "              monotone_constraints=None, n_estimators=400, n_jobs=None,\n",
      "              num_parallel_tree=None, objective='multi:softmax', predictor=None,\n",
      "              random_state=None, reg_alpha=None, ...), mean_mfcc__kw_args={'sr': 16000, 'n_mfcc': 20, 'n_fft': 512, 'hop_length': 128, 'fmin': 300.0, 'fmax': 5000.0}; total time=  57.2s\n",
      "[CV] END estimator=XGBClassifier(base_score=None, booster=None, callbacks=None,\n",
      "              colsample_bylevel=None, colsample_bynode=None,\n",
      "              colsample_bytree=None, early_stopping_rounds=None,\n",
      "              enable_categorical=False, eval_metric=None, gamma=None,\n",
      "              gpu_id=None, grow_policy=None, importance_type=None,\n",
      "              interaction_constraints=None, learning_rate=0.025, max_bin=None,\n",
      "              max_cat_to_onehot=None, max_delta_step=None, max_depth=8,\n",
      "              max_leaves=None, min_child_weight=None, missing=nan,\n",
      "              monotone_constraints=None, n_estimators=400, n_jobs=None,\n",
      "              num_parallel_tree=None, objective='multi:softmax', predictor=None,\n",
      "              random_state=None, reg_alpha=None, ...), mean_mfcc__kw_args={'sr': 16000, 'n_mfcc': 20, 'n_fft': 512, 'hop_length': 128, 'fmin': 500.0, 'fmax': None}; total time=  57.9s\n",
      "[CV] END estimator=XGBClassifier(base_score=None, booster=None, callbacks=None,\n",
      "              colsample_bylevel=None, colsample_bynode=None,\n",
      "              colsample_bytree=None, early_stopping_rounds=None,\n",
      "              enable_categorical=False, eval_metric=None, gamma=None,\n",
      "              gpu_id=None, grow_policy=None, importance_type=None,\n",
      "              interaction_constraints=None, learning_rate=0.025, max_bin=None,\n",
      "              max_cat_to_onehot=None, max_delta_step=None, max_depth=8,\n",
      "              max_leaves=None, min_child_weight=None, missing=nan,\n",
      "              monotone_constraints=None, n_estimators=400, n_jobs=None,\n",
      "              num_parallel_tree=None, objective='multi:softmax', predictor=None,\n",
      "              random_state=None, reg_alpha=None, ...), mean_mfcc__kw_args={'sr': 16000, 'n_mfcc': 20, 'n_fft': 512, 'hop_length': 128, 'fmin': 500.0, 'fmax': None}; total time=  56.6s\n",
      "[CV] END estimator=XGBClassifier(base_score=None, booster=None, callbacks=None,\n",
      "              colsample_bylevel=None, colsample_bynode=None,\n",
      "              colsample_bytree=None, early_stopping_rounds=None,\n",
      "              enable_categorical=False, eval_metric=None, gamma=None,\n",
      "              gpu_id=None, grow_policy=None, importance_type=None,\n",
      "              interaction_constraints=None, learning_rate=0.025, max_bin=None,\n",
      "              max_cat_to_onehot=None, max_delta_step=None, max_depth=8,\n",
      "              max_leaves=None, min_child_weight=None, missing=nan,\n",
      "              monotone_constraints=None, n_estimators=400, n_jobs=None,\n",
      "              num_parallel_tree=None, objective='multi:softmax', predictor=None,\n",
      "              random_state=None, reg_alpha=None, ...), mean_mfcc__kw_args={'sr': 16000, 'n_mfcc': 20, 'n_fft': 512, 'hop_length': 128, 'fmin': 500.0, 'fmax': 3000.0}; total time=  57.8s\n"
     ]
    },
    {
     "name": "stdout",
     "output_type": "stream",
     "text": [
      "[CV] END estimator=XGBClassifier(base_score=None, booster=None, callbacks=None,\n",
      "              colsample_bylevel=None, colsample_bynode=None,\n",
      "              colsample_bytree=None, early_stopping_rounds=None,\n",
      "              enable_categorical=False, eval_metric=None, gamma=None,\n",
      "              gpu_id=None, grow_policy=None, importance_type=None,\n",
      "              interaction_constraints=None, learning_rate=0.025, max_bin=None,\n",
      "              max_cat_to_onehot=None, max_delta_step=None, max_depth=8,\n",
      "              max_leaves=None, min_child_weight=None, missing=nan,\n",
      "              monotone_constraints=None, n_estimators=400, n_jobs=None,\n",
      "              num_parallel_tree=None, objective='multi:softmax', predictor=None,\n",
      "              random_state=None, reg_alpha=None, ...), mean_mfcc__kw_args={'sr': 16000, 'n_mfcc': 20, 'n_fft': 512, 'hop_length': 128, 'fmin': 500.0, 'fmax': 3000.0}; total time=  56.2s\n",
      "[CV] END estimator=XGBClassifier(base_score=None, booster=None, callbacks=None,\n",
      "              colsample_bylevel=None, colsample_bynode=None,\n",
      "              colsample_bytree=None, early_stopping_rounds=None,\n",
      "              enable_categorical=False, eval_metric=None, gamma=None,\n",
      "              gpu_id=None, grow_policy=None, importance_type=None,\n",
      "              interaction_constraints=None, learning_rate=0.025, max_bin=None,\n",
      "              max_cat_to_onehot=None, max_delta_step=None, max_depth=8,\n",
      "              max_leaves=None, min_child_weight=None, missing=nan,\n",
      "              monotone_constraints=None, n_estimators=400, n_jobs=None,\n",
      "              num_parallel_tree=None, objective='multi:softmax', predictor=None,\n",
      "              random_state=None, reg_alpha=None, ...), mean_mfcc__kw_args={'sr': 16000, 'n_mfcc': 20, 'n_fft': 512, 'hop_length': 128, 'fmin': 500.0, 'fmax': 4000.0}; total time=  56.0s\n",
      "[CV] END estimator=XGBClassifier(base_score=None, booster=None, callbacks=None,\n",
      "              colsample_bylevel=None, colsample_bynode=None,\n",
      "              colsample_bytree=None, early_stopping_rounds=None,\n",
      "              enable_categorical=False, eval_metric=None, gamma=None,\n",
      "              gpu_id=None, grow_policy=None, importance_type=None,\n",
      "              interaction_constraints=None, learning_rate=0.025, max_bin=None,\n",
      "              max_cat_to_onehot=None, max_delta_step=None, max_depth=8,\n",
      "              max_leaves=None, min_child_weight=None, missing=nan,\n",
      "              monotone_constraints=None, n_estimators=400, n_jobs=None,\n",
      "              num_parallel_tree=None, objective='multi:softmax', predictor=None,\n",
      "              random_state=None, reg_alpha=None, ...), mean_mfcc__kw_args={'sr': 16000, 'n_mfcc': 20, 'n_fft': 512, 'hop_length': 128, 'fmin': 500.0, 'fmax': 4000.0}; total time=  54.9s\n",
      "[CV] END estimator=XGBClassifier(base_score=None, booster=None, callbacks=None,\n",
      "              colsample_bylevel=None, colsample_bynode=None,\n",
      "              colsample_bytree=None, early_stopping_rounds=None,\n",
      "              enable_categorical=False, eval_metric=None, gamma=None,\n",
      "              gpu_id=None, grow_policy=None, importance_type=None,\n",
      "              interaction_constraints=None, learning_rate=0.025, max_bin=None,\n",
      "              max_cat_to_onehot=None, max_delta_step=None, max_depth=8,\n",
      "              max_leaves=None, min_child_weight=None, missing=nan,\n",
      "              monotone_constraints=None, n_estimators=400, n_jobs=None,\n",
      "              num_parallel_tree=None, objective='multi:softmax', predictor=None,\n",
      "              random_state=None, reg_alpha=None, ...), mean_mfcc__kw_args={'sr': 16000, 'n_mfcc': 20, 'n_fft': 512, 'hop_length': 128, 'fmin': 500.0, 'fmax': 5000.0}; total time=  56.1s\n",
      "[CV] END estimator=XGBClassifier(base_score=None, booster=None, callbacks=None,\n",
      "              colsample_bylevel=None, colsample_bynode=None,\n",
      "              colsample_bytree=None, early_stopping_rounds=None,\n",
      "              enable_categorical=False, eval_metric=None, gamma=None,\n",
      "              gpu_id=None, grow_policy=None, importance_type=None,\n",
      "              interaction_constraints=None, learning_rate=0.025, max_bin=None,\n",
      "              max_cat_to_onehot=None, max_delta_step=None, max_depth=8,\n",
      "              max_leaves=None, min_child_weight=None, missing=nan,\n",
      "              monotone_constraints=None, n_estimators=400, n_jobs=None,\n",
      "              num_parallel_tree=None, objective='multi:softmax', predictor=None,\n",
      "              random_state=None, reg_alpha=None, ...), mean_mfcc__kw_args={'sr': 16000, 'n_mfcc': 20, 'n_fft': 512, 'hop_length': 128, 'fmin': 500.0, 'fmax': 5000.0}; total time=  54.2s\n",
      "[CV] END estimator=XGBClassifier(base_score=None, booster=None, callbacks=None,\n",
      "              colsample_bylevel=None, colsample_bynode=None,\n",
      "              colsample_bytree=None, early_stopping_rounds=None,\n",
      "              enable_categorical=False, eval_metric=None, gamma=None,\n",
      "              gpu_id=None, grow_policy=None, importance_type=None,\n",
      "              interaction_constraints=None, learning_rate=0.025, max_bin=None,\n",
      "              max_cat_to_onehot=None, max_delta_step=None, max_depth=8,\n",
      "              max_leaves=None, min_child_weight=None, missing=nan,\n",
      "              monotone_constraints=None, n_estimators=400, n_jobs=None,\n",
      "              num_parallel_tree=None, objective='multi:softmax', predictor=None,\n",
      "              random_state=None, reg_alpha=None, ...), mean_mfcc__kw_args={'sr': 16000, 'n_mfcc': 20, 'n_fft': 768, 'hop_length': 128, 'fmin': 0.0, 'fmax': None}; total time= 1.1min\n",
      "[CV] END estimator=XGBClassifier(base_score=None, booster=None, callbacks=None,\n",
      "              colsample_bylevel=None, colsample_bynode=None,\n",
      "              colsample_bytree=None, early_stopping_rounds=None,\n",
      "              enable_categorical=False, eval_metric=None, gamma=None,\n",
      "              gpu_id=None, grow_policy=None, importance_type=None,\n",
      "              interaction_constraints=None, learning_rate=0.025, max_bin=None,\n",
      "              max_cat_to_onehot=None, max_delta_step=None, max_depth=8,\n",
      "              max_leaves=None, min_child_weight=None, missing=nan,\n",
      "              monotone_constraints=None, n_estimators=400, n_jobs=None,\n",
      "              num_parallel_tree=None, objective='multi:softmax', predictor=None,\n",
      "              random_state=None, reg_alpha=None, ...), mean_mfcc__kw_args={'sr': 16000, 'n_mfcc': 20, 'n_fft': 768, 'hop_length': 128, 'fmin': 0.0, 'fmax': None}; total time= 1.1min\n",
      "[CV] END estimator=XGBClassifier(base_score=None, booster=None, callbacks=None,\n",
      "              colsample_bylevel=None, colsample_bynode=None,\n",
      "              colsample_bytree=None, early_stopping_rounds=None,\n",
      "              enable_categorical=False, eval_metric=None, gamma=None,\n",
      "              gpu_id=None, grow_policy=None, importance_type=None,\n",
      "              interaction_constraints=None, learning_rate=0.025, max_bin=None,\n",
      "              max_cat_to_onehot=None, max_delta_step=None, max_depth=8,\n",
      "              max_leaves=None, min_child_weight=None, missing=nan,\n",
      "              monotone_constraints=None, n_estimators=400, n_jobs=None,\n",
      "              num_parallel_tree=None, objective='multi:softmax', predictor=None,\n",
      "              random_state=None, reg_alpha=None, ...), mean_mfcc__kw_args={'sr': 16000, 'n_mfcc': 20, 'n_fft': 768, 'hop_length': 128, 'fmin': 0.0, 'fmax': 3000.0}; total time= 1.1min\n",
      "[CV] END estimator=XGBClassifier(base_score=None, booster=None, callbacks=None,\n",
      "              colsample_bylevel=None, colsample_bynode=None,\n",
      "              colsample_bytree=None, early_stopping_rounds=None,\n",
      "              enable_categorical=False, eval_metric=None, gamma=None,\n",
      "              gpu_id=None, grow_policy=None, importance_type=None,\n",
      "              interaction_constraints=None, learning_rate=0.025, max_bin=None,\n",
      "              max_cat_to_onehot=None, max_delta_step=None, max_depth=8,\n",
      "              max_leaves=None, min_child_weight=None, missing=nan,\n",
      "              monotone_constraints=None, n_estimators=400, n_jobs=None,\n",
      "              num_parallel_tree=None, objective='multi:softmax', predictor=None,\n",
      "              random_state=None, reg_alpha=None, ...), mean_mfcc__kw_args={'sr': 16000, 'n_mfcc': 20, 'n_fft': 768, 'hop_length': 128, 'fmin': 0.0, 'fmax': 3000.0}; total time= 1.1min\n",
      "[CV] END estimator=XGBClassifier(base_score=None, booster=None, callbacks=None,\n",
      "              colsample_bylevel=None, colsample_bynode=None,\n",
      "              colsample_bytree=None, early_stopping_rounds=None,\n",
      "              enable_categorical=False, eval_metric=None, gamma=None,\n",
      "              gpu_id=None, grow_policy=None, importance_type=None,\n",
      "              interaction_constraints=None, learning_rate=0.025, max_bin=None,\n",
      "              max_cat_to_onehot=None, max_delta_step=None, max_depth=8,\n",
      "              max_leaves=None, min_child_weight=None, missing=nan,\n",
      "              monotone_constraints=None, n_estimators=400, n_jobs=None,\n",
      "              num_parallel_tree=None, objective='multi:softmax', predictor=None,\n",
      "              random_state=None, reg_alpha=None, ...), mean_mfcc__kw_args={'sr': 16000, 'n_mfcc': 20, 'n_fft': 768, 'hop_length': 128, 'fmin': 0.0, 'fmax': 4000.0}; total time= 1.1min\n"
     ]
    },
    {
     "name": "stdout",
     "output_type": "stream",
     "text": [
      "[CV] END estimator=XGBClassifier(base_score=None, booster=None, callbacks=None,\n",
      "              colsample_bylevel=None, colsample_bynode=None,\n",
      "              colsample_bytree=None, early_stopping_rounds=None,\n",
      "              enable_categorical=False, eval_metric=None, gamma=None,\n",
      "              gpu_id=None, grow_policy=None, importance_type=None,\n",
      "              interaction_constraints=None, learning_rate=0.025, max_bin=None,\n",
      "              max_cat_to_onehot=None, max_delta_step=None, max_depth=8,\n",
      "              max_leaves=None, min_child_weight=None, missing=nan,\n",
      "              monotone_constraints=None, n_estimators=400, n_jobs=None,\n",
      "              num_parallel_tree=None, objective='multi:softmax', predictor=None,\n",
      "              random_state=None, reg_alpha=None, ...), mean_mfcc__kw_args={'sr': 16000, 'n_mfcc': 20, 'n_fft': 768, 'hop_length': 128, 'fmin': 0.0, 'fmax': 4000.0}; total time= 1.1min\n",
      "[CV] END estimator=XGBClassifier(base_score=None, booster=None, callbacks=None,\n",
      "              colsample_bylevel=None, colsample_bynode=None,\n",
      "              colsample_bytree=None, early_stopping_rounds=None,\n",
      "              enable_categorical=False, eval_metric=None, gamma=None,\n",
      "              gpu_id=None, grow_policy=None, importance_type=None,\n",
      "              interaction_constraints=None, learning_rate=0.025, max_bin=None,\n",
      "              max_cat_to_onehot=None, max_delta_step=None, max_depth=8,\n",
      "              max_leaves=None, min_child_weight=None, missing=nan,\n",
      "              monotone_constraints=None, n_estimators=400, n_jobs=None,\n",
      "              num_parallel_tree=None, objective='multi:softmax', predictor=None,\n",
      "              random_state=None, reg_alpha=None, ...), mean_mfcc__kw_args={'sr': 16000, 'n_mfcc': 20, 'n_fft': 768, 'hop_length': 128, 'fmin': 0.0, 'fmax': 5000.0}; total time= 1.1min\n",
      "[CV] END estimator=XGBClassifier(base_score=None, booster=None, callbacks=None,\n",
      "              colsample_bylevel=None, colsample_bynode=None,\n",
      "              colsample_bytree=None, early_stopping_rounds=None,\n",
      "              enable_categorical=False, eval_metric=None, gamma=None,\n",
      "              gpu_id=None, grow_policy=None, importance_type=None,\n",
      "              interaction_constraints=None, learning_rate=0.025, max_bin=None,\n",
      "              max_cat_to_onehot=None, max_delta_step=None, max_depth=8,\n",
      "              max_leaves=None, min_child_weight=None, missing=nan,\n",
      "              monotone_constraints=None, n_estimators=400, n_jobs=None,\n",
      "              num_parallel_tree=None, objective='multi:softmax', predictor=None,\n",
      "              random_state=None, reg_alpha=None, ...), mean_mfcc__kw_args={'sr': 16000, 'n_mfcc': 20, 'n_fft': 768, 'hop_length': 128, 'fmin': 0.0, 'fmax': 5000.0}; total time= 1.1min\n",
      "[CV] END estimator=XGBClassifier(base_score=None, booster=None, callbacks=None,\n",
      "              colsample_bylevel=None, colsample_bynode=None,\n",
      "              colsample_bytree=None, early_stopping_rounds=None,\n",
      "              enable_categorical=False, eval_metric=None, gamma=None,\n",
      "              gpu_id=None, grow_policy=None, importance_type=None,\n",
      "              interaction_constraints=None, learning_rate=0.025, max_bin=None,\n",
      "              max_cat_to_onehot=None, max_delta_step=None, max_depth=8,\n",
      "              max_leaves=None, min_child_weight=None, missing=nan,\n",
      "              monotone_constraints=None, n_estimators=400, n_jobs=None,\n",
      "              num_parallel_tree=None, objective='multi:softmax', predictor=None,\n",
      "              random_state=None, reg_alpha=None, ...), mean_mfcc__kw_args={'sr': 16000, 'n_mfcc': 20, 'n_fft': 768, 'hop_length': 128, 'fmin': 300.0, 'fmax': None}; total time= 1.1min\n",
      "[CV] END estimator=XGBClassifier(base_score=None, booster=None, callbacks=None,\n",
      "              colsample_bylevel=None, colsample_bynode=None,\n",
      "              colsample_bytree=None, early_stopping_rounds=None,\n",
      "              enable_categorical=False, eval_metric=None, gamma=None,\n",
      "              gpu_id=None, grow_policy=None, importance_type=None,\n",
      "              interaction_constraints=None, learning_rate=0.025, max_bin=None,\n",
      "              max_cat_to_onehot=None, max_delta_step=None, max_depth=8,\n",
      "              max_leaves=None, min_child_weight=None, missing=nan,\n",
      "              monotone_constraints=None, n_estimators=400, n_jobs=None,\n",
      "              num_parallel_tree=None, objective='multi:softmax', predictor=None,\n",
      "              random_state=None, reg_alpha=None, ...), mean_mfcc__kw_args={'sr': 16000, 'n_mfcc': 20, 'n_fft': 768, 'hop_length': 128, 'fmin': 300.0, 'fmax': None}; total time= 1.1min\n",
      "[CV] END estimator=XGBClassifier(base_score=None, booster=None, callbacks=None,\n",
      "              colsample_bylevel=None, colsample_bynode=None,\n",
      "              colsample_bytree=None, early_stopping_rounds=None,\n",
      "              enable_categorical=False, eval_metric=None, gamma=None,\n",
      "              gpu_id=None, grow_policy=None, importance_type=None,\n",
      "              interaction_constraints=None, learning_rate=0.025, max_bin=None,\n",
      "              max_cat_to_onehot=None, max_delta_step=None, max_depth=8,\n",
      "              max_leaves=None, min_child_weight=None, missing=nan,\n",
      "              monotone_constraints=None, n_estimators=400, n_jobs=None,\n",
      "              num_parallel_tree=None, objective='multi:softmax', predictor=None,\n",
      "              random_state=None, reg_alpha=None, ...), mean_mfcc__kw_args={'sr': 16000, 'n_mfcc': 20, 'n_fft': 768, 'hop_length': 128, 'fmin': 300.0, 'fmax': 3000.0}; total time= 1.1min\n",
      "[CV] END estimator=XGBClassifier(base_score=None, booster=None, callbacks=None,\n",
      "              colsample_bylevel=None, colsample_bynode=None,\n",
      "              colsample_bytree=None, early_stopping_rounds=None,\n",
      "              enable_categorical=False, eval_metric=None, gamma=None,\n",
      "              gpu_id=None, grow_policy=None, importance_type=None,\n",
      "              interaction_constraints=None, learning_rate=0.025, max_bin=None,\n",
      "              max_cat_to_onehot=None, max_delta_step=None, max_depth=8,\n",
      "              max_leaves=None, min_child_weight=None, missing=nan,\n",
      "              monotone_constraints=None, n_estimators=400, n_jobs=None,\n",
      "              num_parallel_tree=None, objective='multi:softmax', predictor=None,\n",
      "              random_state=None, reg_alpha=None, ...), mean_mfcc__kw_args={'sr': 16000, 'n_mfcc': 20, 'n_fft': 768, 'hop_length': 128, 'fmin': 300.0, 'fmax': 3000.0}; total time= 1.1min\n",
      "[CV] END estimator=XGBClassifier(base_score=None, booster=None, callbacks=None,\n",
      "              colsample_bylevel=None, colsample_bynode=None,\n",
      "              colsample_bytree=None, early_stopping_rounds=None,\n",
      "              enable_categorical=False, eval_metric=None, gamma=None,\n",
      "              gpu_id=None, grow_policy=None, importance_type=None,\n",
      "              interaction_constraints=None, learning_rate=0.025, max_bin=None,\n",
      "              max_cat_to_onehot=None, max_delta_step=None, max_depth=8,\n",
      "              max_leaves=None, min_child_weight=None, missing=nan,\n",
      "              monotone_constraints=None, n_estimators=400, n_jobs=None,\n",
      "              num_parallel_tree=None, objective='multi:softmax', predictor=None,\n",
      "              random_state=None, reg_alpha=None, ...), mean_mfcc__kw_args={'sr': 16000, 'n_mfcc': 20, 'n_fft': 768, 'hop_length': 128, 'fmin': 300.0, 'fmax': 4000.0}; total time= 1.1min\n",
      "[CV] END estimator=XGBClassifier(base_score=None, booster=None, callbacks=None,\n",
      "              colsample_bylevel=None, colsample_bynode=None,\n",
      "              colsample_bytree=None, early_stopping_rounds=None,\n",
      "              enable_categorical=False, eval_metric=None, gamma=None,\n",
      "              gpu_id=None, grow_policy=None, importance_type=None,\n",
      "              interaction_constraints=None, learning_rate=0.025, max_bin=None,\n",
      "              max_cat_to_onehot=None, max_delta_step=None, max_depth=8,\n",
      "              max_leaves=None, min_child_weight=None, missing=nan,\n",
      "              monotone_constraints=None, n_estimators=400, n_jobs=None,\n",
      "              num_parallel_tree=None, objective='multi:softmax', predictor=None,\n",
      "              random_state=None, reg_alpha=None, ...), mean_mfcc__kw_args={'sr': 16000, 'n_mfcc': 20, 'n_fft': 768, 'hop_length': 128, 'fmin': 300.0, 'fmax': 4000.0}; total time= 1.1min\n",
      "[CV] END estimator=XGBClassifier(base_score=None, booster=None, callbacks=None,\n",
      "              colsample_bylevel=None, colsample_bynode=None,\n",
      "              colsample_bytree=None, early_stopping_rounds=None,\n",
      "              enable_categorical=False, eval_metric=None, gamma=None,\n",
      "              gpu_id=None, grow_policy=None, importance_type=None,\n",
      "              interaction_constraints=None, learning_rate=0.025, max_bin=None,\n",
      "              max_cat_to_onehot=None, max_delta_step=None, max_depth=8,\n",
      "              max_leaves=None, min_child_weight=None, missing=nan,\n",
      "              monotone_constraints=None, n_estimators=400, n_jobs=None,\n",
      "              num_parallel_tree=None, objective='multi:softmax', predictor=None,\n",
      "              random_state=None, reg_alpha=None, ...), mean_mfcc__kw_args={'sr': 16000, 'n_mfcc': 20, 'n_fft': 768, 'hop_length': 128, 'fmin': 300.0, 'fmax': 5000.0}; total time= 1.1min\n"
     ]
    },
    {
     "name": "stdout",
     "output_type": "stream",
     "text": [
      "[CV] END estimator=XGBClassifier(base_score=None, booster=None, callbacks=None,\n",
      "              colsample_bylevel=None, colsample_bynode=None,\n",
      "              colsample_bytree=None, early_stopping_rounds=None,\n",
      "              enable_categorical=False, eval_metric=None, gamma=None,\n",
      "              gpu_id=None, grow_policy=None, importance_type=None,\n",
      "              interaction_constraints=None, learning_rate=0.025, max_bin=None,\n",
      "              max_cat_to_onehot=None, max_delta_step=None, max_depth=8,\n",
      "              max_leaves=None, min_child_weight=None, missing=nan,\n",
      "              monotone_constraints=None, n_estimators=400, n_jobs=None,\n",
      "              num_parallel_tree=None, objective='multi:softmax', predictor=None,\n",
      "              random_state=None, reg_alpha=None, ...), mean_mfcc__kw_args={'sr': 16000, 'n_mfcc': 20, 'n_fft': 768, 'hop_length': 128, 'fmin': 300.0, 'fmax': 5000.0}; total time= 1.1min\n",
      "[CV] END estimator=XGBClassifier(base_score=None, booster=None, callbacks=None,\n",
      "              colsample_bylevel=None, colsample_bynode=None,\n",
      "              colsample_bytree=None, early_stopping_rounds=None,\n",
      "              enable_categorical=False, eval_metric=None, gamma=None,\n",
      "              gpu_id=None, grow_policy=None, importance_type=None,\n",
      "              interaction_constraints=None, learning_rate=0.025, max_bin=None,\n",
      "              max_cat_to_onehot=None, max_delta_step=None, max_depth=8,\n",
      "              max_leaves=None, min_child_weight=None, missing=nan,\n",
      "              monotone_constraints=None, n_estimators=400, n_jobs=None,\n",
      "              num_parallel_tree=None, objective='multi:softmax', predictor=None,\n",
      "              random_state=None, reg_alpha=None, ...), mean_mfcc__kw_args={'sr': 16000, 'n_mfcc': 20, 'n_fft': 768, 'hop_length': 128, 'fmin': 500.0, 'fmax': None}; total time= 1.1min\n",
      "[CV] END estimator=XGBClassifier(base_score=None, booster=None, callbacks=None,\n",
      "              colsample_bylevel=None, colsample_bynode=None,\n",
      "              colsample_bytree=None, early_stopping_rounds=None,\n",
      "              enable_categorical=False, eval_metric=None, gamma=None,\n",
      "              gpu_id=None, grow_policy=None, importance_type=None,\n",
      "              interaction_constraints=None, learning_rate=0.025, max_bin=None,\n",
      "              max_cat_to_onehot=None, max_delta_step=None, max_depth=8,\n",
      "              max_leaves=None, min_child_weight=None, missing=nan,\n",
      "              monotone_constraints=None, n_estimators=400, n_jobs=None,\n",
      "              num_parallel_tree=None, objective='multi:softmax', predictor=None,\n",
      "              random_state=None, reg_alpha=None, ...), mean_mfcc__kw_args={'sr': 16000, 'n_mfcc': 20, 'n_fft': 768, 'hop_length': 128, 'fmin': 500.0, 'fmax': None}; total time= 1.1min\n",
      "[CV] END estimator=XGBClassifier(base_score=None, booster=None, callbacks=None,\n",
      "              colsample_bylevel=None, colsample_bynode=None,\n",
      "              colsample_bytree=None, early_stopping_rounds=None,\n",
      "              enable_categorical=False, eval_metric=None, gamma=None,\n",
      "              gpu_id=None, grow_policy=None, importance_type=None,\n",
      "              interaction_constraints=None, learning_rate=0.025, max_bin=None,\n",
      "              max_cat_to_onehot=None, max_delta_step=None, max_depth=8,\n",
      "              max_leaves=None, min_child_weight=None, missing=nan,\n",
      "              monotone_constraints=None, n_estimators=400, n_jobs=None,\n",
      "              num_parallel_tree=None, objective='multi:softmax', predictor=None,\n",
      "              random_state=None, reg_alpha=None, ...), mean_mfcc__kw_args={'sr': 16000, 'n_mfcc': 20, 'n_fft': 768, 'hop_length': 128, 'fmin': 500.0, 'fmax': 3000.0}; total time= 1.1min\n",
      "[CV] END estimator=XGBClassifier(base_score=None, booster=None, callbacks=None,\n",
      "              colsample_bylevel=None, colsample_bynode=None,\n",
      "              colsample_bytree=None, early_stopping_rounds=None,\n",
      "              enable_categorical=False, eval_metric=None, gamma=None,\n",
      "              gpu_id=None, grow_policy=None, importance_type=None,\n",
      "              interaction_constraints=None, learning_rate=0.025, max_bin=None,\n",
      "              max_cat_to_onehot=None, max_delta_step=None, max_depth=8,\n",
      "              max_leaves=None, min_child_weight=None, missing=nan,\n",
      "              monotone_constraints=None, n_estimators=400, n_jobs=None,\n",
      "              num_parallel_tree=None, objective='multi:softmax', predictor=None,\n",
      "              random_state=None, reg_alpha=None, ...), mean_mfcc__kw_args={'sr': 16000, 'n_mfcc': 20, 'n_fft': 768, 'hop_length': 128, 'fmin': 500.0, 'fmax': 3000.0}; total time= 1.0min\n",
      "[CV] END estimator=XGBClassifier(base_score=None, booster=None, callbacks=None,\n",
      "              colsample_bylevel=None, colsample_bynode=None,\n",
      "              colsample_bytree=None, early_stopping_rounds=None,\n",
      "              enable_categorical=False, eval_metric=None, gamma=None,\n",
      "              gpu_id=None, grow_policy=None, importance_type=None,\n",
      "              interaction_constraints=None, learning_rate=0.025, max_bin=None,\n",
      "              max_cat_to_onehot=None, max_delta_step=None, max_depth=8,\n",
      "              max_leaves=None, min_child_weight=None, missing=nan,\n",
      "              monotone_constraints=None, n_estimators=400, n_jobs=None,\n",
      "              num_parallel_tree=None, objective='multi:softmax', predictor=None,\n",
      "              random_state=None, reg_alpha=None, ...), mean_mfcc__kw_args={'sr': 16000, 'n_mfcc': 20, 'n_fft': 768, 'hop_length': 128, 'fmin': 500.0, 'fmax': 4000.0}; total time= 1.0min\n",
      "[CV] END estimator=XGBClassifier(base_score=None, booster=None, callbacks=None,\n",
      "              colsample_bylevel=None, colsample_bynode=None,\n",
      "              colsample_bytree=None, early_stopping_rounds=None,\n",
      "              enable_categorical=False, eval_metric=None, gamma=None,\n",
      "              gpu_id=None, grow_policy=None, importance_type=None,\n",
      "              interaction_constraints=None, learning_rate=0.025, max_bin=None,\n",
      "              max_cat_to_onehot=None, max_delta_step=None, max_depth=8,\n",
      "              max_leaves=None, min_child_weight=None, missing=nan,\n",
      "              monotone_constraints=None, n_estimators=400, n_jobs=None,\n",
      "              num_parallel_tree=None, objective='multi:softmax', predictor=None,\n",
      "              random_state=None, reg_alpha=None, ...), mean_mfcc__kw_args={'sr': 16000, 'n_mfcc': 20, 'n_fft': 768, 'hop_length': 128, 'fmin': 500.0, 'fmax': 4000.0}; total time= 1.1min\n",
      "[CV] END estimator=XGBClassifier(base_score=None, booster=None, callbacks=None,\n",
      "              colsample_bylevel=None, colsample_bynode=None,\n",
      "              colsample_bytree=None, early_stopping_rounds=None,\n",
      "              enable_categorical=False, eval_metric=None, gamma=None,\n",
      "              gpu_id=None, grow_policy=None, importance_type=None,\n",
      "              interaction_constraints=None, learning_rate=0.025, max_bin=None,\n",
      "              max_cat_to_onehot=None, max_delta_step=None, max_depth=8,\n",
      "              max_leaves=None, min_child_weight=None, missing=nan,\n",
      "              monotone_constraints=None, n_estimators=400, n_jobs=None,\n",
      "              num_parallel_tree=None, objective='multi:softmax', predictor=None,\n",
      "              random_state=None, reg_alpha=None, ...), mean_mfcc__kw_args={'sr': 16000, 'n_mfcc': 20, 'n_fft': 768, 'hop_length': 128, 'fmin': 500.0, 'fmax': 5000.0}; total time= 1.1min\n",
      "[CV] END estimator=XGBClassifier(base_score=None, booster=None, callbacks=None,\n",
      "              colsample_bylevel=None, colsample_bynode=None,\n",
      "              colsample_bytree=None, early_stopping_rounds=None,\n",
      "              enable_categorical=False, eval_metric=None, gamma=None,\n",
      "              gpu_id=None, grow_policy=None, importance_type=None,\n",
      "              interaction_constraints=None, learning_rate=0.025, max_bin=None,\n",
      "              max_cat_to_onehot=None, max_delta_step=None, max_depth=8,\n",
      "              max_leaves=None, min_child_weight=None, missing=nan,\n",
      "              monotone_constraints=None, n_estimators=400, n_jobs=None,\n",
      "              num_parallel_tree=None, objective='multi:softmax', predictor=None,\n",
      "              random_state=None, reg_alpha=None, ...), mean_mfcc__kw_args={'sr': 16000, 'n_mfcc': 20, 'n_fft': 768, 'hop_length': 128, 'fmin': 500.0, 'fmax': 5000.0}; total time= 1.1min\n"
     ]
    },
    {
     "name": "stderr",
     "output_type": "stream",
     "text": [
      "/Users/axel/.pyenv/versions/3.8.12/envs/us8kdata/lib/python3.8/site-packages/librosa/util/decorators.py:88: UserWarning: n_fft=1024 is too small for input signal of length=800\n",
      "  return f(*args, **kwargs)\n",
      "/Users/axel/.pyenv/versions/3.8.12/envs/us8kdata/lib/python3.8/site-packages/librosa/util/decorators.py:88: UserWarning: n_fft=1024 is too small for input signal of length=960\n",
      "  return f(*args, **kwargs)\n",
      "/Users/axel/.pyenv/versions/3.8.12/envs/us8kdata/lib/python3.8/site-packages/librosa/util/decorators.py:88: UserWarning: n_fft=1024 is too small for input signal of length=960\n",
      "  return f(*args, **kwargs)\n"
     ]
    },
    {
     "name": "stdout",
     "output_type": "stream",
     "text": [
      "[CV] END estimator=XGBClassifier(base_score=None, booster=None, callbacks=None,\n",
      "              colsample_bylevel=None, colsample_bynode=None,\n",
      "              colsample_bytree=None, early_stopping_rounds=None,\n",
      "              enable_categorical=False, eval_metric=None, gamma=None,\n",
      "              gpu_id=None, grow_policy=None, importance_type=None,\n",
      "              interaction_constraints=None, learning_rate=0.025, max_bin=None,\n",
      "              max_cat_to_onehot=None, max_delta_step=None, max_depth=8,\n",
      "              max_leaves=None, min_child_weight=None, missing=nan,\n",
      "              monotone_constraints=None, n_estimators=400, n_jobs=None,\n",
      "              num_parallel_tree=None, objective='multi:softmax', predictor=None,\n",
      "              random_state=None, reg_alpha=None, ...), mean_mfcc__kw_args={'sr': 16000, 'n_mfcc': 20, 'n_fft': 1024, 'hop_length': 128, 'fmin': 0.0, 'fmax': None}; total time= 1.2min\n"
     ]
    },
    {
     "name": "stderr",
     "output_type": "stream",
     "text": [
      "/Users/axel/.pyenv/versions/3.8.12/envs/us8kdata/lib/python3.8/site-packages/librosa/util/decorators.py:88: UserWarning: n_fft=1024 is too small for input signal of length=960\n",
      "  return f(*args, **kwargs)\n",
      "/Users/axel/.pyenv/versions/3.8.12/envs/us8kdata/lib/python3.8/site-packages/librosa/util/decorators.py:88: UserWarning: n_fft=1024 is too small for input signal of length=800\n",
      "  return f(*args, **kwargs)\n",
      "/Users/axel/.pyenv/versions/3.8.12/envs/us8kdata/lib/python3.8/site-packages/librosa/util/decorators.py:88: UserWarning: n_fft=1024 is too small for input signal of length=960\n",
      "  return f(*args, **kwargs)\n"
     ]
    },
    {
     "name": "stdout",
     "output_type": "stream",
     "text": [
      "[CV] END estimator=XGBClassifier(base_score=None, booster=None, callbacks=None,\n",
      "              colsample_bylevel=None, colsample_bynode=None,\n",
      "              colsample_bytree=None, early_stopping_rounds=None,\n",
      "              enable_categorical=False, eval_metric=None, gamma=None,\n",
      "              gpu_id=None, grow_policy=None, importance_type=None,\n",
      "              interaction_constraints=None, learning_rate=0.025, max_bin=None,\n",
      "              max_cat_to_onehot=None, max_delta_step=None, max_depth=8,\n",
      "              max_leaves=None, min_child_weight=None, missing=nan,\n",
      "              monotone_constraints=None, n_estimators=400, n_jobs=None,\n",
      "              num_parallel_tree=None, objective='multi:softmax', predictor=None,\n",
      "              random_state=None, reg_alpha=None, ...), mean_mfcc__kw_args={'sr': 16000, 'n_mfcc': 20, 'n_fft': 1024, 'hop_length': 128, 'fmin': 0.0, 'fmax': None}; total time= 1.2min\n"
     ]
    },
    {
     "name": "stderr",
     "output_type": "stream",
     "text": [
      "/Users/axel/.pyenv/versions/3.8.12/envs/us8kdata/lib/python3.8/site-packages/librosa/util/decorators.py:88: UserWarning: n_fft=1024 is too small for input signal of length=800\n",
      "  return f(*args, **kwargs)\n",
      "/Users/axel/.pyenv/versions/3.8.12/envs/us8kdata/lib/python3.8/site-packages/librosa/util/decorators.py:88: UserWarning: n_fft=1024 is too small for input signal of length=960\n",
      "  return f(*args, **kwargs)\n",
      "/Users/axel/.pyenv/versions/3.8.12/envs/us8kdata/lib/python3.8/site-packages/librosa/util/decorators.py:88: UserWarning: n_fft=1024 is too small for input signal of length=960\n",
      "  return f(*args, **kwargs)\n"
     ]
    },
    {
     "name": "stdout",
     "output_type": "stream",
     "text": [
      "[CV] END estimator=XGBClassifier(base_score=None, booster=None, callbacks=None,\n",
      "              colsample_bylevel=None, colsample_bynode=None,\n",
      "              colsample_bytree=None, early_stopping_rounds=None,\n",
      "              enable_categorical=False, eval_metric=None, gamma=None,\n",
      "              gpu_id=None, grow_policy=None, importance_type=None,\n",
      "              interaction_constraints=None, learning_rate=0.025, max_bin=None,\n",
      "              max_cat_to_onehot=None, max_delta_step=None, max_depth=8,\n",
      "              max_leaves=None, min_child_weight=None, missing=nan,\n",
      "              monotone_constraints=None, n_estimators=400, n_jobs=None,\n",
      "              num_parallel_tree=None, objective='multi:softmax', predictor=None,\n",
      "              random_state=None, reg_alpha=None, ...), mean_mfcc__kw_args={'sr': 16000, 'n_mfcc': 20, 'n_fft': 1024, 'hop_length': 128, 'fmin': 0.0, 'fmax': 3000.0}; total time= 1.3min\n"
     ]
    },
    {
     "name": "stderr",
     "output_type": "stream",
     "text": [
      "/Users/axel/.pyenv/versions/3.8.12/envs/us8kdata/lib/python3.8/site-packages/librosa/util/decorators.py:88: UserWarning: n_fft=1024 is too small for input signal of length=960\n",
      "  return f(*args, **kwargs)\n",
      "/Users/axel/.pyenv/versions/3.8.12/envs/us8kdata/lib/python3.8/site-packages/librosa/util/decorators.py:88: UserWarning: n_fft=1024 is too small for input signal of length=800\n",
      "  return f(*args, **kwargs)\n",
      "/Users/axel/.pyenv/versions/3.8.12/envs/us8kdata/lib/python3.8/site-packages/librosa/util/decorators.py:88: UserWarning: n_fft=1024 is too small for input signal of length=960\n",
      "  return f(*args, **kwargs)\n"
     ]
    },
    {
     "name": "stdout",
     "output_type": "stream",
     "text": [
      "[CV] END estimator=XGBClassifier(base_score=None, booster=None, callbacks=None,\n",
      "              colsample_bylevel=None, colsample_bynode=None,\n",
      "              colsample_bytree=None, early_stopping_rounds=None,\n",
      "              enable_categorical=False, eval_metric=None, gamma=None,\n",
      "              gpu_id=None, grow_policy=None, importance_type=None,\n",
      "              interaction_constraints=None, learning_rate=0.025, max_bin=None,\n",
      "              max_cat_to_onehot=None, max_delta_step=None, max_depth=8,\n",
      "              max_leaves=None, min_child_weight=None, missing=nan,\n",
      "              monotone_constraints=None, n_estimators=400, n_jobs=None,\n",
      "              num_parallel_tree=None, objective='multi:softmax', predictor=None,\n",
      "              random_state=None, reg_alpha=None, ...), mean_mfcc__kw_args={'sr': 16000, 'n_mfcc': 20, 'n_fft': 1024, 'hop_length': 128, 'fmin': 0.0, 'fmax': 3000.0}; total time= 1.2min\n"
     ]
    },
    {
     "name": "stderr",
     "output_type": "stream",
     "text": [
      "/Users/axel/.pyenv/versions/3.8.12/envs/us8kdata/lib/python3.8/site-packages/librosa/util/decorators.py:88: UserWarning: n_fft=1024 is too small for input signal of length=800\n",
      "  return f(*args, **kwargs)\n",
      "/Users/axel/.pyenv/versions/3.8.12/envs/us8kdata/lib/python3.8/site-packages/librosa/util/decorators.py:88: UserWarning: n_fft=1024 is too small for input signal of length=960\n",
      "  return f(*args, **kwargs)\n",
      "/Users/axel/.pyenv/versions/3.8.12/envs/us8kdata/lib/python3.8/site-packages/librosa/util/decorators.py:88: UserWarning: n_fft=1024 is too small for input signal of length=960\n",
      "  return f(*args, **kwargs)\n"
     ]
    },
    {
     "name": "stdout",
     "output_type": "stream",
     "text": [
      "[CV] END estimator=XGBClassifier(base_score=None, booster=None, callbacks=None,\n",
      "              colsample_bylevel=None, colsample_bynode=None,\n",
      "              colsample_bytree=None, early_stopping_rounds=None,\n",
      "              enable_categorical=False, eval_metric=None, gamma=None,\n",
      "              gpu_id=None, grow_policy=None, importance_type=None,\n",
      "              interaction_constraints=None, learning_rate=0.025, max_bin=None,\n",
      "              max_cat_to_onehot=None, max_delta_step=None, max_depth=8,\n",
      "              max_leaves=None, min_child_weight=None, missing=nan,\n",
      "              monotone_constraints=None, n_estimators=400, n_jobs=None,\n",
      "              num_parallel_tree=None, objective='multi:softmax', predictor=None,\n",
      "              random_state=None, reg_alpha=None, ...), mean_mfcc__kw_args={'sr': 16000, 'n_mfcc': 20, 'n_fft': 1024, 'hop_length': 128, 'fmin': 0.0, 'fmax': 4000.0}; total time= 1.2min\n"
     ]
    },
    {
     "name": "stderr",
     "output_type": "stream",
     "text": [
      "/Users/axel/.pyenv/versions/3.8.12/envs/us8kdata/lib/python3.8/site-packages/librosa/util/decorators.py:88: UserWarning: n_fft=1024 is too small for input signal of length=960\n",
      "  return f(*args, **kwargs)\n",
      "/Users/axel/.pyenv/versions/3.8.12/envs/us8kdata/lib/python3.8/site-packages/librosa/util/decorators.py:88: UserWarning: n_fft=1024 is too small for input signal of length=800\n",
      "  return f(*args, **kwargs)\n",
      "/Users/axel/.pyenv/versions/3.8.12/envs/us8kdata/lib/python3.8/site-packages/librosa/util/decorators.py:88: UserWarning: n_fft=1024 is too small for input signal of length=960\n",
      "  return f(*args, **kwargs)\n"
     ]
    },
    {
     "name": "stdout",
     "output_type": "stream",
     "text": [
      "[CV] END estimator=XGBClassifier(base_score=None, booster=None, callbacks=None,\n",
      "              colsample_bylevel=None, colsample_bynode=None,\n",
      "              colsample_bytree=None, early_stopping_rounds=None,\n",
      "              enable_categorical=False, eval_metric=None, gamma=None,\n",
      "              gpu_id=None, grow_policy=None, importance_type=None,\n",
      "              interaction_constraints=None, learning_rate=0.025, max_bin=None,\n",
      "              max_cat_to_onehot=None, max_delta_step=None, max_depth=8,\n",
      "              max_leaves=None, min_child_weight=None, missing=nan,\n",
      "              monotone_constraints=None, n_estimators=400, n_jobs=None,\n",
      "              num_parallel_tree=None, objective='multi:softmax', predictor=None,\n",
      "              random_state=None, reg_alpha=None, ...), mean_mfcc__kw_args={'sr': 16000, 'n_mfcc': 20, 'n_fft': 1024, 'hop_length': 128, 'fmin': 0.0, 'fmax': 4000.0}; total time= 1.2min\n"
     ]
    },
    {
     "name": "stderr",
     "output_type": "stream",
     "text": [
      "/Users/axel/.pyenv/versions/3.8.12/envs/us8kdata/lib/python3.8/site-packages/librosa/util/decorators.py:88: UserWarning: n_fft=1024 is too small for input signal of length=800\n",
      "  return f(*args, **kwargs)\n",
      "/Users/axel/.pyenv/versions/3.8.12/envs/us8kdata/lib/python3.8/site-packages/librosa/util/decorators.py:88: UserWarning: n_fft=1024 is too small for input signal of length=960\n",
      "  return f(*args, **kwargs)\n",
      "/Users/axel/.pyenv/versions/3.8.12/envs/us8kdata/lib/python3.8/site-packages/librosa/util/decorators.py:88: UserWarning: n_fft=1024 is too small for input signal of length=960\n",
      "  return f(*args, **kwargs)\n"
     ]
    },
    {
     "name": "stdout",
     "output_type": "stream",
     "text": [
      "[CV] END estimator=XGBClassifier(base_score=None, booster=None, callbacks=None,\n",
      "              colsample_bylevel=None, colsample_bynode=None,\n",
      "              colsample_bytree=None, early_stopping_rounds=None,\n",
      "              enable_categorical=False, eval_metric=None, gamma=None,\n",
      "              gpu_id=None, grow_policy=None, importance_type=None,\n",
      "              interaction_constraints=None, learning_rate=0.025, max_bin=None,\n",
      "              max_cat_to_onehot=None, max_delta_step=None, max_depth=8,\n",
      "              max_leaves=None, min_child_weight=None, missing=nan,\n",
      "              monotone_constraints=None, n_estimators=400, n_jobs=None,\n",
      "              num_parallel_tree=None, objective='multi:softmax', predictor=None,\n",
      "              random_state=None, reg_alpha=None, ...), mean_mfcc__kw_args={'sr': 16000, 'n_mfcc': 20, 'n_fft': 1024, 'hop_length': 128, 'fmin': 0.0, 'fmax': 5000.0}; total time= 1.2min\n"
     ]
    },
    {
     "name": "stderr",
     "output_type": "stream",
     "text": [
      "/Users/axel/.pyenv/versions/3.8.12/envs/us8kdata/lib/python3.8/site-packages/librosa/util/decorators.py:88: UserWarning: n_fft=1024 is too small for input signal of length=960\n",
      "  return f(*args, **kwargs)\n",
      "/Users/axel/.pyenv/versions/3.8.12/envs/us8kdata/lib/python3.8/site-packages/librosa/util/decorators.py:88: UserWarning: n_fft=1024 is too small for input signal of length=800\n",
      "  return f(*args, **kwargs)\n",
      "/Users/axel/.pyenv/versions/3.8.12/envs/us8kdata/lib/python3.8/site-packages/librosa/util/decorators.py:88: UserWarning: n_fft=1024 is too small for input signal of length=960\n",
      "  return f(*args, **kwargs)\n"
     ]
    },
    {
     "name": "stdout",
     "output_type": "stream",
     "text": [
      "[CV] END estimator=XGBClassifier(base_score=None, booster=None, callbacks=None,\n",
      "              colsample_bylevel=None, colsample_bynode=None,\n",
      "              colsample_bytree=None, early_stopping_rounds=None,\n",
      "              enable_categorical=False, eval_metric=None, gamma=None,\n",
      "              gpu_id=None, grow_policy=None, importance_type=None,\n",
      "              interaction_constraints=None, learning_rate=0.025, max_bin=None,\n",
      "              max_cat_to_onehot=None, max_delta_step=None, max_depth=8,\n",
      "              max_leaves=None, min_child_weight=None, missing=nan,\n",
      "              monotone_constraints=None, n_estimators=400, n_jobs=None,\n",
      "              num_parallel_tree=None, objective='multi:softmax', predictor=None,\n",
      "              random_state=None, reg_alpha=None, ...), mean_mfcc__kw_args={'sr': 16000, 'n_mfcc': 20, 'n_fft': 1024, 'hop_length': 128, 'fmin': 0.0, 'fmax': 5000.0}; total time= 1.2min\n"
     ]
    },
    {
     "name": "stderr",
     "output_type": "stream",
     "text": [
      "/Users/axel/.pyenv/versions/3.8.12/envs/us8kdata/lib/python3.8/site-packages/librosa/util/decorators.py:88: UserWarning: n_fft=1024 is too small for input signal of length=800\n",
      "  return f(*args, **kwargs)\n",
      "/Users/axel/.pyenv/versions/3.8.12/envs/us8kdata/lib/python3.8/site-packages/librosa/util/decorators.py:88: UserWarning: n_fft=1024 is too small for input signal of length=960\n",
      "  return f(*args, **kwargs)\n",
      "/Users/axel/.pyenv/versions/3.8.12/envs/us8kdata/lib/python3.8/site-packages/librosa/util/decorators.py:88: UserWarning: n_fft=1024 is too small for input signal of length=960\n",
      "  return f(*args, **kwargs)\n"
     ]
    },
    {
     "name": "stdout",
     "output_type": "stream",
     "text": [
      "[CV] END estimator=XGBClassifier(base_score=None, booster=None, callbacks=None,\n",
      "              colsample_bylevel=None, colsample_bynode=None,\n",
      "              colsample_bytree=None, early_stopping_rounds=None,\n",
      "              enable_categorical=False, eval_metric=None, gamma=None,\n",
      "              gpu_id=None, grow_policy=None, importance_type=None,\n",
      "              interaction_constraints=None, learning_rate=0.025, max_bin=None,\n",
      "              max_cat_to_onehot=None, max_delta_step=None, max_depth=8,\n",
      "              max_leaves=None, min_child_weight=None, missing=nan,\n",
      "              monotone_constraints=None, n_estimators=400, n_jobs=None,\n",
      "              num_parallel_tree=None, objective='multi:softmax', predictor=None,\n",
      "              random_state=None, reg_alpha=None, ...), mean_mfcc__kw_args={'sr': 16000, 'n_mfcc': 20, 'n_fft': 1024, 'hop_length': 128, 'fmin': 300.0, 'fmax': None}; total time= 1.2min\n"
     ]
    },
    {
     "name": "stderr",
     "output_type": "stream",
     "text": [
      "/Users/axel/.pyenv/versions/3.8.12/envs/us8kdata/lib/python3.8/site-packages/librosa/util/decorators.py:88: UserWarning: n_fft=1024 is too small for input signal of length=960\n",
      "  return f(*args, **kwargs)\n",
      "/Users/axel/.pyenv/versions/3.8.12/envs/us8kdata/lib/python3.8/site-packages/librosa/util/decorators.py:88: UserWarning: n_fft=1024 is too small for input signal of length=800\n",
      "  return f(*args, **kwargs)\n",
      "/Users/axel/.pyenv/versions/3.8.12/envs/us8kdata/lib/python3.8/site-packages/librosa/util/decorators.py:88: UserWarning: n_fft=1024 is too small for input signal of length=960\n",
      "  return f(*args, **kwargs)\n"
     ]
    },
    {
     "name": "stdout",
     "output_type": "stream",
     "text": [
      "[CV] END estimator=XGBClassifier(base_score=None, booster=None, callbacks=None,\n",
      "              colsample_bylevel=None, colsample_bynode=None,\n",
      "              colsample_bytree=None, early_stopping_rounds=None,\n",
      "              enable_categorical=False, eval_metric=None, gamma=None,\n",
      "              gpu_id=None, grow_policy=None, importance_type=None,\n",
      "              interaction_constraints=None, learning_rate=0.025, max_bin=None,\n",
      "              max_cat_to_onehot=None, max_delta_step=None, max_depth=8,\n",
      "              max_leaves=None, min_child_weight=None, missing=nan,\n",
      "              monotone_constraints=None, n_estimators=400, n_jobs=None,\n",
      "              num_parallel_tree=None, objective='multi:softmax', predictor=None,\n",
      "              random_state=None, reg_alpha=None, ...), mean_mfcc__kw_args={'sr': 16000, 'n_mfcc': 20, 'n_fft': 1024, 'hop_length': 128, 'fmin': 300.0, 'fmax': None}; total time= 1.2min\n"
     ]
    },
    {
     "name": "stderr",
     "output_type": "stream",
     "text": [
      "/Users/axel/.pyenv/versions/3.8.12/envs/us8kdata/lib/python3.8/site-packages/librosa/util/decorators.py:88: UserWarning: n_fft=1024 is too small for input signal of length=800\n",
      "  return f(*args, **kwargs)\n",
      "/Users/axel/.pyenv/versions/3.8.12/envs/us8kdata/lib/python3.8/site-packages/librosa/util/decorators.py:88: UserWarning: n_fft=1024 is too small for input signal of length=960\n",
      "  return f(*args, **kwargs)\n",
      "/Users/axel/.pyenv/versions/3.8.12/envs/us8kdata/lib/python3.8/site-packages/librosa/util/decorators.py:88: UserWarning: n_fft=1024 is too small for input signal of length=960\n",
      "  return f(*args, **kwargs)\n"
     ]
    },
    {
     "name": "stdout",
     "output_type": "stream",
     "text": [
      "[CV] END estimator=XGBClassifier(base_score=None, booster=None, callbacks=None,\n",
      "              colsample_bylevel=None, colsample_bynode=None,\n",
      "              colsample_bytree=None, early_stopping_rounds=None,\n",
      "              enable_categorical=False, eval_metric=None, gamma=None,\n",
      "              gpu_id=None, grow_policy=None, importance_type=None,\n",
      "              interaction_constraints=None, learning_rate=0.025, max_bin=None,\n",
      "              max_cat_to_onehot=None, max_delta_step=None, max_depth=8,\n",
      "              max_leaves=None, min_child_weight=None, missing=nan,\n",
      "              monotone_constraints=None, n_estimators=400, n_jobs=None,\n",
      "              num_parallel_tree=None, objective='multi:softmax', predictor=None,\n",
      "              random_state=None, reg_alpha=None, ...), mean_mfcc__kw_args={'sr': 16000, 'n_mfcc': 20, 'n_fft': 1024, 'hop_length': 128, 'fmin': 300.0, 'fmax': 3000.0}; total time= 1.2min\n"
     ]
    },
    {
     "name": "stderr",
     "output_type": "stream",
     "text": [
      "/Users/axel/.pyenv/versions/3.8.12/envs/us8kdata/lib/python3.8/site-packages/librosa/util/decorators.py:88: UserWarning: n_fft=1024 is too small for input signal of length=960\n",
      "  return f(*args, **kwargs)\n",
      "/Users/axel/.pyenv/versions/3.8.12/envs/us8kdata/lib/python3.8/site-packages/librosa/util/decorators.py:88: UserWarning: n_fft=1024 is too small for input signal of length=800\n",
      "  return f(*args, **kwargs)\n",
      "/Users/axel/.pyenv/versions/3.8.12/envs/us8kdata/lib/python3.8/site-packages/librosa/util/decorators.py:88: UserWarning: n_fft=1024 is too small for input signal of length=960\n",
      "  return f(*args, **kwargs)\n"
     ]
    },
    {
     "name": "stdout",
     "output_type": "stream",
     "text": [
      "[CV] END estimator=XGBClassifier(base_score=None, booster=None, callbacks=None,\n",
      "              colsample_bylevel=None, colsample_bynode=None,\n",
      "              colsample_bytree=None, early_stopping_rounds=None,\n",
      "              enable_categorical=False, eval_metric=None, gamma=None,\n",
      "              gpu_id=None, grow_policy=None, importance_type=None,\n",
      "              interaction_constraints=None, learning_rate=0.025, max_bin=None,\n",
      "              max_cat_to_onehot=None, max_delta_step=None, max_depth=8,\n",
      "              max_leaves=None, min_child_weight=None, missing=nan,\n",
      "              monotone_constraints=None, n_estimators=400, n_jobs=None,\n",
      "              num_parallel_tree=None, objective='multi:softmax', predictor=None,\n",
      "              random_state=None, reg_alpha=None, ...), mean_mfcc__kw_args={'sr': 16000, 'n_mfcc': 20, 'n_fft': 1024, 'hop_length': 128, 'fmin': 300.0, 'fmax': 3000.0}; total time= 1.2min\n"
     ]
    },
    {
     "name": "stderr",
     "output_type": "stream",
     "text": [
      "/Users/axel/.pyenv/versions/3.8.12/envs/us8kdata/lib/python3.8/site-packages/librosa/util/decorators.py:88: UserWarning: n_fft=1024 is too small for input signal of length=800\n",
      "  return f(*args, **kwargs)\n",
      "/Users/axel/.pyenv/versions/3.8.12/envs/us8kdata/lib/python3.8/site-packages/librosa/util/decorators.py:88: UserWarning: n_fft=1024 is too small for input signal of length=960\n",
      "  return f(*args, **kwargs)\n",
      "/Users/axel/.pyenv/versions/3.8.12/envs/us8kdata/lib/python3.8/site-packages/librosa/util/decorators.py:88: UserWarning: n_fft=1024 is too small for input signal of length=960\n",
      "  return f(*args, **kwargs)\n"
     ]
    },
    {
     "name": "stdout",
     "output_type": "stream",
     "text": [
      "[CV] END estimator=XGBClassifier(base_score=None, booster=None, callbacks=None,\n",
      "              colsample_bylevel=None, colsample_bynode=None,\n",
      "              colsample_bytree=None, early_stopping_rounds=None,\n",
      "              enable_categorical=False, eval_metric=None, gamma=None,\n",
      "              gpu_id=None, grow_policy=None, importance_type=None,\n",
      "              interaction_constraints=None, learning_rate=0.025, max_bin=None,\n",
      "              max_cat_to_onehot=None, max_delta_step=None, max_depth=8,\n",
      "              max_leaves=None, min_child_weight=None, missing=nan,\n",
      "              monotone_constraints=None, n_estimators=400, n_jobs=None,\n",
      "              num_parallel_tree=None, objective='multi:softmax', predictor=None,\n",
      "              random_state=None, reg_alpha=None, ...), mean_mfcc__kw_args={'sr': 16000, 'n_mfcc': 20, 'n_fft': 1024, 'hop_length': 128, 'fmin': 300.0, 'fmax': 4000.0}; total time= 1.2min\n"
     ]
    },
    {
     "name": "stderr",
     "output_type": "stream",
     "text": [
      "/Users/axel/.pyenv/versions/3.8.12/envs/us8kdata/lib/python3.8/site-packages/librosa/util/decorators.py:88: UserWarning: n_fft=1024 is too small for input signal of length=960\n",
      "  return f(*args, **kwargs)\n",
      "/Users/axel/.pyenv/versions/3.8.12/envs/us8kdata/lib/python3.8/site-packages/librosa/util/decorators.py:88: UserWarning: n_fft=1024 is too small for input signal of length=800\n",
      "  return f(*args, **kwargs)\n",
      "/Users/axel/.pyenv/versions/3.8.12/envs/us8kdata/lib/python3.8/site-packages/librosa/util/decorators.py:88: UserWarning: n_fft=1024 is too small for input signal of length=960\n",
      "  return f(*args, **kwargs)\n"
     ]
    },
    {
     "name": "stdout",
     "output_type": "stream",
     "text": [
      "[CV] END estimator=XGBClassifier(base_score=None, booster=None, callbacks=None,\n",
      "              colsample_bylevel=None, colsample_bynode=None,\n",
      "              colsample_bytree=None, early_stopping_rounds=None,\n",
      "              enable_categorical=False, eval_metric=None, gamma=None,\n",
      "              gpu_id=None, grow_policy=None, importance_type=None,\n",
      "              interaction_constraints=None, learning_rate=0.025, max_bin=None,\n",
      "              max_cat_to_onehot=None, max_delta_step=None, max_depth=8,\n",
      "              max_leaves=None, min_child_weight=None, missing=nan,\n",
      "              monotone_constraints=None, n_estimators=400, n_jobs=None,\n",
      "              num_parallel_tree=None, objective='multi:softmax', predictor=None,\n",
      "              random_state=None, reg_alpha=None, ...), mean_mfcc__kw_args={'sr': 16000, 'n_mfcc': 20, 'n_fft': 1024, 'hop_length': 128, 'fmin': 300.0, 'fmax': 4000.0}; total time= 1.2min\n"
     ]
    },
    {
     "name": "stderr",
     "output_type": "stream",
     "text": [
      "/Users/axel/.pyenv/versions/3.8.12/envs/us8kdata/lib/python3.8/site-packages/librosa/util/decorators.py:88: UserWarning: n_fft=1024 is too small for input signal of length=800\n",
      "  return f(*args, **kwargs)\n",
      "/Users/axel/.pyenv/versions/3.8.12/envs/us8kdata/lib/python3.8/site-packages/librosa/util/decorators.py:88: UserWarning: n_fft=1024 is too small for input signal of length=960\n",
      "  return f(*args, **kwargs)\n",
      "/Users/axel/.pyenv/versions/3.8.12/envs/us8kdata/lib/python3.8/site-packages/librosa/util/decorators.py:88: UserWarning: n_fft=1024 is too small for input signal of length=960\n",
      "  return f(*args, **kwargs)\n"
     ]
    },
    {
     "name": "stdout",
     "output_type": "stream",
     "text": [
      "[CV] END estimator=XGBClassifier(base_score=None, booster=None, callbacks=None,\n",
      "              colsample_bylevel=None, colsample_bynode=None,\n",
      "              colsample_bytree=None, early_stopping_rounds=None,\n",
      "              enable_categorical=False, eval_metric=None, gamma=None,\n",
      "              gpu_id=None, grow_policy=None, importance_type=None,\n",
      "              interaction_constraints=None, learning_rate=0.025, max_bin=None,\n",
      "              max_cat_to_onehot=None, max_delta_step=None, max_depth=8,\n",
      "              max_leaves=None, min_child_weight=None, missing=nan,\n",
      "              monotone_constraints=None, n_estimators=400, n_jobs=None,\n",
      "              num_parallel_tree=None, objective='multi:softmax', predictor=None,\n",
      "              random_state=None, reg_alpha=None, ...), mean_mfcc__kw_args={'sr': 16000, 'n_mfcc': 20, 'n_fft': 1024, 'hop_length': 128, 'fmin': 300.0, 'fmax': 5000.0}; total time= 1.2min\n"
     ]
    },
    {
     "name": "stderr",
     "output_type": "stream",
     "text": [
      "/Users/axel/.pyenv/versions/3.8.12/envs/us8kdata/lib/python3.8/site-packages/librosa/util/decorators.py:88: UserWarning: n_fft=1024 is too small for input signal of length=960\n",
      "  return f(*args, **kwargs)\n",
      "/Users/axel/.pyenv/versions/3.8.12/envs/us8kdata/lib/python3.8/site-packages/librosa/util/decorators.py:88: UserWarning: n_fft=1024 is too small for input signal of length=800\n",
      "  return f(*args, **kwargs)\n",
      "/Users/axel/.pyenv/versions/3.8.12/envs/us8kdata/lib/python3.8/site-packages/librosa/util/decorators.py:88: UserWarning: n_fft=1024 is too small for input signal of length=960\n",
      "  return f(*args, **kwargs)\n"
     ]
    },
    {
     "name": "stdout",
     "output_type": "stream",
     "text": [
      "[CV] END estimator=XGBClassifier(base_score=None, booster=None, callbacks=None,\n",
      "              colsample_bylevel=None, colsample_bynode=None,\n",
      "              colsample_bytree=None, early_stopping_rounds=None,\n",
      "              enable_categorical=False, eval_metric=None, gamma=None,\n",
      "              gpu_id=None, grow_policy=None, importance_type=None,\n",
      "              interaction_constraints=None, learning_rate=0.025, max_bin=None,\n",
      "              max_cat_to_onehot=None, max_delta_step=None, max_depth=8,\n",
      "              max_leaves=None, min_child_weight=None, missing=nan,\n",
      "              monotone_constraints=None, n_estimators=400, n_jobs=None,\n",
      "              num_parallel_tree=None, objective='multi:softmax', predictor=None,\n",
      "              random_state=None, reg_alpha=None, ...), mean_mfcc__kw_args={'sr': 16000, 'n_mfcc': 20, 'n_fft': 1024, 'hop_length': 128, 'fmin': 300.0, 'fmax': 5000.0}; total time= 1.2min\n"
     ]
    },
    {
     "name": "stderr",
     "output_type": "stream",
     "text": [
      "/Users/axel/.pyenv/versions/3.8.12/envs/us8kdata/lib/python3.8/site-packages/librosa/util/decorators.py:88: UserWarning: n_fft=1024 is too small for input signal of length=800\n",
      "  return f(*args, **kwargs)\n",
      "/Users/axel/.pyenv/versions/3.8.12/envs/us8kdata/lib/python3.8/site-packages/librosa/util/decorators.py:88: UserWarning: n_fft=1024 is too small for input signal of length=960\n",
      "  return f(*args, **kwargs)\n",
      "/Users/axel/.pyenv/versions/3.8.12/envs/us8kdata/lib/python3.8/site-packages/librosa/util/decorators.py:88: UserWarning: n_fft=1024 is too small for input signal of length=960\n",
      "  return f(*args, **kwargs)\n"
     ]
    },
    {
     "name": "stdout",
     "output_type": "stream",
     "text": [
      "[CV] END estimator=XGBClassifier(base_score=None, booster=None, callbacks=None,\n",
      "              colsample_bylevel=None, colsample_bynode=None,\n",
      "              colsample_bytree=None, early_stopping_rounds=None,\n",
      "              enable_categorical=False, eval_metric=None, gamma=None,\n",
      "              gpu_id=None, grow_policy=None, importance_type=None,\n",
      "              interaction_constraints=None, learning_rate=0.025, max_bin=None,\n",
      "              max_cat_to_onehot=None, max_delta_step=None, max_depth=8,\n",
      "              max_leaves=None, min_child_weight=None, missing=nan,\n",
      "              monotone_constraints=None, n_estimators=400, n_jobs=None,\n",
      "              num_parallel_tree=None, objective='multi:softmax', predictor=None,\n",
      "              random_state=None, reg_alpha=None, ...), mean_mfcc__kw_args={'sr': 16000, 'n_mfcc': 20, 'n_fft': 1024, 'hop_length': 128, 'fmin': 500.0, 'fmax': None}; total time= 1.2min\n"
     ]
    },
    {
     "name": "stderr",
     "output_type": "stream",
     "text": [
      "/Users/axel/.pyenv/versions/3.8.12/envs/us8kdata/lib/python3.8/site-packages/librosa/util/decorators.py:88: UserWarning: n_fft=1024 is too small for input signal of length=960\n",
      "  return f(*args, **kwargs)\n",
      "/Users/axel/.pyenv/versions/3.8.12/envs/us8kdata/lib/python3.8/site-packages/librosa/util/decorators.py:88: UserWarning: n_fft=1024 is too small for input signal of length=800\n",
      "  return f(*args, **kwargs)\n",
      "/Users/axel/.pyenv/versions/3.8.12/envs/us8kdata/lib/python3.8/site-packages/librosa/util/decorators.py:88: UserWarning: n_fft=1024 is too small for input signal of length=960\n",
      "  return f(*args, **kwargs)\n"
     ]
    },
    {
     "name": "stdout",
     "output_type": "stream",
     "text": [
      "[CV] END estimator=XGBClassifier(base_score=None, booster=None, callbacks=None,\n",
      "              colsample_bylevel=None, colsample_bynode=None,\n",
      "              colsample_bytree=None, early_stopping_rounds=None,\n",
      "              enable_categorical=False, eval_metric=None, gamma=None,\n",
      "              gpu_id=None, grow_policy=None, importance_type=None,\n",
      "              interaction_constraints=None, learning_rate=0.025, max_bin=None,\n",
      "              max_cat_to_onehot=None, max_delta_step=None, max_depth=8,\n",
      "              max_leaves=None, min_child_weight=None, missing=nan,\n",
      "              monotone_constraints=None, n_estimators=400, n_jobs=None,\n",
      "              num_parallel_tree=None, objective='multi:softmax', predictor=None,\n",
      "              random_state=None, reg_alpha=None, ...), mean_mfcc__kw_args={'sr': 16000, 'n_mfcc': 20, 'n_fft': 1024, 'hop_length': 128, 'fmin': 500.0, 'fmax': None}; total time= 1.2min\n"
     ]
    },
    {
     "name": "stderr",
     "output_type": "stream",
     "text": [
      "/Users/axel/.pyenv/versions/3.8.12/envs/us8kdata/lib/python3.8/site-packages/librosa/util/decorators.py:88: UserWarning: n_fft=1024 is too small for input signal of length=800\n",
      "  return f(*args, **kwargs)\n",
      "/Users/axel/.pyenv/versions/3.8.12/envs/us8kdata/lib/python3.8/site-packages/librosa/util/decorators.py:88: UserWarning: n_fft=1024 is too small for input signal of length=960\n",
      "  return f(*args, **kwargs)\n",
      "/Users/axel/.pyenv/versions/3.8.12/envs/us8kdata/lib/python3.8/site-packages/librosa/util/decorators.py:88: UserWarning: n_fft=1024 is too small for input signal of length=960\n",
      "  return f(*args, **kwargs)\n"
     ]
    },
    {
     "name": "stdout",
     "output_type": "stream",
     "text": [
      "[CV] END estimator=XGBClassifier(base_score=None, booster=None, callbacks=None,\n",
      "              colsample_bylevel=None, colsample_bynode=None,\n",
      "              colsample_bytree=None, early_stopping_rounds=None,\n",
      "              enable_categorical=False, eval_metric=None, gamma=None,\n",
      "              gpu_id=None, grow_policy=None, importance_type=None,\n",
      "              interaction_constraints=None, learning_rate=0.025, max_bin=None,\n",
      "              max_cat_to_onehot=None, max_delta_step=None, max_depth=8,\n",
      "              max_leaves=None, min_child_weight=None, missing=nan,\n",
      "              monotone_constraints=None, n_estimators=400, n_jobs=None,\n",
      "              num_parallel_tree=None, objective='multi:softmax', predictor=None,\n",
      "              random_state=None, reg_alpha=None, ...), mean_mfcc__kw_args={'sr': 16000, 'n_mfcc': 20, 'n_fft': 1024, 'hop_length': 128, 'fmin': 500.0, 'fmax': 3000.0}; total time= 1.2min\n"
     ]
    },
    {
     "name": "stderr",
     "output_type": "stream",
     "text": [
      "/Users/axel/.pyenv/versions/3.8.12/envs/us8kdata/lib/python3.8/site-packages/librosa/util/decorators.py:88: UserWarning: n_fft=1024 is too small for input signal of length=960\n",
      "  return f(*args, **kwargs)\n",
      "/Users/axel/.pyenv/versions/3.8.12/envs/us8kdata/lib/python3.8/site-packages/librosa/util/decorators.py:88: UserWarning: n_fft=1024 is too small for input signal of length=800\n",
      "  return f(*args, **kwargs)\n",
      "/Users/axel/.pyenv/versions/3.8.12/envs/us8kdata/lib/python3.8/site-packages/librosa/util/decorators.py:88: UserWarning: n_fft=1024 is too small for input signal of length=960\n",
      "  return f(*args, **kwargs)\n"
     ]
    },
    {
     "name": "stdout",
     "output_type": "stream",
     "text": [
      "[CV] END estimator=XGBClassifier(base_score=None, booster=None, callbacks=None,\n",
      "              colsample_bylevel=None, colsample_bynode=None,\n",
      "              colsample_bytree=None, early_stopping_rounds=None,\n",
      "              enable_categorical=False, eval_metric=None, gamma=None,\n",
      "              gpu_id=None, grow_policy=None, importance_type=None,\n",
      "              interaction_constraints=None, learning_rate=0.025, max_bin=None,\n",
      "              max_cat_to_onehot=None, max_delta_step=None, max_depth=8,\n",
      "              max_leaves=None, min_child_weight=None, missing=nan,\n",
      "              monotone_constraints=None, n_estimators=400, n_jobs=None,\n",
      "              num_parallel_tree=None, objective='multi:softmax', predictor=None,\n",
      "              random_state=None, reg_alpha=None, ...), mean_mfcc__kw_args={'sr': 16000, 'n_mfcc': 20, 'n_fft': 1024, 'hop_length': 128, 'fmin': 500.0, 'fmax': 3000.0}; total time= 1.2min\n"
     ]
    },
    {
     "name": "stderr",
     "output_type": "stream",
     "text": [
      "/Users/axel/.pyenv/versions/3.8.12/envs/us8kdata/lib/python3.8/site-packages/librosa/util/decorators.py:88: UserWarning: n_fft=1024 is too small for input signal of length=800\n",
      "  return f(*args, **kwargs)\n",
      "/Users/axel/.pyenv/versions/3.8.12/envs/us8kdata/lib/python3.8/site-packages/librosa/util/decorators.py:88: UserWarning: n_fft=1024 is too small for input signal of length=960\n",
      "  return f(*args, **kwargs)\n",
      "/Users/axel/.pyenv/versions/3.8.12/envs/us8kdata/lib/python3.8/site-packages/librosa/util/decorators.py:88: UserWarning: n_fft=1024 is too small for input signal of length=960\n",
      "  return f(*args, **kwargs)\n"
     ]
    },
    {
     "name": "stdout",
     "output_type": "stream",
     "text": [
      "[CV] END estimator=XGBClassifier(base_score=None, booster=None, callbacks=None,\n",
      "              colsample_bylevel=None, colsample_bynode=None,\n",
      "              colsample_bytree=None, early_stopping_rounds=None,\n",
      "              enable_categorical=False, eval_metric=None, gamma=None,\n",
      "              gpu_id=None, grow_policy=None, importance_type=None,\n",
      "              interaction_constraints=None, learning_rate=0.025, max_bin=None,\n",
      "              max_cat_to_onehot=None, max_delta_step=None, max_depth=8,\n",
      "              max_leaves=None, min_child_weight=None, missing=nan,\n",
      "              monotone_constraints=None, n_estimators=400, n_jobs=None,\n",
      "              num_parallel_tree=None, objective='multi:softmax', predictor=None,\n",
      "              random_state=None, reg_alpha=None, ...), mean_mfcc__kw_args={'sr': 16000, 'n_mfcc': 20, 'n_fft': 1024, 'hop_length': 128, 'fmin': 500.0, 'fmax': 4000.0}; total time= 1.2min\n"
     ]
    },
    {
     "name": "stderr",
     "output_type": "stream",
     "text": [
      "/Users/axel/.pyenv/versions/3.8.12/envs/us8kdata/lib/python3.8/site-packages/librosa/util/decorators.py:88: UserWarning: n_fft=1024 is too small for input signal of length=960\n",
      "  return f(*args, **kwargs)\n",
      "/Users/axel/.pyenv/versions/3.8.12/envs/us8kdata/lib/python3.8/site-packages/librosa/util/decorators.py:88: UserWarning: n_fft=1024 is too small for input signal of length=800\n",
      "  return f(*args, **kwargs)\n",
      "/Users/axel/.pyenv/versions/3.8.12/envs/us8kdata/lib/python3.8/site-packages/librosa/util/decorators.py:88: UserWarning: n_fft=1024 is too small for input signal of length=960\n",
      "  return f(*args, **kwargs)\n"
     ]
    },
    {
     "name": "stdout",
     "output_type": "stream",
     "text": [
      "[CV] END estimator=XGBClassifier(base_score=None, booster=None, callbacks=None,\n",
      "              colsample_bylevel=None, colsample_bynode=None,\n",
      "              colsample_bytree=None, early_stopping_rounds=None,\n",
      "              enable_categorical=False, eval_metric=None, gamma=None,\n",
      "              gpu_id=None, grow_policy=None, importance_type=None,\n",
      "              interaction_constraints=None, learning_rate=0.025, max_bin=None,\n",
      "              max_cat_to_onehot=None, max_delta_step=None, max_depth=8,\n",
      "              max_leaves=None, min_child_weight=None, missing=nan,\n",
      "              monotone_constraints=None, n_estimators=400, n_jobs=None,\n",
      "              num_parallel_tree=None, objective='multi:softmax', predictor=None,\n",
      "              random_state=None, reg_alpha=None, ...), mean_mfcc__kw_args={'sr': 16000, 'n_mfcc': 20, 'n_fft': 1024, 'hop_length': 128, 'fmin': 500.0, 'fmax': 4000.0}; total time= 1.2min\n"
     ]
    },
    {
     "name": "stderr",
     "output_type": "stream",
     "text": [
      "/Users/axel/.pyenv/versions/3.8.12/envs/us8kdata/lib/python3.8/site-packages/librosa/util/decorators.py:88: UserWarning: n_fft=1024 is too small for input signal of length=800\n",
      "  return f(*args, **kwargs)\n",
      "/Users/axel/.pyenv/versions/3.8.12/envs/us8kdata/lib/python3.8/site-packages/librosa/util/decorators.py:88: UserWarning: n_fft=1024 is too small for input signal of length=960\n",
      "  return f(*args, **kwargs)\n",
      "/Users/axel/.pyenv/versions/3.8.12/envs/us8kdata/lib/python3.8/site-packages/librosa/util/decorators.py:88: UserWarning: n_fft=1024 is too small for input signal of length=960\n",
      "  return f(*args, **kwargs)\n"
     ]
    },
    {
     "name": "stdout",
     "output_type": "stream",
     "text": [
      "[CV] END estimator=XGBClassifier(base_score=None, booster=None, callbacks=None,\n",
      "              colsample_bylevel=None, colsample_bynode=None,\n",
      "              colsample_bytree=None, early_stopping_rounds=None,\n",
      "              enable_categorical=False, eval_metric=None, gamma=None,\n",
      "              gpu_id=None, grow_policy=None, importance_type=None,\n",
      "              interaction_constraints=None, learning_rate=0.025, max_bin=None,\n",
      "              max_cat_to_onehot=None, max_delta_step=None, max_depth=8,\n",
      "              max_leaves=None, min_child_weight=None, missing=nan,\n",
      "              monotone_constraints=None, n_estimators=400, n_jobs=None,\n",
      "              num_parallel_tree=None, objective='multi:softmax', predictor=None,\n",
      "              random_state=None, reg_alpha=None, ...), mean_mfcc__kw_args={'sr': 16000, 'n_mfcc': 20, 'n_fft': 1024, 'hop_length': 128, 'fmin': 500.0, 'fmax': 5000.0}; total time= 1.2min\n"
     ]
    },
    {
     "name": "stderr",
     "output_type": "stream",
     "text": [
      "/Users/axel/.pyenv/versions/3.8.12/envs/us8kdata/lib/python3.8/site-packages/librosa/util/decorators.py:88: UserWarning: n_fft=1024 is too small for input signal of length=960\n",
      "  return f(*args, **kwargs)\n",
      "/Users/axel/.pyenv/versions/3.8.12/envs/us8kdata/lib/python3.8/site-packages/librosa/util/decorators.py:88: UserWarning: n_fft=1024 is too small for input signal of length=800\n",
      "  return f(*args, **kwargs)\n",
      "/Users/axel/.pyenv/versions/3.8.12/envs/us8kdata/lib/python3.8/site-packages/librosa/util/decorators.py:88: UserWarning: n_fft=1024 is too small for input signal of length=960\n",
      "  return f(*args, **kwargs)\n"
     ]
    },
    {
     "name": "stdout",
     "output_type": "stream",
     "text": [
      "[CV] END estimator=XGBClassifier(base_score=None, booster=None, callbacks=None,\n",
      "              colsample_bylevel=None, colsample_bynode=None,\n",
      "              colsample_bytree=None, early_stopping_rounds=None,\n",
      "              enable_categorical=False, eval_metric=None, gamma=None,\n",
      "              gpu_id=None, grow_policy=None, importance_type=None,\n",
      "              interaction_constraints=None, learning_rate=0.025, max_bin=None,\n",
      "              max_cat_to_onehot=None, max_delta_step=None, max_depth=8,\n",
      "              max_leaves=None, min_child_weight=None, missing=nan,\n",
      "              monotone_constraints=None, n_estimators=400, n_jobs=None,\n",
      "              num_parallel_tree=None, objective='multi:softmax', predictor=None,\n",
      "              random_state=None, reg_alpha=None, ...), mean_mfcc__kw_args={'sr': 16000, 'n_mfcc': 20, 'n_fft': 1024, 'hop_length': 128, 'fmin': 500.0, 'fmax': 5000.0}; total time= 1.3min\n"
     ]
    },
    {
     "name": "stderr",
     "output_type": "stream",
     "text": [
      "/Users/axel/.pyenv/versions/3.8.12/envs/us8kdata/lib/python3.8/site-packages/librosa/util/decorators.py:88: UserWarning: Empty filters detected in mel frequency basis. Some channels will produce empty responses. Try increasing your sampling rate (and fmax) or reducing n_mels.\n",
      "  return f(*args, **kwargs)\n"
     ]
    },
    {
     "name": "stdout",
     "output_type": "stream",
     "text": [
      "CPU times: user 2d 7h 28min 45s, sys: 13h 3min 21s, total: 2d 20h 32min 7s\n",
      "Wall time: 9h 9min 21s\n"
     ]
    }
   ],
   "source": [
    "%%time\n",
    "gs = GridSearchCV(oversampled_pipe, \n",
    "                  dict(mean_mfcc__kw_args=mean_mfcc_grid,\n",
    "                      estimator=xgb_grid), \n",
    "                  cv=2, verbose=2, n_jobs=1)\n",
    "gs_res = gs.fit(train_fold, train_y)"
   ]
  },
  {
   "cell_type": "code",
   "execution_count": 93,
   "id": "7e4fc619",
   "metadata": {},
   "outputs": [
    {
     "data": {
      "text/plain": [
       "{'estimator': XGBClassifier(base_score=None, booster=None, callbacks=None,\n",
       "               colsample_bylevel=None, colsample_bynode=None,\n",
       "               colsample_bytree=None, early_stopping_rounds=None,\n",
       "               enable_categorical=False, eval_metric=None, gamma=None,\n",
       "               gpu_id=None, grow_policy=None, importance_type=None,\n",
       "               interaction_constraints=None, learning_rate=0.05, max_bin=None,\n",
       "               max_cat_to_onehot=None, max_delta_step=None, max_depth=8,\n",
       "               max_leaves=None, min_child_weight=None, missing=nan,\n",
       "               monotone_constraints=None, n_estimators=400, n_jobs=None,\n",
       "               num_parallel_tree=None, objective='multi:softmax', predictor=None,\n",
       "               random_state=None, reg_alpha=None, ...),\n",
       " 'mean_mfcc__kw_args': {'sr': 16000,\n",
       "  'n_mfcc': 16,\n",
       "  'n_fft': 256,\n",
       "  'hop_length': 128,\n",
       "  'fmin': 0.0,\n",
       "  'fmax': 3000.0}}"
      ]
     },
     "execution_count": 93,
     "metadata": {},
     "output_type": "execute_result"
    }
   ],
   "source": [
    "gs_res.best_params_"
   ]
  },
  {
   "cell_type": "code",
   "execution_count": 94,
   "id": "b24bfb13",
   "metadata": {},
   "outputs": [
    {
     "name": "stderr",
     "output_type": "stream",
     "text": [
      "/Users/axel/.pyenv/versions/3.8.12/envs/us8kdata/lib/python3.8/site-packages/librosa/util/decorators.py:88: UserWarning: Empty filters detected in mel frequency basis. Some channels will produce empty responses. Try increasing your sampling rate (and fmax) or reducing n_mels.\n",
      "  return f(*args, **kwargs)\n"
     ]
    },
    {
     "name": "stdout",
     "output_type": "stream",
     "text": [
      "              precision    recall  f1-score   support\n",
      "\n",
      "           1       0.39      0.53      0.45        59\n",
      "           7       0.92      0.91      0.91       765\n",
      "           8       0.84      0.79      0.81       166\n",
      "\n",
      "    accuracy                           0.86       990\n",
      "   macro avg       0.72      0.74      0.72       990\n",
      "weighted avg       0.87      0.86      0.87       990\n",
      "\n",
      "              precision    recall  f1-score   support\n",
      "\n",
      "           0       0.47      0.20      0.28       100\n",
      "           1       0.39      0.53      0.45        59\n",
      "           2       0.40      0.49      0.44       100\n",
      "           3       0.50      0.77      0.60       100\n",
      "           4       0.63      0.54      0.58       100\n",
      "           5       0.37      0.24      0.29       107\n",
      "           6       0.75      0.63      0.69        38\n",
      "           7       0.24      0.07      0.11       120\n",
      "           8       0.84      0.79      0.81       166\n",
      "           9       0.24      0.49      0.32       100\n",
      "\n",
      "    accuracy                           0.47       990\n",
      "   macro avg       0.48      0.48      0.46       990\n",
      "weighted avg       0.49      0.47      0.46       990\n",
      "\n"
     ]
    },
    {
     "data": {
      "text/html": [
       "<div>\n",
       "<style scoped>\n",
       "    .dataframe tbody tr th:only-of-type {\n",
       "        vertical-align: middle;\n",
       "    }\n",
       "\n",
       "    .dataframe tbody tr th {\n",
       "        vertical-align: top;\n",
       "    }\n",
       "\n",
       "    .dataframe thead th {\n",
       "        text-align: right;\n",
       "    }\n",
       "</style>\n",
       "<table border=\"1\" class=\"dataframe\">\n",
       "  <thead>\n",
       "    <tr style=\"text-align: right;\">\n",
       "      <th></th>\n",
       "      <th>0</th>\n",
       "      <th>1</th>\n",
       "      <th>2</th>\n",
       "      <th>3</th>\n",
       "      <th>4</th>\n",
       "      <th>5</th>\n",
       "      <th>6</th>\n",
       "      <th>7</th>\n",
       "      <th>8</th>\n",
       "      <th>9</th>\n",
       "    </tr>\n",
       "  </thead>\n",
       "  <tbody>\n",
       "    <tr>\n",
       "      <th>0</th>\n",
       "      <td>20</td>\n",
       "      <td>10</td>\n",
       "      <td>32</td>\n",
       "      <td>0</td>\n",
       "      <td>13</td>\n",
       "      <td>4</td>\n",
       "      <td>0</td>\n",
       "      <td>0</td>\n",
       "      <td>0</td>\n",
       "      <td>21</td>\n",
       "    </tr>\n",
       "    <tr>\n",
       "      <th>1</th>\n",
       "      <td>2</td>\n",
       "      <td>31</td>\n",
       "      <td>1</td>\n",
       "      <td>5</td>\n",
       "      <td>8</td>\n",
       "      <td>1</td>\n",
       "      <td>0</td>\n",
       "      <td>3</td>\n",
       "      <td>1</td>\n",
       "      <td>7</td>\n",
       "    </tr>\n",
       "    <tr>\n",
       "      <th>2</th>\n",
       "      <td>4</td>\n",
       "      <td>0</td>\n",
       "      <td>49</td>\n",
       "      <td>17</td>\n",
       "      <td>3</td>\n",
       "      <td>3</td>\n",
       "      <td>5</td>\n",
       "      <td>1</td>\n",
       "      <td>0</td>\n",
       "      <td>18</td>\n",
       "    </tr>\n",
       "    <tr>\n",
       "      <th>3</th>\n",
       "      <td>0</td>\n",
       "      <td>0</td>\n",
       "      <td>7</td>\n",
       "      <td>77</td>\n",
       "      <td>2</td>\n",
       "      <td>0</td>\n",
       "      <td>3</td>\n",
       "      <td>0</td>\n",
       "      <td>6</td>\n",
       "      <td>5</td>\n",
       "    </tr>\n",
       "    <tr>\n",
       "      <th>4</th>\n",
       "      <td>2</td>\n",
       "      <td>7</td>\n",
       "      <td>1</td>\n",
       "      <td>5</td>\n",
       "      <td>54</td>\n",
       "      <td>1</td>\n",
       "      <td>0</td>\n",
       "      <td>20</td>\n",
       "      <td>0</td>\n",
       "      <td>10</td>\n",
       "    </tr>\n",
       "    <tr>\n",
       "      <th>5</th>\n",
       "      <td>6</td>\n",
       "      <td>1</td>\n",
       "      <td>9</td>\n",
       "      <td>2</td>\n",
       "      <td>0</td>\n",
       "      <td>26</td>\n",
       "      <td>0</td>\n",
       "      <td>0</td>\n",
       "      <td>12</td>\n",
       "      <td>51</td>\n",
       "    </tr>\n",
       "    <tr>\n",
       "      <th>6</th>\n",
       "      <td>0</td>\n",
       "      <td>0</td>\n",
       "      <td>5</td>\n",
       "      <td>4</td>\n",
       "      <td>0</td>\n",
       "      <td>0</td>\n",
       "      <td>24</td>\n",
       "      <td>3</td>\n",
       "      <td>0</td>\n",
       "      <td>2</td>\n",
       "    </tr>\n",
       "    <tr>\n",
       "      <th>7</th>\n",
       "      <td>4</td>\n",
       "      <td>24</td>\n",
       "      <td>4</td>\n",
       "      <td>0</td>\n",
       "      <td>5</td>\n",
       "      <td>30</td>\n",
       "      <td>0</td>\n",
       "      <td>9</td>\n",
       "      <td>0</td>\n",
       "      <td>44</td>\n",
       "    </tr>\n",
       "    <tr>\n",
       "      <th>8</th>\n",
       "      <td>0</td>\n",
       "      <td>0</td>\n",
       "      <td>5</td>\n",
       "      <td>30</td>\n",
       "      <td>0</td>\n",
       "      <td>0</td>\n",
       "      <td>0</td>\n",
       "      <td>0</td>\n",
       "      <td>131</td>\n",
       "      <td>0</td>\n",
       "    </tr>\n",
       "    <tr>\n",
       "      <th>9</th>\n",
       "      <td>5</td>\n",
       "      <td>6</td>\n",
       "      <td>11</td>\n",
       "      <td>15</td>\n",
       "      <td>1</td>\n",
       "      <td>6</td>\n",
       "      <td>0</td>\n",
       "      <td>1</td>\n",
       "      <td>6</td>\n",
       "      <td>49</td>\n",
       "    </tr>\n",
       "  </tbody>\n",
       "</table>\n",
       "</div>"
      ],
      "text/plain": [
       "    0   1   2   3   4   5   6   7    8   9\n",
       "0  20  10  32   0  13   4   0   0    0  21\n",
       "1   2  31   1   5   8   1   0   3    1   7\n",
       "2   4   0  49  17   3   3   5   1    0  18\n",
       "3   0   0   7  77   2   0   3   0    6   5\n",
       "4   2   7   1   5  54   1   0  20    0  10\n",
       "5   6   1   9   2   0  26   0   0   12  51\n",
       "6   0   0   5   4   0   0  24   3    0   2\n",
       "7   4  24   4   0   5  30   0   9    0  44\n",
       "8   0   0   5  30   0   0   0   0  131   0\n",
       "9   5   6  11  15   1   6   0   1    6  49"
      ]
     },
     "execution_count": 94,
     "metadata": {},
     "output_type": "execute_result"
    }
   ],
   "source": [
    "xgb_gs_val_pred = gs.best_estimator_.predict(val_fold)\n",
    "print(classification_report(\n",
    "    combine_classes([1, 8], val_y),\n",
    "    combine_classes([1, 8], xgb_gs_val_pred)\n",
    "))\n",
    "print(classification_report(\n",
    "     val_y, \n",
    "    xgb_gs_val_pred))\n",
    "pd.DataFrame(confusion_matrix(val_y, xgb_gs_val_pred),\n",
    "             index=[0,1,2,3,4,5,6,7,8,9], \n",
    "             columns=[0,1,2,3,4,5,6,7,8,9])"
   ]
  },
  {
   "cell_type": "code",
   "execution_count": 95,
   "id": "c60103ef",
   "metadata": {},
   "outputs": [
    {
     "name": "stderr",
     "output_type": "stream",
     "text": [
      "/Users/axel/.pyenv/versions/3.8.12/envs/us8kdata/lib/python3.8/site-packages/librosa/util/decorators.py:88: UserWarning: Empty filters detected in mel frequency basis. Some channels will produce empty responses. Try increasing your sampling rate (and fmax) or reducing n_mels.\n",
      "  return f(*args, **kwargs)\n"
     ]
    },
    {
     "data": {
      "text/html": [
       "<style>#sk-container-id-13 {color: black;background-color: white;}#sk-container-id-13 pre{padding: 0;}#sk-container-id-13 div.sk-toggleable {background-color: white;}#sk-container-id-13 label.sk-toggleable__label {cursor: pointer;display: block;width: 100%;margin-bottom: 0;padding: 0.3em;box-sizing: border-box;text-align: center;}#sk-container-id-13 label.sk-toggleable__label-arrow:before {content: \"▸\";float: left;margin-right: 0.25em;color: #696969;}#sk-container-id-13 label.sk-toggleable__label-arrow:hover:before {color: black;}#sk-container-id-13 div.sk-estimator:hover label.sk-toggleable__label-arrow:before {color: black;}#sk-container-id-13 div.sk-toggleable__content {max-height: 0;max-width: 0;overflow: hidden;text-align: left;background-color: #f0f8ff;}#sk-container-id-13 div.sk-toggleable__content pre {margin: 0.2em;color: black;border-radius: 0.25em;background-color: #f0f8ff;}#sk-container-id-13 input.sk-toggleable__control:checked~div.sk-toggleable__content {max-height: 200px;max-width: 100%;overflow: auto;}#sk-container-id-13 input.sk-toggleable__control:checked~label.sk-toggleable__label-arrow:before {content: \"▾\";}#sk-container-id-13 div.sk-estimator input.sk-toggleable__control:checked~label.sk-toggleable__label {background-color: #d4ebff;}#sk-container-id-13 div.sk-label input.sk-toggleable__control:checked~label.sk-toggleable__label {background-color: #d4ebff;}#sk-container-id-13 input.sk-hidden--visually {border: 0;clip: rect(1px 1px 1px 1px);clip: rect(1px, 1px, 1px, 1px);height: 1px;margin: -1px;overflow: hidden;padding: 0;position: absolute;width: 1px;}#sk-container-id-13 div.sk-estimator {font-family: monospace;background-color: #f0f8ff;border: 1px dotted black;border-radius: 0.25em;box-sizing: border-box;margin-bottom: 0.5em;}#sk-container-id-13 div.sk-estimator:hover {background-color: #d4ebff;}#sk-container-id-13 div.sk-parallel-item::after {content: \"\";width: 100%;border-bottom: 1px solid gray;flex-grow: 1;}#sk-container-id-13 div.sk-label:hover label.sk-toggleable__label {background-color: #d4ebff;}#sk-container-id-13 div.sk-serial::before {content: \"\";position: absolute;border-left: 1px solid gray;box-sizing: border-box;top: 0;bottom: 0;left: 50%;z-index: 0;}#sk-container-id-13 div.sk-serial {display: flex;flex-direction: column;align-items: center;background-color: white;padding-right: 0.2em;padding-left: 0.2em;position: relative;}#sk-container-id-13 div.sk-item {position: relative;z-index: 1;}#sk-container-id-13 div.sk-parallel {display: flex;align-items: stretch;justify-content: center;background-color: white;position: relative;}#sk-container-id-13 div.sk-item::before, #sk-container-id-13 div.sk-parallel-item::before {content: \"\";position: absolute;border-left: 1px solid gray;box-sizing: border-box;top: 0;bottom: 0;left: 50%;z-index: -1;}#sk-container-id-13 div.sk-parallel-item {display: flex;flex-direction: column;z-index: 1;position: relative;background-color: white;}#sk-container-id-13 div.sk-parallel-item:first-child::after {align-self: flex-end;width: 50%;}#sk-container-id-13 div.sk-parallel-item:last-child::after {align-self: flex-start;width: 50%;}#sk-container-id-13 div.sk-parallel-item:only-child::after {width: 0;}#sk-container-id-13 div.sk-dashed-wrapped {border: 1px dashed gray;margin: 0 0.4em 0.5em 0.4em;box-sizing: border-box;padding-bottom: 0.4em;background-color: white;}#sk-container-id-13 div.sk-label label {font-family: monospace;font-weight: bold;display: inline-block;line-height: 1.2em;}#sk-container-id-13 div.sk-label-container {text-align: center;}#sk-container-id-13 div.sk-container {/* jupyter's `normalize.less` sets `[hidden] { display: none; }` but bootstrap.min.css set `[hidden] { display: none !important; }` so we also need the `!important` here to be able to override the default hidden behavior on the sphinx rendered scikit-learn.org. See: https://github.com/scikit-learn/scikit-learn/issues/21755 */display: inline-block !important;position: relative;}#sk-container-id-13 div.sk-text-repr-fallback {display: none;}</style><div id=\"sk-container-id-13\" class=\"sk-top-container\"><div class=\"sk-text-repr-fallback\"><pre>Pipeline(steps=[(&#x27;pad&#x27;,\n",
       "                 FunctionTransformer(func=&lt;function np_pad_wrapper at 0x1634f1310&gt;,\n",
       "                                     kw_args={&#x27;max_len&#x27;: 64000})),\n",
       "                (&#x27;over_sampler&#x27;,\n",
       "                 AugmentingRandomOversampler(sampling_strategy=&#x27;minority&#x27;)),\n",
       "                (&#x27;mean_mfcc&#x27;,\n",
       "                 FunctionTransformer(func=&lt;function samples_to_mean_mfcc at 0x1635e2d30&gt;,\n",
       "                                     kw_args={&#x27;fmax&#x27;: 3000.0, &#x27;fmin&#x27;: 0.0,\n",
       "                                              &#x27;hop_length&#x27;: 128, &#x27;n_fft&#x27;: 256,\n",
       "                                              &#x27;n_mfcc&#x27;: 16, &#x27;sr&#x27;...\n",
       "                               gamma=0, gpu_id=-1, grow_policy=&#x27;depthwise&#x27;,\n",
       "                               importance_type=None, interaction_constraints=&#x27;&#x27;,\n",
       "                               learning_rate=0.05, max_bin=256,\n",
       "                               max_cat_to_onehot=4, max_delta_step=0,\n",
       "                               max_depth=8, max_leaves=0, min_child_weight=1,\n",
       "                               missing=nan, monotone_constraints=&#x27;()&#x27;,\n",
       "                               n_estimators=400, n_jobs=0, num_parallel_tree=1,\n",
       "                               objective=&#x27;multi:softmax&#x27;, predictor=&#x27;auto&#x27;,\n",
       "                               random_state=0, reg_alpha=0, ...))])</pre><b>In a Jupyter environment, please rerun this cell to show the HTML representation or trust the notebook. <br />On GitHub, the HTML representation is unable to render, please try loading this page with nbviewer.org.</b></div><div class=\"sk-container\" hidden><div class=\"sk-item sk-dashed-wrapped\"><div class=\"sk-label-container\"><div class=\"sk-label sk-toggleable\"><input class=\"sk-toggleable__control sk-hidden--visually\" id=\"sk-estimator-id-58\" type=\"checkbox\" ><label for=\"sk-estimator-id-58\" class=\"sk-toggleable__label sk-toggleable__label-arrow\">Pipeline</label><div class=\"sk-toggleable__content\"><pre>Pipeline(steps=[(&#x27;pad&#x27;,\n",
       "                 FunctionTransformer(func=&lt;function np_pad_wrapper at 0x1634f1310&gt;,\n",
       "                                     kw_args={&#x27;max_len&#x27;: 64000})),\n",
       "                (&#x27;over_sampler&#x27;,\n",
       "                 AugmentingRandomOversampler(sampling_strategy=&#x27;minority&#x27;)),\n",
       "                (&#x27;mean_mfcc&#x27;,\n",
       "                 FunctionTransformer(func=&lt;function samples_to_mean_mfcc at 0x1635e2d30&gt;,\n",
       "                                     kw_args={&#x27;fmax&#x27;: 3000.0, &#x27;fmin&#x27;: 0.0,\n",
       "                                              &#x27;hop_length&#x27;: 128, &#x27;n_fft&#x27;: 256,\n",
       "                                              &#x27;n_mfcc&#x27;: 16, &#x27;sr&#x27;...\n",
       "                               gamma=0, gpu_id=-1, grow_policy=&#x27;depthwise&#x27;,\n",
       "                               importance_type=None, interaction_constraints=&#x27;&#x27;,\n",
       "                               learning_rate=0.05, max_bin=256,\n",
       "                               max_cat_to_onehot=4, max_delta_step=0,\n",
       "                               max_depth=8, max_leaves=0, min_child_weight=1,\n",
       "                               missing=nan, monotone_constraints=&#x27;()&#x27;,\n",
       "                               n_estimators=400, n_jobs=0, num_parallel_tree=1,\n",
       "                               objective=&#x27;multi:softmax&#x27;, predictor=&#x27;auto&#x27;,\n",
       "                               random_state=0, reg_alpha=0, ...))])</pre></div></div></div><div class=\"sk-serial\"><div class=\"sk-item\"><div class=\"sk-estimator sk-toggleable\"><input class=\"sk-toggleable__control sk-hidden--visually\" id=\"sk-estimator-id-59\" type=\"checkbox\" ><label for=\"sk-estimator-id-59\" class=\"sk-toggleable__label sk-toggleable__label-arrow\">FunctionTransformer</label><div class=\"sk-toggleable__content\"><pre>FunctionTransformer(func=&lt;function np_pad_wrapper at 0x1634f1310&gt;,\n",
       "                    kw_args={&#x27;max_len&#x27;: 64000})</pre></div></div></div><div class=\"sk-item\"><div class=\"sk-estimator sk-toggleable\"><input class=\"sk-toggleable__control sk-hidden--visually\" id=\"sk-estimator-id-60\" type=\"checkbox\" ><label for=\"sk-estimator-id-60\" class=\"sk-toggleable__label sk-toggleable__label-arrow\">AugmentingRandomOversampler</label><div class=\"sk-toggleable__content\"><pre>AugmentingRandomOversampler(sampling_strategy=&#x27;minority&#x27;)</pre></div></div></div><div class=\"sk-item\"><div class=\"sk-estimator sk-toggleable\"><input class=\"sk-toggleable__control sk-hidden--visually\" id=\"sk-estimator-id-61\" type=\"checkbox\" ><label for=\"sk-estimator-id-61\" class=\"sk-toggleable__label sk-toggleable__label-arrow\">FunctionTransformer</label><div class=\"sk-toggleable__content\"><pre>FunctionTransformer(func=&lt;function samples_to_mean_mfcc at 0x1635e2d30&gt;,\n",
       "                    kw_args={&#x27;fmax&#x27;: 3000.0, &#x27;fmin&#x27;: 0.0, &#x27;hop_length&#x27;: 128,\n",
       "                             &#x27;n_fft&#x27;: 256, &#x27;n_mfcc&#x27;: 16, &#x27;sr&#x27;: 16000})</pre></div></div></div><div class=\"sk-item\"><div class=\"sk-estimator sk-toggleable\"><input class=\"sk-toggleable__control sk-hidden--visually\" id=\"sk-estimator-id-62\" type=\"checkbox\" ><label for=\"sk-estimator-id-62\" class=\"sk-toggleable__label sk-toggleable__label-arrow\">StandardScaler</label><div class=\"sk-toggleable__content\"><pre>StandardScaler()</pre></div></div></div><div class=\"sk-item\"><div class=\"sk-estimator sk-toggleable\"><input class=\"sk-toggleable__control sk-hidden--visually\" id=\"sk-estimator-id-63\" type=\"checkbox\" ><label for=\"sk-estimator-id-63\" class=\"sk-toggleable__label sk-toggleable__label-arrow\">XGBClassifier</label><div class=\"sk-toggleable__content\"><pre>XGBClassifier(base_score=0.5, booster=&#x27;gbtree&#x27;, callbacks=None,\n",
       "              colsample_bylevel=1, colsample_bynode=1, colsample_bytree=1,\n",
       "              early_stopping_rounds=None, enable_categorical=False,\n",
       "              eval_metric=None, gamma=0, gpu_id=-1, grow_policy=&#x27;depthwise&#x27;,\n",
       "              importance_type=None, interaction_constraints=&#x27;&#x27;,\n",
       "              learning_rate=0.05, max_bin=256, max_cat_to_onehot=4,\n",
       "              max_delta_step=0, max_depth=8, max_leaves=0, min_child_weight=1,\n",
       "              missing=nan, monotone_constraints=&#x27;()&#x27;, n_estimators=400,\n",
       "              n_jobs=0, num_parallel_tree=1, objective=&#x27;multi:softmax&#x27;,\n",
       "              predictor=&#x27;auto&#x27;, random_state=0, reg_alpha=0, ...)</pre></div></div></div></div></div></div></div>"
      ],
      "text/plain": [
       "Pipeline(steps=[('pad',\n",
       "                 FunctionTransformer(func=<function np_pad_wrapper at 0x1634f1310>,\n",
       "                                     kw_args={'max_len': 64000})),\n",
       "                ('over_sampler',\n",
       "                 AugmentingRandomOversampler(sampling_strategy='minority')),\n",
       "                ('mean_mfcc',\n",
       "                 FunctionTransformer(func=<function samples_to_mean_mfcc at 0x1635e2d30>,\n",
       "                                     kw_args={'fmax': 3000.0, 'fmin': 0.0,\n",
       "                                              'hop_length': 128, 'n_fft': 256,\n",
       "                                              'n_mfcc': 16, 'sr'...\n",
       "                               gamma=0, gpu_id=-1, grow_policy='depthwise',\n",
       "                               importance_type=None, interaction_constraints='',\n",
       "                               learning_rate=0.05, max_bin=256,\n",
       "                               max_cat_to_onehot=4, max_delta_step=0,\n",
       "                               max_depth=8, max_leaves=0, min_child_weight=1,\n",
       "                               missing=nan, monotone_constraints='()',\n",
       "                               n_estimators=400, n_jobs=0, num_parallel_tree=1,\n",
       "                               objective='multi:softmax', predictor='auto',\n",
       "                               random_state=0, reg_alpha=0, ...))])"
      ]
     },
     "execution_count": 95,
     "metadata": {},
     "output_type": "execute_result"
    }
   ],
   "source": [
    "post_search_pipeline = make_oversampled_feature_pipeline()\n",
    "post_search_pipeline.set_params(**gs.best_params_)\n",
    "post_search_pipeline.fit(train_fold, train_y)"
   ]
  },
  {
   "cell_type": "code",
   "execution_count": 96,
   "id": "0d4d1e83",
   "metadata": {},
   "outputs": [
    {
     "name": "stderr",
     "output_type": "stream",
     "text": [
      "/Users/axel/.pyenv/versions/3.8.12/envs/us8kdata/lib/python3.8/site-packages/librosa/util/decorators.py:88: UserWarning: Empty filters detected in mel frequency basis. Some channels will produce empty responses. Try increasing your sampling rate (and fmax) or reducing n_mels.\n",
      "  return f(*args, **kwargs)\n"
     ]
    },
    {
     "name": "stdout",
     "output_type": "stream",
     "text": [
      "              precision    recall  f1-score   support\n",
      "\n",
      "           1       0.39      0.54      0.45        59\n",
      "           7       0.92      0.91      0.91       765\n",
      "           8       0.86      0.78      0.82       166\n",
      "\n",
      "    accuracy                           0.86       990\n",
      "   macro avg       0.72      0.74      0.73       990\n",
      "weighted avg       0.88      0.86      0.87       990\n",
      "\n",
      "              precision    recall  f1-score   support\n",
      "\n",
      "           0       0.48      0.21      0.29       100\n",
      "           1       0.39      0.54      0.45        59\n",
      "           2       0.39      0.47      0.43       100\n",
      "           3       0.49      0.77      0.60       100\n",
      "           4       0.62      0.55      0.58       100\n",
      "           5       0.39      0.24      0.30       107\n",
      "           6       0.73      0.63      0.68        38\n",
      "           7       0.27      0.09      0.14       120\n",
      "           8       0.86      0.78      0.82       166\n",
      "           9       0.25      0.51      0.34       100\n",
      "\n",
      "    accuracy                           0.48       990\n",
      "   macro avg       0.49      0.48      0.46       990\n",
      "weighted avg       0.49      0.48      0.46       990\n",
      "\n"
     ]
    },
    {
     "data": {
      "text/html": [
       "<div>\n",
       "<style scoped>\n",
       "    .dataframe tbody tr th:only-of-type {\n",
       "        vertical-align: middle;\n",
       "    }\n",
       "\n",
       "    .dataframe tbody tr th {\n",
       "        vertical-align: top;\n",
       "    }\n",
       "\n",
       "    .dataframe thead th {\n",
       "        text-align: right;\n",
       "    }\n",
       "</style>\n",
       "<table border=\"1\" class=\"dataframe\">\n",
       "  <thead>\n",
       "    <tr style=\"text-align: right;\">\n",
       "      <th></th>\n",
       "      <th>0</th>\n",
       "      <th>1</th>\n",
       "      <th>2</th>\n",
       "      <th>3</th>\n",
       "      <th>4</th>\n",
       "      <th>5</th>\n",
       "      <th>6</th>\n",
       "      <th>7</th>\n",
       "      <th>8</th>\n",
       "      <th>9</th>\n",
       "    </tr>\n",
       "  </thead>\n",
       "  <tbody>\n",
       "    <tr>\n",
       "      <th>0</th>\n",
       "      <td>21</td>\n",
       "      <td>11</td>\n",
       "      <td>31</td>\n",
       "      <td>0</td>\n",
       "      <td>8</td>\n",
       "      <td>3</td>\n",
       "      <td>0</td>\n",
       "      <td>2</td>\n",
       "      <td>0</td>\n",
       "      <td>24</td>\n",
       "    </tr>\n",
       "    <tr>\n",
       "      <th>1</th>\n",
       "      <td>2</td>\n",
       "      <td>32</td>\n",
       "      <td>1</td>\n",
       "      <td>4</td>\n",
       "      <td>7</td>\n",
       "      <td>0</td>\n",
       "      <td>0</td>\n",
       "      <td>4</td>\n",
       "      <td>1</td>\n",
       "      <td>8</td>\n",
       "    </tr>\n",
       "    <tr>\n",
       "      <th>2</th>\n",
       "      <td>5</td>\n",
       "      <td>0</td>\n",
       "      <td>47</td>\n",
       "      <td>19</td>\n",
       "      <td>6</td>\n",
       "      <td>2</td>\n",
       "      <td>6</td>\n",
       "      <td>1</td>\n",
       "      <td>0</td>\n",
       "      <td>14</td>\n",
       "    </tr>\n",
       "    <tr>\n",
       "      <th>3</th>\n",
       "      <td>0</td>\n",
       "      <td>1</td>\n",
       "      <td>6</td>\n",
       "      <td>77</td>\n",
       "      <td>3</td>\n",
       "      <td>0</td>\n",
       "      <td>3</td>\n",
       "      <td>0</td>\n",
       "      <td>5</td>\n",
       "      <td>5</td>\n",
       "    </tr>\n",
       "    <tr>\n",
       "      <th>4</th>\n",
       "      <td>2</td>\n",
       "      <td>4</td>\n",
       "      <td>2</td>\n",
       "      <td>6</td>\n",
       "      <td>55</td>\n",
       "      <td>2</td>\n",
       "      <td>0</td>\n",
       "      <td>19</td>\n",
       "      <td>0</td>\n",
       "      <td>10</td>\n",
       "    </tr>\n",
       "    <tr>\n",
       "      <th>5</th>\n",
       "      <td>6</td>\n",
       "      <td>11</td>\n",
       "      <td>8</td>\n",
       "      <td>4</td>\n",
       "      <td>0</td>\n",
       "      <td>26</td>\n",
       "      <td>0</td>\n",
       "      <td>0</td>\n",
       "      <td>10</td>\n",
       "      <td>42</td>\n",
       "    </tr>\n",
       "    <tr>\n",
       "      <th>6</th>\n",
       "      <td>0</td>\n",
       "      <td>0</td>\n",
       "      <td>5</td>\n",
       "      <td>4</td>\n",
       "      <td>0</td>\n",
       "      <td>0</td>\n",
       "      <td>24</td>\n",
       "      <td>3</td>\n",
       "      <td>0</td>\n",
       "      <td>2</td>\n",
       "    </tr>\n",
       "    <tr>\n",
       "      <th>7</th>\n",
       "      <td>3</td>\n",
       "      <td>17</td>\n",
       "      <td>4</td>\n",
       "      <td>0</td>\n",
       "      <td>10</td>\n",
       "      <td>28</td>\n",
       "      <td>0</td>\n",
       "      <td>11</td>\n",
       "      <td>0</td>\n",
       "      <td>47</td>\n",
       "    </tr>\n",
       "    <tr>\n",
       "      <th>8</th>\n",
       "      <td>0</td>\n",
       "      <td>0</td>\n",
       "      <td>6</td>\n",
       "      <td>29</td>\n",
       "      <td>0</td>\n",
       "      <td>0</td>\n",
       "      <td>0</td>\n",
       "      <td>0</td>\n",
       "      <td>130</td>\n",
       "      <td>1</td>\n",
       "    </tr>\n",
       "    <tr>\n",
       "      <th>9</th>\n",
       "      <td>5</td>\n",
       "      <td>6</td>\n",
       "      <td>11</td>\n",
       "      <td>15</td>\n",
       "      <td>0</td>\n",
       "      <td>5</td>\n",
       "      <td>0</td>\n",
       "      <td>1</td>\n",
       "      <td>6</td>\n",
       "      <td>51</td>\n",
       "    </tr>\n",
       "  </tbody>\n",
       "</table>\n",
       "</div>"
      ],
      "text/plain": [
       "    0   1   2   3   4   5   6   7    8   9\n",
       "0  21  11  31   0   8   3   0   2    0  24\n",
       "1   2  32   1   4   7   0   0   4    1   8\n",
       "2   5   0  47  19   6   2   6   1    0  14\n",
       "3   0   1   6  77   3   0   3   0    5   5\n",
       "4   2   4   2   6  55   2   0  19    0  10\n",
       "5   6  11   8   4   0  26   0   0   10  42\n",
       "6   0   0   5   4   0   0  24   3    0   2\n",
       "7   3  17   4   0  10  28   0  11    0  47\n",
       "8   0   0   6  29   0   0   0   0  130   1\n",
       "9   5   6  11  15   0   5   0   1    6  51"
      ]
     },
     "execution_count": 96,
     "metadata": {},
     "output_type": "execute_result"
    }
   ],
   "source": [
    "xgb_ps_val_pred = post_search_pipeline.predict(val_fold)\n",
    "print(classification_report(\n",
    "    combine_classes([1, 8], val_y),\n",
    "    combine_classes([1, 8], xgb_ps_val_pred)\n",
    "))\n",
    "print(classification_report(\n",
    "     val_y, \n",
    "    xgb_ps_val_pred))\n",
    "pd.DataFrame(confusion_matrix(val_y, xgb_ps_val_pred),\n",
    "             index=[0,1,2,3,4,5,6,7,8,9], \n",
    "             columns=[0,1,2,3,4,5,6,7,8,9])"
   ]
  },
  {
   "cell_type": "markdown",
   "id": "2b73154f",
   "metadata": {},
   "source": [
    "## VGGish"
   ]
  },
  {
   "cell_type": "markdown",
   "id": "f30ad74c",
   "metadata": {},
   "source": [
    "# Sequence of samples classification\n",
    "Model architectures for treating each file as a sequence of sample frames, making the classification either based on a subset or on the frame as a whole."
   ]
  },
  {
   "cell_type": "markdown",
   "id": "eb6af707",
   "metadata": {},
   "source": [
    "## HMM"
   ]
  },
  {
   "cell_type": "markdown",
   "id": "0322aea7",
   "metadata": {},
   "source": [
    "## RNN"
   ]
  },
  {
   "cell_type": "code",
   "execution_count": null,
   "id": "bd28cc30",
   "metadata": {},
   "outputs": [],
   "source": []
  }
 ],
 "metadata": {
  "kernelspec": {
   "display_name": "Python 3 (ipykernel)",
   "language": "python",
   "name": "python3"
  },
  "language_info": {
   "codemirror_mode": {
    "name": "ipython",
    "version": 3
   },
   "file_extension": ".py",
   "mimetype": "text/x-python",
   "name": "python",
   "nbconvert_exporter": "python",
   "pygments_lexer": "ipython3",
   "version": "3.8.12"
  },
  "toc": {
   "base_numbering": 1,
   "nav_menu": {},
   "number_sections": true,
   "sideBar": true,
   "skip_h1_title": false,
   "title_cell": "Table of Contents",
   "title_sidebar": "Contents",
   "toc_cell": false,
   "toc_position": {},
   "toc_section_display": true,
   "toc_window_display": false
  }
 },
 "nbformat": 4,
 "nbformat_minor": 5
}
